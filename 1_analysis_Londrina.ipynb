{
 "cells": [
  {
   "cell_type": "markdown",
   "metadata": {
    "hide_input": true
   },
   "source": [
    "# ANÁLISE INDUSTRIAL\n",
    "\n",
    "Este Notebook é um documento dinâmico para **análise das indústrias** nos **espaços metropolitanos Brasileiros** segundo seu **nível de tecnologia**. O documento compõe parte dos estudos do projeto de identificação da **capacidade de aprendizado e inovação** nos contextos econômicos dos espaços metropolitanos brasileiros. Outros notebooks dessa série envolvem\n",
    "análises sobre os **serviços, segundo sua intensidade de conhecimento aplicado**, a participação de **pessoal técnico-científico** no mercado de trabalho; a contratação de **pessoal com alto nível de formação** (mestrado e doutorado); a estrutura científica, por **métricas de produção da pós-graduação**; a estrutura de **cooperação formal entre organizações** do sistema de inovação.\n",
    "\n",
    "Neste documento, são apresentados gráficos e tabelas que servirão como elemento de análise e que acompanharão, como referência externa,  artigos e outros tipos de comunicações dos resultados da pesquisa. Os produtos tabulares e gráficos foram desenvolvidos por funções, na linguagem Python, que se encontram armazenadas no subpacote analytics_industries do pacote app_rais, onde o código-fonte pode ser consultado para fins de validação e replicação.\n",
    "\n",
    "\n",
    "De maneira geral, os produtos analíticos expostos a seguir permitem identificar:\n",
    "\n",
    "* o pessoal ocupado na indústria e a sua proporção entre diferentes níveis tecnológicos em cada espaço metropolitano;\n",
    "* a concentração metropolitana do pessoal ocupado no parque industrial de cada unidade da federação;\n",
    "* a evolução do pessoal ocupado nas indústrias, por nível tecnológico, entre 2007 e 2017, em cada espaço metropolitano e no seu total;\n",
    "* a evoluçaõ da participação relativa do pessoal ocupado nas indústrias, entre 2007 e 2017, em cada espaço metropolitano e no seu total.\n",
    "\n",
    "Os dados sob análise são oriundos do [servidor de Microdados da Relação Anual de Informações Sociais - RAIS](http://pdet.mte.gov.br/microdados-rais-e-caged). Detalhes técnicos sobre os registros dessa base podem ser encontrados no notebook desta série dedicado à coleta e tratamento de dados. Importa ressaltar aqui que, com vistas à concisão textual, o a soma dos registros de trabalho formal é chamada aqui de pessoal ocupado. A rigor, esse não é sempre o caso, uma vez um mesmo trabalhador pode ter dois registros de trabalho. Isso significa que não há uma correspondência perfeita entre o termo pessoal ocupado utilizado neste documento e o conceito de pessoal ocupado, tal como aquele presente em estudos consagrados sobre o mercado de trabalho, como a Pesquisa Nacional por Amostra Domiciliar Contínua - PNAD Contínua, do Instituto Brasileiro de Geografia e Estatística."
   ]
  },
  {
   "cell_type": "markdown",
   "metadata": {},
   "source": [
    "## Preparação do Notebook para Análise e Interatividade"
   ]
  },
  {
   "cell_type": "markdown",
   "metadata": {},
   "source": [
    "Com a finalidade de desenvolverr os gráficos e tabelas neste notebook, os seguintes pacotes e módulos Python foram importados e configurados:"
   ]
  },
  {
   "cell_type": "code",
   "execution_count": 1,
   "metadata": {
    "ExecuteTime": {
     "end_time": "2020-10-15T23:06:06.038129Z",
     "start_time": "2020-10-15T23:05:55.395789Z"
    }
   },
   "outputs": [
    {
     "name": "stdout",
     "output_type": "stream",
     "text": [
      "The bamboolib extension was disabled. You can enable it again via 'bam.enable()'. In case that bamboolib was not helpful to you, we are sorry and would like to fix this. Please write us a quick mail to info@8080labs.com so that we can serve you better in the future. Best regards, Tobias and Florian\n"
     ]
    }
   ],
   "source": [
    "import numpy as np\n",
    "import pandas as pd\n",
    "from pandas.api.types import CategoricalDtype\n",
    "pd.options.display.float_format = '{:,.2f}'.format\n",
    "pd.options.display.max_rows = 200\n",
    "import plotly.express as px\n",
    "import app_rais.dicts_constants as dc\n",
    "import app_rais.analytics_industries as ind\n",
    "import bamboolib as bam;\n",
    "bam.disable();"
   ]
  },
  {
   "cell_type": "markdown",
   "metadata": {},
   "source": [
    "## Concentração Metropolitana  de Indústrias segundo Níveis Tecnológicos  "
   ]
  },
  {
   "cell_type": "markdown",
   "metadata": {
    "hide_input": false
   },
   "source": [
    "**Tabela 1 - Pessoal Formalmente Ocupado nos Setores Industriais Segundo Nível Tecnológico em 2018**"
   ]
  },
  {
   "cell_type": "code",
   "execution_count": 10,
   "metadata": {
    "ExecuteTime": {
     "end_time": "2020-10-15T23:06:06.597970Z",
     "start_time": "2020-10-15T23:06:06.045113Z"
    },
    "hide_input": false,
    "scrolled": true
   },
   "outputs": [
    {
     "data": {
      "text/html": [
       "<div>\n",
       "<style scoped>\n",
       "    .dataframe tbody tr th:only-of-type {\n",
       "        vertical-align: middle;\n",
       "    }\n",
       "\n",
       "    .dataframe tbody tr th {\n",
       "        vertical-align: top;\n",
       "    }\n",
       "\n",
       "    .dataframe thead th {\n",
       "        text-align: right;\n",
       "    }\n",
       "</style>\n",
       "<table border=\"1\" class=\"dataframe\">\n",
       "  <thead>\n",
       "    <tr style=\"text-align: right;\">\n",
       "      <th></th>\n",
       "      <th></th>\n",
       "      <th></th>\n",
       "      <th>PO</th>\n",
       "      <th>PO estadual</th>\n",
       "      <th>Participação Metropolitana (%)</th>\n",
       "      <th>Participação Estadual (%)</th>\n",
       "    </tr>\n",
       "    <tr>\n",
       "      <th>UF</th>\n",
       "      <th>Território</th>\n",
       "      <th>Nível Tecnológico</th>\n",
       "      <th></th>\n",
       "      <th></th>\n",
       "      <th></th>\n",
       "      <th></th>\n",
       "    </tr>\n",
       "  </thead>\n",
       "  <tbody>\n",
       "    <tr>\n",
       "      <th rowspan=\"16\" valign=\"top\">PR</th>\n",
       "      <th rowspan=\"4\" valign=\"top\">Arranjo Populacional de Londrina/PR</th>\n",
       "      <th>High-technology</th>\n",
       "      <td>1125</td>\n",
       "      <td>13142</td>\n",
       "      <td>3.72</td>\n",
       "      <td>8.56</td>\n",
       "    </tr>\n",
       "    <tr>\n",
       "      <th>Medium-high-technology</th>\n",
       "      <td>7082</td>\n",
       "      <td>115857</td>\n",
       "      <td>23.42</td>\n",
       "      <td>6.11</td>\n",
       "    </tr>\n",
       "    <tr>\n",
       "      <th>Medium-low-technology</th>\n",
       "      <td>7961</td>\n",
       "      <td>109630</td>\n",
       "      <td>26.33</td>\n",
       "      <td>7.26</td>\n",
       "    </tr>\n",
       "    <tr>\n",
       "      <th>Low-technology</th>\n",
       "      <td>14070</td>\n",
       "      <td>370488</td>\n",
       "      <td>46.53</td>\n",
       "      <td>3.80</td>\n",
       "    </tr>\n",
       "    <tr>\n",
       "      <th rowspan=\"4\" valign=\"top\">Arranjo Populacional de Maringá/PR</th>\n",
       "      <th>High-technology</th>\n",
       "      <td>731</td>\n",
       "      <td>13142</td>\n",
       "      <td>2.05</td>\n",
       "      <td>5.56</td>\n",
       "    </tr>\n",
       "    <tr>\n",
       "      <th>Medium-high-technology</th>\n",
       "      <td>5451</td>\n",
       "      <td>115857</td>\n",
       "      <td>15.29</td>\n",
       "      <td>4.70</td>\n",
       "    </tr>\n",
       "    <tr>\n",
       "      <th>Medium-low-technology</th>\n",
       "      <td>6363</td>\n",
       "      <td>109630</td>\n",
       "      <td>17.85</td>\n",
       "      <td>5.80</td>\n",
       "    </tr>\n",
       "    <tr>\n",
       "      <th>Low-technology</th>\n",
       "      <td>23102</td>\n",
       "      <td>370488</td>\n",
       "      <td>64.81</td>\n",
       "      <td>6.24</td>\n",
       "    </tr>\n",
       "    <tr>\n",
       "      <th rowspan=\"4\" valign=\"top\">Arranjo Populacional de Ponta Grossa/PR</th>\n",
       "      <th>High-technology</th>\n",
       "      <td>7</td>\n",
       "      <td>13142</td>\n",
       "      <td>0.04</td>\n",
       "      <td>0.05</td>\n",
       "    </tr>\n",
       "    <tr>\n",
       "      <th>Medium-high-technology</th>\n",
       "      <td>2862</td>\n",
       "      <td>115857</td>\n",
       "      <td>15.92</td>\n",
       "      <td>2.47</td>\n",
       "    </tr>\n",
       "    <tr>\n",
       "      <th>Medium-low-technology</th>\n",
       "      <td>4446</td>\n",
       "      <td>109630</td>\n",
       "      <td>24.73</td>\n",
       "      <td>4.06</td>\n",
       "    </tr>\n",
       "    <tr>\n",
       "      <th>Low-technology</th>\n",
       "      <td>10665</td>\n",
       "      <td>370488</td>\n",
       "      <td>59.32</td>\n",
       "      <td>2.88</td>\n",
       "    </tr>\n",
       "    <tr>\n",
       "      <th rowspan=\"4\" valign=\"top\">Curitiba</th>\n",
       "      <th>High-technology</th>\n",
       "      <td>6017</td>\n",
       "      <td>13142</td>\n",
       "      <td>3.69</td>\n",
       "      <td>45.78</td>\n",
       "    </tr>\n",
       "    <tr>\n",
       "      <th>Medium-high-technology</th>\n",
       "      <td>64142</td>\n",
       "      <td>115857</td>\n",
       "      <td>39.35</td>\n",
       "      <td>55.36</td>\n",
       "    </tr>\n",
       "    <tr>\n",
       "      <th>Medium-low-technology</th>\n",
       "      <td>45825</td>\n",
       "      <td>109630</td>\n",
       "      <td>28.11</td>\n",
       "      <td>41.80</td>\n",
       "    </tr>\n",
       "    <tr>\n",
       "      <th>Low-technology</th>\n",
       "      <td>47017</td>\n",
       "      <td>370488</td>\n",
       "      <td>28.84</td>\n",
       "      <td>12.69</td>\n",
       "    </tr>\n",
       "  </tbody>\n",
       "</table>\n",
       "</div>"
      ],
      "text/plain": [
       "                                                                      PO  \\\n",
       "UF Território                              Nível Tecnológico               \n",
       "PR Arranjo Populacional de Londrina/PR     High-technology          1125   \n",
       "                                           Medium-high-technology   7082   \n",
       "                                           Medium-low-technology    7961   \n",
       "                                           Low-technology          14070   \n",
       "   Arranjo Populacional de Maringá/PR      High-technology           731   \n",
       "                                           Medium-high-technology   5451   \n",
       "                                           Medium-low-technology    6363   \n",
       "                                           Low-technology          23102   \n",
       "   Arranjo Populacional de Ponta Grossa/PR High-technology             7   \n",
       "                                           Medium-high-technology   2862   \n",
       "                                           Medium-low-technology    4446   \n",
       "                                           Low-technology          10665   \n",
       "   Curitiba                                High-technology          6017   \n",
       "                                           Medium-high-technology  64142   \n",
       "                                           Medium-low-technology   45825   \n",
       "                                           Low-technology          47017   \n",
       "\n",
       "                                                                   PO estadual  \\\n",
       "UF Território                              Nível Tecnológico                     \n",
       "PR Arranjo Populacional de Londrina/PR     High-technology               13142   \n",
       "                                           Medium-high-technology       115857   \n",
       "                                           Medium-low-technology        109630   \n",
       "                                           Low-technology               370488   \n",
       "   Arranjo Populacional de Maringá/PR      High-technology               13142   \n",
       "                                           Medium-high-technology       115857   \n",
       "                                           Medium-low-technology        109630   \n",
       "                                           Low-technology               370488   \n",
       "   Arranjo Populacional de Ponta Grossa/PR High-technology               13142   \n",
       "                                           Medium-high-technology       115857   \n",
       "                                           Medium-low-technology        109630   \n",
       "                                           Low-technology               370488   \n",
       "   Curitiba                                High-technology               13142   \n",
       "                                           Medium-high-technology       115857   \n",
       "                                           Medium-low-technology        109630   \n",
       "                                           Low-technology               370488   \n",
       "\n",
       "                                                                   Participação Metropolitana (%)  \\\n",
       "UF Território                              Nível Tecnológico                                        \n",
       "PR Arranjo Populacional de Londrina/PR     High-technology                                   3.72   \n",
       "                                           Medium-high-technology                           23.42   \n",
       "                                           Medium-low-technology                            26.33   \n",
       "                                           Low-technology                                   46.53   \n",
       "   Arranjo Populacional de Maringá/PR      High-technology                                   2.05   \n",
       "                                           Medium-high-technology                           15.29   \n",
       "                                           Medium-low-technology                            17.85   \n",
       "                                           Low-technology                                   64.81   \n",
       "   Arranjo Populacional de Ponta Grossa/PR High-technology                                   0.04   \n",
       "                                           Medium-high-technology                           15.92   \n",
       "                                           Medium-low-technology                            24.73   \n",
       "                                           Low-technology                                   59.32   \n",
       "   Curitiba                                High-technology                                   3.69   \n",
       "                                           Medium-high-technology                           39.35   \n",
       "                                           Medium-low-technology                            28.11   \n",
       "                                           Low-technology                                   28.84   \n",
       "\n",
       "                                                                   Participação Estadual (%)  \n",
       "UF Território                              Nível Tecnológico                                  \n",
       "PR Arranjo Populacional de Londrina/PR     High-technology                              8.56  \n",
       "                                           Medium-high-technology                       6.11  \n",
       "                                           Medium-low-technology                        7.26  \n",
       "                                           Low-technology                               3.80  \n",
       "   Arranjo Populacional de Maringá/PR      High-technology                              5.56  \n",
       "                                           Medium-high-technology                       4.70  \n",
       "                                           Medium-low-technology                        5.80  \n",
       "                                           Low-technology                               6.24  \n",
       "   Arranjo Populacional de Ponta Grossa/PR High-technology                              0.05  \n",
       "                                           Medium-high-technology                       2.47  \n",
       "                                           Medium-low-technology                        4.06  \n",
       "                                           Low-technology                               2.88  \n",
       "   Curitiba                                High-technology                             45.78  \n",
       "                                           Medium-high-technology                      55.36  \n",
       "                                           Medium-low-technology                       41.80  \n",
       "                                           Low-technology                              12.69  "
      ]
     },
     "metadata": {},
     "output_type": "display_data"
    }
   ],
   "source": [
    "ind.ind_level_comparison_table(\n",
    "    year=2018\n",
    "    , list_ufs=['AM', 'BA', 'CE', 'DF', 'ES', 'GO', 'MG','PA','PE','PR','RJ','RS','SC', 'SP']\n",
    ")"
   ]
  },
  {
   "cell_type": "markdown",
   "metadata": {},
   "source": [
    "## Evolução do Nível Tecnológico das Indústrias entre  2007 to 2017"
   ]
  },
  {
   "cell_type": "code",
   "execution_count": 11,
   "metadata": {
    "ExecuteTime": {
     "end_time": "2020-10-15T23:06:15.374599Z",
     "start_time": "2020-10-15T23:06:06.599936Z"
    },
    "code_folding": [],
    "hide_input": true
   },
   "outputs": [
    {
     "data": {
      "application/vnd.plotly.v1+json": {
       "config": {
        "plotlyServerURL": "https://plot.ly"
       },
       "data": [
        {
         "alignmentgroup": "True",
         "hovertemplate": "Nível Tecnológico=Alto<br>Ano=2000<br>Pessoal=%{x}<br>Espaço Metropolitano=%{y}<extra></extra>",
         "legendgroup": "Alto",
         "marker": {
          "color": "rgb(103,0,31)"
         },
         "name": "Alto",
         "offsetgroup": "Alto",
         "orientation": "h",
         "showlegend": true,
         "textposition": "auto",
         "type": "bar",
         "x": [
          5175,
          7,
          305,
          424
         ],
         "xaxis": "x",
         "y": [
          "Curitiba",
          null,
          null,
          null
         ],
         "yaxis": "y"
        },
        {
         "alignmentgroup": "True",
         "hovertemplate": "Nível Tecnológico=Médio-Alto<br>Ano=2000<br>Pessoal=%{x}<br>Espaço Metropolitano=%{y}<extra></extra>",
         "legendgroup": "Médio-Alto",
         "marker": {
          "color": "rgb(178,24,43)"
         },
         "name": "Médio-Alto",
         "offsetgroup": "Médio-Alto",
         "orientation": "h",
         "showlegend": true,
         "textposition": "auto",
         "type": "bar",
         "x": [
          42667,
          2026,
          2390,
          4900
         ],
         "xaxis": "x",
         "y": [
          "Curitiba",
          null,
          null,
          null
         ],
         "yaxis": "y"
        },
        {
         "alignmentgroup": "True",
         "hovertemplate": "Nível Tecnológico=Médio-Baixo<br>Ano=2000<br>Pessoal=%{x}<br>Espaço Metropolitano=%{y}<extra></extra>",
         "legendgroup": "Médio-Baixo",
         "marker": {
          "color": "rgb(214,96,77)"
         },
         "name": "Médio-Baixo",
         "offsetgroup": "Médio-Baixo",
         "orientation": "h",
         "showlegend": true,
         "textposition": "auto",
         "type": "bar",
         "x": [
          28419,
          1758,
          2596,
          5370
         ],
         "xaxis": "x",
         "y": [
          "Curitiba",
          null,
          null,
          null
         ],
         "yaxis": "y"
        },
        {
         "alignmentgroup": "True",
         "hovertemplate": "Nível Tecnológico=Baixo<br>Ano=2000<br>Pessoal=%{x}<br>Espaço Metropolitano=%{y}<extra></extra>",
         "legendgroup": "Baixo",
         "marker": {
          "color": "rgb(244,165,130)"
         },
         "name": "Baixo",
         "offsetgroup": "Baixo",
         "orientation": "h",
         "showlegend": true,
         "textposition": "auto",
         "type": "bar",
         "x": [
          41519,
          9238,
          14648,
          14629
         ],
         "xaxis": "x",
         "y": [
          "Curitiba",
          null,
          null,
          null
         ],
         "yaxis": "y"
        }
       ],
       "frames": [
        {
         "data": [
          {
           "alignmentgroup": "True",
           "hovertemplate": "Nível Tecnológico=Alto<br>Ano=2000<br>Pessoal=%{x}<br>Espaço Metropolitano=%{y}<extra></extra>",
           "legendgroup": "Alto",
           "marker": {
            "color": "rgb(103,0,31)"
           },
           "name": "Alto",
           "offsetgroup": "Alto",
           "orientation": "h",
           "showlegend": true,
           "textposition": "auto",
           "type": "bar",
           "x": [
            5175,
            7,
            305,
            424
           ],
           "xaxis": "x",
           "y": [
            "Curitiba",
            null,
            null,
            null
           ],
           "yaxis": "y"
          },
          {
           "alignmentgroup": "True",
           "hovertemplate": "Nível Tecnológico=Médio-Alto<br>Ano=2000<br>Pessoal=%{x}<br>Espaço Metropolitano=%{y}<extra></extra>",
           "legendgroup": "Médio-Alto",
           "marker": {
            "color": "rgb(178,24,43)"
           },
           "name": "Médio-Alto",
           "offsetgroup": "Médio-Alto",
           "orientation": "h",
           "showlegend": true,
           "textposition": "auto",
           "type": "bar",
           "x": [
            42667,
            2026,
            2390,
            4900
           ],
           "xaxis": "x",
           "y": [
            "Curitiba",
            null,
            null,
            null
           ],
           "yaxis": "y"
          },
          {
           "alignmentgroup": "True",
           "hovertemplate": "Nível Tecnológico=Médio-Baixo<br>Ano=2000<br>Pessoal=%{x}<br>Espaço Metropolitano=%{y}<extra></extra>",
           "legendgroup": "Médio-Baixo",
           "marker": {
            "color": "rgb(214,96,77)"
           },
           "name": "Médio-Baixo",
           "offsetgroup": "Médio-Baixo",
           "orientation": "h",
           "showlegend": true,
           "textposition": "auto",
           "type": "bar",
           "x": [
            28419,
            1758,
            2596,
            5370
           ],
           "xaxis": "x",
           "y": [
            "Curitiba",
            null,
            null,
            null
           ],
           "yaxis": "y"
          },
          {
           "alignmentgroup": "True",
           "hovertemplate": "Nível Tecnológico=Baixo<br>Ano=2000<br>Pessoal=%{x}<br>Espaço Metropolitano=%{y}<extra></extra>",
           "legendgroup": "Baixo",
           "marker": {
            "color": "rgb(244,165,130)"
           },
           "name": "Baixo",
           "offsetgroup": "Baixo",
           "orientation": "h",
           "showlegend": true,
           "textposition": "auto",
           "type": "bar",
           "x": [
            41519,
            9238,
            14648,
            14629
           ],
           "xaxis": "x",
           "y": [
            "Curitiba",
            null,
            null,
            null
           ],
           "yaxis": "y"
          }
         ],
         "name": "2000"
        },
        {
         "data": [
          {
           "alignmentgroup": "True",
           "hovertemplate": "Nível Tecnológico=Alto<br>Ano=2001<br>Pessoal=%{x}<br>Espaço Metropolitano=%{y}<extra></extra>",
           "legendgroup": "Alto",
           "marker": {
            "color": "rgb(103,0,31)"
           },
           "name": "Alto",
           "offsetgroup": "Alto",
           "orientation": "h",
           "showlegend": true,
           "textposition": "auto",
           "type": "bar",
           "x": [
            4388,
            474,
            430,
            7
           ],
           "xaxis": "x",
           "y": [
            "Curitiba",
            null,
            null,
            null
           ],
           "yaxis": "y"
          },
          {
           "alignmentgroup": "True",
           "hovertemplate": "Nível Tecnológico=Médio-Alto<br>Ano=2001<br>Pessoal=%{x}<br>Espaço Metropolitano=%{y}<extra></extra>",
           "legendgroup": "Médio-Alto",
           "marker": {
            "color": "rgb(178,24,43)"
           },
           "name": "Médio-Alto",
           "offsetgroup": "Médio-Alto",
           "orientation": "h",
           "showlegend": true,
           "textposition": "auto",
           "type": "bar",
           "x": [
            42655,
            4688,
            2714,
            1971
           ],
           "xaxis": "x",
           "y": [
            "Curitiba",
            null,
            null,
            null
           ],
           "yaxis": "y"
          },
          {
           "alignmentgroup": "True",
           "hovertemplate": "Nível Tecnológico=Médio-Baixo<br>Ano=2001<br>Pessoal=%{x}<br>Espaço Metropolitano=%{y}<extra></extra>",
           "legendgroup": "Médio-Baixo",
           "marker": {
            "color": "rgb(214,96,77)"
           },
           "name": "Médio-Baixo",
           "offsetgroup": "Médio-Baixo",
           "orientation": "h",
           "showlegend": true,
           "textposition": "auto",
           "type": "bar",
           "x": [
            29305,
            5255,
            3262,
            1755
           ],
           "xaxis": "x",
           "y": [
            "Curitiba",
            null,
            null,
            null
           ],
           "yaxis": "y"
          },
          {
           "alignmentgroup": "True",
           "hovertemplate": "Nível Tecnológico=Baixo<br>Ano=2001<br>Pessoal=%{x}<br>Espaço Metropolitano=%{y}<extra></extra>",
           "legendgroup": "Baixo",
           "marker": {
            "color": "rgb(244,165,130)"
           },
           "name": "Baixo",
           "offsetgroup": "Baixo",
           "orientation": "h",
           "showlegend": true,
           "textposition": "auto",
           "type": "bar",
           "x": [
            42023,
            14380,
            15203,
            10075
           ],
           "xaxis": "x",
           "y": [
            "Curitiba",
            null,
            null,
            null
           ],
           "yaxis": "y"
          }
         ],
         "name": "2001"
        },
        {
         "data": [
          {
           "alignmentgroup": "True",
           "hovertemplate": "Nível Tecnológico=Alto<br>Ano=2002<br>Pessoal=%{x}<br>Espaço Metropolitano=%{y}<extra></extra>",
           "legendgroup": "Alto",
           "marker": {
            "color": "rgb(103,0,31)"
           },
           "name": "Alto",
           "offsetgroup": "Alto",
           "orientation": "h",
           "showlegend": true,
           "textposition": "auto",
           "type": "bar",
           "x": [
            4368,
            529,
            628,
            10
           ],
           "xaxis": "x",
           "y": [
            "Curitiba",
            null,
            null,
            null
           ],
           "yaxis": "y"
          },
          {
           "alignmentgroup": "True",
           "hovertemplate": "Nível Tecnológico=Médio-Alto<br>Ano=2002<br>Pessoal=%{x}<br>Espaço Metropolitano=%{y}<extra></extra>",
           "legendgroup": "Médio-Alto",
           "marker": {
            "color": "rgb(178,24,43)"
           },
           "name": "Médio-Alto",
           "offsetgroup": "Médio-Alto",
           "orientation": "h",
           "showlegend": true,
           "textposition": "auto",
           "type": "bar",
           "x": [
            44821,
            5050,
            2929,
            1959
           ],
           "xaxis": "x",
           "y": [
            "Curitiba",
            null,
            null,
            null
           ],
           "yaxis": "y"
          },
          {
           "alignmentgroup": "True",
           "hovertemplate": "Nível Tecnológico=Médio-Baixo<br>Ano=2002<br>Pessoal=%{x}<br>Espaço Metropolitano=%{y}<extra></extra>",
           "legendgroup": "Médio-Baixo",
           "marker": {
            "color": "rgb(214,96,77)"
           },
           "name": "Médio-Baixo",
           "offsetgroup": "Médio-Baixo",
           "orientation": "h",
           "showlegend": true,
           "textposition": "auto",
           "type": "bar",
           "x": [
            29838,
            6114,
            3486,
            1781
           ],
           "xaxis": "x",
           "y": [
            "Curitiba",
            null,
            null,
            null
           ],
           "yaxis": "y"
          },
          {
           "alignmentgroup": "True",
           "hovertemplate": "Nível Tecnológico=Baixo<br>Ano=2002<br>Pessoal=%{x}<br>Espaço Metropolitano=%{y}<extra></extra>",
           "legendgroup": "Baixo",
           "marker": {
            "color": "rgb(244,165,130)"
           },
           "name": "Baixo",
           "offsetgroup": "Baixo",
           "orientation": "h",
           "showlegend": true,
           "textposition": "auto",
           "type": "bar",
           "x": [
            44934,
            16173,
            17199,
            10715
           ],
           "xaxis": "x",
           "y": [
            "Curitiba",
            null,
            null,
            null
           ],
           "yaxis": "y"
          }
         ],
         "name": "2002"
        },
        {
         "data": [
          {
           "alignmentgroup": "True",
           "hovertemplate": "Nível Tecnológico=Alto<br>Ano=2003<br>Pessoal=%{x}<br>Espaço Metropolitano=%{y}<extra></extra>",
           "legendgroup": "Alto",
           "marker": {
            "color": "rgb(103,0,31)"
           },
           "name": "Alto",
           "offsetgroup": "Alto",
           "orientation": "h",
           "showlegend": true,
           "textposition": "auto",
           "type": "bar",
           "x": [
            4758,
            330,
            10,
            596
           ],
           "xaxis": "x",
           "y": [
            "Curitiba",
            null,
            null,
            null
           ],
           "yaxis": "y"
          },
          {
           "alignmentgroup": "True",
           "hovertemplate": "Nível Tecnológico=Médio-Alto<br>Ano=2003<br>Pessoal=%{x}<br>Espaço Metropolitano=%{y}<extra></extra>",
           "legendgroup": "Médio-Alto",
           "marker": {
            "color": "rgb(178,24,43)"
           },
           "name": "Médio-Alto",
           "offsetgroup": "Médio-Alto",
           "orientation": "h",
           "showlegend": true,
           "textposition": "auto",
           "type": "bar",
           "x": [
            44439,
            3017,
            1700,
            3944
           ],
           "xaxis": "x",
           "y": [
            "Curitiba",
            null,
            null,
            null
           ],
           "yaxis": "y"
          },
          {
           "alignmentgroup": "True",
           "hovertemplate": "Nível Tecnológico=Médio-Baixo<br>Ano=2003<br>Pessoal=%{x}<br>Espaço Metropolitano=%{y}<extra></extra>",
           "legendgroup": "Médio-Baixo",
           "marker": {
            "color": "rgb(214,96,77)"
           },
           "name": "Médio-Baixo",
           "offsetgroup": "Médio-Baixo",
           "orientation": "h",
           "showlegend": true,
           "textposition": "auto",
           "type": "bar",
           "x": [
            32065,
            3611,
            2016,
            6700
           ],
           "xaxis": "x",
           "y": [
            "Curitiba",
            null,
            null,
            null
           ],
           "yaxis": "y"
          },
          {
           "alignmentgroup": "True",
           "hovertemplate": "Nível Tecnológico=Baixo<br>Ano=2003<br>Pessoal=%{x}<br>Espaço Metropolitano=%{y}<extra></extra>",
           "legendgroup": "Baixo",
           "marker": {
            "color": "rgb(244,165,130)"
           },
           "name": "Baixo",
           "offsetgroup": "Baixo",
           "orientation": "h",
           "showlegend": true,
           "textposition": "auto",
           "type": "bar",
           "x": [
            45726,
            18349,
            11948,
            16317
           ],
           "xaxis": "x",
           "y": [
            "Curitiba",
            null,
            null,
            null
           ],
           "yaxis": "y"
          }
         ],
         "name": "2003"
        },
        {
         "data": [
          {
           "alignmentgroup": "True",
           "hovertemplate": "Nível Tecnológico=Alto<br>Ano=2004<br>Pessoal=%{x}<br>Espaço Metropolitano=%{y}<extra></extra>",
           "legendgroup": "Alto",
           "marker": {
            "color": "rgb(103,0,31)"
           },
           "name": "Alto",
           "offsetgroup": "Alto",
           "orientation": "h",
           "showlegend": true,
           "textposition": "auto",
           "type": "bar",
           "x": [
            5090,
            9,
            556,
            918
           ],
           "xaxis": "x",
           "y": [
            "Curitiba",
            null,
            null,
            null
           ],
           "yaxis": "y"
          },
          {
           "alignmentgroup": "True",
           "hovertemplate": "Nível Tecnológico=Médio-Alto<br>Ano=2004<br>Pessoal=%{x}<br>Espaço Metropolitano=%{y}<extra></extra>",
           "legendgroup": "Médio-Alto",
           "marker": {
            "color": "rgb(178,24,43)"
           },
           "name": "Médio-Alto",
           "offsetgroup": "Médio-Alto",
           "orientation": "h",
           "showlegend": true,
           "textposition": "auto",
           "type": "bar",
           "x": [
            53156,
            1869,
            3624,
            4544
           ],
           "xaxis": "x",
           "y": [
            "Curitiba",
            null,
            null,
            null
           ],
           "yaxis": "y"
          },
          {
           "alignmentgroup": "True",
           "hovertemplate": "Nível Tecnológico=Médio-Baixo<br>Ano=2004<br>Pessoal=%{x}<br>Espaço Metropolitano=%{y}<extra></extra>",
           "legendgroup": "Médio-Baixo",
           "marker": {
            "color": "rgb(214,96,77)"
           },
           "name": "Médio-Baixo",
           "offsetgroup": "Médio-Baixo",
           "orientation": "h",
           "showlegend": true,
           "textposition": "auto",
           "type": "bar",
           "x": [
            35082,
            2719,
            4192,
            6934
           ],
           "xaxis": "x",
           "y": [
            "Curitiba",
            null,
            null,
            null
           ],
           "yaxis": "y"
          },
          {
           "alignmentgroup": "True",
           "hovertemplate": "Nível Tecnológico=Baixo<br>Ano=2004<br>Pessoal=%{x}<br>Espaço Metropolitano=%{y}<extra></extra>",
           "legendgroup": "Baixo",
           "marker": {
            "color": "rgb(244,165,130)"
           },
           "name": "Baixo",
           "offsetgroup": "Baixo",
           "orientation": "h",
           "showlegend": true,
           "textposition": "auto",
           "type": "bar",
           "x": [
            48813,
            13041,
            19461,
            17619
           ],
           "xaxis": "x",
           "y": [
            "Curitiba",
            null,
            null,
            null
           ],
           "yaxis": "y"
          }
         ],
         "name": "2004"
        },
        {
         "data": [
          {
           "alignmentgroup": "True",
           "hovertemplate": "Nível Tecnológico=Alto<br>Ano=2005<br>Pessoal=%{x}<br>Espaço Metropolitano=%{y}<extra></extra>",
           "legendgroup": "Alto",
           "marker": {
            "color": "rgb(103,0,31)"
           },
           "name": "Alto",
           "offsetgroup": "Alto",
           "orientation": "h",
           "showlegend": true,
           "textposition": "auto",
           "type": "bar",
           "x": [
            5259,
            6,
            672,
            953
           ],
           "xaxis": "x",
           "y": [
            "Curitiba",
            null,
            null,
            null
           ],
           "yaxis": "y"
          },
          {
           "alignmentgroup": "True",
           "hovertemplate": "Nível Tecnológico=Médio-Alto<br>Ano=2005<br>Pessoal=%{x}<br>Espaço Metropolitano=%{y}<extra></extra>",
           "legendgroup": "Médio-Alto",
           "marker": {
            "color": "rgb(178,24,43)"
           },
           "name": "Médio-Alto",
           "offsetgroup": "Médio-Alto",
           "orientation": "h",
           "showlegend": true,
           "textposition": "auto",
           "type": "bar",
           "x": [
            55228,
            1553,
            3681,
            4977
           ],
           "xaxis": "x",
           "y": [
            "Curitiba",
            null,
            null,
            null
           ],
           "yaxis": "y"
          },
          {
           "alignmentgroup": "True",
           "hovertemplate": "Nível Tecnológico=Médio-Baixo<br>Ano=2005<br>Pessoal=%{x}<br>Espaço Metropolitano=%{y}<extra></extra>",
           "legendgroup": "Médio-Baixo",
           "marker": {
            "color": "rgb(214,96,77)"
           },
           "name": "Médio-Baixo",
           "offsetgroup": "Médio-Baixo",
           "orientation": "h",
           "showlegend": true,
           "textposition": "auto",
           "type": "bar",
           "x": [
            36103,
            2970,
            4075,
            6809
           ],
           "xaxis": "x",
           "y": [
            "Curitiba",
            null,
            null,
            null
           ],
           "yaxis": "y"
          },
          {
           "alignmentgroup": "True",
           "hovertemplate": "Nível Tecnológico=Baixo<br>Ano=2005<br>Pessoal=%{x}<br>Espaço Metropolitano=%{y}<extra></extra>",
           "legendgroup": "Baixo",
           "marker": {
            "color": "rgb(244,165,130)"
           },
           "name": "Baixo",
           "offsetgroup": "Baixo",
           "orientation": "h",
           "showlegend": true,
           "textposition": "auto",
           "type": "bar",
           "x": [
            49621,
            12675,
            19720,
            19170
           ],
           "xaxis": "x",
           "y": [
            "Curitiba",
            null,
            null,
            null
           ],
           "yaxis": "y"
          }
         ],
         "name": "2005"
        },
        {
         "data": [
          {
           "alignmentgroup": "True",
           "hovertemplate": "Nível Tecnológico=Alto<br>Ano=2006<br>Pessoal=%{x}<br>Espaço Metropolitano=%{y}<extra></extra>",
           "legendgroup": "Alto",
           "marker": {
            "color": "rgb(103,0,31)"
           },
           "name": "Alto",
           "offsetgroup": "Alto",
           "orientation": "h",
           "showlegend": true,
           "textposition": "auto",
           "type": "bar",
           "x": [
            6147,
            1,
            1065,
            427
           ],
           "xaxis": "x",
           "y": [
            "Curitiba",
            null,
            null,
            null
           ],
           "yaxis": "y"
          },
          {
           "alignmentgroup": "True",
           "hovertemplate": "Nível Tecnológico=Médio-Alto<br>Ano=2006<br>Pessoal=%{x}<br>Espaço Metropolitano=%{y}<extra></extra>",
           "legendgroup": "Médio-Alto",
           "marker": {
            "color": "rgb(178,24,43)"
           },
           "name": "Médio-Alto",
           "offsetgroup": "Médio-Alto",
           "orientation": "h",
           "showlegend": true,
           "textposition": "auto",
           "type": "bar",
           "x": [
            57183,
            1530,
            5205,
            4244
           ],
           "xaxis": "x",
           "y": [
            "Curitiba",
            null,
            null,
            null
           ],
           "yaxis": "y"
          },
          {
           "alignmentgroup": "True",
           "hovertemplate": "Nível Tecnológico=Médio-Baixo<br>Ano=2006<br>Pessoal=%{x}<br>Espaço Metropolitano=%{y}<extra></extra>",
           "legendgroup": "Médio-Baixo",
           "marker": {
            "color": "rgb(214,96,77)"
           },
           "name": "Médio-Baixo",
           "offsetgroup": "Médio-Baixo",
           "orientation": "h",
           "showlegend": true,
           "textposition": "auto",
           "type": "bar",
           "x": [
            42155,
            2450,
            8171,
            4841
           ],
           "xaxis": "x",
           "y": [
            "Curitiba",
            null,
            null,
            null
           ],
           "yaxis": "y"
          },
          {
           "alignmentgroup": "True",
           "hovertemplate": "Nível Tecnológico=Baixo<br>Ano=2006<br>Pessoal=%{x}<br>Espaço Metropolitano=%{y}<extra></extra>",
           "legendgroup": "Baixo",
           "marker": {
            "color": "rgb(244,165,130)"
           },
           "name": "Baixo",
           "offsetgroup": "Baixo",
           "orientation": "h",
           "showlegend": true,
           "textposition": "auto",
           "type": "bar",
           "x": [
            51271,
            12659,
            17294,
            21578
           ],
           "xaxis": "x",
           "y": [
            "Curitiba",
            null,
            null,
            null
           ],
           "yaxis": "y"
          }
         ],
         "name": "2006"
        },
        {
         "data": [
          {
           "alignmentgroup": "True",
           "hovertemplate": "Nível Tecnológico=Alto<br>Ano=2007<br>Pessoal=%{x}<br>Espaço Metropolitano=%{y}<extra></extra>",
           "legendgroup": "Alto",
           "marker": {
            "color": "rgb(103,0,31)"
           },
           "name": "Alto",
           "offsetgroup": "Alto",
           "orientation": "h",
           "showlegend": true,
           "textposition": "auto",
           "type": "bar",
           "x": [
            8404,
            1177,
            468
           ],
           "xaxis": "x",
           "y": [
            "Curitiba",
            null,
            null
           ],
           "yaxis": "y"
          },
          {
           "alignmentgroup": "True",
           "hovertemplate": "Nível Tecnológico=Médio-Alto<br>Ano=2007<br>Pessoal=%{x}<br>Espaço Metropolitano=%{y}<extra></extra>",
           "legendgroup": "Médio-Alto",
           "marker": {
            "color": "rgb(178,24,43)"
           },
           "name": "Médio-Alto",
           "offsetgroup": "Médio-Alto",
           "orientation": "h",
           "showlegend": true,
           "textposition": "auto",
           "type": "bar",
           "x": [
            63993,
            1761,
            5551,
            4917
           ],
           "xaxis": "x",
           "y": [
            "Curitiba",
            null,
            null,
            null
           ],
           "yaxis": "y"
          },
          {
           "alignmentgroup": "True",
           "hovertemplate": "Nível Tecnológico=Médio-Baixo<br>Ano=2007<br>Pessoal=%{x}<br>Espaço Metropolitano=%{y}<extra></extra>",
           "legendgroup": "Médio-Baixo",
           "marker": {
            "color": "rgb(214,96,77)"
           },
           "name": "Médio-Baixo",
           "offsetgroup": "Médio-Baixo",
           "orientation": "h",
           "showlegend": true,
           "textposition": "auto",
           "type": "bar",
           "x": [
            45647,
            2825,
            8843,
            5019
           ],
           "xaxis": "x",
           "y": [
            "Curitiba",
            null,
            null,
            null
           ],
           "yaxis": "y"
          },
          {
           "alignmentgroup": "True",
           "hovertemplate": "Nível Tecnológico=Baixo<br>Ano=2007<br>Pessoal=%{x}<br>Espaço Metropolitano=%{y}<extra></extra>",
           "legendgroup": "Baixo",
           "marker": {
            "color": "rgb(244,165,130)"
           },
           "name": "Baixo",
           "offsetgroup": "Baixo",
           "orientation": "h",
           "showlegend": true,
           "textposition": "auto",
           "type": "bar",
           "x": [
            54896,
            13740,
            17588,
            23841
           ],
           "xaxis": "x",
           "y": [
            "Curitiba",
            null,
            null,
            null
           ],
           "yaxis": "y"
          }
         ],
         "name": "2007"
        },
        {
         "data": [
          {
           "alignmentgroup": "True",
           "hovertemplate": "Nível Tecnológico=Alto<br>Ano=2008<br>Pessoal=%{x}<br>Espaço Metropolitano=%{y}<extra></extra>",
           "legendgroup": "Alto",
           "marker": {
            "color": "rgb(103,0,31)"
           },
           "name": "Alto",
           "offsetgroup": "Alto",
           "orientation": "h",
           "showlegend": true,
           "textposition": "auto",
           "type": "bar",
           "x": [
            9931,
            526,
            6,
            1336
           ],
           "xaxis": "x",
           "y": [
            "Curitiba",
            null,
            null,
            null
           ],
           "yaxis": "y"
          },
          {
           "alignmentgroup": "True",
           "hovertemplate": "Nível Tecnológico=Médio-Alto<br>Ano=2008<br>Pessoal=%{x}<br>Espaço Metropolitano=%{y}<extra></extra>",
           "legendgroup": "Médio-Alto",
           "marker": {
            "color": "rgb(178,24,43)"
           },
           "name": "Médio-Alto",
           "offsetgroup": "Médio-Alto",
           "orientation": "h",
           "showlegend": true,
           "textposition": "auto",
           "type": "bar",
           "x": [
            66371,
            4743,
            1815,
            6114
           ],
           "xaxis": "x",
           "y": [
            "Curitiba",
            null,
            null,
            null
           ],
           "yaxis": "y"
          },
          {
           "alignmentgroup": "True",
           "hovertemplate": "Nível Tecnológico=Médio-Baixo<br>Ano=2008<br>Pessoal=%{x}<br>Espaço Metropolitano=%{y}<extra></extra>",
           "legendgroup": "Médio-Baixo",
           "marker": {
            "color": "rgb(214,96,77)"
           },
           "name": "Médio-Baixo",
           "offsetgroup": "Médio-Baixo",
           "orientation": "h",
           "showlegend": true,
           "textposition": "auto",
           "type": "bar",
           "x": [
            48231,
            5224,
            3145,
            9400
           ],
           "xaxis": "x",
           "y": [
            "Curitiba",
            null,
            null,
            null
           ],
           "yaxis": "y"
          },
          {
           "alignmentgroup": "True",
           "hovertemplate": "Nível Tecnológico=Baixo<br>Ano=2008<br>Pessoal=%{x}<br>Espaço Metropolitano=%{y}<extra></extra>",
           "legendgroup": "Baixo",
           "marker": {
            "color": "rgb(244,165,130)"
           },
           "name": "Baixo",
           "offsetgroup": "Baixo",
           "orientation": "h",
           "showlegend": true,
           "textposition": "auto",
           "type": "bar",
           "x": [
            55468,
            24632,
            13030,
            18093
           ],
           "xaxis": "x",
           "y": [
            "Curitiba",
            null,
            null,
            null
           ],
           "yaxis": "y"
          }
         ],
         "name": "2008"
        },
        {
         "data": [
          {
           "alignmentgroup": "True",
           "hovertemplate": "Nível Tecnológico=Alto<br>Ano=2009<br>Pessoal=%{x}<br>Espaço Metropolitano=%{y}<extra></extra>",
           "legendgroup": "Alto",
           "marker": {
            "color": "rgb(103,0,31)"
           },
           "name": "Alto",
           "offsetgroup": "Alto",
           "orientation": "h",
           "showlegend": true,
           "textposition": "auto",
           "type": "bar",
           "x": [
            12214,
            666,
            2,
            1313
           ],
           "xaxis": "x",
           "y": [
            "Curitiba",
            null,
            null,
            null
           ],
           "yaxis": "y"
          },
          {
           "alignmentgroup": "True",
           "hovertemplate": "Nível Tecnológico=Médio-Alto<br>Ano=2009<br>Pessoal=%{x}<br>Espaço Metropolitano=%{y}<extra></extra>",
           "legendgroup": "Médio-Alto",
           "marker": {
            "color": "rgb(178,24,43)"
           },
           "name": "Médio-Alto",
           "offsetgroup": "Médio-Alto",
           "orientation": "h",
           "showlegend": true,
           "textposition": "auto",
           "type": "bar",
           "x": [
            67378,
            4962,
            1983,
            6088
           ],
           "xaxis": "x",
           "y": [
            "Curitiba",
            null,
            null,
            null
           ],
           "yaxis": "y"
          },
          {
           "alignmentgroup": "True",
           "hovertemplate": "Nível Tecnológico=Médio-Baixo<br>Ano=2009<br>Pessoal=%{x}<br>Espaço Metropolitano=%{y}<extra></extra>",
           "legendgroup": "Médio-Baixo",
           "marker": {
            "color": "rgb(214,96,77)"
           },
           "name": "Médio-Baixo",
           "offsetgroup": "Médio-Baixo",
           "orientation": "h",
           "showlegend": true,
           "textposition": "auto",
           "type": "bar",
           "x": [
            47987,
            5085,
            2843,
            9401
           ],
           "xaxis": "x",
           "y": [
            "Curitiba",
            null,
            null,
            null
           ],
           "yaxis": "y"
          },
          {
           "alignmentgroup": "True",
           "hovertemplate": "Nível Tecnológico=Baixo<br>Ano=2009<br>Pessoal=%{x}<br>Espaço Metropolitano=%{y}<extra></extra>",
           "legendgroup": "Baixo",
           "marker": {
            "color": "rgb(244,165,130)"
           },
           "name": "Baixo",
           "offsetgroup": "Baixo",
           "orientation": "h",
           "showlegend": true,
           "textposition": "auto",
           "type": "bar",
           "x": [
            54579,
            24701,
            13104,
            18642
           ],
           "xaxis": "x",
           "y": [
            "Curitiba",
            null,
            null,
            null
           ],
           "yaxis": "y"
          }
         ],
         "name": "2009"
        },
        {
         "data": [
          {
           "alignmentgroup": "True",
           "hovertemplate": "Nível Tecnológico=Alto<br>Ano=2010<br>Pessoal=%{x}<br>Espaço Metropolitano=%{y}<extra></extra>",
           "legendgroup": "Alto",
           "marker": {
            "color": "rgb(103,0,31)"
           },
           "name": "Alto",
           "offsetgroup": "Alto",
           "orientation": "h",
           "showlegend": true,
           "textposition": "auto",
           "type": "bar",
           "x": [
            10637,
            3,
            1412,
            739
           ],
           "xaxis": "x",
           "y": [
            "Curitiba",
            null,
            null,
            null
           ],
           "yaxis": "y"
          },
          {
           "alignmentgroup": "True",
           "hovertemplate": "Nível Tecnológico=Médio-Alto<br>Ano=2010<br>Pessoal=%{x}<br>Espaço Metropolitano=%{y}<extra></extra>",
           "legendgroup": "Médio-Alto",
           "marker": {
            "color": "rgb(178,24,43)"
           },
           "name": "Médio-Alto",
           "offsetgroup": "Médio-Alto",
           "orientation": "h",
           "showlegend": true,
           "textposition": "auto",
           "type": "bar",
           "x": [
            75287,
            2296,
            6793,
            5637
           ],
           "xaxis": "x",
           "y": [
            "Curitiba",
            null,
            null,
            null
           ],
           "yaxis": "y"
          },
          {
           "alignmentgroup": "True",
           "hovertemplate": "Nível Tecnológico=Médio-Baixo<br>Ano=2010<br>Pessoal=%{x}<br>Espaço Metropolitano=%{y}<extra></extra>",
           "legendgroup": "Médio-Baixo",
           "marker": {
            "color": "rgb(214,96,77)"
           },
           "name": "Médio-Baixo",
           "offsetgroup": "Médio-Baixo",
           "orientation": "h",
           "showlegend": true,
           "textposition": "auto",
           "type": "bar",
           "x": [
            51941,
            3627,
            10315,
            6119
           ],
           "xaxis": "x",
           "y": [
            "Curitiba",
            null,
            null,
            null
           ],
           "yaxis": "y"
          },
          {
           "alignmentgroup": "True",
           "hovertemplate": "Nível Tecnológico=Baixo<br>Ano=2010<br>Pessoal=%{x}<br>Espaço Metropolitano=%{y}<extra></extra>",
           "legendgroup": "Baixo",
           "marker": {
            "color": "rgb(244,165,130)"
           },
           "name": "Baixo",
           "offsetgroup": "Baixo",
           "orientation": "h",
           "showlegend": true,
           "textposition": "auto",
           "type": "bar",
           "x": [
            58718,
            13874,
            19490,
            26682
           ],
           "xaxis": "x",
           "y": [
            "Curitiba",
            null,
            null,
            null
           ],
           "yaxis": "y"
          }
         ],
         "name": "2010"
        },
        {
         "data": [
          {
           "alignmentgroup": "True",
           "hovertemplate": "Nível Tecnológico=Alto<br>Ano=2011<br>Pessoal=%{x}<br>Espaço Metropolitano=%{y}<extra></extra>",
           "legendgroup": "Alto",
           "marker": {
            "color": "rgb(103,0,31)"
           },
           "name": "Alto",
           "offsetgroup": "Alto",
           "orientation": "h",
           "showlegend": true,
           "textposition": "auto",
           "type": "bar",
           "x": [
            9255,
            737,
            1594
           ],
           "xaxis": "x",
           "y": [
            "Curitiba",
            null,
            null
           ],
           "yaxis": "y"
          },
          {
           "alignmentgroup": "True",
           "hovertemplate": "Nível Tecnológico=Médio-Alto<br>Ano=2011<br>Pessoal=%{x}<br>Espaço Metropolitano=%{y}<extra></extra>",
           "legendgroup": "Médio-Alto",
           "marker": {
            "color": "rgb(178,24,43)"
           },
           "name": "Médio-Alto",
           "offsetgroup": "Médio-Alto",
           "orientation": "h",
           "showlegend": true,
           "textposition": "auto",
           "type": "bar",
           "x": [
            81549,
            6062,
            6994,
            2621
           ],
           "xaxis": "x",
           "y": [
            "Curitiba",
            null,
            null,
            null
           ],
           "yaxis": "y"
          },
          {
           "alignmentgroup": "True",
           "hovertemplate": "Nível Tecnológico=Médio-Baixo<br>Ano=2011<br>Pessoal=%{x}<br>Espaço Metropolitano=%{y}<extra></extra>",
           "legendgroup": "Médio-Baixo",
           "marker": {
            "color": "rgb(214,96,77)"
           },
           "name": "Médio-Baixo",
           "offsetgroup": "Médio-Baixo",
           "orientation": "h",
           "showlegend": true,
           "textposition": "auto",
           "type": "bar",
           "x": [
            53517,
            6046,
            10376,
            4080
           ],
           "xaxis": "x",
           "y": [
            "Curitiba",
            null,
            null,
            null
           ],
           "yaxis": "y"
          },
          {
           "alignmentgroup": "True",
           "hovertemplate": "Nível Tecnológico=Baixo<br>Ano=2011<br>Pessoal=%{x}<br>Espaço Metropolitano=%{y}<extra></extra>",
           "legendgroup": "Baixo",
           "marker": {
            "color": "rgb(244,165,130)"
           },
           "name": "Baixo",
           "offsetgroup": "Baixo",
           "orientation": "h",
           "showlegend": true,
           "textposition": "auto",
           "type": "bar",
           "x": [
            58664,
            23568,
            18615,
            13723
           ],
           "xaxis": "x",
           "y": [
            "Curitiba",
            null,
            null,
            null
           ],
           "yaxis": "y"
          }
         ],
         "name": "2011"
        },
        {
         "data": [
          {
           "alignmentgroup": "True",
           "hovertemplate": "Nível Tecnológico=Alto<br>Ano=2012<br>Pessoal=%{x}<br>Espaço Metropolitano=%{y}<extra></extra>",
           "legendgroup": "Alto",
           "marker": {
            "color": "rgb(103,0,31)"
           },
           "name": "Alto",
           "offsetgroup": "Alto",
           "orientation": "h",
           "showlegend": true,
           "textposition": "auto",
           "type": "bar",
           "x": [
            9729,
            819,
            4,
            1751
           ],
           "xaxis": "x",
           "y": [
            "Curitiba",
            null,
            null,
            null
           ],
           "yaxis": "y"
          },
          {
           "alignmentgroup": "True",
           "hovertemplate": "Nível Tecnológico=Médio-Alto<br>Ano=2012<br>Pessoal=%{x}<br>Espaço Metropolitano=%{y}<extra></extra>",
           "legendgroup": "Médio-Alto",
           "marker": {
            "color": "rgb(178,24,43)"
           },
           "name": "Médio-Alto",
           "offsetgroup": "Médio-Alto",
           "orientation": "h",
           "showlegend": true,
           "textposition": "auto",
           "type": "bar",
           "x": [
            82714,
            6413,
            2455,
            7434
           ],
           "xaxis": "x",
           "y": [
            "Curitiba",
            null,
            null,
            null
           ],
           "yaxis": "y"
          },
          {
           "alignmentgroup": "True",
           "hovertemplate": "Nível Tecnológico=Médio-Baixo<br>Ano=2012<br>Pessoal=%{x}<br>Espaço Metropolitano=%{y}<extra></extra>",
           "legendgroup": "Médio-Baixo",
           "marker": {
            "color": "rgb(214,96,77)"
           },
           "name": "Médio-Baixo",
           "offsetgroup": "Médio-Baixo",
           "orientation": "h",
           "showlegend": true,
           "textposition": "auto",
           "type": "bar",
           "x": [
            54230,
            6869,
            4271,
            10510
           ],
           "xaxis": "x",
           "y": [
            "Curitiba",
            null,
            null,
            null
           ],
           "yaxis": "y"
          },
          {
           "alignmentgroup": "True",
           "hovertemplate": "Nível Tecnológico=Baixo<br>Ano=2012<br>Pessoal=%{x}<br>Espaço Metropolitano=%{y}<extra></extra>",
           "legendgroup": "Baixo",
           "marker": {
            "color": "rgb(244,165,130)"
           },
           "name": "Baixo",
           "offsetgroup": "Baixo",
           "orientation": "h",
           "showlegend": true,
           "textposition": "auto",
           "type": "bar",
           "x": [
            57031,
            26369,
            12585,
            18747
           ],
           "xaxis": "x",
           "y": [
            "Curitiba",
            null,
            null,
            null
           ],
           "yaxis": "y"
          }
         ],
         "name": "2012"
        },
        {
         "data": [
          {
           "alignmentgroup": "True",
           "hovertemplate": "Nível Tecnológico=Alto<br>Ano=2013<br>Pessoal=%{x}<br>Espaço Metropolitano=%{y}<extra></extra>",
           "legendgroup": "Alto",
           "marker": {
            "color": "rgb(103,0,31)"
           },
           "name": "Alto",
           "offsetgroup": "Alto",
           "orientation": "h",
           "showlegend": true,
           "textposition": "auto",
           "type": "bar",
           "x": [
            9705,
            695,
            1548,
            7
           ],
           "xaxis": "x",
           "y": [
            "Curitiba",
            null,
            null,
            null
           ],
           "yaxis": "y"
          },
          {
           "alignmentgroup": "True",
           "hovertemplate": "Nível Tecnológico=Médio-Alto<br>Ano=2013<br>Pessoal=%{x}<br>Espaço Metropolitano=%{y}<extra></extra>",
           "legendgroup": "Médio-Alto",
           "marker": {
            "color": "rgb(178,24,43)"
           },
           "name": "Médio-Alto",
           "offsetgroup": "Médio-Alto",
           "orientation": "h",
           "showlegend": true,
           "textposition": "auto",
           "type": "bar",
           "x": [
            80549,
            6867,
            7630,
            2747
           ],
           "xaxis": "x",
           "y": [
            "Curitiba",
            null,
            null,
            null
           ],
           "yaxis": "y"
          },
          {
           "alignmentgroup": "True",
           "hovertemplate": "Nível Tecnológico=Médio-Baixo<br>Ano=2013<br>Pessoal=%{x}<br>Espaço Metropolitano=%{y}<extra></extra>",
           "legendgroup": "Médio-Baixo",
           "marker": {
            "color": "rgb(214,96,77)"
           },
           "name": "Médio-Baixo",
           "offsetgroup": "Médio-Baixo",
           "orientation": "h",
           "showlegend": true,
           "textposition": "auto",
           "type": "bar",
           "x": [
            55055,
            7257,
            10737,
            4371
           ],
           "xaxis": "x",
           "y": [
            "Curitiba",
            null,
            null,
            null
           ],
           "yaxis": "y"
          },
          {
           "alignmentgroup": "True",
           "hovertemplate": "Nível Tecnológico=Baixo<br>Ano=2013<br>Pessoal=%{x}<br>Espaço Metropolitano=%{y}<extra></extra>",
           "legendgroup": "Baixo",
           "marker": {
            "color": "rgb(244,165,130)"
           },
           "name": "Baixo",
           "offsetgroup": "Baixo",
           "orientation": "h",
           "showlegend": true,
           "textposition": "auto",
           "type": "bar",
           "x": [
            56972,
            25521,
            18295,
            13172
           ],
           "xaxis": "x",
           "y": [
            "Curitiba",
            null,
            null,
            null
           ],
           "yaxis": "y"
          }
         ],
         "name": "2013"
        },
        {
         "data": [
          {
           "alignmentgroup": "True",
           "hovertemplate": "Nível Tecnológico=Alto<br>Ano=2014<br>Pessoal=%{x}<br>Espaço Metropolitano=%{y}<extra></extra>",
           "legendgroup": "Alto",
           "marker": {
            "color": "rgb(103,0,31)"
           },
           "name": "Alto",
           "offsetgroup": "Alto",
           "orientation": "h",
           "showlegend": true,
           "textposition": "auto",
           "type": "bar",
           "x": [
            8887,
            12,
            647,
            1374
           ],
           "xaxis": "x",
           "y": [
            "Curitiba",
            null,
            null,
            null
           ],
           "yaxis": "y"
          },
          {
           "alignmentgroup": "True",
           "hovertemplate": "Nível Tecnológico=Médio-Alto<br>Ano=2014<br>Pessoal=%{x}<br>Espaço Metropolitano=%{y}<extra></extra>",
           "legendgroup": "Médio-Alto",
           "marker": {
            "color": "rgb(178,24,43)"
           },
           "name": "Médio-Alto",
           "offsetgroup": "Médio-Alto",
           "orientation": "h",
           "showlegend": true,
           "textposition": "auto",
           "type": "bar",
           "x": [
            73766,
            2905,
            6647,
            7656
           ],
           "xaxis": "x",
           "y": [
            "Curitiba",
            null,
            null,
            null
           ],
           "yaxis": "y"
          },
          {
           "alignmentgroup": "True",
           "hovertemplate": "Nível Tecnológico=Médio-Baixo<br>Ano=2014<br>Pessoal=%{x}<br>Espaço Metropolitano=%{y}<extra></extra>",
           "legendgroup": "Médio-Baixo",
           "marker": {
            "color": "rgb(214,96,77)"
           },
           "name": "Médio-Baixo",
           "offsetgroup": "Médio-Baixo",
           "orientation": "h",
           "showlegend": true,
           "textposition": "auto",
           "type": "bar",
           "x": [
            52938,
            4231,
            7302,
            9632
           ],
           "xaxis": "x",
           "y": [
            "Curitiba",
            null,
            null,
            null
           ],
           "yaxis": "y"
          },
          {
           "alignmentgroup": "True",
           "hovertemplate": "Nível Tecnológico=Baixo<br>Ano=2014<br>Pessoal=%{x}<br>Espaço Metropolitano=%{y}<extra></extra>",
           "legendgroup": "Baixo",
           "marker": {
            "color": "rgb(244,165,130)"
           },
           "name": "Baixo",
           "offsetgroup": "Baixo",
           "orientation": "h",
           "showlegend": true,
           "textposition": "auto",
           "type": "bar",
           "x": [
            55939,
            13538,
            25431,
            17445
           ],
           "xaxis": "x",
           "y": [
            "Curitiba",
            null,
            null,
            null
           ],
           "yaxis": "y"
          }
         ],
         "name": "2014"
        },
        {
         "data": [
          {
           "alignmentgroup": "True",
           "hovertemplate": "Nível Tecnológico=Alto<br>Ano=2015<br>Pessoal=%{x}<br>Espaço Metropolitano=%{y}<extra></extra>",
           "legendgroup": "Alto",
           "marker": {
            "color": "rgb(103,0,31)"
           },
           "name": "Alto",
           "offsetgroup": "Alto",
           "orientation": "h",
           "showlegend": true,
           "textposition": "auto",
           "type": "bar",
           "x": [
            7380,
            1276,
            17,
            611
           ],
           "xaxis": "x",
           "y": [
            "Curitiba",
            null,
            null,
            null
           ],
           "yaxis": "y"
          },
          {
           "alignmentgroup": "True",
           "hovertemplate": "Nível Tecnológico=Médio-Alto<br>Ano=2015<br>Pessoal=%{x}<br>Espaço Metropolitano=%{y}<extra></extra>",
           "legendgroup": "Médio-Alto",
           "marker": {
            "color": "rgb(178,24,43)"
           },
           "name": "Médio-Alto",
           "offsetgroup": "Médio-Alto",
           "orientation": "h",
           "showlegend": true,
           "textposition": "auto",
           "type": "bar",
           "x": [
            64756,
            7092,
            2699,
            5695
           ],
           "xaxis": "x",
           "y": [
            "Curitiba",
            null,
            null,
            null
           ],
           "yaxis": "y"
          },
          {
           "alignmentgroup": "True",
           "hovertemplate": "Nível Tecnológico=Médio-Baixo<br>Ano=2015<br>Pessoal=%{x}<br>Espaço Metropolitano=%{y}<extra></extra>",
           "legendgroup": "Médio-Baixo",
           "marker": {
            "color": "rgb(214,96,77)"
           },
           "name": "Médio-Baixo",
           "offsetgroup": "Médio-Baixo",
           "orientation": "h",
           "showlegend": true,
           "textposition": "auto",
           "type": "bar",
           "x": [
            48678,
            8674,
            4440,
            6646
           ],
           "xaxis": "x",
           "y": [
            "Curitiba",
            null,
            null,
            null
           ],
           "yaxis": "y"
          },
          {
           "alignmentgroup": "True",
           "hovertemplate": "Nível Tecnológico=Baixo<br>Ano=2015<br>Pessoal=%{x}<br>Espaço Metropolitano=%{y}<extra></extra>",
           "legendgroup": "Baixo",
           "marker": {
            "color": "rgb(244,165,130)"
           },
           "name": "Baixo",
           "offsetgroup": "Baixo",
           "orientation": "h",
           "showlegend": true,
           "textposition": "auto",
           "type": "bar",
           "x": [
            51220,
            16580,
            12737,
            24076
           ],
           "xaxis": "x",
           "y": [
            "Curitiba",
            null,
            null,
            null
           ],
           "yaxis": "y"
          }
         ],
         "name": "2015"
        },
        {
         "data": [
          {
           "alignmentgroup": "True",
           "hovertemplate": "Nível Tecnológico=Alto<br>Ano=2016<br>Pessoal=%{x}<br>Espaço Metropolitano=%{y}<extra></extra>",
           "legendgroup": "Alto",
           "marker": {
            "color": "rgb(103,0,31)"
           },
           "name": "Alto",
           "offsetgroup": "Alto",
           "orientation": "h",
           "showlegend": true,
           "textposition": "auto",
           "type": "bar",
           "x": [
            6166,
            1208,
            603,
            16
           ],
           "xaxis": "x",
           "y": [
            "Curitiba",
            null,
            null,
            null
           ],
           "yaxis": "y"
          },
          {
           "alignmentgroup": "True",
           "hovertemplate": "Nível Tecnológico=Médio-Alto<br>Ano=2016<br>Pessoal=%{x}<br>Espaço Metropolitano=%{y}<extra></extra>",
           "legendgroup": "Médio-Alto",
           "marker": {
            "color": "rgb(178,24,43)"
           },
           "name": "Médio-Alto",
           "offsetgroup": "Médio-Alto",
           "orientation": "h",
           "showlegend": true,
           "textposition": "auto",
           "type": "bar",
           "x": [
            60841,
            6780,
            5251,
            2571
           ],
           "xaxis": "x",
           "y": [
            "Curitiba",
            null,
            null,
            null
           ],
           "yaxis": "y"
          },
          {
           "alignmentgroup": "True",
           "hovertemplate": "Nível Tecnológico=Médio-Baixo<br>Ano=2016<br>Pessoal=%{x}<br>Espaço Metropolitano=%{y}<extra></extra>",
           "legendgroup": "Médio-Baixo",
           "marker": {
            "color": "rgb(214,96,77)"
           },
           "name": "Médio-Baixo",
           "offsetgroup": "Médio-Baixo",
           "orientation": "h",
           "showlegend": true,
           "textposition": "auto",
           "type": "bar",
           "x": [
            45492,
            7792,
            6450,
            4293
           ],
           "xaxis": "x",
           "y": [
            "Curitiba",
            null,
            null,
            null
           ],
           "yaxis": "y"
          },
          {
           "alignmentgroup": "True",
           "hovertemplate": "Nível Tecnológico=Baixo<br>Ano=2016<br>Pessoal=%{x}<br>Espaço Metropolitano=%{y}<extra></extra>",
           "legendgroup": "Baixo",
           "marker": {
            "color": "rgb(244,165,130)"
           },
           "name": "Baixo",
           "offsetgroup": "Baixo",
           "orientation": "h",
           "showlegend": true,
           "textposition": "auto",
           "type": "bar",
           "x": [
            48744,
            15255,
            23083,
            10764
           ],
           "xaxis": "x",
           "y": [
            "Curitiba",
            null,
            null,
            null
           ],
           "yaxis": "y"
          }
         ],
         "name": "2016"
        },
        {
         "data": [
          {
           "alignmentgroup": "True",
           "hovertemplate": "Nível Tecnológico=Alto<br>Ano=2017<br>Pessoal=%{x}<br>Espaço Metropolitano=%{y}<extra></extra>",
           "legendgroup": "Alto",
           "marker": {
            "color": "rgb(103,0,31)"
           },
           "name": "Alto",
           "offsetgroup": "Alto",
           "orientation": "h",
           "showlegend": true,
           "textposition": "auto",
           "type": "bar",
           "x": [
            6121,
            735,
            21,
            1151
           ],
           "xaxis": "x",
           "y": [
            "Curitiba",
            null,
            null,
            null
           ],
           "yaxis": "y"
          },
          {
           "alignmentgroup": "True",
           "hovertemplate": "Nível Tecnológico=Médio-Alto<br>Ano=2017<br>Pessoal=%{x}<br>Espaço Metropolitano=%{y}<extra></extra>",
           "legendgroup": "Médio-Alto",
           "marker": {
            "color": "rgb(178,24,43)"
           },
           "name": "Médio-Alto",
           "offsetgroup": "Médio-Alto",
           "orientation": "h",
           "showlegend": true,
           "textposition": "auto",
           "type": "bar",
           "x": [
            61754,
            5033,
            2505,
            6949
           ],
           "xaxis": "x",
           "y": [
            "Curitiba",
            null,
            null,
            null
           ],
           "yaxis": "y"
          },
          {
           "alignmentgroup": "True",
           "hovertemplate": "Nível Tecnológico=Médio-Baixo<br>Ano=2017<br>Pessoal=%{x}<br>Espaço Metropolitano=%{y}<extra></extra>",
           "legendgroup": "Médio-Baixo",
           "marker": {
            "color": "rgb(214,96,77)"
           },
           "name": "Médio-Baixo",
           "offsetgroup": "Médio-Baixo",
           "orientation": "h",
           "showlegend": true,
           "textposition": "auto",
           "type": "bar",
           "x": [
            45131,
            6345,
            4138,
            7715
           ],
           "xaxis": "x",
           "y": [
            "Curitiba",
            null,
            null,
            null
           ],
           "yaxis": "y"
          },
          {
           "alignmentgroup": "True",
           "hovertemplate": "Nível Tecnológico=Baixo<br>Ano=2017<br>Pessoal=%{x}<br>Espaço Metropolitano=%{y}<extra></extra>",
           "legendgroup": "Baixo",
           "marker": {
            "color": "rgb(244,165,130)"
           },
           "name": "Baixo",
           "offsetgroup": "Baixo",
           "orientation": "h",
           "showlegend": true,
           "textposition": "auto",
           "type": "bar",
           "x": [
            46028,
            22571,
            12468,
            14462
           ],
           "xaxis": "x",
           "y": [
            "Curitiba",
            null,
            null,
            null
           ],
           "yaxis": "y"
          }
         ],
         "name": "2017"
        },
        {
         "data": [
          {
           "alignmentgroup": "True",
           "hovertemplate": "Nível Tecnológico=Alto<br>Ano=2018<br>Pessoal=%{x}<br>Espaço Metropolitano=%{y}<extra></extra>",
           "legendgroup": "Alto",
           "marker": {
            "color": "rgb(103,0,31)"
           },
           "name": "Alto",
           "offsetgroup": "Alto",
           "orientation": "h",
           "showlegend": true,
           "textposition": "auto",
           "type": "bar",
           "x": [
            6017,
            7,
            731,
            1125
           ],
           "xaxis": "x",
           "y": [
            "Curitiba",
            null,
            null,
            null
           ],
           "yaxis": "y"
          },
          {
           "alignmentgroup": "True",
           "hovertemplate": "Nível Tecnológico=Médio-Alto<br>Ano=2018<br>Pessoal=%{x}<br>Espaço Metropolitano=%{y}<extra></extra>",
           "legendgroup": "Médio-Alto",
           "marker": {
            "color": "rgb(178,24,43)"
           },
           "name": "Médio-Alto",
           "offsetgroup": "Médio-Alto",
           "orientation": "h",
           "showlegend": true,
           "textposition": "auto",
           "type": "bar",
           "x": [
            64142,
            2862,
            5451,
            7082
           ],
           "xaxis": "x",
           "y": [
            "Curitiba",
            null,
            null,
            null
           ],
           "yaxis": "y"
          },
          {
           "alignmentgroup": "True",
           "hovertemplate": "Nível Tecnológico=Médio-Baixo<br>Ano=2018<br>Pessoal=%{x}<br>Espaço Metropolitano=%{y}<extra></extra>",
           "legendgroup": "Médio-Baixo",
           "marker": {
            "color": "rgb(214,96,77)"
           },
           "name": "Médio-Baixo",
           "offsetgroup": "Médio-Baixo",
           "orientation": "h",
           "showlegend": true,
           "textposition": "auto",
           "type": "bar",
           "x": [
            45825,
            4446,
            6363,
            7961
           ],
           "xaxis": "x",
           "y": [
            "Curitiba",
            null,
            null,
            null
           ],
           "yaxis": "y"
          },
          {
           "alignmentgroup": "True",
           "hovertemplate": "Nível Tecnológico=Baixo<br>Ano=2018<br>Pessoal=%{x}<br>Espaço Metropolitano=%{y}<extra></extra>",
           "legendgroup": "Baixo",
           "marker": {
            "color": "rgb(244,165,130)"
           },
           "name": "Baixo",
           "offsetgroup": "Baixo",
           "orientation": "h",
           "showlegend": true,
           "textposition": "auto",
           "type": "bar",
           "x": [
            47017,
            10665,
            23102,
            14070
           ],
           "xaxis": "x",
           "y": [
            "Curitiba",
            null,
            null,
            null
           ],
           "yaxis": "y"
          }
         ],
         "name": "2018"
        }
       ],
       "layout": {
        "barmode": "relative",
        "height": 700,
        "legend": {
         "title": {
          "text": "Nível Tecnológico"
         },
         "tracegroupgap": 0
        },
        "sliders": [
         {
          "active": 0,
          "currentvalue": {
           "prefix": "Ano="
          },
          "len": 0.9,
          "pad": {
           "b": 10,
           "t": 60
          },
          "steps": [
           {
            "args": [
             [
              "2000"
             ],
             {
              "frame": {
               "duration": 0,
               "redraw": true
              },
              "fromcurrent": true,
              "mode": "immediate",
              "transition": {
               "duration": 0,
               "easing": "linear"
              }
             }
            ],
            "label": "2000",
            "method": "animate"
           },
           {
            "args": [
             [
              "2001"
             ],
             {
              "frame": {
               "duration": 0,
               "redraw": true
              },
              "fromcurrent": true,
              "mode": "immediate",
              "transition": {
               "duration": 0,
               "easing": "linear"
              }
             }
            ],
            "label": "2001",
            "method": "animate"
           },
           {
            "args": [
             [
              "2002"
             ],
             {
              "frame": {
               "duration": 0,
               "redraw": true
              },
              "fromcurrent": true,
              "mode": "immediate",
              "transition": {
               "duration": 0,
               "easing": "linear"
              }
             }
            ],
            "label": "2002",
            "method": "animate"
           },
           {
            "args": [
             [
              "2003"
             ],
             {
              "frame": {
               "duration": 0,
               "redraw": true
              },
              "fromcurrent": true,
              "mode": "immediate",
              "transition": {
               "duration": 0,
               "easing": "linear"
              }
             }
            ],
            "label": "2003",
            "method": "animate"
           },
           {
            "args": [
             [
              "2004"
             ],
             {
              "frame": {
               "duration": 0,
               "redraw": true
              },
              "fromcurrent": true,
              "mode": "immediate",
              "transition": {
               "duration": 0,
               "easing": "linear"
              }
             }
            ],
            "label": "2004",
            "method": "animate"
           },
           {
            "args": [
             [
              "2005"
             ],
             {
              "frame": {
               "duration": 0,
               "redraw": true
              },
              "fromcurrent": true,
              "mode": "immediate",
              "transition": {
               "duration": 0,
               "easing": "linear"
              }
             }
            ],
            "label": "2005",
            "method": "animate"
           },
           {
            "args": [
             [
              "2006"
             ],
             {
              "frame": {
               "duration": 0,
               "redraw": true
              },
              "fromcurrent": true,
              "mode": "immediate",
              "transition": {
               "duration": 0,
               "easing": "linear"
              }
             }
            ],
            "label": "2006",
            "method": "animate"
           },
           {
            "args": [
             [
              "2007"
             ],
             {
              "frame": {
               "duration": 0,
               "redraw": true
              },
              "fromcurrent": true,
              "mode": "immediate",
              "transition": {
               "duration": 0,
               "easing": "linear"
              }
             }
            ],
            "label": "2007",
            "method": "animate"
           },
           {
            "args": [
             [
              "2008"
             ],
             {
              "frame": {
               "duration": 0,
               "redraw": true
              },
              "fromcurrent": true,
              "mode": "immediate",
              "transition": {
               "duration": 0,
               "easing": "linear"
              }
             }
            ],
            "label": "2008",
            "method": "animate"
           },
           {
            "args": [
             [
              "2009"
             ],
             {
              "frame": {
               "duration": 0,
               "redraw": true
              },
              "fromcurrent": true,
              "mode": "immediate",
              "transition": {
               "duration": 0,
               "easing": "linear"
              }
             }
            ],
            "label": "2009",
            "method": "animate"
           },
           {
            "args": [
             [
              "2010"
             ],
             {
              "frame": {
               "duration": 0,
               "redraw": true
              },
              "fromcurrent": true,
              "mode": "immediate",
              "transition": {
               "duration": 0,
               "easing": "linear"
              }
             }
            ],
            "label": "2010",
            "method": "animate"
           },
           {
            "args": [
             [
              "2011"
             ],
             {
              "frame": {
               "duration": 0,
               "redraw": true
              },
              "fromcurrent": true,
              "mode": "immediate",
              "transition": {
               "duration": 0,
               "easing": "linear"
              }
             }
            ],
            "label": "2011",
            "method": "animate"
           },
           {
            "args": [
             [
              "2012"
             ],
             {
              "frame": {
               "duration": 0,
               "redraw": true
              },
              "fromcurrent": true,
              "mode": "immediate",
              "transition": {
               "duration": 0,
               "easing": "linear"
              }
             }
            ],
            "label": "2012",
            "method": "animate"
           },
           {
            "args": [
             [
              "2013"
             ],
             {
              "frame": {
               "duration": 0,
               "redraw": true
              },
              "fromcurrent": true,
              "mode": "immediate",
              "transition": {
               "duration": 0,
               "easing": "linear"
              }
             }
            ],
            "label": "2013",
            "method": "animate"
           },
           {
            "args": [
             [
              "2014"
             ],
             {
              "frame": {
               "duration": 0,
               "redraw": true
              },
              "fromcurrent": true,
              "mode": "immediate",
              "transition": {
               "duration": 0,
               "easing": "linear"
              }
             }
            ],
            "label": "2014",
            "method": "animate"
           },
           {
            "args": [
             [
              "2015"
             ],
             {
              "frame": {
               "duration": 0,
               "redraw": true
              },
              "fromcurrent": true,
              "mode": "immediate",
              "transition": {
               "duration": 0,
               "easing": "linear"
              }
             }
            ],
            "label": "2015",
            "method": "animate"
           },
           {
            "args": [
             [
              "2016"
             ],
             {
              "frame": {
               "duration": 0,
               "redraw": true
              },
              "fromcurrent": true,
              "mode": "immediate",
              "transition": {
               "duration": 0,
               "easing": "linear"
              }
             }
            ],
            "label": "2016",
            "method": "animate"
           },
           {
            "args": [
             [
              "2017"
             ],
             {
              "frame": {
               "duration": 0,
               "redraw": true
              },
              "fromcurrent": true,
              "mode": "immediate",
              "transition": {
               "duration": 0,
               "easing": "linear"
              }
             }
            ],
            "label": "2017",
            "method": "animate"
           },
           {
            "args": [
             [
              "2018"
             ],
             {
              "frame": {
               "duration": 0,
               "redraw": true
              },
              "fromcurrent": true,
              "mode": "immediate",
              "transition": {
               "duration": 0,
               "easing": "linear"
              }
             }
            ],
            "label": "2018",
            "method": "animate"
           }
          ],
          "x": 0.1,
          "xanchor": "left",
          "y": 0,
          "yanchor": "top"
         }
        ],
        "template": {
         "data": {
          "bar": [
           {
            "error_x": {
             "color": "#2a3f5f"
            },
            "error_y": {
             "color": "#2a3f5f"
            },
            "marker": {
             "line": {
              "color": "#E5ECF6",
              "width": 0.5
             }
            },
            "type": "bar"
           }
          ],
          "barpolar": [
           {
            "marker": {
             "line": {
              "color": "#E5ECF6",
              "width": 0.5
             }
            },
            "type": "barpolar"
           }
          ],
          "carpet": [
           {
            "aaxis": {
             "endlinecolor": "#2a3f5f",
             "gridcolor": "white",
             "linecolor": "white",
             "minorgridcolor": "white",
             "startlinecolor": "#2a3f5f"
            },
            "baxis": {
             "endlinecolor": "#2a3f5f",
             "gridcolor": "white",
             "linecolor": "white",
             "minorgridcolor": "white",
             "startlinecolor": "#2a3f5f"
            },
            "type": "carpet"
           }
          ],
          "choropleth": [
           {
            "colorbar": {
             "outlinewidth": 0,
             "ticks": ""
            },
            "type": "choropleth"
           }
          ],
          "contour": [
           {
            "colorbar": {
             "outlinewidth": 0,
             "ticks": ""
            },
            "colorscale": [
             [
              0,
              "#0d0887"
             ],
             [
              0.1111111111111111,
              "#46039f"
             ],
             [
              0.2222222222222222,
              "#7201a8"
             ],
             [
              0.3333333333333333,
              "#9c179e"
             ],
             [
              0.4444444444444444,
              "#bd3786"
             ],
             [
              0.5555555555555556,
              "#d8576b"
             ],
             [
              0.6666666666666666,
              "#ed7953"
             ],
             [
              0.7777777777777778,
              "#fb9f3a"
             ],
             [
              0.8888888888888888,
              "#fdca26"
             ],
             [
              1,
              "#f0f921"
             ]
            ],
            "type": "contour"
           }
          ],
          "contourcarpet": [
           {
            "colorbar": {
             "outlinewidth": 0,
             "ticks": ""
            },
            "type": "contourcarpet"
           }
          ],
          "heatmap": [
           {
            "colorbar": {
             "outlinewidth": 0,
             "ticks": ""
            },
            "colorscale": [
             [
              0,
              "#0d0887"
             ],
             [
              0.1111111111111111,
              "#46039f"
             ],
             [
              0.2222222222222222,
              "#7201a8"
             ],
             [
              0.3333333333333333,
              "#9c179e"
             ],
             [
              0.4444444444444444,
              "#bd3786"
             ],
             [
              0.5555555555555556,
              "#d8576b"
             ],
             [
              0.6666666666666666,
              "#ed7953"
             ],
             [
              0.7777777777777778,
              "#fb9f3a"
             ],
             [
              0.8888888888888888,
              "#fdca26"
             ],
             [
              1,
              "#f0f921"
             ]
            ],
            "type": "heatmap"
           }
          ],
          "heatmapgl": [
           {
            "colorbar": {
             "outlinewidth": 0,
             "ticks": ""
            },
            "colorscale": [
             [
              0,
              "#0d0887"
             ],
             [
              0.1111111111111111,
              "#46039f"
             ],
             [
              0.2222222222222222,
              "#7201a8"
             ],
             [
              0.3333333333333333,
              "#9c179e"
             ],
             [
              0.4444444444444444,
              "#bd3786"
             ],
             [
              0.5555555555555556,
              "#d8576b"
             ],
             [
              0.6666666666666666,
              "#ed7953"
             ],
             [
              0.7777777777777778,
              "#fb9f3a"
             ],
             [
              0.8888888888888888,
              "#fdca26"
             ],
             [
              1,
              "#f0f921"
             ]
            ],
            "type": "heatmapgl"
           }
          ],
          "histogram": [
           {
            "marker": {
             "colorbar": {
              "outlinewidth": 0,
              "ticks": ""
             }
            },
            "type": "histogram"
           }
          ],
          "histogram2d": [
           {
            "colorbar": {
             "outlinewidth": 0,
             "ticks": ""
            },
            "colorscale": [
             [
              0,
              "#0d0887"
             ],
             [
              0.1111111111111111,
              "#46039f"
             ],
             [
              0.2222222222222222,
              "#7201a8"
             ],
             [
              0.3333333333333333,
              "#9c179e"
             ],
             [
              0.4444444444444444,
              "#bd3786"
             ],
             [
              0.5555555555555556,
              "#d8576b"
             ],
             [
              0.6666666666666666,
              "#ed7953"
             ],
             [
              0.7777777777777778,
              "#fb9f3a"
             ],
             [
              0.8888888888888888,
              "#fdca26"
             ],
             [
              1,
              "#f0f921"
             ]
            ],
            "type": "histogram2d"
           }
          ],
          "histogram2dcontour": [
           {
            "colorbar": {
             "outlinewidth": 0,
             "ticks": ""
            },
            "colorscale": [
             [
              0,
              "#0d0887"
             ],
             [
              0.1111111111111111,
              "#46039f"
             ],
             [
              0.2222222222222222,
              "#7201a8"
             ],
             [
              0.3333333333333333,
              "#9c179e"
             ],
             [
              0.4444444444444444,
              "#bd3786"
             ],
             [
              0.5555555555555556,
              "#d8576b"
             ],
             [
              0.6666666666666666,
              "#ed7953"
             ],
             [
              0.7777777777777778,
              "#fb9f3a"
             ],
             [
              0.8888888888888888,
              "#fdca26"
             ],
             [
              1,
              "#f0f921"
             ]
            ],
            "type": "histogram2dcontour"
           }
          ],
          "mesh3d": [
           {
            "colorbar": {
             "outlinewidth": 0,
             "ticks": ""
            },
            "type": "mesh3d"
           }
          ],
          "parcoords": [
           {
            "line": {
             "colorbar": {
              "outlinewidth": 0,
              "ticks": ""
             }
            },
            "type": "parcoords"
           }
          ],
          "pie": [
           {
            "automargin": true,
            "type": "pie"
           }
          ],
          "scatter": [
           {
            "marker": {
             "colorbar": {
              "outlinewidth": 0,
              "ticks": ""
             }
            },
            "type": "scatter"
           }
          ],
          "scatter3d": [
           {
            "line": {
             "colorbar": {
              "outlinewidth": 0,
              "ticks": ""
             }
            },
            "marker": {
             "colorbar": {
              "outlinewidth": 0,
              "ticks": ""
             }
            },
            "type": "scatter3d"
           }
          ],
          "scattercarpet": [
           {
            "marker": {
             "colorbar": {
              "outlinewidth": 0,
              "ticks": ""
             }
            },
            "type": "scattercarpet"
           }
          ],
          "scattergeo": [
           {
            "marker": {
             "colorbar": {
              "outlinewidth": 0,
              "ticks": ""
             }
            },
            "type": "scattergeo"
           }
          ],
          "scattergl": [
           {
            "marker": {
             "colorbar": {
              "outlinewidth": 0,
              "ticks": ""
             }
            },
            "type": "scattergl"
           }
          ],
          "scattermapbox": [
           {
            "marker": {
             "colorbar": {
              "outlinewidth": 0,
              "ticks": ""
             }
            },
            "type": "scattermapbox"
           }
          ],
          "scatterpolar": [
           {
            "marker": {
             "colorbar": {
              "outlinewidth": 0,
              "ticks": ""
             }
            },
            "type": "scatterpolar"
           }
          ],
          "scatterpolargl": [
           {
            "marker": {
             "colorbar": {
              "outlinewidth": 0,
              "ticks": ""
             }
            },
            "type": "scatterpolargl"
           }
          ],
          "scatterternary": [
           {
            "marker": {
             "colorbar": {
              "outlinewidth": 0,
              "ticks": ""
             }
            },
            "type": "scatterternary"
           }
          ],
          "surface": [
           {
            "colorbar": {
             "outlinewidth": 0,
             "ticks": ""
            },
            "colorscale": [
             [
              0,
              "#0d0887"
             ],
             [
              0.1111111111111111,
              "#46039f"
             ],
             [
              0.2222222222222222,
              "#7201a8"
             ],
             [
              0.3333333333333333,
              "#9c179e"
             ],
             [
              0.4444444444444444,
              "#bd3786"
             ],
             [
              0.5555555555555556,
              "#d8576b"
             ],
             [
              0.6666666666666666,
              "#ed7953"
             ],
             [
              0.7777777777777778,
              "#fb9f3a"
             ],
             [
              0.8888888888888888,
              "#fdca26"
             ],
             [
              1,
              "#f0f921"
             ]
            ],
            "type": "surface"
           }
          ],
          "table": [
           {
            "cells": {
             "fill": {
              "color": "#EBF0F8"
             },
             "line": {
              "color": "white"
             }
            },
            "header": {
             "fill": {
              "color": "#C8D4E3"
             },
             "line": {
              "color": "white"
             }
            },
            "type": "table"
           }
          ]
         },
         "layout": {
          "annotationdefaults": {
           "arrowcolor": "#2a3f5f",
           "arrowhead": 0,
           "arrowwidth": 1
          },
          "coloraxis": {
           "colorbar": {
            "outlinewidth": 0,
            "ticks": ""
           }
          },
          "colorscale": {
           "diverging": [
            [
             0,
             "#8e0152"
            ],
            [
             0.1,
             "#c51b7d"
            ],
            [
             0.2,
             "#de77ae"
            ],
            [
             0.3,
             "#f1b6da"
            ],
            [
             0.4,
             "#fde0ef"
            ],
            [
             0.5,
             "#f7f7f7"
            ],
            [
             0.6,
             "#e6f5d0"
            ],
            [
             0.7,
             "#b8e186"
            ],
            [
             0.8,
             "#7fbc41"
            ],
            [
             0.9,
             "#4d9221"
            ],
            [
             1,
             "#276419"
            ]
           ],
           "sequential": [
            [
             0,
             "#0d0887"
            ],
            [
             0.1111111111111111,
             "#46039f"
            ],
            [
             0.2222222222222222,
             "#7201a8"
            ],
            [
             0.3333333333333333,
             "#9c179e"
            ],
            [
             0.4444444444444444,
             "#bd3786"
            ],
            [
             0.5555555555555556,
             "#d8576b"
            ],
            [
             0.6666666666666666,
             "#ed7953"
            ],
            [
             0.7777777777777778,
             "#fb9f3a"
            ],
            [
             0.8888888888888888,
             "#fdca26"
            ],
            [
             1,
             "#f0f921"
            ]
           ],
           "sequentialminus": [
            [
             0,
             "#0d0887"
            ],
            [
             0.1111111111111111,
             "#46039f"
            ],
            [
             0.2222222222222222,
             "#7201a8"
            ],
            [
             0.3333333333333333,
             "#9c179e"
            ],
            [
             0.4444444444444444,
             "#bd3786"
            ],
            [
             0.5555555555555556,
             "#d8576b"
            ],
            [
             0.6666666666666666,
             "#ed7953"
            ],
            [
             0.7777777777777778,
             "#fb9f3a"
            ],
            [
             0.8888888888888888,
             "#fdca26"
            ],
            [
             1,
             "#f0f921"
            ]
           ]
          },
          "colorway": [
           "#636efa",
           "#EF553B",
           "#00cc96",
           "#ab63fa",
           "#FFA15A",
           "#19d3f3",
           "#FF6692",
           "#B6E880",
           "#FF97FF",
           "#FECB52"
          ],
          "font": {
           "color": "#2a3f5f"
          },
          "geo": {
           "bgcolor": "white",
           "lakecolor": "white",
           "landcolor": "#E5ECF6",
           "showlakes": true,
           "showland": true,
           "subunitcolor": "white"
          },
          "hoverlabel": {
           "align": "left"
          },
          "hovermode": "closest",
          "mapbox": {
           "style": "light"
          },
          "paper_bgcolor": "white",
          "plot_bgcolor": "#E5ECF6",
          "polar": {
           "angularaxis": {
            "gridcolor": "white",
            "linecolor": "white",
            "ticks": ""
           },
           "bgcolor": "#E5ECF6",
           "radialaxis": {
            "gridcolor": "white",
            "linecolor": "white",
            "ticks": ""
           }
          },
          "scene": {
           "xaxis": {
            "backgroundcolor": "#E5ECF6",
            "gridcolor": "white",
            "gridwidth": 2,
            "linecolor": "white",
            "showbackground": true,
            "ticks": "",
            "zerolinecolor": "white"
           },
           "yaxis": {
            "backgroundcolor": "#E5ECF6",
            "gridcolor": "white",
            "gridwidth": 2,
            "linecolor": "white",
            "showbackground": true,
            "ticks": "",
            "zerolinecolor": "white"
           },
           "zaxis": {
            "backgroundcolor": "#E5ECF6",
            "gridcolor": "white",
            "gridwidth": 2,
            "linecolor": "white",
            "showbackground": true,
            "ticks": "",
            "zerolinecolor": "white"
           }
          },
          "shapedefaults": {
           "line": {
            "color": "#2a3f5f"
           }
          },
          "ternary": {
           "aaxis": {
            "gridcolor": "white",
            "linecolor": "white",
            "ticks": ""
           },
           "baxis": {
            "gridcolor": "white",
            "linecolor": "white",
            "ticks": ""
           },
           "bgcolor": "#E5ECF6",
           "caxis": {
            "gridcolor": "white",
            "linecolor": "white",
            "ticks": ""
           }
          },
          "title": {
           "x": 0.05
          },
          "xaxis": {
           "automargin": true,
           "gridcolor": "white",
           "linecolor": "white",
           "ticks": "",
           "title": {
            "standoff": 15
           },
           "zerolinecolor": "white",
           "zerolinewidth": 2
          },
          "yaxis": {
           "automargin": true,
           "gridcolor": "white",
           "linecolor": "white",
           "ticks": "",
           "title": {
            "standoff": 15
           },
           "zerolinecolor": "white",
           "zerolinewidth": 2
          }
         }
        },
        "title": {
         "text": "Indústrias no Espaços Metropolitanos Segundo Nível Tecnológico entre 2000 e 2018"
        },
        "updatemenus": [
         {
          "buttons": [
           {
            "args": [
             null,
             {
              "frame": {
               "duration": 2000,
               "redraw": true
              },
              "fromcurrent": true,
              "mode": "immediate",
              "transition": {
               "duration": 500,
               "easing": "linear"
              }
             }
            ],
            "label": "&#9654;",
            "method": "animate"
           },
           {
            "args": [
             [
              null
             ],
             {
              "frame": {
               "duration": 0,
               "redraw": true
              },
              "fromcurrent": true,
              "mode": "immediate",
              "transition": {
               "duration": 0,
               "easing": "linear"
              }
             }
            ],
            "label": "&#9724;",
            "method": "animate"
           }
          ],
          "direction": "left",
          "pad": {
           "r": 10,
           "t": 70
          },
          "showactive": false,
          "type": "buttons",
          "x": 0.1,
          "xanchor": "right",
          "y": 0,
          "yanchor": "top"
         }
        ],
        "xaxis": {
         "anchor": "y",
         "domain": [
          0,
          1
         ],
         "range": [
          0,
          1200000
         ],
         "title": {
          "text": "Pessoal"
         },
         "type": "linear"
        },
        "yaxis": {
         "anchor": "x",
         "categoryarray": [
          "Total",
          "Fortaleza",
          "Belém",
          "Goiânia",
          "Brasília",
          "Recife",
          "Porto Alegre",
          "Florianópolis",
          "Rio de Janeiro",
          "Vitória",
          "Salvador",
          "São Paulo",
          "Belo Horizonte",
          "Curitiba",
          "Campinas",
          "Manaus"
         ],
         "categoryorder": "sum ascending",
         "domain": [
          0,
          1
         ],
         "title": {
          "text": "Espaço Metropolitano"
         },
         "type": "category"
        }
       }
      },
      "text/html": [
       "<div>                            <div id=\"c3240005-c654-4f22-81d3-19733d73a060\" class=\"plotly-graph-div\" style=\"height:700px; width:100%;\"></div>            <script type=\"text/javascript\">                require([\"plotly\"], function(Plotly) {                    window.PLOTLYENV=window.PLOTLYENV || {};                                    if (document.getElementById(\"c3240005-c654-4f22-81d3-19733d73a060\")) {                    Plotly.newPlot(                        \"c3240005-c654-4f22-81d3-19733d73a060\",                        [{\"alignmentgroup\": \"True\", \"hovertemplate\": \"N\\u00edvel Tecnol\\u00f3gico=Alto<br>Ano=2000<br>Pessoal=%{x}<br>Espa\\u00e7o Metropolitano=%{y}<extra></extra>\", \"legendgroup\": \"Alto\", \"marker\": {\"color\": \"rgb(103,0,31)\"}, \"name\": \"Alto\", \"offsetgroup\": \"Alto\", \"orientation\": \"h\", \"showlegend\": true, \"textposition\": \"auto\", \"type\": \"bar\", \"x\": [5175, 7, 305, 424], \"xaxis\": \"x\", \"y\": [\"Curitiba\", null, null, null], \"yaxis\": \"y\"}, {\"alignmentgroup\": \"True\", \"hovertemplate\": \"N\\u00edvel Tecnol\\u00f3gico=M\\u00e9dio-Alto<br>Ano=2000<br>Pessoal=%{x}<br>Espa\\u00e7o Metropolitano=%{y}<extra></extra>\", \"legendgroup\": \"M\\u00e9dio-Alto\", \"marker\": {\"color\": \"rgb(178,24,43)\"}, \"name\": \"M\\u00e9dio-Alto\", \"offsetgroup\": \"M\\u00e9dio-Alto\", \"orientation\": \"h\", \"showlegend\": true, \"textposition\": \"auto\", \"type\": \"bar\", \"x\": [42667, 2026, 2390, 4900], \"xaxis\": \"x\", \"y\": [\"Curitiba\", null, null, null], \"yaxis\": \"y\"}, {\"alignmentgroup\": \"True\", \"hovertemplate\": \"N\\u00edvel Tecnol\\u00f3gico=M\\u00e9dio-Baixo<br>Ano=2000<br>Pessoal=%{x}<br>Espa\\u00e7o Metropolitano=%{y}<extra></extra>\", \"legendgroup\": \"M\\u00e9dio-Baixo\", \"marker\": {\"color\": \"rgb(214,96,77)\"}, \"name\": \"M\\u00e9dio-Baixo\", \"offsetgroup\": \"M\\u00e9dio-Baixo\", \"orientation\": \"h\", \"showlegend\": true, \"textposition\": \"auto\", \"type\": \"bar\", \"x\": [28419, 1758, 2596, 5370], \"xaxis\": \"x\", \"y\": [\"Curitiba\", null, null, null], \"yaxis\": \"y\"}, {\"alignmentgroup\": \"True\", \"hovertemplate\": \"N\\u00edvel Tecnol\\u00f3gico=Baixo<br>Ano=2000<br>Pessoal=%{x}<br>Espa\\u00e7o Metropolitano=%{y}<extra></extra>\", \"legendgroup\": \"Baixo\", \"marker\": {\"color\": \"rgb(244,165,130)\"}, \"name\": \"Baixo\", \"offsetgroup\": \"Baixo\", \"orientation\": \"h\", \"showlegend\": true, \"textposition\": \"auto\", \"type\": \"bar\", \"x\": [41519, 9238, 14648, 14629], \"xaxis\": \"x\", \"y\": [\"Curitiba\", null, null, null], \"yaxis\": \"y\"}],                        {\"barmode\": \"relative\", \"height\": 700, \"legend\": {\"title\": {\"text\": \"N\\u00edvel Tecnol\\u00f3gico\"}, \"tracegroupgap\": 0}, \"sliders\": [{\"active\": 0, \"currentvalue\": {\"prefix\": \"Ano=\"}, \"len\": 0.9, \"pad\": {\"b\": 10, \"t\": 60}, \"steps\": [{\"args\": [[\"2000\"], {\"frame\": {\"duration\": 0, \"redraw\": true}, \"fromcurrent\": true, \"mode\": \"immediate\", \"transition\": {\"duration\": 0, \"easing\": \"linear\"}}], \"label\": \"2000\", \"method\": \"animate\"}, {\"args\": [[\"2001\"], {\"frame\": {\"duration\": 0, \"redraw\": true}, \"fromcurrent\": true, \"mode\": \"immediate\", \"transition\": {\"duration\": 0, \"easing\": \"linear\"}}], \"label\": \"2001\", \"method\": \"animate\"}, {\"args\": [[\"2002\"], {\"frame\": {\"duration\": 0, \"redraw\": true}, \"fromcurrent\": true, \"mode\": \"immediate\", \"transition\": {\"duration\": 0, \"easing\": \"linear\"}}], \"label\": \"2002\", \"method\": \"animate\"}, {\"args\": [[\"2003\"], {\"frame\": {\"duration\": 0, \"redraw\": true}, \"fromcurrent\": true, \"mode\": \"immediate\", \"transition\": {\"duration\": 0, \"easing\": \"linear\"}}], \"label\": \"2003\", \"method\": \"animate\"}, {\"args\": [[\"2004\"], {\"frame\": {\"duration\": 0, \"redraw\": true}, \"fromcurrent\": true, \"mode\": \"immediate\", \"transition\": {\"duration\": 0, \"easing\": \"linear\"}}], \"label\": \"2004\", \"method\": \"animate\"}, {\"args\": [[\"2005\"], {\"frame\": {\"duration\": 0, \"redraw\": true}, \"fromcurrent\": true, \"mode\": \"immediate\", \"transition\": {\"duration\": 0, \"easing\": \"linear\"}}], \"label\": \"2005\", \"method\": \"animate\"}, {\"args\": [[\"2006\"], {\"frame\": {\"duration\": 0, \"redraw\": true}, \"fromcurrent\": true, \"mode\": \"immediate\", \"transition\": {\"duration\": 0, \"easing\": \"linear\"}}], \"label\": \"2006\", \"method\": \"animate\"}, {\"args\": [[\"2007\"], {\"frame\": {\"duration\": 0, \"redraw\": true}, \"fromcurrent\": true, \"mode\": \"immediate\", \"transition\": {\"duration\": 0, \"easing\": \"linear\"}}], \"label\": \"2007\", \"method\": \"animate\"}, {\"args\": [[\"2008\"], {\"frame\": {\"duration\": 0, \"redraw\": true}, \"fromcurrent\": true, \"mode\": \"immediate\", \"transition\": {\"duration\": 0, \"easing\": \"linear\"}}], \"label\": \"2008\", \"method\": \"animate\"}, {\"args\": [[\"2009\"], {\"frame\": {\"duration\": 0, \"redraw\": true}, \"fromcurrent\": true, \"mode\": \"immediate\", \"transition\": {\"duration\": 0, \"easing\": \"linear\"}}], \"label\": \"2009\", \"method\": \"animate\"}, {\"args\": [[\"2010\"], {\"frame\": {\"duration\": 0, \"redraw\": true}, \"fromcurrent\": true, \"mode\": \"immediate\", \"transition\": {\"duration\": 0, \"easing\": \"linear\"}}], \"label\": \"2010\", \"method\": \"animate\"}, {\"args\": [[\"2011\"], {\"frame\": {\"duration\": 0, \"redraw\": true}, \"fromcurrent\": true, \"mode\": \"immediate\", \"transition\": {\"duration\": 0, \"easing\": \"linear\"}}], \"label\": \"2011\", \"method\": \"animate\"}, {\"args\": [[\"2012\"], {\"frame\": {\"duration\": 0, \"redraw\": true}, \"fromcurrent\": true, \"mode\": \"immediate\", \"transition\": {\"duration\": 0, \"easing\": \"linear\"}}], \"label\": \"2012\", \"method\": \"animate\"}, {\"args\": [[\"2013\"], {\"frame\": {\"duration\": 0, \"redraw\": true}, \"fromcurrent\": true, \"mode\": \"immediate\", \"transition\": {\"duration\": 0, \"easing\": \"linear\"}}], \"label\": \"2013\", \"method\": \"animate\"}, {\"args\": [[\"2014\"], {\"frame\": {\"duration\": 0, \"redraw\": true}, \"fromcurrent\": true, \"mode\": \"immediate\", \"transition\": {\"duration\": 0, \"easing\": \"linear\"}}], \"label\": \"2014\", \"method\": \"animate\"}, {\"args\": [[\"2015\"], {\"frame\": {\"duration\": 0, \"redraw\": true}, \"fromcurrent\": true, \"mode\": \"immediate\", \"transition\": {\"duration\": 0, \"easing\": \"linear\"}}], \"label\": \"2015\", \"method\": \"animate\"}, {\"args\": [[\"2016\"], {\"frame\": {\"duration\": 0, \"redraw\": true}, \"fromcurrent\": true, \"mode\": \"immediate\", \"transition\": {\"duration\": 0, \"easing\": \"linear\"}}], \"label\": \"2016\", \"method\": \"animate\"}, {\"args\": [[\"2017\"], {\"frame\": {\"duration\": 0, \"redraw\": true}, \"fromcurrent\": true, \"mode\": \"immediate\", \"transition\": {\"duration\": 0, \"easing\": \"linear\"}}], \"label\": \"2017\", \"method\": \"animate\"}, {\"args\": [[\"2018\"], {\"frame\": {\"duration\": 0, \"redraw\": true}, \"fromcurrent\": true, \"mode\": \"immediate\", \"transition\": {\"duration\": 0, \"easing\": \"linear\"}}], \"label\": \"2018\", \"method\": \"animate\"}], \"x\": 0.1, \"xanchor\": \"left\", \"y\": 0, \"yanchor\": \"top\"}], \"template\": {\"data\": {\"bar\": [{\"error_x\": {\"color\": \"#2a3f5f\"}, \"error_y\": {\"color\": \"#2a3f5f\"}, \"marker\": {\"line\": {\"color\": \"#E5ECF6\", \"width\": 0.5}}, \"type\": \"bar\"}], \"barpolar\": [{\"marker\": {\"line\": {\"color\": \"#E5ECF6\", \"width\": 0.5}}, \"type\": \"barpolar\"}], \"carpet\": [{\"aaxis\": {\"endlinecolor\": \"#2a3f5f\", \"gridcolor\": \"white\", \"linecolor\": \"white\", \"minorgridcolor\": \"white\", \"startlinecolor\": \"#2a3f5f\"}, \"baxis\": {\"endlinecolor\": \"#2a3f5f\", \"gridcolor\": \"white\", \"linecolor\": \"white\", \"minorgridcolor\": \"white\", \"startlinecolor\": \"#2a3f5f\"}, \"type\": \"carpet\"}], \"choropleth\": [{\"colorbar\": {\"outlinewidth\": 0, \"ticks\": \"\"}, \"type\": \"choropleth\"}], \"contour\": [{\"colorbar\": {\"outlinewidth\": 0, \"ticks\": \"\"}, \"colorscale\": [[0.0, \"#0d0887\"], [0.1111111111111111, \"#46039f\"], [0.2222222222222222, \"#7201a8\"], [0.3333333333333333, \"#9c179e\"], [0.4444444444444444, \"#bd3786\"], [0.5555555555555556, \"#d8576b\"], [0.6666666666666666, \"#ed7953\"], [0.7777777777777778, \"#fb9f3a\"], [0.8888888888888888, \"#fdca26\"], [1.0, \"#f0f921\"]], \"type\": \"contour\"}], \"contourcarpet\": [{\"colorbar\": {\"outlinewidth\": 0, \"ticks\": \"\"}, \"type\": \"contourcarpet\"}], \"heatmap\": [{\"colorbar\": {\"outlinewidth\": 0, \"ticks\": \"\"}, \"colorscale\": [[0.0, \"#0d0887\"], [0.1111111111111111, \"#46039f\"], [0.2222222222222222, \"#7201a8\"], [0.3333333333333333, \"#9c179e\"], [0.4444444444444444, \"#bd3786\"], [0.5555555555555556, \"#d8576b\"], [0.6666666666666666, \"#ed7953\"], [0.7777777777777778, \"#fb9f3a\"], [0.8888888888888888, \"#fdca26\"], [1.0, \"#f0f921\"]], \"type\": \"heatmap\"}], \"heatmapgl\": [{\"colorbar\": {\"outlinewidth\": 0, \"ticks\": \"\"}, \"colorscale\": [[0.0, \"#0d0887\"], [0.1111111111111111, \"#46039f\"], [0.2222222222222222, \"#7201a8\"], [0.3333333333333333, \"#9c179e\"], [0.4444444444444444, \"#bd3786\"], [0.5555555555555556, \"#d8576b\"], [0.6666666666666666, \"#ed7953\"], [0.7777777777777778, \"#fb9f3a\"], [0.8888888888888888, \"#fdca26\"], [1.0, \"#f0f921\"]], \"type\": \"heatmapgl\"}], \"histogram\": [{\"marker\": {\"colorbar\": {\"outlinewidth\": 0, \"ticks\": \"\"}}, \"type\": \"histogram\"}], \"histogram2d\": [{\"colorbar\": {\"outlinewidth\": 0, \"ticks\": \"\"}, \"colorscale\": [[0.0, \"#0d0887\"], [0.1111111111111111, \"#46039f\"], [0.2222222222222222, \"#7201a8\"], [0.3333333333333333, \"#9c179e\"], [0.4444444444444444, \"#bd3786\"], [0.5555555555555556, \"#d8576b\"], [0.6666666666666666, \"#ed7953\"], [0.7777777777777778, \"#fb9f3a\"], [0.8888888888888888, \"#fdca26\"], [1.0, \"#f0f921\"]], \"type\": \"histogram2d\"}], \"histogram2dcontour\": [{\"colorbar\": {\"outlinewidth\": 0, \"ticks\": \"\"}, \"colorscale\": [[0.0, \"#0d0887\"], [0.1111111111111111, \"#46039f\"], [0.2222222222222222, \"#7201a8\"], [0.3333333333333333, \"#9c179e\"], [0.4444444444444444, \"#bd3786\"], [0.5555555555555556, \"#d8576b\"], [0.6666666666666666, \"#ed7953\"], [0.7777777777777778, \"#fb9f3a\"], [0.8888888888888888, \"#fdca26\"], [1.0, \"#f0f921\"]], \"type\": \"histogram2dcontour\"}], \"mesh3d\": [{\"colorbar\": {\"outlinewidth\": 0, \"ticks\": \"\"}, \"type\": \"mesh3d\"}], \"parcoords\": [{\"line\": {\"colorbar\": {\"outlinewidth\": 0, \"ticks\": \"\"}}, \"type\": \"parcoords\"}], \"pie\": [{\"automargin\": true, \"type\": \"pie\"}], \"scatter\": [{\"marker\": {\"colorbar\": {\"outlinewidth\": 0, \"ticks\": \"\"}}, \"type\": \"scatter\"}], \"scatter3d\": [{\"line\": {\"colorbar\": {\"outlinewidth\": 0, \"ticks\": \"\"}}, \"marker\": {\"colorbar\": {\"outlinewidth\": 0, \"ticks\": \"\"}}, \"type\": \"scatter3d\"}], \"scattercarpet\": [{\"marker\": {\"colorbar\": {\"outlinewidth\": 0, \"ticks\": \"\"}}, \"type\": \"scattercarpet\"}], \"scattergeo\": [{\"marker\": {\"colorbar\": {\"outlinewidth\": 0, \"ticks\": \"\"}}, \"type\": \"scattergeo\"}], \"scattergl\": [{\"marker\": {\"colorbar\": {\"outlinewidth\": 0, \"ticks\": \"\"}}, \"type\": \"scattergl\"}], \"scattermapbox\": [{\"marker\": {\"colorbar\": {\"outlinewidth\": 0, \"ticks\": \"\"}}, \"type\": \"scattermapbox\"}], \"scatterpolar\": [{\"marker\": {\"colorbar\": {\"outlinewidth\": 0, \"ticks\": \"\"}}, \"type\": \"scatterpolar\"}], \"scatterpolargl\": [{\"marker\": {\"colorbar\": {\"outlinewidth\": 0, \"ticks\": \"\"}}, \"type\": \"scatterpolargl\"}], \"scatterternary\": [{\"marker\": {\"colorbar\": {\"outlinewidth\": 0, \"ticks\": \"\"}}, \"type\": \"scatterternary\"}], \"surface\": [{\"colorbar\": {\"outlinewidth\": 0, \"ticks\": \"\"}, \"colorscale\": [[0.0, \"#0d0887\"], [0.1111111111111111, \"#46039f\"], [0.2222222222222222, \"#7201a8\"], [0.3333333333333333, \"#9c179e\"], [0.4444444444444444, \"#bd3786\"], [0.5555555555555556, \"#d8576b\"], [0.6666666666666666, \"#ed7953\"], [0.7777777777777778, \"#fb9f3a\"], [0.8888888888888888, \"#fdca26\"], [1.0, \"#f0f921\"]], \"type\": \"surface\"}], \"table\": [{\"cells\": {\"fill\": {\"color\": \"#EBF0F8\"}, \"line\": {\"color\": \"white\"}}, \"header\": {\"fill\": {\"color\": \"#C8D4E3\"}, \"line\": {\"color\": \"white\"}}, \"type\": \"table\"}]}, \"layout\": {\"annotationdefaults\": {\"arrowcolor\": \"#2a3f5f\", \"arrowhead\": 0, \"arrowwidth\": 1}, \"coloraxis\": {\"colorbar\": {\"outlinewidth\": 0, \"ticks\": \"\"}}, \"colorscale\": {\"diverging\": [[0, \"#8e0152\"], [0.1, \"#c51b7d\"], [0.2, \"#de77ae\"], [0.3, \"#f1b6da\"], [0.4, \"#fde0ef\"], [0.5, \"#f7f7f7\"], [0.6, \"#e6f5d0\"], [0.7, \"#b8e186\"], [0.8, \"#7fbc41\"], [0.9, \"#4d9221\"], [1, \"#276419\"]], \"sequential\": [[0.0, \"#0d0887\"], [0.1111111111111111, \"#46039f\"], [0.2222222222222222, \"#7201a8\"], [0.3333333333333333, \"#9c179e\"], [0.4444444444444444, \"#bd3786\"], [0.5555555555555556, \"#d8576b\"], [0.6666666666666666, \"#ed7953\"], [0.7777777777777778, \"#fb9f3a\"], [0.8888888888888888, \"#fdca26\"], [1.0, \"#f0f921\"]], \"sequentialminus\": [[0.0, \"#0d0887\"], [0.1111111111111111, \"#46039f\"], [0.2222222222222222, \"#7201a8\"], [0.3333333333333333, \"#9c179e\"], [0.4444444444444444, \"#bd3786\"], [0.5555555555555556, \"#d8576b\"], [0.6666666666666666, \"#ed7953\"], [0.7777777777777778, \"#fb9f3a\"], [0.8888888888888888, \"#fdca26\"], [1.0, \"#f0f921\"]]}, \"colorway\": [\"#636efa\", \"#EF553B\", \"#00cc96\", \"#ab63fa\", \"#FFA15A\", \"#19d3f3\", \"#FF6692\", \"#B6E880\", \"#FF97FF\", \"#FECB52\"], \"font\": {\"color\": \"#2a3f5f\"}, \"geo\": {\"bgcolor\": \"white\", \"lakecolor\": \"white\", \"landcolor\": \"#E5ECF6\", \"showlakes\": true, \"showland\": true, \"subunitcolor\": \"white\"}, \"hoverlabel\": {\"align\": \"left\"}, \"hovermode\": \"closest\", \"mapbox\": {\"style\": \"light\"}, \"paper_bgcolor\": \"white\", \"plot_bgcolor\": \"#E5ECF6\", \"polar\": {\"angularaxis\": {\"gridcolor\": \"white\", \"linecolor\": \"white\", \"ticks\": \"\"}, \"bgcolor\": \"#E5ECF6\", \"radialaxis\": {\"gridcolor\": \"white\", \"linecolor\": \"white\", \"ticks\": \"\"}}, \"scene\": {\"xaxis\": {\"backgroundcolor\": \"#E5ECF6\", \"gridcolor\": \"white\", \"gridwidth\": 2, \"linecolor\": \"white\", \"showbackground\": true, \"ticks\": \"\", \"zerolinecolor\": \"white\"}, \"yaxis\": {\"backgroundcolor\": \"#E5ECF6\", \"gridcolor\": \"white\", \"gridwidth\": 2, \"linecolor\": \"white\", \"showbackground\": true, \"ticks\": \"\", \"zerolinecolor\": \"white\"}, \"zaxis\": {\"backgroundcolor\": \"#E5ECF6\", \"gridcolor\": \"white\", \"gridwidth\": 2, \"linecolor\": \"white\", \"showbackground\": true, \"ticks\": \"\", \"zerolinecolor\": \"white\"}}, \"shapedefaults\": {\"line\": {\"color\": \"#2a3f5f\"}}, \"ternary\": {\"aaxis\": {\"gridcolor\": \"white\", \"linecolor\": \"white\", \"ticks\": \"\"}, \"baxis\": {\"gridcolor\": \"white\", \"linecolor\": \"white\", \"ticks\": \"\"}, \"bgcolor\": \"#E5ECF6\", \"caxis\": {\"gridcolor\": \"white\", \"linecolor\": \"white\", \"ticks\": \"\"}}, \"title\": {\"x\": 0.05}, \"xaxis\": {\"automargin\": true, \"gridcolor\": \"white\", \"linecolor\": \"white\", \"ticks\": \"\", \"title\": {\"standoff\": 15}, \"zerolinecolor\": \"white\", \"zerolinewidth\": 2}, \"yaxis\": {\"automargin\": true, \"gridcolor\": \"white\", \"linecolor\": \"white\", \"ticks\": \"\", \"title\": {\"standoff\": 15}, \"zerolinecolor\": \"white\", \"zerolinewidth\": 2}}}, \"title\": {\"text\": \"Ind\\u00fastrias no Espa\\u00e7os Metropolitanos Segundo N\\u00edvel Tecnol\\u00f3gico entre 2000 e 2018\"}, \"updatemenus\": [{\"buttons\": [{\"args\": [null, {\"frame\": {\"duration\": 2000, \"redraw\": true}, \"fromcurrent\": true, \"mode\": \"immediate\", \"transition\": {\"duration\": 500, \"easing\": \"linear\"}}], \"label\": \"&#9654;\", \"method\": \"animate\"}, {\"args\": [[null], {\"frame\": {\"duration\": 0, \"redraw\": true}, \"fromcurrent\": true, \"mode\": \"immediate\", \"transition\": {\"duration\": 0, \"easing\": \"linear\"}}], \"label\": \"&#9724;\", \"method\": \"animate\"}], \"direction\": \"left\", \"pad\": {\"r\": 10, \"t\": 70}, \"showactive\": false, \"type\": \"buttons\", \"x\": 0.1, \"xanchor\": \"right\", \"y\": 0, \"yanchor\": \"top\"}], \"xaxis\": {\"anchor\": \"y\", \"domain\": [0.0, 1.0], \"range\": [0, 1200000], \"title\": {\"text\": \"Pessoal\"}}, \"yaxis\": {\"anchor\": \"x\", \"categoryarray\": [\"Total\", \"Fortaleza\", \"Bel\\u00e9m\", \"Goi\\u00e2nia\", \"Bras\\u00edlia\", \"Recife\", \"Porto Alegre\", \"Florian\\u00f3polis\", \"Rio de Janeiro\", \"Vit\\u00f3ria\", \"Salvador\", \"S\\u00e3o Paulo\", \"Belo Horizonte\", \"Curitiba\", \"Campinas\", \"Manaus\"], \"categoryorder\": \"sum ascending\", \"domain\": [0.0, 1.0], \"title\": {\"text\": \"Espa\\u00e7o Metropolitano\"}}},                        {\"responsive\": true}                    ).then(function(){\n",
       "                            Plotly.addFrames('c3240005-c654-4f22-81d3-19733d73a060', [{\"data\": [{\"alignmentgroup\": \"True\", \"hovertemplate\": \"N\\u00edvel Tecnol\\u00f3gico=Alto<br>Ano=2000<br>Pessoal=%{x}<br>Espa\\u00e7o Metropolitano=%{y}<extra></extra>\", \"legendgroup\": \"Alto\", \"marker\": {\"color\": \"rgb(103,0,31)\"}, \"name\": \"Alto\", \"offsetgroup\": \"Alto\", \"orientation\": \"h\", \"showlegend\": true, \"textposition\": \"auto\", \"x\": [5175, 7, 305, 424], \"xaxis\": \"x\", \"y\": [\"Curitiba\", null, null, null], \"yaxis\": \"y\", \"type\": \"bar\"}, {\"alignmentgroup\": \"True\", \"hovertemplate\": \"N\\u00edvel Tecnol\\u00f3gico=M\\u00e9dio-Alto<br>Ano=2000<br>Pessoal=%{x}<br>Espa\\u00e7o Metropolitano=%{y}<extra></extra>\", \"legendgroup\": \"M\\u00e9dio-Alto\", \"marker\": {\"color\": \"rgb(178,24,43)\"}, \"name\": \"M\\u00e9dio-Alto\", \"offsetgroup\": \"M\\u00e9dio-Alto\", \"orientation\": \"h\", \"showlegend\": true, \"textposition\": \"auto\", \"x\": [42667, 2026, 2390, 4900], \"xaxis\": \"x\", \"y\": [\"Curitiba\", null, null, null], \"yaxis\": \"y\", \"type\": \"bar\"}, {\"alignmentgroup\": \"True\", \"hovertemplate\": \"N\\u00edvel Tecnol\\u00f3gico=M\\u00e9dio-Baixo<br>Ano=2000<br>Pessoal=%{x}<br>Espa\\u00e7o Metropolitano=%{y}<extra></extra>\", \"legendgroup\": \"M\\u00e9dio-Baixo\", \"marker\": {\"color\": \"rgb(214,96,77)\"}, \"name\": \"M\\u00e9dio-Baixo\", \"offsetgroup\": \"M\\u00e9dio-Baixo\", \"orientation\": \"h\", \"showlegend\": true, \"textposition\": \"auto\", \"x\": [28419, 1758, 2596, 5370], \"xaxis\": \"x\", \"y\": [\"Curitiba\", null, null, null], \"yaxis\": \"y\", \"type\": \"bar\"}, {\"alignmentgroup\": \"True\", \"hovertemplate\": \"N\\u00edvel Tecnol\\u00f3gico=Baixo<br>Ano=2000<br>Pessoal=%{x}<br>Espa\\u00e7o Metropolitano=%{y}<extra></extra>\", \"legendgroup\": \"Baixo\", \"marker\": {\"color\": \"rgb(244,165,130)\"}, \"name\": \"Baixo\", \"offsetgroup\": \"Baixo\", \"orientation\": \"h\", \"showlegend\": true, \"textposition\": \"auto\", \"x\": [41519, 9238, 14648, 14629], \"xaxis\": \"x\", \"y\": [\"Curitiba\", null, null, null], \"yaxis\": \"y\", \"type\": \"bar\"}], \"name\": \"2000\"}, {\"data\": [{\"alignmentgroup\": \"True\", \"hovertemplate\": \"N\\u00edvel Tecnol\\u00f3gico=Alto<br>Ano=2001<br>Pessoal=%{x}<br>Espa\\u00e7o Metropolitano=%{y}<extra></extra>\", \"legendgroup\": \"Alto\", \"marker\": {\"color\": \"rgb(103,0,31)\"}, \"name\": \"Alto\", \"offsetgroup\": \"Alto\", \"orientation\": \"h\", \"showlegend\": true, \"textposition\": \"auto\", \"x\": [4388, 474, 430, 7], \"xaxis\": \"x\", \"y\": [\"Curitiba\", null, null, null], \"yaxis\": \"y\", \"type\": \"bar\"}, {\"alignmentgroup\": \"True\", \"hovertemplate\": \"N\\u00edvel Tecnol\\u00f3gico=M\\u00e9dio-Alto<br>Ano=2001<br>Pessoal=%{x}<br>Espa\\u00e7o Metropolitano=%{y}<extra></extra>\", \"legendgroup\": \"M\\u00e9dio-Alto\", \"marker\": {\"color\": \"rgb(178,24,43)\"}, \"name\": \"M\\u00e9dio-Alto\", \"offsetgroup\": \"M\\u00e9dio-Alto\", \"orientation\": \"h\", \"showlegend\": true, \"textposition\": \"auto\", \"x\": [42655, 4688, 2714, 1971], \"xaxis\": \"x\", \"y\": [\"Curitiba\", null, null, null], \"yaxis\": \"y\", \"type\": \"bar\"}, {\"alignmentgroup\": \"True\", \"hovertemplate\": \"N\\u00edvel Tecnol\\u00f3gico=M\\u00e9dio-Baixo<br>Ano=2001<br>Pessoal=%{x}<br>Espa\\u00e7o Metropolitano=%{y}<extra></extra>\", \"legendgroup\": \"M\\u00e9dio-Baixo\", \"marker\": {\"color\": \"rgb(214,96,77)\"}, \"name\": \"M\\u00e9dio-Baixo\", \"offsetgroup\": \"M\\u00e9dio-Baixo\", \"orientation\": \"h\", \"showlegend\": true, \"textposition\": \"auto\", \"x\": [29305, 5255, 3262, 1755], \"xaxis\": \"x\", \"y\": [\"Curitiba\", null, null, null], \"yaxis\": \"y\", \"type\": \"bar\"}, {\"alignmentgroup\": \"True\", \"hovertemplate\": \"N\\u00edvel Tecnol\\u00f3gico=Baixo<br>Ano=2001<br>Pessoal=%{x}<br>Espa\\u00e7o Metropolitano=%{y}<extra></extra>\", \"legendgroup\": \"Baixo\", \"marker\": {\"color\": \"rgb(244,165,130)\"}, \"name\": \"Baixo\", \"offsetgroup\": \"Baixo\", \"orientation\": \"h\", \"showlegend\": true, \"textposition\": \"auto\", \"x\": [42023, 14380, 15203, 10075], \"xaxis\": \"x\", \"y\": [\"Curitiba\", null, null, null], \"yaxis\": \"y\", \"type\": \"bar\"}], \"name\": \"2001\"}, {\"data\": [{\"alignmentgroup\": \"True\", \"hovertemplate\": \"N\\u00edvel Tecnol\\u00f3gico=Alto<br>Ano=2002<br>Pessoal=%{x}<br>Espa\\u00e7o Metropolitano=%{y}<extra></extra>\", \"legendgroup\": \"Alto\", \"marker\": {\"color\": \"rgb(103,0,31)\"}, \"name\": \"Alto\", \"offsetgroup\": \"Alto\", \"orientation\": \"h\", \"showlegend\": true, \"textposition\": \"auto\", \"x\": [4368, 529, 628, 10], \"xaxis\": \"x\", \"y\": [\"Curitiba\", null, null, null], \"yaxis\": \"y\", \"type\": \"bar\"}, {\"alignmentgroup\": \"True\", \"hovertemplate\": \"N\\u00edvel Tecnol\\u00f3gico=M\\u00e9dio-Alto<br>Ano=2002<br>Pessoal=%{x}<br>Espa\\u00e7o Metropolitano=%{y}<extra></extra>\", \"legendgroup\": \"M\\u00e9dio-Alto\", \"marker\": {\"color\": \"rgb(178,24,43)\"}, \"name\": \"M\\u00e9dio-Alto\", \"offsetgroup\": \"M\\u00e9dio-Alto\", \"orientation\": \"h\", \"showlegend\": true, \"textposition\": \"auto\", \"x\": [44821, 5050, 2929, 1959], \"xaxis\": \"x\", \"y\": [\"Curitiba\", null, null, null], \"yaxis\": \"y\", \"type\": \"bar\"}, {\"alignmentgroup\": \"True\", \"hovertemplate\": \"N\\u00edvel Tecnol\\u00f3gico=M\\u00e9dio-Baixo<br>Ano=2002<br>Pessoal=%{x}<br>Espa\\u00e7o Metropolitano=%{y}<extra></extra>\", \"legendgroup\": \"M\\u00e9dio-Baixo\", \"marker\": {\"color\": \"rgb(214,96,77)\"}, \"name\": \"M\\u00e9dio-Baixo\", \"offsetgroup\": \"M\\u00e9dio-Baixo\", \"orientation\": \"h\", \"showlegend\": true, \"textposition\": \"auto\", \"x\": [29838, 6114, 3486, 1781], \"xaxis\": \"x\", \"y\": [\"Curitiba\", null, null, null], \"yaxis\": \"y\", \"type\": \"bar\"}, {\"alignmentgroup\": \"True\", \"hovertemplate\": \"N\\u00edvel Tecnol\\u00f3gico=Baixo<br>Ano=2002<br>Pessoal=%{x}<br>Espa\\u00e7o Metropolitano=%{y}<extra></extra>\", \"legendgroup\": \"Baixo\", \"marker\": {\"color\": \"rgb(244,165,130)\"}, \"name\": \"Baixo\", \"offsetgroup\": \"Baixo\", \"orientation\": \"h\", \"showlegend\": true, \"textposition\": \"auto\", \"x\": [44934, 16173, 17199, 10715], \"xaxis\": \"x\", \"y\": [\"Curitiba\", null, null, null], \"yaxis\": \"y\", \"type\": \"bar\"}], \"name\": \"2002\"}, {\"data\": [{\"alignmentgroup\": \"True\", \"hovertemplate\": \"N\\u00edvel Tecnol\\u00f3gico=Alto<br>Ano=2003<br>Pessoal=%{x}<br>Espa\\u00e7o Metropolitano=%{y}<extra></extra>\", \"legendgroup\": \"Alto\", \"marker\": {\"color\": \"rgb(103,0,31)\"}, \"name\": \"Alto\", \"offsetgroup\": \"Alto\", \"orientation\": \"h\", \"showlegend\": true, \"textposition\": \"auto\", \"x\": [4758, 330, 10, 596], \"xaxis\": \"x\", \"y\": [\"Curitiba\", null, null, null], \"yaxis\": \"y\", \"type\": \"bar\"}, {\"alignmentgroup\": \"True\", \"hovertemplate\": \"N\\u00edvel Tecnol\\u00f3gico=M\\u00e9dio-Alto<br>Ano=2003<br>Pessoal=%{x}<br>Espa\\u00e7o Metropolitano=%{y}<extra></extra>\", \"legendgroup\": \"M\\u00e9dio-Alto\", \"marker\": {\"color\": \"rgb(178,24,43)\"}, \"name\": \"M\\u00e9dio-Alto\", \"offsetgroup\": \"M\\u00e9dio-Alto\", \"orientation\": \"h\", \"showlegend\": true, \"textposition\": \"auto\", \"x\": [44439, 3017, 1700, 3944], \"xaxis\": \"x\", \"y\": [\"Curitiba\", null, null, null], \"yaxis\": \"y\", \"type\": \"bar\"}, {\"alignmentgroup\": \"True\", \"hovertemplate\": \"N\\u00edvel Tecnol\\u00f3gico=M\\u00e9dio-Baixo<br>Ano=2003<br>Pessoal=%{x}<br>Espa\\u00e7o Metropolitano=%{y}<extra></extra>\", \"legendgroup\": \"M\\u00e9dio-Baixo\", \"marker\": {\"color\": \"rgb(214,96,77)\"}, \"name\": \"M\\u00e9dio-Baixo\", \"offsetgroup\": \"M\\u00e9dio-Baixo\", \"orientation\": \"h\", \"showlegend\": true, \"textposition\": \"auto\", \"x\": [32065, 3611, 2016, 6700], \"xaxis\": \"x\", \"y\": [\"Curitiba\", null, null, null], \"yaxis\": \"y\", \"type\": \"bar\"}, {\"alignmentgroup\": \"True\", \"hovertemplate\": \"N\\u00edvel Tecnol\\u00f3gico=Baixo<br>Ano=2003<br>Pessoal=%{x}<br>Espa\\u00e7o Metropolitano=%{y}<extra></extra>\", \"legendgroup\": \"Baixo\", \"marker\": {\"color\": \"rgb(244,165,130)\"}, \"name\": \"Baixo\", \"offsetgroup\": \"Baixo\", \"orientation\": \"h\", \"showlegend\": true, \"textposition\": \"auto\", \"x\": [45726, 18349, 11948, 16317], \"xaxis\": \"x\", \"y\": [\"Curitiba\", null, null, null], \"yaxis\": \"y\", \"type\": \"bar\"}], \"name\": \"2003\"}, {\"data\": [{\"alignmentgroup\": \"True\", \"hovertemplate\": \"N\\u00edvel Tecnol\\u00f3gico=Alto<br>Ano=2004<br>Pessoal=%{x}<br>Espa\\u00e7o Metropolitano=%{y}<extra></extra>\", \"legendgroup\": \"Alto\", \"marker\": {\"color\": \"rgb(103,0,31)\"}, \"name\": \"Alto\", \"offsetgroup\": \"Alto\", \"orientation\": \"h\", \"showlegend\": true, \"textposition\": \"auto\", \"x\": [5090, 9, 556, 918], \"xaxis\": \"x\", \"y\": [\"Curitiba\", null, null, null], \"yaxis\": \"y\", \"type\": \"bar\"}, {\"alignmentgroup\": \"True\", \"hovertemplate\": \"N\\u00edvel Tecnol\\u00f3gico=M\\u00e9dio-Alto<br>Ano=2004<br>Pessoal=%{x}<br>Espa\\u00e7o Metropolitano=%{y}<extra></extra>\", \"legendgroup\": \"M\\u00e9dio-Alto\", \"marker\": {\"color\": \"rgb(178,24,43)\"}, \"name\": \"M\\u00e9dio-Alto\", \"offsetgroup\": \"M\\u00e9dio-Alto\", \"orientation\": \"h\", \"showlegend\": true, \"textposition\": \"auto\", \"x\": [53156, 1869, 3624, 4544], \"xaxis\": \"x\", \"y\": [\"Curitiba\", null, null, null], \"yaxis\": \"y\", \"type\": \"bar\"}, {\"alignmentgroup\": \"True\", \"hovertemplate\": \"N\\u00edvel Tecnol\\u00f3gico=M\\u00e9dio-Baixo<br>Ano=2004<br>Pessoal=%{x}<br>Espa\\u00e7o Metropolitano=%{y}<extra></extra>\", \"legendgroup\": \"M\\u00e9dio-Baixo\", \"marker\": {\"color\": \"rgb(214,96,77)\"}, \"name\": \"M\\u00e9dio-Baixo\", \"offsetgroup\": \"M\\u00e9dio-Baixo\", \"orientation\": \"h\", \"showlegend\": true, \"textposition\": \"auto\", \"x\": [35082, 2719, 4192, 6934], \"xaxis\": \"x\", \"y\": [\"Curitiba\", null, null, null], \"yaxis\": \"y\", \"type\": \"bar\"}, {\"alignmentgroup\": \"True\", \"hovertemplate\": \"N\\u00edvel Tecnol\\u00f3gico=Baixo<br>Ano=2004<br>Pessoal=%{x}<br>Espa\\u00e7o Metropolitano=%{y}<extra></extra>\", \"legendgroup\": \"Baixo\", \"marker\": {\"color\": \"rgb(244,165,130)\"}, \"name\": \"Baixo\", \"offsetgroup\": \"Baixo\", \"orientation\": \"h\", \"showlegend\": true, \"textposition\": \"auto\", \"x\": [48813, 13041, 19461, 17619], \"xaxis\": \"x\", \"y\": [\"Curitiba\", null, null, null], \"yaxis\": \"y\", \"type\": \"bar\"}], \"name\": \"2004\"}, {\"data\": [{\"alignmentgroup\": \"True\", \"hovertemplate\": \"N\\u00edvel Tecnol\\u00f3gico=Alto<br>Ano=2005<br>Pessoal=%{x}<br>Espa\\u00e7o Metropolitano=%{y}<extra></extra>\", \"legendgroup\": \"Alto\", \"marker\": {\"color\": \"rgb(103,0,31)\"}, \"name\": \"Alto\", \"offsetgroup\": \"Alto\", \"orientation\": \"h\", \"showlegend\": true, \"textposition\": \"auto\", \"x\": [5259, 6, 672, 953], \"xaxis\": \"x\", \"y\": [\"Curitiba\", null, null, null], \"yaxis\": \"y\", \"type\": \"bar\"}, {\"alignmentgroup\": \"True\", \"hovertemplate\": \"N\\u00edvel Tecnol\\u00f3gico=M\\u00e9dio-Alto<br>Ano=2005<br>Pessoal=%{x}<br>Espa\\u00e7o Metropolitano=%{y}<extra></extra>\", \"legendgroup\": \"M\\u00e9dio-Alto\", \"marker\": {\"color\": \"rgb(178,24,43)\"}, \"name\": \"M\\u00e9dio-Alto\", \"offsetgroup\": \"M\\u00e9dio-Alto\", \"orientation\": \"h\", \"showlegend\": true, \"textposition\": \"auto\", \"x\": [55228, 1553, 3681, 4977], \"xaxis\": \"x\", \"y\": [\"Curitiba\", null, null, null], \"yaxis\": \"y\", \"type\": \"bar\"}, {\"alignmentgroup\": \"True\", \"hovertemplate\": \"N\\u00edvel Tecnol\\u00f3gico=M\\u00e9dio-Baixo<br>Ano=2005<br>Pessoal=%{x}<br>Espa\\u00e7o Metropolitano=%{y}<extra></extra>\", \"legendgroup\": \"M\\u00e9dio-Baixo\", \"marker\": {\"color\": \"rgb(214,96,77)\"}, \"name\": \"M\\u00e9dio-Baixo\", \"offsetgroup\": \"M\\u00e9dio-Baixo\", \"orientation\": \"h\", \"showlegend\": true, \"textposition\": \"auto\", \"x\": [36103, 2970, 4075, 6809], \"xaxis\": \"x\", \"y\": [\"Curitiba\", null, null, null], \"yaxis\": \"y\", \"type\": \"bar\"}, {\"alignmentgroup\": \"True\", \"hovertemplate\": \"N\\u00edvel Tecnol\\u00f3gico=Baixo<br>Ano=2005<br>Pessoal=%{x}<br>Espa\\u00e7o Metropolitano=%{y}<extra></extra>\", \"legendgroup\": \"Baixo\", \"marker\": {\"color\": \"rgb(244,165,130)\"}, \"name\": \"Baixo\", \"offsetgroup\": \"Baixo\", \"orientation\": \"h\", \"showlegend\": true, \"textposition\": \"auto\", \"x\": [49621, 12675, 19720, 19170], \"xaxis\": \"x\", \"y\": [\"Curitiba\", null, null, null], \"yaxis\": \"y\", \"type\": \"bar\"}], \"name\": \"2005\"}, {\"data\": [{\"alignmentgroup\": \"True\", \"hovertemplate\": \"N\\u00edvel Tecnol\\u00f3gico=Alto<br>Ano=2006<br>Pessoal=%{x}<br>Espa\\u00e7o Metropolitano=%{y}<extra></extra>\", \"legendgroup\": \"Alto\", \"marker\": {\"color\": \"rgb(103,0,31)\"}, \"name\": \"Alto\", \"offsetgroup\": \"Alto\", \"orientation\": \"h\", \"showlegend\": true, \"textposition\": \"auto\", \"x\": [6147, 1, 1065, 427], \"xaxis\": \"x\", \"y\": [\"Curitiba\", null, null, null], \"yaxis\": \"y\", \"type\": \"bar\"}, {\"alignmentgroup\": \"True\", \"hovertemplate\": \"N\\u00edvel Tecnol\\u00f3gico=M\\u00e9dio-Alto<br>Ano=2006<br>Pessoal=%{x}<br>Espa\\u00e7o Metropolitano=%{y}<extra></extra>\", \"legendgroup\": \"M\\u00e9dio-Alto\", \"marker\": {\"color\": \"rgb(178,24,43)\"}, \"name\": \"M\\u00e9dio-Alto\", \"offsetgroup\": \"M\\u00e9dio-Alto\", \"orientation\": \"h\", \"showlegend\": true, \"textposition\": \"auto\", \"x\": [57183, 1530, 5205, 4244], \"xaxis\": \"x\", \"y\": [\"Curitiba\", null, null, null], \"yaxis\": \"y\", \"type\": \"bar\"}, {\"alignmentgroup\": \"True\", \"hovertemplate\": \"N\\u00edvel Tecnol\\u00f3gico=M\\u00e9dio-Baixo<br>Ano=2006<br>Pessoal=%{x}<br>Espa\\u00e7o Metropolitano=%{y}<extra></extra>\", \"legendgroup\": \"M\\u00e9dio-Baixo\", \"marker\": {\"color\": \"rgb(214,96,77)\"}, \"name\": \"M\\u00e9dio-Baixo\", \"offsetgroup\": \"M\\u00e9dio-Baixo\", \"orientation\": \"h\", \"showlegend\": true, \"textposition\": \"auto\", \"x\": [42155, 2450, 8171, 4841], \"xaxis\": \"x\", \"y\": [\"Curitiba\", null, null, null], \"yaxis\": \"y\", \"type\": \"bar\"}, {\"alignmentgroup\": \"True\", \"hovertemplate\": \"N\\u00edvel Tecnol\\u00f3gico=Baixo<br>Ano=2006<br>Pessoal=%{x}<br>Espa\\u00e7o Metropolitano=%{y}<extra></extra>\", \"legendgroup\": \"Baixo\", \"marker\": {\"color\": \"rgb(244,165,130)\"}, \"name\": \"Baixo\", \"offsetgroup\": \"Baixo\", \"orientation\": \"h\", \"showlegend\": true, \"textposition\": \"auto\", \"x\": [51271, 12659, 17294, 21578], \"xaxis\": \"x\", \"y\": [\"Curitiba\", null, null, null], \"yaxis\": \"y\", \"type\": \"bar\"}], \"name\": \"2006\"}, {\"data\": [{\"alignmentgroup\": \"True\", \"hovertemplate\": \"N\\u00edvel Tecnol\\u00f3gico=Alto<br>Ano=2007<br>Pessoal=%{x}<br>Espa\\u00e7o Metropolitano=%{y}<extra></extra>\", \"legendgroup\": \"Alto\", \"marker\": {\"color\": \"rgb(103,0,31)\"}, \"name\": \"Alto\", \"offsetgroup\": \"Alto\", \"orientation\": \"h\", \"showlegend\": true, \"textposition\": \"auto\", \"x\": [8404, 1177, 468], \"xaxis\": \"x\", \"y\": [\"Curitiba\", null, null], \"yaxis\": \"y\", \"type\": \"bar\"}, {\"alignmentgroup\": \"True\", \"hovertemplate\": \"N\\u00edvel Tecnol\\u00f3gico=M\\u00e9dio-Alto<br>Ano=2007<br>Pessoal=%{x}<br>Espa\\u00e7o Metropolitano=%{y}<extra></extra>\", \"legendgroup\": \"M\\u00e9dio-Alto\", \"marker\": {\"color\": \"rgb(178,24,43)\"}, \"name\": \"M\\u00e9dio-Alto\", \"offsetgroup\": \"M\\u00e9dio-Alto\", \"orientation\": \"h\", \"showlegend\": true, \"textposition\": \"auto\", \"x\": [63993, 1761, 5551, 4917], \"xaxis\": \"x\", \"y\": [\"Curitiba\", null, null, null], \"yaxis\": \"y\", \"type\": \"bar\"}, {\"alignmentgroup\": \"True\", \"hovertemplate\": \"N\\u00edvel Tecnol\\u00f3gico=M\\u00e9dio-Baixo<br>Ano=2007<br>Pessoal=%{x}<br>Espa\\u00e7o Metropolitano=%{y}<extra></extra>\", \"legendgroup\": \"M\\u00e9dio-Baixo\", \"marker\": {\"color\": \"rgb(214,96,77)\"}, \"name\": \"M\\u00e9dio-Baixo\", \"offsetgroup\": \"M\\u00e9dio-Baixo\", \"orientation\": \"h\", \"showlegend\": true, \"textposition\": \"auto\", \"x\": [45647, 2825, 8843, 5019], \"xaxis\": \"x\", \"y\": [\"Curitiba\", null, null, null], \"yaxis\": \"y\", \"type\": \"bar\"}, {\"alignmentgroup\": \"True\", \"hovertemplate\": \"N\\u00edvel Tecnol\\u00f3gico=Baixo<br>Ano=2007<br>Pessoal=%{x}<br>Espa\\u00e7o Metropolitano=%{y}<extra></extra>\", \"legendgroup\": \"Baixo\", \"marker\": {\"color\": \"rgb(244,165,130)\"}, \"name\": \"Baixo\", \"offsetgroup\": \"Baixo\", \"orientation\": \"h\", \"showlegend\": true, \"textposition\": \"auto\", \"x\": [54896, 13740, 17588, 23841], \"xaxis\": \"x\", \"y\": [\"Curitiba\", null, null, null], \"yaxis\": \"y\", \"type\": \"bar\"}], \"name\": \"2007\"}, {\"data\": [{\"alignmentgroup\": \"True\", \"hovertemplate\": \"N\\u00edvel Tecnol\\u00f3gico=Alto<br>Ano=2008<br>Pessoal=%{x}<br>Espa\\u00e7o Metropolitano=%{y}<extra></extra>\", \"legendgroup\": \"Alto\", \"marker\": {\"color\": \"rgb(103,0,31)\"}, \"name\": \"Alto\", \"offsetgroup\": \"Alto\", \"orientation\": \"h\", \"showlegend\": true, \"textposition\": \"auto\", \"x\": [9931, 526, 6, 1336], \"xaxis\": \"x\", \"y\": [\"Curitiba\", null, null, null], \"yaxis\": \"y\", \"type\": \"bar\"}, {\"alignmentgroup\": \"True\", \"hovertemplate\": \"N\\u00edvel Tecnol\\u00f3gico=M\\u00e9dio-Alto<br>Ano=2008<br>Pessoal=%{x}<br>Espa\\u00e7o Metropolitano=%{y}<extra></extra>\", \"legendgroup\": \"M\\u00e9dio-Alto\", \"marker\": {\"color\": \"rgb(178,24,43)\"}, \"name\": \"M\\u00e9dio-Alto\", \"offsetgroup\": \"M\\u00e9dio-Alto\", \"orientation\": \"h\", \"showlegend\": true, \"textposition\": \"auto\", \"x\": [66371, 4743, 1815, 6114], \"xaxis\": \"x\", \"y\": [\"Curitiba\", null, null, null], \"yaxis\": \"y\", \"type\": \"bar\"}, {\"alignmentgroup\": \"True\", \"hovertemplate\": \"N\\u00edvel Tecnol\\u00f3gico=M\\u00e9dio-Baixo<br>Ano=2008<br>Pessoal=%{x}<br>Espa\\u00e7o Metropolitano=%{y}<extra></extra>\", \"legendgroup\": \"M\\u00e9dio-Baixo\", \"marker\": {\"color\": \"rgb(214,96,77)\"}, \"name\": \"M\\u00e9dio-Baixo\", \"offsetgroup\": \"M\\u00e9dio-Baixo\", \"orientation\": \"h\", \"showlegend\": true, \"textposition\": \"auto\", \"x\": [48231, 5224, 3145, 9400], \"xaxis\": \"x\", \"y\": [\"Curitiba\", null, null, null], \"yaxis\": \"y\", \"type\": \"bar\"}, {\"alignmentgroup\": \"True\", \"hovertemplate\": \"N\\u00edvel Tecnol\\u00f3gico=Baixo<br>Ano=2008<br>Pessoal=%{x}<br>Espa\\u00e7o Metropolitano=%{y}<extra></extra>\", \"legendgroup\": \"Baixo\", \"marker\": {\"color\": \"rgb(244,165,130)\"}, \"name\": \"Baixo\", \"offsetgroup\": \"Baixo\", \"orientation\": \"h\", \"showlegend\": true, \"textposition\": \"auto\", \"x\": [55468, 24632, 13030, 18093], \"xaxis\": \"x\", \"y\": [\"Curitiba\", null, null, null], \"yaxis\": \"y\", \"type\": \"bar\"}], \"name\": \"2008\"}, {\"data\": [{\"alignmentgroup\": \"True\", \"hovertemplate\": \"N\\u00edvel Tecnol\\u00f3gico=Alto<br>Ano=2009<br>Pessoal=%{x}<br>Espa\\u00e7o Metropolitano=%{y}<extra></extra>\", \"legendgroup\": \"Alto\", \"marker\": {\"color\": \"rgb(103,0,31)\"}, \"name\": \"Alto\", \"offsetgroup\": \"Alto\", \"orientation\": \"h\", \"showlegend\": true, \"textposition\": \"auto\", \"x\": [12214, 666, 2, 1313], \"xaxis\": \"x\", \"y\": [\"Curitiba\", null, null, null], \"yaxis\": \"y\", \"type\": \"bar\"}, {\"alignmentgroup\": \"True\", \"hovertemplate\": \"N\\u00edvel Tecnol\\u00f3gico=M\\u00e9dio-Alto<br>Ano=2009<br>Pessoal=%{x}<br>Espa\\u00e7o Metropolitano=%{y}<extra></extra>\", \"legendgroup\": \"M\\u00e9dio-Alto\", \"marker\": {\"color\": \"rgb(178,24,43)\"}, \"name\": \"M\\u00e9dio-Alto\", \"offsetgroup\": \"M\\u00e9dio-Alto\", \"orientation\": \"h\", \"showlegend\": true, \"textposition\": \"auto\", \"x\": [67378, 4962, 1983, 6088], \"xaxis\": \"x\", \"y\": [\"Curitiba\", null, null, null], \"yaxis\": \"y\", \"type\": \"bar\"}, {\"alignmentgroup\": \"True\", \"hovertemplate\": \"N\\u00edvel Tecnol\\u00f3gico=M\\u00e9dio-Baixo<br>Ano=2009<br>Pessoal=%{x}<br>Espa\\u00e7o Metropolitano=%{y}<extra></extra>\", \"legendgroup\": \"M\\u00e9dio-Baixo\", \"marker\": {\"color\": \"rgb(214,96,77)\"}, \"name\": \"M\\u00e9dio-Baixo\", \"offsetgroup\": \"M\\u00e9dio-Baixo\", \"orientation\": \"h\", \"showlegend\": true, \"textposition\": \"auto\", \"x\": [47987, 5085, 2843, 9401], \"xaxis\": \"x\", \"y\": [\"Curitiba\", null, null, null], \"yaxis\": \"y\", \"type\": \"bar\"}, {\"alignmentgroup\": \"True\", \"hovertemplate\": \"N\\u00edvel Tecnol\\u00f3gico=Baixo<br>Ano=2009<br>Pessoal=%{x}<br>Espa\\u00e7o Metropolitano=%{y}<extra></extra>\", \"legendgroup\": \"Baixo\", \"marker\": {\"color\": \"rgb(244,165,130)\"}, \"name\": \"Baixo\", \"offsetgroup\": \"Baixo\", \"orientation\": \"h\", \"showlegend\": true, \"textposition\": \"auto\", \"x\": [54579, 24701, 13104, 18642], \"xaxis\": \"x\", \"y\": [\"Curitiba\", null, null, null], \"yaxis\": \"y\", \"type\": \"bar\"}], \"name\": \"2009\"}, {\"data\": [{\"alignmentgroup\": \"True\", \"hovertemplate\": \"N\\u00edvel Tecnol\\u00f3gico=Alto<br>Ano=2010<br>Pessoal=%{x}<br>Espa\\u00e7o Metropolitano=%{y}<extra></extra>\", \"legendgroup\": \"Alto\", \"marker\": {\"color\": \"rgb(103,0,31)\"}, \"name\": \"Alto\", \"offsetgroup\": \"Alto\", \"orientation\": \"h\", \"showlegend\": true, \"textposition\": \"auto\", \"x\": [10637, 3, 1412, 739], \"xaxis\": \"x\", \"y\": [\"Curitiba\", null, null, null], \"yaxis\": \"y\", \"type\": \"bar\"}, {\"alignmentgroup\": \"True\", \"hovertemplate\": \"N\\u00edvel Tecnol\\u00f3gico=M\\u00e9dio-Alto<br>Ano=2010<br>Pessoal=%{x}<br>Espa\\u00e7o Metropolitano=%{y}<extra></extra>\", \"legendgroup\": \"M\\u00e9dio-Alto\", \"marker\": {\"color\": \"rgb(178,24,43)\"}, \"name\": \"M\\u00e9dio-Alto\", \"offsetgroup\": \"M\\u00e9dio-Alto\", \"orientation\": \"h\", \"showlegend\": true, \"textposition\": \"auto\", \"x\": [75287, 2296, 6793, 5637], \"xaxis\": \"x\", \"y\": [\"Curitiba\", null, null, null], \"yaxis\": \"y\", \"type\": \"bar\"}, {\"alignmentgroup\": \"True\", \"hovertemplate\": \"N\\u00edvel Tecnol\\u00f3gico=M\\u00e9dio-Baixo<br>Ano=2010<br>Pessoal=%{x}<br>Espa\\u00e7o Metropolitano=%{y}<extra></extra>\", \"legendgroup\": \"M\\u00e9dio-Baixo\", \"marker\": {\"color\": \"rgb(214,96,77)\"}, \"name\": \"M\\u00e9dio-Baixo\", \"offsetgroup\": \"M\\u00e9dio-Baixo\", \"orientation\": \"h\", \"showlegend\": true, \"textposition\": \"auto\", \"x\": [51941, 3627, 10315, 6119], \"xaxis\": \"x\", \"y\": [\"Curitiba\", null, null, null], \"yaxis\": \"y\", \"type\": \"bar\"}, {\"alignmentgroup\": \"True\", \"hovertemplate\": \"N\\u00edvel Tecnol\\u00f3gico=Baixo<br>Ano=2010<br>Pessoal=%{x}<br>Espa\\u00e7o Metropolitano=%{y}<extra></extra>\", \"legendgroup\": \"Baixo\", \"marker\": {\"color\": \"rgb(244,165,130)\"}, \"name\": \"Baixo\", \"offsetgroup\": \"Baixo\", \"orientation\": \"h\", \"showlegend\": true, \"textposition\": \"auto\", \"x\": [58718, 13874, 19490, 26682], \"xaxis\": \"x\", \"y\": [\"Curitiba\", null, null, null], \"yaxis\": \"y\", \"type\": \"bar\"}], \"name\": \"2010\"}, {\"data\": [{\"alignmentgroup\": \"True\", \"hovertemplate\": \"N\\u00edvel Tecnol\\u00f3gico=Alto<br>Ano=2011<br>Pessoal=%{x}<br>Espa\\u00e7o Metropolitano=%{y}<extra></extra>\", \"legendgroup\": \"Alto\", \"marker\": {\"color\": \"rgb(103,0,31)\"}, \"name\": \"Alto\", \"offsetgroup\": \"Alto\", \"orientation\": \"h\", \"showlegend\": true, \"textposition\": \"auto\", \"x\": [9255, 737, 1594], \"xaxis\": \"x\", \"y\": [\"Curitiba\", null, null], \"yaxis\": \"y\", \"type\": \"bar\"}, {\"alignmentgroup\": \"True\", \"hovertemplate\": \"N\\u00edvel Tecnol\\u00f3gico=M\\u00e9dio-Alto<br>Ano=2011<br>Pessoal=%{x}<br>Espa\\u00e7o Metropolitano=%{y}<extra></extra>\", \"legendgroup\": \"M\\u00e9dio-Alto\", \"marker\": {\"color\": \"rgb(178,24,43)\"}, \"name\": \"M\\u00e9dio-Alto\", \"offsetgroup\": \"M\\u00e9dio-Alto\", \"orientation\": \"h\", \"showlegend\": true, \"textposition\": \"auto\", \"x\": [81549, 6062, 6994, 2621], \"xaxis\": \"x\", \"y\": [\"Curitiba\", null, null, null], \"yaxis\": \"y\", \"type\": \"bar\"}, {\"alignmentgroup\": \"True\", \"hovertemplate\": \"N\\u00edvel Tecnol\\u00f3gico=M\\u00e9dio-Baixo<br>Ano=2011<br>Pessoal=%{x}<br>Espa\\u00e7o Metropolitano=%{y}<extra></extra>\", \"legendgroup\": \"M\\u00e9dio-Baixo\", \"marker\": {\"color\": \"rgb(214,96,77)\"}, \"name\": \"M\\u00e9dio-Baixo\", \"offsetgroup\": \"M\\u00e9dio-Baixo\", \"orientation\": \"h\", \"showlegend\": true, \"textposition\": \"auto\", \"x\": [53517, 6046, 10376, 4080], \"xaxis\": \"x\", \"y\": [\"Curitiba\", null, null, null], \"yaxis\": \"y\", \"type\": \"bar\"}, {\"alignmentgroup\": \"True\", \"hovertemplate\": \"N\\u00edvel Tecnol\\u00f3gico=Baixo<br>Ano=2011<br>Pessoal=%{x}<br>Espa\\u00e7o Metropolitano=%{y}<extra></extra>\", \"legendgroup\": \"Baixo\", \"marker\": {\"color\": \"rgb(244,165,130)\"}, \"name\": \"Baixo\", \"offsetgroup\": \"Baixo\", \"orientation\": \"h\", \"showlegend\": true, \"textposition\": \"auto\", \"x\": [58664, 23568, 18615, 13723], \"xaxis\": \"x\", \"y\": [\"Curitiba\", null, null, null], \"yaxis\": \"y\", \"type\": \"bar\"}], \"name\": \"2011\"}, {\"data\": [{\"alignmentgroup\": \"True\", \"hovertemplate\": \"N\\u00edvel Tecnol\\u00f3gico=Alto<br>Ano=2012<br>Pessoal=%{x}<br>Espa\\u00e7o Metropolitano=%{y}<extra></extra>\", \"legendgroup\": \"Alto\", \"marker\": {\"color\": \"rgb(103,0,31)\"}, \"name\": \"Alto\", \"offsetgroup\": \"Alto\", \"orientation\": \"h\", \"showlegend\": true, \"textposition\": \"auto\", \"x\": [9729, 819, 4, 1751], \"xaxis\": \"x\", \"y\": [\"Curitiba\", null, null, null], \"yaxis\": \"y\", \"type\": \"bar\"}, {\"alignmentgroup\": \"True\", \"hovertemplate\": \"N\\u00edvel Tecnol\\u00f3gico=M\\u00e9dio-Alto<br>Ano=2012<br>Pessoal=%{x}<br>Espa\\u00e7o Metropolitano=%{y}<extra></extra>\", \"legendgroup\": \"M\\u00e9dio-Alto\", \"marker\": {\"color\": \"rgb(178,24,43)\"}, \"name\": \"M\\u00e9dio-Alto\", \"offsetgroup\": \"M\\u00e9dio-Alto\", \"orientation\": \"h\", \"showlegend\": true, \"textposition\": \"auto\", \"x\": [82714, 6413, 2455, 7434], \"xaxis\": \"x\", \"y\": [\"Curitiba\", null, null, null], \"yaxis\": \"y\", \"type\": \"bar\"}, {\"alignmentgroup\": \"True\", \"hovertemplate\": \"N\\u00edvel Tecnol\\u00f3gico=M\\u00e9dio-Baixo<br>Ano=2012<br>Pessoal=%{x}<br>Espa\\u00e7o Metropolitano=%{y}<extra></extra>\", \"legendgroup\": \"M\\u00e9dio-Baixo\", \"marker\": {\"color\": \"rgb(214,96,77)\"}, \"name\": \"M\\u00e9dio-Baixo\", \"offsetgroup\": \"M\\u00e9dio-Baixo\", \"orientation\": \"h\", \"showlegend\": true, \"textposition\": \"auto\", \"x\": [54230, 6869, 4271, 10510], \"xaxis\": \"x\", \"y\": [\"Curitiba\", null, null, null], \"yaxis\": \"y\", \"type\": \"bar\"}, {\"alignmentgroup\": \"True\", \"hovertemplate\": \"N\\u00edvel Tecnol\\u00f3gico=Baixo<br>Ano=2012<br>Pessoal=%{x}<br>Espa\\u00e7o Metropolitano=%{y}<extra></extra>\", \"legendgroup\": \"Baixo\", \"marker\": {\"color\": \"rgb(244,165,130)\"}, \"name\": \"Baixo\", \"offsetgroup\": \"Baixo\", \"orientation\": \"h\", \"showlegend\": true, \"textposition\": \"auto\", \"x\": [57031, 26369, 12585, 18747], \"xaxis\": \"x\", \"y\": [\"Curitiba\", null, null, null], \"yaxis\": \"y\", \"type\": \"bar\"}], \"name\": \"2012\"}, {\"data\": [{\"alignmentgroup\": \"True\", \"hovertemplate\": \"N\\u00edvel Tecnol\\u00f3gico=Alto<br>Ano=2013<br>Pessoal=%{x}<br>Espa\\u00e7o Metropolitano=%{y}<extra></extra>\", \"legendgroup\": \"Alto\", \"marker\": {\"color\": \"rgb(103,0,31)\"}, \"name\": \"Alto\", \"offsetgroup\": \"Alto\", \"orientation\": \"h\", \"showlegend\": true, \"textposition\": \"auto\", \"x\": [9705, 695, 1548, 7], \"xaxis\": \"x\", \"y\": [\"Curitiba\", null, null, null], \"yaxis\": \"y\", \"type\": \"bar\"}, {\"alignmentgroup\": \"True\", \"hovertemplate\": \"N\\u00edvel Tecnol\\u00f3gico=M\\u00e9dio-Alto<br>Ano=2013<br>Pessoal=%{x}<br>Espa\\u00e7o Metropolitano=%{y}<extra></extra>\", \"legendgroup\": \"M\\u00e9dio-Alto\", \"marker\": {\"color\": \"rgb(178,24,43)\"}, \"name\": \"M\\u00e9dio-Alto\", \"offsetgroup\": \"M\\u00e9dio-Alto\", \"orientation\": \"h\", \"showlegend\": true, \"textposition\": \"auto\", \"x\": [80549, 6867, 7630, 2747], \"xaxis\": \"x\", \"y\": [\"Curitiba\", null, null, null], \"yaxis\": \"y\", \"type\": \"bar\"}, {\"alignmentgroup\": \"True\", \"hovertemplate\": \"N\\u00edvel Tecnol\\u00f3gico=M\\u00e9dio-Baixo<br>Ano=2013<br>Pessoal=%{x}<br>Espa\\u00e7o Metropolitano=%{y}<extra></extra>\", \"legendgroup\": \"M\\u00e9dio-Baixo\", \"marker\": {\"color\": \"rgb(214,96,77)\"}, \"name\": \"M\\u00e9dio-Baixo\", \"offsetgroup\": \"M\\u00e9dio-Baixo\", \"orientation\": \"h\", \"showlegend\": true, \"textposition\": \"auto\", \"x\": [55055, 7257, 10737, 4371], \"xaxis\": \"x\", \"y\": [\"Curitiba\", null, null, null], \"yaxis\": \"y\", \"type\": \"bar\"}, {\"alignmentgroup\": \"True\", \"hovertemplate\": \"N\\u00edvel Tecnol\\u00f3gico=Baixo<br>Ano=2013<br>Pessoal=%{x}<br>Espa\\u00e7o Metropolitano=%{y}<extra></extra>\", \"legendgroup\": \"Baixo\", \"marker\": {\"color\": \"rgb(244,165,130)\"}, \"name\": \"Baixo\", \"offsetgroup\": \"Baixo\", \"orientation\": \"h\", \"showlegend\": true, \"textposition\": \"auto\", \"x\": [56972, 25521, 18295, 13172], \"xaxis\": \"x\", \"y\": [\"Curitiba\", null, null, null], \"yaxis\": \"y\", \"type\": \"bar\"}], \"name\": \"2013\"}, {\"data\": [{\"alignmentgroup\": \"True\", \"hovertemplate\": \"N\\u00edvel Tecnol\\u00f3gico=Alto<br>Ano=2014<br>Pessoal=%{x}<br>Espa\\u00e7o Metropolitano=%{y}<extra></extra>\", \"legendgroup\": \"Alto\", \"marker\": {\"color\": \"rgb(103,0,31)\"}, \"name\": \"Alto\", \"offsetgroup\": \"Alto\", \"orientation\": \"h\", \"showlegend\": true, \"textposition\": \"auto\", \"x\": [8887, 12, 647, 1374], \"xaxis\": \"x\", \"y\": [\"Curitiba\", null, null, null], \"yaxis\": \"y\", \"type\": \"bar\"}, {\"alignmentgroup\": \"True\", \"hovertemplate\": \"N\\u00edvel Tecnol\\u00f3gico=M\\u00e9dio-Alto<br>Ano=2014<br>Pessoal=%{x}<br>Espa\\u00e7o Metropolitano=%{y}<extra></extra>\", \"legendgroup\": \"M\\u00e9dio-Alto\", \"marker\": {\"color\": \"rgb(178,24,43)\"}, \"name\": \"M\\u00e9dio-Alto\", \"offsetgroup\": \"M\\u00e9dio-Alto\", \"orientation\": \"h\", \"showlegend\": true, \"textposition\": \"auto\", \"x\": [73766, 2905, 6647, 7656], \"xaxis\": \"x\", \"y\": [\"Curitiba\", null, null, null], \"yaxis\": \"y\", \"type\": \"bar\"}, {\"alignmentgroup\": \"True\", \"hovertemplate\": \"N\\u00edvel Tecnol\\u00f3gico=M\\u00e9dio-Baixo<br>Ano=2014<br>Pessoal=%{x}<br>Espa\\u00e7o Metropolitano=%{y}<extra></extra>\", \"legendgroup\": \"M\\u00e9dio-Baixo\", \"marker\": {\"color\": \"rgb(214,96,77)\"}, \"name\": \"M\\u00e9dio-Baixo\", \"offsetgroup\": \"M\\u00e9dio-Baixo\", \"orientation\": \"h\", \"showlegend\": true, \"textposition\": \"auto\", \"x\": [52938, 4231, 7302, 9632], \"xaxis\": \"x\", \"y\": [\"Curitiba\", null, null, null], \"yaxis\": \"y\", \"type\": \"bar\"}, {\"alignmentgroup\": \"True\", \"hovertemplate\": \"N\\u00edvel Tecnol\\u00f3gico=Baixo<br>Ano=2014<br>Pessoal=%{x}<br>Espa\\u00e7o Metropolitano=%{y}<extra></extra>\", \"legendgroup\": \"Baixo\", \"marker\": {\"color\": \"rgb(244,165,130)\"}, \"name\": \"Baixo\", \"offsetgroup\": \"Baixo\", \"orientation\": \"h\", \"showlegend\": true, \"textposition\": \"auto\", \"x\": [55939, 13538, 25431, 17445], \"xaxis\": \"x\", \"y\": [\"Curitiba\", null, null, null], \"yaxis\": \"y\", \"type\": \"bar\"}], \"name\": \"2014\"}, {\"data\": [{\"alignmentgroup\": \"True\", \"hovertemplate\": \"N\\u00edvel Tecnol\\u00f3gico=Alto<br>Ano=2015<br>Pessoal=%{x}<br>Espa\\u00e7o Metropolitano=%{y}<extra></extra>\", \"legendgroup\": \"Alto\", \"marker\": {\"color\": \"rgb(103,0,31)\"}, \"name\": \"Alto\", \"offsetgroup\": \"Alto\", \"orientation\": \"h\", \"showlegend\": true, \"textposition\": \"auto\", \"x\": [7380, 1276, 17, 611], \"xaxis\": \"x\", \"y\": [\"Curitiba\", null, null, null], \"yaxis\": \"y\", \"type\": \"bar\"}, {\"alignmentgroup\": \"True\", \"hovertemplate\": \"N\\u00edvel Tecnol\\u00f3gico=M\\u00e9dio-Alto<br>Ano=2015<br>Pessoal=%{x}<br>Espa\\u00e7o Metropolitano=%{y}<extra></extra>\", \"legendgroup\": \"M\\u00e9dio-Alto\", \"marker\": {\"color\": \"rgb(178,24,43)\"}, \"name\": \"M\\u00e9dio-Alto\", \"offsetgroup\": \"M\\u00e9dio-Alto\", \"orientation\": \"h\", \"showlegend\": true, \"textposition\": \"auto\", \"x\": [64756, 7092, 2699, 5695], \"xaxis\": \"x\", \"y\": [\"Curitiba\", null, null, null], \"yaxis\": \"y\", \"type\": \"bar\"}, {\"alignmentgroup\": \"True\", \"hovertemplate\": \"N\\u00edvel Tecnol\\u00f3gico=M\\u00e9dio-Baixo<br>Ano=2015<br>Pessoal=%{x}<br>Espa\\u00e7o Metropolitano=%{y}<extra></extra>\", \"legendgroup\": \"M\\u00e9dio-Baixo\", \"marker\": {\"color\": \"rgb(214,96,77)\"}, \"name\": \"M\\u00e9dio-Baixo\", \"offsetgroup\": \"M\\u00e9dio-Baixo\", \"orientation\": \"h\", \"showlegend\": true, \"textposition\": \"auto\", \"x\": [48678, 8674, 4440, 6646], \"xaxis\": \"x\", \"y\": [\"Curitiba\", null, null, null], \"yaxis\": \"y\", \"type\": \"bar\"}, {\"alignmentgroup\": \"True\", \"hovertemplate\": \"N\\u00edvel Tecnol\\u00f3gico=Baixo<br>Ano=2015<br>Pessoal=%{x}<br>Espa\\u00e7o Metropolitano=%{y}<extra></extra>\", \"legendgroup\": \"Baixo\", \"marker\": {\"color\": \"rgb(244,165,130)\"}, \"name\": \"Baixo\", \"offsetgroup\": \"Baixo\", \"orientation\": \"h\", \"showlegend\": true, \"textposition\": \"auto\", \"x\": [51220, 16580, 12737, 24076], \"xaxis\": \"x\", \"y\": [\"Curitiba\", null, null, null], \"yaxis\": \"y\", \"type\": \"bar\"}], \"name\": \"2015\"}, {\"data\": [{\"alignmentgroup\": \"True\", \"hovertemplate\": \"N\\u00edvel Tecnol\\u00f3gico=Alto<br>Ano=2016<br>Pessoal=%{x}<br>Espa\\u00e7o Metropolitano=%{y}<extra></extra>\", \"legendgroup\": \"Alto\", \"marker\": {\"color\": \"rgb(103,0,31)\"}, \"name\": \"Alto\", \"offsetgroup\": \"Alto\", \"orientation\": \"h\", \"showlegend\": true, \"textposition\": \"auto\", \"x\": [6166, 1208, 603, 16], \"xaxis\": \"x\", \"y\": [\"Curitiba\", null, null, null], \"yaxis\": \"y\", \"type\": \"bar\"}, {\"alignmentgroup\": \"True\", \"hovertemplate\": \"N\\u00edvel Tecnol\\u00f3gico=M\\u00e9dio-Alto<br>Ano=2016<br>Pessoal=%{x}<br>Espa\\u00e7o Metropolitano=%{y}<extra></extra>\", \"legendgroup\": \"M\\u00e9dio-Alto\", \"marker\": {\"color\": \"rgb(178,24,43)\"}, \"name\": \"M\\u00e9dio-Alto\", \"offsetgroup\": \"M\\u00e9dio-Alto\", \"orientation\": \"h\", \"showlegend\": true, \"textposition\": \"auto\", \"x\": [60841, 6780, 5251, 2571], \"xaxis\": \"x\", \"y\": [\"Curitiba\", null, null, null], \"yaxis\": \"y\", \"type\": \"bar\"}, {\"alignmentgroup\": \"True\", \"hovertemplate\": \"N\\u00edvel Tecnol\\u00f3gico=M\\u00e9dio-Baixo<br>Ano=2016<br>Pessoal=%{x}<br>Espa\\u00e7o Metropolitano=%{y}<extra></extra>\", \"legendgroup\": \"M\\u00e9dio-Baixo\", \"marker\": {\"color\": \"rgb(214,96,77)\"}, \"name\": \"M\\u00e9dio-Baixo\", \"offsetgroup\": \"M\\u00e9dio-Baixo\", \"orientation\": \"h\", \"showlegend\": true, \"textposition\": \"auto\", \"x\": [45492, 7792, 6450, 4293], \"xaxis\": \"x\", \"y\": [\"Curitiba\", null, null, null], \"yaxis\": \"y\", \"type\": \"bar\"}, {\"alignmentgroup\": \"True\", \"hovertemplate\": \"N\\u00edvel Tecnol\\u00f3gico=Baixo<br>Ano=2016<br>Pessoal=%{x}<br>Espa\\u00e7o Metropolitano=%{y}<extra></extra>\", \"legendgroup\": \"Baixo\", \"marker\": {\"color\": \"rgb(244,165,130)\"}, \"name\": \"Baixo\", \"offsetgroup\": \"Baixo\", \"orientation\": \"h\", \"showlegend\": true, \"textposition\": \"auto\", \"x\": [48744, 15255, 23083, 10764], \"xaxis\": \"x\", \"y\": [\"Curitiba\", null, null, null], \"yaxis\": \"y\", \"type\": \"bar\"}], \"name\": \"2016\"}, {\"data\": [{\"alignmentgroup\": \"True\", \"hovertemplate\": \"N\\u00edvel Tecnol\\u00f3gico=Alto<br>Ano=2017<br>Pessoal=%{x}<br>Espa\\u00e7o Metropolitano=%{y}<extra></extra>\", \"legendgroup\": \"Alto\", \"marker\": {\"color\": \"rgb(103,0,31)\"}, \"name\": \"Alto\", \"offsetgroup\": \"Alto\", \"orientation\": \"h\", \"showlegend\": true, \"textposition\": \"auto\", \"x\": [6121, 735, 21, 1151], \"xaxis\": \"x\", \"y\": [\"Curitiba\", null, null, null], \"yaxis\": \"y\", \"type\": \"bar\"}, {\"alignmentgroup\": \"True\", \"hovertemplate\": \"N\\u00edvel Tecnol\\u00f3gico=M\\u00e9dio-Alto<br>Ano=2017<br>Pessoal=%{x}<br>Espa\\u00e7o Metropolitano=%{y}<extra></extra>\", \"legendgroup\": \"M\\u00e9dio-Alto\", \"marker\": {\"color\": \"rgb(178,24,43)\"}, \"name\": \"M\\u00e9dio-Alto\", \"offsetgroup\": \"M\\u00e9dio-Alto\", \"orientation\": \"h\", \"showlegend\": true, \"textposition\": \"auto\", \"x\": [61754, 5033, 2505, 6949], \"xaxis\": \"x\", \"y\": [\"Curitiba\", null, null, null], \"yaxis\": \"y\", \"type\": \"bar\"}, {\"alignmentgroup\": \"True\", \"hovertemplate\": \"N\\u00edvel Tecnol\\u00f3gico=M\\u00e9dio-Baixo<br>Ano=2017<br>Pessoal=%{x}<br>Espa\\u00e7o Metropolitano=%{y}<extra></extra>\", \"legendgroup\": \"M\\u00e9dio-Baixo\", \"marker\": {\"color\": \"rgb(214,96,77)\"}, \"name\": \"M\\u00e9dio-Baixo\", \"offsetgroup\": \"M\\u00e9dio-Baixo\", \"orientation\": \"h\", \"showlegend\": true, \"textposition\": \"auto\", \"x\": [45131, 6345, 4138, 7715], \"xaxis\": \"x\", \"y\": [\"Curitiba\", null, null, null], \"yaxis\": \"y\", \"type\": \"bar\"}, {\"alignmentgroup\": \"True\", \"hovertemplate\": \"N\\u00edvel Tecnol\\u00f3gico=Baixo<br>Ano=2017<br>Pessoal=%{x}<br>Espa\\u00e7o Metropolitano=%{y}<extra></extra>\", \"legendgroup\": \"Baixo\", \"marker\": {\"color\": \"rgb(244,165,130)\"}, \"name\": \"Baixo\", \"offsetgroup\": \"Baixo\", \"orientation\": \"h\", \"showlegend\": true, \"textposition\": \"auto\", \"x\": [46028, 22571, 12468, 14462], \"xaxis\": \"x\", \"y\": [\"Curitiba\", null, null, null], \"yaxis\": \"y\", \"type\": \"bar\"}], \"name\": \"2017\"}, {\"data\": [{\"alignmentgroup\": \"True\", \"hovertemplate\": \"N\\u00edvel Tecnol\\u00f3gico=Alto<br>Ano=2018<br>Pessoal=%{x}<br>Espa\\u00e7o Metropolitano=%{y}<extra></extra>\", \"legendgroup\": \"Alto\", \"marker\": {\"color\": \"rgb(103,0,31)\"}, \"name\": \"Alto\", \"offsetgroup\": \"Alto\", \"orientation\": \"h\", \"showlegend\": true, \"textposition\": \"auto\", \"x\": [6017, 7, 731, 1125], \"xaxis\": \"x\", \"y\": [\"Curitiba\", null, null, null], \"yaxis\": \"y\", \"type\": \"bar\"}, {\"alignmentgroup\": \"True\", \"hovertemplate\": \"N\\u00edvel Tecnol\\u00f3gico=M\\u00e9dio-Alto<br>Ano=2018<br>Pessoal=%{x}<br>Espa\\u00e7o Metropolitano=%{y}<extra></extra>\", \"legendgroup\": \"M\\u00e9dio-Alto\", \"marker\": {\"color\": \"rgb(178,24,43)\"}, \"name\": \"M\\u00e9dio-Alto\", \"offsetgroup\": \"M\\u00e9dio-Alto\", \"orientation\": \"h\", \"showlegend\": true, \"textposition\": \"auto\", \"x\": [64142, 2862, 5451, 7082], \"xaxis\": \"x\", \"y\": [\"Curitiba\", null, null, null], \"yaxis\": \"y\", \"type\": \"bar\"}, {\"alignmentgroup\": \"True\", \"hovertemplate\": \"N\\u00edvel Tecnol\\u00f3gico=M\\u00e9dio-Baixo<br>Ano=2018<br>Pessoal=%{x}<br>Espa\\u00e7o Metropolitano=%{y}<extra></extra>\", \"legendgroup\": \"M\\u00e9dio-Baixo\", \"marker\": {\"color\": \"rgb(214,96,77)\"}, \"name\": \"M\\u00e9dio-Baixo\", \"offsetgroup\": \"M\\u00e9dio-Baixo\", \"orientation\": \"h\", \"showlegend\": true, \"textposition\": \"auto\", \"x\": [45825, 4446, 6363, 7961], \"xaxis\": \"x\", \"y\": [\"Curitiba\", null, null, null], \"yaxis\": \"y\", \"type\": \"bar\"}, {\"alignmentgroup\": \"True\", \"hovertemplate\": \"N\\u00edvel Tecnol\\u00f3gico=Baixo<br>Ano=2018<br>Pessoal=%{x}<br>Espa\\u00e7o Metropolitano=%{y}<extra></extra>\", \"legendgroup\": \"Baixo\", \"marker\": {\"color\": \"rgb(244,165,130)\"}, \"name\": \"Baixo\", \"offsetgroup\": \"Baixo\", \"orientation\": \"h\", \"showlegend\": true, \"textposition\": \"auto\", \"x\": [47017, 10665, 23102, 14070], \"xaxis\": \"x\", \"y\": [\"Curitiba\", null, null, null], \"yaxis\": \"y\", \"type\": \"bar\"}], \"name\": \"2018\"}]);\n",
       "                        }).then(function(){\n",
       "                            \n",
       "var gd = document.getElementById('c3240005-c654-4f22-81d3-19733d73a060');\n",
       "var x = new MutationObserver(function (mutations, observer) {{\n",
       "        var display = window.getComputedStyle(gd).display;\n",
       "        if (!display || display === 'none') {{\n",
       "            console.log([gd, 'removed!']);\n",
       "            Plotly.purge(gd);\n",
       "            observer.disconnect();\n",
       "        }}\n",
       "}});\n",
       "\n",
       "// Listen for the removal of the full notebook cells\n",
       "var notebookContainer = gd.closest('#notebook-container');\n",
       "if (notebookContainer) {{\n",
       "    x.observe(notebookContainer, {childList: true});\n",
       "}}\n",
       "\n",
       "// Listen for the clearing of the current output cell\n",
       "var outputEl = gd.closest('.output');\n",
       "if (outputEl) {{\n",
       "    x.observe(outputEl, {childList: true});\n",
       "}}\n",
       "\n",
       "                        })                };                });            </script>        </div>"
      ]
     },
     "metadata": {},
     "output_type": "display_data"
    }
   ],
   "source": [
    "fig, df = ind.ind_tech_level_evolution_dynamic(\n",
    "    list_years=list(range(2000,2019))\n",
    "    , list_ufs=['AM', 'BA', 'CE', 'DF', 'ES', 'GO', 'MG','PA','PE','PR','RJ','RS','SC', 'SP']\n",
    "    , list_tec_level=None\n",
    "    , range_x=1_200_000\n",
    "    , relative=False\n",
    "    , focus='Baixo'\n",
    ")\n",
    "fig.show()\n",
    "#static version\n",
    "#fig = ind.ind_level_comparison_plot(year=2017, ufs=['AM', 'BA', 'CE', 'DF', 'ES', 'GO','MG','PA','PE','PR','RJ','RS','SC','SP'])"
   ]
  },
  {
   "cell_type": "code",
   "execution_count": 5,
   "metadata": {
    "ExecuteTime": {
     "end_time": "2020-10-15T23:06:16.595652Z",
     "start_time": "2020-10-15T23:06:15.375568Z"
    },
    "hide_input": false
   },
   "outputs": [
    {
     "data": {
      "application/vnd.plotly.v1+json": {
       "config": {
        "plotlyServerURL": "https://plot.ly"
       },
       "data": [
        {
         "alignmentgroup": "True",
         "hovertemplate": "Nível Tecnológico=Alto<br>Ano=2000<br>Pessoal %=%{x}<br>Espaço Metropolitano=%{y}<extra></extra>",
         "legendgroup": "Alto",
         "marker": {
          "color": "rgb(103,0,31)"
         },
         "name": "Alto",
         "offsetgroup": "Alto",
         "orientation": "h",
         "showlegend": true,
         "textposition": "auto",
         "type": "bar",
         "x": [
          4.393785022924096,
          3.3571684150143977
         ],
         "xaxis": "x",
         "y": [
          "Curitiba",
          "Total"
         ],
         "yaxis": "y"
        },
        {
         "alignmentgroup": "True",
         "hovertemplate": "Nível Tecnológico=Médio-Alto<br>Ano=2000<br>Pessoal %=%{x}<br>Espaço Metropolitano=%{y}<extra></extra>",
         "legendgroup": "Médio-Alto",
         "marker": {
          "color": "rgb(178,24,43)"
         },
         "name": "Médio-Alto",
         "offsetgroup": "Médio-Alto",
         "orientation": "h",
         "showlegend": true,
         "textposition": "auto",
         "type": "bar",
         "x": [
          36.226014603498044,
          29.52388525083631
         ],
         "xaxis": "x",
         "y": [
          "Curitiba",
          "Total"
         ],
         "yaxis": "y"
        },
        {
         "alignmentgroup": "True",
         "hovertemplate": "Nível Tecnológico=Médio-Baixo<br>Ano=2000<br>Pessoal %=%{x}<br>Espaço Metropolitano=%{y}<extra></extra>",
         "legendgroup": "Médio-Baixo",
         "marker": {
          "color": "rgb(214,96,77)"
         },
         "name": "Médio-Baixo",
         "offsetgroup": "Médio-Baixo",
         "orientation": "h",
         "showlegend": true,
         "textposition": "auto",
         "type": "bar",
         "x": [
          24.12888436067244,
          21.663419870393195
         ],
         "xaxis": "x",
         "y": [
          "Curitiba",
          "Total"
         ],
         "yaxis": "y"
        },
        {
         "alignmentgroup": "True",
         "hovertemplate": "Nível Tecnológico=Baixo<br>Ano=2000<br>Pessoal %=%{x}<br>Espaço Metropolitano=%{y}<extra></extra>",
         "legendgroup": "Baixo",
         "marker": {
          "color": "rgb(244,165,130)"
         },
         "name": "Baixo",
         "offsetgroup": "Baixo",
         "orientation": "h",
         "showlegend": true,
         "textposition": "auto",
         "type": "bar",
         "x": [
          35.25131601290541,
          45.455526463756094
         ],
         "xaxis": "x",
         "y": [
          "Curitiba",
          "Total"
         ],
         "yaxis": "y"
        }
       ],
       "frames": [
        {
         "data": [
          {
           "alignmentgroup": "True",
           "hovertemplate": "Nível Tecnológico=Alto<br>Ano=2000<br>Pessoal %=%{x}<br>Espaço Metropolitano=%{y}<extra></extra>",
           "legendgroup": "Alto",
           "marker": {
            "color": "rgb(103,0,31)"
           },
           "name": "Alto",
           "offsetgroup": "Alto",
           "orientation": "h",
           "showlegend": true,
           "textposition": "auto",
           "type": "bar",
           "x": [
            4.393785022924096,
            3.3571684150143977
           ],
           "xaxis": "x",
           "y": [
            "Curitiba",
            "Total"
           ],
           "yaxis": "y"
          },
          {
           "alignmentgroup": "True",
           "hovertemplate": "Nível Tecnológico=Médio-Alto<br>Ano=2000<br>Pessoal %=%{x}<br>Espaço Metropolitano=%{y}<extra></extra>",
           "legendgroup": "Médio-Alto",
           "marker": {
            "color": "rgb(178,24,43)"
           },
           "name": "Médio-Alto",
           "offsetgroup": "Médio-Alto",
           "orientation": "h",
           "showlegend": true,
           "textposition": "auto",
           "type": "bar",
           "x": [
            36.226014603498044,
            29.52388525083631
           ],
           "xaxis": "x",
           "y": [
            "Curitiba",
            "Total"
           ],
           "yaxis": "y"
          },
          {
           "alignmentgroup": "True",
           "hovertemplate": "Nível Tecnológico=Médio-Baixo<br>Ano=2000<br>Pessoal %=%{x}<br>Espaço Metropolitano=%{y}<extra></extra>",
           "legendgroup": "Médio-Baixo",
           "marker": {
            "color": "rgb(214,96,77)"
           },
           "name": "Médio-Baixo",
           "offsetgroup": "Médio-Baixo",
           "orientation": "h",
           "showlegend": true,
           "textposition": "auto",
           "type": "bar",
           "x": [
            24.12888436067244,
            21.663419870393195
           ],
           "xaxis": "x",
           "y": [
            "Curitiba",
            "Total"
           ],
           "yaxis": "y"
          },
          {
           "alignmentgroup": "True",
           "hovertemplate": "Nível Tecnológico=Baixo<br>Ano=2000<br>Pessoal %=%{x}<br>Espaço Metropolitano=%{y}<extra></extra>",
           "legendgroup": "Baixo",
           "marker": {
            "color": "rgb(244,165,130)"
           },
           "name": "Baixo",
           "offsetgroup": "Baixo",
           "orientation": "h",
           "showlegend": true,
           "textposition": "auto",
           "type": "bar",
           "x": [
            35.25131601290541,
            45.455526463756094
           ],
           "xaxis": "x",
           "y": [
            "Curitiba",
            "Total"
           ],
           "yaxis": "y"
          }
         ],
         "name": "2000"
        },
        {
         "data": [
          {
           "alignmentgroup": "True",
           "hovertemplate": "Nível Tecnológico=Alto<br>Ano=2001<br>Pessoal %=%{x}<br>Espaço Metropolitano=%{y}<extra></extra>",
           "legendgroup": "Alto",
           "marker": {
            "color": "rgb(103,0,31)"
           },
           "name": "Alto",
           "offsetgroup": "Alto",
           "orientation": "h",
           "showlegend": true,
           "textposition": "auto",
           "type": "bar",
           "x": [
            3.706989042924365,
            2.967214491698631
           ],
           "xaxis": "x",
           "y": [
            "Curitiba",
            "Total"
           ],
           "yaxis": "y"
          },
          {
           "alignmentgroup": "True",
           "hovertemplate": "Nível Tecnológico=Médio-Alto<br>Ano=2001<br>Pessoal %=%{x}<br>Espaço Metropolitano=%{y}<extra></extra>",
           "legendgroup": "Médio-Alto",
           "marker": {
            "color": "rgb(178,24,43)"
           },
           "name": "Médio-Alto",
           "offsetgroup": "Médio-Alto",
           "orientation": "h",
           "showlegend": true,
           "textposition": "auto",
           "type": "bar",
           "x": [
            36.035008574735365,
            29.1334658565949
           ],
           "xaxis": "x",
           "y": [
            "Curitiba",
            "Total"
           ],
           "yaxis": "y"
          },
          {
           "alignmentgroup": "True",
           "hovertemplate": "Nível Tecnológico=Médio-Baixo<br>Ano=2001<br>Pessoal %=%{x}<br>Espaço Metropolitano=%{y}<extra></extra>",
           "legendgroup": "Médio-Baixo",
           "marker": {
            "color": "rgb(214,96,77)"
           },
           "name": "Médio-Baixo",
           "offsetgroup": "Médio-Baixo",
           "orientation": "h",
           "showlegend": true,
           "textposition": "auto",
           "type": "bar",
           "x": [
            24.75690836437979,
            22.161435730884453
           ],
           "xaxis": "x",
           "y": [
            "Curitiba",
            "Total"
           ],
           "yaxis": "y"
          },
          {
           "alignmentgroup": "True",
           "hovertemplate": "Nível Tecnológico=Baixo<br>Ano=2001<br>Pessoal %=%{x}<br>Espaço Metropolitano=%{y}<extra></extra>",
           "legendgroup": "Baixo",
           "marker": {
            "color": "rgb(244,165,130)"
           },
           "name": "Baixo",
           "offsetgroup": "Baixo",
           "orientation": "h",
           "showlegend": true,
           "textposition": "auto",
           "type": "bar",
           "x": [
            35.50109401796048,
            45.73788392082202
           ],
           "xaxis": "x",
           "y": [
            "Curitiba",
            "Total"
           ],
           "yaxis": "y"
          }
         ],
         "name": "2001"
        },
        {
         "data": [
          {
           "alignmentgroup": "True",
           "hovertemplate": "Nível Tecnológico=Alto<br>Ano=2002<br>Pessoal %=%{x}<br>Espaço Metropolitano=%{y}<extra></extra>",
           "legendgroup": "Alto",
           "marker": {
            "color": "rgb(103,0,31)"
           },
           "name": "Alto",
           "offsetgroup": "Alto",
           "orientation": "h",
           "showlegend": true,
           "textposition": "auto",
           "type": "bar",
           "x": [
            3.52368890215471,
            2.904993334522972
           ],
           "xaxis": "x",
           "y": [
            "Curitiba",
            "Total"
           ],
           "yaxis": "y"
          },
          {
           "alignmentgroup": "True",
           "hovertemplate": "Nível Tecnológico=Médio-Alto<br>Ano=2002<br>Pessoal %=%{x}<br>Espaço Metropolitano=%{y}<extra></extra>",
           "legendgroup": "Médio-Alto",
           "marker": {
            "color": "rgb(178,24,43)"
           },
           "name": "Médio-Alto",
           "offsetgroup": "Médio-Alto",
           "orientation": "h",
           "showlegend": true,
           "textposition": "auto",
           "type": "bar",
           "x": [
            36.15733980848815,
            28.739752485120768
           ],
           "xaxis": "x",
           "y": [
            "Curitiba",
            "Total"
           ],
           "yaxis": "y"
          },
          {
           "alignmentgroup": "True",
           "hovertemplate": "Nível Tecnológico=Médio-Baixo<br>Ano=2002<br>Pessoal %=%{x}<br>Espaço Metropolitano=%{y}<extra></extra>",
           "legendgroup": "Médio-Baixo",
           "marker": {
            "color": "rgb(214,96,77)"
           },
           "name": "Médio-Baixo",
           "offsetgroup": "Médio-Baixo",
           "orientation": "h",
           "showlegend": true,
           "textposition": "auto",
           "type": "bar",
           "x": [
            24.070473778043095,
            21.6334092602895
           ],
           "xaxis": "x",
           "y": [
            "Curitiba",
            "Total"
           ],
           "yaxis": "y"
          },
          {
           "alignmentgroup": "True",
           "hovertemplate": "Nível Tecnológico=Baixo<br>Ano=2002<br>Pessoal %=%{x}<br>Espaço Metropolitano=%{y}<extra></extra>",
           "legendgroup": "Baixo",
           "marker": {
            "color": "rgb(244,165,130)"
           },
           "name": "Baixo",
           "offsetgroup": "Baixo",
           "orientation": "h",
           "showlegend": true,
           "textposition": "auto",
           "type": "bar",
           "x": [
            36.24849751131404,
            46.72184492006676
           ],
           "xaxis": "x",
           "y": [
            "Curitiba",
            "Total"
           ],
           "yaxis": "y"
          }
         ],
         "name": "2002"
        },
        {
         "data": [
          {
           "alignmentgroup": "True",
           "hovertemplate": "Nível Tecnológico=Alto<br>Ano=2003<br>Pessoal %=%{x}<br>Espaço Metropolitano=%{y}<extra></extra>",
           "legendgroup": "Alto",
           "marker": {
            "color": "rgb(103,0,31)"
           },
           "name": "Alto",
           "offsetgroup": "Alto",
           "orientation": "h",
           "showlegend": true,
           "textposition": "auto",
           "type": "bar",
           "x": [
            3.746810722272971,
            2.9121446764113212
           ],
           "xaxis": "x",
           "y": [
            "Curitiba",
            "Total"
           ],
           "yaxis": "y"
          },
          {
           "alignmentgroup": "True",
           "hovertemplate": "Nível Tecnológico=Médio-Alto<br>Ano=2003<br>Pessoal %=%{x}<br>Espaço Metropolitano=%{y}<extra></extra>",
           "legendgroup": "Médio-Alto",
           "marker": {
            "color": "rgb(178,24,43)"
           },
           "name": "Médio-Alto",
           "offsetgroup": "Médio-Alto",
           "orientation": "h",
           "showlegend": true,
           "textposition": "auto",
           "type": "bar",
           "x": [
            34.99464516332252,
            27.157513578756788
           ],
           "xaxis": "x",
           "y": [
            "Curitiba",
            "Total"
           ],
           "yaxis": "y"
          },
          {
           "alignmentgroup": "True",
           "hovertemplate": "Nível Tecnológico=Médio-Baixo<br>Ano=2003<br>Pessoal %=%{x}<br>Espaço Metropolitano=%{y}<extra></extra>",
           "legendgroup": "Médio-Baixo",
           "marker": {
            "color": "rgb(214,96,77)"
           },
           "name": "Médio-Baixo",
           "offsetgroup": "Médio-Baixo",
           "orientation": "h",
           "showlegend": true,
           "textposition": "auto",
           "type": "bar",
           "x": [
            25.25041736227045,
            22.703885928214152
           ],
           "xaxis": "x",
           "y": [
            "Curitiba",
            "Total"
           ],
           "yaxis": "y"
          },
          {
           "alignmentgroup": "True",
           "hovertemplate": "Nível Tecnológico=Baixo<br>Ano=2003<br>Pessoal %=%{x}<br>Espaço Metropolitano=%{y}<extra></extra>",
           "legendgroup": "Baixo",
           "marker": {
            "color": "rgb(244,165,130)"
           },
           "name": "Baixo",
           "offsetgroup": "Baixo",
           "orientation": "h",
           "showlegend": true,
           "textposition": "auto",
           "type": "bar",
           "x": [
            36.00812675213406,
            47.226455816617744
           ],
           "xaxis": "x",
           "y": [
            "Curitiba",
            "Total"
           ],
           "yaxis": "y"
          }
         ],
         "name": "2003"
        },
        {
         "data": [
          {
           "alignmentgroup": "True",
           "hovertemplate": "Nível Tecnológico=Alto<br>Ano=2004<br>Pessoal %=%{x}<br>Espaço Metropolitano=%{y}<extra></extra>",
           "legendgroup": "Alto",
           "marker": {
            "color": "rgb(103,0,31)"
           },
           "name": "Alto",
           "offsetgroup": "Alto",
           "orientation": "h",
           "showlegend": true,
           "textposition": "auto",
           "type": "bar",
           "x": [
            3.580951308911574,
            3.0203053849016896
           ],
           "xaxis": "x",
           "y": [
            "Curitiba",
            "Total"
           ],
           "yaxis": "y"
          },
          {
           "alignmentgroup": "True",
           "hovertemplate": "Nível Tecnológico=Médio-Alto<br>Ano=2004<br>Pessoal %=%{x}<br>Espaço Metropolitano=%{y}<extra></extra>",
           "legendgroup": "Médio-Alto",
           "marker": {
            "color": "rgb(178,24,43)"
           },
           "name": "Médio-Alto",
           "offsetgroup": "Médio-Alto",
           "orientation": "h",
           "showlegend": true,
           "textposition": "auto",
           "type": "bar",
           "x": [
            37.396669504224676,
            29.037297761766695
           ],
           "xaxis": "x",
           "y": [
            "Curitiba",
            "Total"
           ],
           "yaxis": "y"
          },
          {
           "alignmentgroup": "True",
           "hovertemplate": "Nível Tecnológico=Médio-Baixo<br>Ano=2004<br>Pessoal %=%{x}<br>Espaço Metropolitano=%{y}<extra></extra>",
           "legendgroup": "Médio-Baixo",
           "marker": {
            "color": "rgb(214,96,77)"
           },
           "name": "Médio-Baixo",
           "offsetgroup": "Médio-Baixo",
           "orientation": "h",
           "showlegend": true,
           "textposition": "auto",
           "type": "bar",
           "x": [
            24.68112648707973,
            22.482044966846946
           ],
           "xaxis": "x",
           "y": [
            "Curitiba",
            "Total"
           ],
           "yaxis": "y"
          },
          {
           "alignmentgroup": "True",
           "hovertemplate": "Nível Tecnológico=Baixo<br>Ano=2004<br>Pessoal %=%{x}<br>Espaço Metropolitano=%{y}<extra></extra>",
           "legendgroup": "Baixo",
           "marker": {
            "color": "rgb(244,165,130)"
           },
           "name": "Baixo",
           "offsetgroup": "Baixo",
           "orientation": "h",
           "showlegend": true,
           "textposition": "auto",
           "type": "bar",
           "x": [
            34.34125269978402,
            45.46035188648467
           ],
           "xaxis": "x",
           "y": [
            "Curitiba",
            "Total"
           ],
           "yaxis": "y"
          }
         ],
         "name": "2004"
        },
        {
         "data": [
          {
           "alignmentgroup": "True",
           "hovertemplate": "Nível Tecnológico=Alto<br>Ano=2005<br>Pessoal %=%{x}<br>Espaço Metropolitano=%{y}<extra></extra>",
           "legendgroup": "Alto",
           "marker": {
            "color": "rgb(103,0,31)"
           },
           "name": "Alto",
           "offsetgroup": "Alto",
           "orientation": "h",
           "showlegend": true,
           "textposition": "auto",
           "type": "bar",
           "x": [
            3.596856597656811,
            3.0831603064366004
           ],
           "xaxis": "x",
           "y": [
            "Curitiba",
            "Total"
           ],
           "yaxis": "y"
          },
          {
           "alignmentgroup": "True",
           "hovertemplate": "Nível Tecnológico=Médio-Alto<br>Ano=2005<br>Pessoal %=%{x}<br>Espaço Metropolitano=%{y}<extra></extra>",
           "legendgroup": "Médio-Alto",
           "marker": {
            "color": "rgb(178,24,43)"
           },
           "name": "Médio-Alto",
           "offsetgroup": "Médio-Alto",
           "orientation": "h",
           "showlegend": true,
           "textposition": "auto",
           "type": "bar",
           "x": [
            37.77280779147944,
            29.282863177489798
           ],
           "xaxis": "x",
           "y": [
            "Curitiba",
            "Total"
           ],
           "yaxis": "y"
          },
          {
           "alignmentgroup": "True",
           "hovertemplate": "Nível Tecnológico=Médio-Baixo<br>Ano=2005<br>Pessoal %=%{x}<br>Espaço Metropolitano=%{y}<extra></extra>",
           "legendgroup": "Médio-Baixo",
           "marker": {
            "color": "rgb(214,96,77)"
           },
           "name": "Médio-Baixo",
           "offsetgroup": "Médio-Baixo",
           "orientation": "h",
           "showlegend": true,
           "textposition": "auto",
           "type": "bar",
           "x": [
            24.69239660490661,
            22.35492589675664
           ],
           "xaxis": "x",
           "y": [
            "Curitiba",
            "Total"
           ],
           "yaxis": "y"
          },
          {
           "alignmentgroup": "True",
           "hovertemplate": "Nível Tecnológico=Baixo<br>Ano=2005<br>Pessoal %=%{x}<br>Espaço Metropolitano=%{y}<extra></extra>",
           "legendgroup": "Baixo",
           "marker": {
            "color": "rgb(244,165,130)"
           },
           "name": "Baixo",
           "offsetgroup": "Baixo",
           "orientation": "h",
           "showlegend": true,
           "textposition": "auto",
           "type": "bar",
           "x": [
            33.93793900595715,
            45.27905061931696
           ],
           "xaxis": "x",
           "y": [
            "Curitiba",
            "Total"
           ],
           "yaxis": "y"
          }
         ],
         "name": "2005"
        },
        {
         "data": [
          {
           "alignmentgroup": "True",
           "hovertemplate": "Nível Tecnológico=Alto<br>Ano=2006<br>Pessoal %=%{x}<br>Espaço Metropolitano=%{y}<extra></extra>",
           "legendgroup": "Alto",
           "marker": {
            "color": "rgb(103,0,31)"
           },
           "name": "Alto",
           "offsetgroup": "Alto",
           "orientation": "h",
           "showlegend": true,
           "textposition": "auto",
           "type": "bar",
           "x": [
            3.9213809997703435,
            3.234259443487243
           ],
           "xaxis": "x",
           "y": [
            "Curitiba",
            "Total"
           ],
           "yaxis": "y"
          },
          {
           "alignmentgroup": "True",
           "hovertemplate": "Nível Tecnológico=Médio-Alto<br>Ano=2006<br>Pessoal %=%{x}<br>Espaço Metropolitano=%{y}<extra></extra>",
           "legendgroup": "Médio-Alto",
           "marker": {
            "color": "rgb(178,24,43)"
           },
           "name": "Médio-Alto",
           "offsetgroup": "Médio-Alto",
           "orientation": "h",
           "showlegend": true,
           "textposition": "auto",
           "type": "bar",
           "x": [
            36.478986450279415,
            28.855182223426368
           ],
           "xaxis": "x",
           "y": [
            "Curitiba",
            "Total"
           ],
           "yaxis": "y"
          },
          {
           "alignmentgroup": "True",
           "hovertemplate": "Nível Tecnológico=Médio-Baixo<br>Ano=2006<br>Pessoal %=%{x}<br>Espaço Metropolitano=%{y}<extra></extra>",
           "legendgroup": "Médio-Baixo",
           "marker": {
            "color": "rgb(214,96,77)"
           },
           "name": "Médio-Baixo",
           "offsetgroup": "Médio-Baixo",
           "orientation": "h",
           "showlegend": true,
           "textposition": "auto",
           "type": "bar",
           "x": [
            26.892112582612466,
            24.39114219311577
           ],
           "xaxis": "x",
           "y": [
            "Curitiba",
            "Total"
           ],
           "yaxis": "y"
          },
          {
           "alignmentgroup": "True",
           "hovertemplate": "Nível Tecnológico=Baixo<br>Ano=2006<br>Pessoal %=%{x}<br>Espaço Metropolitano=%{y}<extra></extra>",
           "legendgroup": "Baixo",
           "marker": {
            "color": "rgb(244,165,130)"
           },
           "name": "Baixo",
           "offsetgroup": "Baixo",
           "orientation": "h",
           "showlegend": true,
           "textposition": "auto",
           "type": "bar",
           "x": [
            32.707519967337774,
            43.519416139970616
           ],
           "xaxis": "x",
           "y": [
            "Curitiba",
            "Total"
           ],
           "yaxis": "y"
          }
         ],
         "name": "2006"
        },
        {
         "data": [
          {
           "alignmentgroup": "True",
           "hovertemplate": "Nível Tecnológico=Alto<br>Ano=2007<br>Pessoal %=%{x}<br>Espaço Metropolitano=%{y}<extra></extra>",
           "legendgroup": "Alto",
           "marker": {
            "color": "rgb(103,0,31)"
           },
           "name": "Alto",
           "offsetgroup": "Alto",
           "orientation": "h",
           "showlegend": true,
           "textposition": "auto",
           "type": "bar",
           "x": [
            4.859488840060137,
            3.884872617620907
           ],
           "xaxis": "x",
           "y": [
            "Curitiba",
            "Total"
           ],
           "yaxis": "y"
          },
          {
           "alignmentgroup": "True",
           "hovertemplate": "Nível Tecnológico=Médio-Alto<br>Ano=2007<br>Pessoal %=%{x}<br>Espaço Metropolitano=%{y}<extra></extra>",
           "legendgroup": "Médio-Alto",
           "marker": {
            "color": "rgb(178,24,43)"
           },
           "name": "Médio-Alto",
           "offsetgroup": "Médio-Alto",
           "orientation": "h",
           "showlegend": true,
           "textposition": "auto",
           "type": "bar",
           "x": [
            37.00300682317567,
            29.46688831329493
           ],
           "xaxis": "x",
           "y": [
            "Curitiba",
            "Total"
           ],
           "yaxis": "y"
          },
          {
           "alignmentgroup": "True",
           "hovertemplate": "Nível Tecnológico=Médio-Baixo<br>Ano=2007<br>Pessoal %=%{x}<br>Espaço Metropolitano=%{y}<extra></extra>",
           "legendgroup": "Médio-Baixo",
           "marker": {
            "color": "rgb(214,96,77)"
           },
           "name": "Médio-Baixo",
           "offsetgroup": "Médio-Baixo",
           "orientation": "h",
           "showlegend": true,
           "textposition": "auto",
           "type": "bar",
           "x": [
            26.394703365329015,
            24.097885336529167
           ],
           "xaxis": "x",
           "y": [
            "Curitiba",
            "Total"
           ],
           "yaxis": "y"
          },
          {
           "alignmentgroup": "True",
           "hovertemplate": "Nível Tecnológico=Baixo<br>Ano=2007<br>Pessoal %=%{x}<br>Espaço Metropolitano=%{y}<extra></extra>",
           "legendgroup": "Baixo",
           "marker": {
            "color": "rgb(244,165,130)"
           },
           "name": "Baixo",
           "offsetgroup": "Baixo",
           "orientation": "h",
           "showlegend": true,
           "textposition": "auto",
           "type": "bar",
           "x": [
            31.74280097143518,
            42.55035373255499
           ],
           "xaxis": "x",
           "y": [
            "Curitiba",
            "Total"
           ],
           "yaxis": "y"
          }
         ],
         "name": "2007"
        },
        {
         "data": [
          {
           "alignmentgroup": "True",
           "hovertemplate": "Nível Tecnológico=Alto<br>Ano=2008<br>Pessoal %=%{x}<br>Espaço Metropolitano=%{y}<extra></extra>",
           "legendgroup": "Alto",
           "marker": {
            "color": "rgb(103,0,31)"
           },
           "name": "Alto",
           "offsetgroup": "Alto",
           "orientation": "h",
           "showlegend": true,
           "textposition": "auto",
           "type": "bar",
           "x": [
            5.517191571157938,
            4.401544401544402
           ],
           "xaxis": "x",
           "y": [
            "Curitiba",
            "Total"
           ],
           "yaxis": "y"
          },
          {
           "alignmentgroup": "True",
           "hovertemplate": "Nível Tecnológico=Médio-Alto<br>Ano=2008<br>Pessoal %=%{x}<br>Espaço Metropolitano=%{y}<extra></extra>",
           "legendgroup": "Médio-Alto",
           "marker": {
            "color": "rgb(178,24,43)"
           },
           "name": "Médio-Alto",
           "offsetgroup": "Médio-Alto",
           "orientation": "h",
           "showlegend": true,
           "textposition": "auto",
           "type": "bar",
           "x": [
            36.87257293015039,
            29.486505138679053
           ],
           "xaxis": "x",
           "y": [
            "Curitiba",
            "Total"
           ],
           "yaxis": "y"
          },
          {
           "alignmentgroup": "True",
           "hovertemplate": "Nível Tecnológico=Médio-Baixo<br>Ano=2008<br>Pessoal %=%{x}<br>Espaço Metropolitano=%{y}<extra></extra>",
           "legendgroup": "Médio-Baixo",
           "marker": {
            "color": "rgb(214,96,77)"
           },
           "name": "Médio-Baixo",
           "offsetgroup": "Médio-Baixo",
           "orientation": "h",
           "showlegend": true,
           "textposition": "auto",
           "type": "bar",
           "x": [
            26.79485113971589,
            24.620894186111578
           ],
           "xaxis": "x",
           "y": [
            "Curitiba",
            "Total"
           ],
           "yaxis": "y"
          },
          {
           "alignmentgroup": "True",
           "hovertemplate": "Nível Tecnológico=Baixo<br>Ano=2008<br>Pessoal %=%{x}<br>Espaço Metropolitano=%{y}<extra></extra>",
           "legendgroup": "Baixo",
           "marker": {
            "color": "rgb(244,165,130)"
           },
           "name": "Baixo",
           "offsetgroup": "Baixo",
           "orientation": "h",
           "showlegend": true,
           "textposition": "auto",
           "type": "bar",
           "x": [
            30.815384358975784,
            41.49105627366497
           ],
           "xaxis": "x",
           "y": [
            "Curitiba",
            "Total"
           ],
           "yaxis": "y"
          }
         ],
         "name": "2008"
        },
        {
         "data": [
          {
           "alignmentgroup": "True",
           "hovertemplate": "Nível Tecnológico=Alto<br>Ano=2009<br>Pessoal %=%{x}<br>Espaço Metropolitano=%{y}<extra></extra>",
           "legendgroup": "Alto",
           "marker": {
            "color": "rgb(103,0,31)"
           },
           "name": "Alto",
           "offsetgroup": "Alto",
           "orientation": "h",
           "showlegend": true,
           "textposition": "auto",
           "type": "bar",
           "x": [
            6.705168040931499,
            5.23901265187416
           ],
           "xaxis": "x",
           "y": [
            "Curitiba",
            "Total"
           ],
           "yaxis": "y"
          },
          {
           "alignmentgroup": "True",
           "hovertemplate": "Nível Tecnológico=Médio-Alto<br>Ano=2009<br>Pessoal %=%{x}<br>Espaço Metropolitano=%{y}<extra></extra>",
           "legendgroup": "Médio-Alto",
           "marker": {
            "color": "rgb(178,24,43)"
           },
           "name": "Médio-Alto",
           "offsetgroup": "Médio-Alto",
           "orientation": "h",
           "showlegend": true,
           "textposition": "auto",
           "type": "bar",
           "x": [
            36.98876799262179,
            29.677650324047416
           ],
           "xaxis": "x",
           "y": [
            "Curitiba",
            "Total"
           ],
           "yaxis": "y"
          },
          {
           "alignmentgroup": "True",
           "hovertemplate": "Nível Tecnológico=Médio-Baixo<br>Ano=2009<br>Pessoal %=%{x}<br>Espaço Metropolitano=%{y}<extra></extra>",
           "legendgroup": "Médio-Baixo",
           "marker": {
            "color": "rgb(214,96,77)"
           },
           "name": "Médio-Baixo",
           "offsetgroup": "Médio-Baixo",
           "orientation": "h",
           "showlegend": true,
           "textposition": "auto",
           "type": "bar",
           "x": [
            26.343613785834275,
            24.106470614287613
           ],
           "xaxis": "x",
           "y": [
            "Curitiba",
            "Total"
           ],
           "yaxis": "y"
          },
          {
           "alignmentgroup": "True",
           "hovertemplate": "Nível Tecnológico=Baixo<br>Ano=2009<br>Pessoal %=%{x}<br>Espaço Metropolitano=%{y}<extra></extra>",
           "legendgroup": "Baixo",
           "marker": {
            "color": "rgb(244,165,130)"
           },
           "name": "Baixo",
           "offsetgroup": "Baixo",
           "orientation": "h",
           "showlegend": true,
           "textposition": "auto",
           "type": "bar",
           "x": [
            29.96245018061244,
            40.97686640979081
           ],
           "xaxis": "x",
           "y": [
            "Curitiba",
            "Total"
           ],
           "yaxis": "y"
          }
         ],
         "name": "2009"
        },
        {
         "data": [
          {
           "alignmentgroup": "True",
           "hovertemplate": "Nível Tecnológico=Alto<br>Ano=2010<br>Pessoal %=%{x}<br>Espaço Metropolitano=%{y}<extra></extra>",
           "legendgroup": "Alto",
           "marker": {
            "color": "rgb(103,0,31)"
           },
           "name": "Alto",
           "offsetgroup": "Alto",
           "orientation": "h",
           "showlegend": true,
           "textposition": "auto",
           "type": "bar",
           "x": [
            5.41094601262571,
            4.35705283237388
           ],
           "xaxis": "x",
           "y": [
            "Curitiba",
            "Total"
           ],
           "yaxis": "y"
          },
          {
           "alignmentgroup": "True",
           "hovertemplate": "Nível Tecnológico=Médio-Alto<br>Ano=2010<br>Pessoal %=%{x}<br>Espaço Metropolitano=%{y}<extra></extra>",
           "legendgroup": "Médio-Alto",
           "marker": {
            "color": "rgb(178,24,43)"
           },
           "name": "Médio-Alto",
           "offsetgroup": "Médio-Alto",
           "orientation": "h",
           "showlegend": true,
           "textposition": "auto",
           "type": "bar",
           "x": [
            38.29781822436325,
            30.66151173485029
           ],
           "xaxis": "x",
           "y": [
            "Curitiba",
            "Total"
           ],
           "yaxis": "y"
          },
          {
           "alignmentgroup": "True",
           "hovertemplate": "Nível Tecnológico=Médio-Baixo<br>Ano=2010<br>Pessoal %=%{x}<br>Espaço Metropolitano=%{y}<extra></extra>",
           "legendgroup": "Médio-Baixo",
           "marker": {
            "color": "rgb(214,96,77)"
           },
           "name": "Médio-Baixo",
           "offsetgroup": "Médio-Baixo",
           "orientation": "h",
           "showlegend": true,
           "textposition": "auto",
           "type": "bar",
           "x": [
            26.421918477182665,
            24.526348060087884
           ],
           "xaxis": "x",
           "y": [
            "Curitiba",
            "Total"
           ],
           "yaxis": "y"
          },
          {
           "alignmentgroup": "True",
           "hovertemplate": "Nível Tecnológico=Baixo<br>Ano=2010<br>Pessoal %=%{x}<br>Espaço Metropolitano=%{y}<extra></extra>",
           "legendgroup": "Baixo",
           "marker": {
            "color": "rgb(244,165,130)"
           },
           "name": "Baixo",
           "offsetgroup": "Baixo",
           "orientation": "h",
           "showlegend": true,
           "textposition": "auto",
           "type": "bar",
           "x": [
            29.86931728582838,
            40.45508737268794
           ],
           "xaxis": "x",
           "y": [
            "Curitiba",
            "Total"
           ],
           "yaxis": "y"
          }
         ],
         "name": "2010"
        },
        {
         "data": [
          {
           "alignmentgroup": "True",
           "hovertemplate": "Nível Tecnológico=Alto<br>Ano=2011<br>Pessoal %=%{x}<br>Espaço Metropolitano=%{y}<extra></extra>",
           "legendgroup": "Alto",
           "marker": {
            "color": "rgb(103,0,31)"
           },
           "name": "Alto",
           "offsetgroup": "Alto",
           "orientation": "h",
           "showlegend": true,
           "textposition": "auto",
           "type": "bar",
           "x": [
            4.559450205680222,
            3.895750182413644
           ],
           "xaxis": "x",
           "y": [
            "Curitiba",
            "Total"
           ],
           "yaxis": "y"
          },
          {
           "alignmentgroup": "True",
           "hovertemplate": "Nível Tecnológico=Médio-Alto<br>Ano=2011<br>Pessoal %=%{x}<br>Espaço Metropolitano=%{y}<extra></extra>",
           "legendgroup": "Médio-Alto",
           "marker": {
            "color": "rgb(178,24,43)"
           },
           "name": "Médio-Alto",
           "offsetgroup": "Médio-Alto",
           "orientation": "h",
           "showlegend": true,
           "textposition": "auto",
           "type": "bar",
           "x": [
            40.17488977018006,
            32.69188738437329
           ],
           "xaxis": "x",
           "y": [
            "Curitiba",
            "Total"
           ],
           "yaxis": "y"
          },
          {
           "alignmentgroup": "True",
           "hovertemplate": "Nível Tecnológico=Médio-Baixo<br>Ano=2011<br>Pessoal %=%{x}<br>Espaço Metropolitano=%{y}<extra></extra>",
           "legendgroup": "Médio-Baixo",
           "marker": {
            "color": "rgb(214,96,77)"
           },
           "name": "Médio-Baixo",
           "offsetgroup": "Médio-Baixo",
           "orientation": "h",
           "showlegend": true,
           "textposition": "auto",
           "type": "bar",
           "x": [
            26.36500234007439,
            24.888618397382658
           ],
           "xaxis": "x",
           "y": [
            "Curitiba",
            "Total"
           ],
           "yaxis": "y"
          },
          {
           "alignmentgroup": "True",
           "hovertemplate": "Nível Tecnológico=Baixo<br>Ano=2011<br>Pessoal %=%{x}<br>Espaço Metropolitano=%{y}<extra></extra>",
           "legendgroup": "Baixo",
           "marker": {
            "color": "rgb(244,165,130)"
           },
           "name": "Baixo",
           "offsetgroup": "Baixo",
           "orientation": "h",
           "showlegend": true,
           "textposition": "auto",
           "type": "bar",
           "x": [
            28.900657684065322,
            38.52374403583041
           ],
           "xaxis": "x",
           "y": [
            "Curitiba",
            "Total"
           ],
           "yaxis": "y"
          }
         ],
         "name": "2011"
        },
        {
         "data": [
          {
           "alignmentgroup": "True",
           "hovertemplate": "Nível Tecnológico=Alto<br>Ano=2012<br>Pessoal %=%{x}<br>Espaço Metropolitano=%{y}<extra></extra>",
           "legendgroup": "Alto",
           "marker": {
            "color": "rgb(103,0,31)"
           },
           "name": "Alto",
           "offsetgroup": "Alto",
           "orientation": "h",
           "showlegend": true,
           "textposition": "auto",
           "type": "bar",
           "x": [
            4.776047598476221,
            4.074772050567845
           ],
           "xaxis": "x",
           "y": [
            "Curitiba",
            "Total"
           ],
           "yaxis": "y"
          },
          {
           "alignmentgroup": "True",
           "hovertemplate": "Nível Tecnológico=Médio-Alto<br>Ano=2012<br>Pessoal %=%{x}<br>Espaço Metropolitano=%{y}<extra></extra>",
           "legendgroup": "Médio-Alto",
           "marker": {
            "color": "rgb(178,24,43)"
           },
           "name": "Médio-Alto",
           "offsetgroup": "Médio-Alto",
           "orientation": "h",
           "showlegend": true,
           "textposition": "auto",
           "type": "bar",
           "x": [
            40.60499548364293,
            32.79424769235355
           ],
           "xaxis": "x",
           "y": [
            "Curitiba",
            "Total"
           ],
           "yaxis": "y"
          },
          {
           "alignmentgroup": "True",
           "hovertemplate": "Nível Tecnológico=Médio-Baixo<br>Ano=2012<br>Pessoal %=%{x}<br>Espaço Metropolitano=%{y}<extra></extra>",
           "legendgroup": "Médio-Baixo",
           "marker": {
            "color": "rgb(214,96,77)"
           },
           "name": "Médio-Baixo",
           "offsetgroup": "Médio-Baixo",
           "orientation": "h",
           "showlegend": true,
           "textposition": "auto",
           "type": "bar",
           "x": [
            26.621961277147232,
            25.13156979574804
           ],
           "xaxis": "x",
           "y": [
            "Curitiba",
            "Total"
           ],
           "yaxis": "y"
          },
          {
           "alignmentgroup": "True",
           "hovertemplate": "Nível Tecnológico=Baixo<br>Ano=2012<br>Pessoal %=%{x}<br>Espaço Metropolitano=%{y}<extra></extra>",
           "legendgroup": "Baixo",
           "marker": {
            "color": "rgb(244,165,130)"
           },
           "name": "Baixo",
           "offsetgroup": "Baixo",
           "orientation": "h",
           "showlegend": true,
           "textposition": "auto",
           "type": "bar",
           "x": [
            27.996995640733612,
            37.99941046133057
           ],
           "xaxis": "x",
           "y": [
            "Curitiba",
            "Total"
           ],
           "yaxis": "y"
          }
         ],
         "name": "2012"
        },
        {
         "data": [
          {
           "alignmentgroup": "True",
           "hovertemplate": "Nível Tecnológico=Alto<br>Ano=2013<br>Pessoal %=%{x}<br>Espaço Metropolitano=%{y}<extra></extra>",
           "legendgroup": "Alto",
           "marker": {
            "color": "rgb(103,0,31)"
           },
           "name": "Alto",
           "offsetgroup": "Alto",
           "orientation": "h",
           "showlegend": true,
           "textposition": "auto",
           "type": "bar",
           "x": [
            4.79778130422531,
            3.9700725272973623
           ],
           "xaxis": "x",
           "y": [
            "Curitiba",
            "Total"
           ],
           "yaxis": "y"
          },
          {
           "alignmentgroup": "True",
           "hovertemplate": "Nível Tecnológico=Médio-Alto<br>Ano=2013<br>Pessoal %=%{x}<br>Espaço Metropolitano=%{y}<extra></extra>",
           "legendgroup": "Médio-Alto",
           "marker": {
            "color": "rgb(178,24,43)"
           },
           "name": "Médio-Alto",
           "offsetgroup": "Médio-Alto",
           "orientation": "h",
           "showlegend": true,
           "textposition": "auto",
           "type": "bar",
           "x": [
            39.820348920561,
            32.47555856645679
           ],
           "xaxis": "x",
           "y": [
            "Curitiba",
            "Total"
           ],
           "yaxis": "y"
          },
          {
           "alignmentgroup": "True",
           "hovertemplate": "Nível Tecnológico=Médio-Baixo<br>Ano=2013<br>Pessoal %=%{x}<br>Espaço Metropolitano=%{y}<extra></extra>",
           "legendgroup": "Médio-Baixo",
           "marker": {
            "color": "rgb(214,96,77)"
           },
           "name": "Médio-Baixo",
           "offsetgroup": "Médio-Baixo",
           "orientation": "h",
           "showlegend": true,
           "textposition": "auto",
           "type": "bar",
           "x": [
            27.217089098827866,
            25.709997077654684
           ],
           "xaxis": "x",
           "y": [
            "Curitiba",
            "Total"
           ],
           "yaxis": "y"
          },
          {
           "alignmentgroup": "True",
           "hovertemplate": "Nível Tecnológico=Baixo<br>Ano=2013<br>Pessoal %=%{x}<br>Espaço Metropolitano=%{y}<extra></extra>",
           "legendgroup": "Baixo",
           "marker": {
            "color": "rgb(244,165,130)"
           },
           "name": "Baixo",
           "offsetgroup": "Baixo",
           "orientation": "h",
           "showlegend": true,
           "textposition": "auto",
           "type": "bar",
           "x": [
            28.16478067638582,
            37.844371828591164
           ],
           "xaxis": "x",
           "y": [
            "Curitiba",
            "Total"
           ],
           "yaxis": "y"
          }
         ],
         "name": "2013"
        },
        {
         "data": [
          {
           "alignmentgroup": "True",
           "hovertemplate": "Nível Tecnológico=Alto<br>Ano=2014<br>Pessoal %=%{x}<br>Espaço Metropolitano=%{y}<extra></extra>",
           "legendgroup": "Alto",
           "marker": {
            "color": "rgb(103,0,31)"
           },
           "name": "Alto",
           "offsetgroup": "Alto",
           "orientation": "h",
           "showlegend": true,
           "textposition": "auto",
           "type": "bar",
           "x": [
            4.640004176891348,
            3.7870643315415293
           ],
           "xaxis": "x",
           "y": [
            "Curitiba",
            "Total"
           ],
           "yaxis": "y"
          },
          {
           "alignmentgroup": "True",
           "hovertemplate": "Nível Tecnológico=Médio-Alto<br>Ano=2014<br>Pessoal %=%{x}<br>Espaço Metropolitano=%{y}<extra></extra>",
           "legendgroup": "Médio-Alto",
           "marker": {
            "color": "rgb(178,24,43)"
           },
           "name": "Médio-Alto",
           "offsetgroup": "Médio-Alto",
           "orientation": "h",
           "showlegend": true,
           "textposition": "auto",
           "type": "bar",
           "x": [
            38.51407090273064,
            31.549852609675742
           ],
           "xaxis": "x",
           "y": [
            "Curitiba",
            "Total"
           ],
           "yaxis": "y"
          },
          {
           "alignmentgroup": "True",
           "hovertemplate": "Nível Tecnológico=Médio-Baixo<br>Ano=2014<br>Pessoal %=%{x}<br>Espaço Metropolitano=%{y}<extra></extra>",
           "legendgroup": "Médio-Baixo",
           "marker": {
            "color": "rgb(214,96,77)"
           },
           "name": "Médio-Baixo",
           "offsetgroup": "Médio-Baixo",
           "orientation": "h",
           "showlegend": true,
           "textposition": "auto",
           "type": "bar",
           "x": [
            27.63953427661463,
            25.69897693774926
           ],
           "xaxis": "x",
           "y": [
            "Curitiba",
            "Total"
           ],
           "yaxis": "y"
          },
          {
           "alignmentgroup": "True",
           "hovertemplate": "Nível Tecnológico=Baixo<br>Ano=2014<br>Pessoal %=%{x}<br>Espaço Metropolitano=%{y}<extra></extra>",
           "legendgroup": "Baixo",
           "marker": {
            "color": "rgb(244,165,130)"
           },
           "name": "Baixo",
           "offsetgroup": "Baixo",
           "orientation": "h",
           "showlegend": true,
           "textposition": "auto",
           "type": "bar",
           "x": [
            29.20639064376338,
            38.96410612103347
           ],
           "xaxis": "x",
           "y": [
            "Curitiba",
            "Total"
           ],
           "yaxis": "y"
          }
         ],
         "name": "2014"
        },
        {
         "data": [
          {
           "alignmentgroup": "True",
           "hovertemplate": "Nível Tecnológico=Alto<br>Ano=2015<br>Pessoal %=%{x}<br>Espaço Metropolitano=%{y}<extra></extra>",
           "legendgroup": "Alto",
           "marker": {
            "color": "rgb(103,0,31)"
           },
           "name": "Alto",
           "offsetgroup": "Alto",
           "orientation": "h",
           "showlegend": true,
           "textposition": "auto",
           "type": "bar",
           "x": [
            4.289849680877036,
            3.535724758832647
           ],
           "xaxis": "x",
           "y": [
            "Curitiba",
            "Total"
           ],
           "yaxis": "y"
          },
          {
           "alignmentgroup": "True",
           "hovertemplate": "Nível Tecnológico=Médio-Alto<br>Ano=2015<br>Pessoal %=%{x}<br>Espaço Metropolitano=%{y}<extra></extra>",
           "legendgroup": "Médio-Alto",
           "marker": {
            "color": "rgb(178,24,43)"
           },
           "name": "Médio-Alto",
           "offsetgroup": "Médio-Alto",
           "orientation": "h",
           "showlegend": true,
           "textposition": "auto",
           "type": "bar",
           "x": [
            37.64139646814002,
            30.559416856769634
           ],
           "xaxis": "x",
           "y": [
            "Curitiba",
            "Total"
           ],
           "yaxis": "y"
          },
          {
           "alignmentgroup": "True",
           "hovertemplate": "Nível Tecnológico=Médio-Baixo<br>Ano=2015<br>Pessoal %=%{x}<br>Espaço Metropolitano=%{y}<extra></extra>",
           "legendgroup": "Médio-Baixo",
           "marker": {
            "color": "rgb(214,96,77)"
           },
           "name": "Médio-Baixo",
           "offsetgroup": "Médio-Baixo",
           "orientation": "h",
           "showlegend": true,
           "textposition": "auto",
           "type": "bar",
           "x": [
            28.295569480451537,
            26.06397361535854
           ],
           "xaxis": "x",
           "y": [
            "Curitiba",
            "Total"
           ],
           "yaxis": "y"
          },
          {
           "alignmentgroup": "True",
           "hovertemplate": "Nível Tecnológico=Baixo<br>Ano=2015<br>Pessoal %=%{x}<br>Espaço Metropolitano=%{y}<extra></extra>",
           "legendgroup": "Baixo",
           "marker": {
            "color": "rgb(244,165,130)"
           },
           "name": "Baixo",
           "offsetgroup": "Baixo",
           "orientation": "h",
           "showlegend": true,
           "textposition": "auto",
           "type": "bar",
           "x": [
            29.773184370531407,
            39.84088476903918
           ],
           "xaxis": "x",
           "y": [
            "Curitiba",
            "Total"
           ],
           "yaxis": "y"
          }
         ],
         "name": "2015"
        },
        {
         "data": [
          {
           "alignmentgroup": "True",
           "hovertemplate": "Nível Tecnológico=Alto<br>Ano=2016<br>Pessoal %=%{x}<br>Espaço Metropolitano=%{y}<extra></extra>",
           "legendgroup": "Alto",
           "marker": {
            "color": "rgb(103,0,31)"
           },
           "name": "Alto",
           "offsetgroup": "Alto",
           "orientation": "h",
           "showlegend": true,
           "textposition": "auto",
           "type": "bar",
           "x": [
            3.8240419739151466,
            3.258339482041018
           ],
           "xaxis": "x",
           "y": [
            "Curitiba",
            "Total"
           ],
           "yaxis": "y"
          },
          {
           "alignmentgroup": "True",
           "hovertemplate": "Nível Tecnológico=Médio-Alto<br>Ano=2016<br>Pessoal %=%{x}<br>Espaço Metropolitano=%{y}<extra></extra>",
           "legendgroup": "Médio-Alto",
           "marker": {
            "color": "rgb(178,24,43)"
           },
           "name": "Médio-Alto",
           "offsetgroup": "Médio-Alto",
           "orientation": "h",
           "showlegend": true,
           "textposition": "auto",
           "type": "bar",
           "x": [
            37.73249071277513,
            30.754273181986804
           ],
           "xaxis": "x",
           "y": [
            "Curitiba",
            "Total"
           ],
           "yaxis": "y"
          },
          {
           "alignmentgroup": "True",
           "hovertemplate": "Nível Tecnológico=Médio-Baixo<br>Ano=2016<br>Pessoal %=%{x}<br>Espaço Metropolitano=%{y}<extra></extra>",
           "legendgroup": "Médio-Baixo",
           "marker": {
            "color": "rgb(214,96,77)"
           },
           "name": "Médio-Baixo",
           "offsetgroup": "Médio-Baixo",
           "orientation": "h",
           "showlegend": true,
           "textposition": "auto",
           "type": "bar",
           "x": [
            28.213317787438836,
            26.100550733972256
           ],
           "xaxis": "x",
           "y": [
            "Curitiba",
            "Total"
           ],
           "yaxis": "y"
          },
          {
           "alignmentgroup": "True",
           "hovertemplate": "Nível Tecnológico=Baixo<br>Ano=2016<br>Pessoal %=%{x}<br>Espaço Metropolitano=%{y}<extra></extra>",
           "legendgroup": "Baixo",
           "marker": {
            "color": "rgb(244,165,130)"
           },
           "name": "Baixo",
           "offsetgroup": "Baixo",
           "orientation": "h",
           "showlegend": true,
           "textposition": "auto",
           "type": "bar",
           "x": [
            30.230149525870893,
            39.886836601999924
           ],
           "xaxis": "x",
           "y": [
            "Curitiba",
            "Total"
           ],
           "yaxis": "y"
          }
         ],
         "name": "2016"
        },
        {
         "data": [
          {
           "alignmentgroup": "True",
           "hovertemplate": "Nível Tecnológico=Alto<br>Ano=2017<br>Pessoal %=%{x}<br>Espaço Metropolitano=%{y}<extra></extra>",
           "legendgroup": "Alto",
           "marker": {
            "color": "rgb(103,0,31)"
           },
           "name": "Alto",
           "offsetgroup": "Alto",
           "orientation": "h",
           "showlegend": true,
           "textposition": "auto",
           "type": "bar",
           "x": [
            3.848862507388357,
            3.3019779785873227
           ],
           "xaxis": "x",
           "y": [
            "Curitiba",
            "Total"
           ],
           "yaxis": "y"
          },
          {
           "alignmentgroup": "True",
           "hovertemplate": "Nível Tecnológico=Médio-Alto<br>Ano=2017<br>Pessoal %=%{x}<br>Espaço Metropolitano=%{y}<extra></extra>",
           "legendgroup": "Médio-Alto",
           "marker": {
            "color": "rgb(178,24,43)"
           },
           "name": "Médio-Alto",
           "offsetgroup": "Médio-Alto",
           "orientation": "h",
           "showlegend": true,
           "textposition": "auto",
           "type": "bar",
           "x": [
            38.830690292641826,
            31.358508104817645
           ],
           "xaxis": "x",
           "y": [
            "Curitiba",
            "Total"
           ],
           "yaxis": "y"
          },
          {
           "alignmentgroup": "True",
           "hovertemplate": "Nível Tecnológico=Médio-Baixo<br>Ano=2017<br>Pessoal %=%{x}<br>Espaço Metropolitano=%{y}<extra></extra>",
           "legendgroup": "Médio-Baixo",
           "marker": {
            "color": "rgb(214,96,77)"
           },
           "name": "Médio-Baixo",
           "offsetgroup": "Médio-Baixo",
           "orientation": "h",
           "showlegend": true,
           "textposition": "auto",
           "type": "bar",
           "x": [
            28.378208433416752,
            26.04770346362189
           ],
           "xaxis": "x",
           "y": [
            "Curitiba",
            "Total"
           ],
           "yaxis": "y"
          },
          {
           "alignmentgroup": "True",
           "hovertemplate": "Nível Tecnológico=Baixo<br>Ano=2017<br>Pessoal %=%{x}<br>Espaço Metropolitano=%{y}<extra></extra>",
           "legendgroup": "Baixo",
           "marker": {
            "color": "rgb(244,165,130)"
           },
           "name": "Baixo",
           "offsetgroup": "Baixo",
           "orientation": "h",
           "showlegend": true,
           "textposition": "auto",
           "type": "bar",
           "x": [
            28.942238766553064,
            39.29181045297314
           ],
           "xaxis": "x",
           "y": [
            "Curitiba",
            "Total"
           ],
           "yaxis": "y"
          }
         ],
         "name": "2017"
        },
        {
         "data": [
          {
           "alignmentgroup": "True",
           "hovertemplate": "Nível Tecnológico=Alto<br>Ano=2018<br>Pessoal %=%{x}<br>Espaço Metropolitano=%{y}<extra></extra>",
           "legendgroup": "Alto",
           "marker": {
            "color": "rgb(103,0,31)"
           },
           "name": "Alto",
           "offsetgroup": "Alto",
           "orientation": "h",
           "showlegend": true,
           "textposition": "auto",
           "type": "bar",
           "x": [
            3.6913883963902063,
            3.192015101310022
           ],
           "xaxis": "x",
           "y": [
            "Curitiba",
            "Total"
           ],
           "yaxis": "y"
          },
          {
           "alignmentgroup": "True",
           "hovertemplate": "Nível Tecnológico=Médio-Alto<br>Ano=2018<br>Pessoal %=%{x}<br>Espaço Metropolitano=%{y}<extra></extra>",
           "legendgroup": "Médio-Alto",
           "marker": {
            "color": "rgb(178,24,43)"
           },
           "name": "Médio-Alto",
           "offsetgroup": "Médio-Alto",
           "orientation": "h",
           "showlegend": true,
           "textposition": "auto",
           "type": "bar",
           "x": [
            39.35067883019123,
            32.21869354224559
           ],
           "xaxis": "x",
           "y": [
            "Curitiba",
            "Total"
           ],
           "yaxis": "y"
          },
          {
           "alignmentgroup": "True",
           "hovertemplate": "Nível Tecnológico=Médio-Baixo<br>Ano=2018<br>Pessoal %=%{x}<br>Espaço Metropolitano=%{y}<extra></extra>",
           "legendgroup": "Médio-Baixo",
           "marker": {
            "color": "rgb(214,96,77)"
           },
           "name": "Médio-Baixo",
           "offsetgroup": "Médio-Baixo",
           "orientation": "h",
           "showlegend": true,
           "textposition": "auto",
           "type": "bar",
           "x": [
            28.113324458132162,
            26.166017191512804
           ],
           "xaxis": "x",
           "y": [
            "Curitiba",
            "Total"
           ],
           "yaxis": "y"
          },
          {
           "alignmentgroup": "True",
           "hovertemplate": "Nível Tecnológico=Baixo<br>Ano=2018<br>Pessoal %=%{x}<br>Espaço Metropolitano=%{y}<extra></extra>",
           "legendgroup": "Baixo",
           "marker": {
            "color": "rgb(244,165,130)"
           },
           "name": "Baixo",
           "offsetgroup": "Baixo",
           "orientation": "h",
           "showlegend": true,
           "textposition": "auto",
           "type": "bar",
           "x": [
            28.844608315286408,
            38.423274164931584
           ],
           "xaxis": "x",
           "y": [
            "Curitiba",
            "Total"
           ],
           "yaxis": "y"
          }
         ],
         "name": "2018"
        }
       ],
       "layout": {
        "autosize": true,
        "barmode": "relative",
        "legend": {
         "title": {
          "text": "Nível Tecnológico"
         },
         "tracegroupgap": 0
        },
        "sliders": [
         {
          "active": 0,
          "currentvalue": {
           "prefix": "Ano="
          },
          "len": 0.9,
          "pad": {
           "b": 10,
           "t": 60
          },
          "steps": [
           {
            "args": [
             [
              "2000"
             ],
             {
              "frame": {
               "duration": 0,
               "redraw": true
              },
              "fromcurrent": true,
              "mode": "immediate",
              "transition": {
               "duration": 0,
               "easing": "linear"
              }
             }
            ],
            "label": "2000",
            "method": "animate"
           },
           {
            "args": [
             [
              "2001"
             ],
             {
              "frame": {
               "duration": 0,
               "redraw": true
              },
              "fromcurrent": true,
              "mode": "immediate",
              "transition": {
               "duration": 0,
               "easing": "linear"
              }
             }
            ],
            "label": "2001",
            "method": "animate"
           },
           {
            "args": [
             [
              "2002"
             ],
             {
              "frame": {
               "duration": 0,
               "redraw": true
              },
              "fromcurrent": true,
              "mode": "immediate",
              "transition": {
               "duration": 0,
               "easing": "linear"
              }
             }
            ],
            "label": "2002",
            "method": "animate"
           },
           {
            "args": [
             [
              "2003"
             ],
             {
              "frame": {
               "duration": 0,
               "redraw": true
              },
              "fromcurrent": true,
              "mode": "immediate",
              "transition": {
               "duration": 0,
               "easing": "linear"
              }
             }
            ],
            "label": "2003",
            "method": "animate"
           },
           {
            "args": [
             [
              "2004"
             ],
             {
              "frame": {
               "duration": 0,
               "redraw": true
              },
              "fromcurrent": true,
              "mode": "immediate",
              "transition": {
               "duration": 0,
               "easing": "linear"
              }
             }
            ],
            "label": "2004",
            "method": "animate"
           },
           {
            "args": [
             [
              "2005"
             ],
             {
              "frame": {
               "duration": 0,
               "redraw": true
              },
              "fromcurrent": true,
              "mode": "immediate",
              "transition": {
               "duration": 0,
               "easing": "linear"
              }
             }
            ],
            "label": "2005",
            "method": "animate"
           },
           {
            "args": [
             [
              "2006"
             ],
             {
              "frame": {
               "duration": 0,
               "redraw": true
              },
              "fromcurrent": true,
              "mode": "immediate",
              "transition": {
               "duration": 0,
               "easing": "linear"
              }
             }
            ],
            "label": "2006",
            "method": "animate"
           },
           {
            "args": [
             [
              "2007"
             ],
             {
              "frame": {
               "duration": 0,
               "redraw": true
              },
              "fromcurrent": true,
              "mode": "immediate",
              "transition": {
               "duration": 0,
               "easing": "linear"
              }
             }
            ],
            "label": "2007",
            "method": "animate"
           },
           {
            "args": [
             [
              "2008"
             ],
             {
              "frame": {
               "duration": 0,
               "redraw": true
              },
              "fromcurrent": true,
              "mode": "immediate",
              "transition": {
               "duration": 0,
               "easing": "linear"
              }
             }
            ],
            "label": "2008",
            "method": "animate"
           },
           {
            "args": [
             [
              "2009"
             ],
             {
              "frame": {
               "duration": 0,
               "redraw": true
              },
              "fromcurrent": true,
              "mode": "immediate",
              "transition": {
               "duration": 0,
               "easing": "linear"
              }
             }
            ],
            "label": "2009",
            "method": "animate"
           },
           {
            "args": [
             [
              "2010"
             ],
             {
              "frame": {
               "duration": 0,
               "redraw": true
              },
              "fromcurrent": true,
              "mode": "immediate",
              "transition": {
               "duration": 0,
               "easing": "linear"
              }
             }
            ],
            "label": "2010",
            "method": "animate"
           },
           {
            "args": [
             [
              "2011"
             ],
             {
              "frame": {
               "duration": 0,
               "redraw": true
              },
              "fromcurrent": true,
              "mode": "immediate",
              "transition": {
               "duration": 0,
               "easing": "linear"
              }
             }
            ],
            "label": "2011",
            "method": "animate"
           },
           {
            "args": [
             [
              "2012"
             ],
             {
              "frame": {
               "duration": 0,
               "redraw": true
              },
              "fromcurrent": true,
              "mode": "immediate",
              "transition": {
               "duration": 0,
               "easing": "linear"
              }
             }
            ],
            "label": "2012",
            "method": "animate"
           },
           {
            "args": [
             [
              "2013"
             ],
             {
              "frame": {
               "duration": 0,
               "redraw": true
              },
              "fromcurrent": true,
              "mode": "immediate",
              "transition": {
               "duration": 0,
               "easing": "linear"
              }
             }
            ],
            "label": "2013",
            "method": "animate"
           },
           {
            "args": [
             [
              "2014"
             ],
             {
              "frame": {
               "duration": 0,
               "redraw": true
              },
              "fromcurrent": true,
              "mode": "immediate",
              "transition": {
               "duration": 0,
               "easing": "linear"
              }
             }
            ],
            "label": "2014",
            "method": "animate"
           },
           {
            "args": [
             [
              "2015"
             ],
             {
              "frame": {
               "duration": 0,
               "redraw": true
              },
              "fromcurrent": true,
              "mode": "immediate",
              "transition": {
               "duration": 0,
               "easing": "linear"
              }
             }
            ],
            "label": "2015",
            "method": "animate"
           },
           {
            "args": [
             [
              "2016"
             ],
             {
              "frame": {
               "duration": 0,
               "redraw": true
              },
              "fromcurrent": true,
              "mode": "immediate",
              "transition": {
               "duration": 0,
               "easing": "linear"
              }
             }
            ],
            "label": "2016",
            "method": "animate"
           },
           {
            "args": [
             [
              "2017"
             ],
             {
              "frame": {
               "duration": 0,
               "redraw": true
              },
              "fromcurrent": true,
              "mode": "immediate",
              "transition": {
               "duration": 0,
               "easing": "linear"
              }
             }
            ],
            "label": "2017",
            "method": "animate"
           },
           {
            "args": [
             [
              "2018"
             ],
             {
              "frame": {
               "duration": 0,
               "redraw": true
              },
              "fromcurrent": true,
              "mode": "immediate",
              "transition": {
               "duration": 0,
               "easing": "linear"
              }
             }
            ],
            "label": "2018",
            "method": "animate"
           }
          ],
          "x": 0.1,
          "xanchor": "left",
          "y": 0,
          "yanchor": "top"
         }
        ],
        "template": {
         "data": {
          "bar": [
           {
            "error_x": {
             "color": "#2a3f5f"
            },
            "error_y": {
             "color": "#2a3f5f"
            },
            "marker": {
             "line": {
              "color": "#E5ECF6",
              "width": 0.5
             }
            },
            "type": "bar"
           }
          ],
          "barpolar": [
           {
            "marker": {
             "line": {
              "color": "#E5ECF6",
              "width": 0.5
             }
            },
            "type": "barpolar"
           }
          ],
          "carpet": [
           {
            "aaxis": {
             "endlinecolor": "#2a3f5f",
             "gridcolor": "white",
             "linecolor": "white",
             "minorgridcolor": "white",
             "startlinecolor": "#2a3f5f"
            },
            "baxis": {
             "endlinecolor": "#2a3f5f",
             "gridcolor": "white",
             "linecolor": "white",
             "minorgridcolor": "white",
             "startlinecolor": "#2a3f5f"
            },
            "type": "carpet"
           }
          ],
          "choropleth": [
           {
            "colorbar": {
             "outlinewidth": 0,
             "ticks": ""
            },
            "type": "choropleth"
           }
          ],
          "contour": [
           {
            "colorbar": {
             "outlinewidth": 0,
             "ticks": ""
            },
            "colorscale": [
             [
              0,
              "#0d0887"
             ],
             [
              0.1111111111111111,
              "#46039f"
             ],
             [
              0.2222222222222222,
              "#7201a8"
             ],
             [
              0.3333333333333333,
              "#9c179e"
             ],
             [
              0.4444444444444444,
              "#bd3786"
             ],
             [
              0.5555555555555556,
              "#d8576b"
             ],
             [
              0.6666666666666666,
              "#ed7953"
             ],
             [
              0.7777777777777778,
              "#fb9f3a"
             ],
             [
              0.8888888888888888,
              "#fdca26"
             ],
             [
              1,
              "#f0f921"
             ]
            ],
            "type": "contour"
           }
          ],
          "contourcarpet": [
           {
            "colorbar": {
             "outlinewidth": 0,
             "ticks": ""
            },
            "type": "contourcarpet"
           }
          ],
          "heatmap": [
           {
            "colorbar": {
             "outlinewidth": 0,
             "ticks": ""
            },
            "colorscale": [
             [
              0,
              "#0d0887"
             ],
             [
              0.1111111111111111,
              "#46039f"
             ],
             [
              0.2222222222222222,
              "#7201a8"
             ],
             [
              0.3333333333333333,
              "#9c179e"
             ],
             [
              0.4444444444444444,
              "#bd3786"
             ],
             [
              0.5555555555555556,
              "#d8576b"
             ],
             [
              0.6666666666666666,
              "#ed7953"
             ],
             [
              0.7777777777777778,
              "#fb9f3a"
             ],
             [
              0.8888888888888888,
              "#fdca26"
             ],
             [
              1,
              "#f0f921"
             ]
            ],
            "type": "heatmap"
           }
          ],
          "heatmapgl": [
           {
            "colorbar": {
             "outlinewidth": 0,
             "ticks": ""
            },
            "colorscale": [
             [
              0,
              "#0d0887"
             ],
             [
              0.1111111111111111,
              "#46039f"
             ],
             [
              0.2222222222222222,
              "#7201a8"
             ],
             [
              0.3333333333333333,
              "#9c179e"
             ],
             [
              0.4444444444444444,
              "#bd3786"
             ],
             [
              0.5555555555555556,
              "#d8576b"
             ],
             [
              0.6666666666666666,
              "#ed7953"
             ],
             [
              0.7777777777777778,
              "#fb9f3a"
             ],
             [
              0.8888888888888888,
              "#fdca26"
             ],
             [
              1,
              "#f0f921"
             ]
            ],
            "type": "heatmapgl"
           }
          ],
          "histogram": [
           {
            "marker": {
             "colorbar": {
              "outlinewidth": 0,
              "ticks": ""
             }
            },
            "type": "histogram"
           }
          ],
          "histogram2d": [
           {
            "colorbar": {
             "outlinewidth": 0,
             "ticks": ""
            },
            "colorscale": [
             [
              0,
              "#0d0887"
             ],
             [
              0.1111111111111111,
              "#46039f"
             ],
             [
              0.2222222222222222,
              "#7201a8"
             ],
             [
              0.3333333333333333,
              "#9c179e"
             ],
             [
              0.4444444444444444,
              "#bd3786"
             ],
             [
              0.5555555555555556,
              "#d8576b"
             ],
             [
              0.6666666666666666,
              "#ed7953"
             ],
             [
              0.7777777777777778,
              "#fb9f3a"
             ],
             [
              0.8888888888888888,
              "#fdca26"
             ],
             [
              1,
              "#f0f921"
             ]
            ],
            "type": "histogram2d"
           }
          ],
          "histogram2dcontour": [
           {
            "colorbar": {
             "outlinewidth": 0,
             "ticks": ""
            },
            "colorscale": [
             [
              0,
              "#0d0887"
             ],
             [
              0.1111111111111111,
              "#46039f"
             ],
             [
              0.2222222222222222,
              "#7201a8"
             ],
             [
              0.3333333333333333,
              "#9c179e"
             ],
             [
              0.4444444444444444,
              "#bd3786"
             ],
             [
              0.5555555555555556,
              "#d8576b"
             ],
             [
              0.6666666666666666,
              "#ed7953"
             ],
             [
              0.7777777777777778,
              "#fb9f3a"
             ],
             [
              0.8888888888888888,
              "#fdca26"
             ],
             [
              1,
              "#f0f921"
             ]
            ],
            "type": "histogram2dcontour"
           }
          ],
          "mesh3d": [
           {
            "colorbar": {
             "outlinewidth": 0,
             "ticks": ""
            },
            "type": "mesh3d"
           }
          ],
          "parcoords": [
           {
            "line": {
             "colorbar": {
              "outlinewidth": 0,
              "ticks": ""
             }
            },
            "type": "parcoords"
           }
          ],
          "pie": [
           {
            "automargin": true,
            "type": "pie"
           }
          ],
          "scatter": [
           {
            "marker": {
             "colorbar": {
              "outlinewidth": 0,
              "ticks": ""
             }
            },
            "type": "scatter"
           }
          ],
          "scatter3d": [
           {
            "line": {
             "colorbar": {
              "outlinewidth": 0,
              "ticks": ""
             }
            },
            "marker": {
             "colorbar": {
              "outlinewidth": 0,
              "ticks": ""
             }
            },
            "type": "scatter3d"
           }
          ],
          "scattercarpet": [
           {
            "marker": {
             "colorbar": {
              "outlinewidth": 0,
              "ticks": ""
             }
            },
            "type": "scattercarpet"
           }
          ],
          "scattergeo": [
           {
            "marker": {
             "colorbar": {
              "outlinewidth": 0,
              "ticks": ""
             }
            },
            "type": "scattergeo"
           }
          ],
          "scattergl": [
           {
            "marker": {
             "colorbar": {
              "outlinewidth": 0,
              "ticks": ""
             }
            },
            "type": "scattergl"
           }
          ],
          "scattermapbox": [
           {
            "marker": {
             "colorbar": {
              "outlinewidth": 0,
              "ticks": ""
             }
            },
            "type": "scattermapbox"
           }
          ],
          "scatterpolar": [
           {
            "marker": {
             "colorbar": {
              "outlinewidth": 0,
              "ticks": ""
             }
            },
            "type": "scatterpolar"
           }
          ],
          "scatterpolargl": [
           {
            "marker": {
             "colorbar": {
              "outlinewidth": 0,
              "ticks": ""
             }
            },
            "type": "scatterpolargl"
           }
          ],
          "scatterternary": [
           {
            "marker": {
             "colorbar": {
              "outlinewidth": 0,
              "ticks": ""
             }
            },
            "type": "scatterternary"
           }
          ],
          "surface": [
           {
            "colorbar": {
             "outlinewidth": 0,
             "ticks": ""
            },
            "colorscale": [
             [
              0,
              "#0d0887"
             ],
             [
              0.1111111111111111,
              "#46039f"
             ],
             [
              0.2222222222222222,
              "#7201a8"
             ],
             [
              0.3333333333333333,
              "#9c179e"
             ],
             [
              0.4444444444444444,
              "#bd3786"
             ],
             [
              0.5555555555555556,
              "#d8576b"
             ],
             [
              0.6666666666666666,
              "#ed7953"
             ],
             [
              0.7777777777777778,
              "#fb9f3a"
             ],
             [
              0.8888888888888888,
              "#fdca26"
             ],
             [
              1,
              "#f0f921"
             ]
            ],
            "type": "surface"
           }
          ],
          "table": [
           {
            "cells": {
             "fill": {
              "color": "#EBF0F8"
             },
             "line": {
              "color": "white"
             }
            },
            "header": {
             "fill": {
              "color": "#C8D4E3"
             },
             "line": {
              "color": "white"
             }
            },
            "type": "table"
           }
          ]
         },
         "layout": {
          "annotationdefaults": {
           "arrowcolor": "#2a3f5f",
           "arrowhead": 0,
           "arrowwidth": 1
          },
          "coloraxis": {
           "colorbar": {
            "outlinewidth": 0,
            "ticks": ""
           }
          },
          "colorscale": {
           "diverging": [
            [
             0,
             "#8e0152"
            ],
            [
             0.1,
             "#c51b7d"
            ],
            [
             0.2,
             "#de77ae"
            ],
            [
             0.3,
             "#f1b6da"
            ],
            [
             0.4,
             "#fde0ef"
            ],
            [
             0.5,
             "#f7f7f7"
            ],
            [
             0.6,
             "#e6f5d0"
            ],
            [
             0.7,
             "#b8e186"
            ],
            [
             0.8,
             "#7fbc41"
            ],
            [
             0.9,
             "#4d9221"
            ],
            [
             1,
             "#276419"
            ]
           ],
           "sequential": [
            [
             0,
             "#0d0887"
            ],
            [
             0.1111111111111111,
             "#46039f"
            ],
            [
             0.2222222222222222,
             "#7201a8"
            ],
            [
             0.3333333333333333,
             "#9c179e"
            ],
            [
             0.4444444444444444,
             "#bd3786"
            ],
            [
             0.5555555555555556,
             "#d8576b"
            ],
            [
             0.6666666666666666,
             "#ed7953"
            ],
            [
             0.7777777777777778,
             "#fb9f3a"
            ],
            [
             0.8888888888888888,
             "#fdca26"
            ],
            [
             1,
             "#f0f921"
            ]
           ],
           "sequentialminus": [
            [
             0,
             "#0d0887"
            ],
            [
             0.1111111111111111,
             "#46039f"
            ],
            [
             0.2222222222222222,
             "#7201a8"
            ],
            [
             0.3333333333333333,
             "#9c179e"
            ],
            [
             0.4444444444444444,
             "#bd3786"
            ],
            [
             0.5555555555555556,
             "#d8576b"
            ],
            [
             0.6666666666666666,
             "#ed7953"
            ],
            [
             0.7777777777777778,
             "#fb9f3a"
            ],
            [
             0.8888888888888888,
             "#fdca26"
            ],
            [
             1,
             "#f0f921"
            ]
           ]
          },
          "colorway": [
           "#636efa",
           "#EF553B",
           "#00cc96",
           "#ab63fa",
           "#FFA15A",
           "#19d3f3",
           "#FF6692",
           "#B6E880",
           "#FF97FF",
           "#FECB52"
          ],
          "font": {
           "color": "#2a3f5f"
          },
          "geo": {
           "bgcolor": "white",
           "lakecolor": "white",
           "landcolor": "#E5ECF6",
           "showlakes": true,
           "showland": true,
           "subunitcolor": "white"
          },
          "hoverlabel": {
           "align": "left"
          },
          "hovermode": "closest",
          "mapbox": {
           "style": "light"
          },
          "paper_bgcolor": "white",
          "plot_bgcolor": "#E5ECF6",
          "polar": {
           "angularaxis": {
            "gridcolor": "white",
            "linecolor": "white",
            "ticks": ""
           },
           "bgcolor": "#E5ECF6",
           "radialaxis": {
            "gridcolor": "white",
            "linecolor": "white",
            "ticks": ""
           }
          },
          "scene": {
           "xaxis": {
            "backgroundcolor": "#E5ECF6",
            "gridcolor": "white",
            "gridwidth": 2,
            "linecolor": "white",
            "showbackground": true,
            "ticks": "",
            "zerolinecolor": "white"
           },
           "yaxis": {
            "backgroundcolor": "#E5ECF6",
            "gridcolor": "white",
            "gridwidth": 2,
            "linecolor": "white",
            "showbackground": true,
            "ticks": "",
            "zerolinecolor": "white"
           },
           "zaxis": {
            "backgroundcolor": "#E5ECF6",
            "gridcolor": "white",
            "gridwidth": 2,
            "linecolor": "white",
            "showbackground": true,
            "ticks": "",
            "zerolinecolor": "white"
           }
          },
          "shapedefaults": {
           "line": {
            "color": "#2a3f5f"
           }
          },
          "ternary": {
           "aaxis": {
            "gridcolor": "white",
            "linecolor": "white",
            "ticks": ""
           },
           "baxis": {
            "gridcolor": "white",
            "linecolor": "white",
            "ticks": ""
           },
           "bgcolor": "#E5ECF6",
           "caxis": {
            "gridcolor": "white",
            "linecolor": "white",
            "ticks": ""
           }
          },
          "title": {
           "x": 0.05
          },
          "xaxis": {
           "automargin": true,
           "gridcolor": "white",
           "linecolor": "white",
           "ticks": "",
           "title": {
            "standoff": 15
           },
           "zerolinecolor": "white",
           "zerolinewidth": 2
          },
          "yaxis": {
           "automargin": true,
           "gridcolor": "white",
           "linecolor": "white",
           "ticks": "",
           "title": {
            "standoff": 15
           },
           "zerolinecolor": "white",
           "zerolinewidth": 2
          }
         }
        },
        "title": {
         "text": "Indústrias no Espaços Metropolitanos Segundo Nível Tecnológico entre 2000 e 2018"
        },
        "updatemenus": [
         {
          "buttons": [
           {
            "args": [
             null,
             {
              "frame": {
               "duration": 2000,
               "redraw": true
              },
              "fromcurrent": true,
              "mode": "immediate",
              "transition": {
               "duration": 500,
               "easing": "linear"
              }
             }
            ],
            "label": "&#9654;",
            "method": "animate"
           },
           {
            "args": [
             [
              null
             ],
             {
              "frame": {
               "duration": 0,
               "redraw": true
              },
              "fromcurrent": true,
              "mode": "immediate",
              "transition": {
               "duration": 0,
               "easing": "linear"
              }
             }
            ],
            "label": "&#9724;",
            "method": "animate"
           }
          ],
          "direction": "left",
          "pad": {
           "r": 10,
           "t": 70
          },
          "showactive": false,
          "type": "buttons",
          "x": 0.1,
          "xanchor": "right",
          "y": 0,
          "yanchor": "top"
         }
        ],
        "xaxis": {
         "anchor": "y",
         "domain": [
          0,
          1
         ],
         "range": [
          0,
          100
         ],
         "title": {
          "text": "Pessoal %"
         },
         "type": "linear"
        },
        "yaxis": {
         "anchor": "x",
         "autorange": true,
         "categoryarray": [
          "Total",
          "Vitória",
          "Belém",
          "Fortaleza",
          "Brasília",
          "Goiânia",
          "Recife",
          "Rio de Janeiro",
          "Florianópolis",
          "Porto Alegre",
          "Salvador",
          "Belo Horizonte",
          "São Paulo",
          "Curitiba",
          "Campinas",
          "Manaus"
         ],
         "categoryorder": "array",
         "domain": [
          0,
          1
         ],
         "range": [
          -6.5,
          19.5
         ],
         "title": {
          "text": "Espaço Metropolitano"
         },
         "type": "category"
        }
       }
      },
      "image/png": "[encoded data removed]",
      "text/html": [
       "<div>                            <div id=\"275cfd81-18d7-49b5-a56a-9a1a3dc3548a\" class=\"plotly-graph-div\" style=\"height:700px; width:100%;\"></div>            <script type=\"text/javascript\">                require([\"plotly\"], function(Plotly) {                    window.PLOTLYENV=window.PLOTLYENV || {};                                    if (document.getElementById(\"275cfd81-18d7-49b5-a56a-9a1a3dc3548a\")) {                    Plotly.newPlot(                        \"275cfd81-18d7-49b5-a56a-9a1a3dc3548a\",                        [{\"alignmentgroup\": \"True\", \"hovertemplate\": \"N\\u00edvel Tecnol\\u00f3gico=Alto<br>Ano=2000<br>Pessoal %=%{x}<br>Espa\\u00e7o Metropolitano=%{y}<extra></extra>\", \"legendgroup\": \"Alto\", \"marker\": {\"color\": \"rgb(103,0,31)\"}, \"name\": \"Alto\", \"offsetgroup\": \"Alto\", \"orientation\": \"h\", \"showlegend\": true, \"textposition\": \"auto\", \"type\": \"bar\", \"x\": [4.393785022924096, 3.3571684150143977], \"xaxis\": \"x\", \"y\": [\"Curitiba\", \"Total\"], \"yaxis\": \"y\"}, {\"alignmentgroup\": \"True\", \"hovertemplate\": \"N\\u00edvel Tecnol\\u00f3gico=M\\u00e9dio-Alto<br>Ano=2000<br>Pessoal %=%{x}<br>Espa\\u00e7o Metropolitano=%{y}<extra></extra>\", \"legendgroup\": \"M\\u00e9dio-Alto\", \"marker\": {\"color\": \"rgb(178,24,43)\"}, \"name\": \"M\\u00e9dio-Alto\", \"offsetgroup\": \"M\\u00e9dio-Alto\", \"orientation\": \"h\", \"showlegend\": true, \"textposition\": \"auto\", \"type\": \"bar\", \"x\": [36.226014603498044, 29.52388525083631], \"xaxis\": \"x\", \"y\": [\"Curitiba\", \"Total\"], \"yaxis\": \"y\"}, {\"alignmentgroup\": \"True\", \"hovertemplate\": \"N\\u00edvel Tecnol\\u00f3gico=M\\u00e9dio-Baixo<br>Ano=2000<br>Pessoal %=%{x}<br>Espa\\u00e7o Metropolitano=%{y}<extra></extra>\", \"legendgroup\": \"M\\u00e9dio-Baixo\", \"marker\": {\"color\": \"rgb(214,96,77)\"}, \"name\": \"M\\u00e9dio-Baixo\", \"offsetgroup\": \"M\\u00e9dio-Baixo\", \"orientation\": \"h\", \"showlegend\": true, \"textposition\": \"auto\", \"type\": \"bar\", \"x\": [24.12888436067244, 21.663419870393195], \"xaxis\": \"x\", \"y\": [\"Curitiba\", \"Total\"], \"yaxis\": \"y\"}, {\"alignmentgroup\": \"True\", \"hovertemplate\": \"N\\u00edvel Tecnol\\u00f3gico=Baixo<br>Ano=2000<br>Pessoal %=%{x}<br>Espa\\u00e7o Metropolitano=%{y}<extra></extra>\", \"legendgroup\": \"Baixo\", \"marker\": {\"color\": \"rgb(244,165,130)\"}, \"name\": \"Baixo\", \"offsetgroup\": \"Baixo\", \"orientation\": \"h\", \"showlegend\": true, \"textposition\": \"auto\", \"type\": \"bar\", \"x\": [35.25131601290541, 45.455526463756094], \"xaxis\": \"x\", \"y\": [\"Curitiba\", \"Total\"], \"yaxis\": \"y\"}],                        {\"barmode\": \"relative\", \"height\": 700, \"legend\": {\"title\": {\"text\": \"N\\u00edvel Tecnol\\u00f3gico\"}, \"tracegroupgap\": 0}, \"sliders\": [{\"active\": 0, \"currentvalue\": {\"prefix\": \"Ano=\"}, \"len\": 0.9, \"pad\": {\"b\": 10, \"t\": 60}, \"steps\": [{\"args\": [[\"2000\"], {\"frame\": {\"duration\": 0, \"redraw\": true}, \"fromcurrent\": true, \"mode\": \"immediate\", \"transition\": {\"duration\": 0, \"easing\": \"linear\"}}], \"label\": \"2000\", \"method\": \"animate\"}, {\"args\": [[\"2001\"], {\"frame\": {\"duration\": 0, \"redraw\": true}, \"fromcurrent\": true, \"mode\": \"immediate\", \"transition\": {\"duration\": 0, \"easing\": \"linear\"}}], \"label\": \"2001\", \"method\": \"animate\"}, {\"args\": [[\"2002\"], {\"frame\": {\"duration\": 0, \"redraw\": true}, \"fromcurrent\": true, \"mode\": \"immediate\", \"transition\": {\"duration\": 0, \"easing\": \"linear\"}}], \"label\": \"2002\", \"method\": \"animate\"}, {\"args\": [[\"2003\"], {\"frame\": {\"duration\": 0, \"redraw\": true}, \"fromcurrent\": true, \"mode\": \"immediate\", \"transition\": {\"duration\": 0, \"easing\": \"linear\"}}], \"label\": \"2003\", \"method\": \"animate\"}, {\"args\": [[\"2004\"], {\"frame\": {\"duration\": 0, \"redraw\": true}, \"fromcurrent\": true, \"mode\": \"immediate\", \"transition\": {\"duration\": 0, \"easing\": \"linear\"}}], \"label\": \"2004\", \"method\": \"animate\"}, {\"args\": [[\"2005\"], {\"frame\": {\"duration\": 0, \"redraw\": true}, \"fromcurrent\": true, \"mode\": \"immediate\", \"transition\": {\"duration\": 0, \"easing\": \"linear\"}}], \"label\": \"2005\", \"method\": \"animate\"}, {\"args\": [[\"2006\"], {\"frame\": {\"duration\": 0, \"redraw\": true}, \"fromcurrent\": true, \"mode\": \"immediate\", \"transition\": {\"duration\": 0, \"easing\": \"linear\"}}], \"label\": \"2006\", \"method\": \"animate\"}, {\"args\": [[\"2007\"], {\"frame\": {\"duration\": 0, \"redraw\": true}, \"fromcurrent\": true, \"mode\": \"immediate\", \"transition\": {\"duration\": 0, \"easing\": \"linear\"}}], \"label\": \"2007\", \"method\": \"animate\"}, {\"args\": [[\"2008\"], {\"frame\": {\"duration\": 0, \"redraw\": true}, \"fromcurrent\": true, \"mode\": \"immediate\", \"transition\": {\"duration\": 0, \"easing\": \"linear\"}}], \"label\": \"2008\", \"method\": \"animate\"}, {\"args\": [[\"2009\"], {\"frame\": {\"duration\": 0, \"redraw\": true}, \"fromcurrent\": true, \"mode\": \"immediate\", \"transition\": {\"duration\": 0, \"easing\": \"linear\"}}], \"label\": \"2009\", \"method\": \"animate\"}, {\"args\": [[\"2010\"], {\"frame\": {\"duration\": 0, \"redraw\": true}, \"fromcurrent\": true, \"mode\": \"immediate\", \"transition\": {\"duration\": 0, \"easing\": \"linear\"}}], \"label\": \"2010\", \"method\": \"animate\"}, {\"args\": [[\"2011\"], {\"frame\": {\"duration\": 0, \"redraw\": true}, \"fromcurrent\": true, \"mode\": \"immediate\", \"transition\": {\"duration\": 0, \"easing\": \"linear\"}}], \"label\": \"2011\", \"method\": \"animate\"}, {\"args\": [[\"2012\"], {\"frame\": {\"duration\": 0, \"redraw\": true}, \"fromcurrent\": true, \"mode\": \"immediate\", \"transition\": {\"duration\": 0, \"easing\": \"linear\"}}], \"label\": \"2012\", \"method\": \"animate\"}, {\"args\": [[\"2013\"], {\"frame\": {\"duration\": 0, \"redraw\": true}, \"fromcurrent\": true, \"mode\": \"immediate\", \"transition\": {\"duration\": 0, \"easing\": \"linear\"}}], \"label\": \"2013\", \"method\": \"animate\"}, {\"args\": [[\"2014\"], {\"frame\": {\"duration\": 0, \"redraw\": true}, \"fromcurrent\": true, \"mode\": \"immediate\", \"transition\": {\"duration\": 0, \"easing\": \"linear\"}}], \"label\": \"2014\", \"method\": \"animate\"}, {\"args\": [[\"2015\"], {\"frame\": {\"duration\": 0, \"redraw\": true}, \"fromcurrent\": true, \"mode\": \"immediate\", \"transition\": {\"duration\": 0, \"easing\": \"linear\"}}], \"label\": \"2015\", \"method\": \"animate\"}, {\"args\": [[\"2016\"], {\"frame\": {\"duration\": 0, \"redraw\": true}, \"fromcurrent\": true, \"mode\": \"immediate\", \"transition\": {\"duration\": 0, \"easing\": \"linear\"}}], \"label\": \"2016\", \"method\": \"animate\"}, {\"args\": [[\"2017\"], {\"frame\": {\"duration\": 0, \"redraw\": true}, \"fromcurrent\": true, \"mode\": \"immediate\", \"transition\": {\"duration\": 0, \"easing\": \"linear\"}}], \"label\": \"2017\", \"method\": \"animate\"}, {\"args\": [[\"2018\"], {\"frame\": {\"duration\": 0, \"redraw\": true}, \"fromcurrent\": true, \"mode\": \"immediate\", \"transition\": {\"duration\": 0, \"easing\": \"linear\"}}], \"label\": \"2018\", \"method\": \"animate\"}], \"x\": 0.1, \"xanchor\": \"left\", \"y\": 0, \"yanchor\": \"top\"}], \"template\": {\"data\": {\"bar\": [{\"error_x\": {\"color\": \"#2a3f5f\"}, \"error_y\": {\"color\": \"#2a3f5f\"}, \"marker\": {\"line\": {\"color\": \"#E5ECF6\", \"width\": 0.5}}, \"type\": \"bar\"}], \"barpolar\": [{\"marker\": {\"line\": {\"color\": \"#E5ECF6\", \"width\": 0.5}}, \"type\": \"barpolar\"}], \"carpet\": [{\"aaxis\": {\"endlinecolor\": \"#2a3f5f\", \"gridcolor\": \"white\", \"linecolor\": \"white\", \"minorgridcolor\": \"white\", \"startlinecolor\": \"#2a3f5f\"}, \"baxis\": {\"endlinecolor\": \"#2a3f5f\", \"gridcolor\": \"white\", \"linecolor\": \"white\", \"minorgridcolor\": \"white\", \"startlinecolor\": \"#2a3f5f\"}, \"type\": \"carpet\"}], \"choropleth\": [{\"colorbar\": {\"outlinewidth\": 0, \"ticks\": \"\"}, \"type\": \"choropleth\"}], \"contour\": [{\"colorbar\": {\"outlinewidth\": 0, \"ticks\": \"\"}, \"colorscale\": [[0.0, \"#0d0887\"], [0.1111111111111111, \"#46039f\"], [0.2222222222222222, \"#7201a8\"], [0.3333333333333333, \"#9c179e\"], [0.4444444444444444, \"#bd3786\"], [0.5555555555555556, \"#d8576b\"], [0.6666666666666666, \"#ed7953\"], [0.7777777777777778, \"#fb9f3a\"], [0.8888888888888888, \"#fdca26\"], [1.0, \"#f0f921\"]], \"type\": \"contour\"}], \"contourcarpet\": [{\"colorbar\": {\"outlinewidth\": 0, \"ticks\": \"\"}, \"type\": \"contourcarpet\"}], \"heatmap\": [{\"colorbar\": {\"outlinewidth\": 0, \"ticks\": \"\"}, \"colorscale\": [[0.0, \"#0d0887\"], [0.1111111111111111, \"#46039f\"], [0.2222222222222222, \"#7201a8\"], [0.3333333333333333, \"#9c179e\"], [0.4444444444444444, \"#bd3786\"], [0.5555555555555556, \"#d8576b\"], [0.6666666666666666, \"#ed7953\"], [0.7777777777777778, \"#fb9f3a\"], [0.8888888888888888, \"#fdca26\"], [1.0, \"#f0f921\"]], \"type\": \"heatmap\"}], \"heatmapgl\": [{\"colorbar\": {\"outlinewidth\": 0, \"ticks\": \"\"}, \"colorscale\": [[0.0, \"#0d0887\"], [0.1111111111111111, \"#46039f\"], [0.2222222222222222, \"#7201a8\"], [0.3333333333333333, \"#9c179e\"], [0.4444444444444444, \"#bd3786\"], [0.5555555555555556, \"#d8576b\"], [0.6666666666666666, \"#ed7953\"], [0.7777777777777778, \"#fb9f3a\"], [0.8888888888888888, \"#fdca26\"], [1.0, \"#f0f921\"]], \"type\": \"heatmapgl\"}], \"histogram\": [{\"marker\": {\"colorbar\": {\"outlinewidth\": 0, \"ticks\": \"\"}}, \"type\": \"histogram\"}], \"histogram2d\": [{\"colorbar\": {\"outlinewidth\": 0, \"ticks\": \"\"}, \"colorscale\": [[0.0, \"#0d0887\"], [0.1111111111111111, \"#46039f\"], [0.2222222222222222, \"#7201a8\"], [0.3333333333333333, \"#9c179e\"], [0.4444444444444444, \"#bd3786\"], [0.5555555555555556, \"#d8576b\"], [0.6666666666666666, \"#ed7953\"], [0.7777777777777778, \"#fb9f3a\"], [0.8888888888888888, \"#fdca26\"], [1.0, \"#f0f921\"]], \"type\": \"histogram2d\"}], \"histogram2dcontour\": [{\"colorbar\": {\"outlinewidth\": 0, \"ticks\": \"\"}, \"colorscale\": [[0.0, \"#0d0887\"], [0.1111111111111111, \"#46039f\"], [0.2222222222222222, \"#7201a8\"], [0.3333333333333333, \"#9c179e\"], [0.4444444444444444, \"#bd3786\"], [0.5555555555555556, \"#d8576b\"], [0.6666666666666666, \"#ed7953\"], [0.7777777777777778, \"#fb9f3a\"], [0.8888888888888888, \"#fdca26\"], [1.0, \"#f0f921\"]], \"type\": \"histogram2dcontour\"}], \"mesh3d\": [{\"colorbar\": {\"outlinewidth\": 0, \"ticks\": \"\"}, \"type\": \"mesh3d\"}], \"parcoords\": [{\"line\": {\"colorbar\": {\"outlinewidth\": 0, \"ticks\": \"\"}}, \"type\": \"parcoords\"}], \"pie\": [{\"automargin\": true, \"type\": \"pie\"}], \"scatter\": [{\"marker\": {\"colorbar\": {\"outlinewidth\": 0, \"ticks\": \"\"}}, \"type\": \"scatter\"}], \"scatter3d\": [{\"line\": {\"colorbar\": {\"outlinewidth\": 0, \"ticks\": \"\"}}, \"marker\": {\"colorbar\": {\"outlinewidth\": 0, \"ticks\": \"\"}}, \"type\": \"scatter3d\"}], \"scattercarpet\": [{\"marker\": {\"colorbar\": {\"outlinewidth\": 0, \"ticks\": \"\"}}, \"type\": \"scattercarpet\"}], \"scattergeo\": [{\"marker\": {\"colorbar\": {\"outlinewidth\": 0, \"ticks\": \"\"}}, \"type\": \"scattergeo\"}], \"scattergl\": [{\"marker\": {\"colorbar\": {\"outlinewidth\": 0, \"ticks\": \"\"}}, \"type\": \"scattergl\"}], \"scattermapbox\": [{\"marker\": {\"colorbar\": {\"outlinewidth\": 0, \"ticks\": \"\"}}, \"type\": \"scattermapbox\"}], \"scatterpolar\": [{\"marker\": {\"colorbar\": {\"outlinewidth\": 0, \"ticks\": \"\"}}, \"type\": \"scatterpolar\"}], \"scatterpolargl\": [{\"marker\": {\"colorbar\": {\"outlinewidth\": 0, \"ticks\": \"\"}}, \"type\": \"scatterpolargl\"}], \"scatterternary\": [{\"marker\": {\"colorbar\": {\"outlinewidth\": 0, \"ticks\": \"\"}}, \"type\": \"scatterternary\"}], \"surface\": [{\"colorbar\": {\"outlinewidth\": 0, \"ticks\": \"\"}, \"colorscale\": [[0.0, \"#0d0887\"], [0.1111111111111111, \"#46039f\"], [0.2222222222222222, \"#7201a8\"], [0.3333333333333333, \"#9c179e\"], [0.4444444444444444, \"#bd3786\"], [0.5555555555555556, \"#d8576b\"], [0.6666666666666666, \"#ed7953\"], [0.7777777777777778, \"#fb9f3a\"], [0.8888888888888888, \"#fdca26\"], [1.0, \"#f0f921\"]], \"type\": \"surface\"}], \"table\": [{\"cells\": {\"fill\": {\"color\": \"#EBF0F8\"}, \"line\": {\"color\": \"white\"}}, \"header\": {\"fill\": {\"color\": \"#C8D4E3\"}, \"line\": {\"color\": \"white\"}}, \"type\": \"table\"}]}, \"layout\": {\"annotationdefaults\": {\"arrowcolor\": \"#2a3f5f\", \"arrowhead\": 0, \"arrowwidth\": 1}, \"coloraxis\": {\"colorbar\": {\"outlinewidth\": 0, \"ticks\": \"\"}}, \"colorscale\": {\"diverging\": [[0, \"#8e0152\"], [0.1, \"#c51b7d\"], [0.2, \"#de77ae\"], [0.3, \"#f1b6da\"], [0.4, \"#fde0ef\"], [0.5, \"#f7f7f7\"], [0.6, \"#e6f5d0\"], [0.7, \"#b8e186\"], [0.8, \"#7fbc41\"], [0.9, \"#4d9221\"], [1, \"#276419\"]], \"sequential\": [[0.0, \"#0d0887\"], [0.1111111111111111, \"#46039f\"], [0.2222222222222222, \"#7201a8\"], [0.3333333333333333, \"#9c179e\"], [0.4444444444444444, \"#bd3786\"], [0.5555555555555556, \"#d8576b\"], [0.6666666666666666, \"#ed7953\"], [0.7777777777777778, \"#fb9f3a\"], [0.8888888888888888, \"#fdca26\"], [1.0, \"#f0f921\"]], \"sequentialminus\": [[0.0, \"#0d0887\"], [0.1111111111111111, \"#46039f\"], [0.2222222222222222, \"#7201a8\"], [0.3333333333333333, \"#9c179e\"], [0.4444444444444444, \"#bd3786\"], [0.5555555555555556, \"#d8576b\"], [0.6666666666666666, \"#ed7953\"], [0.7777777777777778, \"#fb9f3a\"], [0.8888888888888888, \"#fdca26\"], [1.0, \"#f0f921\"]]}, \"colorway\": [\"#636efa\", \"#EF553B\", \"#00cc96\", \"#ab63fa\", \"#FFA15A\", \"#19d3f3\", \"#FF6692\", \"#B6E880\", \"#FF97FF\", \"#FECB52\"], \"font\": {\"color\": \"#2a3f5f\"}, \"geo\": {\"bgcolor\": \"white\", \"lakecolor\": \"white\", \"landcolor\": \"#E5ECF6\", \"showlakes\": true, \"showland\": true, \"subunitcolor\": \"white\"}, \"hoverlabel\": {\"align\": \"left\"}, \"hovermode\": \"closest\", \"mapbox\": {\"style\": \"light\"}, \"paper_bgcolor\": \"white\", \"plot_bgcolor\": \"#E5ECF6\", \"polar\": {\"angularaxis\": {\"gridcolor\": \"white\", \"linecolor\": \"white\", \"ticks\": \"\"}, \"bgcolor\": \"#E5ECF6\", \"radialaxis\": {\"gridcolor\": \"white\", \"linecolor\": \"white\", \"ticks\": \"\"}}, \"scene\": {\"xaxis\": {\"backgroundcolor\": \"#E5ECF6\", \"gridcolor\": \"white\", \"gridwidth\": 2, \"linecolor\": \"white\", \"showbackground\": true, \"ticks\": \"\", \"zerolinecolor\": \"white\"}, \"yaxis\": {\"backgroundcolor\": \"#E5ECF6\", \"gridcolor\": \"white\", \"gridwidth\": 2, \"linecolor\": \"white\", \"showbackground\": true, \"ticks\": \"\", \"zerolinecolor\": \"white\"}, \"zaxis\": {\"backgroundcolor\": \"#E5ECF6\", \"gridcolor\": \"white\", \"gridwidth\": 2, \"linecolor\": \"white\", \"showbackground\": true, \"ticks\": \"\", \"zerolinecolor\": \"white\"}}, \"shapedefaults\": {\"line\": {\"color\": \"#2a3f5f\"}}, \"ternary\": {\"aaxis\": {\"gridcolor\": \"white\", \"linecolor\": \"white\", \"ticks\": \"\"}, \"baxis\": {\"gridcolor\": \"white\", \"linecolor\": \"white\", \"ticks\": \"\"}, \"bgcolor\": \"#E5ECF6\", \"caxis\": {\"gridcolor\": \"white\", \"linecolor\": \"white\", \"ticks\": \"\"}}, \"title\": {\"x\": 0.05}, \"xaxis\": {\"automargin\": true, \"gridcolor\": \"white\", \"linecolor\": \"white\", \"ticks\": \"\", \"title\": {\"standoff\": 15}, \"zerolinecolor\": \"white\", \"zerolinewidth\": 2}, \"yaxis\": {\"automargin\": true, \"gridcolor\": \"white\", \"linecolor\": \"white\", \"ticks\": \"\", \"title\": {\"standoff\": 15}, \"zerolinecolor\": \"white\", \"zerolinewidth\": 2}}}, \"title\": {\"text\": \"Ind\\u00fastrias no Espa\\u00e7os Metropolitanos Segundo N\\u00edvel Tecnol\\u00f3gico entre 2000 e 2018\"}, \"updatemenus\": [{\"buttons\": [{\"args\": [null, {\"frame\": {\"duration\": 2000, \"redraw\": true}, \"fromcurrent\": true, \"mode\": \"immediate\", \"transition\": {\"duration\": 500, \"easing\": \"linear\"}}], \"label\": \"&#9654;\", \"method\": \"animate\"}, {\"args\": [[null], {\"frame\": {\"duration\": 0, \"redraw\": true}, \"fromcurrent\": true, \"mode\": \"immediate\", \"transition\": {\"duration\": 0, \"easing\": \"linear\"}}], \"label\": \"&#9724;\", \"method\": \"animate\"}], \"direction\": \"left\", \"pad\": {\"r\": 10, \"t\": 70}, \"showactive\": false, \"type\": \"buttons\", \"x\": 0.1, \"xanchor\": \"right\", \"y\": 0, \"yanchor\": \"top\"}], \"xaxis\": {\"anchor\": \"y\", \"domain\": [0.0, 1.0], \"range\": [0, 100], \"title\": {\"text\": \"Pessoal %\"}}, \"yaxis\": {\"anchor\": \"x\", \"categoryarray\": [\"Total\", \"Vit\\u00f3ria\", \"Bel\\u00e9m\", \"Fortaleza\", \"Bras\\u00edlia\", \"Goi\\u00e2nia\", \"Recife\", \"Rio de Janeiro\", \"Florian\\u00f3polis\", \"Porto Alegre\", \"Salvador\", \"Belo Horizonte\", \"S\\u00e3o Paulo\", \"Curitiba\", \"Campinas\", \"Manaus\"], \"categoryorder\": \"array\", \"domain\": [0.0, 1.0], \"title\": {\"text\": \"Espa\\u00e7o Metropolitano\"}}},                        {\"responsive\": true}                    ).then(function(){\n",
       "                            Plotly.addFrames('275cfd81-18d7-49b5-a56a-9a1a3dc3548a', [{\"data\": [{\"alignmentgroup\": \"True\", \"hovertemplate\": \"N\\u00edvel Tecnol\\u00f3gico=Alto<br>Ano=2000<br>Pessoal %=%{x}<br>Espa\\u00e7o Metropolitano=%{y}<extra></extra>\", \"legendgroup\": \"Alto\", \"marker\": {\"color\": \"rgb(103,0,31)\"}, \"name\": \"Alto\", \"offsetgroup\": \"Alto\", \"orientation\": \"h\", \"showlegend\": true, \"textposition\": \"auto\", \"x\": [4.393785022924096, 3.3571684150143977], \"xaxis\": \"x\", \"y\": [\"Curitiba\", \"Total\"], \"yaxis\": \"y\", \"type\": \"bar\"}, {\"alignmentgroup\": \"True\", \"hovertemplate\": \"N\\u00edvel Tecnol\\u00f3gico=M\\u00e9dio-Alto<br>Ano=2000<br>Pessoal %=%{x}<br>Espa\\u00e7o Metropolitano=%{y}<extra></extra>\", \"legendgroup\": \"M\\u00e9dio-Alto\", \"marker\": {\"color\": \"rgb(178,24,43)\"}, \"name\": \"M\\u00e9dio-Alto\", \"offsetgroup\": \"M\\u00e9dio-Alto\", \"orientation\": \"h\", \"showlegend\": true, \"textposition\": \"auto\", \"x\": [36.226014603498044, 29.52388525083631], \"xaxis\": \"x\", \"y\": [\"Curitiba\", \"Total\"], \"yaxis\": \"y\", \"type\": \"bar\"}, {\"alignmentgroup\": \"True\", \"hovertemplate\": \"N\\u00edvel Tecnol\\u00f3gico=M\\u00e9dio-Baixo<br>Ano=2000<br>Pessoal %=%{x}<br>Espa\\u00e7o Metropolitano=%{y}<extra></extra>\", \"legendgroup\": \"M\\u00e9dio-Baixo\", \"marker\": {\"color\": \"rgb(214,96,77)\"}, \"name\": \"M\\u00e9dio-Baixo\", \"offsetgroup\": \"M\\u00e9dio-Baixo\", \"orientation\": \"h\", \"showlegend\": true, \"textposition\": \"auto\", \"x\": [24.12888436067244, 21.663419870393195], \"xaxis\": \"x\", \"y\": [\"Curitiba\", \"Total\"], \"yaxis\": \"y\", \"type\": \"bar\"}, {\"alignmentgroup\": \"True\", \"hovertemplate\": \"N\\u00edvel Tecnol\\u00f3gico=Baixo<br>Ano=2000<br>Pessoal %=%{x}<br>Espa\\u00e7o Metropolitano=%{y}<extra></extra>\", \"legendgroup\": \"Baixo\", \"marker\": {\"color\": \"rgb(244,165,130)\"}, \"name\": \"Baixo\", \"offsetgroup\": \"Baixo\", \"orientation\": \"h\", \"showlegend\": true, \"textposition\": \"auto\", \"x\": [35.25131601290541, 45.455526463756094], \"xaxis\": \"x\", \"y\": [\"Curitiba\", \"Total\"], \"yaxis\": \"y\", \"type\": \"bar\"}], \"name\": \"2000\"}, {\"data\": [{\"alignmentgroup\": \"True\", \"hovertemplate\": \"N\\u00edvel Tecnol\\u00f3gico=Alto<br>Ano=2001<br>Pessoal %=%{x}<br>Espa\\u00e7o Metropolitano=%{y}<extra></extra>\", \"legendgroup\": \"Alto\", \"marker\": {\"color\": \"rgb(103,0,31)\"}, \"name\": \"Alto\", \"offsetgroup\": \"Alto\", \"orientation\": \"h\", \"showlegend\": true, \"textposition\": \"auto\", \"x\": [3.706989042924365, 2.967214491698631], \"xaxis\": \"x\", \"y\": [\"Curitiba\", \"Total\"], \"yaxis\": \"y\", \"type\": \"bar\"}, {\"alignmentgroup\": \"True\", \"hovertemplate\": \"N\\u00edvel Tecnol\\u00f3gico=M\\u00e9dio-Alto<br>Ano=2001<br>Pessoal %=%{x}<br>Espa\\u00e7o Metropolitano=%{y}<extra></extra>\", \"legendgroup\": \"M\\u00e9dio-Alto\", \"marker\": {\"color\": \"rgb(178,24,43)\"}, \"name\": \"M\\u00e9dio-Alto\", \"offsetgroup\": \"M\\u00e9dio-Alto\", \"orientation\": \"h\", \"showlegend\": true, \"textposition\": \"auto\", \"x\": [36.035008574735365, 29.1334658565949], \"xaxis\": \"x\", \"y\": [\"Curitiba\", \"Total\"], \"yaxis\": \"y\", \"type\": \"bar\"}, {\"alignmentgroup\": \"True\", \"hovertemplate\": \"N\\u00edvel Tecnol\\u00f3gico=M\\u00e9dio-Baixo<br>Ano=2001<br>Pessoal %=%{x}<br>Espa\\u00e7o Metropolitano=%{y}<extra></extra>\", \"legendgroup\": \"M\\u00e9dio-Baixo\", \"marker\": {\"color\": \"rgb(214,96,77)\"}, \"name\": \"M\\u00e9dio-Baixo\", \"offsetgroup\": \"M\\u00e9dio-Baixo\", \"orientation\": \"h\", \"showlegend\": true, \"textposition\": \"auto\", \"x\": [24.75690836437979, 22.161435730884453], \"xaxis\": \"x\", \"y\": [\"Curitiba\", \"Total\"], \"yaxis\": \"y\", \"type\": \"bar\"}, {\"alignmentgroup\": \"True\", \"hovertemplate\": \"N\\u00edvel Tecnol\\u00f3gico=Baixo<br>Ano=2001<br>Pessoal %=%{x}<br>Espa\\u00e7o Metropolitano=%{y}<extra></extra>\", \"legendgroup\": \"Baixo\", \"marker\": {\"color\": \"rgb(244,165,130)\"}, \"name\": \"Baixo\", \"offsetgroup\": \"Baixo\", \"orientation\": \"h\", \"showlegend\": true, \"textposition\": \"auto\", \"x\": [35.50109401796048, 45.73788392082202], \"xaxis\": \"x\", \"y\": [\"Curitiba\", \"Total\"], \"yaxis\": \"y\", \"type\": \"bar\"}], \"name\": \"2001\"}, {\"data\": [{\"alignmentgroup\": \"True\", \"hovertemplate\": \"N\\u00edvel Tecnol\\u00f3gico=Alto<br>Ano=2002<br>Pessoal %=%{x}<br>Espa\\u00e7o Metropolitano=%{y}<extra></extra>\", \"legendgroup\": \"Alto\", \"marker\": {\"color\": \"rgb(103,0,31)\"}, \"name\": \"Alto\", \"offsetgroup\": \"Alto\", \"orientation\": \"h\", \"showlegend\": true, \"textposition\": \"auto\", \"x\": [3.52368890215471, 2.904993334522972], \"xaxis\": \"x\", \"y\": [\"Curitiba\", \"Total\"], \"yaxis\": \"y\", \"type\": \"bar\"}, {\"alignmentgroup\": \"True\", \"hovertemplate\": \"N\\u00edvel Tecnol\\u00f3gico=M\\u00e9dio-Alto<br>Ano=2002<br>Pessoal %=%{x}<br>Espa\\u00e7o Metropolitano=%{y}<extra></extra>\", \"legendgroup\": \"M\\u00e9dio-Alto\", \"marker\": {\"color\": \"rgb(178,24,43)\"}, \"name\": \"M\\u00e9dio-Alto\", \"offsetgroup\": \"M\\u00e9dio-Alto\", \"orientation\": \"h\", \"showlegend\": true, \"textposition\": \"auto\", \"x\": [36.15733980848815, 28.739752485120768], \"xaxis\": \"x\", \"y\": [\"Curitiba\", \"Total\"], \"yaxis\": \"y\", \"type\": \"bar\"}, {\"alignmentgroup\": \"True\", \"hovertemplate\": \"N\\u00edvel Tecnol\\u00f3gico=M\\u00e9dio-Baixo<br>Ano=2002<br>Pessoal %=%{x}<br>Espa\\u00e7o Metropolitano=%{y}<extra></extra>\", \"legendgroup\": \"M\\u00e9dio-Baixo\", \"marker\": {\"color\": \"rgb(214,96,77)\"}, \"name\": \"M\\u00e9dio-Baixo\", \"offsetgroup\": \"M\\u00e9dio-Baixo\", \"orientation\": \"h\", \"showlegend\": true, \"textposition\": \"auto\", \"x\": [24.070473778043095, 21.6334092602895], \"xaxis\": \"x\", \"y\": [\"Curitiba\", \"Total\"], \"yaxis\": \"y\", \"type\": \"bar\"}, {\"alignmentgroup\": \"True\", \"hovertemplate\": \"N\\u00edvel Tecnol\\u00f3gico=Baixo<br>Ano=2002<br>Pessoal %=%{x}<br>Espa\\u00e7o Metropolitano=%{y}<extra></extra>\", \"legendgroup\": \"Baixo\", \"marker\": {\"color\": \"rgb(244,165,130)\"}, \"name\": \"Baixo\", \"offsetgroup\": \"Baixo\", \"orientation\": \"h\", \"showlegend\": true, \"textposition\": \"auto\", \"x\": [36.24849751131404, 46.72184492006676], \"xaxis\": \"x\", \"y\": [\"Curitiba\", \"Total\"], \"yaxis\": \"y\", \"type\": \"bar\"}], \"name\": \"2002\"}, {\"data\": [{\"alignmentgroup\": \"True\", \"hovertemplate\": \"N\\u00edvel Tecnol\\u00f3gico=Alto<br>Ano=2003<br>Pessoal %=%{x}<br>Espa\\u00e7o Metropolitano=%{y}<extra></extra>\", \"legendgroup\": \"Alto\", \"marker\": {\"color\": \"rgb(103,0,31)\"}, \"name\": \"Alto\", \"offsetgroup\": \"Alto\", \"orientation\": \"h\", \"showlegend\": true, \"textposition\": \"auto\", \"x\": [3.746810722272971, 2.9121446764113212], \"xaxis\": \"x\", \"y\": [\"Curitiba\", \"Total\"], \"yaxis\": \"y\", \"type\": \"bar\"}, {\"alignmentgroup\": \"True\", \"hovertemplate\": \"N\\u00edvel Tecnol\\u00f3gico=M\\u00e9dio-Alto<br>Ano=2003<br>Pessoal %=%{x}<br>Espa\\u00e7o Metropolitano=%{y}<extra></extra>\", \"legendgroup\": \"M\\u00e9dio-Alto\", \"marker\": {\"color\": \"rgb(178,24,43)\"}, \"name\": \"M\\u00e9dio-Alto\", \"offsetgroup\": \"M\\u00e9dio-Alto\", \"orientation\": \"h\", \"showlegend\": true, \"textposition\": \"auto\", \"x\": [34.99464516332252, 27.157513578756788], \"xaxis\": \"x\", \"y\": [\"Curitiba\", \"Total\"], \"yaxis\": \"y\", \"type\": \"bar\"}, {\"alignmentgroup\": \"True\", \"hovertemplate\": \"N\\u00edvel Tecnol\\u00f3gico=M\\u00e9dio-Baixo<br>Ano=2003<br>Pessoal %=%{x}<br>Espa\\u00e7o Metropolitano=%{y}<extra></extra>\", \"legendgroup\": \"M\\u00e9dio-Baixo\", \"marker\": {\"color\": \"rgb(214,96,77)\"}, \"name\": \"M\\u00e9dio-Baixo\", \"offsetgroup\": \"M\\u00e9dio-Baixo\", \"orientation\": \"h\", \"showlegend\": true, \"textposition\": \"auto\", \"x\": [25.25041736227045, 22.703885928214152], \"xaxis\": \"x\", \"y\": [\"Curitiba\", \"Total\"], \"yaxis\": \"y\", \"type\": \"bar\"}, {\"alignmentgroup\": \"True\", \"hovertemplate\": \"N\\u00edvel Tecnol\\u00f3gico=Baixo<br>Ano=2003<br>Pessoal %=%{x}<br>Espa\\u00e7o Metropolitano=%{y}<extra></extra>\", \"legendgroup\": \"Baixo\", \"marker\": {\"color\": \"rgb(244,165,130)\"}, \"name\": \"Baixo\", \"offsetgroup\": \"Baixo\", \"orientation\": \"h\", \"showlegend\": true, \"textposition\": \"auto\", \"x\": [36.00812675213406, 47.226455816617744], \"xaxis\": \"x\", \"y\": [\"Curitiba\", \"Total\"], \"yaxis\": \"y\", \"type\": \"bar\"}], \"name\": \"2003\"}, {\"data\": [{\"alignmentgroup\": \"True\", \"hovertemplate\": \"N\\u00edvel Tecnol\\u00f3gico=Alto<br>Ano=2004<br>Pessoal %=%{x}<br>Espa\\u00e7o Metropolitano=%{y}<extra></extra>\", \"legendgroup\": \"Alto\", \"marker\": {\"color\": \"rgb(103,0,31)\"}, \"name\": \"Alto\", \"offsetgroup\": \"Alto\", \"orientation\": \"h\", \"showlegend\": true, \"textposition\": \"auto\", \"x\": [3.580951308911574, 3.0203053849016896], \"xaxis\": \"x\", \"y\": [\"Curitiba\", \"Total\"], \"yaxis\": \"y\", \"type\": \"bar\"}, {\"alignmentgroup\": \"True\", \"hovertemplate\": \"N\\u00edvel Tecnol\\u00f3gico=M\\u00e9dio-Alto<br>Ano=2004<br>Pessoal %=%{x}<br>Espa\\u00e7o Metropolitano=%{y}<extra></extra>\", \"legendgroup\": \"M\\u00e9dio-Alto\", \"marker\": {\"color\": \"rgb(178,24,43)\"}, \"name\": \"M\\u00e9dio-Alto\", \"offsetgroup\": \"M\\u00e9dio-Alto\", \"orientation\": \"h\", \"showlegend\": true, \"textposition\": \"auto\", \"x\": [37.396669504224676, 29.037297761766695], \"xaxis\": \"x\", \"y\": [\"Curitiba\", \"Total\"], \"yaxis\": \"y\", \"type\": \"bar\"}, {\"alignmentgroup\": \"True\", \"hovertemplate\": \"N\\u00edvel Tecnol\\u00f3gico=M\\u00e9dio-Baixo<br>Ano=2004<br>Pessoal %=%{x}<br>Espa\\u00e7o Metropolitano=%{y}<extra></extra>\", \"legendgroup\": \"M\\u00e9dio-Baixo\", \"marker\": {\"color\": \"rgb(214,96,77)\"}, \"name\": \"M\\u00e9dio-Baixo\", \"offsetgroup\": \"M\\u00e9dio-Baixo\", \"orientation\": \"h\", \"showlegend\": true, \"textposition\": \"auto\", \"x\": [24.68112648707973, 22.482044966846946], \"xaxis\": \"x\", \"y\": [\"Curitiba\", \"Total\"], \"yaxis\": \"y\", \"type\": \"bar\"}, {\"alignmentgroup\": \"True\", \"hovertemplate\": \"N\\u00edvel Tecnol\\u00f3gico=Baixo<br>Ano=2004<br>Pessoal %=%{x}<br>Espa\\u00e7o Metropolitano=%{y}<extra></extra>\", \"legendgroup\": \"Baixo\", \"marker\": {\"color\": \"rgb(244,165,130)\"}, \"name\": \"Baixo\", \"offsetgroup\": \"Baixo\", \"orientation\": \"h\", \"showlegend\": true, \"textposition\": \"auto\", \"x\": [34.34125269978402, 45.46035188648467], \"xaxis\": \"x\", \"y\": [\"Curitiba\", \"Total\"], \"yaxis\": \"y\", \"type\": \"bar\"}], \"name\": \"2004\"}, {\"data\": [{\"alignmentgroup\": \"True\", \"hovertemplate\": \"N\\u00edvel Tecnol\\u00f3gico=Alto<br>Ano=2005<br>Pessoal %=%{x}<br>Espa\\u00e7o Metropolitano=%{y}<extra></extra>\", \"legendgroup\": \"Alto\", \"marker\": {\"color\": \"rgb(103,0,31)\"}, \"name\": \"Alto\", \"offsetgroup\": \"Alto\", \"orientation\": \"h\", \"showlegend\": true, \"textposition\": \"auto\", \"x\": [3.596856597656811, 3.0831603064366004], \"xaxis\": \"x\", \"y\": [\"Curitiba\", \"Total\"], \"yaxis\": \"y\", \"type\": \"bar\"}, {\"alignmentgroup\": \"True\", \"hovertemplate\": \"N\\u00edvel Tecnol\\u00f3gico=M\\u00e9dio-Alto<br>Ano=2005<br>Pessoal %=%{x}<br>Espa\\u00e7o Metropolitano=%{y}<extra></extra>\", \"legendgroup\": \"M\\u00e9dio-Alto\", \"marker\": {\"color\": \"rgb(178,24,43)\"}, \"name\": \"M\\u00e9dio-Alto\", \"offsetgroup\": \"M\\u00e9dio-Alto\", \"orientation\": \"h\", \"showlegend\": true, \"textposition\": \"auto\", \"x\": [37.77280779147944, 29.282863177489798], \"xaxis\": \"x\", \"y\": [\"Curitiba\", \"Total\"], \"yaxis\": \"y\", \"type\": \"bar\"}, {\"alignmentgroup\": \"True\", \"hovertemplate\": \"N\\u00edvel Tecnol\\u00f3gico=M\\u00e9dio-Baixo<br>Ano=2005<br>Pessoal %=%{x}<br>Espa\\u00e7o Metropolitano=%{y}<extra></extra>\", \"legendgroup\": \"M\\u00e9dio-Baixo\", \"marker\": {\"color\": \"rgb(214,96,77)\"}, \"name\": \"M\\u00e9dio-Baixo\", \"offsetgroup\": \"M\\u00e9dio-Baixo\", \"orientation\": \"h\", \"showlegend\": true, \"textposition\": \"auto\", \"x\": [24.69239660490661, 22.35492589675664], \"xaxis\": \"x\", \"y\": [\"Curitiba\", \"Total\"], \"yaxis\": \"y\", \"type\": \"bar\"}, {\"alignmentgroup\": \"True\", \"hovertemplate\": \"N\\u00edvel Tecnol\\u00f3gico=Baixo<br>Ano=2005<br>Pessoal %=%{x}<br>Espa\\u00e7o Metropolitano=%{y}<extra></extra>\", \"legendgroup\": \"Baixo\", \"marker\": {\"color\": \"rgb(244,165,130)\"}, \"name\": \"Baixo\", \"offsetgroup\": \"Baixo\", \"orientation\": \"h\", \"showlegend\": true, \"textposition\": \"auto\", \"x\": [33.93793900595715, 45.27905061931696], \"xaxis\": \"x\", \"y\": [\"Curitiba\", \"Total\"], \"yaxis\": \"y\", \"type\": \"bar\"}], \"name\": \"2005\"}, {\"data\": [{\"alignmentgroup\": \"True\", \"hovertemplate\": \"N\\u00edvel Tecnol\\u00f3gico=Alto<br>Ano=2006<br>Pessoal %=%{x}<br>Espa\\u00e7o Metropolitano=%{y}<extra></extra>\", \"legendgroup\": \"Alto\", \"marker\": {\"color\": \"rgb(103,0,31)\"}, \"name\": \"Alto\", \"offsetgroup\": \"Alto\", \"orientation\": \"h\", \"showlegend\": true, \"textposition\": \"auto\", \"x\": [3.9213809997703435, 3.234259443487243], \"xaxis\": \"x\", \"y\": [\"Curitiba\", \"Total\"], \"yaxis\": \"y\", \"type\": \"bar\"}, {\"alignmentgroup\": \"True\", \"hovertemplate\": \"N\\u00edvel Tecnol\\u00f3gico=M\\u00e9dio-Alto<br>Ano=2006<br>Pessoal %=%{x}<br>Espa\\u00e7o Metropolitano=%{y}<extra></extra>\", \"legendgroup\": \"M\\u00e9dio-Alto\", \"marker\": {\"color\": \"rgb(178,24,43)\"}, \"name\": \"M\\u00e9dio-Alto\", \"offsetgroup\": \"M\\u00e9dio-Alto\", \"orientation\": \"h\", \"showlegend\": true, \"textposition\": \"auto\", \"x\": [36.478986450279415, 28.855182223426368], \"xaxis\": \"x\", \"y\": [\"Curitiba\", \"Total\"], \"yaxis\": \"y\", \"type\": \"bar\"}, {\"alignmentgroup\": \"True\", \"hovertemplate\": \"N\\u00edvel Tecnol\\u00f3gico=M\\u00e9dio-Baixo<br>Ano=2006<br>Pessoal %=%{x}<br>Espa\\u00e7o Metropolitano=%{y}<extra></extra>\", \"legendgroup\": \"M\\u00e9dio-Baixo\", \"marker\": {\"color\": \"rgb(214,96,77)\"}, \"name\": \"M\\u00e9dio-Baixo\", \"offsetgroup\": \"M\\u00e9dio-Baixo\", \"orientation\": \"h\", \"showlegend\": true, \"textposition\": \"auto\", \"x\": [26.892112582612466, 24.39114219311577], \"xaxis\": \"x\", \"y\": [\"Curitiba\", \"Total\"], \"yaxis\": \"y\", \"type\": \"bar\"}, {\"alignmentgroup\": \"True\", \"hovertemplate\": \"N\\u00edvel Tecnol\\u00f3gico=Baixo<br>Ano=2006<br>Pessoal %=%{x}<br>Espa\\u00e7o Metropolitano=%{y}<extra></extra>\", \"legendgroup\": \"Baixo\", \"marker\": {\"color\": \"rgb(244,165,130)\"}, \"name\": \"Baixo\", \"offsetgroup\": \"Baixo\", \"orientation\": \"h\", \"showlegend\": true, \"textposition\": \"auto\", \"x\": [32.707519967337774, 43.519416139970616], \"xaxis\": \"x\", \"y\": [\"Curitiba\", \"Total\"], \"yaxis\": \"y\", \"type\": \"bar\"}], \"name\": \"2006\"}, {\"data\": [{\"alignmentgroup\": \"True\", \"hovertemplate\": \"N\\u00edvel Tecnol\\u00f3gico=Alto<br>Ano=2007<br>Pessoal %=%{x}<br>Espa\\u00e7o Metropolitano=%{y}<extra></extra>\", \"legendgroup\": \"Alto\", \"marker\": {\"color\": \"rgb(103,0,31)\"}, \"name\": \"Alto\", \"offsetgroup\": \"Alto\", \"orientation\": \"h\", \"showlegend\": true, \"textposition\": \"auto\", \"x\": [4.859488840060137, 3.884872617620907], \"xaxis\": \"x\", \"y\": [\"Curitiba\", \"Total\"], \"yaxis\": \"y\", \"type\": \"bar\"}, {\"alignmentgroup\": \"True\", \"hovertemplate\": \"N\\u00edvel Tecnol\\u00f3gico=M\\u00e9dio-Alto<br>Ano=2007<br>Pessoal %=%{x}<br>Espa\\u00e7o Metropolitano=%{y}<extra></extra>\", \"legendgroup\": \"M\\u00e9dio-Alto\", \"marker\": {\"color\": \"rgb(178,24,43)\"}, \"name\": \"M\\u00e9dio-Alto\", \"offsetgroup\": \"M\\u00e9dio-Alto\", \"orientation\": \"h\", \"showlegend\": true, \"textposition\": \"auto\", \"x\": [37.00300682317567, 29.46688831329493], \"xaxis\": \"x\", \"y\": [\"Curitiba\", \"Total\"], \"yaxis\": \"y\", \"type\": \"bar\"}, {\"alignmentgroup\": \"True\", \"hovertemplate\": \"N\\u00edvel Tecnol\\u00f3gico=M\\u00e9dio-Baixo<br>Ano=2007<br>Pessoal %=%{x}<br>Espa\\u00e7o Metropolitano=%{y}<extra></extra>\", \"legendgroup\": \"M\\u00e9dio-Baixo\", \"marker\": {\"color\": \"rgb(214,96,77)\"}, \"name\": \"M\\u00e9dio-Baixo\", \"offsetgroup\": \"M\\u00e9dio-Baixo\", \"orientation\": \"h\", \"showlegend\": true, \"textposition\": \"auto\", \"x\": [26.394703365329015, 24.097885336529167], \"xaxis\": \"x\", \"y\": [\"Curitiba\", \"Total\"], \"yaxis\": \"y\", \"type\": \"bar\"}, {\"alignmentgroup\": \"True\", \"hovertemplate\": \"N\\u00edvel Tecnol\\u00f3gico=Baixo<br>Ano=2007<br>Pessoal %=%{x}<br>Espa\\u00e7o Metropolitano=%{y}<extra></extra>\", \"legendgroup\": \"Baixo\", \"marker\": {\"color\": \"rgb(244,165,130)\"}, \"name\": \"Baixo\", \"offsetgroup\": \"Baixo\", \"orientation\": \"h\", \"showlegend\": true, \"textposition\": \"auto\", \"x\": [31.74280097143518, 42.55035373255499], \"xaxis\": \"x\", \"y\": [\"Curitiba\", \"Total\"], \"yaxis\": \"y\", \"type\": \"bar\"}], \"name\": \"2007\"}, {\"data\": [{\"alignmentgroup\": \"True\", \"hovertemplate\": \"N\\u00edvel Tecnol\\u00f3gico=Alto<br>Ano=2008<br>Pessoal %=%{x}<br>Espa\\u00e7o Metropolitano=%{y}<extra></extra>\", \"legendgroup\": \"Alto\", \"marker\": {\"color\": \"rgb(103,0,31)\"}, \"name\": \"Alto\", \"offsetgroup\": \"Alto\", \"orientation\": \"h\", \"showlegend\": true, \"textposition\": \"auto\", \"x\": [5.517191571157938, 4.401544401544402], \"xaxis\": \"x\", \"y\": [\"Curitiba\", \"Total\"], \"yaxis\": \"y\", \"type\": \"bar\"}, {\"alignmentgroup\": \"True\", \"hovertemplate\": \"N\\u00edvel Tecnol\\u00f3gico=M\\u00e9dio-Alto<br>Ano=2008<br>Pessoal %=%{x}<br>Espa\\u00e7o Metropolitano=%{y}<extra></extra>\", \"legendgroup\": \"M\\u00e9dio-Alto\", \"marker\": {\"color\": \"rgb(178,24,43)\"}, \"name\": \"M\\u00e9dio-Alto\", \"offsetgroup\": \"M\\u00e9dio-Alto\", \"orientation\": \"h\", \"showlegend\": true, \"textposition\": \"auto\", \"x\": [36.87257293015039, 29.486505138679053], \"xaxis\": \"x\", \"y\": [\"Curitiba\", \"Total\"], \"yaxis\": \"y\", \"type\": \"bar\"}, {\"alignmentgroup\": \"True\", \"hovertemplate\": \"N\\u00edvel Tecnol\\u00f3gico=M\\u00e9dio-Baixo<br>Ano=2008<br>Pessoal %=%{x}<br>Espa\\u00e7o Metropolitano=%{y}<extra></extra>\", \"legendgroup\": \"M\\u00e9dio-Baixo\", \"marker\": {\"color\": \"rgb(214,96,77)\"}, \"name\": \"M\\u00e9dio-Baixo\", \"offsetgroup\": \"M\\u00e9dio-Baixo\", \"orientation\": \"h\", \"showlegend\": true, \"textposition\": \"auto\", \"x\": [26.79485113971589, 24.620894186111578], \"xaxis\": \"x\", \"y\": [\"Curitiba\", \"Total\"], \"yaxis\": \"y\", \"type\": \"bar\"}, {\"alignmentgroup\": \"True\", \"hovertemplate\": \"N\\u00edvel Tecnol\\u00f3gico=Baixo<br>Ano=2008<br>Pessoal %=%{x}<br>Espa\\u00e7o Metropolitano=%{y}<extra></extra>\", \"legendgroup\": \"Baixo\", \"marker\": {\"color\": \"rgb(244,165,130)\"}, \"name\": \"Baixo\", \"offsetgroup\": \"Baixo\", \"orientation\": \"h\", \"showlegend\": true, \"textposition\": \"auto\", \"x\": [30.815384358975784, 41.49105627366497], \"xaxis\": \"x\", \"y\": [\"Curitiba\", \"Total\"], \"yaxis\": \"y\", \"type\": \"bar\"}], \"name\": \"2008\"}, {\"data\": [{\"alignmentgroup\": \"True\", \"hovertemplate\": \"N\\u00edvel Tecnol\\u00f3gico=Alto<br>Ano=2009<br>Pessoal %=%{x}<br>Espa\\u00e7o Metropolitano=%{y}<extra></extra>\", \"legendgroup\": \"Alto\", \"marker\": {\"color\": \"rgb(103,0,31)\"}, \"name\": \"Alto\", \"offsetgroup\": \"Alto\", \"orientation\": \"h\", \"showlegend\": true, \"textposition\": \"auto\", \"x\": [6.705168040931499, 5.23901265187416], \"xaxis\": \"x\", \"y\": [\"Curitiba\", \"Total\"], \"yaxis\": \"y\", \"type\": \"bar\"}, {\"alignmentgroup\": \"True\", \"hovertemplate\": \"N\\u00edvel Tecnol\\u00f3gico=M\\u00e9dio-Alto<br>Ano=2009<br>Pessoal %=%{x}<br>Espa\\u00e7o Metropolitano=%{y}<extra></extra>\", \"legendgroup\": \"M\\u00e9dio-Alto\", \"marker\": {\"color\": \"rgb(178,24,43)\"}, \"name\": \"M\\u00e9dio-Alto\", \"offsetgroup\": \"M\\u00e9dio-Alto\", \"orientation\": \"h\", \"showlegend\": true, \"textposition\": \"auto\", \"x\": [36.98876799262179, 29.677650324047416], \"xaxis\": \"x\", \"y\": [\"Curitiba\", \"Total\"], \"yaxis\": \"y\", \"type\": \"bar\"}, {\"alignmentgroup\": \"True\", \"hovertemplate\": \"N\\u00edvel Tecnol\\u00f3gico=M\\u00e9dio-Baixo<br>Ano=2009<br>Pessoal %=%{x}<br>Espa\\u00e7o Metropolitano=%{y}<extra></extra>\", \"legendgroup\": \"M\\u00e9dio-Baixo\", \"marker\": {\"color\": \"rgb(214,96,77)\"}, \"name\": \"M\\u00e9dio-Baixo\", \"offsetgroup\": \"M\\u00e9dio-Baixo\", \"orientation\": \"h\", \"showlegend\": true, \"textposition\": \"auto\", \"x\": [26.343613785834275, 24.106470614287613], \"xaxis\": \"x\", \"y\": [\"Curitiba\", \"Total\"], \"yaxis\": \"y\", \"type\": \"bar\"}, {\"alignmentgroup\": \"True\", \"hovertemplate\": \"N\\u00edvel Tecnol\\u00f3gico=Baixo<br>Ano=2009<br>Pessoal %=%{x}<br>Espa\\u00e7o Metropolitano=%{y}<extra></extra>\", \"legendgroup\": \"Baixo\", \"marker\": {\"color\": \"rgb(244,165,130)\"}, \"name\": \"Baixo\", \"offsetgroup\": \"Baixo\", \"orientation\": \"h\", \"showlegend\": true, \"textposition\": \"auto\", \"x\": [29.96245018061244, 40.97686640979081], \"xaxis\": \"x\", \"y\": [\"Curitiba\", \"Total\"], \"yaxis\": \"y\", \"type\": \"bar\"}], \"name\": \"2009\"}, {\"data\": [{\"alignmentgroup\": \"True\", \"hovertemplate\": \"N\\u00edvel Tecnol\\u00f3gico=Alto<br>Ano=2010<br>Pessoal %=%{x}<br>Espa\\u00e7o Metropolitano=%{y}<extra></extra>\", \"legendgroup\": \"Alto\", \"marker\": {\"color\": \"rgb(103,0,31)\"}, \"name\": \"Alto\", \"offsetgroup\": \"Alto\", \"orientation\": \"h\", \"showlegend\": true, \"textposition\": \"auto\", \"x\": [5.41094601262571, 4.35705283237388], \"xaxis\": \"x\", \"y\": [\"Curitiba\", \"Total\"], \"yaxis\": \"y\", \"type\": \"bar\"}, {\"alignmentgroup\": \"True\", \"hovertemplate\": \"N\\u00edvel Tecnol\\u00f3gico=M\\u00e9dio-Alto<br>Ano=2010<br>Pessoal %=%{x}<br>Espa\\u00e7o Metropolitano=%{y}<extra></extra>\", \"legendgroup\": \"M\\u00e9dio-Alto\", \"marker\": {\"color\": \"rgb(178,24,43)\"}, \"name\": \"M\\u00e9dio-Alto\", \"offsetgroup\": \"M\\u00e9dio-Alto\", \"orientation\": \"h\", \"showlegend\": true, \"textposition\": \"auto\", \"x\": [38.29781822436325, 30.66151173485029], \"xaxis\": \"x\", \"y\": [\"Curitiba\", \"Total\"], \"yaxis\": \"y\", \"type\": \"bar\"}, {\"alignmentgroup\": \"True\", \"hovertemplate\": \"N\\u00edvel Tecnol\\u00f3gico=M\\u00e9dio-Baixo<br>Ano=2010<br>Pessoal %=%{x}<br>Espa\\u00e7o Metropolitano=%{y}<extra></extra>\", \"legendgroup\": \"M\\u00e9dio-Baixo\", \"marker\": {\"color\": \"rgb(214,96,77)\"}, \"name\": \"M\\u00e9dio-Baixo\", \"offsetgroup\": \"M\\u00e9dio-Baixo\", \"orientation\": \"h\", \"showlegend\": true, \"textposition\": \"auto\", \"x\": [26.421918477182665, 24.526348060087884], \"xaxis\": \"x\", \"y\": [\"Curitiba\", \"Total\"], \"yaxis\": \"y\", \"type\": \"bar\"}, {\"alignmentgroup\": \"True\", \"hovertemplate\": \"N\\u00edvel Tecnol\\u00f3gico=Baixo<br>Ano=2010<br>Pessoal %=%{x}<br>Espa\\u00e7o Metropolitano=%{y}<extra></extra>\", \"legendgroup\": \"Baixo\", \"marker\": {\"color\": \"rgb(244,165,130)\"}, \"name\": \"Baixo\", \"offsetgroup\": \"Baixo\", \"orientation\": \"h\", \"showlegend\": true, \"textposition\": \"auto\", \"x\": [29.86931728582838, 40.45508737268794], \"xaxis\": \"x\", \"y\": [\"Curitiba\", \"Total\"], \"yaxis\": \"y\", \"type\": \"bar\"}], \"name\": \"2010\"}, {\"data\": [{\"alignmentgroup\": \"True\", \"hovertemplate\": \"N\\u00edvel Tecnol\\u00f3gico=Alto<br>Ano=2011<br>Pessoal %=%{x}<br>Espa\\u00e7o Metropolitano=%{y}<extra></extra>\", \"legendgroup\": \"Alto\", \"marker\": {\"color\": \"rgb(103,0,31)\"}, \"name\": \"Alto\", \"offsetgroup\": \"Alto\", \"orientation\": \"h\", \"showlegend\": true, \"textposition\": \"auto\", \"x\": [4.559450205680222, 3.895750182413644], \"xaxis\": \"x\", \"y\": [\"Curitiba\", \"Total\"], \"yaxis\": \"y\", \"type\": \"bar\"}, {\"alignmentgroup\": \"True\", \"hovertemplate\": \"N\\u00edvel Tecnol\\u00f3gico=M\\u00e9dio-Alto<br>Ano=2011<br>Pessoal %=%{x}<br>Espa\\u00e7o Metropolitano=%{y}<extra></extra>\", \"legendgroup\": \"M\\u00e9dio-Alto\", \"marker\": {\"color\": \"rgb(178,24,43)\"}, \"name\": \"M\\u00e9dio-Alto\", \"offsetgroup\": \"M\\u00e9dio-Alto\", \"orientation\": \"h\", \"showlegend\": true, \"textposition\": \"auto\", \"x\": [40.17488977018006, 32.69188738437329], \"xaxis\": \"x\", \"y\": [\"Curitiba\", \"Total\"], \"yaxis\": \"y\", \"type\": \"bar\"}, {\"alignmentgroup\": \"True\", \"hovertemplate\": \"N\\u00edvel Tecnol\\u00f3gico=M\\u00e9dio-Baixo<br>Ano=2011<br>Pessoal %=%{x}<br>Espa\\u00e7o Metropolitano=%{y}<extra></extra>\", \"legendgroup\": \"M\\u00e9dio-Baixo\", \"marker\": {\"color\": \"rgb(214,96,77)\"}, \"name\": \"M\\u00e9dio-Baixo\", \"offsetgroup\": \"M\\u00e9dio-Baixo\", \"orientation\": \"h\", \"showlegend\": true, \"textposition\": \"auto\", \"x\": [26.36500234007439, 24.888618397382658], \"xaxis\": \"x\", \"y\": [\"Curitiba\", \"Total\"], \"yaxis\": \"y\", \"type\": \"bar\"}, {\"alignmentgroup\": \"True\", \"hovertemplate\": \"N\\u00edvel Tecnol\\u00f3gico=Baixo<br>Ano=2011<br>Pessoal %=%{x}<br>Espa\\u00e7o Metropolitano=%{y}<extra></extra>\", \"legendgroup\": \"Baixo\", \"marker\": {\"color\": \"rgb(244,165,130)\"}, \"name\": \"Baixo\", \"offsetgroup\": \"Baixo\", \"orientation\": \"h\", \"showlegend\": true, \"textposition\": \"auto\", \"x\": [28.900657684065322, 38.52374403583041], \"xaxis\": \"x\", \"y\": [\"Curitiba\", \"Total\"], \"yaxis\": \"y\", \"type\": \"bar\"}], \"name\": \"2011\"}, {\"data\": [{\"alignmentgroup\": \"True\", \"hovertemplate\": \"N\\u00edvel Tecnol\\u00f3gico=Alto<br>Ano=2012<br>Pessoal %=%{x}<br>Espa\\u00e7o Metropolitano=%{y}<extra></extra>\", \"legendgroup\": \"Alto\", \"marker\": {\"color\": \"rgb(103,0,31)\"}, \"name\": \"Alto\", \"offsetgroup\": \"Alto\", \"orientation\": \"h\", \"showlegend\": true, \"textposition\": \"auto\", \"x\": [4.776047598476221, 4.074772050567845], \"xaxis\": \"x\", \"y\": [\"Curitiba\", \"Total\"], \"yaxis\": \"y\", \"type\": \"bar\"}, {\"alignmentgroup\": \"True\", \"hovertemplate\": \"N\\u00edvel Tecnol\\u00f3gico=M\\u00e9dio-Alto<br>Ano=2012<br>Pessoal %=%{x}<br>Espa\\u00e7o Metropolitano=%{y}<extra></extra>\", \"legendgroup\": \"M\\u00e9dio-Alto\", \"marker\": {\"color\": \"rgb(178,24,43)\"}, \"name\": \"M\\u00e9dio-Alto\", \"offsetgroup\": \"M\\u00e9dio-Alto\", \"orientation\": \"h\", \"showlegend\": true, \"textposition\": \"auto\", \"x\": [40.60499548364293, 32.79424769235355], \"xaxis\": \"x\", \"y\": [\"Curitiba\", \"Total\"], \"yaxis\": \"y\", \"type\": \"bar\"}, {\"alignmentgroup\": \"True\", \"hovertemplate\": \"N\\u00edvel Tecnol\\u00f3gico=M\\u00e9dio-Baixo<br>Ano=2012<br>Pessoal %=%{x}<br>Espa\\u00e7o Metropolitano=%{y}<extra></extra>\", \"legendgroup\": \"M\\u00e9dio-Baixo\", \"marker\": {\"color\": \"rgb(214,96,77)\"}, \"name\": \"M\\u00e9dio-Baixo\", \"offsetgroup\": \"M\\u00e9dio-Baixo\", \"orientation\": \"h\", \"showlegend\": true, \"textposition\": \"auto\", \"x\": [26.621961277147232, 25.13156979574804], \"xaxis\": \"x\", \"y\": [\"Curitiba\", \"Total\"], \"yaxis\": \"y\", \"type\": \"bar\"}, {\"alignmentgroup\": \"True\", \"hovertemplate\": \"N\\u00edvel Tecnol\\u00f3gico=Baixo<br>Ano=2012<br>Pessoal %=%{x}<br>Espa\\u00e7o Metropolitano=%{y}<extra></extra>\", \"legendgroup\": \"Baixo\", \"marker\": {\"color\": \"rgb(244,165,130)\"}, \"name\": \"Baixo\", \"offsetgroup\": \"Baixo\", \"orientation\": \"h\", \"showlegend\": true, \"textposition\": \"auto\", \"x\": [27.996995640733612, 37.99941046133057], \"xaxis\": \"x\", \"y\": [\"Curitiba\", \"Total\"], \"yaxis\": \"y\", \"type\": \"bar\"}], \"name\": \"2012\"}, {\"data\": [{\"alignmentgroup\": \"True\", \"hovertemplate\": \"N\\u00edvel Tecnol\\u00f3gico=Alto<br>Ano=2013<br>Pessoal %=%{x}<br>Espa\\u00e7o Metropolitano=%{y}<extra></extra>\", \"legendgroup\": \"Alto\", \"marker\": {\"color\": \"rgb(103,0,31)\"}, \"name\": \"Alto\", \"offsetgroup\": \"Alto\", \"orientation\": \"h\", \"showlegend\": true, \"textposition\": \"auto\", \"x\": [4.79778130422531, 3.9700725272973623], \"xaxis\": \"x\", \"y\": [\"Curitiba\", \"Total\"], \"yaxis\": \"y\", \"type\": \"bar\"}, {\"alignmentgroup\": \"True\", \"hovertemplate\": \"N\\u00edvel Tecnol\\u00f3gico=M\\u00e9dio-Alto<br>Ano=2013<br>Pessoal %=%{x}<br>Espa\\u00e7o Metropolitano=%{y}<extra></extra>\", \"legendgroup\": \"M\\u00e9dio-Alto\", \"marker\": {\"color\": \"rgb(178,24,43)\"}, \"name\": \"M\\u00e9dio-Alto\", \"offsetgroup\": \"M\\u00e9dio-Alto\", \"orientation\": \"h\", \"showlegend\": true, \"textposition\": \"auto\", \"x\": [39.820348920561, 32.47555856645679], \"xaxis\": \"x\", \"y\": [\"Curitiba\", \"Total\"], \"yaxis\": \"y\", \"type\": \"bar\"}, {\"alignmentgroup\": \"True\", \"hovertemplate\": \"N\\u00edvel Tecnol\\u00f3gico=M\\u00e9dio-Baixo<br>Ano=2013<br>Pessoal %=%{x}<br>Espa\\u00e7o Metropolitano=%{y}<extra></extra>\", \"legendgroup\": \"M\\u00e9dio-Baixo\", \"marker\": {\"color\": \"rgb(214,96,77)\"}, \"name\": \"M\\u00e9dio-Baixo\", \"offsetgroup\": \"M\\u00e9dio-Baixo\", \"orientation\": \"h\", \"showlegend\": true, \"textposition\": \"auto\", \"x\": [27.217089098827866, 25.709997077654684], \"xaxis\": \"x\", \"y\": [\"Curitiba\", \"Total\"], \"yaxis\": \"y\", \"type\": \"bar\"}, {\"alignmentgroup\": \"True\", \"hovertemplate\": \"N\\u00edvel Tecnol\\u00f3gico=Baixo<br>Ano=2013<br>Pessoal %=%{x}<br>Espa\\u00e7o Metropolitano=%{y}<extra></extra>\", \"legendgroup\": \"Baixo\", \"marker\": {\"color\": \"rgb(244,165,130)\"}, \"name\": \"Baixo\", \"offsetgroup\": \"Baixo\", \"orientation\": \"h\", \"showlegend\": true, \"textposition\": \"auto\", \"x\": [28.16478067638582, 37.844371828591164], \"xaxis\": \"x\", \"y\": [\"Curitiba\", \"Total\"], \"yaxis\": \"y\", \"type\": \"bar\"}], \"name\": \"2013\"}, {\"data\": [{\"alignmentgroup\": \"True\", \"hovertemplate\": \"N\\u00edvel Tecnol\\u00f3gico=Alto<br>Ano=2014<br>Pessoal %=%{x}<br>Espa\\u00e7o Metropolitano=%{y}<extra></extra>\", \"legendgroup\": \"Alto\", \"marker\": {\"color\": \"rgb(103,0,31)\"}, \"name\": \"Alto\", \"offsetgroup\": \"Alto\", \"orientation\": \"h\", \"showlegend\": true, \"textposition\": \"auto\", \"x\": [4.640004176891348, 3.7870643315415293], \"xaxis\": \"x\", \"y\": [\"Curitiba\", \"Total\"], \"yaxis\": \"y\", \"type\": \"bar\"}, {\"alignmentgroup\": \"True\", \"hovertemplate\": \"N\\u00edvel Tecnol\\u00f3gico=M\\u00e9dio-Alto<br>Ano=2014<br>Pessoal %=%{x}<br>Espa\\u00e7o Metropolitano=%{y}<extra></extra>\", \"legendgroup\": \"M\\u00e9dio-Alto\", \"marker\": {\"color\": \"rgb(178,24,43)\"}, \"name\": \"M\\u00e9dio-Alto\", \"offsetgroup\": \"M\\u00e9dio-Alto\", \"orientation\": \"h\", \"showlegend\": true, \"textposition\": \"auto\", \"x\": [38.51407090273064, 31.549852609675742], \"xaxis\": \"x\", \"y\": [\"Curitiba\", \"Total\"], \"yaxis\": \"y\", \"type\": \"bar\"}, {\"alignmentgroup\": \"True\", \"hovertemplate\": \"N\\u00edvel Tecnol\\u00f3gico=M\\u00e9dio-Baixo<br>Ano=2014<br>Pessoal %=%{x}<br>Espa\\u00e7o Metropolitano=%{y}<extra></extra>\", \"legendgroup\": \"M\\u00e9dio-Baixo\", \"marker\": {\"color\": \"rgb(214,96,77)\"}, \"name\": \"M\\u00e9dio-Baixo\", \"offsetgroup\": \"M\\u00e9dio-Baixo\", \"orientation\": \"h\", \"showlegend\": true, \"textposition\": \"auto\", \"x\": [27.63953427661463, 25.69897693774926], \"xaxis\": \"x\", \"y\": [\"Curitiba\", \"Total\"], \"yaxis\": \"y\", \"type\": \"bar\"}, {\"alignmentgroup\": \"True\", \"hovertemplate\": \"N\\u00edvel Tecnol\\u00f3gico=Baixo<br>Ano=2014<br>Pessoal %=%{x}<br>Espa\\u00e7o Metropolitano=%{y}<extra></extra>\", \"legendgroup\": \"Baixo\", \"marker\": {\"color\": \"rgb(244,165,130)\"}, \"name\": \"Baixo\", \"offsetgroup\": \"Baixo\", \"orientation\": \"h\", \"showlegend\": true, \"textposition\": \"auto\", \"x\": [29.20639064376338, 38.96410612103347], \"xaxis\": \"x\", \"y\": [\"Curitiba\", \"Total\"], \"yaxis\": \"y\", \"type\": \"bar\"}], \"name\": \"2014\"}, {\"data\": [{\"alignmentgroup\": \"True\", \"hovertemplate\": \"N\\u00edvel Tecnol\\u00f3gico=Alto<br>Ano=2015<br>Pessoal %=%{x}<br>Espa\\u00e7o Metropolitano=%{y}<extra></extra>\", \"legendgroup\": \"Alto\", \"marker\": {\"color\": \"rgb(103,0,31)\"}, \"name\": \"Alto\", \"offsetgroup\": \"Alto\", \"orientation\": \"h\", \"showlegend\": true, \"textposition\": \"auto\", \"x\": [4.289849680877036, 3.535724758832647], \"xaxis\": \"x\", \"y\": [\"Curitiba\", \"Total\"], \"yaxis\": \"y\", \"type\": \"bar\"}, {\"alignmentgroup\": \"True\", \"hovertemplate\": \"N\\u00edvel Tecnol\\u00f3gico=M\\u00e9dio-Alto<br>Ano=2015<br>Pessoal %=%{x}<br>Espa\\u00e7o Metropolitano=%{y}<extra></extra>\", \"legendgroup\": \"M\\u00e9dio-Alto\", \"marker\": {\"color\": \"rgb(178,24,43)\"}, \"name\": \"M\\u00e9dio-Alto\", \"offsetgroup\": \"M\\u00e9dio-Alto\", \"orientation\": \"h\", \"showlegend\": true, \"textposition\": \"auto\", \"x\": [37.64139646814002, 30.559416856769634], \"xaxis\": \"x\", \"y\": [\"Curitiba\", \"Total\"], \"yaxis\": \"y\", \"type\": \"bar\"}, {\"alignmentgroup\": \"True\", \"hovertemplate\": \"N\\u00edvel Tecnol\\u00f3gico=M\\u00e9dio-Baixo<br>Ano=2015<br>Pessoal %=%{x}<br>Espa\\u00e7o Metropolitano=%{y}<extra></extra>\", \"legendgroup\": \"M\\u00e9dio-Baixo\", \"marker\": {\"color\": \"rgb(214,96,77)\"}, \"name\": \"M\\u00e9dio-Baixo\", \"offsetgroup\": \"M\\u00e9dio-Baixo\", \"orientation\": \"h\", \"showlegend\": true, \"textposition\": \"auto\", \"x\": [28.295569480451537, 26.06397361535854], \"xaxis\": \"x\", \"y\": [\"Curitiba\", \"Total\"], \"yaxis\": \"y\", \"type\": \"bar\"}, {\"alignmentgroup\": \"True\", \"hovertemplate\": \"N\\u00edvel Tecnol\\u00f3gico=Baixo<br>Ano=2015<br>Pessoal %=%{x}<br>Espa\\u00e7o Metropolitano=%{y}<extra></extra>\", \"legendgroup\": \"Baixo\", \"marker\": {\"color\": \"rgb(244,165,130)\"}, \"name\": \"Baixo\", \"offsetgroup\": \"Baixo\", \"orientation\": \"h\", \"showlegend\": true, \"textposition\": \"auto\", \"x\": [29.773184370531407, 39.84088476903918], \"xaxis\": \"x\", \"y\": [\"Curitiba\", \"Total\"], \"yaxis\": \"y\", \"type\": \"bar\"}], \"name\": \"2015\"}, {\"data\": [{\"alignmentgroup\": \"True\", \"hovertemplate\": \"N\\u00edvel Tecnol\\u00f3gico=Alto<br>Ano=2016<br>Pessoal %=%{x}<br>Espa\\u00e7o Metropolitano=%{y}<extra></extra>\", \"legendgroup\": \"Alto\", \"marker\": {\"color\": \"rgb(103,0,31)\"}, \"name\": \"Alto\", \"offsetgroup\": \"Alto\", \"orientation\": \"h\", \"showlegend\": true, \"textposition\": \"auto\", \"x\": [3.8240419739151466, 3.258339482041018], \"xaxis\": \"x\", \"y\": [\"Curitiba\", \"Total\"], \"yaxis\": \"y\", \"type\": \"bar\"}, {\"alignmentgroup\": \"True\", \"hovertemplate\": \"N\\u00edvel Tecnol\\u00f3gico=M\\u00e9dio-Alto<br>Ano=2016<br>Pessoal %=%{x}<br>Espa\\u00e7o Metropolitano=%{y}<extra></extra>\", \"legendgroup\": \"M\\u00e9dio-Alto\", \"marker\": {\"color\": \"rgb(178,24,43)\"}, \"name\": \"M\\u00e9dio-Alto\", \"offsetgroup\": \"M\\u00e9dio-Alto\", \"orientation\": \"h\", \"showlegend\": true, \"textposition\": \"auto\", \"x\": [37.73249071277513, 30.754273181986804], \"xaxis\": \"x\", \"y\": [\"Curitiba\", \"Total\"], \"yaxis\": \"y\", \"type\": \"bar\"}, {\"alignmentgroup\": \"True\", \"hovertemplate\": \"N\\u00edvel Tecnol\\u00f3gico=M\\u00e9dio-Baixo<br>Ano=2016<br>Pessoal %=%{x}<br>Espa\\u00e7o Metropolitano=%{y}<extra></extra>\", \"legendgroup\": \"M\\u00e9dio-Baixo\", \"marker\": {\"color\": \"rgb(214,96,77)\"}, \"name\": \"M\\u00e9dio-Baixo\", \"offsetgroup\": \"M\\u00e9dio-Baixo\", \"orientation\": \"h\", \"showlegend\": true, \"textposition\": \"auto\", \"x\": [28.213317787438836, 26.100550733972256], \"xaxis\": \"x\", \"y\": [\"Curitiba\", \"Total\"], \"yaxis\": \"y\", \"type\": \"bar\"}, {\"alignmentgroup\": \"True\", \"hovertemplate\": \"N\\u00edvel Tecnol\\u00f3gico=Baixo<br>Ano=2016<br>Pessoal %=%{x}<br>Espa\\u00e7o Metropolitano=%{y}<extra></extra>\", \"legendgroup\": \"Baixo\", \"marker\": {\"color\": \"rgb(244,165,130)\"}, \"name\": \"Baixo\", \"offsetgroup\": \"Baixo\", \"orientation\": \"h\", \"showlegend\": true, \"textposition\": \"auto\", \"x\": [30.230149525870893, 39.886836601999924], \"xaxis\": \"x\", \"y\": [\"Curitiba\", \"Total\"], \"yaxis\": \"y\", \"type\": \"bar\"}], \"name\": \"2016\"}, {\"data\": [{\"alignmentgroup\": \"True\", \"hovertemplate\": \"N\\u00edvel Tecnol\\u00f3gico=Alto<br>Ano=2017<br>Pessoal %=%{x}<br>Espa\\u00e7o Metropolitano=%{y}<extra></extra>\", \"legendgroup\": \"Alto\", \"marker\": {\"color\": \"rgb(103,0,31)\"}, \"name\": \"Alto\", \"offsetgroup\": \"Alto\", \"orientation\": \"h\", \"showlegend\": true, \"textposition\": \"auto\", \"x\": [3.848862507388357, 3.3019779785873227], \"xaxis\": \"x\", \"y\": [\"Curitiba\", \"Total\"], \"yaxis\": \"y\", \"type\": \"bar\"}, {\"alignmentgroup\": \"True\", \"hovertemplate\": \"N\\u00edvel Tecnol\\u00f3gico=M\\u00e9dio-Alto<br>Ano=2017<br>Pessoal %=%{x}<br>Espa\\u00e7o Metropolitano=%{y}<extra></extra>\", \"legendgroup\": \"M\\u00e9dio-Alto\", \"marker\": {\"color\": \"rgb(178,24,43)\"}, \"name\": \"M\\u00e9dio-Alto\", \"offsetgroup\": \"M\\u00e9dio-Alto\", \"orientation\": \"h\", \"showlegend\": true, \"textposition\": \"auto\", \"x\": [38.830690292641826, 31.358508104817645], \"xaxis\": \"x\", \"y\": [\"Curitiba\", \"Total\"], \"yaxis\": \"y\", \"type\": \"bar\"}, {\"alignmentgroup\": \"True\", \"hovertemplate\": \"N\\u00edvel Tecnol\\u00f3gico=M\\u00e9dio-Baixo<br>Ano=2017<br>Pessoal %=%{x}<br>Espa\\u00e7o Metropolitano=%{y}<extra></extra>\", \"legendgroup\": \"M\\u00e9dio-Baixo\", \"marker\": {\"color\": \"rgb(214,96,77)\"}, \"name\": \"M\\u00e9dio-Baixo\", \"offsetgroup\": \"M\\u00e9dio-Baixo\", \"orientation\": \"h\", \"showlegend\": true, \"textposition\": \"auto\", \"x\": [28.378208433416752, 26.04770346362189], \"xaxis\": \"x\", \"y\": [\"Curitiba\", \"Total\"], \"yaxis\": \"y\", \"type\": \"bar\"}, {\"alignmentgroup\": \"True\", \"hovertemplate\": \"N\\u00edvel Tecnol\\u00f3gico=Baixo<br>Ano=2017<br>Pessoal %=%{x}<br>Espa\\u00e7o Metropolitano=%{y}<extra></extra>\", \"legendgroup\": \"Baixo\", \"marker\": {\"color\": \"rgb(244,165,130)\"}, \"name\": \"Baixo\", \"offsetgroup\": \"Baixo\", \"orientation\": \"h\", \"showlegend\": true, \"textposition\": \"auto\", \"x\": [28.942238766553064, 39.29181045297314], \"xaxis\": \"x\", \"y\": [\"Curitiba\", \"Total\"], \"yaxis\": \"y\", \"type\": \"bar\"}], \"name\": \"2017\"}, {\"data\": [{\"alignmentgroup\": \"True\", \"hovertemplate\": \"N\\u00edvel Tecnol\\u00f3gico=Alto<br>Ano=2018<br>Pessoal %=%{x}<br>Espa\\u00e7o Metropolitano=%{y}<extra></extra>\", \"legendgroup\": \"Alto\", \"marker\": {\"color\": \"rgb(103,0,31)\"}, \"name\": \"Alto\", \"offsetgroup\": \"Alto\", \"orientation\": \"h\", \"showlegend\": true, \"textposition\": \"auto\", \"x\": [3.6913883963902063, 3.192015101310022], \"xaxis\": \"x\", \"y\": [\"Curitiba\", \"Total\"], \"yaxis\": \"y\", \"type\": \"bar\"}, {\"alignmentgroup\": \"True\", \"hovertemplate\": \"N\\u00edvel Tecnol\\u00f3gico=M\\u00e9dio-Alto<br>Ano=2018<br>Pessoal %=%{x}<br>Espa\\u00e7o Metropolitano=%{y}<extra></extra>\", \"legendgroup\": \"M\\u00e9dio-Alto\", \"marker\": {\"color\": \"rgb(178,24,43)\"}, \"name\": \"M\\u00e9dio-Alto\", \"offsetgroup\": \"M\\u00e9dio-Alto\", \"orientation\": \"h\", \"showlegend\": true, \"textposition\": \"auto\", \"x\": [39.35067883019123, 32.21869354224559], \"xaxis\": \"x\", \"y\": [\"Curitiba\", \"Total\"], \"yaxis\": \"y\", \"type\": \"bar\"}, {\"alignmentgroup\": \"True\", \"hovertemplate\": \"N\\u00edvel Tecnol\\u00f3gico=M\\u00e9dio-Baixo<br>Ano=2018<br>Pessoal %=%{x}<br>Espa\\u00e7o Metropolitano=%{y}<extra></extra>\", \"legendgroup\": \"M\\u00e9dio-Baixo\", \"marker\": {\"color\": \"rgb(214,96,77)\"}, \"name\": \"M\\u00e9dio-Baixo\", \"offsetgroup\": \"M\\u00e9dio-Baixo\", \"orientation\": \"h\", \"showlegend\": true, \"textposition\": \"auto\", \"x\": [28.113324458132162, 26.166017191512804], \"xaxis\": \"x\", \"y\": [\"Curitiba\", \"Total\"], \"yaxis\": \"y\", \"type\": \"bar\"}, {\"alignmentgroup\": \"True\", \"hovertemplate\": \"N\\u00edvel Tecnol\\u00f3gico=Baixo<br>Ano=2018<br>Pessoal %=%{x}<br>Espa\\u00e7o Metropolitano=%{y}<extra></extra>\", \"legendgroup\": \"Baixo\", \"marker\": {\"color\": \"rgb(244,165,130)\"}, \"name\": \"Baixo\", \"offsetgroup\": \"Baixo\", \"orientation\": \"h\", \"showlegend\": true, \"textposition\": \"auto\", \"x\": [28.844608315286408, 38.423274164931584], \"xaxis\": \"x\", \"y\": [\"Curitiba\", \"Total\"], \"yaxis\": \"y\", \"type\": \"bar\"}], \"name\": \"2018\"}]);\n",
       "                        }).then(function(){\n",
       "                            \n",
       "var gd = document.getElementById('275cfd81-18d7-49b5-a56a-9a1a3dc3548a');\n",
       "var x = new MutationObserver(function (mutations, observer) {{\n",
       "        var display = window.getComputedStyle(gd).display;\n",
       "        if (!display || display === 'none') {{\n",
       "            console.log([gd, 'removed!']);\n",
       "            Plotly.purge(gd);\n",
       "            observer.disconnect();\n",
       "        }}\n",
       "}});\n",
       "\n",
       "// Listen for the removal of the full notebook cells\n",
       "var notebookContainer = gd.closest('#notebook-container');\n",
       "if (notebookContainer) {{\n",
       "    x.observe(notebookContainer, {childList: true});\n",
       "}}\n",
       "\n",
       "// Listen for the clearing of the current output cell\n",
       "var outputEl = gd.closest('.output');\n",
       "if (outputEl) {{\n",
       "    x.observe(outputEl, {childList: true});\n",
       "}}\n",
       "\n",
       "                        })                };                });            </script>        </div>"
      ]
     },
     "metadata": {},
     "output_type": "display_data"
    }
   ],
   "source": [
    "fig, df = ind.ind_tech_level_evolution_dynamic(\n",
    "    list_years=list(range(2000,2019))\n",
    "    , list_ufs=['AM', 'BA', 'CE', 'DF', 'ES', 'GO', 'MG','PA','PE','PR','RJ','RS','SC', 'SP']\n",
    "    , list_tec_level=None\n",
    "    , range_x=100\n",
    "    , relative = True\n",
    "    , focus='Médio-Alto'\n",
    ")\n",
    "fig.show()"
   ]
  },
  {
   "cell_type": "markdown",
   "metadata": {
    "hide_input": true
   },
   "source": [
    "**Tabela 2 - Evolução do Nível Tecnológico das Indústrias nos Espaços Metropolitanos Brasileiros entre 2007 e 2017**"
   ]
  },
  {
   "cell_type": "code",
   "execution_count": 17,
   "metadata": {
    "ExecuteTime": {
     "end_time": "2020-10-15T23:06:20.732816Z",
     "start_time": "2020-10-15T23:06:16.600050Z"
    }
   },
   "outputs": [
    {
     "data": {
      "text/html": [
       "<div>\n",
       "<style scoped>\n",
       "    .dataframe tbody tr th:only-of-type {\n",
       "        vertical-align: middle;\n",
       "    }\n",
       "\n",
       "    .dataframe tbody tr th {\n",
       "        vertical-align: top;\n",
       "    }\n",
       "\n",
       "    .dataframe thead th {\n",
       "        text-align: right;\n",
       "    }\n",
       "</style>\n",
       "<table border=\"1\" class=\"dataframe\">\n",
       "  <thead>\n",
       "    <tr style=\"text-align: right;\">\n",
       "      <th></th>\n",
       "      <th></th>\n",
       "      <th>2000</th>\n",
       "      <th>2001</th>\n",
       "      <th>2002</th>\n",
       "      <th>2003</th>\n",
       "      <th>2004</th>\n",
       "      <th>2005</th>\n",
       "      <th>2006</th>\n",
       "      <th>2007</th>\n",
       "      <th>2008</th>\n",
       "      <th>2009</th>\n",
       "      <th>2010</th>\n",
       "      <th>2011</th>\n",
       "      <th>2012</th>\n",
       "      <th>2013</th>\n",
       "      <th>2014</th>\n",
       "      <th>2015</th>\n",
       "      <th>2016</th>\n",
       "      <th>2017</th>\n",
       "      <th>2018</th>\n",
       "    </tr>\n",
       "    <tr>\n",
       "      <th>Espaço Metropolitano</th>\n",
       "      <th>Nível Tecnológico</th>\n",
       "      <th></th>\n",
       "      <th></th>\n",
       "      <th></th>\n",
       "      <th></th>\n",
       "      <th></th>\n",
       "      <th></th>\n",
       "      <th></th>\n",
       "      <th></th>\n",
       "      <th></th>\n",
       "      <th></th>\n",
       "      <th></th>\n",
       "      <th></th>\n",
       "      <th></th>\n",
       "      <th></th>\n",
       "      <th></th>\n",
       "      <th></th>\n",
       "      <th></th>\n",
       "      <th></th>\n",
       "      <th></th>\n",
       "    </tr>\n",
       "  </thead>\n",
       "  <tbody>\n",
       "    <tr>\n",
       "      <th rowspan=\"4\" valign=\"top\">Arranjo Populacional de Londrina/PR</th>\n",
       "      <th>High-technology</th>\n",
       "      <td>424</td>\n",
       "      <td>474</td>\n",
       "      <td>529</td>\n",
       "      <td>596</td>\n",
       "      <td>918</td>\n",
       "      <td>953</td>\n",
       "      <td>1065</td>\n",
       "      <td>1177</td>\n",
       "      <td>1336</td>\n",
       "      <td>1313</td>\n",
       "      <td>1412</td>\n",
       "      <td>1594</td>\n",
       "      <td>1751</td>\n",
       "      <td>1548</td>\n",
       "      <td>1374</td>\n",
       "      <td>1276</td>\n",
       "      <td>1208</td>\n",
       "      <td>1151</td>\n",
       "      <td>1125</td>\n",
       "    </tr>\n",
       "    <tr>\n",
       "      <th>Medium-high-technology</th>\n",
       "      <td>4900</td>\n",
       "      <td>4688</td>\n",
       "      <td>5050</td>\n",
       "      <td>3944</td>\n",
       "      <td>4544</td>\n",
       "      <td>4977</td>\n",
       "      <td>5205</td>\n",
       "      <td>5551</td>\n",
       "      <td>6114</td>\n",
       "      <td>6088</td>\n",
       "      <td>6793</td>\n",
       "      <td>6994</td>\n",
       "      <td>7434</td>\n",
       "      <td>7630</td>\n",
       "      <td>7656</td>\n",
       "      <td>7092</td>\n",
       "      <td>6780</td>\n",
       "      <td>6949</td>\n",
       "      <td>7082</td>\n",
       "    </tr>\n",
       "    <tr>\n",
       "      <th>Medium-low-technology</th>\n",
       "      <td>5370</td>\n",
       "      <td>5255</td>\n",
       "      <td>6114</td>\n",
       "      <td>6700</td>\n",
       "      <td>6934</td>\n",
       "      <td>6809</td>\n",
       "      <td>8171</td>\n",
       "      <td>8843</td>\n",
       "      <td>9400</td>\n",
       "      <td>9401</td>\n",
       "      <td>10315</td>\n",
       "      <td>10376</td>\n",
       "      <td>10510</td>\n",
       "      <td>10737</td>\n",
       "      <td>9632</td>\n",
       "      <td>8674</td>\n",
       "      <td>7792</td>\n",
       "      <td>7715</td>\n",
       "      <td>7961</td>\n",
       "    </tr>\n",
       "    <tr>\n",
       "      <th>Low-technology</th>\n",
       "      <td>14629</td>\n",
       "      <td>14380</td>\n",
       "      <td>16173</td>\n",
       "      <td>16317</td>\n",
       "      <td>17619</td>\n",
       "      <td>19170</td>\n",
       "      <td>17294</td>\n",
       "      <td>17588</td>\n",
       "      <td>18093</td>\n",
       "      <td>18642</td>\n",
       "      <td>19490</td>\n",
       "      <td>18615</td>\n",
       "      <td>18747</td>\n",
       "      <td>18295</td>\n",
       "      <td>17445</td>\n",
       "      <td>16580</td>\n",
       "      <td>15255</td>\n",
       "      <td>14462</td>\n",
       "      <td>14070</td>\n",
       "    </tr>\n",
       "    <tr>\n",
       "      <th rowspan=\"4\" valign=\"top\">Arranjo Populacional de Maringá/PR</th>\n",
       "      <th>High-technology</th>\n",
       "      <td>305</td>\n",
       "      <td>430</td>\n",
       "      <td>628</td>\n",
       "      <td>330</td>\n",
       "      <td>556</td>\n",
       "      <td>672</td>\n",
       "      <td>427</td>\n",
       "      <td>468</td>\n",
       "      <td>526</td>\n",
       "      <td>666</td>\n",
       "      <td>739</td>\n",
       "      <td>737</td>\n",
       "      <td>819</td>\n",
       "      <td>695</td>\n",
       "      <td>647</td>\n",
       "      <td>611</td>\n",
       "      <td>603</td>\n",
       "      <td>735</td>\n",
       "      <td>731</td>\n",
       "    </tr>\n",
       "    <tr>\n",
       "      <th>Medium-high-technology</th>\n",
       "      <td>2390</td>\n",
       "      <td>2714</td>\n",
       "      <td>2929</td>\n",
       "      <td>3017</td>\n",
       "      <td>3624</td>\n",
       "      <td>3681</td>\n",
       "      <td>4244</td>\n",
       "      <td>4917</td>\n",
       "      <td>4743</td>\n",
       "      <td>4962</td>\n",
       "      <td>5637</td>\n",
       "      <td>6062</td>\n",
       "      <td>6413</td>\n",
       "      <td>6867</td>\n",
       "      <td>6647</td>\n",
       "      <td>5695</td>\n",
       "      <td>5251</td>\n",
       "      <td>5033</td>\n",
       "      <td>5451</td>\n",
       "    </tr>\n",
       "    <tr>\n",
       "      <th>Medium-low-technology</th>\n",
       "      <td>2596</td>\n",
       "      <td>3262</td>\n",
       "      <td>3486</td>\n",
       "      <td>3611</td>\n",
       "      <td>4192</td>\n",
       "      <td>4075</td>\n",
       "      <td>4841</td>\n",
       "      <td>5019</td>\n",
       "      <td>5224</td>\n",
       "      <td>5085</td>\n",
       "      <td>6119</td>\n",
       "      <td>6046</td>\n",
       "      <td>6869</td>\n",
       "      <td>7257</td>\n",
       "      <td>7302</td>\n",
       "      <td>6646</td>\n",
       "      <td>6450</td>\n",
       "      <td>6345</td>\n",
       "      <td>6363</td>\n",
       "    </tr>\n",
       "    <tr>\n",
       "      <th>Low-technology</th>\n",
       "      <td>14648</td>\n",
       "      <td>15203</td>\n",
       "      <td>17199</td>\n",
       "      <td>18349</td>\n",
       "      <td>19461</td>\n",
       "      <td>19720</td>\n",
       "      <td>21578</td>\n",
       "      <td>23841</td>\n",
       "      <td>24632</td>\n",
       "      <td>24701</td>\n",
       "      <td>26682</td>\n",
       "      <td>23568</td>\n",
       "      <td>26369</td>\n",
       "      <td>25521</td>\n",
       "      <td>25431</td>\n",
       "      <td>24076</td>\n",
       "      <td>23083</td>\n",
       "      <td>22571</td>\n",
       "      <td>23102</td>\n",
       "    </tr>\n",
       "    <tr>\n",
       "      <th rowspan=\"4\" valign=\"top\">Arranjo Populacional de Ponta Grossa/PR</th>\n",
       "      <th>High-technology</th>\n",
       "      <td>7</td>\n",
       "      <td>7</td>\n",
       "      <td>10</td>\n",
       "      <td>10</td>\n",
       "      <td>9</td>\n",
       "      <td>6</td>\n",
       "      <td>1</td>\n",
       "      <td>0</td>\n",
       "      <td>6</td>\n",
       "      <td>2</td>\n",
       "      <td>3</td>\n",
       "      <td>0</td>\n",
       "      <td>4</td>\n",
       "      <td>7</td>\n",
       "      <td>12</td>\n",
       "      <td>17</td>\n",
       "      <td>16</td>\n",
       "      <td>21</td>\n",
       "      <td>7</td>\n",
       "    </tr>\n",
       "    <tr>\n",
       "      <th>Medium-high-technology</th>\n",
       "      <td>2026</td>\n",
       "      <td>1971</td>\n",
       "      <td>1959</td>\n",
       "      <td>1700</td>\n",
       "      <td>1869</td>\n",
       "      <td>1553</td>\n",
       "      <td>1530</td>\n",
       "      <td>1761</td>\n",
       "      <td>1815</td>\n",
       "      <td>1983</td>\n",
       "      <td>2296</td>\n",
       "      <td>2621</td>\n",
       "      <td>2455</td>\n",
       "      <td>2747</td>\n",
       "      <td>2905</td>\n",
       "      <td>2699</td>\n",
       "      <td>2571</td>\n",
       "      <td>2505</td>\n",
       "      <td>2862</td>\n",
       "    </tr>\n",
       "    <tr>\n",
       "      <th>Medium-low-technology</th>\n",
       "      <td>1758</td>\n",
       "      <td>1755</td>\n",
       "      <td>1781</td>\n",
       "      <td>2016</td>\n",
       "      <td>2719</td>\n",
       "      <td>2970</td>\n",
       "      <td>2450</td>\n",
       "      <td>2825</td>\n",
       "      <td>3145</td>\n",
       "      <td>2843</td>\n",
       "      <td>3627</td>\n",
       "      <td>4080</td>\n",
       "      <td>4271</td>\n",
       "      <td>4371</td>\n",
       "      <td>4231</td>\n",
       "      <td>4440</td>\n",
       "      <td>4293</td>\n",
       "      <td>4138</td>\n",
       "      <td>4446</td>\n",
       "    </tr>\n",
       "    <tr>\n",
       "      <th>Low-technology</th>\n",
       "      <td>9238</td>\n",
       "      <td>10075</td>\n",
       "      <td>10715</td>\n",
       "      <td>11948</td>\n",
       "      <td>13041</td>\n",
       "      <td>12675</td>\n",
       "      <td>12659</td>\n",
       "      <td>13740</td>\n",
       "      <td>13030</td>\n",
       "      <td>13104</td>\n",
       "      <td>13874</td>\n",
       "      <td>13723</td>\n",
       "      <td>12585</td>\n",
       "      <td>13172</td>\n",
       "      <td>13538</td>\n",
       "      <td>12737</td>\n",
       "      <td>10764</td>\n",
       "      <td>12468</td>\n",
       "      <td>10665</td>\n",
       "    </tr>\n",
       "    <tr>\n",
       "      <th rowspan=\"4\" valign=\"top\">Curitiba</th>\n",
       "      <th>High-technology</th>\n",
       "      <td>5175</td>\n",
       "      <td>4388</td>\n",
       "      <td>4368</td>\n",
       "      <td>4758</td>\n",
       "      <td>5090</td>\n",
       "      <td>5259</td>\n",
       "      <td>6147</td>\n",
       "      <td>8404</td>\n",
       "      <td>9931</td>\n",
       "      <td>12214</td>\n",
       "      <td>10637</td>\n",
       "      <td>9255</td>\n",
       "      <td>9729</td>\n",
       "      <td>9705</td>\n",
       "      <td>8887</td>\n",
       "      <td>7380</td>\n",
       "      <td>6166</td>\n",
       "      <td>6121</td>\n",
       "      <td>6017</td>\n",
       "    </tr>\n",
       "    <tr>\n",
       "      <th>Medium-high-technology</th>\n",
       "      <td>42667</td>\n",
       "      <td>42655</td>\n",
       "      <td>44821</td>\n",
       "      <td>44439</td>\n",
       "      <td>53156</td>\n",
       "      <td>55228</td>\n",
       "      <td>57183</td>\n",
       "      <td>63993</td>\n",
       "      <td>66371</td>\n",
       "      <td>67378</td>\n",
       "      <td>75287</td>\n",
       "      <td>81549</td>\n",
       "      <td>82714</td>\n",
       "      <td>80549</td>\n",
       "      <td>73766</td>\n",
       "      <td>64756</td>\n",
       "      <td>60841</td>\n",
       "      <td>61754</td>\n",
       "      <td>64142</td>\n",
       "    </tr>\n",
       "    <tr>\n",
       "      <th>Medium-low-technology</th>\n",
       "      <td>28419</td>\n",
       "      <td>29305</td>\n",
       "      <td>29838</td>\n",
       "      <td>32065</td>\n",
       "      <td>35082</td>\n",
       "      <td>36103</td>\n",
       "      <td>42155</td>\n",
       "      <td>45647</td>\n",
       "      <td>48231</td>\n",
       "      <td>47987</td>\n",
       "      <td>51941</td>\n",
       "      <td>53517</td>\n",
       "      <td>54230</td>\n",
       "      <td>55055</td>\n",
       "      <td>52938</td>\n",
       "      <td>48678</td>\n",
       "      <td>45492</td>\n",
       "      <td>45131</td>\n",
       "      <td>45825</td>\n",
       "    </tr>\n",
       "    <tr>\n",
       "      <th>Low-technology</th>\n",
       "      <td>41519</td>\n",
       "      <td>42023</td>\n",
       "      <td>44934</td>\n",
       "      <td>45726</td>\n",
       "      <td>48813</td>\n",
       "      <td>49621</td>\n",
       "      <td>51271</td>\n",
       "      <td>54896</td>\n",
       "      <td>55468</td>\n",
       "      <td>54579</td>\n",
       "      <td>58718</td>\n",
       "      <td>58664</td>\n",
       "      <td>57031</td>\n",
       "      <td>56972</td>\n",
       "      <td>55939</td>\n",
       "      <td>51220</td>\n",
       "      <td>48744</td>\n",
       "      <td>46028</td>\n",
       "      <td>47017</td>\n",
       "    </tr>\n",
       "  </tbody>\n",
       "</table>\n",
       "</div>"
      ],
      "text/plain": [
       "                                                                 2000   2001  \\\n",
       "Espaço Metropolitano                    Nível Tecnológico                      \n",
       "Arranjo Populacional de Londrina/PR     High-technology           424    474   \n",
       "                                        Medium-high-technology   4900   4688   \n",
       "                                        Medium-low-technology    5370   5255   \n",
       "                                        Low-technology          14629  14380   \n",
       "Arranjo Populacional de Maringá/PR      High-technology           305    430   \n",
       "                                        Medium-high-technology   2390   2714   \n",
       "                                        Medium-low-technology    2596   3262   \n",
       "                                        Low-technology          14648  15203   \n",
       "Arranjo Populacional de Ponta Grossa/PR High-technology             7      7   \n",
       "                                        Medium-high-technology   2026   1971   \n",
       "                                        Medium-low-technology    1758   1755   \n",
       "                                        Low-technology           9238  10075   \n",
       "Curitiba                                High-technology          5175   4388   \n",
       "                                        Medium-high-technology  42667  42655   \n",
       "                                        Medium-low-technology   28419  29305   \n",
       "                                        Low-technology          41519  42023   \n",
       "\n",
       "                                                                 2002   2003  \\\n",
       "Espaço Metropolitano                    Nível Tecnológico                      \n",
       "Arranjo Populacional de Londrina/PR     High-technology           529    596   \n",
       "                                        Medium-high-technology   5050   3944   \n",
       "                                        Medium-low-technology    6114   6700   \n",
       "                                        Low-technology          16173  16317   \n",
       "Arranjo Populacional de Maringá/PR      High-technology           628    330   \n",
       "                                        Medium-high-technology   2929   3017   \n",
       "                                        Medium-low-technology    3486   3611   \n",
       "                                        Low-technology          17199  18349   \n",
       "Arranjo Populacional de Ponta Grossa/PR High-technology            10     10   \n",
       "                                        Medium-high-technology   1959   1700   \n",
       "                                        Medium-low-technology    1781   2016   \n",
       "                                        Low-technology          10715  11948   \n",
       "Curitiba                                High-technology          4368   4758   \n",
       "                                        Medium-high-technology  44821  44439   \n",
       "                                        Medium-low-technology   29838  32065   \n",
       "                                        Low-technology          44934  45726   \n",
       "\n",
       "                                                                 2004   2005  \\\n",
       "Espaço Metropolitano                    Nível Tecnológico                      \n",
       "Arranjo Populacional de Londrina/PR     High-technology           918    953   \n",
       "                                        Medium-high-technology   4544   4977   \n",
       "                                        Medium-low-technology    6934   6809   \n",
       "                                        Low-technology          17619  19170   \n",
       "Arranjo Populacional de Maringá/PR      High-technology           556    672   \n",
       "                                        Medium-high-technology   3624   3681   \n",
       "                                        Medium-low-technology    4192   4075   \n",
       "                                        Low-technology          19461  19720   \n",
       "Arranjo Populacional de Ponta Grossa/PR High-technology             9      6   \n",
       "                                        Medium-high-technology   1869   1553   \n",
       "                                        Medium-low-technology    2719   2970   \n",
       "                                        Low-technology          13041  12675   \n",
       "Curitiba                                High-technology          5090   5259   \n",
       "                                        Medium-high-technology  53156  55228   \n",
       "                                        Medium-low-technology   35082  36103   \n",
       "                                        Low-technology          48813  49621   \n",
       "\n",
       "                                                                 2006   2007  \\\n",
       "Espaço Metropolitano                    Nível Tecnológico                      \n",
       "Arranjo Populacional de Londrina/PR     High-technology          1065   1177   \n",
       "                                        Medium-high-technology   5205   5551   \n",
       "                                        Medium-low-technology    8171   8843   \n",
       "                                        Low-technology          17294  17588   \n",
       "Arranjo Populacional de Maringá/PR      High-technology           427    468   \n",
       "                                        Medium-high-technology   4244   4917   \n",
       "                                        Medium-low-technology    4841   5019   \n",
       "                                        Low-technology          21578  23841   \n",
       "Arranjo Populacional de Ponta Grossa/PR High-technology             1      0   \n",
       "                                        Medium-high-technology   1530   1761   \n",
       "                                        Medium-low-technology    2450   2825   \n",
       "                                        Low-technology          12659  13740   \n",
       "Curitiba                                High-technology          6147   8404   \n",
       "                                        Medium-high-technology  57183  63993   \n",
       "                                        Medium-low-technology   42155  45647   \n",
       "                                        Low-technology          51271  54896   \n",
       "\n",
       "                                                                 2008   2009  \\\n",
       "Espaço Metropolitano                    Nível Tecnológico                      \n",
       "Arranjo Populacional de Londrina/PR     High-technology          1336   1313   \n",
       "                                        Medium-high-technology   6114   6088   \n",
       "                                        Medium-low-technology    9400   9401   \n",
       "                                        Low-technology          18093  18642   \n",
       "Arranjo Populacional de Maringá/PR      High-technology           526    666   \n",
       "                                        Medium-high-technology   4743   4962   \n",
       "                                        Medium-low-technology    5224   5085   \n",
       "                                        Low-technology          24632  24701   \n",
       "Arranjo Populacional de Ponta Grossa/PR High-technology             6      2   \n",
       "                                        Medium-high-technology   1815   1983   \n",
       "                                        Medium-low-technology    3145   2843   \n",
       "                                        Low-technology          13030  13104   \n",
       "Curitiba                                High-technology          9931  12214   \n",
       "                                        Medium-high-technology  66371  67378   \n",
       "                                        Medium-low-technology   48231  47987   \n",
       "                                        Low-technology          55468  54579   \n",
       "\n",
       "                                                                 2010   2011  \\\n",
       "Espaço Metropolitano                    Nível Tecnológico                      \n",
       "Arranjo Populacional de Londrina/PR     High-technology          1412   1594   \n",
       "                                        Medium-high-technology   6793   6994   \n",
       "                                        Medium-low-technology   10315  10376   \n",
       "                                        Low-technology          19490  18615   \n",
       "Arranjo Populacional de Maringá/PR      High-technology           739    737   \n",
       "                                        Medium-high-technology   5637   6062   \n",
       "                                        Medium-low-technology    6119   6046   \n",
       "                                        Low-technology          26682  23568   \n",
       "Arranjo Populacional de Ponta Grossa/PR High-technology             3      0   \n",
       "                                        Medium-high-technology   2296   2621   \n",
       "                                        Medium-low-technology    3627   4080   \n",
       "                                        Low-technology          13874  13723   \n",
       "Curitiba                                High-technology         10637   9255   \n",
       "                                        Medium-high-technology  75287  81549   \n",
       "                                        Medium-low-technology   51941  53517   \n",
       "                                        Low-technology          58718  58664   \n",
       "\n",
       "                                                                 2012   2013  \\\n",
       "Espaço Metropolitano                    Nível Tecnológico                      \n",
       "Arranjo Populacional de Londrina/PR     High-technology          1751   1548   \n",
       "                                        Medium-high-technology   7434   7630   \n",
       "                                        Medium-low-technology   10510  10737   \n",
       "                                        Low-technology          18747  18295   \n",
       "Arranjo Populacional de Maringá/PR      High-technology           819    695   \n",
       "                                        Medium-high-technology   6413   6867   \n",
       "                                        Medium-low-technology    6869   7257   \n",
       "                                        Low-technology          26369  25521   \n",
       "Arranjo Populacional de Ponta Grossa/PR High-technology             4      7   \n",
       "                                        Medium-high-technology   2455   2747   \n",
       "                                        Medium-low-technology    4271   4371   \n",
       "                                        Low-technology          12585  13172   \n",
       "Curitiba                                High-technology          9729   9705   \n",
       "                                        Medium-high-technology  82714  80549   \n",
       "                                        Medium-low-technology   54230  55055   \n",
       "                                        Low-technology          57031  56972   \n",
       "\n",
       "                                                                 2014   2015  \\\n",
       "Espaço Metropolitano                    Nível Tecnológico                      \n",
       "Arranjo Populacional de Londrina/PR     High-technology          1374   1276   \n",
       "                                        Medium-high-technology   7656   7092   \n",
       "                                        Medium-low-technology    9632   8674   \n",
       "                                        Low-technology          17445  16580   \n",
       "Arranjo Populacional de Maringá/PR      High-technology           647    611   \n",
       "                                        Medium-high-technology   6647   5695   \n",
       "                                        Medium-low-technology    7302   6646   \n",
       "                                        Low-technology          25431  24076   \n",
       "Arranjo Populacional de Ponta Grossa/PR High-technology            12     17   \n",
       "                                        Medium-high-technology   2905   2699   \n",
       "                                        Medium-low-technology    4231   4440   \n",
       "                                        Low-technology          13538  12737   \n",
       "Curitiba                                High-technology          8887   7380   \n",
       "                                        Medium-high-technology  73766  64756   \n",
       "                                        Medium-low-technology   52938  48678   \n",
       "                                        Low-technology          55939  51220   \n",
       "\n",
       "                                                                 2016   2017  \\\n",
       "Espaço Metropolitano                    Nível Tecnológico                      \n",
       "Arranjo Populacional de Londrina/PR     High-technology          1208   1151   \n",
       "                                        Medium-high-technology   6780   6949   \n",
       "                                        Medium-low-technology    7792   7715   \n",
       "                                        Low-technology          15255  14462   \n",
       "Arranjo Populacional de Maringá/PR      High-technology           603    735   \n",
       "                                        Medium-high-technology   5251   5033   \n",
       "                                        Medium-low-technology    6450   6345   \n",
       "                                        Low-technology          23083  22571   \n",
       "Arranjo Populacional de Ponta Grossa/PR High-technology            16     21   \n",
       "                                        Medium-high-technology   2571   2505   \n",
       "                                        Medium-low-technology    4293   4138   \n",
       "                                        Low-technology          10764  12468   \n",
       "Curitiba                                High-technology          6166   6121   \n",
       "                                        Medium-high-technology  60841  61754   \n",
       "                                        Medium-low-technology   45492  45131   \n",
       "                                        Low-technology          48744  46028   \n",
       "\n",
       "                                                                 2018  \n",
       "Espaço Metropolitano                    Nível Tecnológico              \n",
       "Arranjo Populacional de Londrina/PR     High-technology          1125  \n",
       "                                        Medium-high-technology   7082  \n",
       "                                        Medium-low-technology    7961  \n",
       "                                        Low-technology          14070  \n",
       "Arranjo Populacional de Maringá/PR      High-technology           731  \n",
       "                                        Medium-high-technology   5451  \n",
       "                                        Medium-low-technology    6363  \n",
       "                                        Low-technology          23102  \n",
       "Arranjo Populacional de Ponta Grossa/PR High-technology             7  \n",
       "                                        Medium-high-technology   2862  \n",
       "                                        Medium-low-technology    4446  \n",
       "                                        Low-technology          10665  \n",
       "Curitiba                                High-technology          6017  \n",
       "                                        Medium-high-technology  64142  \n",
       "                                        Medium-low-technology   45825  \n",
       "                                        Low-technology          47017  "
      ]
     },
     "metadata": {},
     "output_type": "display_data"
    }
   ],
   "source": [
    "df_evolution = ind.ind_tech_level_evolution_table(list_years=list(range(2000,2019)), total=False, save_feather=True)\n",
    "df_evolution"
   ]
  },
  {
   "cell_type": "code",
   "execution_count": 25,
   "metadata": {},
   "outputs": [],
   "source": [
    "df_evolution = df_evolution.melt(ignore_index=False, var_name='Ano', value_name='Pessoal').reset_index().sort_values(by=['Espaço Metropolitano', 'Ano', 'Nível Tecnológico'])"
   ]
  },
  {
   "cell_type": "code",
   "execution_count": 39,
   "metadata": {},
   "outputs": [],
   "source": [
    "df_evolution['Nível Tecnológico'] = df_evolution['Nível Tecnológico'].map({'High-technology':'Alto', 'Medium-high-technology':'Médio-Alto', 'Medium-low-technology':'Médio-Baixo', 'Low-technology':'Baixo'}).astype(dc.type_cat_ind_tec_PT)"
   ]
  },
  {
   "cell_type": "code",
   "execution_count": 43,
   "metadata": {},
   "outputs": [
    {
     "data": {
      "application/vnd.plotly.v1+json": {
       "config": {
        "plotlyServerURL": "https://plot.ly"
       },
       "data": [
        {
         "alignmentgroup": "True",
         "hovertemplate": "Nível Tecnológico=Alto<br>Ano=2018<br>Pessoal=%{x}<br>Espaço Metropolitano=%{y}<extra></extra>",
         "legendgroup": "Alto",
         "marker": {
          "color": "rgb(103,0,31)"
         },
         "name": "Alto",
         "offsetgroup": "Alto",
         "orientation": "h",
         "showlegend": true,
         "textposition": "auto",
         "type": "bar",
         "x": [
          1125,
          731,
          7,
          6017
         ],
         "xaxis": "x",
         "y": [
          "Arranjo Populacional de Londrina/PR",
          "Arranjo Populacional de Maringá/PR",
          "Arranjo Populacional de Ponta Grossa/PR",
          "Curitiba"
         ],
         "yaxis": "y"
        },
        {
         "alignmentgroup": "True",
         "hovertemplate": "Nível Tecnológico=Médio-Alto<br>Ano=2018<br>Pessoal=%{x}<br>Espaço Metropolitano=%{y}<extra></extra>",
         "legendgroup": "Médio-Alto",
         "marker": {
          "color": "rgb(178,24,43)"
         },
         "name": "Médio-Alto",
         "offsetgroup": "Médio-Alto",
         "orientation": "h",
         "showlegend": true,
         "textposition": "auto",
         "type": "bar",
         "x": [
          7082,
          5451,
          2862,
          64142
         ],
         "xaxis": "x",
         "y": [
          "Arranjo Populacional de Londrina/PR",
          "Arranjo Populacional de Maringá/PR",
          "Arranjo Populacional de Ponta Grossa/PR",
          "Curitiba"
         ],
         "yaxis": "y"
        },
        {
         "alignmentgroup": "True",
         "hovertemplate": "Nível Tecnológico=Médio-Baixo<br>Ano=2018<br>Pessoal=%{x}<br>Espaço Metropolitano=%{y}<extra></extra>",
         "legendgroup": "Médio-Baixo",
         "marker": {
          "color": "rgb(214,96,77)"
         },
         "name": "Médio-Baixo",
         "offsetgroup": "Médio-Baixo",
         "orientation": "h",
         "showlegend": true,
         "textposition": "auto",
         "type": "bar",
         "visible": "legendonly",
         "x": [
          7961,
          6363,
          4446,
          45825
         ],
         "xaxis": "x",
         "y": [
          "Arranjo Populacional de Londrina/PR",
          "Arranjo Populacional de Maringá/PR",
          "Arranjo Populacional de Ponta Grossa/PR",
          "Curitiba"
         ],
         "yaxis": "y"
        },
        {
         "alignmentgroup": "True",
         "hovertemplate": "Nível Tecnológico=Baixo<br>Ano=2018<br>Pessoal=%{x}<br>Espaço Metropolitano=%{y}<extra></extra>",
         "legendgroup": "Baixo",
         "marker": {
          "color": "rgb(244,165,130)"
         },
         "name": "Baixo",
         "offsetgroup": "Baixo",
         "orientation": "h",
         "showlegend": true,
         "textposition": "auto",
         "type": "bar",
         "visible": "legendonly",
         "x": [
          14070,
          23102,
          10665,
          47017
         ],
         "xaxis": "x",
         "y": [
          "Arranjo Populacional de Londrina/PR",
          "Arranjo Populacional de Maringá/PR",
          "Arranjo Populacional de Ponta Grossa/PR",
          "Curitiba"
         ],
         "yaxis": "y"
        }
       ],
       "frames": [
        {
         "data": [
          {
           "alignmentgroup": "True",
           "hovertemplate": "Nível Tecnológico=Alto<br>Ano=2000<br>Pessoal=%{x}<br>Espaço Metropolitano=%{y}<extra></extra>",
           "legendgroup": "Alto",
           "marker": {
            "color": "rgb(103,0,31)"
           },
           "name": "Alto",
           "offsetgroup": "Alto",
           "orientation": "h",
           "showlegend": true,
           "textposition": "auto",
           "type": "bar",
           "x": [
            424,
            305,
            7,
            5175
           ],
           "xaxis": "x",
           "y": [
            "Arranjo Populacional de Londrina/PR",
            "Arranjo Populacional de Maringá/PR",
            "Arranjo Populacional de Ponta Grossa/PR",
            "Curitiba"
           ],
           "yaxis": "y"
          },
          {
           "alignmentgroup": "True",
           "hovertemplate": "Nível Tecnológico=Médio-Alto<br>Ano=2000<br>Pessoal=%{x}<br>Espaço Metropolitano=%{y}<extra></extra>",
           "legendgroup": "Médio-Alto",
           "marker": {
            "color": "rgb(178,24,43)"
           },
           "name": "Médio-Alto",
           "offsetgroup": "Médio-Alto",
           "orientation": "h",
           "showlegend": true,
           "textposition": "auto",
           "type": "bar",
           "x": [
            4900,
            2390,
            2026,
            42667
           ],
           "xaxis": "x",
           "y": [
            "Arranjo Populacional de Londrina/PR",
            "Arranjo Populacional de Maringá/PR",
            "Arranjo Populacional de Ponta Grossa/PR",
            "Curitiba"
           ],
           "yaxis": "y"
          },
          {
           "alignmentgroup": "True",
           "hovertemplate": "Nível Tecnológico=Médio-Baixo<br>Ano=2000<br>Pessoal=%{x}<br>Espaço Metropolitano=%{y}<extra></extra>",
           "legendgroup": "Médio-Baixo",
           "marker": {
            "color": "rgb(214,96,77)"
           },
           "name": "Médio-Baixo",
           "offsetgroup": "Médio-Baixo",
           "orientation": "h",
           "showlegend": true,
           "textposition": "auto",
           "type": "bar",
           "x": [
            5370,
            2596,
            1758,
            28419
           ],
           "xaxis": "x",
           "y": [
            "Arranjo Populacional de Londrina/PR",
            "Arranjo Populacional de Maringá/PR",
            "Arranjo Populacional de Ponta Grossa/PR",
            "Curitiba"
           ],
           "yaxis": "y"
          },
          {
           "alignmentgroup": "True",
           "hovertemplate": "Nível Tecnológico=Baixo<br>Ano=2000<br>Pessoal=%{x}<br>Espaço Metropolitano=%{y}<extra></extra>",
           "legendgroup": "Baixo",
           "marker": {
            "color": "rgb(244,165,130)"
           },
           "name": "Baixo",
           "offsetgroup": "Baixo",
           "orientation": "h",
           "showlegend": true,
           "textposition": "auto",
           "type": "bar",
           "x": [
            14629,
            14648,
            9238,
            41519
           ],
           "xaxis": "x",
           "y": [
            "Arranjo Populacional de Londrina/PR",
            "Arranjo Populacional de Maringá/PR",
            "Arranjo Populacional de Ponta Grossa/PR",
            "Curitiba"
           ],
           "yaxis": "y"
          }
         ],
         "name": "2000"
        },
        {
         "data": [
          {
           "alignmentgroup": "True",
           "hovertemplate": "Nível Tecnológico=Alto<br>Ano=2001<br>Pessoal=%{x}<br>Espaço Metropolitano=%{y}<extra></extra>",
           "legendgroup": "Alto",
           "marker": {
            "color": "rgb(103,0,31)"
           },
           "name": "Alto",
           "offsetgroup": "Alto",
           "orientation": "h",
           "showlegend": true,
           "textposition": "auto",
           "type": "bar",
           "x": [
            474,
            430,
            7,
            4388
           ],
           "xaxis": "x",
           "y": [
            "Arranjo Populacional de Londrina/PR",
            "Arranjo Populacional de Maringá/PR",
            "Arranjo Populacional de Ponta Grossa/PR",
            "Curitiba"
           ],
           "yaxis": "y"
          },
          {
           "alignmentgroup": "True",
           "hovertemplate": "Nível Tecnológico=Médio-Alto<br>Ano=2001<br>Pessoal=%{x}<br>Espaço Metropolitano=%{y}<extra></extra>",
           "legendgroup": "Médio-Alto",
           "marker": {
            "color": "rgb(178,24,43)"
           },
           "name": "Médio-Alto",
           "offsetgroup": "Médio-Alto",
           "orientation": "h",
           "showlegend": true,
           "textposition": "auto",
           "type": "bar",
           "x": [
            4688,
            2714,
            1971,
            42655
           ],
           "xaxis": "x",
           "y": [
            "Arranjo Populacional de Londrina/PR",
            "Arranjo Populacional de Maringá/PR",
            "Arranjo Populacional de Ponta Grossa/PR",
            "Curitiba"
           ],
           "yaxis": "y"
          },
          {
           "alignmentgroup": "True",
           "hovertemplate": "Nível Tecnológico=Médio-Baixo<br>Ano=2001<br>Pessoal=%{x}<br>Espaço Metropolitano=%{y}<extra></extra>",
           "legendgroup": "Médio-Baixo",
           "marker": {
            "color": "rgb(214,96,77)"
           },
           "name": "Médio-Baixo",
           "offsetgroup": "Médio-Baixo",
           "orientation": "h",
           "showlegend": true,
           "textposition": "auto",
           "type": "bar",
           "x": [
            5255,
            3262,
            1755,
            29305
           ],
           "xaxis": "x",
           "y": [
            "Arranjo Populacional de Londrina/PR",
            "Arranjo Populacional de Maringá/PR",
            "Arranjo Populacional de Ponta Grossa/PR",
            "Curitiba"
           ],
           "yaxis": "y"
          },
          {
           "alignmentgroup": "True",
           "hovertemplate": "Nível Tecnológico=Baixo<br>Ano=2001<br>Pessoal=%{x}<br>Espaço Metropolitano=%{y}<extra></extra>",
           "legendgroup": "Baixo",
           "marker": {
            "color": "rgb(244,165,130)"
           },
           "name": "Baixo",
           "offsetgroup": "Baixo",
           "orientation": "h",
           "showlegend": true,
           "textposition": "auto",
           "type": "bar",
           "x": [
            14380,
            15203,
            10075,
            42023
           ],
           "xaxis": "x",
           "y": [
            "Arranjo Populacional de Londrina/PR",
            "Arranjo Populacional de Maringá/PR",
            "Arranjo Populacional de Ponta Grossa/PR",
            "Curitiba"
           ],
           "yaxis": "y"
          }
         ],
         "name": "2001"
        },
        {
         "data": [
          {
           "alignmentgroup": "True",
           "hovertemplate": "Nível Tecnológico=Alto<br>Ano=2002<br>Pessoal=%{x}<br>Espaço Metropolitano=%{y}<extra></extra>",
           "legendgroup": "Alto",
           "marker": {
            "color": "rgb(103,0,31)"
           },
           "name": "Alto",
           "offsetgroup": "Alto",
           "orientation": "h",
           "showlegend": true,
           "textposition": "auto",
           "type": "bar",
           "x": [
            529,
            628,
            10,
            4368
           ],
           "xaxis": "x",
           "y": [
            "Arranjo Populacional de Londrina/PR",
            "Arranjo Populacional de Maringá/PR",
            "Arranjo Populacional de Ponta Grossa/PR",
            "Curitiba"
           ],
           "yaxis": "y"
          },
          {
           "alignmentgroup": "True",
           "hovertemplate": "Nível Tecnológico=Médio-Alto<br>Ano=2002<br>Pessoal=%{x}<br>Espaço Metropolitano=%{y}<extra></extra>",
           "legendgroup": "Médio-Alto",
           "marker": {
            "color": "rgb(178,24,43)"
           },
           "name": "Médio-Alto",
           "offsetgroup": "Médio-Alto",
           "orientation": "h",
           "showlegend": true,
           "textposition": "auto",
           "type": "bar",
           "x": [
            5050,
            2929,
            1959,
            44821
           ],
           "xaxis": "x",
           "y": [
            "Arranjo Populacional de Londrina/PR",
            "Arranjo Populacional de Maringá/PR",
            "Arranjo Populacional de Ponta Grossa/PR",
            "Curitiba"
           ],
           "yaxis": "y"
          },
          {
           "alignmentgroup": "True",
           "hovertemplate": "Nível Tecnológico=Médio-Baixo<br>Ano=2002<br>Pessoal=%{x}<br>Espaço Metropolitano=%{y}<extra></extra>",
           "legendgroup": "Médio-Baixo",
           "marker": {
            "color": "rgb(214,96,77)"
           },
           "name": "Médio-Baixo",
           "offsetgroup": "Médio-Baixo",
           "orientation": "h",
           "showlegend": true,
           "textposition": "auto",
           "type": "bar",
           "x": [
            6114,
            3486,
            1781,
            29838
           ],
           "xaxis": "x",
           "y": [
            "Arranjo Populacional de Londrina/PR",
            "Arranjo Populacional de Maringá/PR",
            "Arranjo Populacional de Ponta Grossa/PR",
            "Curitiba"
           ],
           "yaxis": "y"
          },
          {
           "alignmentgroup": "True",
           "hovertemplate": "Nível Tecnológico=Baixo<br>Ano=2002<br>Pessoal=%{x}<br>Espaço Metropolitano=%{y}<extra></extra>",
           "legendgroup": "Baixo",
           "marker": {
            "color": "rgb(244,165,130)"
           },
           "name": "Baixo",
           "offsetgroup": "Baixo",
           "orientation": "h",
           "showlegend": true,
           "textposition": "auto",
           "type": "bar",
           "x": [
            16173,
            17199,
            10715,
            44934
           ],
           "xaxis": "x",
           "y": [
            "Arranjo Populacional de Londrina/PR",
            "Arranjo Populacional de Maringá/PR",
            "Arranjo Populacional de Ponta Grossa/PR",
            "Curitiba"
           ],
           "yaxis": "y"
          }
         ],
         "name": "2002"
        },
        {
         "data": [
          {
           "alignmentgroup": "True",
           "hovertemplate": "Nível Tecnológico=Alto<br>Ano=2003<br>Pessoal=%{x}<br>Espaço Metropolitano=%{y}<extra></extra>",
           "legendgroup": "Alto",
           "marker": {
            "color": "rgb(103,0,31)"
           },
           "name": "Alto",
           "offsetgroup": "Alto",
           "orientation": "h",
           "showlegend": true,
           "textposition": "auto",
           "type": "bar",
           "x": [
            596,
            330,
            10,
            4758
           ],
           "xaxis": "x",
           "y": [
            "Arranjo Populacional de Londrina/PR",
            "Arranjo Populacional de Maringá/PR",
            "Arranjo Populacional de Ponta Grossa/PR",
            "Curitiba"
           ],
           "yaxis": "y"
          },
          {
           "alignmentgroup": "True",
           "hovertemplate": "Nível Tecnológico=Médio-Alto<br>Ano=2003<br>Pessoal=%{x}<br>Espaço Metropolitano=%{y}<extra></extra>",
           "legendgroup": "Médio-Alto",
           "marker": {
            "color": "rgb(178,24,43)"
           },
           "name": "Médio-Alto",
           "offsetgroup": "Médio-Alto",
           "orientation": "h",
           "showlegend": true,
           "textposition": "auto",
           "type": "bar",
           "x": [
            3944,
            3017,
            1700,
            44439
           ],
           "xaxis": "x",
           "y": [
            "Arranjo Populacional de Londrina/PR",
            "Arranjo Populacional de Maringá/PR",
            "Arranjo Populacional de Ponta Grossa/PR",
            "Curitiba"
           ],
           "yaxis": "y"
          },
          {
           "alignmentgroup": "True",
           "hovertemplate": "Nível Tecnológico=Médio-Baixo<br>Ano=2003<br>Pessoal=%{x}<br>Espaço Metropolitano=%{y}<extra></extra>",
           "legendgroup": "Médio-Baixo",
           "marker": {
            "color": "rgb(214,96,77)"
           },
           "name": "Médio-Baixo",
           "offsetgroup": "Médio-Baixo",
           "orientation": "h",
           "showlegend": true,
           "textposition": "auto",
           "type": "bar",
           "x": [
            6700,
            3611,
            2016,
            32065
           ],
           "xaxis": "x",
           "y": [
            "Arranjo Populacional de Londrina/PR",
            "Arranjo Populacional de Maringá/PR",
            "Arranjo Populacional de Ponta Grossa/PR",
            "Curitiba"
           ],
           "yaxis": "y"
          },
          {
           "alignmentgroup": "True",
           "hovertemplate": "Nível Tecnológico=Baixo<br>Ano=2003<br>Pessoal=%{x}<br>Espaço Metropolitano=%{y}<extra></extra>",
           "legendgroup": "Baixo",
           "marker": {
            "color": "rgb(244,165,130)"
           },
           "name": "Baixo",
           "offsetgroup": "Baixo",
           "orientation": "h",
           "showlegend": true,
           "textposition": "auto",
           "type": "bar",
           "x": [
            16317,
            18349,
            11948,
            45726
           ],
           "xaxis": "x",
           "y": [
            "Arranjo Populacional de Londrina/PR",
            "Arranjo Populacional de Maringá/PR",
            "Arranjo Populacional de Ponta Grossa/PR",
            "Curitiba"
           ],
           "yaxis": "y"
          }
         ],
         "name": "2003"
        },
        {
         "data": [
          {
           "alignmentgroup": "True",
           "hovertemplate": "Nível Tecnológico=Alto<br>Ano=2004<br>Pessoal=%{x}<br>Espaço Metropolitano=%{y}<extra></extra>",
           "legendgroup": "Alto",
           "marker": {
            "color": "rgb(103,0,31)"
           },
           "name": "Alto",
           "offsetgroup": "Alto",
           "orientation": "h",
           "showlegend": true,
           "textposition": "auto",
           "type": "bar",
           "x": [
            918,
            556,
            9,
            5090
           ],
           "xaxis": "x",
           "y": [
            "Arranjo Populacional de Londrina/PR",
            "Arranjo Populacional de Maringá/PR",
            "Arranjo Populacional de Ponta Grossa/PR",
            "Curitiba"
           ],
           "yaxis": "y"
          },
          {
           "alignmentgroup": "True",
           "hovertemplate": "Nível Tecnológico=Médio-Alto<br>Ano=2004<br>Pessoal=%{x}<br>Espaço Metropolitano=%{y}<extra></extra>",
           "legendgroup": "Médio-Alto",
           "marker": {
            "color": "rgb(178,24,43)"
           },
           "name": "Médio-Alto",
           "offsetgroup": "Médio-Alto",
           "orientation": "h",
           "showlegend": true,
           "textposition": "auto",
           "type": "bar",
           "x": [
            4544,
            3624,
            1869,
            53156
           ],
           "xaxis": "x",
           "y": [
            "Arranjo Populacional de Londrina/PR",
            "Arranjo Populacional de Maringá/PR",
            "Arranjo Populacional de Ponta Grossa/PR",
            "Curitiba"
           ],
           "yaxis": "y"
          },
          {
           "alignmentgroup": "True",
           "hovertemplate": "Nível Tecnológico=Médio-Baixo<br>Ano=2004<br>Pessoal=%{x}<br>Espaço Metropolitano=%{y}<extra></extra>",
           "legendgroup": "Médio-Baixo",
           "marker": {
            "color": "rgb(214,96,77)"
           },
           "name": "Médio-Baixo",
           "offsetgroup": "Médio-Baixo",
           "orientation": "h",
           "showlegend": true,
           "textposition": "auto",
           "type": "bar",
           "x": [
            6934,
            4192,
            2719,
            35082
           ],
           "xaxis": "x",
           "y": [
            "Arranjo Populacional de Londrina/PR",
            "Arranjo Populacional de Maringá/PR",
            "Arranjo Populacional de Ponta Grossa/PR",
            "Curitiba"
           ],
           "yaxis": "y"
          },
          {
           "alignmentgroup": "True",
           "hovertemplate": "Nível Tecnológico=Baixo<br>Ano=2004<br>Pessoal=%{x}<br>Espaço Metropolitano=%{y}<extra></extra>",
           "legendgroup": "Baixo",
           "marker": {
            "color": "rgb(244,165,130)"
           },
           "name": "Baixo",
           "offsetgroup": "Baixo",
           "orientation": "h",
           "showlegend": true,
           "textposition": "auto",
           "type": "bar",
           "x": [
            17619,
            19461,
            13041,
            48813
           ],
           "xaxis": "x",
           "y": [
            "Arranjo Populacional de Londrina/PR",
            "Arranjo Populacional de Maringá/PR",
            "Arranjo Populacional de Ponta Grossa/PR",
            "Curitiba"
           ],
           "yaxis": "y"
          }
         ],
         "name": "2004"
        },
        {
         "data": [
          {
           "alignmentgroup": "True",
           "hovertemplate": "Nível Tecnológico=Alto<br>Ano=2005<br>Pessoal=%{x}<br>Espaço Metropolitano=%{y}<extra></extra>",
           "legendgroup": "Alto",
           "marker": {
            "color": "rgb(103,0,31)"
           },
           "name": "Alto",
           "offsetgroup": "Alto",
           "orientation": "h",
           "showlegend": true,
           "textposition": "auto",
           "type": "bar",
           "x": [
            953,
            672,
            6,
            5259
           ],
           "xaxis": "x",
           "y": [
            "Arranjo Populacional de Londrina/PR",
            "Arranjo Populacional de Maringá/PR",
            "Arranjo Populacional de Ponta Grossa/PR",
            "Curitiba"
           ],
           "yaxis": "y"
          },
          {
           "alignmentgroup": "True",
           "hovertemplate": "Nível Tecnológico=Médio-Alto<br>Ano=2005<br>Pessoal=%{x}<br>Espaço Metropolitano=%{y}<extra></extra>",
           "legendgroup": "Médio-Alto",
           "marker": {
            "color": "rgb(178,24,43)"
           },
           "name": "Médio-Alto",
           "offsetgroup": "Médio-Alto",
           "orientation": "h",
           "showlegend": true,
           "textposition": "auto",
           "type": "bar",
           "x": [
            4977,
            3681,
            1553,
            55228
           ],
           "xaxis": "x",
           "y": [
            "Arranjo Populacional de Londrina/PR",
            "Arranjo Populacional de Maringá/PR",
            "Arranjo Populacional de Ponta Grossa/PR",
            "Curitiba"
           ],
           "yaxis": "y"
          },
          {
           "alignmentgroup": "True",
           "hovertemplate": "Nível Tecnológico=Médio-Baixo<br>Ano=2005<br>Pessoal=%{x}<br>Espaço Metropolitano=%{y}<extra></extra>",
           "legendgroup": "Médio-Baixo",
           "marker": {
            "color": "rgb(214,96,77)"
           },
           "name": "Médio-Baixo",
           "offsetgroup": "Médio-Baixo",
           "orientation": "h",
           "showlegend": true,
           "textposition": "auto",
           "type": "bar",
           "x": [
            6809,
            4075,
            2970,
            36103
           ],
           "xaxis": "x",
           "y": [
            "Arranjo Populacional de Londrina/PR",
            "Arranjo Populacional de Maringá/PR",
            "Arranjo Populacional de Ponta Grossa/PR",
            "Curitiba"
           ],
           "yaxis": "y"
          },
          {
           "alignmentgroup": "True",
           "hovertemplate": "Nível Tecnológico=Baixo<br>Ano=2005<br>Pessoal=%{x}<br>Espaço Metropolitano=%{y}<extra></extra>",
           "legendgroup": "Baixo",
           "marker": {
            "color": "rgb(244,165,130)"
           },
           "name": "Baixo",
           "offsetgroup": "Baixo",
           "orientation": "h",
           "showlegend": true,
           "textposition": "auto",
           "type": "bar",
           "x": [
            19170,
            19720,
            12675,
            49621
           ],
           "xaxis": "x",
           "y": [
            "Arranjo Populacional de Londrina/PR",
            "Arranjo Populacional de Maringá/PR",
            "Arranjo Populacional de Ponta Grossa/PR",
            "Curitiba"
           ],
           "yaxis": "y"
          }
         ],
         "name": "2005"
        },
        {
         "data": [
          {
           "alignmentgroup": "True",
           "hovertemplate": "Nível Tecnológico=Alto<br>Ano=2006<br>Pessoal=%{x}<br>Espaço Metropolitano=%{y}<extra></extra>",
           "legendgroup": "Alto",
           "marker": {
            "color": "rgb(103,0,31)"
           },
           "name": "Alto",
           "offsetgroup": "Alto",
           "orientation": "h",
           "showlegend": true,
           "textposition": "auto",
           "type": "bar",
           "x": [
            1065,
            427,
            1,
            6147
           ],
           "xaxis": "x",
           "y": [
            "Arranjo Populacional de Londrina/PR",
            "Arranjo Populacional de Maringá/PR",
            "Arranjo Populacional de Ponta Grossa/PR",
            "Curitiba"
           ],
           "yaxis": "y"
          },
          {
           "alignmentgroup": "True",
           "hovertemplate": "Nível Tecnológico=Médio-Alto<br>Ano=2006<br>Pessoal=%{x}<br>Espaço Metropolitano=%{y}<extra></extra>",
           "legendgroup": "Médio-Alto",
           "marker": {
            "color": "rgb(178,24,43)"
           },
           "name": "Médio-Alto",
           "offsetgroup": "Médio-Alto",
           "orientation": "h",
           "showlegend": true,
           "textposition": "auto",
           "type": "bar",
           "x": [
            5205,
            4244,
            1530,
            57183
           ],
           "xaxis": "x",
           "y": [
            "Arranjo Populacional de Londrina/PR",
            "Arranjo Populacional de Maringá/PR",
            "Arranjo Populacional de Ponta Grossa/PR",
            "Curitiba"
           ],
           "yaxis": "y"
          },
          {
           "alignmentgroup": "True",
           "hovertemplate": "Nível Tecnológico=Médio-Baixo<br>Ano=2006<br>Pessoal=%{x}<br>Espaço Metropolitano=%{y}<extra></extra>",
           "legendgroup": "Médio-Baixo",
           "marker": {
            "color": "rgb(214,96,77)"
           },
           "name": "Médio-Baixo",
           "offsetgroup": "Médio-Baixo",
           "orientation": "h",
           "showlegend": true,
           "textposition": "auto",
           "type": "bar",
           "x": [
            8171,
            4841,
            2450,
            42155
           ],
           "xaxis": "x",
           "y": [
            "Arranjo Populacional de Londrina/PR",
            "Arranjo Populacional de Maringá/PR",
            "Arranjo Populacional de Ponta Grossa/PR",
            "Curitiba"
           ],
           "yaxis": "y"
          },
          {
           "alignmentgroup": "True",
           "hovertemplate": "Nível Tecnológico=Baixo<br>Ano=2006<br>Pessoal=%{x}<br>Espaço Metropolitano=%{y}<extra></extra>",
           "legendgroup": "Baixo",
           "marker": {
            "color": "rgb(244,165,130)"
           },
           "name": "Baixo",
           "offsetgroup": "Baixo",
           "orientation": "h",
           "showlegend": true,
           "textposition": "auto",
           "type": "bar",
           "x": [
            17294,
            21578,
            12659,
            51271
           ],
           "xaxis": "x",
           "y": [
            "Arranjo Populacional de Londrina/PR",
            "Arranjo Populacional de Maringá/PR",
            "Arranjo Populacional de Ponta Grossa/PR",
            "Curitiba"
           ],
           "yaxis": "y"
          }
         ],
         "name": "2006"
        },
        {
         "data": [
          {
           "alignmentgroup": "True",
           "hovertemplate": "Nível Tecnológico=Alto<br>Ano=2007<br>Pessoal=%{x}<br>Espaço Metropolitano=%{y}<extra></extra>",
           "legendgroup": "Alto",
           "marker": {
            "color": "rgb(103,0,31)"
           },
           "name": "Alto",
           "offsetgroup": "Alto",
           "orientation": "h",
           "showlegend": true,
           "textposition": "auto",
           "type": "bar",
           "x": [
            1177,
            468,
            0,
            8404
           ],
           "xaxis": "x",
           "y": [
            "Arranjo Populacional de Londrina/PR",
            "Arranjo Populacional de Maringá/PR",
            "Arranjo Populacional de Ponta Grossa/PR",
            "Curitiba"
           ],
           "yaxis": "y"
          },
          {
           "alignmentgroup": "True",
           "hovertemplate": "Nível Tecnológico=Médio-Alto<br>Ano=2007<br>Pessoal=%{x}<br>Espaço Metropolitano=%{y}<extra></extra>",
           "legendgroup": "Médio-Alto",
           "marker": {
            "color": "rgb(178,24,43)"
           },
           "name": "Médio-Alto",
           "offsetgroup": "Médio-Alto",
           "orientation": "h",
           "showlegend": true,
           "textposition": "auto",
           "type": "bar",
           "x": [
            5551,
            4917,
            1761,
            63993
           ],
           "xaxis": "x",
           "y": [
            "Arranjo Populacional de Londrina/PR",
            "Arranjo Populacional de Maringá/PR",
            "Arranjo Populacional de Ponta Grossa/PR",
            "Curitiba"
           ],
           "yaxis": "y"
          },
          {
           "alignmentgroup": "True",
           "hovertemplate": "Nível Tecnológico=Médio-Baixo<br>Ano=2007<br>Pessoal=%{x}<br>Espaço Metropolitano=%{y}<extra></extra>",
           "legendgroup": "Médio-Baixo",
           "marker": {
            "color": "rgb(214,96,77)"
           },
           "name": "Médio-Baixo",
           "offsetgroup": "Médio-Baixo",
           "orientation": "h",
           "showlegend": true,
           "textposition": "auto",
           "type": "bar",
           "x": [
            8843,
            5019,
            2825,
            45647
           ],
           "xaxis": "x",
           "y": [
            "Arranjo Populacional de Londrina/PR",
            "Arranjo Populacional de Maringá/PR",
            "Arranjo Populacional de Ponta Grossa/PR",
            "Curitiba"
           ],
           "yaxis": "y"
          },
          {
           "alignmentgroup": "True",
           "hovertemplate": "Nível Tecnológico=Baixo<br>Ano=2007<br>Pessoal=%{x}<br>Espaço Metropolitano=%{y}<extra></extra>",
           "legendgroup": "Baixo",
           "marker": {
            "color": "rgb(244,165,130)"
           },
           "name": "Baixo",
           "offsetgroup": "Baixo",
           "orientation": "h",
           "showlegend": true,
           "textposition": "auto",
           "type": "bar",
           "x": [
            17588,
            23841,
            13740,
            54896
           ],
           "xaxis": "x",
           "y": [
            "Arranjo Populacional de Londrina/PR",
            "Arranjo Populacional de Maringá/PR",
            "Arranjo Populacional de Ponta Grossa/PR",
            "Curitiba"
           ],
           "yaxis": "y"
          }
         ],
         "name": "2007"
        },
        {
         "data": [
          {
           "alignmentgroup": "True",
           "hovertemplate": "Nível Tecnológico=Alto<br>Ano=2008<br>Pessoal=%{x}<br>Espaço Metropolitano=%{y}<extra></extra>",
           "legendgroup": "Alto",
           "marker": {
            "color": "rgb(103,0,31)"
           },
           "name": "Alto",
           "offsetgroup": "Alto",
           "orientation": "h",
           "showlegend": true,
           "textposition": "auto",
           "type": "bar",
           "x": [
            1336,
            526,
            6,
            9931
           ],
           "xaxis": "x",
           "y": [
            "Arranjo Populacional de Londrina/PR",
            "Arranjo Populacional de Maringá/PR",
            "Arranjo Populacional de Ponta Grossa/PR",
            "Curitiba"
           ],
           "yaxis": "y"
          },
          {
           "alignmentgroup": "True",
           "hovertemplate": "Nível Tecnológico=Médio-Alto<br>Ano=2008<br>Pessoal=%{x}<br>Espaço Metropolitano=%{y}<extra></extra>",
           "legendgroup": "Médio-Alto",
           "marker": {
            "color": "rgb(178,24,43)"
           },
           "name": "Médio-Alto",
           "offsetgroup": "Médio-Alto",
           "orientation": "h",
           "showlegend": true,
           "textposition": "auto",
           "type": "bar",
           "x": [
            6114,
            4743,
            1815,
            66371
           ],
           "xaxis": "x",
           "y": [
            "Arranjo Populacional de Londrina/PR",
            "Arranjo Populacional de Maringá/PR",
            "Arranjo Populacional de Ponta Grossa/PR",
            "Curitiba"
           ],
           "yaxis": "y"
          },
          {
           "alignmentgroup": "True",
           "hovertemplate": "Nível Tecnológico=Médio-Baixo<br>Ano=2008<br>Pessoal=%{x}<br>Espaço Metropolitano=%{y}<extra></extra>",
           "legendgroup": "Médio-Baixo",
           "marker": {
            "color": "rgb(214,96,77)"
           },
           "name": "Médio-Baixo",
           "offsetgroup": "Médio-Baixo",
           "orientation": "h",
           "showlegend": true,
           "textposition": "auto",
           "type": "bar",
           "x": [
            9400,
            5224,
            3145,
            48231
           ],
           "xaxis": "x",
           "y": [
            "Arranjo Populacional de Londrina/PR",
            "Arranjo Populacional de Maringá/PR",
            "Arranjo Populacional de Ponta Grossa/PR",
            "Curitiba"
           ],
           "yaxis": "y"
          },
          {
           "alignmentgroup": "True",
           "hovertemplate": "Nível Tecnológico=Baixo<br>Ano=2008<br>Pessoal=%{x}<br>Espaço Metropolitano=%{y}<extra></extra>",
           "legendgroup": "Baixo",
           "marker": {
            "color": "rgb(244,165,130)"
           },
           "name": "Baixo",
           "offsetgroup": "Baixo",
           "orientation": "h",
           "showlegend": true,
           "textposition": "auto",
           "type": "bar",
           "x": [
            18093,
            24632,
            13030,
            55468
           ],
           "xaxis": "x",
           "y": [
            "Arranjo Populacional de Londrina/PR",
            "Arranjo Populacional de Maringá/PR",
            "Arranjo Populacional de Ponta Grossa/PR",
            "Curitiba"
           ],
           "yaxis": "y"
          }
         ],
         "name": "2008"
        },
        {
         "data": [
          {
           "alignmentgroup": "True",
           "hovertemplate": "Nível Tecnológico=Alto<br>Ano=2009<br>Pessoal=%{x}<br>Espaço Metropolitano=%{y}<extra></extra>",
           "legendgroup": "Alto",
           "marker": {
            "color": "rgb(103,0,31)"
           },
           "name": "Alto",
           "offsetgroup": "Alto",
           "orientation": "h",
           "showlegend": true,
           "textposition": "auto",
           "type": "bar",
           "x": [
            1313,
            666,
            2,
            12214
           ],
           "xaxis": "x",
           "y": [
            "Arranjo Populacional de Londrina/PR",
            "Arranjo Populacional de Maringá/PR",
            "Arranjo Populacional de Ponta Grossa/PR",
            "Curitiba"
           ],
           "yaxis": "y"
          },
          {
           "alignmentgroup": "True",
           "hovertemplate": "Nível Tecnológico=Médio-Alto<br>Ano=2009<br>Pessoal=%{x}<br>Espaço Metropolitano=%{y}<extra></extra>",
           "legendgroup": "Médio-Alto",
           "marker": {
            "color": "rgb(178,24,43)"
           },
           "name": "Médio-Alto",
           "offsetgroup": "Médio-Alto",
           "orientation": "h",
           "showlegend": true,
           "textposition": "auto",
           "type": "bar",
           "x": [
            6088,
            4962,
            1983,
            67378
           ],
           "xaxis": "x",
           "y": [
            "Arranjo Populacional de Londrina/PR",
            "Arranjo Populacional de Maringá/PR",
            "Arranjo Populacional de Ponta Grossa/PR",
            "Curitiba"
           ],
           "yaxis": "y"
          },
          {
           "alignmentgroup": "True",
           "hovertemplate": "Nível Tecnológico=Médio-Baixo<br>Ano=2009<br>Pessoal=%{x}<br>Espaço Metropolitano=%{y}<extra></extra>",
           "legendgroup": "Médio-Baixo",
           "marker": {
            "color": "rgb(214,96,77)"
           },
           "name": "Médio-Baixo",
           "offsetgroup": "Médio-Baixo",
           "orientation": "h",
           "showlegend": true,
           "textposition": "auto",
           "type": "bar",
           "x": [
            9401,
            5085,
            2843,
            47987
           ],
           "xaxis": "x",
           "y": [
            "Arranjo Populacional de Londrina/PR",
            "Arranjo Populacional de Maringá/PR",
            "Arranjo Populacional de Ponta Grossa/PR",
            "Curitiba"
           ],
           "yaxis": "y"
          },
          {
           "alignmentgroup": "True",
           "hovertemplate": "Nível Tecnológico=Baixo<br>Ano=2009<br>Pessoal=%{x}<br>Espaço Metropolitano=%{y}<extra></extra>",
           "legendgroup": "Baixo",
           "marker": {
            "color": "rgb(244,165,130)"
           },
           "name": "Baixo",
           "offsetgroup": "Baixo",
           "orientation": "h",
           "showlegend": true,
           "textposition": "auto",
           "type": "bar",
           "x": [
            18642,
            24701,
            13104,
            54579
           ],
           "xaxis": "x",
           "y": [
            "Arranjo Populacional de Londrina/PR",
            "Arranjo Populacional de Maringá/PR",
            "Arranjo Populacional de Ponta Grossa/PR",
            "Curitiba"
           ],
           "yaxis": "y"
          }
         ],
         "name": "2009"
        },
        {
         "data": [
          {
           "alignmentgroup": "True",
           "hovertemplate": "Nível Tecnológico=Alto<br>Ano=2010<br>Pessoal=%{x}<br>Espaço Metropolitano=%{y}<extra></extra>",
           "legendgroup": "Alto",
           "marker": {
            "color": "rgb(103,0,31)"
           },
           "name": "Alto",
           "offsetgroup": "Alto",
           "orientation": "h",
           "showlegend": true,
           "textposition": "auto",
           "type": "bar",
           "x": [
            1412,
            739,
            3,
            10637
           ],
           "xaxis": "x",
           "y": [
            "Arranjo Populacional de Londrina/PR",
            "Arranjo Populacional de Maringá/PR",
            "Arranjo Populacional de Ponta Grossa/PR",
            "Curitiba"
           ],
           "yaxis": "y"
          },
          {
           "alignmentgroup": "True",
           "hovertemplate": "Nível Tecnológico=Médio-Alto<br>Ano=2010<br>Pessoal=%{x}<br>Espaço Metropolitano=%{y}<extra></extra>",
           "legendgroup": "Médio-Alto",
           "marker": {
            "color": "rgb(178,24,43)"
           },
           "name": "Médio-Alto",
           "offsetgroup": "Médio-Alto",
           "orientation": "h",
           "showlegend": true,
           "textposition": "auto",
           "type": "bar",
           "x": [
            6793,
            5637,
            2296,
            75287
           ],
           "xaxis": "x",
           "y": [
            "Arranjo Populacional de Londrina/PR",
            "Arranjo Populacional de Maringá/PR",
            "Arranjo Populacional de Ponta Grossa/PR",
            "Curitiba"
           ],
           "yaxis": "y"
          },
          {
           "alignmentgroup": "True",
           "hovertemplate": "Nível Tecnológico=Médio-Baixo<br>Ano=2010<br>Pessoal=%{x}<br>Espaço Metropolitano=%{y}<extra></extra>",
           "legendgroup": "Médio-Baixo",
           "marker": {
            "color": "rgb(214,96,77)"
           },
           "name": "Médio-Baixo",
           "offsetgroup": "Médio-Baixo",
           "orientation": "h",
           "showlegend": true,
           "textposition": "auto",
           "type": "bar",
           "x": [
            10315,
            6119,
            3627,
            51941
           ],
           "xaxis": "x",
           "y": [
            "Arranjo Populacional de Londrina/PR",
            "Arranjo Populacional de Maringá/PR",
            "Arranjo Populacional de Ponta Grossa/PR",
            "Curitiba"
           ],
           "yaxis": "y"
          },
          {
           "alignmentgroup": "True",
           "hovertemplate": "Nível Tecnológico=Baixo<br>Ano=2010<br>Pessoal=%{x}<br>Espaço Metropolitano=%{y}<extra></extra>",
           "legendgroup": "Baixo",
           "marker": {
            "color": "rgb(244,165,130)"
           },
           "name": "Baixo",
           "offsetgroup": "Baixo",
           "orientation": "h",
           "showlegend": true,
           "textposition": "auto",
           "type": "bar",
           "x": [
            19490,
            26682,
            13874,
            58718
           ],
           "xaxis": "x",
           "y": [
            "Arranjo Populacional de Londrina/PR",
            "Arranjo Populacional de Maringá/PR",
            "Arranjo Populacional de Ponta Grossa/PR",
            "Curitiba"
           ],
           "yaxis": "y"
          }
         ],
         "name": "2010"
        },
        {
         "data": [
          {
           "alignmentgroup": "True",
           "hovertemplate": "Nível Tecnológico=Alto<br>Ano=2011<br>Pessoal=%{x}<br>Espaço Metropolitano=%{y}<extra></extra>",
           "legendgroup": "Alto",
           "marker": {
            "color": "rgb(103,0,31)"
           },
           "name": "Alto",
           "offsetgroup": "Alto",
           "orientation": "h",
           "showlegend": true,
           "textposition": "auto",
           "type": "bar",
           "x": [
            1594,
            737,
            0,
            9255
           ],
           "xaxis": "x",
           "y": [
            "Arranjo Populacional de Londrina/PR",
            "Arranjo Populacional de Maringá/PR",
            "Arranjo Populacional de Ponta Grossa/PR",
            "Curitiba"
           ],
           "yaxis": "y"
          },
          {
           "alignmentgroup": "True",
           "hovertemplate": "Nível Tecnológico=Médio-Alto<br>Ano=2011<br>Pessoal=%{x}<br>Espaço Metropolitano=%{y}<extra></extra>",
           "legendgroup": "Médio-Alto",
           "marker": {
            "color": "rgb(178,24,43)"
           },
           "name": "Médio-Alto",
           "offsetgroup": "Médio-Alto",
           "orientation": "h",
           "showlegend": true,
           "textposition": "auto",
           "type": "bar",
           "x": [
            6994,
            6062,
            2621,
            81549
           ],
           "xaxis": "x",
           "y": [
            "Arranjo Populacional de Londrina/PR",
            "Arranjo Populacional de Maringá/PR",
            "Arranjo Populacional de Ponta Grossa/PR",
            "Curitiba"
           ],
           "yaxis": "y"
          },
          {
           "alignmentgroup": "True",
           "hovertemplate": "Nível Tecnológico=Médio-Baixo<br>Ano=2011<br>Pessoal=%{x}<br>Espaço Metropolitano=%{y}<extra></extra>",
           "legendgroup": "Médio-Baixo",
           "marker": {
            "color": "rgb(214,96,77)"
           },
           "name": "Médio-Baixo",
           "offsetgroup": "Médio-Baixo",
           "orientation": "h",
           "showlegend": true,
           "textposition": "auto",
           "type": "bar",
           "x": [
            10376,
            6046,
            4080,
            53517
           ],
           "xaxis": "x",
           "y": [
            "Arranjo Populacional de Londrina/PR",
            "Arranjo Populacional de Maringá/PR",
            "Arranjo Populacional de Ponta Grossa/PR",
            "Curitiba"
           ],
           "yaxis": "y"
          },
          {
           "alignmentgroup": "True",
           "hovertemplate": "Nível Tecnológico=Baixo<br>Ano=2011<br>Pessoal=%{x}<br>Espaço Metropolitano=%{y}<extra></extra>",
           "legendgroup": "Baixo",
           "marker": {
            "color": "rgb(244,165,130)"
           },
           "name": "Baixo",
           "offsetgroup": "Baixo",
           "orientation": "h",
           "showlegend": true,
           "textposition": "auto",
           "type": "bar",
           "x": [
            18615,
            23568,
            13723,
            58664
           ],
           "xaxis": "x",
           "y": [
            "Arranjo Populacional de Londrina/PR",
            "Arranjo Populacional de Maringá/PR",
            "Arranjo Populacional de Ponta Grossa/PR",
            "Curitiba"
           ],
           "yaxis": "y"
          }
         ],
         "name": "2011"
        },
        {
         "data": [
          {
           "alignmentgroup": "True",
           "hovertemplate": "Nível Tecnológico=Alto<br>Ano=2012<br>Pessoal=%{x}<br>Espaço Metropolitano=%{y}<extra></extra>",
           "legendgroup": "Alto",
           "marker": {
            "color": "rgb(103,0,31)"
           },
           "name": "Alto",
           "offsetgroup": "Alto",
           "orientation": "h",
           "showlegend": true,
           "textposition": "auto",
           "type": "bar",
           "x": [
            1751,
            819,
            4,
            9729
           ],
           "xaxis": "x",
           "y": [
            "Arranjo Populacional de Londrina/PR",
            "Arranjo Populacional de Maringá/PR",
            "Arranjo Populacional de Ponta Grossa/PR",
            "Curitiba"
           ],
           "yaxis": "y"
          },
          {
           "alignmentgroup": "True",
           "hovertemplate": "Nível Tecnológico=Médio-Alto<br>Ano=2012<br>Pessoal=%{x}<br>Espaço Metropolitano=%{y}<extra></extra>",
           "legendgroup": "Médio-Alto",
           "marker": {
            "color": "rgb(178,24,43)"
           },
           "name": "Médio-Alto",
           "offsetgroup": "Médio-Alto",
           "orientation": "h",
           "showlegend": true,
           "textposition": "auto",
           "type": "bar",
           "x": [
            7434,
            6413,
            2455,
            82714
           ],
           "xaxis": "x",
           "y": [
            "Arranjo Populacional de Londrina/PR",
            "Arranjo Populacional de Maringá/PR",
            "Arranjo Populacional de Ponta Grossa/PR",
            "Curitiba"
           ],
           "yaxis": "y"
          },
          {
           "alignmentgroup": "True",
           "hovertemplate": "Nível Tecnológico=Médio-Baixo<br>Ano=2012<br>Pessoal=%{x}<br>Espaço Metropolitano=%{y}<extra></extra>",
           "legendgroup": "Médio-Baixo",
           "marker": {
            "color": "rgb(214,96,77)"
           },
           "name": "Médio-Baixo",
           "offsetgroup": "Médio-Baixo",
           "orientation": "h",
           "showlegend": true,
           "textposition": "auto",
           "type": "bar",
           "x": [
            10510,
            6869,
            4271,
            54230
           ],
           "xaxis": "x",
           "y": [
            "Arranjo Populacional de Londrina/PR",
            "Arranjo Populacional de Maringá/PR",
            "Arranjo Populacional de Ponta Grossa/PR",
            "Curitiba"
           ],
           "yaxis": "y"
          },
          {
           "alignmentgroup": "True",
           "hovertemplate": "Nível Tecnológico=Baixo<br>Ano=2012<br>Pessoal=%{x}<br>Espaço Metropolitano=%{y}<extra></extra>",
           "legendgroup": "Baixo",
           "marker": {
            "color": "rgb(244,165,130)"
           },
           "name": "Baixo",
           "offsetgroup": "Baixo",
           "orientation": "h",
           "showlegend": true,
           "textposition": "auto",
           "type": "bar",
           "x": [
            18747,
            26369,
            12585,
            57031
           ],
           "xaxis": "x",
           "y": [
            "Arranjo Populacional de Londrina/PR",
            "Arranjo Populacional de Maringá/PR",
            "Arranjo Populacional de Ponta Grossa/PR",
            "Curitiba"
           ],
           "yaxis": "y"
          }
         ],
         "name": "2012"
        },
        {
         "data": [
          {
           "alignmentgroup": "True",
           "hovertemplate": "Nível Tecnológico=Alto<br>Ano=2013<br>Pessoal=%{x}<br>Espaço Metropolitano=%{y}<extra></extra>",
           "legendgroup": "Alto",
           "marker": {
            "color": "rgb(103,0,31)"
           },
           "name": "Alto",
           "offsetgroup": "Alto",
           "orientation": "h",
           "showlegend": true,
           "textposition": "auto",
           "type": "bar",
           "x": [
            1548,
            695,
            7,
            9705
           ],
           "xaxis": "x",
           "y": [
            "Arranjo Populacional de Londrina/PR",
            "Arranjo Populacional de Maringá/PR",
            "Arranjo Populacional de Ponta Grossa/PR",
            "Curitiba"
           ],
           "yaxis": "y"
          },
          {
           "alignmentgroup": "True",
           "hovertemplate": "Nível Tecnológico=Médio-Alto<br>Ano=2013<br>Pessoal=%{x}<br>Espaço Metropolitano=%{y}<extra></extra>",
           "legendgroup": "Médio-Alto",
           "marker": {
            "color": "rgb(178,24,43)"
           },
           "name": "Médio-Alto",
           "offsetgroup": "Médio-Alto",
           "orientation": "h",
           "showlegend": true,
           "textposition": "auto",
           "type": "bar",
           "x": [
            7630,
            6867,
            2747,
            80549
           ],
           "xaxis": "x",
           "y": [
            "Arranjo Populacional de Londrina/PR",
            "Arranjo Populacional de Maringá/PR",
            "Arranjo Populacional de Ponta Grossa/PR",
            "Curitiba"
           ],
           "yaxis": "y"
          },
          {
           "alignmentgroup": "True",
           "hovertemplate": "Nível Tecnológico=Médio-Baixo<br>Ano=2013<br>Pessoal=%{x}<br>Espaço Metropolitano=%{y}<extra></extra>",
           "legendgroup": "Médio-Baixo",
           "marker": {
            "color": "rgb(214,96,77)"
           },
           "name": "Médio-Baixo",
           "offsetgroup": "Médio-Baixo",
           "orientation": "h",
           "showlegend": true,
           "textposition": "auto",
           "type": "bar",
           "x": [
            10737,
            7257,
            4371,
            55055
           ],
           "xaxis": "x",
           "y": [
            "Arranjo Populacional de Londrina/PR",
            "Arranjo Populacional de Maringá/PR",
            "Arranjo Populacional de Ponta Grossa/PR",
            "Curitiba"
           ],
           "yaxis": "y"
          },
          {
           "alignmentgroup": "True",
           "hovertemplate": "Nível Tecnológico=Baixo<br>Ano=2013<br>Pessoal=%{x}<br>Espaço Metropolitano=%{y}<extra></extra>",
           "legendgroup": "Baixo",
           "marker": {
            "color": "rgb(244,165,130)"
           },
           "name": "Baixo",
           "offsetgroup": "Baixo",
           "orientation": "h",
           "showlegend": true,
           "textposition": "auto",
           "type": "bar",
           "x": [
            18295,
            25521,
            13172,
            56972
           ],
           "xaxis": "x",
           "y": [
            "Arranjo Populacional de Londrina/PR",
            "Arranjo Populacional de Maringá/PR",
            "Arranjo Populacional de Ponta Grossa/PR",
            "Curitiba"
           ],
           "yaxis": "y"
          }
         ],
         "name": "2013"
        },
        {
         "data": [
          {
           "alignmentgroup": "True",
           "hovertemplate": "Nível Tecnológico=Alto<br>Ano=2014<br>Pessoal=%{x}<br>Espaço Metropolitano=%{y}<extra></extra>",
           "legendgroup": "Alto",
           "marker": {
            "color": "rgb(103,0,31)"
           },
           "name": "Alto",
           "offsetgroup": "Alto",
           "orientation": "h",
           "showlegend": true,
           "textposition": "auto",
           "type": "bar",
           "x": [
            1374,
            647,
            12,
            8887
           ],
           "xaxis": "x",
           "y": [
            "Arranjo Populacional de Londrina/PR",
            "Arranjo Populacional de Maringá/PR",
            "Arranjo Populacional de Ponta Grossa/PR",
            "Curitiba"
           ],
           "yaxis": "y"
          },
          {
           "alignmentgroup": "True",
           "hovertemplate": "Nível Tecnológico=Médio-Alto<br>Ano=2014<br>Pessoal=%{x}<br>Espaço Metropolitano=%{y}<extra></extra>",
           "legendgroup": "Médio-Alto",
           "marker": {
            "color": "rgb(178,24,43)"
           },
           "name": "Médio-Alto",
           "offsetgroup": "Médio-Alto",
           "orientation": "h",
           "showlegend": true,
           "textposition": "auto",
           "type": "bar",
           "x": [
            7656,
            6647,
            2905,
            73766
           ],
           "xaxis": "x",
           "y": [
            "Arranjo Populacional de Londrina/PR",
            "Arranjo Populacional de Maringá/PR",
            "Arranjo Populacional de Ponta Grossa/PR",
            "Curitiba"
           ],
           "yaxis": "y"
          },
          {
           "alignmentgroup": "True",
           "hovertemplate": "Nível Tecnológico=Médio-Baixo<br>Ano=2014<br>Pessoal=%{x}<br>Espaço Metropolitano=%{y}<extra></extra>",
           "legendgroup": "Médio-Baixo",
           "marker": {
            "color": "rgb(214,96,77)"
           },
           "name": "Médio-Baixo",
           "offsetgroup": "Médio-Baixo",
           "orientation": "h",
           "showlegend": true,
           "textposition": "auto",
           "type": "bar",
           "x": [
            9632,
            7302,
            4231,
            52938
           ],
           "xaxis": "x",
           "y": [
            "Arranjo Populacional de Londrina/PR",
            "Arranjo Populacional de Maringá/PR",
            "Arranjo Populacional de Ponta Grossa/PR",
            "Curitiba"
           ],
           "yaxis": "y"
          },
          {
           "alignmentgroup": "True",
           "hovertemplate": "Nível Tecnológico=Baixo<br>Ano=2014<br>Pessoal=%{x}<br>Espaço Metropolitano=%{y}<extra></extra>",
           "legendgroup": "Baixo",
           "marker": {
            "color": "rgb(244,165,130)"
           },
           "name": "Baixo",
           "offsetgroup": "Baixo",
           "orientation": "h",
           "showlegend": true,
           "textposition": "auto",
           "type": "bar",
           "x": [
            17445,
            25431,
            13538,
            55939
           ],
           "xaxis": "x",
           "y": [
            "Arranjo Populacional de Londrina/PR",
            "Arranjo Populacional de Maringá/PR",
            "Arranjo Populacional de Ponta Grossa/PR",
            "Curitiba"
           ],
           "yaxis": "y"
          }
         ],
         "name": "2014"
        },
        {
         "data": [
          {
           "alignmentgroup": "True",
           "hovertemplate": "Nível Tecnológico=Alto<br>Ano=2015<br>Pessoal=%{x}<br>Espaço Metropolitano=%{y}<extra></extra>",
           "legendgroup": "Alto",
           "marker": {
            "color": "rgb(103,0,31)"
           },
           "name": "Alto",
           "offsetgroup": "Alto",
           "orientation": "h",
           "showlegend": true,
           "textposition": "auto",
           "type": "bar",
           "x": [
            1276,
            611,
            17,
            7380
           ],
           "xaxis": "x",
           "y": [
            "Arranjo Populacional de Londrina/PR",
            "Arranjo Populacional de Maringá/PR",
            "Arranjo Populacional de Ponta Grossa/PR",
            "Curitiba"
           ],
           "yaxis": "y"
          },
          {
           "alignmentgroup": "True",
           "hovertemplate": "Nível Tecnológico=Médio-Alto<br>Ano=2015<br>Pessoal=%{x}<br>Espaço Metropolitano=%{y}<extra></extra>",
           "legendgroup": "Médio-Alto",
           "marker": {
            "color": "rgb(178,24,43)"
           },
           "name": "Médio-Alto",
           "offsetgroup": "Médio-Alto",
           "orientation": "h",
           "showlegend": true,
           "textposition": "auto",
           "type": "bar",
           "x": [
            7092,
            5695,
            2699,
            64756
           ],
           "xaxis": "x",
           "y": [
            "Arranjo Populacional de Londrina/PR",
            "Arranjo Populacional de Maringá/PR",
            "Arranjo Populacional de Ponta Grossa/PR",
            "Curitiba"
           ],
           "yaxis": "y"
          },
          {
           "alignmentgroup": "True",
           "hovertemplate": "Nível Tecnológico=Médio-Baixo<br>Ano=2015<br>Pessoal=%{x}<br>Espaço Metropolitano=%{y}<extra></extra>",
           "legendgroup": "Médio-Baixo",
           "marker": {
            "color": "rgb(214,96,77)"
           },
           "name": "Médio-Baixo",
           "offsetgroup": "Médio-Baixo",
           "orientation": "h",
           "showlegend": true,
           "textposition": "auto",
           "type": "bar",
           "x": [
            8674,
            6646,
            4440,
            48678
           ],
           "xaxis": "x",
           "y": [
            "Arranjo Populacional de Londrina/PR",
            "Arranjo Populacional de Maringá/PR",
            "Arranjo Populacional de Ponta Grossa/PR",
            "Curitiba"
           ],
           "yaxis": "y"
          },
          {
           "alignmentgroup": "True",
           "hovertemplate": "Nível Tecnológico=Baixo<br>Ano=2015<br>Pessoal=%{x}<br>Espaço Metropolitano=%{y}<extra></extra>",
           "legendgroup": "Baixo",
           "marker": {
            "color": "rgb(244,165,130)"
           },
           "name": "Baixo",
           "offsetgroup": "Baixo",
           "orientation": "h",
           "showlegend": true,
           "textposition": "auto",
           "type": "bar",
           "x": [
            16580,
            24076,
            12737,
            51220
           ],
           "xaxis": "x",
           "y": [
            "Arranjo Populacional de Londrina/PR",
            "Arranjo Populacional de Maringá/PR",
            "Arranjo Populacional de Ponta Grossa/PR",
            "Curitiba"
           ],
           "yaxis": "y"
          }
         ],
         "name": "2015"
        },
        {
         "data": [
          {
           "alignmentgroup": "True",
           "hovertemplate": "Nível Tecnológico=Alto<br>Ano=2016<br>Pessoal=%{x}<br>Espaço Metropolitano=%{y}<extra></extra>",
           "legendgroup": "Alto",
           "marker": {
            "color": "rgb(103,0,31)"
           },
           "name": "Alto",
           "offsetgroup": "Alto",
           "orientation": "h",
           "showlegend": true,
           "textposition": "auto",
           "type": "bar",
           "x": [
            1208,
            603,
            16,
            6166
           ],
           "xaxis": "x",
           "y": [
            "Arranjo Populacional de Londrina/PR",
            "Arranjo Populacional de Maringá/PR",
            "Arranjo Populacional de Ponta Grossa/PR",
            "Curitiba"
           ],
           "yaxis": "y"
          },
          {
           "alignmentgroup": "True",
           "hovertemplate": "Nível Tecnológico=Médio-Alto<br>Ano=2016<br>Pessoal=%{x}<br>Espaço Metropolitano=%{y}<extra></extra>",
           "legendgroup": "Médio-Alto",
           "marker": {
            "color": "rgb(178,24,43)"
           },
           "name": "Médio-Alto",
           "offsetgroup": "Médio-Alto",
           "orientation": "h",
           "showlegend": true,
           "textposition": "auto",
           "type": "bar",
           "x": [
            6780,
            5251,
            2571,
            60841
           ],
           "xaxis": "x",
           "y": [
            "Arranjo Populacional de Londrina/PR",
            "Arranjo Populacional de Maringá/PR",
            "Arranjo Populacional de Ponta Grossa/PR",
            "Curitiba"
           ],
           "yaxis": "y"
          },
          {
           "alignmentgroup": "True",
           "hovertemplate": "Nível Tecnológico=Médio-Baixo<br>Ano=2016<br>Pessoal=%{x}<br>Espaço Metropolitano=%{y}<extra></extra>",
           "legendgroup": "Médio-Baixo",
           "marker": {
            "color": "rgb(214,96,77)"
           },
           "name": "Médio-Baixo",
           "offsetgroup": "Médio-Baixo",
           "orientation": "h",
           "showlegend": true,
           "textposition": "auto",
           "type": "bar",
           "x": [
            7792,
            6450,
            4293,
            45492
           ],
           "xaxis": "x",
           "y": [
            "Arranjo Populacional de Londrina/PR",
            "Arranjo Populacional de Maringá/PR",
            "Arranjo Populacional de Ponta Grossa/PR",
            "Curitiba"
           ],
           "yaxis": "y"
          },
          {
           "alignmentgroup": "True",
           "hovertemplate": "Nível Tecnológico=Baixo<br>Ano=2016<br>Pessoal=%{x}<br>Espaço Metropolitano=%{y}<extra></extra>",
           "legendgroup": "Baixo",
           "marker": {
            "color": "rgb(244,165,130)"
           },
           "name": "Baixo",
           "offsetgroup": "Baixo",
           "orientation": "h",
           "showlegend": true,
           "textposition": "auto",
           "type": "bar",
           "x": [
            15255,
            23083,
            10764,
            48744
           ],
           "xaxis": "x",
           "y": [
            "Arranjo Populacional de Londrina/PR",
            "Arranjo Populacional de Maringá/PR",
            "Arranjo Populacional de Ponta Grossa/PR",
            "Curitiba"
           ],
           "yaxis": "y"
          }
         ],
         "name": "2016"
        },
        {
         "data": [
          {
           "alignmentgroup": "True",
           "hovertemplate": "Nível Tecnológico=Alto<br>Ano=2017<br>Pessoal=%{x}<br>Espaço Metropolitano=%{y}<extra></extra>",
           "legendgroup": "Alto",
           "marker": {
            "color": "rgb(103,0,31)"
           },
           "name": "Alto",
           "offsetgroup": "Alto",
           "orientation": "h",
           "showlegend": true,
           "textposition": "auto",
           "type": "bar",
           "x": [
            1151,
            735,
            21,
            6121
           ],
           "xaxis": "x",
           "y": [
            "Arranjo Populacional de Londrina/PR",
            "Arranjo Populacional de Maringá/PR",
            "Arranjo Populacional de Ponta Grossa/PR",
            "Curitiba"
           ],
           "yaxis": "y"
          },
          {
           "alignmentgroup": "True",
           "hovertemplate": "Nível Tecnológico=Médio-Alto<br>Ano=2017<br>Pessoal=%{x}<br>Espaço Metropolitano=%{y}<extra></extra>",
           "legendgroup": "Médio-Alto",
           "marker": {
            "color": "rgb(178,24,43)"
           },
           "name": "Médio-Alto",
           "offsetgroup": "Médio-Alto",
           "orientation": "h",
           "showlegend": true,
           "textposition": "auto",
           "type": "bar",
           "x": [
            6949,
            5033,
            2505,
            61754
           ],
           "xaxis": "x",
           "y": [
            "Arranjo Populacional de Londrina/PR",
            "Arranjo Populacional de Maringá/PR",
            "Arranjo Populacional de Ponta Grossa/PR",
            "Curitiba"
           ],
           "yaxis": "y"
          },
          {
           "alignmentgroup": "True",
           "hovertemplate": "Nível Tecnológico=Médio-Baixo<br>Ano=2017<br>Pessoal=%{x}<br>Espaço Metropolitano=%{y}<extra></extra>",
           "legendgroup": "Médio-Baixo",
           "marker": {
            "color": "rgb(214,96,77)"
           },
           "name": "Médio-Baixo",
           "offsetgroup": "Médio-Baixo",
           "orientation": "h",
           "showlegend": true,
           "textposition": "auto",
           "type": "bar",
           "x": [
            7715,
            6345,
            4138,
            45131
           ],
           "xaxis": "x",
           "y": [
            "Arranjo Populacional de Londrina/PR",
            "Arranjo Populacional de Maringá/PR",
            "Arranjo Populacional de Ponta Grossa/PR",
            "Curitiba"
           ],
           "yaxis": "y"
          },
          {
           "alignmentgroup": "True",
           "hovertemplate": "Nível Tecnológico=Baixo<br>Ano=2017<br>Pessoal=%{x}<br>Espaço Metropolitano=%{y}<extra></extra>",
           "legendgroup": "Baixo",
           "marker": {
            "color": "rgb(244,165,130)"
           },
           "name": "Baixo",
           "offsetgroup": "Baixo",
           "orientation": "h",
           "showlegend": true,
           "textposition": "auto",
           "type": "bar",
           "x": [
            14462,
            22571,
            12468,
            46028
           ],
           "xaxis": "x",
           "y": [
            "Arranjo Populacional de Londrina/PR",
            "Arranjo Populacional de Maringá/PR",
            "Arranjo Populacional de Ponta Grossa/PR",
            "Curitiba"
           ],
           "yaxis": "y"
          }
         ],
         "name": "2017"
        },
        {
         "data": [
          {
           "alignmentgroup": "True",
           "hovertemplate": "Nível Tecnológico=Alto<br>Ano=2018<br>Pessoal=%{x}<br>Espaço Metropolitano=%{y}<extra></extra>",
           "legendgroup": "Alto",
           "marker": {
            "color": "rgb(103,0,31)"
           },
           "name": "Alto",
           "offsetgroup": "Alto",
           "orientation": "h",
           "showlegend": true,
           "textposition": "auto",
           "type": "bar",
           "x": [
            1125,
            731,
            7,
            6017
           ],
           "xaxis": "x",
           "y": [
            "Arranjo Populacional de Londrina/PR",
            "Arranjo Populacional de Maringá/PR",
            "Arranjo Populacional de Ponta Grossa/PR",
            "Curitiba"
           ],
           "yaxis": "y"
          },
          {
           "alignmentgroup": "True",
           "hovertemplate": "Nível Tecnológico=Médio-Alto<br>Ano=2018<br>Pessoal=%{x}<br>Espaço Metropolitano=%{y}<extra></extra>",
           "legendgroup": "Médio-Alto",
           "marker": {
            "color": "rgb(178,24,43)"
           },
           "name": "Médio-Alto",
           "offsetgroup": "Médio-Alto",
           "orientation": "h",
           "showlegend": true,
           "textposition": "auto",
           "type": "bar",
           "x": [
            7082,
            5451,
            2862,
            64142
           ],
           "xaxis": "x",
           "y": [
            "Arranjo Populacional de Londrina/PR",
            "Arranjo Populacional de Maringá/PR",
            "Arranjo Populacional de Ponta Grossa/PR",
            "Curitiba"
           ],
           "yaxis": "y"
          },
          {
           "alignmentgroup": "True",
           "hovertemplate": "Nível Tecnológico=Médio-Baixo<br>Ano=2018<br>Pessoal=%{x}<br>Espaço Metropolitano=%{y}<extra></extra>",
           "legendgroup": "Médio-Baixo",
           "marker": {
            "color": "rgb(214,96,77)"
           },
           "name": "Médio-Baixo",
           "offsetgroup": "Médio-Baixo",
           "orientation": "h",
           "showlegend": true,
           "textposition": "auto",
           "type": "bar",
           "x": [
            7961,
            6363,
            4446,
            45825
           ],
           "xaxis": "x",
           "y": [
            "Arranjo Populacional de Londrina/PR",
            "Arranjo Populacional de Maringá/PR",
            "Arranjo Populacional de Ponta Grossa/PR",
            "Curitiba"
           ],
           "yaxis": "y"
          },
          {
           "alignmentgroup": "True",
           "hovertemplate": "Nível Tecnológico=Baixo<br>Ano=2018<br>Pessoal=%{x}<br>Espaço Metropolitano=%{y}<extra></extra>",
           "legendgroup": "Baixo",
           "marker": {
            "color": "rgb(244,165,130)"
           },
           "name": "Baixo",
           "offsetgroup": "Baixo",
           "orientation": "h",
           "showlegend": true,
           "textposition": "auto",
           "type": "bar",
           "x": [
            14070,
            23102,
            10665,
            47017
           ],
           "xaxis": "x",
           "y": [
            "Arranjo Populacional de Londrina/PR",
            "Arranjo Populacional de Maringá/PR",
            "Arranjo Populacional de Ponta Grossa/PR",
            "Curitiba"
           ],
           "yaxis": "y"
          }
         ],
         "name": "2018"
        }
       ],
       "layout": {
        "autosize": true,
        "barmode": "relative",
        "dragmode": "zoom",
        "legend": {
         "title": {
          "text": "Nível Tecnológico"
         },
         "tracegroupgap": 0
        },
        "sliders": [
         {
          "active": 18,
          "currentvalue": {
           "prefix": "Ano="
          },
          "len": 0.9,
          "pad": {
           "b": 10,
           "t": 60
          },
          "steps": [
           {
            "args": [
             [
              "2000"
             ],
             {
              "frame": {
               "duration": 0,
               "redraw": true
              },
              "fromcurrent": true,
              "mode": "immediate",
              "transition": {
               "duration": 0,
               "easing": "linear"
              }
             }
            ],
            "label": "2000",
            "method": "animate"
           },
           {
            "args": [
             [
              "2001"
             ],
             {
              "frame": {
               "duration": 0,
               "redraw": true
              },
              "fromcurrent": true,
              "mode": "immediate",
              "transition": {
               "duration": 0,
               "easing": "linear"
              }
             }
            ],
            "label": "2001",
            "method": "animate"
           },
           {
            "args": [
             [
              "2002"
             ],
             {
              "frame": {
               "duration": 0,
               "redraw": true
              },
              "fromcurrent": true,
              "mode": "immediate",
              "transition": {
               "duration": 0,
               "easing": "linear"
              }
             }
            ],
            "label": "2002",
            "method": "animate"
           },
           {
            "args": [
             [
              "2003"
             ],
             {
              "frame": {
               "duration": 0,
               "redraw": true
              },
              "fromcurrent": true,
              "mode": "immediate",
              "transition": {
               "duration": 0,
               "easing": "linear"
              }
             }
            ],
            "label": "2003",
            "method": "animate"
           },
           {
            "args": [
             [
              "2004"
             ],
             {
              "frame": {
               "duration": 0,
               "redraw": true
              },
              "fromcurrent": true,
              "mode": "immediate",
              "transition": {
               "duration": 0,
               "easing": "linear"
              }
             }
            ],
            "label": "2004",
            "method": "animate"
           },
           {
            "args": [
             [
              "2005"
             ],
             {
              "frame": {
               "duration": 0,
               "redraw": true
              },
              "fromcurrent": true,
              "mode": "immediate",
              "transition": {
               "duration": 0,
               "easing": "linear"
              }
             }
            ],
            "label": "2005",
            "method": "animate"
           },
           {
            "args": [
             [
              "2006"
             ],
             {
              "frame": {
               "duration": 0,
               "redraw": true
              },
              "fromcurrent": true,
              "mode": "immediate",
              "transition": {
               "duration": 0,
               "easing": "linear"
              }
             }
            ],
            "label": "2006",
            "method": "animate"
           },
           {
            "args": [
             [
              "2007"
             ],
             {
              "frame": {
               "duration": 0,
               "redraw": true
              },
              "fromcurrent": true,
              "mode": "immediate",
              "transition": {
               "duration": 0,
               "easing": "linear"
              }
             }
            ],
            "label": "2007",
            "method": "animate"
           },
           {
            "args": [
             [
              "2008"
             ],
             {
              "frame": {
               "duration": 0,
               "redraw": true
              },
              "fromcurrent": true,
              "mode": "immediate",
              "transition": {
               "duration": 0,
               "easing": "linear"
              }
             }
            ],
            "label": "2008",
            "method": "animate"
           },
           {
            "args": [
             [
              "2009"
             ],
             {
              "frame": {
               "duration": 0,
               "redraw": true
              },
              "fromcurrent": true,
              "mode": "immediate",
              "transition": {
               "duration": 0,
               "easing": "linear"
              }
             }
            ],
            "label": "2009",
            "method": "animate"
           },
           {
            "args": [
             [
              "2010"
             ],
             {
              "frame": {
               "duration": 0,
               "redraw": true
              },
              "fromcurrent": true,
              "mode": "immediate",
              "transition": {
               "duration": 0,
               "easing": "linear"
              }
             }
            ],
            "label": "2010",
            "method": "animate"
           },
           {
            "args": [
             [
              "2011"
             ],
             {
              "frame": {
               "duration": 0,
               "redraw": true
              },
              "fromcurrent": true,
              "mode": "immediate",
              "transition": {
               "duration": 0,
               "easing": "linear"
              }
             }
            ],
            "label": "2011",
            "method": "animate"
           },
           {
            "args": [
             [
              "2012"
             ],
             {
              "frame": {
               "duration": 0,
               "redraw": true
              },
              "fromcurrent": true,
              "mode": "immediate",
              "transition": {
               "duration": 0,
               "easing": "linear"
              }
             }
            ],
            "label": "2012",
            "method": "animate"
           },
           {
            "args": [
             [
              "2013"
             ],
             {
              "frame": {
               "duration": 0,
               "redraw": true
              },
              "fromcurrent": true,
              "mode": "immediate",
              "transition": {
               "duration": 0,
               "easing": "linear"
              }
             }
            ],
            "label": "2013",
            "method": "animate"
           },
           {
            "args": [
             [
              "2014"
             ],
             {
              "frame": {
               "duration": 0,
               "redraw": true
              },
              "fromcurrent": true,
              "mode": "immediate",
              "transition": {
               "duration": 0,
               "easing": "linear"
              }
             }
            ],
            "label": "2014",
            "method": "animate"
           },
           {
            "args": [
             [
              "2015"
             ],
             {
              "frame": {
               "duration": 0,
               "redraw": true
              },
              "fromcurrent": true,
              "mode": "immediate",
              "transition": {
               "duration": 0,
               "easing": "linear"
              }
             }
            ],
            "label": "2015",
            "method": "animate"
           },
           {
            "args": [
             [
              "2016"
             ],
             {
              "frame": {
               "duration": 0,
               "redraw": true
              },
              "fromcurrent": true,
              "mode": "immediate",
              "transition": {
               "duration": 0,
               "easing": "linear"
              }
             }
            ],
            "label": "2016",
            "method": "animate"
           },
           {
            "args": [
             [
              "2017"
             ],
             {
              "frame": {
               "duration": 0,
               "redraw": true
              },
              "fromcurrent": true,
              "mode": "immediate",
              "transition": {
               "duration": 0,
               "easing": "linear"
              }
             }
            ],
            "label": "2017",
            "method": "animate"
           },
           {
            "args": [
             [
              "2018"
             ],
             {
              "frame": {
               "duration": 0,
               "redraw": true
              },
              "fromcurrent": true,
              "mode": "immediate",
              "transition": {
               "duration": 0,
               "easing": "linear"
              }
             }
            ],
            "label": "2018",
            "method": "animate"
           }
          ],
          "x": 0.1,
          "xanchor": "left",
          "y": 0,
          "yanchor": "top"
         }
        ],
        "template": {
         "data": {
          "bar": [
           {
            "error_x": {
             "color": "#2a3f5f"
            },
            "error_y": {
             "color": "#2a3f5f"
            },
            "marker": {
             "line": {
              "color": "#E5ECF6",
              "width": 0.5
             }
            },
            "type": "bar"
           }
          ],
          "barpolar": [
           {
            "marker": {
             "line": {
              "color": "#E5ECF6",
              "width": 0.5
             }
            },
            "type": "barpolar"
           }
          ],
          "carpet": [
           {
            "aaxis": {
             "endlinecolor": "#2a3f5f",
             "gridcolor": "white",
             "linecolor": "white",
             "minorgridcolor": "white",
             "startlinecolor": "#2a3f5f"
            },
            "baxis": {
             "endlinecolor": "#2a3f5f",
             "gridcolor": "white",
             "linecolor": "white",
             "minorgridcolor": "white",
             "startlinecolor": "#2a3f5f"
            },
            "type": "carpet"
           }
          ],
          "choropleth": [
           {
            "colorbar": {
             "outlinewidth": 0,
             "ticks": ""
            },
            "type": "choropleth"
           }
          ],
          "contour": [
           {
            "colorbar": {
             "outlinewidth": 0,
             "ticks": ""
            },
            "colorscale": [
             [
              0,
              "#0d0887"
             ],
             [
              0.1111111111111111,
              "#46039f"
             ],
             [
              0.2222222222222222,
              "#7201a8"
             ],
             [
              0.3333333333333333,
              "#9c179e"
             ],
             [
              0.4444444444444444,
              "#bd3786"
             ],
             [
              0.5555555555555556,
              "#d8576b"
             ],
             [
              0.6666666666666666,
              "#ed7953"
             ],
             [
              0.7777777777777778,
              "#fb9f3a"
             ],
             [
              0.8888888888888888,
              "#fdca26"
             ],
             [
              1,
              "#f0f921"
             ]
            ],
            "type": "contour"
           }
          ],
          "contourcarpet": [
           {
            "colorbar": {
             "outlinewidth": 0,
             "ticks": ""
            },
            "type": "contourcarpet"
           }
          ],
          "heatmap": [
           {
            "colorbar": {
             "outlinewidth": 0,
             "ticks": ""
            },
            "colorscale": [
             [
              0,
              "#0d0887"
             ],
             [
              0.1111111111111111,
              "#46039f"
             ],
             [
              0.2222222222222222,
              "#7201a8"
             ],
             [
              0.3333333333333333,
              "#9c179e"
             ],
             [
              0.4444444444444444,
              "#bd3786"
             ],
             [
              0.5555555555555556,
              "#d8576b"
             ],
             [
              0.6666666666666666,
              "#ed7953"
             ],
             [
              0.7777777777777778,
              "#fb9f3a"
             ],
             [
              0.8888888888888888,
              "#fdca26"
             ],
             [
              1,
              "#f0f921"
             ]
            ],
            "type": "heatmap"
           }
          ],
          "heatmapgl": [
           {
            "colorbar": {
             "outlinewidth": 0,
             "ticks": ""
            },
            "colorscale": [
             [
              0,
              "#0d0887"
             ],
             [
              0.1111111111111111,
              "#46039f"
             ],
             [
              0.2222222222222222,
              "#7201a8"
             ],
             [
              0.3333333333333333,
              "#9c179e"
             ],
             [
              0.4444444444444444,
              "#bd3786"
             ],
             [
              0.5555555555555556,
              "#d8576b"
             ],
             [
              0.6666666666666666,
              "#ed7953"
             ],
             [
              0.7777777777777778,
              "#fb9f3a"
             ],
             [
              0.8888888888888888,
              "#fdca26"
             ],
             [
              1,
              "#f0f921"
             ]
            ],
            "type": "heatmapgl"
           }
          ],
          "histogram": [
           {
            "marker": {
             "colorbar": {
              "outlinewidth": 0,
              "ticks": ""
             }
            },
            "type": "histogram"
           }
          ],
          "histogram2d": [
           {
            "colorbar": {
             "outlinewidth": 0,
             "ticks": ""
            },
            "colorscale": [
             [
              0,
              "#0d0887"
             ],
             [
              0.1111111111111111,
              "#46039f"
             ],
             [
              0.2222222222222222,
              "#7201a8"
             ],
             [
              0.3333333333333333,
              "#9c179e"
             ],
             [
              0.4444444444444444,
              "#bd3786"
             ],
             [
              0.5555555555555556,
              "#d8576b"
             ],
             [
              0.6666666666666666,
              "#ed7953"
             ],
             [
              0.7777777777777778,
              "#fb9f3a"
             ],
             [
              0.8888888888888888,
              "#fdca26"
             ],
             [
              1,
              "#f0f921"
             ]
            ],
            "type": "histogram2d"
           }
          ],
          "histogram2dcontour": [
           {
            "colorbar": {
             "outlinewidth": 0,
             "ticks": ""
            },
            "colorscale": [
             [
              0,
              "#0d0887"
             ],
             [
              0.1111111111111111,
              "#46039f"
             ],
             [
              0.2222222222222222,
              "#7201a8"
             ],
             [
              0.3333333333333333,
              "#9c179e"
             ],
             [
              0.4444444444444444,
              "#bd3786"
             ],
             [
              0.5555555555555556,
              "#d8576b"
             ],
             [
              0.6666666666666666,
              "#ed7953"
             ],
             [
              0.7777777777777778,
              "#fb9f3a"
             ],
             [
              0.8888888888888888,
              "#fdca26"
             ],
             [
              1,
              "#f0f921"
             ]
            ],
            "type": "histogram2dcontour"
           }
          ],
          "mesh3d": [
           {
            "colorbar": {
             "outlinewidth": 0,
             "ticks": ""
            },
            "type": "mesh3d"
           }
          ],
          "parcoords": [
           {
            "line": {
             "colorbar": {
              "outlinewidth": 0,
              "ticks": ""
             }
            },
            "type": "parcoords"
           }
          ],
          "pie": [
           {
            "automargin": true,
            "type": "pie"
           }
          ],
          "scatter": [
           {
            "marker": {
             "colorbar": {
              "outlinewidth": 0,
              "ticks": ""
             }
            },
            "type": "scatter"
           }
          ],
          "scatter3d": [
           {
            "line": {
             "colorbar": {
              "outlinewidth": 0,
              "ticks": ""
             }
            },
            "marker": {
             "colorbar": {
              "outlinewidth": 0,
              "ticks": ""
             }
            },
            "type": "scatter3d"
           }
          ],
          "scattercarpet": [
           {
            "marker": {
             "colorbar": {
              "outlinewidth": 0,
              "ticks": ""
             }
            },
            "type": "scattercarpet"
           }
          ],
          "scattergeo": [
           {
            "marker": {
             "colorbar": {
              "outlinewidth": 0,
              "ticks": ""
             }
            },
            "type": "scattergeo"
           }
          ],
          "scattergl": [
           {
            "marker": {
             "colorbar": {
              "outlinewidth": 0,
              "ticks": ""
             }
            },
            "type": "scattergl"
           }
          ],
          "scattermapbox": [
           {
            "marker": {
             "colorbar": {
              "outlinewidth": 0,
              "ticks": ""
             }
            },
            "type": "scattermapbox"
           }
          ],
          "scatterpolar": [
           {
            "marker": {
             "colorbar": {
              "outlinewidth": 0,
              "ticks": ""
             }
            },
            "type": "scatterpolar"
           }
          ],
          "scatterpolargl": [
           {
            "marker": {
             "colorbar": {
              "outlinewidth": 0,
              "ticks": ""
             }
            },
            "type": "scatterpolargl"
           }
          ],
          "scatterternary": [
           {
            "marker": {
             "colorbar": {
              "outlinewidth": 0,
              "ticks": ""
             }
            },
            "type": "scatterternary"
           }
          ],
          "surface": [
           {
            "colorbar": {
             "outlinewidth": 0,
             "ticks": ""
            },
            "colorscale": [
             [
              0,
              "#0d0887"
             ],
             [
              0.1111111111111111,
              "#46039f"
             ],
             [
              0.2222222222222222,
              "#7201a8"
             ],
             [
              0.3333333333333333,
              "#9c179e"
             ],
             [
              0.4444444444444444,
              "#bd3786"
             ],
             [
              0.5555555555555556,
              "#d8576b"
             ],
             [
              0.6666666666666666,
              "#ed7953"
             ],
             [
              0.7777777777777778,
              "#fb9f3a"
             ],
             [
              0.8888888888888888,
              "#fdca26"
             ],
             [
              1,
              "#f0f921"
             ]
            ],
            "type": "surface"
           }
          ],
          "table": [
           {
            "cells": {
             "fill": {
              "color": "#EBF0F8"
             },
             "line": {
              "color": "white"
             }
            },
            "header": {
             "fill": {
              "color": "#C8D4E3"
             },
             "line": {
              "color": "white"
             }
            },
            "type": "table"
           }
          ]
         },
         "layout": {
          "annotationdefaults": {
           "arrowcolor": "#2a3f5f",
           "arrowhead": 0,
           "arrowwidth": 1
          },
          "coloraxis": {
           "colorbar": {
            "outlinewidth": 0,
            "ticks": ""
           }
          },
          "colorscale": {
           "diverging": [
            [
             0,
             "#8e0152"
            ],
            [
             0.1,
             "#c51b7d"
            ],
            [
             0.2,
             "#de77ae"
            ],
            [
             0.3,
             "#f1b6da"
            ],
            [
             0.4,
             "#fde0ef"
            ],
            [
             0.5,
             "#f7f7f7"
            ],
            [
             0.6,
             "#e6f5d0"
            ],
            [
             0.7,
             "#b8e186"
            ],
            [
             0.8,
             "#7fbc41"
            ],
            [
             0.9,
             "#4d9221"
            ],
            [
             1,
             "#276419"
            ]
           ],
           "sequential": [
            [
             0,
             "#0d0887"
            ],
            [
             0.1111111111111111,
             "#46039f"
            ],
            [
             0.2222222222222222,
             "#7201a8"
            ],
            [
             0.3333333333333333,
             "#9c179e"
            ],
            [
             0.4444444444444444,
             "#bd3786"
            ],
            [
             0.5555555555555556,
             "#d8576b"
            ],
            [
             0.6666666666666666,
             "#ed7953"
            ],
            [
             0.7777777777777778,
             "#fb9f3a"
            ],
            [
             0.8888888888888888,
             "#fdca26"
            ],
            [
             1,
             "#f0f921"
            ]
           ],
           "sequentialminus": [
            [
             0,
             "#0d0887"
            ],
            [
             0.1111111111111111,
             "#46039f"
            ],
            [
             0.2222222222222222,
             "#7201a8"
            ],
            [
             0.3333333333333333,
             "#9c179e"
            ],
            [
             0.4444444444444444,
             "#bd3786"
            ],
            [
             0.5555555555555556,
             "#d8576b"
            ],
            [
             0.6666666666666666,
             "#ed7953"
            ],
            [
             0.7777777777777778,
             "#fb9f3a"
            ],
            [
             0.8888888888888888,
             "#fdca26"
            ],
            [
             1,
             "#f0f921"
            ]
           ]
          },
          "colorway": [
           "#636efa",
           "#EF553B",
           "#00cc96",
           "#ab63fa",
           "#FFA15A",
           "#19d3f3",
           "#FF6692",
           "#B6E880",
           "#FF97FF",
           "#FECB52"
          ],
          "font": {
           "color": "#2a3f5f"
          },
          "geo": {
           "bgcolor": "white",
           "lakecolor": "white",
           "landcolor": "#E5ECF6",
           "showlakes": true,
           "showland": true,
           "subunitcolor": "white"
          },
          "hoverlabel": {
           "align": "left"
          },
          "hovermode": "closest",
          "mapbox": {
           "style": "light"
          },
          "paper_bgcolor": "white",
          "plot_bgcolor": "#E5ECF6",
          "polar": {
           "angularaxis": {
            "gridcolor": "white",
            "linecolor": "white",
            "ticks": ""
           },
           "bgcolor": "#E5ECF6",
           "radialaxis": {
            "gridcolor": "white",
            "linecolor": "white",
            "ticks": ""
           }
          },
          "scene": {
           "xaxis": {
            "backgroundcolor": "#E5ECF6",
            "gridcolor": "white",
            "gridwidth": 2,
            "linecolor": "white",
            "showbackground": true,
            "ticks": "",
            "zerolinecolor": "white"
           },
           "yaxis": {
            "backgroundcolor": "#E5ECF6",
            "gridcolor": "white",
            "gridwidth": 2,
            "linecolor": "white",
            "showbackground": true,
            "ticks": "",
            "zerolinecolor": "white"
           },
           "zaxis": {
            "backgroundcolor": "#E5ECF6",
            "gridcolor": "white",
            "gridwidth": 2,
            "linecolor": "white",
            "showbackground": true,
            "ticks": "",
            "zerolinecolor": "white"
           }
          },
          "shapedefaults": {
           "line": {
            "color": "#2a3f5f"
           }
          },
          "ternary": {
           "aaxis": {
            "gridcolor": "white",
            "linecolor": "white",
            "ticks": ""
           },
           "baxis": {
            "gridcolor": "white",
            "linecolor": "white",
            "ticks": ""
           },
           "bgcolor": "#E5ECF6",
           "caxis": {
            "gridcolor": "white",
            "linecolor": "white",
            "ticks": ""
           }
          },
          "title": {
           "x": 0.05
          },
          "xaxis": {
           "automargin": true,
           "gridcolor": "white",
           "linecolor": "white",
           "ticks": "",
           "title": {
            "standoff": 15
           },
           "zerolinecolor": "white",
           "zerolinewidth": 2
          },
          "yaxis": {
           "automargin": true,
           "gridcolor": "white",
           "linecolor": "white",
           "ticks": "",
           "title": {
            "standoff": 15
           },
           "zerolinecolor": "white",
           "zerolinewidth": 2
          }
         }
        },
        "title": {
         "text": "Indústrias no Espaços Metropolitanos Segundo Nível Tecnológico entre 2000 e 2018"
        },
        "updatemenus": [
         {
          "active": 0,
          "buttons": [
           {
            "args": [
             null,
             {
              "frame": {
               "duration": 2000,
               "redraw": true
              },
              "fromcurrent": true,
              "mode": "immediate",
              "transition": {
               "duration": 500,
               "easing": "linear"
              }
             }
            ],
            "label": "&#9654;",
            "method": "animate"
           },
           {
            "args": [
             [
              null
             ],
             {
              "frame": {
               "duration": 0,
               "redraw": true
              },
              "fromcurrent": true,
              "mode": "immediate",
              "transition": {
               "duration": 0,
               "easing": "linear"
              }
             }
            ],
            "label": "&#9724;",
            "method": "animate"
           }
          ],
          "direction": "left",
          "pad": {
           "r": 10,
           "t": 70
          },
          "showactive": false,
          "type": "buttons",
          "x": 0.1,
          "xanchor": "right",
          "y": 0,
          "yanchor": "top"
         }
        ],
        "xaxis": {
         "anchor": "y",
         "autorange": false,
         "domain": [
          0,
          1
         ],
         "range": [
          162.0216659130334,
          18632.491579998838
         ],
         "title": {
          "text": "Pessoal"
         },
         "type": "linear"
        },
        "yaxis": {
         "anchor": "x",
         "autorange": false,
         "categoryarray": [
          "Arranjo Populacional de Ponta Grossa/PR",
          "Arranjo Populacional de Maringá/PR",
          "Arranjo Populacional de Londrina/PR",
          "Curitiba"
         ],
         "categoryorder": "sum ascending",
         "domain": [
          0,
          1
         ],
         "range": [
          -0.5,
          2.470023829582055
         ],
         "title": {
          "text": "Espaço Metropolitano"
         },
         "type": "category"
        }
       }
      },
      "image/png": "[encoded data removed]",
      "text/html": [
       "<div>                            <div id=\"d8c70561-8f64-4004-93e6-167bccea58d8\" class=\"plotly-graph-div\" style=\"height:700px; width:100%;\"></div>            <script type=\"text/javascript\">                require([\"plotly\"], function(Plotly) {                    window.PLOTLYENV=window.PLOTLYENV || {};                                    if (document.getElementById(\"d8c70561-8f64-4004-93e6-167bccea58d8\")) {                    Plotly.newPlot(                        \"d8c70561-8f64-4004-93e6-167bccea58d8\",                        [{\"alignmentgroup\": \"True\", \"hovertemplate\": \"N\\u00edvel Tecnol\\u00f3gico=Alto<br>Ano=2000<br>Pessoal=%{x}<br>Espa\\u00e7o Metropolitano=%{y}<extra></extra>\", \"legendgroup\": \"Alto\", \"marker\": {\"color\": \"rgb(103,0,31)\"}, \"name\": \"Alto\", \"offsetgroup\": \"Alto\", \"orientation\": \"h\", \"showlegend\": true, \"textposition\": \"auto\", \"type\": \"bar\", \"x\": [424, 305, 7, 5175], \"xaxis\": \"x\", \"y\": [\"Arranjo Populacional de Londrina/PR\", \"Arranjo Populacional de Maring\\u00e1/PR\", \"Arranjo Populacional de Ponta Grossa/PR\", \"Curitiba\"], \"yaxis\": \"y\"}, {\"alignmentgroup\": \"True\", \"hovertemplate\": \"N\\u00edvel Tecnol\\u00f3gico=M\\u00e9dio-Alto<br>Ano=2000<br>Pessoal=%{x}<br>Espa\\u00e7o Metropolitano=%{y}<extra></extra>\", \"legendgroup\": \"M\\u00e9dio-Alto\", \"marker\": {\"color\": \"rgb(178,24,43)\"}, \"name\": \"M\\u00e9dio-Alto\", \"offsetgroup\": \"M\\u00e9dio-Alto\", \"orientation\": \"h\", \"showlegend\": true, \"textposition\": \"auto\", \"type\": \"bar\", \"x\": [4900, 2390, 2026, 42667], \"xaxis\": \"x\", \"y\": [\"Arranjo Populacional de Londrina/PR\", \"Arranjo Populacional de Maring\\u00e1/PR\", \"Arranjo Populacional de Ponta Grossa/PR\", \"Curitiba\"], \"yaxis\": \"y\"}, {\"alignmentgroup\": \"True\", \"hovertemplate\": \"N\\u00edvel Tecnol\\u00f3gico=M\\u00e9dio-Baixo<br>Ano=2000<br>Pessoal=%{x}<br>Espa\\u00e7o Metropolitano=%{y}<extra></extra>\", \"legendgroup\": \"M\\u00e9dio-Baixo\", \"marker\": {\"color\": \"rgb(214,96,77)\"}, \"name\": \"M\\u00e9dio-Baixo\", \"offsetgroup\": \"M\\u00e9dio-Baixo\", \"orientation\": \"h\", \"showlegend\": true, \"textposition\": \"auto\", \"type\": \"bar\", \"x\": [5370, 2596, 1758, 28419], \"xaxis\": \"x\", \"y\": [\"Arranjo Populacional de Londrina/PR\", \"Arranjo Populacional de Maring\\u00e1/PR\", \"Arranjo Populacional de Ponta Grossa/PR\", \"Curitiba\"], \"yaxis\": \"y\"}, {\"alignmentgroup\": \"True\", \"hovertemplate\": \"N\\u00edvel Tecnol\\u00f3gico=Baixo<br>Ano=2000<br>Pessoal=%{x}<br>Espa\\u00e7o Metropolitano=%{y}<extra></extra>\", \"legendgroup\": \"Baixo\", \"marker\": {\"color\": \"rgb(244,165,130)\"}, \"name\": \"Baixo\", \"offsetgroup\": \"Baixo\", \"orientation\": \"h\", \"showlegend\": true, \"textposition\": \"auto\", \"type\": \"bar\", \"x\": [14629, 14648, 9238, 41519], \"xaxis\": \"x\", \"y\": [\"Arranjo Populacional de Londrina/PR\", \"Arranjo Populacional de Maring\\u00e1/PR\", \"Arranjo Populacional de Ponta Grossa/PR\", \"Curitiba\"], \"yaxis\": \"y\"}],                        {\"barmode\": \"relative\", \"height\": 700, \"legend\": {\"title\": {\"text\": \"N\\u00edvel Tecnol\\u00f3gico\"}, \"tracegroupgap\": 0}, \"sliders\": [{\"active\": 0, \"currentvalue\": {\"prefix\": \"Ano=\"}, \"len\": 0.9, \"pad\": {\"b\": 10, \"t\": 60}, \"steps\": [{\"args\": [[\"2000\"], {\"frame\": {\"duration\": 0, \"redraw\": true}, \"fromcurrent\": true, \"mode\": \"immediate\", \"transition\": {\"duration\": 0, \"easing\": \"linear\"}}], \"label\": \"2000\", \"method\": \"animate\"}, {\"args\": [[\"2001\"], {\"frame\": {\"duration\": 0, \"redraw\": true}, \"fromcurrent\": true, \"mode\": \"immediate\", \"transition\": {\"duration\": 0, \"easing\": \"linear\"}}], \"label\": \"2001\", \"method\": \"animate\"}, {\"args\": [[\"2002\"], {\"frame\": {\"duration\": 0, \"redraw\": true}, \"fromcurrent\": true, \"mode\": \"immediate\", \"transition\": {\"duration\": 0, \"easing\": \"linear\"}}], \"label\": \"2002\", \"method\": \"animate\"}, {\"args\": [[\"2003\"], {\"frame\": {\"duration\": 0, \"redraw\": true}, \"fromcurrent\": true, \"mode\": \"immediate\", \"transition\": {\"duration\": 0, \"easing\": \"linear\"}}], \"label\": \"2003\", \"method\": \"animate\"}, {\"args\": [[\"2004\"], {\"frame\": {\"duration\": 0, \"redraw\": true}, \"fromcurrent\": true, \"mode\": \"immediate\", \"transition\": {\"duration\": 0, \"easing\": \"linear\"}}], \"label\": \"2004\", \"method\": \"animate\"}, {\"args\": [[\"2005\"], {\"frame\": {\"duration\": 0, \"redraw\": true}, \"fromcurrent\": true, \"mode\": \"immediate\", \"transition\": {\"duration\": 0, \"easing\": \"linear\"}}], \"label\": \"2005\", \"method\": \"animate\"}, {\"args\": [[\"2006\"], {\"frame\": {\"duration\": 0, \"redraw\": true}, \"fromcurrent\": true, \"mode\": \"immediate\", \"transition\": {\"duration\": 0, \"easing\": \"linear\"}}], \"label\": \"2006\", \"method\": \"animate\"}, {\"args\": [[\"2007\"], {\"frame\": {\"duration\": 0, \"redraw\": true}, \"fromcurrent\": true, \"mode\": \"immediate\", \"transition\": {\"duration\": 0, \"easing\": \"linear\"}}], \"label\": \"2007\", \"method\": \"animate\"}, {\"args\": [[\"2008\"], {\"frame\": {\"duration\": 0, \"redraw\": true}, \"fromcurrent\": true, \"mode\": \"immediate\", \"transition\": {\"duration\": 0, \"easing\": \"linear\"}}], \"label\": \"2008\", \"method\": \"animate\"}, {\"args\": [[\"2009\"], {\"frame\": {\"duration\": 0, \"redraw\": true}, \"fromcurrent\": true, \"mode\": \"immediate\", \"transition\": {\"duration\": 0, \"easing\": \"linear\"}}], \"label\": \"2009\", \"method\": \"animate\"}, {\"args\": [[\"2010\"], {\"frame\": {\"duration\": 0, \"redraw\": true}, \"fromcurrent\": true, \"mode\": \"immediate\", \"transition\": {\"duration\": 0, \"easing\": \"linear\"}}], \"label\": \"2010\", \"method\": \"animate\"}, {\"args\": [[\"2011\"], {\"frame\": {\"duration\": 0, \"redraw\": true}, \"fromcurrent\": true, \"mode\": \"immediate\", \"transition\": {\"duration\": 0, \"easing\": \"linear\"}}], \"label\": \"2011\", \"method\": \"animate\"}, {\"args\": [[\"2012\"], {\"frame\": {\"duration\": 0, \"redraw\": true}, \"fromcurrent\": true, \"mode\": \"immediate\", \"transition\": {\"duration\": 0, \"easing\": \"linear\"}}], \"label\": \"2012\", \"method\": \"animate\"}, {\"args\": [[\"2013\"], {\"frame\": {\"duration\": 0, \"redraw\": true}, \"fromcurrent\": true, \"mode\": \"immediate\", \"transition\": {\"duration\": 0, \"easing\": \"linear\"}}], \"label\": \"2013\", \"method\": \"animate\"}, {\"args\": [[\"2014\"], {\"frame\": {\"duration\": 0, \"redraw\": true}, \"fromcurrent\": true, \"mode\": \"immediate\", \"transition\": {\"duration\": 0, \"easing\": \"linear\"}}], \"label\": \"2014\", \"method\": \"animate\"}, {\"args\": [[\"2015\"], {\"frame\": {\"duration\": 0, \"redraw\": true}, \"fromcurrent\": true, \"mode\": \"immediate\", \"transition\": {\"duration\": 0, \"easing\": \"linear\"}}], \"label\": \"2015\", \"method\": \"animate\"}, {\"args\": [[\"2016\"], {\"frame\": {\"duration\": 0, \"redraw\": true}, \"fromcurrent\": true, \"mode\": \"immediate\", \"transition\": {\"duration\": 0, \"easing\": \"linear\"}}], \"label\": \"2016\", \"method\": \"animate\"}, {\"args\": [[\"2017\"], {\"frame\": {\"duration\": 0, \"redraw\": true}, \"fromcurrent\": true, \"mode\": \"immediate\", \"transition\": {\"duration\": 0, \"easing\": \"linear\"}}], \"label\": \"2017\", \"method\": \"animate\"}, {\"args\": [[\"2018\"], {\"frame\": {\"duration\": 0, \"redraw\": true}, \"fromcurrent\": true, \"mode\": \"immediate\", \"transition\": {\"duration\": 0, \"easing\": \"linear\"}}], \"label\": \"2018\", \"method\": \"animate\"}], \"x\": 0.1, \"xanchor\": \"left\", \"y\": 0, \"yanchor\": \"top\"}], \"template\": {\"data\": {\"bar\": [{\"error_x\": {\"color\": \"#2a3f5f\"}, \"error_y\": {\"color\": \"#2a3f5f\"}, \"marker\": {\"line\": {\"color\": \"#E5ECF6\", \"width\": 0.5}}, \"type\": \"bar\"}], \"barpolar\": [{\"marker\": {\"line\": {\"color\": \"#E5ECF6\", \"width\": 0.5}}, \"type\": \"barpolar\"}], \"carpet\": [{\"aaxis\": {\"endlinecolor\": \"#2a3f5f\", \"gridcolor\": \"white\", \"linecolor\": \"white\", \"minorgridcolor\": \"white\", \"startlinecolor\": \"#2a3f5f\"}, \"baxis\": {\"endlinecolor\": \"#2a3f5f\", \"gridcolor\": \"white\", \"linecolor\": \"white\", \"minorgridcolor\": \"white\", \"startlinecolor\": \"#2a3f5f\"}, \"type\": \"carpet\"}], \"choropleth\": [{\"colorbar\": {\"outlinewidth\": 0, \"ticks\": \"\"}, \"type\": \"choropleth\"}], \"contour\": [{\"colorbar\": {\"outlinewidth\": 0, \"ticks\": \"\"}, \"colorscale\": [[0.0, \"#0d0887\"], [0.1111111111111111, \"#46039f\"], [0.2222222222222222, \"#7201a8\"], [0.3333333333333333, \"#9c179e\"], [0.4444444444444444, \"#bd3786\"], [0.5555555555555556, \"#d8576b\"], [0.6666666666666666, \"#ed7953\"], [0.7777777777777778, \"#fb9f3a\"], [0.8888888888888888, \"#fdca26\"], [1.0, \"#f0f921\"]], \"type\": \"contour\"}], \"contourcarpet\": [{\"colorbar\": {\"outlinewidth\": 0, \"ticks\": \"\"}, \"type\": \"contourcarpet\"}], \"heatmap\": [{\"colorbar\": {\"outlinewidth\": 0, \"ticks\": \"\"}, \"colorscale\": [[0.0, \"#0d0887\"], [0.1111111111111111, \"#46039f\"], [0.2222222222222222, \"#7201a8\"], [0.3333333333333333, \"#9c179e\"], [0.4444444444444444, \"#bd3786\"], [0.5555555555555556, \"#d8576b\"], [0.6666666666666666, \"#ed7953\"], [0.7777777777777778, \"#fb9f3a\"], [0.8888888888888888, \"#fdca26\"], [1.0, \"#f0f921\"]], \"type\": \"heatmap\"}], \"heatmapgl\": [{\"colorbar\": {\"outlinewidth\": 0, \"ticks\": \"\"}, \"colorscale\": [[0.0, \"#0d0887\"], [0.1111111111111111, \"#46039f\"], [0.2222222222222222, \"#7201a8\"], [0.3333333333333333, \"#9c179e\"], [0.4444444444444444, \"#bd3786\"], [0.5555555555555556, \"#d8576b\"], [0.6666666666666666, \"#ed7953\"], [0.7777777777777778, \"#fb9f3a\"], [0.8888888888888888, \"#fdca26\"], [1.0, \"#f0f921\"]], \"type\": \"heatmapgl\"}], \"histogram\": [{\"marker\": {\"colorbar\": {\"outlinewidth\": 0, \"ticks\": \"\"}}, \"type\": \"histogram\"}], \"histogram2d\": [{\"colorbar\": {\"outlinewidth\": 0, \"ticks\": \"\"}, \"colorscale\": [[0.0, \"#0d0887\"], [0.1111111111111111, \"#46039f\"], [0.2222222222222222, \"#7201a8\"], [0.3333333333333333, \"#9c179e\"], [0.4444444444444444, \"#bd3786\"], [0.5555555555555556, \"#d8576b\"], [0.6666666666666666, \"#ed7953\"], [0.7777777777777778, \"#fb9f3a\"], [0.8888888888888888, \"#fdca26\"], [1.0, \"#f0f921\"]], \"type\": \"histogram2d\"}], \"histogram2dcontour\": [{\"colorbar\": {\"outlinewidth\": 0, \"ticks\": \"\"}, \"colorscale\": [[0.0, \"#0d0887\"], [0.1111111111111111, \"#46039f\"], [0.2222222222222222, \"#7201a8\"], [0.3333333333333333, \"#9c179e\"], [0.4444444444444444, \"#bd3786\"], [0.5555555555555556, \"#d8576b\"], [0.6666666666666666, \"#ed7953\"], [0.7777777777777778, \"#fb9f3a\"], [0.8888888888888888, \"#fdca26\"], [1.0, \"#f0f921\"]], \"type\": \"histogram2dcontour\"}], \"mesh3d\": [{\"colorbar\": {\"outlinewidth\": 0, \"ticks\": \"\"}, \"type\": \"mesh3d\"}], \"parcoords\": [{\"line\": {\"colorbar\": {\"outlinewidth\": 0, \"ticks\": \"\"}}, \"type\": \"parcoords\"}], \"pie\": [{\"automargin\": true, \"type\": \"pie\"}], \"scatter\": [{\"marker\": {\"colorbar\": {\"outlinewidth\": 0, \"ticks\": \"\"}}, \"type\": \"scatter\"}], \"scatter3d\": [{\"line\": {\"colorbar\": {\"outlinewidth\": 0, \"ticks\": \"\"}}, \"marker\": {\"colorbar\": {\"outlinewidth\": 0, \"ticks\": \"\"}}, \"type\": \"scatter3d\"}], \"scattercarpet\": [{\"marker\": {\"colorbar\": {\"outlinewidth\": 0, \"ticks\": \"\"}}, \"type\": \"scattercarpet\"}], \"scattergeo\": [{\"marker\": {\"colorbar\": {\"outlinewidth\": 0, \"ticks\": \"\"}}, \"type\": \"scattergeo\"}], \"scattergl\": [{\"marker\": {\"colorbar\": {\"outlinewidth\": 0, \"ticks\": \"\"}}, \"type\": \"scattergl\"}], \"scattermapbox\": [{\"marker\": {\"colorbar\": {\"outlinewidth\": 0, \"ticks\": \"\"}}, \"type\": \"scattermapbox\"}], \"scatterpolar\": [{\"marker\": {\"colorbar\": {\"outlinewidth\": 0, \"ticks\": \"\"}}, \"type\": \"scatterpolar\"}], \"scatterpolargl\": [{\"marker\": {\"colorbar\": {\"outlinewidth\": 0, \"ticks\": \"\"}}, \"type\": \"scatterpolargl\"}], \"scatterternary\": [{\"marker\": {\"colorbar\": {\"outlinewidth\": 0, \"ticks\": \"\"}}, \"type\": \"scatterternary\"}], \"surface\": [{\"colorbar\": {\"outlinewidth\": 0, \"ticks\": \"\"}, \"colorscale\": [[0.0, \"#0d0887\"], [0.1111111111111111, \"#46039f\"], [0.2222222222222222, \"#7201a8\"], [0.3333333333333333, \"#9c179e\"], [0.4444444444444444, \"#bd3786\"], [0.5555555555555556, \"#d8576b\"], [0.6666666666666666, \"#ed7953\"], [0.7777777777777778, \"#fb9f3a\"], [0.8888888888888888, \"#fdca26\"], [1.0, \"#f0f921\"]], \"type\": \"surface\"}], \"table\": [{\"cells\": {\"fill\": {\"color\": \"#EBF0F8\"}, \"line\": {\"color\": \"white\"}}, \"header\": {\"fill\": {\"color\": \"#C8D4E3\"}, \"line\": {\"color\": \"white\"}}, \"type\": \"table\"}]}, \"layout\": {\"annotationdefaults\": {\"arrowcolor\": \"#2a3f5f\", \"arrowhead\": 0, \"arrowwidth\": 1}, \"coloraxis\": {\"colorbar\": {\"outlinewidth\": 0, \"ticks\": \"\"}}, \"colorscale\": {\"diverging\": [[0, \"#8e0152\"], [0.1, \"#c51b7d\"], [0.2, \"#de77ae\"], [0.3, \"#f1b6da\"], [0.4, \"#fde0ef\"], [0.5, \"#f7f7f7\"], [0.6, \"#e6f5d0\"], [0.7, \"#b8e186\"], [0.8, \"#7fbc41\"], [0.9, \"#4d9221\"], [1, \"#276419\"]], \"sequential\": [[0.0, \"#0d0887\"], [0.1111111111111111, \"#46039f\"], [0.2222222222222222, \"#7201a8\"], [0.3333333333333333, \"#9c179e\"], [0.4444444444444444, \"#bd3786\"], [0.5555555555555556, \"#d8576b\"], [0.6666666666666666, \"#ed7953\"], [0.7777777777777778, \"#fb9f3a\"], [0.8888888888888888, \"#fdca26\"], [1.0, \"#f0f921\"]], \"sequentialminus\": [[0.0, \"#0d0887\"], [0.1111111111111111, \"#46039f\"], [0.2222222222222222, \"#7201a8\"], [0.3333333333333333, \"#9c179e\"], [0.4444444444444444, \"#bd3786\"], [0.5555555555555556, \"#d8576b\"], [0.6666666666666666, \"#ed7953\"], [0.7777777777777778, \"#fb9f3a\"], [0.8888888888888888, \"#fdca26\"], [1.0, \"#f0f921\"]]}, \"colorway\": [\"#636efa\", \"#EF553B\", \"#00cc96\", \"#ab63fa\", \"#FFA15A\", \"#19d3f3\", \"#FF6692\", \"#B6E880\", \"#FF97FF\", \"#FECB52\"], \"font\": {\"color\": \"#2a3f5f\"}, \"geo\": {\"bgcolor\": \"white\", \"lakecolor\": \"white\", \"landcolor\": \"#E5ECF6\", \"showlakes\": true, \"showland\": true, \"subunitcolor\": \"white\"}, \"hoverlabel\": {\"align\": \"left\"}, \"hovermode\": \"closest\", \"mapbox\": {\"style\": \"light\"}, \"paper_bgcolor\": \"white\", \"plot_bgcolor\": \"#E5ECF6\", \"polar\": {\"angularaxis\": {\"gridcolor\": \"white\", \"linecolor\": \"white\", \"ticks\": \"\"}, \"bgcolor\": \"#E5ECF6\", \"radialaxis\": {\"gridcolor\": \"white\", \"linecolor\": \"white\", \"ticks\": \"\"}}, \"scene\": {\"xaxis\": {\"backgroundcolor\": \"#E5ECF6\", \"gridcolor\": \"white\", \"gridwidth\": 2, \"linecolor\": \"white\", \"showbackground\": true, \"ticks\": \"\", \"zerolinecolor\": \"white\"}, \"yaxis\": {\"backgroundcolor\": \"#E5ECF6\", \"gridcolor\": \"white\", \"gridwidth\": 2, \"linecolor\": \"white\", \"showbackground\": true, \"ticks\": \"\", \"zerolinecolor\": \"white\"}, \"zaxis\": {\"backgroundcolor\": \"#E5ECF6\", \"gridcolor\": \"white\", \"gridwidth\": 2, \"linecolor\": \"white\", \"showbackground\": true, \"ticks\": \"\", \"zerolinecolor\": \"white\"}}, \"shapedefaults\": {\"line\": {\"color\": \"#2a3f5f\"}}, \"ternary\": {\"aaxis\": {\"gridcolor\": \"white\", \"linecolor\": \"white\", \"ticks\": \"\"}, \"baxis\": {\"gridcolor\": \"white\", \"linecolor\": \"white\", \"ticks\": \"\"}, \"bgcolor\": \"#E5ECF6\", \"caxis\": {\"gridcolor\": \"white\", \"linecolor\": \"white\", \"ticks\": \"\"}}, \"title\": {\"x\": 0.05}, \"xaxis\": {\"automargin\": true, \"gridcolor\": \"white\", \"linecolor\": \"white\", \"ticks\": \"\", \"title\": {\"standoff\": 15}, \"zerolinecolor\": \"white\", \"zerolinewidth\": 2}, \"yaxis\": {\"automargin\": true, \"gridcolor\": \"white\", \"linecolor\": \"white\", \"ticks\": \"\", \"title\": {\"standoff\": 15}, \"zerolinecolor\": \"white\", \"zerolinewidth\": 2}}}, \"title\": {\"text\": \"Ind\\u00fastrias no Espa\\u00e7os Metropolitanos Segundo N\\u00edvel Tecnol\\u00f3gico entre 2000 e 2018\"}, \"updatemenus\": [{\"buttons\": [{\"args\": [null, {\"frame\": {\"duration\": 2000, \"redraw\": true}, \"fromcurrent\": true, \"mode\": \"immediate\", \"transition\": {\"duration\": 500, \"easing\": \"linear\"}}], \"label\": \"&#9654;\", \"method\": \"animate\"}, {\"args\": [[null], {\"frame\": {\"duration\": 0, \"redraw\": true}, \"fromcurrent\": true, \"mode\": \"immediate\", \"transition\": {\"duration\": 0, \"easing\": \"linear\"}}], \"label\": \"&#9724;\", \"method\": \"animate\"}], \"direction\": \"left\", \"pad\": {\"r\": 10, \"t\": 70}, \"showactive\": false, \"type\": \"buttons\", \"x\": 0.1, \"xanchor\": \"right\", \"y\": 0, \"yanchor\": \"top\"}], \"xaxis\": {\"anchor\": \"y\", \"domain\": [0.0, 1.0], \"range\": [0, 250000], \"title\": {\"text\": \"Pessoal\"}}, \"yaxis\": {\"anchor\": \"x\", \"categoryarray\": [\"Arranjo Populacional de Ponta Grossa/PR\", \"Arranjo Populacional de Maring\\u00e1/PR\", \"Arranjo Populacional de Londrina/PR\", \"Curitiba\"], \"categoryorder\": \"sum ascending\", \"domain\": [0.0, 1.0], \"title\": {\"text\": \"Espa\\u00e7o Metropolitano\"}}},                        {\"responsive\": true}                    ).then(function(){\n",
       "                            Plotly.addFrames('d8c70561-8f64-4004-93e6-167bccea58d8', [{\"data\": [{\"alignmentgroup\": \"True\", \"hovertemplate\": \"N\\u00edvel Tecnol\\u00f3gico=Alto<br>Ano=2000<br>Pessoal=%{x}<br>Espa\\u00e7o Metropolitano=%{y}<extra></extra>\", \"legendgroup\": \"Alto\", \"marker\": {\"color\": \"rgb(103,0,31)\"}, \"name\": \"Alto\", \"offsetgroup\": \"Alto\", \"orientation\": \"h\", \"showlegend\": true, \"textposition\": \"auto\", \"x\": [424, 305, 7, 5175], \"xaxis\": \"x\", \"y\": [\"Arranjo Populacional de Londrina/PR\", \"Arranjo Populacional de Maring\\u00e1/PR\", \"Arranjo Populacional de Ponta Grossa/PR\", \"Curitiba\"], \"yaxis\": \"y\", \"type\": \"bar\"}, {\"alignmentgroup\": \"True\", \"hovertemplate\": \"N\\u00edvel Tecnol\\u00f3gico=M\\u00e9dio-Alto<br>Ano=2000<br>Pessoal=%{x}<br>Espa\\u00e7o Metropolitano=%{y}<extra></extra>\", \"legendgroup\": \"M\\u00e9dio-Alto\", \"marker\": {\"color\": \"rgb(178,24,43)\"}, \"name\": \"M\\u00e9dio-Alto\", \"offsetgroup\": \"M\\u00e9dio-Alto\", \"orientation\": \"h\", \"showlegend\": true, \"textposition\": \"auto\", \"x\": [4900, 2390, 2026, 42667], \"xaxis\": \"x\", \"y\": [\"Arranjo Populacional de Londrina/PR\", \"Arranjo Populacional de Maring\\u00e1/PR\", \"Arranjo Populacional de Ponta Grossa/PR\", \"Curitiba\"], \"yaxis\": \"y\", \"type\": \"bar\"}, {\"alignmentgroup\": \"True\", \"hovertemplate\": \"N\\u00edvel Tecnol\\u00f3gico=M\\u00e9dio-Baixo<br>Ano=2000<br>Pessoal=%{x}<br>Espa\\u00e7o Metropolitano=%{y}<extra></extra>\", \"legendgroup\": \"M\\u00e9dio-Baixo\", \"marker\": {\"color\": \"rgb(214,96,77)\"}, \"name\": \"M\\u00e9dio-Baixo\", \"offsetgroup\": \"M\\u00e9dio-Baixo\", \"orientation\": \"h\", \"showlegend\": true, \"textposition\": \"auto\", \"x\": [5370, 2596, 1758, 28419], \"xaxis\": \"x\", \"y\": [\"Arranjo Populacional de Londrina/PR\", \"Arranjo Populacional de Maring\\u00e1/PR\", \"Arranjo Populacional de Ponta Grossa/PR\", \"Curitiba\"], \"yaxis\": \"y\", \"type\": \"bar\"}, {\"alignmentgroup\": \"True\", \"hovertemplate\": \"N\\u00edvel Tecnol\\u00f3gico=Baixo<br>Ano=2000<br>Pessoal=%{x}<br>Espa\\u00e7o Metropolitano=%{y}<extra></extra>\", \"legendgroup\": \"Baixo\", \"marker\": {\"color\": \"rgb(244,165,130)\"}, \"name\": \"Baixo\", \"offsetgroup\": \"Baixo\", \"orientation\": \"h\", \"showlegend\": true, \"textposition\": \"auto\", \"x\": [14629, 14648, 9238, 41519], \"xaxis\": \"x\", \"y\": [\"Arranjo Populacional de Londrina/PR\", \"Arranjo Populacional de Maring\\u00e1/PR\", \"Arranjo Populacional de Ponta Grossa/PR\", \"Curitiba\"], \"yaxis\": \"y\", \"type\": \"bar\"}], \"name\": \"2000\"}, {\"data\": [{\"alignmentgroup\": \"True\", \"hovertemplate\": \"N\\u00edvel Tecnol\\u00f3gico=Alto<br>Ano=2001<br>Pessoal=%{x}<br>Espa\\u00e7o Metropolitano=%{y}<extra></extra>\", \"legendgroup\": \"Alto\", \"marker\": {\"color\": \"rgb(103,0,31)\"}, \"name\": \"Alto\", \"offsetgroup\": \"Alto\", \"orientation\": \"h\", \"showlegend\": true, \"textposition\": \"auto\", \"x\": [474, 430, 7, 4388], \"xaxis\": \"x\", \"y\": [\"Arranjo Populacional de Londrina/PR\", \"Arranjo Populacional de Maring\\u00e1/PR\", \"Arranjo Populacional de Ponta Grossa/PR\", \"Curitiba\"], \"yaxis\": \"y\", \"type\": \"bar\"}, {\"alignmentgroup\": \"True\", \"hovertemplate\": \"N\\u00edvel Tecnol\\u00f3gico=M\\u00e9dio-Alto<br>Ano=2001<br>Pessoal=%{x}<br>Espa\\u00e7o Metropolitano=%{y}<extra></extra>\", \"legendgroup\": \"M\\u00e9dio-Alto\", \"marker\": {\"color\": \"rgb(178,24,43)\"}, \"name\": \"M\\u00e9dio-Alto\", \"offsetgroup\": \"M\\u00e9dio-Alto\", \"orientation\": \"h\", \"showlegend\": true, \"textposition\": \"auto\", \"x\": [4688, 2714, 1971, 42655], \"xaxis\": \"x\", \"y\": [\"Arranjo Populacional de Londrina/PR\", \"Arranjo Populacional de Maring\\u00e1/PR\", \"Arranjo Populacional de Ponta Grossa/PR\", \"Curitiba\"], \"yaxis\": \"y\", \"type\": \"bar\"}, {\"alignmentgroup\": \"True\", \"hovertemplate\": \"N\\u00edvel Tecnol\\u00f3gico=M\\u00e9dio-Baixo<br>Ano=2001<br>Pessoal=%{x}<br>Espa\\u00e7o Metropolitano=%{y}<extra></extra>\", \"legendgroup\": \"M\\u00e9dio-Baixo\", \"marker\": {\"color\": \"rgb(214,96,77)\"}, \"name\": \"M\\u00e9dio-Baixo\", \"offsetgroup\": \"M\\u00e9dio-Baixo\", \"orientation\": \"h\", \"showlegend\": true, \"textposition\": \"auto\", \"x\": [5255, 3262, 1755, 29305], \"xaxis\": \"x\", \"y\": [\"Arranjo Populacional de Londrina/PR\", \"Arranjo Populacional de Maring\\u00e1/PR\", \"Arranjo Populacional de Ponta Grossa/PR\", \"Curitiba\"], \"yaxis\": \"y\", \"type\": \"bar\"}, {\"alignmentgroup\": \"True\", \"hovertemplate\": \"N\\u00edvel Tecnol\\u00f3gico=Baixo<br>Ano=2001<br>Pessoal=%{x}<br>Espa\\u00e7o Metropolitano=%{y}<extra></extra>\", \"legendgroup\": \"Baixo\", \"marker\": {\"color\": \"rgb(244,165,130)\"}, \"name\": \"Baixo\", \"offsetgroup\": \"Baixo\", \"orientation\": \"h\", \"showlegend\": true, \"textposition\": \"auto\", \"x\": [14380, 15203, 10075, 42023], \"xaxis\": \"x\", \"y\": [\"Arranjo Populacional de Londrina/PR\", \"Arranjo Populacional de Maring\\u00e1/PR\", \"Arranjo Populacional de Ponta Grossa/PR\", \"Curitiba\"], \"yaxis\": \"y\", \"type\": \"bar\"}], \"name\": \"2001\"}, {\"data\": [{\"alignmentgroup\": \"True\", \"hovertemplate\": \"N\\u00edvel Tecnol\\u00f3gico=Alto<br>Ano=2002<br>Pessoal=%{x}<br>Espa\\u00e7o Metropolitano=%{y}<extra></extra>\", \"legendgroup\": \"Alto\", \"marker\": {\"color\": \"rgb(103,0,31)\"}, \"name\": \"Alto\", \"offsetgroup\": \"Alto\", \"orientation\": \"h\", \"showlegend\": true, \"textposition\": \"auto\", \"x\": [529, 628, 10, 4368], \"xaxis\": \"x\", \"y\": [\"Arranjo Populacional de Londrina/PR\", \"Arranjo Populacional de Maring\\u00e1/PR\", \"Arranjo Populacional de Ponta Grossa/PR\", \"Curitiba\"], \"yaxis\": \"y\", \"type\": \"bar\"}, {\"alignmentgroup\": \"True\", \"hovertemplate\": \"N\\u00edvel Tecnol\\u00f3gico=M\\u00e9dio-Alto<br>Ano=2002<br>Pessoal=%{x}<br>Espa\\u00e7o Metropolitano=%{y}<extra></extra>\", \"legendgroup\": \"M\\u00e9dio-Alto\", \"marker\": {\"color\": \"rgb(178,24,43)\"}, \"name\": \"M\\u00e9dio-Alto\", \"offsetgroup\": \"M\\u00e9dio-Alto\", \"orientation\": \"h\", \"showlegend\": true, \"textposition\": \"auto\", \"x\": [5050, 2929, 1959, 44821], \"xaxis\": \"x\", \"y\": [\"Arranjo Populacional de Londrina/PR\", \"Arranjo Populacional de Maring\\u00e1/PR\", \"Arranjo Populacional de Ponta Grossa/PR\", \"Curitiba\"], \"yaxis\": \"y\", \"type\": \"bar\"}, {\"alignmentgroup\": \"True\", \"hovertemplate\": \"N\\u00edvel Tecnol\\u00f3gico=M\\u00e9dio-Baixo<br>Ano=2002<br>Pessoal=%{x}<br>Espa\\u00e7o Metropolitano=%{y}<extra></extra>\", \"legendgroup\": \"M\\u00e9dio-Baixo\", \"marker\": {\"color\": \"rgb(214,96,77)\"}, \"name\": \"M\\u00e9dio-Baixo\", \"offsetgroup\": \"M\\u00e9dio-Baixo\", \"orientation\": \"h\", \"showlegend\": true, \"textposition\": \"auto\", \"x\": [6114, 3486, 1781, 29838], \"xaxis\": \"x\", \"y\": [\"Arranjo Populacional de Londrina/PR\", \"Arranjo Populacional de Maring\\u00e1/PR\", \"Arranjo Populacional de Ponta Grossa/PR\", \"Curitiba\"], \"yaxis\": \"y\", \"type\": \"bar\"}, {\"alignmentgroup\": \"True\", \"hovertemplate\": \"N\\u00edvel Tecnol\\u00f3gico=Baixo<br>Ano=2002<br>Pessoal=%{x}<br>Espa\\u00e7o Metropolitano=%{y}<extra></extra>\", \"legendgroup\": \"Baixo\", \"marker\": {\"color\": \"rgb(244,165,130)\"}, \"name\": \"Baixo\", \"offsetgroup\": \"Baixo\", \"orientation\": \"h\", \"showlegend\": true, \"textposition\": \"auto\", \"x\": [16173, 17199, 10715, 44934], \"xaxis\": \"x\", \"y\": [\"Arranjo Populacional de Londrina/PR\", \"Arranjo Populacional de Maring\\u00e1/PR\", \"Arranjo Populacional de Ponta Grossa/PR\", \"Curitiba\"], \"yaxis\": \"y\", \"type\": \"bar\"}], \"name\": \"2002\"}, {\"data\": [{\"alignmentgroup\": \"True\", \"hovertemplate\": \"N\\u00edvel Tecnol\\u00f3gico=Alto<br>Ano=2003<br>Pessoal=%{x}<br>Espa\\u00e7o Metropolitano=%{y}<extra></extra>\", \"legendgroup\": \"Alto\", \"marker\": {\"color\": \"rgb(103,0,31)\"}, \"name\": \"Alto\", \"offsetgroup\": \"Alto\", \"orientation\": \"h\", \"showlegend\": true, \"textposition\": \"auto\", \"x\": [596, 330, 10, 4758], \"xaxis\": \"x\", \"y\": [\"Arranjo Populacional de Londrina/PR\", \"Arranjo Populacional de Maring\\u00e1/PR\", \"Arranjo Populacional de Ponta Grossa/PR\", \"Curitiba\"], \"yaxis\": \"y\", \"type\": \"bar\"}, {\"alignmentgroup\": \"True\", \"hovertemplate\": \"N\\u00edvel Tecnol\\u00f3gico=M\\u00e9dio-Alto<br>Ano=2003<br>Pessoal=%{x}<br>Espa\\u00e7o Metropolitano=%{y}<extra></extra>\", \"legendgroup\": \"M\\u00e9dio-Alto\", \"marker\": {\"color\": \"rgb(178,24,43)\"}, \"name\": \"M\\u00e9dio-Alto\", \"offsetgroup\": \"M\\u00e9dio-Alto\", \"orientation\": \"h\", \"showlegend\": true, \"textposition\": \"auto\", \"x\": [3944, 3017, 1700, 44439], \"xaxis\": \"x\", \"y\": [\"Arranjo Populacional de Londrina/PR\", \"Arranjo Populacional de Maring\\u00e1/PR\", \"Arranjo Populacional de Ponta Grossa/PR\", \"Curitiba\"], \"yaxis\": \"y\", \"type\": \"bar\"}, {\"alignmentgroup\": \"True\", \"hovertemplate\": \"N\\u00edvel Tecnol\\u00f3gico=M\\u00e9dio-Baixo<br>Ano=2003<br>Pessoal=%{x}<br>Espa\\u00e7o Metropolitano=%{y}<extra></extra>\", \"legendgroup\": \"M\\u00e9dio-Baixo\", \"marker\": {\"color\": \"rgb(214,96,77)\"}, \"name\": \"M\\u00e9dio-Baixo\", \"offsetgroup\": \"M\\u00e9dio-Baixo\", \"orientation\": \"h\", \"showlegend\": true, \"textposition\": \"auto\", \"x\": [6700, 3611, 2016, 32065], \"xaxis\": \"x\", \"y\": [\"Arranjo Populacional de Londrina/PR\", \"Arranjo Populacional de Maring\\u00e1/PR\", \"Arranjo Populacional de Ponta Grossa/PR\", \"Curitiba\"], \"yaxis\": \"y\", \"type\": \"bar\"}, {\"alignmentgroup\": \"True\", \"hovertemplate\": \"N\\u00edvel Tecnol\\u00f3gico=Baixo<br>Ano=2003<br>Pessoal=%{x}<br>Espa\\u00e7o Metropolitano=%{y}<extra></extra>\", \"legendgroup\": \"Baixo\", \"marker\": {\"color\": \"rgb(244,165,130)\"}, \"name\": \"Baixo\", \"offsetgroup\": \"Baixo\", \"orientation\": \"h\", \"showlegend\": true, \"textposition\": \"auto\", \"x\": [16317, 18349, 11948, 45726], \"xaxis\": \"x\", \"y\": [\"Arranjo Populacional de Londrina/PR\", \"Arranjo Populacional de Maring\\u00e1/PR\", \"Arranjo Populacional de Ponta Grossa/PR\", \"Curitiba\"], \"yaxis\": \"y\", \"type\": \"bar\"}], \"name\": \"2003\"}, {\"data\": [{\"alignmentgroup\": \"True\", \"hovertemplate\": \"N\\u00edvel Tecnol\\u00f3gico=Alto<br>Ano=2004<br>Pessoal=%{x}<br>Espa\\u00e7o Metropolitano=%{y}<extra></extra>\", \"legendgroup\": \"Alto\", \"marker\": {\"color\": \"rgb(103,0,31)\"}, \"name\": \"Alto\", \"offsetgroup\": \"Alto\", \"orientation\": \"h\", \"showlegend\": true, \"textposition\": \"auto\", \"x\": [918, 556, 9, 5090], \"xaxis\": \"x\", \"y\": [\"Arranjo Populacional de Londrina/PR\", \"Arranjo Populacional de Maring\\u00e1/PR\", \"Arranjo Populacional de Ponta Grossa/PR\", \"Curitiba\"], \"yaxis\": \"y\", \"type\": \"bar\"}, {\"alignmentgroup\": \"True\", \"hovertemplate\": \"N\\u00edvel Tecnol\\u00f3gico=M\\u00e9dio-Alto<br>Ano=2004<br>Pessoal=%{x}<br>Espa\\u00e7o Metropolitano=%{y}<extra></extra>\", \"legendgroup\": \"M\\u00e9dio-Alto\", \"marker\": {\"color\": \"rgb(178,24,43)\"}, \"name\": \"M\\u00e9dio-Alto\", \"offsetgroup\": \"M\\u00e9dio-Alto\", \"orientation\": \"h\", \"showlegend\": true, \"textposition\": \"auto\", \"x\": [4544, 3624, 1869, 53156], \"xaxis\": \"x\", \"y\": [\"Arranjo Populacional de Londrina/PR\", \"Arranjo Populacional de Maring\\u00e1/PR\", \"Arranjo Populacional de Ponta Grossa/PR\", \"Curitiba\"], \"yaxis\": \"y\", \"type\": \"bar\"}, {\"alignmentgroup\": \"True\", \"hovertemplate\": \"N\\u00edvel Tecnol\\u00f3gico=M\\u00e9dio-Baixo<br>Ano=2004<br>Pessoal=%{x}<br>Espa\\u00e7o Metropolitano=%{y}<extra></extra>\", \"legendgroup\": \"M\\u00e9dio-Baixo\", \"marker\": {\"color\": \"rgb(214,96,77)\"}, \"name\": \"M\\u00e9dio-Baixo\", \"offsetgroup\": \"M\\u00e9dio-Baixo\", \"orientation\": \"h\", \"showlegend\": true, \"textposition\": \"auto\", \"x\": [6934, 4192, 2719, 35082], \"xaxis\": \"x\", \"y\": [\"Arranjo Populacional de Londrina/PR\", \"Arranjo Populacional de Maring\\u00e1/PR\", \"Arranjo Populacional de Ponta Grossa/PR\", \"Curitiba\"], \"yaxis\": \"y\", \"type\": \"bar\"}, {\"alignmentgroup\": \"True\", \"hovertemplate\": \"N\\u00edvel Tecnol\\u00f3gico=Baixo<br>Ano=2004<br>Pessoal=%{x}<br>Espa\\u00e7o Metropolitano=%{y}<extra></extra>\", \"legendgroup\": \"Baixo\", \"marker\": {\"color\": \"rgb(244,165,130)\"}, \"name\": \"Baixo\", \"offsetgroup\": \"Baixo\", \"orientation\": \"h\", \"showlegend\": true, \"textposition\": \"auto\", \"x\": [17619, 19461, 13041, 48813], \"xaxis\": \"x\", \"y\": [\"Arranjo Populacional de Londrina/PR\", \"Arranjo Populacional de Maring\\u00e1/PR\", \"Arranjo Populacional de Ponta Grossa/PR\", \"Curitiba\"], \"yaxis\": \"y\", \"type\": \"bar\"}], \"name\": \"2004\"}, {\"data\": [{\"alignmentgroup\": \"True\", \"hovertemplate\": \"N\\u00edvel Tecnol\\u00f3gico=Alto<br>Ano=2005<br>Pessoal=%{x}<br>Espa\\u00e7o Metropolitano=%{y}<extra></extra>\", \"legendgroup\": \"Alto\", \"marker\": {\"color\": \"rgb(103,0,31)\"}, \"name\": \"Alto\", \"offsetgroup\": \"Alto\", \"orientation\": \"h\", \"showlegend\": true, \"textposition\": \"auto\", \"x\": [953, 672, 6, 5259], \"xaxis\": \"x\", \"y\": [\"Arranjo Populacional de Londrina/PR\", \"Arranjo Populacional de Maring\\u00e1/PR\", \"Arranjo Populacional de Ponta Grossa/PR\", \"Curitiba\"], \"yaxis\": \"y\", \"type\": \"bar\"}, {\"alignmentgroup\": \"True\", \"hovertemplate\": \"N\\u00edvel Tecnol\\u00f3gico=M\\u00e9dio-Alto<br>Ano=2005<br>Pessoal=%{x}<br>Espa\\u00e7o Metropolitano=%{y}<extra></extra>\", \"legendgroup\": \"M\\u00e9dio-Alto\", \"marker\": {\"color\": \"rgb(178,24,43)\"}, \"name\": \"M\\u00e9dio-Alto\", \"offsetgroup\": \"M\\u00e9dio-Alto\", \"orientation\": \"h\", \"showlegend\": true, \"textposition\": \"auto\", \"x\": [4977, 3681, 1553, 55228], \"xaxis\": \"x\", \"y\": [\"Arranjo Populacional de Londrina/PR\", \"Arranjo Populacional de Maring\\u00e1/PR\", \"Arranjo Populacional de Ponta Grossa/PR\", \"Curitiba\"], \"yaxis\": \"y\", \"type\": \"bar\"}, {\"alignmentgroup\": \"True\", \"hovertemplate\": \"N\\u00edvel Tecnol\\u00f3gico=M\\u00e9dio-Baixo<br>Ano=2005<br>Pessoal=%{x}<br>Espa\\u00e7o Metropolitano=%{y}<extra></extra>\", \"legendgroup\": \"M\\u00e9dio-Baixo\", \"marker\": {\"color\": \"rgb(214,96,77)\"}, \"name\": \"M\\u00e9dio-Baixo\", \"offsetgroup\": \"M\\u00e9dio-Baixo\", \"orientation\": \"h\", \"showlegend\": true, \"textposition\": \"auto\", \"x\": [6809, 4075, 2970, 36103], \"xaxis\": \"x\", \"y\": [\"Arranjo Populacional de Londrina/PR\", \"Arranjo Populacional de Maring\\u00e1/PR\", \"Arranjo Populacional de Ponta Grossa/PR\", \"Curitiba\"], \"yaxis\": \"y\", \"type\": \"bar\"}, {\"alignmentgroup\": \"True\", \"hovertemplate\": \"N\\u00edvel Tecnol\\u00f3gico=Baixo<br>Ano=2005<br>Pessoal=%{x}<br>Espa\\u00e7o Metropolitano=%{y}<extra></extra>\", \"legendgroup\": \"Baixo\", \"marker\": {\"color\": \"rgb(244,165,130)\"}, \"name\": \"Baixo\", \"offsetgroup\": \"Baixo\", \"orientation\": \"h\", \"showlegend\": true, \"textposition\": \"auto\", \"x\": [19170, 19720, 12675, 49621], \"xaxis\": \"x\", \"y\": [\"Arranjo Populacional de Londrina/PR\", \"Arranjo Populacional de Maring\\u00e1/PR\", \"Arranjo Populacional de Ponta Grossa/PR\", \"Curitiba\"], \"yaxis\": \"y\", \"type\": \"bar\"}], \"name\": \"2005\"}, {\"data\": [{\"alignmentgroup\": \"True\", \"hovertemplate\": \"N\\u00edvel Tecnol\\u00f3gico=Alto<br>Ano=2006<br>Pessoal=%{x}<br>Espa\\u00e7o Metropolitano=%{y}<extra></extra>\", \"legendgroup\": \"Alto\", \"marker\": {\"color\": \"rgb(103,0,31)\"}, \"name\": \"Alto\", \"offsetgroup\": \"Alto\", \"orientation\": \"h\", \"showlegend\": true, \"textposition\": \"auto\", \"x\": [1065, 427, 1, 6147], \"xaxis\": \"x\", \"y\": [\"Arranjo Populacional de Londrina/PR\", \"Arranjo Populacional de Maring\\u00e1/PR\", \"Arranjo Populacional de Ponta Grossa/PR\", \"Curitiba\"], \"yaxis\": \"y\", \"type\": \"bar\"}, {\"alignmentgroup\": \"True\", \"hovertemplate\": \"N\\u00edvel Tecnol\\u00f3gico=M\\u00e9dio-Alto<br>Ano=2006<br>Pessoal=%{x}<br>Espa\\u00e7o Metropolitano=%{y}<extra></extra>\", \"legendgroup\": \"M\\u00e9dio-Alto\", \"marker\": {\"color\": \"rgb(178,24,43)\"}, \"name\": \"M\\u00e9dio-Alto\", \"offsetgroup\": \"M\\u00e9dio-Alto\", \"orientation\": \"h\", \"showlegend\": true, \"textposition\": \"auto\", \"x\": [5205, 4244, 1530, 57183], \"xaxis\": \"x\", \"y\": [\"Arranjo Populacional de Londrina/PR\", \"Arranjo Populacional de Maring\\u00e1/PR\", \"Arranjo Populacional de Ponta Grossa/PR\", \"Curitiba\"], \"yaxis\": \"y\", \"type\": \"bar\"}, {\"alignmentgroup\": \"True\", \"hovertemplate\": \"N\\u00edvel Tecnol\\u00f3gico=M\\u00e9dio-Baixo<br>Ano=2006<br>Pessoal=%{x}<br>Espa\\u00e7o Metropolitano=%{y}<extra></extra>\", \"legendgroup\": \"M\\u00e9dio-Baixo\", \"marker\": {\"color\": \"rgb(214,96,77)\"}, \"name\": \"M\\u00e9dio-Baixo\", \"offsetgroup\": \"M\\u00e9dio-Baixo\", \"orientation\": \"h\", \"showlegend\": true, \"textposition\": \"auto\", \"x\": [8171, 4841, 2450, 42155], \"xaxis\": \"x\", \"y\": [\"Arranjo Populacional de Londrina/PR\", \"Arranjo Populacional de Maring\\u00e1/PR\", \"Arranjo Populacional de Ponta Grossa/PR\", \"Curitiba\"], \"yaxis\": \"y\", \"type\": \"bar\"}, {\"alignmentgroup\": \"True\", \"hovertemplate\": \"N\\u00edvel Tecnol\\u00f3gico=Baixo<br>Ano=2006<br>Pessoal=%{x}<br>Espa\\u00e7o Metropolitano=%{y}<extra></extra>\", \"legendgroup\": \"Baixo\", \"marker\": {\"color\": \"rgb(244,165,130)\"}, \"name\": \"Baixo\", \"offsetgroup\": \"Baixo\", \"orientation\": \"h\", \"showlegend\": true, \"textposition\": \"auto\", \"x\": [17294, 21578, 12659, 51271], \"xaxis\": \"x\", \"y\": [\"Arranjo Populacional de Londrina/PR\", \"Arranjo Populacional de Maring\\u00e1/PR\", \"Arranjo Populacional de Ponta Grossa/PR\", \"Curitiba\"], \"yaxis\": \"y\", \"type\": \"bar\"}], \"name\": \"2006\"}, {\"data\": [{\"alignmentgroup\": \"True\", \"hovertemplate\": \"N\\u00edvel Tecnol\\u00f3gico=Alto<br>Ano=2007<br>Pessoal=%{x}<br>Espa\\u00e7o Metropolitano=%{y}<extra></extra>\", \"legendgroup\": \"Alto\", \"marker\": {\"color\": \"rgb(103,0,31)\"}, \"name\": \"Alto\", \"offsetgroup\": \"Alto\", \"orientation\": \"h\", \"showlegend\": true, \"textposition\": \"auto\", \"x\": [1177, 468, 0, 8404], \"xaxis\": \"x\", \"y\": [\"Arranjo Populacional de Londrina/PR\", \"Arranjo Populacional de Maring\\u00e1/PR\", \"Arranjo Populacional de Ponta Grossa/PR\", \"Curitiba\"], \"yaxis\": \"y\", \"type\": \"bar\"}, {\"alignmentgroup\": \"True\", \"hovertemplate\": \"N\\u00edvel Tecnol\\u00f3gico=M\\u00e9dio-Alto<br>Ano=2007<br>Pessoal=%{x}<br>Espa\\u00e7o Metropolitano=%{y}<extra></extra>\", \"legendgroup\": \"M\\u00e9dio-Alto\", \"marker\": {\"color\": \"rgb(178,24,43)\"}, \"name\": \"M\\u00e9dio-Alto\", \"offsetgroup\": \"M\\u00e9dio-Alto\", \"orientation\": \"h\", \"showlegend\": true, \"textposition\": \"auto\", \"x\": [5551, 4917, 1761, 63993], \"xaxis\": \"x\", \"y\": [\"Arranjo Populacional de Londrina/PR\", \"Arranjo Populacional de Maring\\u00e1/PR\", \"Arranjo Populacional de Ponta Grossa/PR\", \"Curitiba\"], \"yaxis\": \"y\", \"type\": \"bar\"}, {\"alignmentgroup\": \"True\", \"hovertemplate\": \"N\\u00edvel Tecnol\\u00f3gico=M\\u00e9dio-Baixo<br>Ano=2007<br>Pessoal=%{x}<br>Espa\\u00e7o Metropolitano=%{y}<extra></extra>\", \"legendgroup\": \"M\\u00e9dio-Baixo\", \"marker\": {\"color\": \"rgb(214,96,77)\"}, \"name\": \"M\\u00e9dio-Baixo\", \"offsetgroup\": \"M\\u00e9dio-Baixo\", \"orientation\": \"h\", \"showlegend\": true, \"textposition\": \"auto\", \"x\": [8843, 5019, 2825, 45647], \"xaxis\": \"x\", \"y\": [\"Arranjo Populacional de Londrina/PR\", \"Arranjo Populacional de Maring\\u00e1/PR\", \"Arranjo Populacional de Ponta Grossa/PR\", \"Curitiba\"], \"yaxis\": \"y\", \"type\": \"bar\"}, {\"alignmentgroup\": \"True\", \"hovertemplate\": \"N\\u00edvel Tecnol\\u00f3gico=Baixo<br>Ano=2007<br>Pessoal=%{x}<br>Espa\\u00e7o Metropolitano=%{y}<extra></extra>\", \"legendgroup\": \"Baixo\", \"marker\": {\"color\": \"rgb(244,165,130)\"}, \"name\": \"Baixo\", \"offsetgroup\": \"Baixo\", \"orientation\": \"h\", \"showlegend\": true, \"textposition\": \"auto\", \"x\": [17588, 23841, 13740, 54896], \"xaxis\": \"x\", \"y\": [\"Arranjo Populacional de Londrina/PR\", \"Arranjo Populacional de Maring\\u00e1/PR\", \"Arranjo Populacional de Ponta Grossa/PR\", \"Curitiba\"], \"yaxis\": \"y\", \"type\": \"bar\"}], \"name\": \"2007\"}, {\"data\": [{\"alignmentgroup\": \"True\", \"hovertemplate\": \"N\\u00edvel Tecnol\\u00f3gico=Alto<br>Ano=2008<br>Pessoal=%{x}<br>Espa\\u00e7o Metropolitano=%{y}<extra></extra>\", \"legendgroup\": \"Alto\", \"marker\": {\"color\": \"rgb(103,0,31)\"}, \"name\": \"Alto\", \"offsetgroup\": \"Alto\", \"orientation\": \"h\", \"showlegend\": true, \"textposition\": \"auto\", \"x\": [1336, 526, 6, 9931], \"xaxis\": \"x\", \"y\": [\"Arranjo Populacional de Londrina/PR\", \"Arranjo Populacional de Maring\\u00e1/PR\", \"Arranjo Populacional de Ponta Grossa/PR\", \"Curitiba\"], \"yaxis\": \"y\", \"type\": \"bar\"}, {\"alignmentgroup\": \"True\", \"hovertemplate\": \"N\\u00edvel Tecnol\\u00f3gico=M\\u00e9dio-Alto<br>Ano=2008<br>Pessoal=%{x}<br>Espa\\u00e7o Metropolitano=%{y}<extra></extra>\", \"legendgroup\": \"M\\u00e9dio-Alto\", \"marker\": {\"color\": \"rgb(178,24,43)\"}, \"name\": \"M\\u00e9dio-Alto\", \"offsetgroup\": \"M\\u00e9dio-Alto\", \"orientation\": \"h\", \"showlegend\": true, \"textposition\": \"auto\", \"x\": [6114, 4743, 1815, 66371], \"xaxis\": \"x\", \"y\": [\"Arranjo Populacional de Londrina/PR\", \"Arranjo Populacional de Maring\\u00e1/PR\", \"Arranjo Populacional de Ponta Grossa/PR\", \"Curitiba\"], \"yaxis\": \"y\", \"type\": \"bar\"}, {\"alignmentgroup\": \"True\", \"hovertemplate\": \"N\\u00edvel Tecnol\\u00f3gico=M\\u00e9dio-Baixo<br>Ano=2008<br>Pessoal=%{x}<br>Espa\\u00e7o Metropolitano=%{y}<extra></extra>\", \"legendgroup\": \"M\\u00e9dio-Baixo\", \"marker\": {\"color\": \"rgb(214,96,77)\"}, \"name\": \"M\\u00e9dio-Baixo\", \"offsetgroup\": \"M\\u00e9dio-Baixo\", \"orientation\": \"h\", \"showlegend\": true, \"textposition\": \"auto\", \"x\": [9400, 5224, 3145, 48231], \"xaxis\": \"x\", \"y\": [\"Arranjo Populacional de Londrina/PR\", \"Arranjo Populacional de Maring\\u00e1/PR\", \"Arranjo Populacional de Ponta Grossa/PR\", \"Curitiba\"], \"yaxis\": \"y\", \"type\": \"bar\"}, {\"alignmentgroup\": \"True\", \"hovertemplate\": \"N\\u00edvel Tecnol\\u00f3gico=Baixo<br>Ano=2008<br>Pessoal=%{x}<br>Espa\\u00e7o Metropolitano=%{y}<extra></extra>\", \"legendgroup\": \"Baixo\", \"marker\": {\"color\": \"rgb(244,165,130)\"}, \"name\": \"Baixo\", \"offsetgroup\": \"Baixo\", \"orientation\": \"h\", \"showlegend\": true, \"textposition\": \"auto\", \"x\": [18093, 24632, 13030, 55468], \"xaxis\": \"x\", \"y\": [\"Arranjo Populacional de Londrina/PR\", \"Arranjo Populacional de Maring\\u00e1/PR\", \"Arranjo Populacional de Ponta Grossa/PR\", \"Curitiba\"], \"yaxis\": \"y\", \"type\": \"bar\"}], \"name\": \"2008\"}, {\"data\": [{\"alignmentgroup\": \"True\", \"hovertemplate\": \"N\\u00edvel Tecnol\\u00f3gico=Alto<br>Ano=2009<br>Pessoal=%{x}<br>Espa\\u00e7o Metropolitano=%{y}<extra></extra>\", \"legendgroup\": \"Alto\", \"marker\": {\"color\": \"rgb(103,0,31)\"}, \"name\": \"Alto\", \"offsetgroup\": \"Alto\", \"orientation\": \"h\", \"showlegend\": true, \"textposition\": \"auto\", \"x\": [1313, 666, 2, 12214], \"xaxis\": \"x\", \"y\": [\"Arranjo Populacional de Londrina/PR\", \"Arranjo Populacional de Maring\\u00e1/PR\", \"Arranjo Populacional de Ponta Grossa/PR\", \"Curitiba\"], \"yaxis\": \"y\", \"type\": \"bar\"}, {\"alignmentgroup\": \"True\", \"hovertemplate\": \"N\\u00edvel Tecnol\\u00f3gico=M\\u00e9dio-Alto<br>Ano=2009<br>Pessoal=%{x}<br>Espa\\u00e7o Metropolitano=%{y}<extra></extra>\", \"legendgroup\": \"M\\u00e9dio-Alto\", \"marker\": {\"color\": \"rgb(178,24,43)\"}, \"name\": \"M\\u00e9dio-Alto\", \"offsetgroup\": \"M\\u00e9dio-Alto\", \"orientation\": \"h\", \"showlegend\": true, \"textposition\": \"auto\", \"x\": [6088, 4962, 1983, 67378], \"xaxis\": \"x\", \"y\": [\"Arranjo Populacional de Londrina/PR\", \"Arranjo Populacional de Maring\\u00e1/PR\", \"Arranjo Populacional de Ponta Grossa/PR\", \"Curitiba\"], \"yaxis\": \"y\", \"type\": \"bar\"}, {\"alignmentgroup\": \"True\", \"hovertemplate\": \"N\\u00edvel Tecnol\\u00f3gico=M\\u00e9dio-Baixo<br>Ano=2009<br>Pessoal=%{x}<br>Espa\\u00e7o Metropolitano=%{y}<extra></extra>\", \"legendgroup\": \"M\\u00e9dio-Baixo\", \"marker\": {\"color\": \"rgb(214,96,77)\"}, \"name\": \"M\\u00e9dio-Baixo\", \"offsetgroup\": \"M\\u00e9dio-Baixo\", \"orientation\": \"h\", \"showlegend\": true, \"textposition\": \"auto\", \"x\": [9401, 5085, 2843, 47987], \"xaxis\": \"x\", \"y\": [\"Arranjo Populacional de Londrina/PR\", \"Arranjo Populacional de Maring\\u00e1/PR\", \"Arranjo Populacional de Ponta Grossa/PR\", \"Curitiba\"], \"yaxis\": \"y\", \"type\": \"bar\"}, {\"alignmentgroup\": \"True\", \"hovertemplate\": \"N\\u00edvel Tecnol\\u00f3gico=Baixo<br>Ano=2009<br>Pessoal=%{x}<br>Espa\\u00e7o Metropolitano=%{y}<extra></extra>\", \"legendgroup\": \"Baixo\", \"marker\": {\"color\": \"rgb(244,165,130)\"}, \"name\": \"Baixo\", \"offsetgroup\": \"Baixo\", \"orientation\": \"h\", \"showlegend\": true, \"textposition\": \"auto\", \"x\": [18642, 24701, 13104, 54579], \"xaxis\": \"x\", \"y\": [\"Arranjo Populacional de Londrina/PR\", \"Arranjo Populacional de Maring\\u00e1/PR\", \"Arranjo Populacional de Ponta Grossa/PR\", \"Curitiba\"], \"yaxis\": \"y\", \"type\": \"bar\"}], \"name\": \"2009\"}, {\"data\": [{\"alignmentgroup\": \"True\", \"hovertemplate\": \"N\\u00edvel Tecnol\\u00f3gico=Alto<br>Ano=2010<br>Pessoal=%{x}<br>Espa\\u00e7o Metropolitano=%{y}<extra></extra>\", \"legendgroup\": \"Alto\", \"marker\": {\"color\": \"rgb(103,0,31)\"}, \"name\": \"Alto\", \"offsetgroup\": \"Alto\", \"orientation\": \"h\", \"showlegend\": true, \"textposition\": \"auto\", \"x\": [1412, 739, 3, 10637], \"xaxis\": \"x\", \"y\": [\"Arranjo Populacional de Londrina/PR\", \"Arranjo Populacional de Maring\\u00e1/PR\", \"Arranjo Populacional de Ponta Grossa/PR\", \"Curitiba\"], \"yaxis\": \"y\", \"type\": \"bar\"}, {\"alignmentgroup\": \"True\", \"hovertemplate\": \"N\\u00edvel Tecnol\\u00f3gico=M\\u00e9dio-Alto<br>Ano=2010<br>Pessoal=%{x}<br>Espa\\u00e7o Metropolitano=%{y}<extra></extra>\", \"legendgroup\": \"M\\u00e9dio-Alto\", \"marker\": {\"color\": \"rgb(178,24,43)\"}, \"name\": \"M\\u00e9dio-Alto\", \"offsetgroup\": \"M\\u00e9dio-Alto\", \"orientation\": \"h\", \"showlegend\": true, \"textposition\": \"auto\", \"x\": [6793, 5637, 2296, 75287], \"xaxis\": \"x\", \"y\": [\"Arranjo Populacional de Londrina/PR\", \"Arranjo Populacional de Maring\\u00e1/PR\", \"Arranjo Populacional de Ponta Grossa/PR\", \"Curitiba\"], \"yaxis\": \"y\", \"type\": \"bar\"}, {\"alignmentgroup\": \"True\", \"hovertemplate\": \"N\\u00edvel Tecnol\\u00f3gico=M\\u00e9dio-Baixo<br>Ano=2010<br>Pessoal=%{x}<br>Espa\\u00e7o Metropolitano=%{y}<extra></extra>\", \"legendgroup\": \"M\\u00e9dio-Baixo\", \"marker\": {\"color\": \"rgb(214,96,77)\"}, \"name\": \"M\\u00e9dio-Baixo\", \"offsetgroup\": \"M\\u00e9dio-Baixo\", \"orientation\": \"h\", \"showlegend\": true, \"textposition\": \"auto\", \"x\": [10315, 6119, 3627, 51941], \"xaxis\": \"x\", \"y\": [\"Arranjo Populacional de Londrina/PR\", \"Arranjo Populacional de Maring\\u00e1/PR\", \"Arranjo Populacional de Ponta Grossa/PR\", \"Curitiba\"], \"yaxis\": \"y\", \"type\": \"bar\"}, {\"alignmentgroup\": \"True\", \"hovertemplate\": \"N\\u00edvel Tecnol\\u00f3gico=Baixo<br>Ano=2010<br>Pessoal=%{x}<br>Espa\\u00e7o Metropolitano=%{y}<extra></extra>\", \"legendgroup\": \"Baixo\", \"marker\": {\"color\": \"rgb(244,165,130)\"}, \"name\": \"Baixo\", \"offsetgroup\": \"Baixo\", \"orientation\": \"h\", \"showlegend\": true, \"textposition\": \"auto\", \"x\": [19490, 26682, 13874, 58718], \"xaxis\": \"x\", \"y\": [\"Arranjo Populacional de Londrina/PR\", \"Arranjo Populacional de Maring\\u00e1/PR\", \"Arranjo Populacional de Ponta Grossa/PR\", \"Curitiba\"], \"yaxis\": \"y\", \"type\": \"bar\"}], \"name\": \"2010\"}, {\"data\": [{\"alignmentgroup\": \"True\", \"hovertemplate\": \"N\\u00edvel Tecnol\\u00f3gico=Alto<br>Ano=2011<br>Pessoal=%{x}<br>Espa\\u00e7o Metropolitano=%{y}<extra></extra>\", \"legendgroup\": \"Alto\", \"marker\": {\"color\": \"rgb(103,0,31)\"}, \"name\": \"Alto\", \"offsetgroup\": \"Alto\", \"orientation\": \"h\", \"showlegend\": true, \"textposition\": \"auto\", \"x\": [1594, 737, 0, 9255], \"xaxis\": \"x\", \"y\": [\"Arranjo Populacional de Londrina/PR\", \"Arranjo Populacional de Maring\\u00e1/PR\", \"Arranjo Populacional de Ponta Grossa/PR\", \"Curitiba\"], \"yaxis\": \"y\", \"type\": \"bar\"}, {\"alignmentgroup\": \"True\", \"hovertemplate\": \"N\\u00edvel Tecnol\\u00f3gico=M\\u00e9dio-Alto<br>Ano=2011<br>Pessoal=%{x}<br>Espa\\u00e7o Metropolitano=%{y}<extra></extra>\", \"legendgroup\": \"M\\u00e9dio-Alto\", \"marker\": {\"color\": \"rgb(178,24,43)\"}, \"name\": \"M\\u00e9dio-Alto\", \"offsetgroup\": \"M\\u00e9dio-Alto\", \"orientation\": \"h\", \"showlegend\": true, \"textposition\": \"auto\", \"x\": [6994, 6062, 2621, 81549], \"xaxis\": \"x\", \"y\": [\"Arranjo Populacional de Londrina/PR\", \"Arranjo Populacional de Maring\\u00e1/PR\", \"Arranjo Populacional de Ponta Grossa/PR\", \"Curitiba\"], \"yaxis\": \"y\", \"type\": \"bar\"}, {\"alignmentgroup\": \"True\", \"hovertemplate\": \"N\\u00edvel Tecnol\\u00f3gico=M\\u00e9dio-Baixo<br>Ano=2011<br>Pessoal=%{x}<br>Espa\\u00e7o Metropolitano=%{y}<extra></extra>\", \"legendgroup\": \"M\\u00e9dio-Baixo\", \"marker\": {\"color\": \"rgb(214,96,77)\"}, \"name\": \"M\\u00e9dio-Baixo\", \"offsetgroup\": \"M\\u00e9dio-Baixo\", \"orientation\": \"h\", \"showlegend\": true, \"textposition\": \"auto\", \"x\": [10376, 6046, 4080, 53517], \"xaxis\": \"x\", \"y\": [\"Arranjo Populacional de Londrina/PR\", \"Arranjo Populacional de Maring\\u00e1/PR\", \"Arranjo Populacional de Ponta Grossa/PR\", \"Curitiba\"], \"yaxis\": \"y\", \"type\": \"bar\"}, {\"alignmentgroup\": \"True\", \"hovertemplate\": \"N\\u00edvel Tecnol\\u00f3gico=Baixo<br>Ano=2011<br>Pessoal=%{x}<br>Espa\\u00e7o Metropolitano=%{y}<extra></extra>\", \"legendgroup\": \"Baixo\", \"marker\": {\"color\": \"rgb(244,165,130)\"}, \"name\": \"Baixo\", \"offsetgroup\": \"Baixo\", \"orientation\": \"h\", \"showlegend\": true, \"textposition\": \"auto\", \"x\": [18615, 23568, 13723, 58664], \"xaxis\": \"x\", \"y\": [\"Arranjo Populacional de Londrina/PR\", \"Arranjo Populacional de Maring\\u00e1/PR\", \"Arranjo Populacional de Ponta Grossa/PR\", \"Curitiba\"], \"yaxis\": \"y\", \"type\": \"bar\"}], \"name\": \"2011\"}, {\"data\": [{\"alignmentgroup\": \"True\", \"hovertemplate\": \"N\\u00edvel Tecnol\\u00f3gico=Alto<br>Ano=2012<br>Pessoal=%{x}<br>Espa\\u00e7o Metropolitano=%{y}<extra></extra>\", \"legendgroup\": \"Alto\", \"marker\": {\"color\": \"rgb(103,0,31)\"}, \"name\": \"Alto\", \"offsetgroup\": \"Alto\", \"orientation\": \"h\", \"showlegend\": true, \"textposition\": \"auto\", \"x\": [1751, 819, 4, 9729], \"xaxis\": \"x\", \"y\": [\"Arranjo Populacional de Londrina/PR\", \"Arranjo Populacional de Maring\\u00e1/PR\", \"Arranjo Populacional de Ponta Grossa/PR\", \"Curitiba\"], \"yaxis\": \"y\", \"type\": \"bar\"}, {\"alignmentgroup\": \"True\", \"hovertemplate\": \"N\\u00edvel Tecnol\\u00f3gico=M\\u00e9dio-Alto<br>Ano=2012<br>Pessoal=%{x}<br>Espa\\u00e7o Metropolitano=%{y}<extra></extra>\", \"legendgroup\": \"M\\u00e9dio-Alto\", \"marker\": {\"color\": \"rgb(178,24,43)\"}, \"name\": \"M\\u00e9dio-Alto\", \"offsetgroup\": \"M\\u00e9dio-Alto\", \"orientation\": \"h\", \"showlegend\": true, \"textposition\": \"auto\", \"x\": [7434, 6413, 2455, 82714], \"xaxis\": \"x\", \"y\": [\"Arranjo Populacional de Londrina/PR\", \"Arranjo Populacional de Maring\\u00e1/PR\", \"Arranjo Populacional de Ponta Grossa/PR\", \"Curitiba\"], \"yaxis\": \"y\", \"type\": \"bar\"}, {\"alignmentgroup\": \"True\", \"hovertemplate\": \"N\\u00edvel Tecnol\\u00f3gico=M\\u00e9dio-Baixo<br>Ano=2012<br>Pessoal=%{x}<br>Espa\\u00e7o Metropolitano=%{y}<extra></extra>\", \"legendgroup\": \"M\\u00e9dio-Baixo\", \"marker\": {\"color\": \"rgb(214,96,77)\"}, \"name\": \"M\\u00e9dio-Baixo\", \"offsetgroup\": \"M\\u00e9dio-Baixo\", \"orientation\": \"h\", \"showlegend\": true, \"textposition\": \"auto\", \"x\": [10510, 6869, 4271, 54230], \"xaxis\": \"x\", \"y\": [\"Arranjo Populacional de Londrina/PR\", \"Arranjo Populacional de Maring\\u00e1/PR\", \"Arranjo Populacional de Ponta Grossa/PR\", \"Curitiba\"], \"yaxis\": \"y\", \"type\": \"bar\"}, {\"alignmentgroup\": \"True\", \"hovertemplate\": \"N\\u00edvel Tecnol\\u00f3gico=Baixo<br>Ano=2012<br>Pessoal=%{x}<br>Espa\\u00e7o Metropolitano=%{y}<extra></extra>\", \"legendgroup\": \"Baixo\", \"marker\": {\"color\": \"rgb(244,165,130)\"}, \"name\": \"Baixo\", \"offsetgroup\": \"Baixo\", \"orientation\": \"h\", \"showlegend\": true, \"textposition\": \"auto\", \"x\": [18747, 26369, 12585, 57031], \"xaxis\": \"x\", \"y\": [\"Arranjo Populacional de Londrina/PR\", \"Arranjo Populacional de Maring\\u00e1/PR\", \"Arranjo Populacional de Ponta Grossa/PR\", \"Curitiba\"], \"yaxis\": \"y\", \"type\": \"bar\"}], \"name\": \"2012\"}, {\"data\": [{\"alignmentgroup\": \"True\", \"hovertemplate\": \"N\\u00edvel Tecnol\\u00f3gico=Alto<br>Ano=2013<br>Pessoal=%{x}<br>Espa\\u00e7o Metropolitano=%{y}<extra></extra>\", \"legendgroup\": \"Alto\", \"marker\": {\"color\": \"rgb(103,0,31)\"}, \"name\": \"Alto\", \"offsetgroup\": \"Alto\", \"orientation\": \"h\", \"showlegend\": true, \"textposition\": \"auto\", \"x\": [1548, 695, 7, 9705], \"xaxis\": \"x\", \"y\": [\"Arranjo Populacional de Londrina/PR\", \"Arranjo Populacional de Maring\\u00e1/PR\", \"Arranjo Populacional de Ponta Grossa/PR\", \"Curitiba\"], \"yaxis\": \"y\", \"type\": \"bar\"}, {\"alignmentgroup\": \"True\", \"hovertemplate\": \"N\\u00edvel Tecnol\\u00f3gico=M\\u00e9dio-Alto<br>Ano=2013<br>Pessoal=%{x}<br>Espa\\u00e7o Metropolitano=%{y}<extra></extra>\", \"legendgroup\": \"M\\u00e9dio-Alto\", \"marker\": {\"color\": \"rgb(178,24,43)\"}, \"name\": \"M\\u00e9dio-Alto\", \"offsetgroup\": \"M\\u00e9dio-Alto\", \"orientation\": \"h\", \"showlegend\": true, \"textposition\": \"auto\", \"x\": [7630, 6867, 2747, 80549], \"xaxis\": \"x\", \"y\": [\"Arranjo Populacional de Londrina/PR\", \"Arranjo Populacional de Maring\\u00e1/PR\", \"Arranjo Populacional de Ponta Grossa/PR\", \"Curitiba\"], \"yaxis\": \"y\", \"type\": \"bar\"}, {\"alignmentgroup\": \"True\", \"hovertemplate\": \"N\\u00edvel Tecnol\\u00f3gico=M\\u00e9dio-Baixo<br>Ano=2013<br>Pessoal=%{x}<br>Espa\\u00e7o Metropolitano=%{y}<extra></extra>\", \"legendgroup\": \"M\\u00e9dio-Baixo\", \"marker\": {\"color\": \"rgb(214,96,77)\"}, \"name\": \"M\\u00e9dio-Baixo\", \"offsetgroup\": \"M\\u00e9dio-Baixo\", \"orientation\": \"h\", \"showlegend\": true, \"textposition\": \"auto\", \"x\": [10737, 7257, 4371, 55055], \"xaxis\": \"x\", \"y\": [\"Arranjo Populacional de Londrina/PR\", \"Arranjo Populacional de Maring\\u00e1/PR\", \"Arranjo Populacional de Ponta Grossa/PR\", \"Curitiba\"], \"yaxis\": \"y\", \"type\": \"bar\"}, {\"alignmentgroup\": \"True\", \"hovertemplate\": \"N\\u00edvel Tecnol\\u00f3gico=Baixo<br>Ano=2013<br>Pessoal=%{x}<br>Espa\\u00e7o Metropolitano=%{y}<extra></extra>\", \"legendgroup\": \"Baixo\", \"marker\": {\"color\": \"rgb(244,165,130)\"}, \"name\": \"Baixo\", \"offsetgroup\": \"Baixo\", \"orientation\": \"h\", \"showlegend\": true, \"textposition\": \"auto\", \"x\": [18295, 25521, 13172, 56972], \"xaxis\": \"x\", \"y\": [\"Arranjo Populacional de Londrina/PR\", \"Arranjo Populacional de Maring\\u00e1/PR\", \"Arranjo Populacional de Ponta Grossa/PR\", \"Curitiba\"], \"yaxis\": \"y\", \"type\": \"bar\"}], \"name\": \"2013\"}, {\"data\": [{\"alignmentgroup\": \"True\", \"hovertemplate\": \"N\\u00edvel Tecnol\\u00f3gico=Alto<br>Ano=2014<br>Pessoal=%{x}<br>Espa\\u00e7o Metropolitano=%{y}<extra></extra>\", \"legendgroup\": \"Alto\", \"marker\": {\"color\": \"rgb(103,0,31)\"}, \"name\": \"Alto\", \"offsetgroup\": \"Alto\", \"orientation\": \"h\", \"showlegend\": true, \"textposition\": \"auto\", \"x\": [1374, 647, 12, 8887], \"xaxis\": \"x\", \"y\": [\"Arranjo Populacional de Londrina/PR\", \"Arranjo Populacional de Maring\\u00e1/PR\", \"Arranjo Populacional de Ponta Grossa/PR\", \"Curitiba\"], \"yaxis\": \"y\", \"type\": \"bar\"}, {\"alignmentgroup\": \"True\", \"hovertemplate\": \"N\\u00edvel Tecnol\\u00f3gico=M\\u00e9dio-Alto<br>Ano=2014<br>Pessoal=%{x}<br>Espa\\u00e7o Metropolitano=%{y}<extra></extra>\", \"legendgroup\": \"M\\u00e9dio-Alto\", \"marker\": {\"color\": \"rgb(178,24,43)\"}, \"name\": \"M\\u00e9dio-Alto\", \"offsetgroup\": \"M\\u00e9dio-Alto\", \"orientation\": \"h\", \"showlegend\": true, \"textposition\": \"auto\", \"x\": [7656, 6647, 2905, 73766], \"xaxis\": \"x\", \"y\": [\"Arranjo Populacional de Londrina/PR\", \"Arranjo Populacional de Maring\\u00e1/PR\", \"Arranjo Populacional de Ponta Grossa/PR\", \"Curitiba\"], \"yaxis\": \"y\", \"type\": \"bar\"}, {\"alignmentgroup\": \"True\", \"hovertemplate\": \"N\\u00edvel Tecnol\\u00f3gico=M\\u00e9dio-Baixo<br>Ano=2014<br>Pessoal=%{x}<br>Espa\\u00e7o Metropolitano=%{y}<extra></extra>\", \"legendgroup\": \"M\\u00e9dio-Baixo\", \"marker\": {\"color\": \"rgb(214,96,77)\"}, \"name\": \"M\\u00e9dio-Baixo\", \"offsetgroup\": \"M\\u00e9dio-Baixo\", \"orientation\": \"h\", \"showlegend\": true, \"textposition\": \"auto\", \"x\": [9632, 7302, 4231, 52938], \"xaxis\": \"x\", \"y\": [\"Arranjo Populacional de Londrina/PR\", \"Arranjo Populacional de Maring\\u00e1/PR\", \"Arranjo Populacional de Ponta Grossa/PR\", \"Curitiba\"], \"yaxis\": \"y\", \"type\": \"bar\"}, {\"alignmentgroup\": \"True\", \"hovertemplate\": \"N\\u00edvel Tecnol\\u00f3gico=Baixo<br>Ano=2014<br>Pessoal=%{x}<br>Espa\\u00e7o Metropolitano=%{y}<extra></extra>\", \"legendgroup\": \"Baixo\", \"marker\": {\"color\": \"rgb(244,165,130)\"}, \"name\": \"Baixo\", \"offsetgroup\": \"Baixo\", \"orientation\": \"h\", \"showlegend\": true, \"textposition\": \"auto\", \"x\": [17445, 25431, 13538, 55939], \"xaxis\": \"x\", \"y\": [\"Arranjo Populacional de Londrina/PR\", \"Arranjo Populacional de Maring\\u00e1/PR\", \"Arranjo Populacional de Ponta Grossa/PR\", \"Curitiba\"], \"yaxis\": \"y\", \"type\": \"bar\"}], \"name\": \"2014\"}, {\"data\": [{\"alignmentgroup\": \"True\", \"hovertemplate\": \"N\\u00edvel Tecnol\\u00f3gico=Alto<br>Ano=2015<br>Pessoal=%{x}<br>Espa\\u00e7o Metropolitano=%{y}<extra></extra>\", \"legendgroup\": \"Alto\", \"marker\": {\"color\": \"rgb(103,0,31)\"}, \"name\": \"Alto\", \"offsetgroup\": \"Alto\", \"orientation\": \"h\", \"showlegend\": true, \"textposition\": \"auto\", \"x\": [1276, 611, 17, 7380], \"xaxis\": \"x\", \"y\": [\"Arranjo Populacional de Londrina/PR\", \"Arranjo Populacional de Maring\\u00e1/PR\", \"Arranjo Populacional de Ponta Grossa/PR\", \"Curitiba\"], \"yaxis\": \"y\", \"type\": \"bar\"}, {\"alignmentgroup\": \"True\", \"hovertemplate\": \"N\\u00edvel Tecnol\\u00f3gico=M\\u00e9dio-Alto<br>Ano=2015<br>Pessoal=%{x}<br>Espa\\u00e7o Metropolitano=%{y}<extra></extra>\", \"legendgroup\": \"M\\u00e9dio-Alto\", \"marker\": {\"color\": \"rgb(178,24,43)\"}, \"name\": \"M\\u00e9dio-Alto\", \"offsetgroup\": \"M\\u00e9dio-Alto\", \"orientation\": \"h\", \"showlegend\": true, \"textposition\": \"auto\", \"x\": [7092, 5695, 2699, 64756], \"xaxis\": \"x\", \"y\": [\"Arranjo Populacional de Londrina/PR\", \"Arranjo Populacional de Maring\\u00e1/PR\", \"Arranjo Populacional de Ponta Grossa/PR\", \"Curitiba\"], \"yaxis\": \"y\", \"type\": \"bar\"}, {\"alignmentgroup\": \"True\", \"hovertemplate\": \"N\\u00edvel Tecnol\\u00f3gico=M\\u00e9dio-Baixo<br>Ano=2015<br>Pessoal=%{x}<br>Espa\\u00e7o Metropolitano=%{y}<extra></extra>\", \"legendgroup\": \"M\\u00e9dio-Baixo\", \"marker\": {\"color\": \"rgb(214,96,77)\"}, \"name\": \"M\\u00e9dio-Baixo\", \"offsetgroup\": \"M\\u00e9dio-Baixo\", \"orientation\": \"h\", \"showlegend\": true, \"textposition\": \"auto\", \"x\": [8674, 6646, 4440, 48678], \"xaxis\": \"x\", \"y\": [\"Arranjo Populacional de Londrina/PR\", \"Arranjo Populacional de Maring\\u00e1/PR\", \"Arranjo Populacional de Ponta Grossa/PR\", \"Curitiba\"], \"yaxis\": \"y\", \"type\": \"bar\"}, {\"alignmentgroup\": \"True\", \"hovertemplate\": \"N\\u00edvel Tecnol\\u00f3gico=Baixo<br>Ano=2015<br>Pessoal=%{x}<br>Espa\\u00e7o Metropolitano=%{y}<extra></extra>\", \"legendgroup\": \"Baixo\", \"marker\": {\"color\": \"rgb(244,165,130)\"}, \"name\": \"Baixo\", \"offsetgroup\": \"Baixo\", \"orientation\": \"h\", \"showlegend\": true, \"textposition\": \"auto\", \"x\": [16580, 24076, 12737, 51220], \"xaxis\": \"x\", \"y\": [\"Arranjo Populacional de Londrina/PR\", \"Arranjo Populacional de Maring\\u00e1/PR\", \"Arranjo Populacional de Ponta Grossa/PR\", \"Curitiba\"], \"yaxis\": \"y\", \"type\": \"bar\"}], \"name\": \"2015\"}, {\"data\": [{\"alignmentgroup\": \"True\", \"hovertemplate\": \"N\\u00edvel Tecnol\\u00f3gico=Alto<br>Ano=2016<br>Pessoal=%{x}<br>Espa\\u00e7o Metropolitano=%{y}<extra></extra>\", \"legendgroup\": \"Alto\", \"marker\": {\"color\": \"rgb(103,0,31)\"}, \"name\": \"Alto\", \"offsetgroup\": \"Alto\", \"orientation\": \"h\", \"showlegend\": true, \"textposition\": \"auto\", \"x\": [1208, 603, 16, 6166], \"xaxis\": \"x\", \"y\": [\"Arranjo Populacional de Londrina/PR\", \"Arranjo Populacional de Maring\\u00e1/PR\", \"Arranjo Populacional de Ponta Grossa/PR\", \"Curitiba\"], \"yaxis\": \"y\", \"type\": \"bar\"}, {\"alignmentgroup\": \"True\", \"hovertemplate\": \"N\\u00edvel Tecnol\\u00f3gico=M\\u00e9dio-Alto<br>Ano=2016<br>Pessoal=%{x}<br>Espa\\u00e7o Metropolitano=%{y}<extra></extra>\", \"legendgroup\": \"M\\u00e9dio-Alto\", \"marker\": {\"color\": \"rgb(178,24,43)\"}, \"name\": \"M\\u00e9dio-Alto\", \"offsetgroup\": \"M\\u00e9dio-Alto\", \"orientation\": \"h\", \"showlegend\": true, \"textposition\": \"auto\", \"x\": [6780, 5251, 2571, 60841], \"xaxis\": \"x\", \"y\": [\"Arranjo Populacional de Londrina/PR\", \"Arranjo Populacional de Maring\\u00e1/PR\", \"Arranjo Populacional de Ponta Grossa/PR\", \"Curitiba\"], \"yaxis\": \"y\", \"type\": \"bar\"}, {\"alignmentgroup\": \"True\", \"hovertemplate\": \"N\\u00edvel Tecnol\\u00f3gico=M\\u00e9dio-Baixo<br>Ano=2016<br>Pessoal=%{x}<br>Espa\\u00e7o Metropolitano=%{y}<extra></extra>\", \"legendgroup\": \"M\\u00e9dio-Baixo\", \"marker\": {\"color\": \"rgb(214,96,77)\"}, \"name\": \"M\\u00e9dio-Baixo\", \"offsetgroup\": \"M\\u00e9dio-Baixo\", \"orientation\": \"h\", \"showlegend\": true, \"textposition\": \"auto\", \"x\": [7792, 6450, 4293, 45492], \"xaxis\": \"x\", \"y\": [\"Arranjo Populacional de Londrina/PR\", \"Arranjo Populacional de Maring\\u00e1/PR\", \"Arranjo Populacional de Ponta Grossa/PR\", \"Curitiba\"], \"yaxis\": \"y\", \"type\": \"bar\"}, {\"alignmentgroup\": \"True\", \"hovertemplate\": \"N\\u00edvel Tecnol\\u00f3gico=Baixo<br>Ano=2016<br>Pessoal=%{x}<br>Espa\\u00e7o Metropolitano=%{y}<extra></extra>\", \"legendgroup\": \"Baixo\", \"marker\": {\"color\": \"rgb(244,165,130)\"}, \"name\": \"Baixo\", \"offsetgroup\": \"Baixo\", \"orientation\": \"h\", \"showlegend\": true, \"textposition\": \"auto\", \"x\": [15255, 23083, 10764, 48744], \"xaxis\": \"x\", \"y\": [\"Arranjo Populacional de Londrina/PR\", \"Arranjo Populacional de Maring\\u00e1/PR\", \"Arranjo Populacional de Ponta Grossa/PR\", \"Curitiba\"], \"yaxis\": \"y\", \"type\": \"bar\"}], \"name\": \"2016\"}, {\"data\": [{\"alignmentgroup\": \"True\", \"hovertemplate\": \"N\\u00edvel Tecnol\\u00f3gico=Alto<br>Ano=2017<br>Pessoal=%{x}<br>Espa\\u00e7o Metropolitano=%{y}<extra></extra>\", \"legendgroup\": \"Alto\", \"marker\": {\"color\": \"rgb(103,0,31)\"}, \"name\": \"Alto\", \"offsetgroup\": \"Alto\", \"orientation\": \"h\", \"showlegend\": true, \"textposition\": \"auto\", \"x\": [1151, 735, 21, 6121], \"xaxis\": \"x\", \"y\": [\"Arranjo Populacional de Londrina/PR\", \"Arranjo Populacional de Maring\\u00e1/PR\", \"Arranjo Populacional de Ponta Grossa/PR\", \"Curitiba\"], \"yaxis\": \"y\", \"type\": \"bar\"}, {\"alignmentgroup\": \"True\", \"hovertemplate\": \"N\\u00edvel Tecnol\\u00f3gico=M\\u00e9dio-Alto<br>Ano=2017<br>Pessoal=%{x}<br>Espa\\u00e7o Metropolitano=%{y}<extra></extra>\", \"legendgroup\": \"M\\u00e9dio-Alto\", \"marker\": {\"color\": \"rgb(178,24,43)\"}, \"name\": \"M\\u00e9dio-Alto\", \"offsetgroup\": \"M\\u00e9dio-Alto\", \"orientation\": \"h\", \"showlegend\": true, \"textposition\": \"auto\", \"x\": [6949, 5033, 2505, 61754], \"xaxis\": \"x\", \"y\": [\"Arranjo Populacional de Londrina/PR\", \"Arranjo Populacional de Maring\\u00e1/PR\", \"Arranjo Populacional de Ponta Grossa/PR\", \"Curitiba\"], \"yaxis\": \"y\", \"type\": \"bar\"}, {\"alignmentgroup\": \"True\", \"hovertemplate\": \"N\\u00edvel Tecnol\\u00f3gico=M\\u00e9dio-Baixo<br>Ano=2017<br>Pessoal=%{x}<br>Espa\\u00e7o Metropolitano=%{y}<extra></extra>\", \"legendgroup\": \"M\\u00e9dio-Baixo\", \"marker\": {\"color\": \"rgb(214,96,77)\"}, \"name\": \"M\\u00e9dio-Baixo\", \"offsetgroup\": \"M\\u00e9dio-Baixo\", \"orientation\": \"h\", \"showlegend\": true, \"textposition\": \"auto\", \"x\": [7715, 6345, 4138, 45131], \"xaxis\": \"x\", \"y\": [\"Arranjo Populacional de Londrina/PR\", \"Arranjo Populacional de Maring\\u00e1/PR\", \"Arranjo Populacional de Ponta Grossa/PR\", \"Curitiba\"], \"yaxis\": \"y\", \"type\": \"bar\"}, {\"alignmentgroup\": \"True\", \"hovertemplate\": \"N\\u00edvel Tecnol\\u00f3gico=Baixo<br>Ano=2017<br>Pessoal=%{x}<br>Espa\\u00e7o Metropolitano=%{y}<extra></extra>\", \"legendgroup\": \"Baixo\", \"marker\": {\"color\": \"rgb(244,165,130)\"}, \"name\": \"Baixo\", \"offsetgroup\": \"Baixo\", \"orientation\": \"h\", \"showlegend\": true, \"textposition\": \"auto\", \"x\": [14462, 22571, 12468, 46028], \"xaxis\": \"x\", \"y\": [\"Arranjo Populacional de Londrina/PR\", \"Arranjo Populacional de Maring\\u00e1/PR\", \"Arranjo Populacional de Ponta Grossa/PR\", \"Curitiba\"], \"yaxis\": \"y\", \"type\": \"bar\"}], \"name\": \"2017\"}, {\"data\": [{\"alignmentgroup\": \"True\", \"hovertemplate\": \"N\\u00edvel Tecnol\\u00f3gico=Alto<br>Ano=2018<br>Pessoal=%{x}<br>Espa\\u00e7o Metropolitano=%{y}<extra></extra>\", \"legendgroup\": \"Alto\", \"marker\": {\"color\": \"rgb(103,0,31)\"}, \"name\": \"Alto\", \"offsetgroup\": \"Alto\", \"orientation\": \"h\", \"showlegend\": true, \"textposition\": \"auto\", \"x\": [1125, 731, 7, 6017], \"xaxis\": \"x\", \"y\": [\"Arranjo Populacional de Londrina/PR\", \"Arranjo Populacional de Maring\\u00e1/PR\", \"Arranjo Populacional de Ponta Grossa/PR\", \"Curitiba\"], \"yaxis\": \"y\", \"type\": \"bar\"}, {\"alignmentgroup\": \"True\", \"hovertemplate\": \"N\\u00edvel Tecnol\\u00f3gico=M\\u00e9dio-Alto<br>Ano=2018<br>Pessoal=%{x}<br>Espa\\u00e7o Metropolitano=%{y}<extra></extra>\", \"legendgroup\": \"M\\u00e9dio-Alto\", \"marker\": {\"color\": \"rgb(178,24,43)\"}, \"name\": \"M\\u00e9dio-Alto\", \"offsetgroup\": \"M\\u00e9dio-Alto\", \"orientation\": \"h\", \"showlegend\": true, \"textposition\": \"auto\", \"x\": [7082, 5451, 2862, 64142], \"xaxis\": \"x\", \"y\": [\"Arranjo Populacional de Londrina/PR\", \"Arranjo Populacional de Maring\\u00e1/PR\", \"Arranjo Populacional de Ponta Grossa/PR\", \"Curitiba\"], \"yaxis\": \"y\", \"type\": \"bar\"}, {\"alignmentgroup\": \"True\", \"hovertemplate\": \"N\\u00edvel Tecnol\\u00f3gico=M\\u00e9dio-Baixo<br>Ano=2018<br>Pessoal=%{x}<br>Espa\\u00e7o Metropolitano=%{y}<extra></extra>\", \"legendgroup\": \"M\\u00e9dio-Baixo\", \"marker\": {\"color\": \"rgb(214,96,77)\"}, \"name\": \"M\\u00e9dio-Baixo\", \"offsetgroup\": \"M\\u00e9dio-Baixo\", \"orientation\": \"h\", \"showlegend\": true, \"textposition\": \"auto\", \"x\": [7961, 6363, 4446, 45825], \"xaxis\": \"x\", \"y\": [\"Arranjo Populacional de Londrina/PR\", \"Arranjo Populacional de Maring\\u00e1/PR\", \"Arranjo Populacional de Ponta Grossa/PR\", \"Curitiba\"], \"yaxis\": \"y\", \"type\": \"bar\"}, {\"alignmentgroup\": \"True\", \"hovertemplate\": \"N\\u00edvel Tecnol\\u00f3gico=Baixo<br>Ano=2018<br>Pessoal=%{x}<br>Espa\\u00e7o Metropolitano=%{y}<extra></extra>\", \"legendgroup\": \"Baixo\", \"marker\": {\"color\": \"rgb(244,165,130)\"}, \"name\": \"Baixo\", \"offsetgroup\": \"Baixo\", \"orientation\": \"h\", \"showlegend\": true, \"textposition\": \"auto\", \"x\": [14070, 23102, 10665, 47017], \"xaxis\": \"x\", \"y\": [\"Arranjo Populacional de Londrina/PR\", \"Arranjo Populacional de Maring\\u00e1/PR\", \"Arranjo Populacional de Ponta Grossa/PR\", \"Curitiba\"], \"yaxis\": \"y\", \"type\": \"bar\"}], \"name\": \"2018\"}]);\n",
       "                        }).then(function(){\n",
       "                            \n",
       "var gd = document.getElementById('d8c70561-8f64-4004-93e6-167bccea58d8');\n",
       "var x = new MutationObserver(function (mutations, observer) {{\n",
       "        var display = window.getComputedStyle(gd).display;\n",
       "        if (!display || display === 'none') {{\n",
       "            console.log([gd, 'removed!']);\n",
       "            Plotly.purge(gd);\n",
       "            observer.disconnect();\n",
       "        }}\n",
       "}});\n",
       "\n",
       "// Listen for the removal of the full notebook cells\n",
       "var notebookContainer = gd.closest('#notebook-container');\n",
       "if (notebookContainer) {{\n",
       "    x.observe(notebookContainer, {childList: true});\n",
       "}}\n",
       "\n",
       "// Listen for the clearing of the current output cell\n",
       "var outputEl = gd.closest('.output');\n",
       "if (outputEl) {{\n",
       "    x.observe(outputEl, {childList: true});\n",
       "}}\n",
       "\n",
       "                        })                };                });            </script>        </div>"
      ]
     },
     "metadata": {},
     "output_type": "display_data"
    }
   ],
   "source": [
    "fig = px.bar(\n",
    "    data_frame=df_evolution\n",
    "    , x=df.columns[-1]\n",
    "    , y='Espaço Metropolitano' \n",
    "    , color='Nível Tecnológico'\n",
    "    , animation_frame='Ano'\n",
    "    , orientation='h'\n",
    "    , category_orders={'Espaço Metropolitano': ['Curitiba', 'Arranjo Populacional de Londrina/PR', 'Arranjo Populacional de Maringá/PR', 'Arranjo Populacional de Ponta Grossa/PR']}\n",
    "    , color_discrete_map={\n",
    "        'Alto':'rgb(103,0,31)'\n",
    "        , 'Médio-Alto':'rgb(178,24,43)'\n",
    "        , 'Médio-Baixo':'rgb(214,96,77)'\n",
    "        , 'Baixo':'rgb(244,165,130)'}\n",
    "    , height=700\n",
    "    , title=f'Indústrias no Espaços Metropolitanos Segundo Nível Tecnológico entre 2000 e 2018'\n",
    "    , range_x=(0,250_000)\n",
    "    , barmode='relative'\n",
    ")\n",
    "\n",
    "fig.update_layout(yaxis={'categoryorder':\"sum ascending\"})\n",
    "fig.layout.updatemenus[0].buttons[0].args[1][\"frame\"][\"duration\"] = 2000  \n",
    "\n",
    "fig.show()"
   ]
  },
  {
   "cell_type": "code",
   "execution_count": null,
   "metadata": {},
   "outputs": [],
   "source": []
  },
  {
   "cell_type": "code",
   "execution_count": 8,
   "metadata": {
    "ExecuteTime": {
     "end_time": "2020-10-15T23:06:20.881423Z",
     "start_time": "2020-10-15T23:06:20.734812Z"
    },
    "hide_input": true
   },
   "outputs": [
    {
     "data": {
      "application/vnd.plotly.v1+json": {
       "config": {
        "plotlyServerURL": "https://plot.ly"
       },
       "data": [
        {
         "hovertemplate": "Nível Tecnológico=Alto<br>Ano=%{x}<br>Pessoal=%{y}<extra></extra>",
         "legendgroup": "Alto",
         "line": {
          "color": "rgb(103,0,31)",
          "dash": "solid"
         },
         "mode": "lines",
         "name": "Alto",
         "orientation": "v",
         "showlegend": true,
         "type": "scatter",
         "x": [
          "2000",
          "2001",
          "2002",
          "2003",
          "2004",
          "2005",
          "2006",
          "2007",
          "2008",
          "2009",
          "2010",
          "2011",
          "2012",
          "2013",
          "2014",
          "2015",
          "2016",
          "2017",
          "2018"
         ],
         "xaxis": "x",
         "y": [
          5911,
          5299,
          5535,
          5694,
          6573,
          6890,
          7640,
          10049,
          11799,
          14195,
          12791,
          11586,
          12303,
          11955,
          10920,
          9284,
          7993,
          8028,
          7880
         ],
         "yaxis": "y"
        },
        {
         "hovertemplate": "Nível Tecnológico=Médio-Alto<br>Ano=%{x}<br>Pessoal=%{y}<extra></extra>",
         "legendgroup": "Médio-Alto",
         "line": {
          "color": "rgb(178,24,43)",
          "dash": "solid"
         },
         "mode": "lines",
         "name": "Médio-Alto",
         "orientation": "v",
         "showlegend": true,
         "type": "scatter",
         "x": [
          "2000",
          "2001",
          "2002",
          "2003",
          "2004",
          "2005",
          "2006",
          "2007",
          "2008",
          "2009",
          "2010",
          "2011",
          "2012",
          "2013",
          "2014",
          "2015",
          "2016",
          "2017",
          "2018"
         ],
         "xaxis": "x",
         "y": [
          51983,
          52028,
          54759,
          53100,
          63193,
          65439,
          68162,
          76222,
          79043,
          80411,
          90013,
          97226,
          99016,
          97793,
          90974,
          80242,
          75443,
          76241,
          79537
         ],
         "yaxis": "y"
        },
        {
         "hovertemplate": "Nível Tecnológico=Médio-Baixo<br>Ano=%{x}<br>Pessoal=%{y}<extra></extra>",
         "legendgroup": "Médio-Baixo",
         "line": {
          "color": "rgb(214,96,77)",
          "dash": "solid"
         },
         "mode": "lines",
         "name": "Médio-Baixo",
         "orientation": "v",
         "showlegend": true,
         "type": "scatter",
         "x": [
          "2000",
          "2001",
          "2002",
          "2003",
          "2004",
          "2005",
          "2006",
          "2007",
          "2008",
          "2009",
          "2010",
          "2011",
          "2012",
          "2013",
          "2014",
          "2015",
          "2016",
          "2017",
          "2018"
         ],
         "xaxis": "x",
         "y": [
          38143,
          39577,
          41219,
          44392,
          48927,
          49957,
          57617,
          62334,
          66000,
          65316,
          72002,
          74019,
          75880,
          77420,
          74103,
          68438,
          64027,
          63329,
          64595
         ],
         "yaxis": "y"
        },
        {
         "hovertemplate": "Nível Tecnológico=Baixo<br>Ano=%{x}<br>Pessoal=%{y}<extra></extra>",
         "legendgroup": "Baixo",
         "line": {
          "color": "rgb(244,165,130)",
          "dash": "solid"
         },
         "mode": "lines",
         "name": "Baixo",
         "orientation": "v",
         "showlegend": true,
         "type": "scatter",
         "x": [
          "2000",
          "2001",
          "2002",
          "2003",
          "2004",
          "2005",
          "2006",
          "2007",
          "2008",
          "2009",
          "2010",
          "2011",
          "2012",
          "2013",
          "2014",
          "2015",
          "2016",
          "2017",
          "2018"
         ],
         "xaxis": "x",
         "y": [
          80034,
          81681,
          89021,
          92340,
          98934,
          101186,
          102802,
          110065,
          111223,
          111026,
          118764,
          114570,
          114732,
          113960,
          112353,
          104613,
          97846,
          95529,
          94854
         ],
         "yaxis": "y"
        }
       ],
       "layout": {
        "autosize": true,
        "legend": {
         "title": {
          "text": "Nível Tecnológico"
         },
         "tracegroupgap": 0
        },
        "template": {
         "data": {
          "bar": [
           {
            "error_x": {
             "color": "#2a3f5f"
            },
            "error_y": {
             "color": "#2a3f5f"
            },
            "marker": {
             "line": {
              "color": "#E5ECF6",
              "width": 0.5
             }
            },
            "type": "bar"
           }
          ],
          "barpolar": [
           {
            "marker": {
             "line": {
              "color": "#E5ECF6",
              "width": 0.5
             }
            },
            "type": "barpolar"
           }
          ],
          "carpet": [
           {
            "aaxis": {
             "endlinecolor": "#2a3f5f",
             "gridcolor": "white",
             "linecolor": "white",
             "minorgridcolor": "white",
             "startlinecolor": "#2a3f5f"
            },
            "baxis": {
             "endlinecolor": "#2a3f5f",
             "gridcolor": "white",
             "linecolor": "white",
             "minorgridcolor": "white",
             "startlinecolor": "#2a3f5f"
            },
            "type": "carpet"
           }
          ],
          "choropleth": [
           {
            "colorbar": {
             "outlinewidth": 0,
             "ticks": ""
            },
            "type": "choropleth"
           }
          ],
          "contour": [
           {
            "colorbar": {
             "outlinewidth": 0,
             "ticks": ""
            },
            "colorscale": [
             [
              0,
              "#0d0887"
             ],
             [
              0.1111111111111111,
              "#46039f"
             ],
             [
              0.2222222222222222,
              "#7201a8"
             ],
             [
              0.3333333333333333,
              "#9c179e"
             ],
             [
              0.4444444444444444,
              "#bd3786"
             ],
             [
              0.5555555555555556,
              "#d8576b"
             ],
             [
              0.6666666666666666,
              "#ed7953"
             ],
             [
              0.7777777777777778,
              "#fb9f3a"
             ],
             [
              0.8888888888888888,
              "#fdca26"
             ],
             [
              1,
              "#f0f921"
             ]
            ],
            "type": "contour"
           }
          ],
          "contourcarpet": [
           {
            "colorbar": {
             "outlinewidth": 0,
             "ticks": ""
            },
            "type": "contourcarpet"
           }
          ],
          "heatmap": [
           {
            "colorbar": {
             "outlinewidth": 0,
             "ticks": ""
            },
            "colorscale": [
             [
              0,
              "#0d0887"
             ],
             [
              0.1111111111111111,
              "#46039f"
             ],
             [
              0.2222222222222222,
              "#7201a8"
             ],
             [
              0.3333333333333333,
              "#9c179e"
             ],
             [
              0.4444444444444444,
              "#bd3786"
             ],
             [
              0.5555555555555556,
              "#d8576b"
             ],
             [
              0.6666666666666666,
              "#ed7953"
             ],
             [
              0.7777777777777778,
              "#fb9f3a"
             ],
             [
              0.8888888888888888,
              "#fdca26"
             ],
             [
              1,
              "#f0f921"
             ]
            ],
            "type": "heatmap"
           }
          ],
          "heatmapgl": [
           {
            "colorbar": {
             "outlinewidth": 0,
             "ticks": ""
            },
            "colorscale": [
             [
              0,
              "#0d0887"
             ],
             [
              0.1111111111111111,
              "#46039f"
             ],
             [
              0.2222222222222222,
              "#7201a8"
             ],
             [
              0.3333333333333333,
              "#9c179e"
             ],
             [
              0.4444444444444444,
              "#bd3786"
             ],
             [
              0.5555555555555556,
              "#d8576b"
             ],
             [
              0.6666666666666666,
              "#ed7953"
             ],
             [
              0.7777777777777778,
              "#fb9f3a"
             ],
             [
              0.8888888888888888,
              "#fdca26"
             ],
             [
              1,
              "#f0f921"
             ]
            ],
            "type": "heatmapgl"
           }
          ],
          "histogram": [
           {
            "marker": {
             "colorbar": {
              "outlinewidth": 0,
              "ticks": ""
             }
            },
            "type": "histogram"
           }
          ],
          "histogram2d": [
           {
            "colorbar": {
             "outlinewidth": 0,
             "ticks": ""
            },
            "colorscale": [
             [
              0,
              "#0d0887"
             ],
             [
              0.1111111111111111,
              "#46039f"
             ],
             [
              0.2222222222222222,
              "#7201a8"
             ],
             [
              0.3333333333333333,
              "#9c179e"
             ],
             [
              0.4444444444444444,
              "#bd3786"
             ],
             [
              0.5555555555555556,
              "#d8576b"
             ],
             [
              0.6666666666666666,
              "#ed7953"
             ],
             [
              0.7777777777777778,
              "#fb9f3a"
             ],
             [
              0.8888888888888888,
              "#fdca26"
             ],
             [
              1,
              "#f0f921"
             ]
            ],
            "type": "histogram2d"
           }
          ],
          "histogram2dcontour": [
           {
            "colorbar": {
             "outlinewidth": 0,
             "ticks": ""
            },
            "colorscale": [
             [
              0,
              "#0d0887"
             ],
             [
              0.1111111111111111,
              "#46039f"
             ],
             [
              0.2222222222222222,
              "#7201a8"
             ],
             [
              0.3333333333333333,
              "#9c179e"
             ],
             [
              0.4444444444444444,
              "#bd3786"
             ],
             [
              0.5555555555555556,
              "#d8576b"
             ],
             [
              0.6666666666666666,
              "#ed7953"
             ],
             [
              0.7777777777777778,
              "#fb9f3a"
             ],
             [
              0.8888888888888888,
              "#fdca26"
             ],
             [
              1,
              "#f0f921"
             ]
            ],
            "type": "histogram2dcontour"
           }
          ],
          "mesh3d": [
           {
            "colorbar": {
             "outlinewidth": 0,
             "ticks": ""
            },
            "type": "mesh3d"
           }
          ],
          "parcoords": [
           {
            "line": {
             "colorbar": {
              "outlinewidth": 0,
              "ticks": ""
             }
            },
            "type": "parcoords"
           }
          ],
          "pie": [
           {
            "automargin": true,
            "type": "pie"
           }
          ],
          "scatter": [
           {
            "marker": {
             "colorbar": {
              "outlinewidth": 0,
              "ticks": ""
             }
            },
            "type": "scatter"
           }
          ],
          "scatter3d": [
           {
            "line": {
             "colorbar": {
              "outlinewidth": 0,
              "ticks": ""
             }
            },
            "marker": {
             "colorbar": {
              "outlinewidth": 0,
              "ticks": ""
             }
            },
            "type": "scatter3d"
           }
          ],
          "scattercarpet": [
           {
            "marker": {
             "colorbar": {
              "outlinewidth": 0,
              "ticks": ""
             }
            },
            "type": "scattercarpet"
           }
          ],
          "scattergeo": [
           {
            "marker": {
             "colorbar": {
              "outlinewidth": 0,
              "ticks": ""
             }
            },
            "type": "scattergeo"
           }
          ],
          "scattergl": [
           {
            "marker": {
             "colorbar": {
              "outlinewidth": 0,
              "ticks": ""
             }
            },
            "type": "scattergl"
           }
          ],
          "scattermapbox": [
           {
            "marker": {
             "colorbar": {
              "outlinewidth": 0,
              "ticks": ""
             }
            },
            "type": "scattermapbox"
           }
          ],
          "scatterpolar": [
           {
            "marker": {
             "colorbar": {
              "outlinewidth": 0,
              "ticks": ""
             }
            },
            "type": "scatterpolar"
           }
          ],
          "scatterpolargl": [
           {
            "marker": {
             "colorbar": {
              "outlinewidth": 0,
              "ticks": ""
             }
            },
            "type": "scatterpolargl"
           }
          ],
          "scatterternary": [
           {
            "marker": {
             "colorbar": {
              "outlinewidth": 0,
              "ticks": ""
             }
            },
            "type": "scatterternary"
           }
          ],
          "surface": [
           {
            "colorbar": {
             "outlinewidth": 0,
             "ticks": ""
            },
            "colorscale": [
             [
              0,
              "#0d0887"
             ],
             [
              0.1111111111111111,
              "#46039f"
             ],
             [
              0.2222222222222222,
              "#7201a8"
             ],
             [
              0.3333333333333333,
              "#9c179e"
             ],
             [
              0.4444444444444444,
              "#bd3786"
             ],
             [
              0.5555555555555556,
              "#d8576b"
             ],
             [
              0.6666666666666666,
              "#ed7953"
             ],
             [
              0.7777777777777778,
              "#fb9f3a"
             ],
             [
              0.8888888888888888,
              "#fdca26"
             ],
             [
              1,
              "#f0f921"
             ]
            ],
            "type": "surface"
           }
          ],
          "table": [
           {
            "cells": {
             "fill": {
              "color": "#EBF0F8"
             },
             "line": {
              "color": "white"
             }
            },
            "header": {
             "fill": {
              "color": "#C8D4E3"
             },
             "line": {
              "color": "white"
             }
            },
            "type": "table"
           }
          ]
         },
         "layout": {
          "annotationdefaults": {
           "arrowcolor": "#2a3f5f",
           "arrowhead": 0,
           "arrowwidth": 1
          },
          "coloraxis": {
           "colorbar": {
            "outlinewidth": 0,
            "ticks": ""
           }
          },
          "colorscale": {
           "diverging": [
            [
             0,
             "#8e0152"
            ],
            [
             0.1,
             "#c51b7d"
            ],
            [
             0.2,
             "#de77ae"
            ],
            [
             0.3,
             "#f1b6da"
            ],
            [
             0.4,
             "#fde0ef"
            ],
            [
             0.5,
             "#f7f7f7"
            ],
            [
             0.6,
             "#e6f5d0"
            ],
            [
             0.7,
             "#b8e186"
            ],
            [
             0.8,
             "#7fbc41"
            ],
            [
             0.9,
             "#4d9221"
            ],
            [
             1,
             "#276419"
            ]
           ],
           "sequential": [
            [
             0,
             "#0d0887"
            ],
            [
             0.1111111111111111,
             "#46039f"
            ],
            [
             0.2222222222222222,
             "#7201a8"
            ],
            [
             0.3333333333333333,
             "#9c179e"
            ],
            [
             0.4444444444444444,
             "#bd3786"
            ],
            [
             0.5555555555555556,
             "#d8576b"
            ],
            [
             0.6666666666666666,
             "#ed7953"
            ],
            [
             0.7777777777777778,
             "#fb9f3a"
            ],
            [
             0.8888888888888888,
             "#fdca26"
            ],
            [
             1,
             "#f0f921"
            ]
           ],
           "sequentialminus": [
            [
             0,
             "#0d0887"
            ],
            [
             0.1111111111111111,
             "#46039f"
            ],
            [
             0.2222222222222222,
             "#7201a8"
            ],
            [
             0.3333333333333333,
             "#9c179e"
            ],
            [
             0.4444444444444444,
             "#bd3786"
            ],
            [
             0.5555555555555556,
             "#d8576b"
            ],
            [
             0.6666666666666666,
             "#ed7953"
            ],
            [
             0.7777777777777778,
             "#fb9f3a"
            ],
            [
             0.8888888888888888,
             "#fdca26"
            ],
            [
             1,
             "#f0f921"
            ]
           ]
          },
          "colorway": [
           "#636efa",
           "#EF553B",
           "#00cc96",
           "#ab63fa",
           "#FFA15A",
           "#19d3f3",
           "#FF6692",
           "#B6E880",
           "#FF97FF",
           "#FECB52"
          ],
          "font": {
           "color": "#2a3f5f"
          },
          "geo": {
           "bgcolor": "white",
           "lakecolor": "white",
           "landcolor": "#E5ECF6",
           "showlakes": true,
           "showland": true,
           "subunitcolor": "white"
          },
          "hoverlabel": {
           "align": "left"
          },
          "hovermode": "closest",
          "mapbox": {
           "style": "light"
          },
          "paper_bgcolor": "white",
          "plot_bgcolor": "#E5ECF6",
          "polar": {
           "angularaxis": {
            "gridcolor": "white",
            "linecolor": "white",
            "ticks": ""
           },
           "bgcolor": "#E5ECF6",
           "radialaxis": {
            "gridcolor": "white",
            "linecolor": "white",
            "ticks": ""
           }
          },
          "scene": {
           "xaxis": {
            "backgroundcolor": "#E5ECF6",
            "gridcolor": "white",
            "gridwidth": 2,
            "linecolor": "white",
            "showbackground": true,
            "ticks": "",
            "zerolinecolor": "white"
           },
           "yaxis": {
            "backgroundcolor": "#E5ECF6",
            "gridcolor": "white",
            "gridwidth": 2,
            "linecolor": "white",
            "showbackground": true,
            "ticks": "",
            "zerolinecolor": "white"
           },
           "zaxis": {
            "backgroundcolor": "#E5ECF6",
            "gridcolor": "white",
            "gridwidth": 2,
            "linecolor": "white",
            "showbackground": true,
            "ticks": "",
            "zerolinecolor": "white"
           }
          },
          "shapedefaults": {
           "line": {
            "color": "#2a3f5f"
           }
          },
          "ternary": {
           "aaxis": {
            "gridcolor": "white",
            "linecolor": "white",
            "ticks": ""
           },
           "baxis": {
            "gridcolor": "white",
            "linecolor": "white",
            "ticks": ""
           },
           "bgcolor": "#E5ECF6",
           "caxis": {
            "gridcolor": "white",
            "linecolor": "white",
            "ticks": ""
           }
          },
          "title": {
           "x": 0.05
          },
          "xaxis": {
           "automargin": true,
           "gridcolor": "white",
           "linecolor": "white",
           "ticks": "",
           "title": {
            "standoff": 15
           },
           "zerolinecolor": "white",
           "zerolinewidth": 2
          },
          "yaxis": {
           "automargin": true,
           "gridcolor": "white",
           "linecolor": "white",
           "ticks": "",
           "title": {
            "standoff": 15
           },
           "zerolinecolor": "white",
           "zerolinewidth": 2
          }
         }
        },
        "title": {
         "text": "Nível Tecnológico das Indústrias no Conjunto dos Espaços Metropolitanos Brasileiros entre 2000 e 2018"
        },
        "xaxis": {
         "anchor": "y",
         "autorange": true,
         "domain": [
          0,
          1
         ],
         "range": [
          2000,
          2018
         ],
         "title": {
          "text": "Ano"
         },
         "type": "linear"
        },
        "yaxis": {
         "anchor": "x",
         "autorange": true,
         "domain": [
          0,
          1
         ],
         "range": [
          -1004.6111111111113,
          125067.61111111111
         ],
         "title": {
          "text": "Pessoal"
         },
         "type": "linear"
        }
       }
      },
      "image/png": "[encoded data removed]",
      "text/html": [
       "<div>                            <div id=\"ff70601c-7512-4b91-95aa-89fb1fdaf49d\" class=\"plotly-graph-div\" style=\"height:700px; width:100%;\"></div>            <script type=\"text/javascript\">                require([\"plotly\"], function(Plotly) {                    window.PLOTLYENV=window.PLOTLYENV || {};                                    if (document.getElementById(\"ff70601c-7512-4b91-95aa-89fb1fdaf49d\")) {                    Plotly.newPlot(                        \"ff70601c-7512-4b91-95aa-89fb1fdaf49d\",                        [{\"hovertemplate\": \"N\\u00edvel Tecnol\\u00f3gico=Alto<br>Ano=%{x}<br>Pessoal=%{y}<extra></extra>\", \"legendgroup\": \"Alto\", \"line\": {\"color\": \"rgb(103,0,31)\", \"dash\": \"solid\"}, \"mode\": \"lines\", \"name\": \"Alto\", \"orientation\": \"v\", \"showlegend\": true, \"type\": \"scatter\", \"x\": [\"2000\", \"2001\", \"2002\", \"2003\", \"2004\", \"2005\", \"2006\", \"2007\", \"2008\", \"2009\", \"2010\", \"2011\", \"2012\", \"2013\", \"2014\", \"2015\", \"2016\", \"2017\", \"2018\"], \"xaxis\": \"x\", \"y\": [5911, 5299, 5535, 5694, 6573, 6890, 7640, 10049, 11799, 14195, 12791, 11586, 12303, 11955, 10920, 9284, 7993, 8028, 7880], \"yaxis\": \"y\"}, {\"hovertemplate\": \"N\\u00edvel Tecnol\\u00f3gico=M\\u00e9dio-Alto<br>Ano=%{x}<br>Pessoal=%{y}<extra></extra>\", \"legendgroup\": \"M\\u00e9dio-Alto\", \"line\": {\"color\": \"rgb(178,24,43)\", \"dash\": \"solid\"}, \"mode\": \"lines\", \"name\": \"M\\u00e9dio-Alto\", \"orientation\": \"v\", \"showlegend\": true, \"type\": \"scatter\", \"x\": [\"2000\", \"2001\", \"2002\", \"2003\", \"2004\", \"2005\", \"2006\", \"2007\", \"2008\", \"2009\", \"2010\", \"2011\", \"2012\", \"2013\", \"2014\", \"2015\", \"2016\", \"2017\", \"2018\"], \"xaxis\": \"x\", \"y\": [51983, 52028, 54759, 53100, 63193, 65439, 68162, 76222, 79043, 80411, 90013, 97226, 99016, 97793, 90974, 80242, 75443, 76241, 79537], \"yaxis\": \"y\"}, {\"hovertemplate\": \"N\\u00edvel Tecnol\\u00f3gico=M\\u00e9dio-Baixo<br>Ano=%{x}<br>Pessoal=%{y}<extra></extra>\", \"legendgroup\": \"M\\u00e9dio-Baixo\", \"line\": {\"color\": \"rgb(214,96,77)\", \"dash\": \"solid\"}, \"mode\": \"lines\", \"name\": \"M\\u00e9dio-Baixo\", \"orientation\": \"v\", \"showlegend\": true, \"type\": \"scatter\", \"x\": [\"2000\", \"2001\", \"2002\", \"2003\", \"2004\", \"2005\", \"2006\", \"2007\", \"2008\", \"2009\", \"2010\", \"2011\", \"2012\", \"2013\", \"2014\", \"2015\", \"2016\", \"2017\", \"2018\"], \"xaxis\": \"x\", \"y\": [38143, 39577, 41219, 44392, 48927, 49957, 57617, 62334, 66000, 65316, 72002, 74019, 75880, 77420, 74103, 68438, 64027, 63329, 64595], \"yaxis\": \"y\"}, {\"hovertemplate\": \"N\\u00edvel Tecnol\\u00f3gico=Baixo<br>Ano=%{x}<br>Pessoal=%{y}<extra></extra>\", \"legendgroup\": \"Baixo\", \"line\": {\"color\": \"rgb(244,165,130)\", \"dash\": \"solid\"}, \"mode\": \"lines\", \"name\": \"Baixo\", \"orientation\": \"v\", \"showlegend\": true, \"type\": \"scatter\", \"x\": [\"2000\", \"2001\", \"2002\", \"2003\", \"2004\", \"2005\", \"2006\", \"2007\", \"2008\", \"2009\", \"2010\", \"2011\", \"2012\", \"2013\", \"2014\", \"2015\", \"2016\", \"2017\", \"2018\"], \"xaxis\": \"x\", \"y\": [80034, 81681, 89021, 92340, 98934, 101186, 102802, 110065, 111223, 111026, 118764, 114570, 114732, 113960, 112353, 104613, 97846, 95529, 94854], \"yaxis\": \"y\"}],                        {\"height\": 700, \"legend\": {\"title\": {\"text\": \"N\\u00edvel Tecnol\\u00f3gico\"}, \"tracegroupgap\": 0}, \"template\": {\"data\": {\"bar\": [{\"error_x\": {\"color\": \"#2a3f5f\"}, \"error_y\": {\"color\": \"#2a3f5f\"}, \"marker\": {\"line\": {\"color\": \"#E5ECF6\", \"width\": 0.5}}, \"type\": \"bar\"}], \"barpolar\": [{\"marker\": {\"line\": {\"color\": \"#E5ECF6\", \"width\": 0.5}}, \"type\": \"barpolar\"}], \"carpet\": [{\"aaxis\": {\"endlinecolor\": \"#2a3f5f\", \"gridcolor\": \"white\", \"linecolor\": \"white\", \"minorgridcolor\": \"white\", \"startlinecolor\": \"#2a3f5f\"}, \"baxis\": {\"endlinecolor\": \"#2a3f5f\", \"gridcolor\": \"white\", \"linecolor\": \"white\", \"minorgridcolor\": \"white\", \"startlinecolor\": \"#2a3f5f\"}, \"type\": \"carpet\"}], \"choropleth\": [{\"colorbar\": {\"outlinewidth\": 0, \"ticks\": \"\"}, \"type\": \"choropleth\"}], \"contour\": [{\"colorbar\": {\"outlinewidth\": 0, \"ticks\": \"\"}, \"colorscale\": [[0.0, \"#0d0887\"], [0.1111111111111111, \"#46039f\"], [0.2222222222222222, \"#7201a8\"], [0.3333333333333333, \"#9c179e\"], [0.4444444444444444, \"#bd3786\"], [0.5555555555555556, \"#d8576b\"], [0.6666666666666666, \"#ed7953\"], [0.7777777777777778, \"#fb9f3a\"], [0.8888888888888888, \"#fdca26\"], [1.0, \"#f0f921\"]], \"type\": \"contour\"}], \"contourcarpet\": [{\"colorbar\": {\"outlinewidth\": 0, \"ticks\": \"\"}, \"type\": \"contourcarpet\"}], \"heatmap\": [{\"colorbar\": {\"outlinewidth\": 0, \"ticks\": \"\"}, \"colorscale\": [[0.0, \"#0d0887\"], [0.1111111111111111, \"#46039f\"], [0.2222222222222222, \"#7201a8\"], [0.3333333333333333, \"#9c179e\"], [0.4444444444444444, \"#bd3786\"], [0.5555555555555556, \"#d8576b\"], [0.6666666666666666, \"#ed7953\"], [0.7777777777777778, \"#fb9f3a\"], [0.8888888888888888, \"#fdca26\"], [1.0, \"#f0f921\"]], \"type\": \"heatmap\"}], \"heatmapgl\": [{\"colorbar\": {\"outlinewidth\": 0, \"ticks\": \"\"}, \"colorscale\": [[0.0, \"#0d0887\"], [0.1111111111111111, \"#46039f\"], [0.2222222222222222, \"#7201a8\"], [0.3333333333333333, \"#9c179e\"], [0.4444444444444444, \"#bd3786\"], [0.5555555555555556, \"#d8576b\"], [0.6666666666666666, \"#ed7953\"], [0.7777777777777778, \"#fb9f3a\"], [0.8888888888888888, \"#fdca26\"], [1.0, \"#f0f921\"]], \"type\": \"heatmapgl\"}], \"histogram\": [{\"marker\": {\"colorbar\": {\"outlinewidth\": 0, \"ticks\": \"\"}}, \"type\": \"histogram\"}], \"histogram2d\": [{\"colorbar\": {\"outlinewidth\": 0, \"ticks\": \"\"}, \"colorscale\": [[0.0, \"#0d0887\"], [0.1111111111111111, \"#46039f\"], [0.2222222222222222, \"#7201a8\"], [0.3333333333333333, \"#9c179e\"], [0.4444444444444444, \"#bd3786\"], [0.5555555555555556, \"#d8576b\"], [0.6666666666666666, \"#ed7953\"], [0.7777777777777778, \"#fb9f3a\"], [0.8888888888888888, \"#fdca26\"], [1.0, \"#f0f921\"]], \"type\": \"histogram2d\"}], \"histogram2dcontour\": [{\"colorbar\": {\"outlinewidth\": 0, \"ticks\": \"\"}, \"colorscale\": [[0.0, \"#0d0887\"], [0.1111111111111111, \"#46039f\"], [0.2222222222222222, \"#7201a8\"], [0.3333333333333333, \"#9c179e\"], [0.4444444444444444, \"#bd3786\"], [0.5555555555555556, \"#d8576b\"], [0.6666666666666666, \"#ed7953\"], [0.7777777777777778, \"#fb9f3a\"], [0.8888888888888888, \"#fdca26\"], [1.0, \"#f0f921\"]], \"type\": \"histogram2dcontour\"}], \"mesh3d\": [{\"colorbar\": {\"outlinewidth\": 0, \"ticks\": \"\"}, \"type\": \"mesh3d\"}], \"parcoords\": [{\"line\": {\"colorbar\": {\"outlinewidth\": 0, \"ticks\": \"\"}}, \"type\": \"parcoords\"}], \"pie\": [{\"automargin\": true, \"type\": \"pie\"}], \"scatter\": [{\"marker\": {\"colorbar\": {\"outlinewidth\": 0, \"ticks\": \"\"}}, \"type\": \"scatter\"}], \"scatter3d\": [{\"line\": {\"colorbar\": {\"outlinewidth\": 0, \"ticks\": \"\"}}, \"marker\": {\"colorbar\": {\"outlinewidth\": 0, \"ticks\": \"\"}}, \"type\": \"scatter3d\"}], \"scattercarpet\": [{\"marker\": {\"colorbar\": {\"outlinewidth\": 0, \"ticks\": \"\"}}, \"type\": \"scattercarpet\"}], \"scattergeo\": [{\"marker\": {\"colorbar\": {\"outlinewidth\": 0, \"ticks\": \"\"}}, \"type\": \"scattergeo\"}], \"scattergl\": [{\"marker\": {\"colorbar\": {\"outlinewidth\": 0, \"ticks\": \"\"}}, \"type\": \"scattergl\"}], \"scattermapbox\": [{\"marker\": {\"colorbar\": {\"outlinewidth\": 0, \"ticks\": \"\"}}, \"type\": \"scattermapbox\"}], \"scatterpolar\": [{\"marker\": {\"colorbar\": {\"outlinewidth\": 0, \"ticks\": \"\"}}, \"type\": \"scatterpolar\"}], \"scatterpolargl\": [{\"marker\": {\"colorbar\": {\"outlinewidth\": 0, \"ticks\": \"\"}}, \"type\": \"scatterpolargl\"}], \"scatterternary\": [{\"marker\": {\"colorbar\": {\"outlinewidth\": 0, \"ticks\": \"\"}}, \"type\": \"scatterternary\"}], \"surface\": [{\"colorbar\": {\"outlinewidth\": 0, \"ticks\": \"\"}, \"colorscale\": [[0.0, \"#0d0887\"], [0.1111111111111111, \"#46039f\"], [0.2222222222222222, \"#7201a8\"], [0.3333333333333333, \"#9c179e\"], [0.4444444444444444, \"#bd3786\"], [0.5555555555555556, \"#d8576b\"], [0.6666666666666666, \"#ed7953\"], [0.7777777777777778, \"#fb9f3a\"], [0.8888888888888888, \"#fdca26\"], [1.0, \"#f0f921\"]], \"type\": \"surface\"}], \"table\": [{\"cells\": {\"fill\": {\"color\": \"#EBF0F8\"}, \"line\": {\"color\": \"white\"}}, \"header\": {\"fill\": {\"color\": \"#C8D4E3\"}, \"line\": {\"color\": \"white\"}}, \"type\": \"table\"}]}, \"layout\": {\"annotationdefaults\": {\"arrowcolor\": \"#2a3f5f\", \"arrowhead\": 0, \"arrowwidth\": 1}, \"coloraxis\": {\"colorbar\": {\"outlinewidth\": 0, \"ticks\": \"\"}}, \"colorscale\": {\"diverging\": [[0, \"#8e0152\"], [0.1, \"#c51b7d\"], [0.2, \"#de77ae\"], [0.3, \"#f1b6da\"], [0.4, \"#fde0ef\"], [0.5, \"#f7f7f7\"], [0.6, \"#e6f5d0\"], [0.7, \"#b8e186\"], [0.8, \"#7fbc41\"], [0.9, \"#4d9221\"], [1, \"#276419\"]], \"sequential\": [[0.0, \"#0d0887\"], [0.1111111111111111, \"#46039f\"], [0.2222222222222222, \"#7201a8\"], [0.3333333333333333, \"#9c179e\"], [0.4444444444444444, \"#bd3786\"], [0.5555555555555556, \"#d8576b\"], [0.6666666666666666, \"#ed7953\"], [0.7777777777777778, \"#fb9f3a\"], [0.8888888888888888, \"#fdca26\"], [1.0, \"#f0f921\"]], \"sequentialminus\": [[0.0, \"#0d0887\"], [0.1111111111111111, \"#46039f\"], [0.2222222222222222, \"#7201a8\"], [0.3333333333333333, \"#9c179e\"], [0.4444444444444444, \"#bd3786\"], [0.5555555555555556, \"#d8576b\"], [0.6666666666666666, \"#ed7953\"], [0.7777777777777778, \"#fb9f3a\"], [0.8888888888888888, \"#fdca26\"], [1.0, \"#f0f921\"]]}, \"colorway\": [\"#636efa\", \"#EF553B\", \"#00cc96\", \"#ab63fa\", \"#FFA15A\", \"#19d3f3\", \"#FF6692\", \"#B6E880\", \"#FF97FF\", \"#FECB52\"], \"font\": {\"color\": \"#2a3f5f\"}, \"geo\": {\"bgcolor\": \"white\", \"lakecolor\": \"white\", \"landcolor\": \"#E5ECF6\", \"showlakes\": true, \"showland\": true, \"subunitcolor\": \"white\"}, \"hoverlabel\": {\"align\": \"left\"}, \"hovermode\": \"closest\", \"mapbox\": {\"style\": \"light\"}, \"paper_bgcolor\": \"white\", \"plot_bgcolor\": \"#E5ECF6\", \"polar\": {\"angularaxis\": {\"gridcolor\": \"white\", \"linecolor\": \"white\", \"ticks\": \"\"}, \"bgcolor\": \"#E5ECF6\", \"radialaxis\": {\"gridcolor\": \"white\", \"linecolor\": \"white\", \"ticks\": \"\"}}, \"scene\": {\"xaxis\": {\"backgroundcolor\": \"#E5ECF6\", \"gridcolor\": \"white\", \"gridwidth\": 2, \"linecolor\": \"white\", \"showbackground\": true, \"ticks\": \"\", \"zerolinecolor\": \"white\"}, \"yaxis\": {\"backgroundcolor\": \"#E5ECF6\", \"gridcolor\": \"white\", \"gridwidth\": 2, \"linecolor\": \"white\", \"showbackground\": true, \"ticks\": \"\", \"zerolinecolor\": \"white\"}, \"zaxis\": {\"backgroundcolor\": \"#E5ECF6\", \"gridcolor\": \"white\", \"gridwidth\": 2, \"linecolor\": \"white\", \"showbackground\": true, \"ticks\": \"\", \"zerolinecolor\": \"white\"}}, \"shapedefaults\": {\"line\": {\"color\": \"#2a3f5f\"}}, \"ternary\": {\"aaxis\": {\"gridcolor\": \"white\", \"linecolor\": \"white\", \"ticks\": \"\"}, \"baxis\": {\"gridcolor\": \"white\", \"linecolor\": \"white\", \"ticks\": \"\"}, \"bgcolor\": \"#E5ECF6\", \"caxis\": {\"gridcolor\": \"white\", \"linecolor\": \"white\", \"ticks\": \"\"}}, \"title\": {\"x\": 0.05}, \"xaxis\": {\"automargin\": true, \"gridcolor\": \"white\", \"linecolor\": \"white\", \"ticks\": \"\", \"title\": {\"standoff\": 15}, \"zerolinecolor\": \"white\", \"zerolinewidth\": 2}, \"yaxis\": {\"automargin\": true, \"gridcolor\": \"white\", \"linecolor\": \"white\", \"ticks\": \"\", \"title\": {\"standoff\": 15}, \"zerolinecolor\": \"white\", \"zerolinewidth\": 2}}}, \"title\": {\"text\": \"N\\u00edvel Tecnol\\u00f3gico das Ind\\u00fastrias no Conjunto dos Espa\\u00e7os Metropolitanos Brasileiros entre 2000 e 2018\"}, \"xaxis\": {\"anchor\": \"y\", \"domain\": [0.0, 1.0], \"title\": {\"text\": \"Ano\"}}, \"yaxis\": {\"anchor\": \"x\", \"domain\": [0.0, 1.0], \"title\": {\"text\": \"Pessoal\"}}},                        {\"responsive\": true}                    ).then(function(){\n",
       "                            \n",
       "var gd = document.getElementById('ff70601c-7512-4b91-95aa-89fb1fdaf49d');\n",
       "var x = new MutationObserver(function (mutations, observer) {{\n",
       "        var display = window.getComputedStyle(gd).display;\n",
       "        if (!display || display === 'none') {{\n",
       "            console.log([gd, 'removed!']);\n",
       "            Plotly.purge(gd);\n",
       "            observer.disconnect();\n",
       "        }}\n",
       "}});\n",
       "\n",
       "// Listen for the removal of the full notebook cells\n",
       "var notebookContainer = gd.closest('#notebook-container');\n",
       "if (notebookContainer) {{\n",
       "    x.observe(notebookContainer, {childList: true});\n",
       "}}\n",
       "\n",
       "// Listen for the clearing of the current output cell\n",
       "var outputEl = gd.closest('.output');\n",
       "if (outputEl) {{\n",
       "    x.observe(outputEl, {childList: true});\n",
       "}}\n",
       "\n",
       "                        })                };                });            </script>        </div>"
      ]
     },
     "metadata": {},
     "output_type": "display_data"
    }
   ],
   "source": [
    "fig = ind.ind_tech_level_evolution_line_plot(\n",
    "    list_met=['Total']\n",
    "    , title='Nível Tecnológico das Indústrias no Conjunto dos Espaços Metropolitanos Brasileiros entre 2000 e 2018'\n",
    ")\n",
    "fig.show()"
   ]
  },
  {
   "cell_type": "code",
   "execution_count": null,
   "metadata": {},
   "outputs": [],
   "source": []
  }
 ],
 "metadata": {
  "kernelspec": {
   "display_name": "inovation_panel",
   "language": "python",
   "name": "inovation_panel"
  },
  "language_info": {
   "codemirror_mode": {
    "name": "ipython",
    "version": 3
   },
   "file_extension": ".py",
   "mimetype": "text/x-python",
   "name": "python",
   "nbconvert_exporter": "python",
   "pygments_lexer": "ipython3",
   "version": "3.6.10"
  },
  "toc": {
   "base_numbering": 1,
   "nav_menu": {},
   "number_sections": true,
   "sideBar": true,
   "skip_h1_title": true,
   "title_cell": "Table of Contents",
   "title_sidebar": "Contents",
   "toc_cell": false,
   "toc_position": {},
   "toc_section_display": true,
   "toc_window_display": false
  }
 },
 "nbformat": 4,
 "nbformat_minor": 4
}
