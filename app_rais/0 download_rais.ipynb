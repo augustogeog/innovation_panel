{
 "cells": [
  {
   "cell_type": "code",
   "execution_count": 2,
   "metadata": {
    "ExecuteTime": {
     "end_time": "2020-09-25T17:47:47.034032Z",
     "start_time": "2020-09-25T17:47:47.024059Z"
    }
   },
   "outputs": [],
   "source": [
    "import wget # package for dowloading data from the web\n",
    "import os\n",
    "from itertools import product\n",
    "import py7zr\n",
    "\n",
    "import glob"
   ]
  },
  {
   "cell_type": "code",
   "execution_count": 3,
   "metadata": {},
   "outputs": [
    {
     "ename": "NameError",
     "evalue": "name '__file__' is not defined",
     "output_type": "error",
     "traceback": [
      "\u001b[1;31m---------------------------------------------------------------------------\u001b[0m",
      "\u001b[1;31mNameError\u001b[0m                                 Traceback (most recent call last)",
      "\u001b[1;32m<ipython-input-3-32a3f939449a>\u001b[0m in \u001b[0;36m<module>\u001b[1;34m\u001b[0m\n\u001b[1;32m----> 1\u001b[1;33m \u001b[0mmodulepath\u001b[0m \u001b[1;33m=\u001b[0m \u001b[0mos\u001b[0m\u001b[1;33m.\u001b[0m\u001b[0mpath\u001b[0m\u001b[1;33m.\u001b[0m\u001b[0mdirname\u001b[0m\u001b[1;33m(\u001b[0m\u001b[0m__file__\u001b[0m\u001b[1;33m)\u001b[0m\u001b[1;33m\u001b[0m\u001b[1;33m\u001b[0m\u001b[0m\n\u001b[0m",
      "\u001b[1;31mNameError\u001b[0m: name '__file__' is not defined"
     ]
    }
   ],
   "source": [
    "modulepath = os.path.dirname(__file__)"
   ]
  },
  {
   "cell_type": "code",
   "execution_count": 5,
   "metadata": {
    "ExecuteTime": {
     "end_time": "2020-09-25T18:31:14.918612Z",
     "start_time": "2020-09-25T18:31:14.913625Z"
    }
   },
   "outputs": [],
   "source": [
    "# list_ufs = ['AM', 'BA', 'CE', 'DF', 'ES', 'GO', 'MG','PA','PE','PR','RJ','RS','SC','SP']"
   ]
  },
  {
   "cell_type": "code",
   "execution_count": 6,
   "metadata": {},
   "outputs": [],
   "source": [
    "def download_rais(list_ufs = ['PR', 'RS', 'PE'], list_year=[ year for year in range(2007, 2018)]):\n",
    "    '''\n",
    "    Downloads RAIS files from ftp to their respective directories\n",
    "    It doesn't work for 2018\n",
    "    '''\n",
    "    # downloads RAIS files from ftp to their respective directories\n",
    "    # NÃO SERVE PARA 2018!!!!!\n",
    "    for year, uf in product(list_year, list_ufs):\n",
    "        if year == '2018': # arrumar isso aqui\n",
    "            break\n",
    "        directory = os.path.join(os.getcwd(), 'data\\\\rais_original\\\\', str(year) + '\\\\')\n",
    "        os.makedirs(directory, exist_ok=True)\n",
    "        if not os.path.isfile(os.path.join(directory, uf.upper() + str(year) + '.7z')):\n",
    "            year = str(year) + '/'\n",
    "            link = 'ftp://ftp.mtps.gov.br/pdet/microdados/RAIS/' + str(year) + uf + year[:-1] + '.7z'\n",
    "\n",
    "            zipfile = os.path.join(directory, uf.upper() + year[:-1] + '.7z')\n",
    "            wget.download(url=link, \n",
    "                          out=zipfile)\n",
    "\n",
    "            print(f' - {zipfile} downloaded.')"
   ]
  },
  {
   "cell_type": "code",
   "execution_count": 7,
   "metadata": {},
   "outputs": [
    {
     "name": "stdout",
     "output_type": "stream",
     "text": [
      "-1 / unknownD:\\sistema de inovacao\\app_rais\\data\\rais_original\\2007\\PR2007.7z downloaded.\n",
      "-1 / unknownD:\\sistema de inovacao\\app_rais\\data\\rais_original\\2007\\RS2007.7z downloaded.\n",
      "-1 / unknownD:\\sistema de inovacao\\app_rais\\data\\rais_original\\2007\\PE2007.7z downloaded.\n"
     ]
    }
   ],
   "source": [
    "download_rais()"
   ]
  },
  {
   "cell_type": "code",
   "execution_count": 8,
   "metadata": {
    "ExecuteTime": {
     "end_time": "2020-09-25T19:28:47.288488Z",
     "start_time": "2020-09-25T19:28:47.282542Z"
    },
    "code_folding": []
   },
   "outputs": [],
   "source": [
    "def extract_rais_original(path_pattern='data/rais_original/**/*.7z'):\n",
    "    \"\"\"\n",
    "    Extracts all available original 7zip files inside the rais_original subdirectories.\n",
    "    \n",
    "    \"\"\"\n",
    "\n",
    "    list_files = glob.glob(path_pattern, recursive=True)\n",
    "    for file in list_files:\n",
    "        base = os.path.splitext(file)[0]\n",
    "        \n",
    "        if not os.path.isfile(base + '.txt'):\n",
    "            \n",
    "            print(os.path.isfile(base + '.txt'))\n",
    "            with py7zr.SevenZipFile(file, mode='r') as z: \n",
    "                z.extractall(path=os.path.dirname(file))\n",
    "            print(f'{base}\".txt\" extracted.')\n",
    "        else:\n",
    "            print(f'{base}\".txt\" already present.')"
   ]
  },
  {
   "cell_type": "code",
   "execution_count": 9,
   "metadata": {
    "ExecuteTime": {
     "end_time": "2020-09-25T19:28:53.220929Z",
     "start_time": "2020-09-25T19:28:53.146934Z"
    }
   },
   "outputs": [
    {
     "name": "stdout",
     "output_type": "stream",
     "text": [
      "False\n",
      "data/rais_original\\2007\\PE2007\".txt\" extracted.\n",
      "False\n",
      "data/rais_original\\2007\\PR2007\".txt\" extracted.\n",
      "False\n",
      "data/rais_original\\2007\\RS2007\".txt\" extracted.\n",
      "data/rais_original\\2008\\PE2008\".txt\" already present.\n",
      "False\n",
      "data/rais_original\\2008\\PR2008\".txt\" extracted.\n",
      "False\n",
      "data/rais_original\\2008\\RS2008\".txt\" extracted.\n",
      "data/rais_original\\2009\\AC2009\".txt\" already present.\n",
      "data/rais_original\\2009\\PE2009\".txt\" already present.\n",
      "data/rais_original\\2009\\PR2009\".txt\" already present.\n",
      "False\n",
      "data/rais_original\\2009\\RS2009\".txt\" extracted.\n",
      "data/rais_original\\2010\\AC2010\".txt\" already present.\n",
      "data/rais_original\\2010\\PE2010\".txt\" already present.\n",
      "data/rais_original\\2010\\PR2010\".txt\" already present.\n",
      "data/rais_original\\2010\\RS2010\".txt\" already present.\n",
      "data/rais_original\\2011\\AC2011\".txt\" already present.\n",
      "data/rais_original\\2011\\PE2011\".txt\" already present.\n",
      "data/rais_original\\2011\\PR2011\".txt\" already present.\n",
      "data/rais_original\\2011\\RS2011\".txt\" already present.\n",
      "data/rais_original\\2012\\AC2012\".txt\" already present.\n",
      "data/rais_original\\2012\\PE2012\".txt\" already present.\n",
      "data/rais_original\\2012\\PR2012\".txt\" already present.\n",
      "data/rais_original\\2012\\RS2012\".txt\" already present.\n",
      "data/rais_original\\2013\\PE2013\".txt\" already present.\n",
      "data/rais_original\\2013\\PR2013\".txt\" already present.\n",
      "data/rais_original\\2013\\RS2013\".txt\" already present.\n",
      "data/rais_original\\2014\\PE2014\".txt\" already present.\n",
      "data/rais_original\\2014\\PR2014\".txt\" already present.\n",
      "data/rais_original\\2014\\RS2014\".txt\" already present.\n",
      "data/rais_original\\2015\\PE2015\".txt\" already present.\n",
      "data/rais_original\\2015\\PR2015\".txt\" already present.\n",
      "data/rais_original\\2015\\RS2015\".txt\" already present.\n",
      "data/rais_original\\2016\\PE2016\".txt\" already present.\n",
      "data/rais_original\\2016\\PR2016\".txt\" already present.\n",
      "data/rais_original\\2016\\RS2016\".txt\" already present.\n",
      "data/rais_original\\2017\\PE2017\".txt\" already present.\n",
      "data/rais_original\\2017\\PR2017\".txt\" already present.\n",
      "data/rais_original\\2017\\RS2017\".txt\" already present.\n"
     ]
    }
   ],
   "source": [
    "extract_rais_original()"
   ]
  },
  {
   "cell_type": "code",
   "execution_count": null,
   "metadata": {},
   "outputs": [],
   "source": []
  },
  {
   "cell_type": "code",
   "execution_count": 25,
   "metadata": {},
   "outputs": [],
   "source": [
    "def save_treated_pickle(df=None, year=None, uf=None):\n",
    "    \n",
    "    \n",
    "    if year == None or uf == None:\n",
    "        print('Please do not forget to insert df, year and uf.')\n",
    "    \n",
    "    else:\n",
    "        \n",
    "        # inserir aqui uma condição para verificar se o arquivo já existe.\n",
    "        \n",
    "        directory = os.path.join(os.getcwd(), 'app_rais\\\\data\\\\rais_treated\\\\', str(year) + '\\\\')\n",
    "        os.makedirs(directory, exist_ok=True)\n",
    "        \n",
    "        \n",
    "#        compression_opts = dict(method=compression_method,\n",
    "#                        archive_name=f'{uf.upper()}{year}.csv')\n",
    "    \n",
    "        df.to_pickle(\n",
    "            f'app_rais/data/rais_treated/{year}/{uf.upper()}{year}teste_pickle.zip', \n",
    "#            compression=compression_opts\n",
    "#            , encoding=encoding\n",
    "#            , sep=';'\n",
    "#            , decimal=','\n",
    "#            , index=False\n",
    "        )"
   ]
  },
  {
   "cell_type": "code",
   "execution_count": 32,
   "metadata": {
    "ExecuteTime": {
     "end_time": "2020-09-25T18:13:51.003960Z",
     "start_time": "2020-09-25T18:13:50.997979Z"
    }
   },
   "outputs": [],
   "source": [
    "def save_treated(df=None, year=None, uf=None, compression_method='zip', encoding='utf-8'):\n",
    "    \n",
    "    \n",
    "    if year == None or uf == None:\n",
    "        print('Please do not forget to insert df, year and uf.')\n",
    "    \n",
    "    else:\n",
    "        \n",
    "        # inserir aqui uma condição para verificar se o arquivo já existe.\n",
    "        \n",
    "        directory = os.path.join(os.getcwd(), 'app_rais\\\\data\\\\rais_treated\\\\', str(year) + '\\\\')\n",
    "        os.makedirs(directory, exist_ok=True)\n",
    "        \n",
    "        \n",
    "        compression_opts = dict(method=compression_method,\n",
    "                        archive_name=f'{uf.upper()}{year}.csv')\n",
    "    \n",
    "        df.to_csv(\n",
    "            f'app_rais\\\\data/rais_treated/{year}/{uf.upper()}{year}teste.zip', \n",
    "            compression=compression_opts\n",
    "            , encoding=encoding\n",
    "            , sep=';'\n",
    "            , decimal=','\n",
    "            , index=False\n",
    "        )"
   ]
  },
  {
   "cell_type": "code",
   "execution_count": 4,
   "metadata": {
    "ExecuteTime": {
     "end_time": "2020-09-25T19:34:04.916444Z",
     "start_time": "2020-09-25T19:33:50.912733Z"
    }
   },
   "outputs": [],
   "source": [
    "def original_to_treated_loop(ufs=None, year=None):\n",
    "\n",
    "    for uf, year  in product(ufs, year):\n",
    "\n",
    "        if year == '2018': # Não está funcionando propriamente\n",
    "            break\n",
    "\n",
    "        print(uf.upper(), year)\n",
    "\n",
    "\n",
    "        df = load_rais(uf=uf, year=year, treating=True)\n",
    "\n",
    "        save_treated(df=df, year=year, uf=uf)\n",
    "    "
   ]
  }
 ],
 "metadata": {
  "kernelspec": {
   "display_name": "covid19",
   "language": "python",
   "name": "covid19"
  },
  "language_info": {
   "codemirror_mode": {
    "name": "ipython",
    "version": 3
   },
   "file_extension": ".py",
   "mimetype": "text/x-python",
   "name": "python",
   "nbconvert_exporter": "python",
   "pygments_lexer": "ipython3",
   "version": "3.6.10"
  },
  "toc": {
   "base_numbering": 1,
   "nav_menu": {},
   "number_sections": true,
   "sideBar": true,
   "skip_h1_title": false,
   "title_cell": "Table of Contents",
   "title_sidebar": "Contents",
   "toc_cell": false,
   "toc_position": {},
   "toc_section_display": true,
   "toc_window_display": false
  }
 },
 "nbformat": 4,
 "nbformat_minor": 4
}
