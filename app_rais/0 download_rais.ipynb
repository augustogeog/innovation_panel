{
 "cells": [
  {
   "cell_type": "code",
   "execution_count": 2,
   "metadata": {
    "ExecuteTime": {
     "end_time": "2020-09-25T17:47:47.034032Z",
     "start_time": "2020-09-25T17:47:47.024059Z"
    }
   },
   "outputs": [],
   "source": [
    "import wget # package for dowloading data from the web\n",
    "import os\n",
    "from itertools import product\n",
    "import py7zr\n",
    "\n",
    "import glob"
   ]
  },
  {
   "cell_type": "code",
   "execution_count": 5,
   "metadata": {
    "ExecuteTime": {
     "end_time": "2020-09-25T18:31:14.918612Z",
     "start_time": "2020-09-25T18:31:14.913625Z"
    }
   },
   "outputs": [],
   "source": [
    "# list_ufs = ['AM', 'BA', 'CE', 'DF', 'ES', 'GO', 'MG','PA','PE','PR','RJ','RS','SC','SP']"
   ]
  },
  {
   "cell_type": "code",
   "execution_count": 6,
   "metadata": {},
   "outputs": [],
   "source": [
    "def download_rais(list_ufs = ['PR', 'RS', 'PE'], list_year=[ year for year in range(2007, 2018)]):\n",
    "    '''\n",
    "    Downloads RAIS files from ftp to their respective directories\n",
    "    It doesn't work for 2018\n",
    "    '''\n",
    "    # downloads RAIS files from ftp to their respective directories\n",
    "    # NÃO SERVE PARA 2018!!!!!\n",
    "    for year, uf in product(list_year, list_ufs):\n",
    "        if year == '2018': # arrumar isso aqui\n",
    "            break\n",
    "        directory = os.path.join(os.getcwd(), 'data\\\\rais_original\\\\', str(year) + '\\\\')\n",
    "        os.makedirs(directory, exist_ok=True)\n",
    "        if not os.path.isfile(os.path.join(directory, uf.upper() + str(year) + '.7z')):\n",
    "            year = str(year) + '/'\n",
    "            link = 'ftp://ftp.mtps.gov.br/pdet/microdados/RAIS/' + str(year) + uf + year[:-1] + '.7z'\n",
    "\n",
    "            zipfile = os.path.join(directory, uf.upper() + year[:-1] + '.7z')\n",
    "            wget.download(url=link, \n",
    "                          out=zipfile)\n",
    "\n",
    "            print(f' - {zipfile} downloaded.')"
   ]
  },
  {
   "cell_type": "code",
   "execution_count": 7,
   "metadata": {},
   "outputs": [
    {
     "name": "stdout",
     "output_type": "stream",
     "text": [
      "-1 / unknownD:\\sistema de inovacao\\app_rais\\data\\rais_original\\2007\\PR2007.7z downloaded.\n",
      "-1 / unknownD:\\sistema de inovacao\\app_rais\\data\\rais_original\\2007\\RS2007.7z downloaded.\n",
      "-1 / unknownD:\\sistema de inovacao\\app_rais\\data\\rais_original\\2007\\PE2007.7z downloaded.\n"
     ]
    }
   ],
   "source": [
    "download_rais()"
   ]
  },
  {
   "cell_type": "code",
   "execution_count": 8,
   "metadata": {
    "ExecuteTime": {
     "end_time": "2020-09-25T19:28:47.288488Z",
     "start_time": "2020-09-25T19:28:47.282542Z"
    },
    "code_folding": []
   },
   "outputs": [],
   "source": [
    "def extract_rais_original(path_pattern='data/rais_original/**/*.7z'):\n",
    "    \"\"\"\n",
    "    Extracts all available original 7zip files inside the rais_original subdirectories.\n",
    "    \n",
    "    \"\"\"\n",
    "\n",
    "    list_files = glob.glob(path_pattern, recursive=True)\n",
    "    for file in list_files:\n",
    "        base = os.path.splitext(file)[0]\n",
    "        \n",
    "        if not os.path.isfile(base + '.txt'):\n",
    "            \n",
    "            print(os.path.isfile(base + '.txt'))\n",
    "            with py7zr.SevenZipFile(file, mode='r') as z: \n",
    "                z.extractall(path=os.path.dirname(file))\n",
    "            print(f'{base}\".txt\" extracted.')\n",
    "        else:\n",
    "            print(f'{base}\".txt\" already present.')"
   ]
  },
  {
   "cell_type": "code",
   "execution_count": 9,
   "metadata": {
    "ExecuteTime": {
     "end_time": "2020-09-25T19:28:53.220929Z",
     "start_time": "2020-09-25T19:28:53.146934Z"
    }
   },
   "outputs": [
    {
     "name": "stdout",
     "output_type": "stream",
     "text": [
      "False\n",
      "data/rais_original\\2007\\PE2007\".txt\" extracted.\n",
      "False\n",
      "data/rais_original\\2007\\PR2007\".txt\" extracted.\n",
      "False\n",
      "data/rais_original\\2007\\RS2007\".txt\" extracted.\n",
      "data/rais_original\\2008\\PE2008\".txt\" already present.\n",
      "False\n",
      "data/rais_original\\2008\\PR2008\".txt\" extracted.\n",
      "False\n",
      "data/rais_original\\2008\\RS2008\".txt\" extracted.\n",
      "data/rais_original\\2009\\AC2009\".txt\" already present.\n",
      "data/rais_original\\2009\\PE2009\".txt\" already present.\n",
      "data/rais_original\\2009\\PR2009\".txt\" already present.\n",
      "False\n",
      "data/rais_original\\2009\\RS2009\".txt\" extracted.\n",
      "data/rais_original\\2010\\AC2010\".txt\" already present.\n",
      "data/rais_original\\2010\\PE2010\".txt\" already present.\n",
      "data/rais_original\\2010\\PR2010\".txt\" already present.\n",
      "data/rais_original\\2010\\RS2010\".txt\" already present.\n",
      "data/rais_original\\2011\\AC2011\".txt\" already present.\n",
      "data/rais_original\\2011\\PE2011\".txt\" already present.\n",
      "data/rais_original\\2011\\PR2011\".txt\" already present.\n",
      "data/rais_original\\2011\\RS2011\".txt\" already present.\n",
      "data/rais_original\\2012\\AC2012\".txt\" already present.\n",
      "data/rais_original\\2012\\PE2012\".txt\" already present.\n",
      "data/rais_original\\2012\\PR2012\".txt\" already present.\n",
      "data/rais_original\\2012\\RS2012\".txt\" already present.\n",
      "data/rais_original\\2013\\PE2013\".txt\" already present.\n",
      "data/rais_original\\2013\\PR2013\".txt\" already present.\n",
      "data/rais_original\\2013\\RS2013\".txt\" already present.\n",
      "data/rais_original\\2014\\PE2014\".txt\" already present.\n",
      "data/rais_original\\2014\\PR2014\".txt\" already present.\n",
      "data/rais_original\\2014\\RS2014\".txt\" already present.\n",
      "data/rais_original\\2015\\PE2015\".txt\" already present.\n",
      "data/rais_original\\2015\\PR2015\".txt\" already present.\n",
      "data/rais_original\\2015\\RS2015\".txt\" already present.\n",
      "data/rais_original\\2016\\PE2016\".txt\" already present.\n",
      "data/rais_original\\2016\\PR2016\".txt\" already present.\n",
      "data/rais_original\\2016\\RS2016\".txt\" already present.\n",
      "data/rais_original\\2017\\PE2017\".txt\" already present.\n",
      "data/rais_original\\2017\\PR2017\".txt\" already present.\n",
      "data/rais_original\\2017\\RS2017\".txt\" already present.\n"
     ]
    }
   ],
   "source": [
    "extract_rais_original()"
   ]
  },
  {
   "cell_type": "code",
   "execution_count": null,
   "metadata": {},
   "outputs": [],
   "source": []
  }
 ],
 "metadata": {
  "kernelspec": {
   "display_name": "covid19",
   "language": "python",
   "name": "covid19"
  },
  "language_info": {
   "codemirror_mode": {
    "name": "ipython",
    "version": 3
   },
   "file_extension": ".py",
   "mimetype": "text/x-python",
   "name": "python",
   "nbconvert_exporter": "python",
   "pygments_lexer": "ipython3",
   "version": "3.6.10"
  },
  "toc": {
   "base_numbering": 1,
   "nav_menu": {},
   "number_sections": true,
   "sideBar": true,
   "skip_h1_title": false,
   "title_cell": "Table of Contents",
   "title_sidebar": "Contents",
   "toc_cell": false,
   "toc_position": {},
   "toc_section_display": true,
   "toc_window_display": false
  }
 },
 "nbformat": 4,
 "nbformat_minor": 4
}
