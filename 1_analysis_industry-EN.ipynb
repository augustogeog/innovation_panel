{
 "cells": [
  {
   "cell_type": "markdown",
   "metadata": {},
   "source": [
    "# INDUSTRIAL ANALYSIS"
   ]
  },
  {
   "cell_type": "markdown",
   "metadata": {},
   "source": [
    "## Preparing the Notebook"
   ]
  },
  {
   "cell_type": "markdown",
   "metadata": {},
   "source": [
    "To develop tables and plots related to the objective in this notebook, the following Python packages and modules were imported and configured."
   ]
  },
  {
   "cell_type": "code",
   "execution_count": 3,
   "metadata": {
    "ExecuteTime": {
     "end_time": "2020-11-03T10:40:36.867400Z",
     "start_time": "2020-11-03T10:40:36.849448Z"
    }
   },
   "outputs": [
    {
     "name": "stdout",
     "output_type": "stream",
     "text": [
      "The bamboolib extension was disabled. You can enable it again via 'bam.enable()'. In case that bamboolib was not helpful to you, we are sorry and would like to fix this. Please write us a quick mail to info@8080labs.com so that we can serve you better in the future. Best regards, Tobias and Florian\n"
     ]
    },
    {
     "ename": "ModuleNotFoundError",
     "evalue": "No module named 'app_rais.analysis_industries'",
     "output_type": "error",
     "traceback": [
      "\u001b[1;31m---------------------------------------------------------------------------\u001b[0m",
      "\u001b[1;31mModuleNotFoundError\u001b[0m                       Traceback (most recent call last)",
      "\u001b[1;32m<ipython-input-3-670e4c8b56fd>\u001b[0m in \u001b[0;36m<module>\u001b[1;34m\u001b[0m\n\u001b[0;32m      8\u001b[0m \u001b[0mbam\u001b[0m\u001b[1;33m.\u001b[0m\u001b[0mdisable\u001b[0m\u001b[1;33m(\u001b[0m\u001b[1;33m)\u001b[0m\u001b[1;33m\u001b[0m\u001b[1;33m\u001b[0m\u001b[0m\n\u001b[0;32m      9\u001b[0m \u001b[1;32mimport\u001b[0m \u001b[0mapp_rais\u001b[0m\u001b[1;33m.\u001b[0m\u001b[0mdicts_constants\u001b[0m \u001b[1;32mas\u001b[0m \u001b[0mdc\u001b[0m\u001b[1;33m\u001b[0m\u001b[1;33m\u001b[0m\u001b[0m\n\u001b[1;32m---> 10\u001b[1;33m \u001b[1;32mimport\u001b[0m \u001b[0mapp_rais\u001b[0m\u001b[1;33m.\u001b[0m\u001b[0manalysis_industries\u001b[0m \u001b[1;32mas\u001b[0m \u001b[0mind\u001b[0m\u001b[1;33m\u001b[0m\u001b[1;33m\u001b[0m\u001b[0m\n\u001b[0m",
      "\u001b[1;31mModuleNotFoundError\u001b[0m: No module named 'app_rais.analysis_industries'"
     ]
    }
   ],
   "source": [
    "import numpy as np\n",
    "import pandas as pd\n",
    "from pandas.api.types import CategoricalDtype\n",
    "pd.options.display.float_format = '{:,.2f}'.format\n",
    "pd.options.display.max_rows = 200\n",
    "import plotly.express as px\n",
    "import bamboolib as bam\n",
    "bam.disable()\n",
    "import app_rais.dicts_constants as dc\n",
    "import app_rais.analysis_industries as ind"
   ]
  },
  {
   "cell_type": "markdown",
   "metadata": {
    "heading_collapsed": true
   },
   "source": [
    "## Metropolitan Concentration of Industries by Technological Levels  "
   ]
  },
  {
   "cell_type": "markdown",
   "metadata": {
    "hidden": true,
    "hide_input": true
   },
   "source": [
    "**Tabela 1 - Pessoal Formalmente Ocupado nos Setores Industriais Segundo Nível Tecnológico em 2017**"
   ]
  },
  {
   "cell_type": "code",
   "execution_count": 11,
   "metadata": {
    "ExecuteTime": {
     "end_time": "2020-10-14T12:10:34.140455Z",
     "start_time": "2020-10-14T12:10:33.845405Z"
    },
    "hidden": true,
    "hide_input": true,
    "scrolled": true
   },
   "outputs": [
    {
     "name": "stdout",
     "output_type": "stream",
     "text": [
      "Wall time: 255 ms\n"
     ]
    },
    {
     "data": {
      "text/html": [
       "<div>\n",
       "<style scoped>\n",
       "    .dataframe tbody tr th:only-of-type {\n",
       "        vertical-align: middle;\n",
       "    }\n",
       "\n",
       "    .dataframe tbody tr th {\n",
       "        vertical-align: top;\n",
       "    }\n",
       "\n",
       "    .dataframe thead th {\n",
       "        text-align: right;\n",
       "    }\n",
       "</style>\n",
       "<table border=\"1\" class=\"dataframe\">\n",
       "  <thead>\n",
       "    <tr style=\"text-align: right;\">\n",
       "      <th></th>\n",
       "      <th></th>\n",
       "      <th></th>\n",
       "      <th>PO</th>\n",
       "      <th>PO estadual</th>\n",
       "      <th>Participação Metropolitana (%)</th>\n",
       "      <th>Participação Estadual (%)</th>\n",
       "    </tr>\n",
       "    <tr>\n",
       "      <th>UF</th>\n",
       "      <th>Território</th>\n",
       "      <th>Nível Tecnológico</th>\n",
       "      <th></th>\n",
       "      <th></th>\n",
       "      <th></th>\n",
       "      <th></th>\n",
       "    </tr>\n",
       "  </thead>\n",
       "  <tbody>\n",
       "    <tr>\n",
       "      <th rowspan=\"4\" valign=\"top\">DF</th>\n",
       "      <th rowspan=\"4\" valign=\"top\">Brasília</th>\n",
       "      <th>High-technology</th>\n",
       "      <td>1694</td>\n",
       "      <td>1694</td>\n",
       "      <td>5.54</td>\n",
       "      <td>100.00</td>\n",
       "    </tr>\n",
       "    <tr>\n",
       "      <th>Medium-high-technology</th>\n",
       "      <td>1647</td>\n",
       "      <td>1647</td>\n",
       "      <td>5.39</td>\n",
       "      <td>100.00</td>\n",
       "    </tr>\n",
       "    <tr>\n",
       "      <th>Medium-low-technology</th>\n",
       "      <td>6364</td>\n",
       "      <td>6364</td>\n",
       "      <td>20.81</td>\n",
       "      <td>100.00</td>\n",
       "    </tr>\n",
       "    <tr>\n",
       "      <th>Low-technology</th>\n",
       "      <td>15622</td>\n",
       "      <td>15622</td>\n",
       "      <td>51.09</td>\n",
       "      <td>100.00</td>\n",
       "    </tr>\n",
       "    <tr>\n",
       "      <th rowspan=\"4\" valign=\"top\">ES</th>\n",
       "      <th rowspan=\"4\" valign=\"top\">Vitória</th>\n",
       "      <th>High-technology</th>\n",
       "      <td>276</td>\n",
       "      <td>437</td>\n",
       "      <td>0.90</td>\n",
       "      <td>63.16</td>\n",
       "    </tr>\n",
       "    <tr>\n",
       "      <th>Medium-high-technology</th>\n",
       "      <td>3650</td>\n",
       "      <td>8876</td>\n",
       "      <td>11.94</td>\n",
       "      <td>41.12</td>\n",
       "    </tr>\n",
       "    <tr>\n",
       "      <th>Medium-low-technology</th>\n",
       "      <td>21245</td>\n",
       "      <td>48246</td>\n",
       "      <td>69.48</td>\n",
       "      <td>44.03</td>\n",
       "    </tr>\n",
       "    <tr>\n",
       "      <th>Low-technology</th>\n",
       "      <td>17040</td>\n",
       "      <td>47360</td>\n",
       "      <td>55.73</td>\n",
       "      <td>35.98</td>\n",
       "    </tr>\n",
       "    <tr>\n",
       "      <th rowspan=\"8\" valign=\"top\">GO</th>\n",
       "      <th rowspan=\"4\" valign=\"top\">Brasília</th>\n",
       "      <th>High-technology</th>\n",
       "      <td>34</td>\n",
       "      <td>12318</td>\n",
       "      <td>0.08</td>\n",
       "      <td>0.28</td>\n",
       "    </tr>\n",
       "    <tr>\n",
       "      <th>Medium-high-technology</th>\n",
       "      <td>1172</td>\n",
       "      <td>22249</td>\n",
       "      <td>2.78</td>\n",
       "      <td>5.27</td>\n",
       "    </tr>\n",
       "    <tr>\n",
       "      <th>Medium-low-technology</th>\n",
       "      <td>1137</td>\n",
       "      <td>51564</td>\n",
       "      <td>2.69</td>\n",
       "      <td>2.21</td>\n",
       "    </tr>\n",
       "    <tr>\n",
       "      <th>Low-technology</th>\n",
       "      <td>2905</td>\n",
       "      <td>136191</td>\n",
       "      <td>6.88</td>\n",
       "      <td>2.13</td>\n",
       "    </tr>\n",
       "    <tr>\n",
       "      <th rowspan=\"4\" valign=\"top\">Goiânia</th>\n",
       "      <th>High-technology</th>\n",
       "      <td>2471</td>\n",
       "      <td>12318</td>\n",
       "      <td>3.21</td>\n",
       "      <td>20.06</td>\n",
       "    </tr>\n",
       "    <tr>\n",
       "      <th>Medium-high-technology</th>\n",
       "      <td>10864</td>\n",
       "      <td>22249</td>\n",
       "      <td>14.13</td>\n",
       "      <td>48.83</td>\n",
       "    </tr>\n",
       "    <tr>\n",
       "      <th>Medium-low-technology</th>\n",
       "      <td>13720</td>\n",
       "      <td>51564</td>\n",
       "      <td>17.85</td>\n",
       "      <td>26.61</td>\n",
       "    </tr>\n",
       "    <tr>\n",
       "      <th>Low-technology</th>\n",
       "      <td>49824</td>\n",
       "      <td>136191</td>\n",
       "      <td>64.81</td>\n",
       "      <td>36.58</td>\n",
       "    </tr>\n",
       "    <tr>\n",
       "      <th rowspan=\"4\" valign=\"top\">MG</th>\n",
       "      <th rowspan=\"4\" valign=\"top\">Belo Horizonte</th>\n",
       "      <th>High-technology</th>\n",
       "      <td>7030</td>\n",
       "      <td>21502</td>\n",
       "      <td>4.27</td>\n",
       "      <td>32.69</td>\n",
       "    </tr>\n",
       "    <tr>\n",
       "      <th>Medium-high-technology</th>\n",
       "      <td>49110</td>\n",
       "      <td>118204</td>\n",
       "      <td>29.85</td>\n",
       "      <td>41.55</td>\n",
       "    </tr>\n",
       "    <tr>\n",
       "      <th>Medium-low-technology</th>\n",
       "      <td>54626</td>\n",
       "      <td>196648</td>\n",
       "      <td>33.20</td>\n",
       "      <td>27.78</td>\n",
       "    </tr>\n",
       "    <tr>\n",
       "      <th>Low-technology</th>\n",
       "      <td>53753</td>\n",
       "      <td>375553</td>\n",
       "      <td>32.67</td>\n",
       "      <td>14.31</td>\n",
       "    </tr>\n",
       "    <tr>\n",
       "      <th rowspan=\"4\" valign=\"top\">PA</th>\n",
       "      <th rowspan=\"4\" valign=\"top\">Belém</th>\n",
       "      <th>High-technology</th>\n",
       "      <td>16</td>\n",
       "      <td>28</td>\n",
       "      <td>0.07</td>\n",
       "      <td>57.14</td>\n",
       "    </tr>\n",
       "    <tr>\n",
       "      <th>Medium-high-technology</th>\n",
       "      <td>2236</td>\n",
       "      <td>4761</td>\n",
       "      <td>10.01</td>\n",
       "      <td>46.96</td>\n",
       "    </tr>\n",
       "    <tr>\n",
       "      <th>Medium-low-technology</th>\n",
       "      <td>4587</td>\n",
       "      <td>19947</td>\n",
       "      <td>20.53</td>\n",
       "      <td>23.00</td>\n",
       "    </tr>\n",
       "    <tr>\n",
       "      <th>Low-technology</th>\n",
       "      <td>15508</td>\n",
       "      <td>51437</td>\n",
       "      <td>69.40</td>\n",
       "      <td>30.15</td>\n",
       "    </tr>\n",
       "    <tr>\n",
       "      <th rowspan=\"4\" valign=\"top\">PE</th>\n",
       "      <th rowspan=\"4\" valign=\"top\">Recife</th>\n",
       "      <th>High-technology</th>\n",
       "      <td>1004</td>\n",
       "      <td>1711</td>\n",
       "      <td>1.06</td>\n",
       "      <td>58.68</td>\n",
       "    </tr>\n",
       "    <tr>\n",
       "      <th>Medium-high-technology</th>\n",
       "      <td>16445</td>\n",
       "      <td>29048</td>\n",
       "      <td>17.35</td>\n",
       "      <td>56.61</td>\n",
       "    </tr>\n",
       "    <tr>\n",
       "      <th>Medium-low-technology</th>\n",
       "      <td>28210</td>\n",
       "      <td>48526</td>\n",
       "      <td>29.77</td>\n",
       "      <td>58.13</td>\n",
       "    </tr>\n",
       "    <tr>\n",
       "      <th>Low-technology</th>\n",
       "      <td>49099</td>\n",
       "      <td>116732</td>\n",
       "      <td>51.82</td>\n",
       "      <td>42.06</td>\n",
       "    </tr>\n",
       "    <tr>\n",
       "      <th rowspan=\"4\" valign=\"top\">PR</th>\n",
       "      <th rowspan=\"4\" valign=\"top\">Curitiba</th>\n",
       "      <th>High-technology</th>\n",
       "      <td>6121</td>\n",
       "      <td>13253</td>\n",
       "      <td>3.85</td>\n",
       "      <td>46.19</td>\n",
       "    </tr>\n",
       "    <tr>\n",
       "      <th>Medium-high-technology</th>\n",
       "      <td>61754</td>\n",
       "      <td>112087</td>\n",
       "      <td>38.83</td>\n",
       "      <td>55.09</td>\n",
       "    </tr>\n",
       "    <tr>\n",
       "      <th>Medium-low-technology</th>\n",
       "      <td>45131</td>\n",
       "      <td>108332</td>\n",
       "      <td>28.38</td>\n",
       "      <td>41.66</td>\n",
       "    </tr>\n",
       "    <tr>\n",
       "      <th>Low-technology</th>\n",
       "      <td>46028</td>\n",
       "      <td>375498</td>\n",
       "      <td>28.94</td>\n",
       "      <td>12.26</td>\n",
       "    </tr>\n",
       "    <tr>\n",
       "      <th rowspan=\"4\" valign=\"top\">RJ</th>\n",
       "      <th rowspan=\"4\" valign=\"top\">Rio de Janeiro</th>\n",
       "      <th>High-technology</th>\n",
       "      <td>11130</td>\n",
       "      <td>11854</td>\n",
       "      <td>5.87</td>\n",
       "      <td>93.89</td>\n",
       "    </tr>\n",
       "    <tr>\n",
       "      <th>Medium-high-technology</th>\n",
       "      <td>29629</td>\n",
       "      <td>50863</td>\n",
       "      <td>15.61</td>\n",
       "      <td>58.25</td>\n",
       "    </tr>\n",
       "    <tr>\n",
       "      <th>Medium-low-technology</th>\n",
       "      <td>71987</td>\n",
       "      <td>130327</td>\n",
       "      <td>37.94</td>\n",
       "      <td>55.24</td>\n",
       "    </tr>\n",
       "    <tr>\n",
       "      <th>Low-technology</th>\n",
       "      <td>77013</td>\n",
       "      <td>126880</td>\n",
       "      <td>40.58</td>\n",
       "      <td>60.70</td>\n",
       "    </tr>\n",
       "    <tr>\n",
       "      <th rowspan=\"4\" valign=\"top\">RS</th>\n",
       "      <th rowspan=\"4\" valign=\"top\">Porto Alegre</th>\n",
       "      <th>High-technology</th>\n",
       "      <td>8619</td>\n",
       "      <td>11335</td>\n",
       "      <td>4.44</td>\n",
       "      <td>76.04</td>\n",
       "    </tr>\n",
       "    <tr>\n",
       "      <th>Medium-high-technology</th>\n",
       "      <td>42699</td>\n",
       "      <td>131598</td>\n",
       "      <td>22.02</td>\n",
       "      <td>32.45</td>\n",
       "    </tr>\n",
       "    <tr>\n",
       "      <th>Medium-low-technology</th>\n",
       "      <td>45473</td>\n",
       "      <td>119252</td>\n",
       "      <td>23.45</td>\n",
       "      <td>38.13</td>\n",
       "    </tr>\n",
       "    <tr>\n",
       "      <th>Low-technology</th>\n",
       "      <td>97153</td>\n",
       "      <td>352337</td>\n",
       "      <td>50.09</td>\n",
       "      <td>27.57</td>\n",
       "    </tr>\n",
       "    <tr>\n",
       "      <th rowspan=\"4\" valign=\"top\">SC</th>\n",
       "      <th rowspan=\"4\" valign=\"top\">Florianópolis</th>\n",
       "      <th>High-technology</th>\n",
       "      <td>3213</td>\n",
       "      <td>7462</td>\n",
       "      <td>11.98</td>\n",
       "      <td>43.06</td>\n",
       "    </tr>\n",
       "    <tr>\n",
       "      <th>Medium-high-technology</th>\n",
       "      <td>3336</td>\n",
       "      <td>102454</td>\n",
       "      <td>12.44</td>\n",
       "      <td>3.26</td>\n",
       "    </tr>\n",
       "    <tr>\n",
       "      <th>Medium-low-technology</th>\n",
       "      <td>8129</td>\n",
       "      <td>129470</td>\n",
       "      <td>30.30</td>\n",
       "      <td>6.28</td>\n",
       "    </tr>\n",
       "    <tr>\n",
       "      <th>Low-technology</th>\n",
       "      <td>12146</td>\n",
       "      <td>388595</td>\n",
       "      <td>45.28</td>\n",
       "      <td>3.13</td>\n",
       "    </tr>\n",
       "    <tr>\n",
       "      <th rowspan=\"8\" valign=\"top\">SP</th>\n",
       "      <th rowspan=\"4\" valign=\"top\">Campinas</th>\n",
       "      <th>High-technology</th>\n",
       "      <td>13910</td>\n",
       "      <td>124778</td>\n",
       "      <td>12.38</td>\n",
       "      <td>11.15</td>\n",
       "    </tr>\n",
       "    <tr>\n",
       "      <th>Medium-high-technology</th>\n",
       "      <td>42724</td>\n",
       "      <td>622754</td>\n",
       "      <td>38.02</td>\n",
       "      <td>6.86</td>\n",
       "    </tr>\n",
       "    <tr>\n",
       "      <th>Medium-low-technology</th>\n",
       "      <td>26969</td>\n",
       "      <td>557232</td>\n",
       "      <td>24.00</td>\n",
       "      <td>4.84</td>\n",
       "    </tr>\n",
       "    <tr>\n",
       "      <th>Low-technology</th>\n",
       "      <td>28784</td>\n",
       "      <td>893986</td>\n",
       "      <td>25.61</td>\n",
       "      <td>3.22</td>\n",
       "    </tr>\n",
       "    <tr>\n",
       "      <th rowspan=\"4\" valign=\"top\">São Paulo</th>\n",
       "      <th>High-technology</th>\n",
       "      <td>56132</td>\n",
       "      <td>124778</td>\n",
       "      <td>6.88</td>\n",
       "      <td>44.99</td>\n",
       "    </tr>\n",
       "    <tr>\n",
       "      <th>Medium-high-technology</th>\n",
       "      <td>262361</td>\n",
       "      <td>622754</td>\n",
       "      <td>32.17</td>\n",
       "      <td>42.13</td>\n",
       "    </tr>\n",
       "    <tr>\n",
       "      <th>Medium-low-technology</th>\n",
       "      <td>229724</td>\n",
       "      <td>557232</td>\n",
       "      <td>28.17</td>\n",
       "      <td>41.23</td>\n",
       "    </tr>\n",
       "    <tr>\n",
       "      <th>Low-technology</th>\n",
       "      <td>267415</td>\n",
       "      <td>893986</td>\n",
       "      <td>32.79</td>\n",
       "      <td>29.91</td>\n",
       "    </tr>\n",
       "  </tbody>\n",
       "</table>\n",
       "</div>"
      ],
      "text/plain": [
       "                                              PO  PO estadual  \\\n",
       "UF Território     Nível Tecnológico                             \n",
       "DF Brasília       High-technology           1694         1694   \n",
       "                  Medium-high-technology    1647         1647   \n",
       "                  Medium-low-technology     6364         6364   \n",
       "                  Low-technology           15622        15622   \n",
       "ES Vitória        High-technology            276          437   \n",
       "                  Medium-high-technology    3650         8876   \n",
       "                  Medium-low-technology    21245        48246   \n",
       "                  Low-technology           17040        47360   \n",
       "GO Brasília       High-technology             34        12318   \n",
       "                  Medium-high-technology    1172        22249   \n",
       "                  Medium-low-technology     1137        51564   \n",
       "                  Low-technology            2905       136191   \n",
       "   Goiânia        High-technology           2471        12318   \n",
       "                  Medium-high-technology   10864        22249   \n",
       "                  Medium-low-technology    13720        51564   \n",
       "                  Low-technology           49824       136191   \n",
       "MG Belo Horizonte High-technology           7030        21502   \n",
       "                  Medium-high-technology   49110       118204   \n",
       "                  Medium-low-technology    54626       196648   \n",
       "                  Low-technology           53753       375553   \n",
       "PA Belém          High-technology             16           28   \n",
       "                  Medium-high-technology    2236         4761   \n",
       "                  Medium-low-technology     4587        19947   \n",
       "                  Low-technology           15508        51437   \n",
       "PE Recife         High-technology           1004         1711   \n",
       "                  Medium-high-technology   16445        29048   \n",
       "                  Medium-low-technology    28210        48526   \n",
       "                  Low-technology           49099       116732   \n",
       "PR Curitiba       High-technology           6121        13253   \n",
       "                  Medium-high-technology   61754       112087   \n",
       "                  Medium-low-technology    45131       108332   \n",
       "                  Low-technology           46028       375498   \n",
       "RJ Rio de Janeiro High-technology          11130        11854   \n",
       "                  Medium-high-technology   29629        50863   \n",
       "                  Medium-low-technology    71987       130327   \n",
       "                  Low-technology           77013       126880   \n",
       "RS Porto Alegre   High-technology           8619        11335   \n",
       "                  Medium-high-technology   42699       131598   \n",
       "                  Medium-low-technology    45473       119252   \n",
       "                  Low-technology           97153       352337   \n",
       "SC Florianópolis  High-technology           3213         7462   \n",
       "                  Medium-high-technology    3336       102454   \n",
       "                  Medium-low-technology     8129       129470   \n",
       "                  Low-technology           12146       388595   \n",
       "SP Campinas       High-technology          13910       124778   \n",
       "                  Medium-high-technology   42724       622754   \n",
       "                  Medium-low-technology    26969       557232   \n",
       "                  Low-technology           28784       893986   \n",
       "   São Paulo      High-technology          56132       124778   \n",
       "                  Medium-high-technology  262361       622754   \n",
       "                  Medium-low-technology   229724       557232   \n",
       "                  Low-technology          267415       893986   \n",
       "\n",
       "                                          Participação Metropolitana (%)  \\\n",
       "UF Território     Nível Tecnológico                                        \n",
       "DF Brasília       High-technology                                   5.54   \n",
       "                  Medium-high-technology                            5.39   \n",
       "                  Medium-low-technology                            20.81   \n",
       "                  Low-technology                                   51.09   \n",
       "ES Vitória        High-technology                                   0.90   \n",
       "                  Medium-high-technology                           11.94   \n",
       "                  Medium-low-technology                            69.48   \n",
       "                  Low-technology                                   55.73   \n",
       "GO Brasília       High-technology                                   0.08   \n",
       "                  Medium-high-technology                            2.78   \n",
       "                  Medium-low-technology                             2.69   \n",
       "                  Low-technology                                    6.88   \n",
       "   Goiânia        High-technology                                   3.21   \n",
       "                  Medium-high-technology                           14.13   \n",
       "                  Medium-low-technology                            17.85   \n",
       "                  Low-technology                                   64.81   \n",
       "MG Belo Horizonte High-technology                                   4.27   \n",
       "                  Medium-high-technology                           29.85   \n",
       "                  Medium-low-technology                            33.20   \n",
       "                  Low-technology                                   32.67   \n",
       "PA Belém          High-technology                                   0.07   \n",
       "                  Medium-high-technology                           10.01   \n",
       "                  Medium-low-technology                            20.53   \n",
       "                  Low-technology                                   69.40   \n",
       "PE Recife         High-technology                                   1.06   \n",
       "                  Medium-high-technology                           17.35   \n",
       "                  Medium-low-technology                            29.77   \n",
       "                  Low-technology                                   51.82   \n",
       "PR Curitiba       High-technology                                   3.85   \n",
       "                  Medium-high-technology                           38.83   \n",
       "                  Medium-low-technology                            28.38   \n",
       "                  Low-technology                                   28.94   \n",
       "RJ Rio de Janeiro High-technology                                   5.87   \n",
       "                  Medium-high-technology                           15.61   \n",
       "                  Medium-low-technology                            37.94   \n",
       "                  Low-technology                                   40.58   \n",
       "RS Porto Alegre   High-technology                                   4.44   \n",
       "                  Medium-high-technology                           22.02   \n",
       "                  Medium-low-technology                            23.45   \n",
       "                  Low-technology                                   50.09   \n",
       "SC Florianópolis  High-technology                                  11.98   \n",
       "                  Medium-high-technology                           12.44   \n",
       "                  Medium-low-technology                            30.30   \n",
       "                  Low-technology                                   45.28   \n",
       "SP Campinas       High-technology                                  12.38   \n",
       "                  Medium-high-technology                           38.02   \n",
       "                  Medium-low-technology                            24.00   \n",
       "                  Low-technology                                   25.61   \n",
       "   São Paulo      High-technology                                   6.88   \n",
       "                  Medium-high-technology                           32.17   \n",
       "                  Medium-low-technology                            28.17   \n",
       "                  Low-technology                                   32.79   \n",
       "\n",
       "                                          Participação Estadual (%)  \n",
       "UF Território     Nível Tecnológico                                  \n",
       "DF Brasília       High-technology                            100.00  \n",
       "                  Medium-high-technology                     100.00  \n",
       "                  Medium-low-technology                      100.00  \n",
       "                  Low-technology                             100.00  \n",
       "ES Vitória        High-technology                             63.16  \n",
       "                  Medium-high-technology                      41.12  \n",
       "                  Medium-low-technology                       44.03  \n",
       "                  Low-technology                              35.98  \n",
       "GO Brasília       High-technology                              0.28  \n",
       "                  Medium-high-technology                       5.27  \n",
       "                  Medium-low-technology                        2.21  \n",
       "                  Low-technology                               2.13  \n",
       "   Goiânia        High-technology                             20.06  \n",
       "                  Medium-high-technology                      48.83  \n",
       "                  Medium-low-technology                       26.61  \n",
       "                  Low-technology                              36.58  \n",
       "MG Belo Horizonte High-technology                             32.69  \n",
       "                  Medium-high-technology                      41.55  \n",
       "                  Medium-low-technology                       27.78  \n",
       "                  Low-technology                              14.31  \n",
       "PA Belém          High-technology                             57.14  \n",
       "                  Medium-high-technology                      46.96  \n",
       "                  Medium-low-technology                       23.00  \n",
       "                  Low-technology                              30.15  \n",
       "PE Recife         High-technology                             58.68  \n",
       "                  Medium-high-technology                      56.61  \n",
       "                  Medium-low-technology                       58.13  \n",
       "                  Low-technology                              42.06  \n",
       "PR Curitiba       High-technology                             46.19  \n",
       "                  Medium-high-technology                      55.09  \n",
       "                  Medium-low-technology                       41.66  \n",
       "                  Low-technology                              12.26  \n",
       "RJ Rio de Janeiro High-technology                             93.89  \n",
       "                  Medium-high-technology                      58.25  \n",
       "                  Medium-low-technology                       55.24  \n",
       "                  Low-technology                              60.70  \n",
       "RS Porto Alegre   High-technology                             76.04  \n",
       "                  Medium-high-technology                      32.45  \n",
       "                  Medium-low-technology                       38.13  \n",
       "                  Low-technology                              27.57  \n",
       "SC Florianópolis  High-technology                             43.06  \n",
       "                  Medium-high-technology                       3.26  \n",
       "                  Medium-low-technology                        6.28  \n",
       "                  Low-technology                               3.13  \n",
       "SP Campinas       High-technology                             11.15  \n",
       "                  Medium-high-technology                       6.86  \n",
       "                  Medium-low-technology                        4.84  \n",
       "                  Low-technology                               3.22  \n",
       "   São Paulo      High-technology                             44.99  \n",
       "                  Medium-high-technology                      42.13  \n",
       "                  Medium-low-technology                       41.23  \n",
       "                  Low-technology                              29.91  "
      ]
     },
     "metadata": {},
     "output_type": "display_data"
    }
   ],
   "source": [
    "%%time\n",
    "ind.ind_level_comparison_table(year=2017, list_ufs=['PR', 'RS', 'PE', 'DF', 'ES', 'GO','MG','PA','PE','PR','RJ','RS','SC','SP'])"
   ]
  },
  {
   "cell_type": "markdown",
   "metadata": {},
   "source": [
    "## Evolution of Industries Technological Level from 2007 to 2017"
   ]
  },
  {
   "cell_type": "code",
   "execution_count": 2,
   "metadata": {
    "ExecuteTime": {
     "end_time": "2020-11-03T10:40:21.316650Z",
     "start_time": "2020-11-03T10:40:21.299695Z"
    },
    "code_folding": [],
    "hide_input": false,
    "scrolled": true
   },
   "outputs": [
    {
     "ename": "NameError",
     "evalue": "name 'ind' is not defined",
     "output_type": "error",
     "traceback": [
      "\u001b[1;31m---------------------------------------------------------------------------\u001b[0m",
      "\u001b[1;31mNameError\u001b[0m                                 Traceback (most recent call last)",
      "\u001b[1;32m<ipython-input-2-355f9f330185>\u001b[0m in \u001b[0;36m<module>\u001b[1;34m\u001b[0m\n\u001b[1;32m----> 1\u001b[1;33m fig = ind.ind_tech_level_evolution_dynamic(\n\u001b[0m\u001b[0;32m      2\u001b[0m     \u001b[0mlist_years\u001b[0m\u001b[1;33m=\u001b[0m\u001b[0mlist\u001b[0m\u001b[1;33m(\u001b[0m\u001b[0mrange\u001b[0m\u001b[1;33m(\u001b[0m\u001b[1;36m2007\u001b[0m\u001b[1;33m,\u001b[0m\u001b[1;36m2018\u001b[0m\u001b[1;33m)\u001b[0m\u001b[1;33m)\u001b[0m\u001b[1;33m\u001b[0m\u001b[1;33m\u001b[0m\u001b[0m\n\u001b[0;32m      3\u001b[0m     \u001b[1;33m,\u001b[0m \u001b[0mlist_ufs\u001b[0m\u001b[1;33m=\u001b[0m\u001b[1;33m[\u001b[0m\u001b[1;34m'AM'\u001b[0m\u001b[1;33m,\u001b[0m \u001b[1;34m'BA'\u001b[0m\u001b[1;33m,\u001b[0m \u001b[1;34m'CE'\u001b[0m\u001b[1;33m,\u001b[0m \u001b[1;34m'DF'\u001b[0m\u001b[1;33m,\u001b[0m \u001b[1;34m'ES'\u001b[0m\u001b[1;33m,\u001b[0m \u001b[1;34m'GO'\u001b[0m\u001b[1;33m,\u001b[0m \u001b[1;34m'MG'\u001b[0m\u001b[1;33m,\u001b[0m\u001b[1;34m'PA'\u001b[0m\u001b[1;33m,\u001b[0m\u001b[1;34m'PE'\u001b[0m\u001b[1;33m,\u001b[0m\u001b[1;34m'PR'\u001b[0m\u001b[1;33m,\u001b[0m\u001b[1;34m'RJ'\u001b[0m\u001b[1;33m,\u001b[0m\u001b[1;34m'RS'\u001b[0m\u001b[1;33m,\u001b[0m\u001b[1;34m'SC'\u001b[0m\u001b[1;33m,\u001b[0m \u001b[1;34m'SP'\u001b[0m\u001b[1;33m]\u001b[0m\u001b[1;33m\u001b[0m\u001b[1;33m\u001b[0m\u001b[0m\n\u001b[0;32m      4\u001b[0m     \u001b[1;33m,\u001b[0m \u001b[0mlist_tec_level\u001b[0m\u001b[1;33m=\u001b[0m\u001b[1;32mNone\u001b[0m\u001b[1;33m\u001b[0m\u001b[1;33m\u001b[0m\u001b[0m\n\u001b[0;32m      5\u001b[0m     \u001b[1;33m,\u001b[0m \u001b[0mrange_x\u001b[0m\u001b[1;33m=\u001b[0m\u001b[1;36m1_200_000\u001b[0m\u001b[1;33m\u001b[0m\u001b[1;33m\u001b[0m\u001b[0m\n",
      "\u001b[1;31mNameError\u001b[0m: name 'ind' is not defined"
     ]
    }
   ],
   "source": [
    "fig = ind.ind_tech_level_evolution_dynamic(\n",
    "    list_years=list(range(2007,2018))\n",
    "    , list_ufs=['AM', 'BA', 'CE', 'DF', 'ES', 'GO', 'MG','PA','PE','PR','RJ','RS','SC', 'SP']\n",
    "    , list_tec_level=None\n",
    "    , range_x=1_200_000\n",
    "    , relative=False\n",
    ")\n",
    "fig.show()\n",
    "#static version\n",
    "#fig = ind.ind_level_comparison_plot(year=2017, ufs=['AM', 'BA', 'CE', 'DF', 'ES', 'GO','MG','PA','PE','PR','RJ','RS','SC','SP'])"
   ]
  },
  {
   "cell_type": "code",
   "execution_count": 9,
   "metadata": {
    "ExecuteTime": {
     "end_time": "2020-10-14T11:42:55.556477Z",
     "start_time": "2020-10-14T11:42:53.077185Z"
    },
    "hide_input": true
   },
   "outputs": [
    {
     "data": {
      "application/vnd.plotly.v1+json": {
       "config": {
        "plotlyServerURL": "https://plot.ly"
       },
       "data": [
        {
         "alignmentgroup": "True",
         "hovertemplate": "Nível Tecnológico=Alto<br>Ano=2007<br>Pessoal %=%{x}<br>Espaço Metropolitano=%{y}<extra></extra>",
         "legendgroup": "Alto",
         "marker": {
          "color": "rgb(103,0,31)"
         },
         "name": "Alto",
         "offsetgroup": "Alto",
         "orientation": "h",
         "showlegend": true,
         "textposition": "auto",
         "type": "bar",
         "x": [
          3.831514443198509,
          0.5693040548390845,
          10.667345630778145,
          4.859488840060137,
          11.203361514706627,
          2.151541117681494,
          4.989190341341616,
          36.77025560346115,
          4.285125115432547,
          1.3024228117770027,
          5.046397227346414,
          2.224195526237896,
          6.372705658582976,
          0.5570316505849998,
          3.948227522372009,
          6.517748574262336
         ],
         "xaxis": "x",
         "y": [
          "Belo Horizonte",
          "Belém",
          "Campinas",
          "Curitiba",
          "Florianópolis",
          "Fortaleza",
          "Goiânia",
          "Manaus",
          "Porto Alegre",
          "Recife",
          "Rio de Janeiro",
          "Salvador",
          "São Paulo",
          "Vitória",
          "Brasília",
          "Total"
         ],
         "yaxis": "y"
        },
        {
         "alignmentgroup": "True",
         "hovertemplate": "Nível Tecnológico=Médio-Alto<br>Ano=2007<br>Pessoal %=%{x}<br>Espaço Metropolitano=%{y}<extra></extra>",
         "legendgroup": "Médio-Alto",
         "marker": {
          "color": "rgb(178,24,43)"
         },
         "name": "Médio-Alto",
         "offsetgroup": "Médio-Alto",
         "orientation": "h",
         "showlegend": true,
         "textposition": "auto",
         "type": "bar",
         "x": [
          30.60578780843481,
          5.139227760350103,
          45.10223970359705,
          37.00300682317567,
          11.314737001974384,
          7.2427864832992555,
          10.005785451112938,
          28.82932220772884,
          20.442992011619463,
          14.949089243561286,
          18.74336184247303,
          29.99704004397649,
          32.62948169281978,
          8.008203980795226,
          11.303145523677843,
          27.392095214480534
         ],
         "xaxis": "x",
         "y": [
          "Belo Horizonte",
          "Belém",
          "Campinas",
          "Curitiba",
          "Florianópolis",
          "Fortaleza",
          "Goiânia",
          "Manaus",
          "Porto Alegre",
          "Recife",
          "Rio de Janeiro",
          "Salvador",
          "São Paulo",
          "Vitória",
          "Brasília",
          "Total"
         ],
         "yaxis": "y"
        },
        {
         "alignmentgroup": "True",
         "hovertemplate": "Nível Tecnológico=Médio-Baixo<br>Ano=2007<br>Pessoal %=%{x}<br>Espaço Metropolitano=%{y}<extra></extra>",
         "legendgroup": "Médio-Baixo",
         "marker": {
          "color": "rgb(214,96,77)"
         },
         "name": "Médio-Baixo",
         "offsetgroup": "Médio-Baixo",
         "orientation": "h",
         "showlegend": true,
         "textposition": "auto",
         "type": "bar",
         "x": [
          34.997973161499544,
          16.056698036481933,
          20.878146427975665,
          26.394703365329015,
          32.92664405406774,
          14.87668513349566,
          16.709296306446213,
          22.225651953121112,
          24.55732178559581,
          25.241635251147986,
          32.184116868839325,
          35.61249947143643,
          29.353875416072277,
          50.598983825106046,
          20.563044897645657,
          27.919107364244976
         ],
         "xaxis": "x",
         "y": [
          "Belo Horizonte",
          "Belém",
          "Campinas",
          "Curitiba",
          "Florianópolis",
          "Fortaleza",
          "Goiânia",
          "Manaus",
          "Porto Alegre",
          "Recife",
          "Rio de Janeiro",
          "Salvador",
          "São Paulo",
          "Vitória",
          "Brasília",
          "Total"
         ],
         "yaxis": "y"
        },
        {
         "alignmentgroup": "True",
         "hovertemplate": "Nível Tecnológico=Baixo<br>Ano=2007<br>Pessoal %=%{x}<br>Espaço Metropolitano=%{y}<extra></extra>",
         "legendgroup": "Baixo",
         "marker": {
          "color": "rgb(244,165,130)"
         },
         "name": "Baixo",
         "offsetgroup": "Baixo",
         "orientation": "h",
         "showlegend": true,
         "textposition": "auto",
         "type": "bar",
         "x": [
          30.564724586867136,
          78.23477014832888,
          23.352268237649145,
          31.74280097143518,
          44.555257429251256,
          75.7289872655236,
          68.29572790109924,
          12.174770235688895,
          50.71456108735218,
          58.50685269351372,
          44.026124061341235,
          32.16626495834919,
          31.643937232524966,
          40.83578054351373,
          64.1855820563045,
          38.17104884701215
         ],
         "xaxis": "x",
         "y": [
          "Belo Horizonte",
          "Belém",
          "Campinas",
          "Curitiba",
          "Florianópolis",
          "Fortaleza",
          "Goiânia",
          "Manaus",
          "Porto Alegre",
          "Recife",
          "Rio de Janeiro",
          "Salvador",
          "São Paulo",
          "Vitória",
          "Brasília",
          "Total"
         ],
         "yaxis": "y"
        }
       ],
       "frames": [
        {
         "data": [
          {
           "alignmentgroup": "True",
           "hovertemplate": "Nível Tecnológico=Alto<br>Ano=2007<br>Pessoal %=%{x}<br>Espaço Metropolitano=%{y}<extra></extra>",
           "legendgroup": "Alto",
           "marker": {
            "color": "rgb(103,0,31)"
           },
           "name": "Alto",
           "offsetgroup": "Alto",
           "orientation": "h",
           "showlegend": true,
           "textposition": "auto",
           "type": "bar",
           "x": [
            3.831514443198509,
            0.5693040548390845,
            10.667345630778145,
            4.859488840060137,
            11.203361514706627,
            2.151541117681494,
            4.989190341341616,
            36.77025560346115,
            4.285125115432547,
            1.3024228117770027,
            5.046397227346414,
            2.224195526237896,
            6.372705658582976,
            0.5570316505849998,
            3.948227522372009,
            6.517748574262336
           ],
           "xaxis": "x",
           "y": [
            "Belo Horizonte",
            "Belém",
            "Campinas",
            "Curitiba",
            "Florianópolis",
            "Fortaleza",
            "Goiânia",
            "Manaus",
            "Porto Alegre",
            "Recife",
            "Rio de Janeiro",
            "Salvador",
            "São Paulo",
            "Vitória",
            "Brasília",
            "Total"
           ],
           "yaxis": "y"
          },
          {
           "alignmentgroup": "True",
           "hovertemplate": "Nível Tecnológico=Médio-Alto<br>Ano=2007<br>Pessoal %=%{x}<br>Espaço Metropolitano=%{y}<extra></extra>",
           "legendgroup": "Médio-Alto",
           "marker": {
            "color": "rgb(178,24,43)"
           },
           "name": "Médio-Alto",
           "offsetgroup": "Médio-Alto",
           "orientation": "h",
           "showlegend": true,
           "textposition": "auto",
           "type": "bar",
           "x": [
            30.60578780843481,
            5.139227760350103,
            45.10223970359705,
            37.00300682317567,
            11.314737001974384,
            7.2427864832992555,
            10.005785451112938,
            28.82932220772884,
            20.442992011619463,
            14.949089243561286,
            18.74336184247303,
            29.99704004397649,
            32.62948169281978,
            8.008203980795226,
            11.303145523677843,
            27.392095214480534
           ],
           "xaxis": "x",
           "y": [
            "Belo Horizonte",
            "Belém",
            "Campinas",
            "Curitiba",
            "Florianópolis",
            "Fortaleza",
            "Goiânia",
            "Manaus",
            "Porto Alegre",
            "Recife",
            "Rio de Janeiro",
            "Salvador",
            "São Paulo",
            "Vitória",
            "Brasília",
            "Total"
           ],
           "yaxis": "y"
          },
          {
           "alignmentgroup": "True",
           "hovertemplate": "Nível Tecnológico=Médio-Baixo<br>Ano=2007<br>Pessoal %=%{x}<br>Espaço Metropolitano=%{y}<extra></extra>",
           "legendgroup": "Médio-Baixo",
           "marker": {
            "color": "rgb(214,96,77)"
           },
           "name": "Médio-Baixo",
           "offsetgroup": "Médio-Baixo",
           "orientation": "h",
           "showlegend": true,
           "textposition": "auto",
           "type": "bar",
           "x": [
            34.997973161499544,
            16.056698036481933,
            20.878146427975665,
            26.394703365329015,
            32.92664405406774,
            14.87668513349566,
            16.709296306446213,
            22.225651953121112,
            24.55732178559581,
            25.241635251147986,
            32.184116868839325,
            35.61249947143643,
            29.353875416072277,
            50.598983825106046,
            20.563044897645657,
            27.919107364244976
           ],
           "xaxis": "x",
           "y": [
            "Belo Horizonte",
            "Belém",
            "Campinas",
            "Curitiba",
            "Florianópolis",
            "Fortaleza",
            "Goiânia",
            "Manaus",
            "Porto Alegre",
            "Recife",
            "Rio de Janeiro",
            "Salvador",
            "São Paulo",
            "Vitória",
            "Brasília",
            "Total"
           ],
           "yaxis": "y"
          },
          {
           "alignmentgroup": "True",
           "hovertemplate": "Nível Tecnológico=Baixo<br>Ano=2007<br>Pessoal %=%{x}<br>Espaço Metropolitano=%{y}<extra></extra>",
           "legendgroup": "Baixo",
           "marker": {
            "color": "rgb(244,165,130)"
           },
           "name": "Baixo",
           "offsetgroup": "Baixo",
           "orientation": "h",
           "showlegend": true,
           "textposition": "auto",
           "type": "bar",
           "x": [
            30.564724586867136,
            78.23477014832888,
            23.352268237649145,
            31.74280097143518,
            44.555257429251256,
            75.7289872655236,
            68.29572790109924,
            12.174770235688895,
            50.71456108735218,
            58.50685269351372,
            44.026124061341235,
            32.16626495834919,
            31.643937232524966,
            40.83578054351373,
            64.1855820563045,
            38.17104884701215
           ],
           "xaxis": "x",
           "y": [
            "Belo Horizonte",
            "Belém",
            "Campinas",
            "Curitiba",
            "Florianópolis",
            "Fortaleza",
            "Goiânia",
            "Manaus",
            "Porto Alegre",
            "Recife",
            "Rio de Janeiro",
            "Salvador",
            "São Paulo",
            "Vitória",
            "Brasília",
            "Total"
           ],
           "yaxis": "y"
          }
         ],
         "name": "2007"
        },
        {
         "data": [
          {
           "alignmentgroup": "True",
           "hovertemplate": "Nível Tecnológico=Alto<br>Ano=2008<br>Pessoal %=%{x}<br>Espaço Metropolitano=%{y}<extra></extra>",
           "legendgroup": "Alto",
           "marker": {
            "color": "rgb(103,0,31)"
           },
           "name": "Alto",
           "offsetgroup": "Alto",
           "orientation": "h",
           "showlegend": true,
           "textposition": "auto",
           "type": "bar",
           "x": [
            4.352938801465616,
            0.3916608869487169,
            10.704258111677825,
            5.517191571157938,
            11.583194873012106,
            2.0837352884429867,
            4.448697532397329,
            29.81816018560749,
            4.532107290703209,
            0.8446095339170425,
            5.455046211221629,
            2.01255017242354,
            6.616417343958214,
            0.5049625631203204,
            5.187360673719967,
            6.437673995216682
           ],
           "xaxis": "x",
           "y": [
            "Belo Horizonte",
            "Belém",
            "Campinas",
            "Curitiba",
            "Florianópolis",
            "Fortaleza",
            "Goiânia",
            "Manaus",
            "Porto Alegre",
            "Recife",
            "Rio de Janeiro",
            "Salvador",
            "São Paulo",
            "Vitória",
            "Brasília",
            "Total"
           ],
           "yaxis": "y"
          },
          {
           "alignmentgroup": "True",
           "hovertemplate": "Nível Tecnológico=Médio-Alto<br>Ano=2008<br>Pessoal %=%{x}<br>Espaço Metropolitano=%{y}<extra></extra>",
           "legendgroup": "Médio-Alto",
           "marker": {
            "color": "rgb(178,24,43)"
           },
           "name": "Médio-Alto",
           "offsetgroup": "Médio-Alto",
           "orientation": "h",
           "showlegend": true,
           "textposition": "auto",
           "type": "bar",
           "x": [
            30.579584338504706,
            6.972379747868304,
            43.83296506122178,
            36.87257293015039,
            11.250890102065036,
            7.54550131841276,
            10.89602173944804,
            34.48511769021793,
            21.58251093291188,
            16.19903599540108,
            19.11252782380589,
            29.84623212165753,
            33.42174062003921,
            7.887863485982936,
            11.577792717879763,
            28.089707020801935
           ],
           "xaxis": "x",
           "y": [
            "Belo Horizonte",
            "Belém",
            "Campinas",
            "Curitiba",
            "Florianópolis",
            "Fortaleza",
            "Goiânia",
            "Manaus",
            "Porto Alegre",
            "Recife",
            "Rio de Janeiro",
            "Salvador",
            "São Paulo",
            "Vitória",
            "Brasília",
            "Total"
           ],
           "yaxis": "y"
          },
          {
           "alignmentgroup": "True",
           "hovertemplate": "Nível Tecnológico=Médio-Baixo<br>Ano=2008<br>Pessoal %=%{x}<br>Espaço Metropolitano=%{y}<extra></extra>",
           "legendgroup": "Médio-Baixo",
           "marker": {
            "color": "rgb(214,96,77)"
           },
           "name": "Médio-Baixo",
           "offsetgroup": "Médio-Baixo",
           "orientation": "h",
           "showlegend": true,
           "textposition": "auto",
           "type": "bar",
           "x": [
            35.30851611470561,
            20.554036962996207,
            23.03251316642023,
            26.79485113971589,
            33.45834322335628,
            15.427037108495723,
            17.46314666822505,
            23.128556981102143,
            25.20631100654628,
            25.926417263641994,
            34.72185224148129,
            35.30583978743852,
            29.033020675669313,
            53.73715827964478,
            21.336824599271083,
            28.422208779261677
           ],
           "xaxis": "x",
           "y": [
            "Belo Horizonte",
            "Belém",
            "Campinas",
            "Curitiba",
            "Florianópolis",
            "Fortaleza",
            "Goiânia",
            "Manaus",
            "Porto Alegre",
            "Recife",
            "Rio de Janeiro",
            "Salvador",
            "São Paulo",
            "Vitória",
            "Brasília",
            "Total"
           ],
           "yaxis": "y"
          },
          {
           "alignmentgroup": "True",
           "hovertemplate": "Nível Tecnológico=Baixo<br>Ano=2008<br>Pessoal %=%{x}<br>Espaço Metropolitano=%{y}<extra></extra>",
           "legendgroup": "Baixo",
           "marker": {
            "color": "rgb(244,165,130)"
           },
           "name": "Baixo",
           "offsetgroup": "Baixo",
           "orientation": "h",
           "showlegend": true,
           "textposition": "auto",
           "type": "bar",
           "x": [
            29.75896074532406,
            72.08192240218678,
            22.43026366068017,
            30.815384358975784,
            43.70757180156658,
            74.94372628464852,
            67.19213405992957,
            12.568165143072438,
            48.67907076983863,
            57.02993720703988,
            40.710573723491194,
            32.83537791848041,
            30.928821360333263,
            37.87001567125196,
            61.898022009129186,
            37.05041020471971
           ],
           "xaxis": "x",
           "y": [
            "Belo Horizonte",
            "Belém",
            "Campinas",
            "Curitiba",
            "Florianópolis",
            "Fortaleza",
            "Goiânia",
            "Manaus",
            "Porto Alegre",
            "Recife",
            "Rio de Janeiro",
            "Salvador",
            "São Paulo",
            "Vitória",
            "Brasília",
            "Total"
           ],
           "yaxis": "y"
          }
         ],
         "name": "2008"
        },
        {
         "data": [
          {
           "alignmentgroup": "True",
           "hovertemplate": "Nível Tecnológico=Alto<br>Ano=2009<br>Pessoal %=%{x}<br>Espaço Metropolitano=%{y}<extra></extra>",
           "legendgroup": "Alto",
           "marker": {
            "color": "rgb(103,0,31)"
           },
           "name": "Alto",
           "offsetgroup": "Alto",
           "orientation": "h",
           "showlegend": true,
           "textposition": "auto",
           "type": "bar",
           "x": [
            4.398784546375343,
            0.28304314263658975,
            10.067051671218515,
            6.705168040931499,
            11.565062062016214,
            2.1569820505019774,
            4.869908538317333,
            28.10163484023867,
            4.837000870110139,
            1.2570415188817023,
            5.527196389962949,
            1.6983910703717469,
            6.55051172160824,
            0.5182301863325425,
            4.772403500440947,
            6.382601090247582
           ],
           "xaxis": "x",
           "y": [
            "Belo Horizonte",
            "Belém",
            "Campinas",
            "Curitiba",
            "Florianópolis",
            "Fortaleza",
            "Goiânia",
            "Manaus",
            "Porto Alegre",
            "Recife",
            "Rio de Janeiro",
            "Salvador",
            "São Paulo",
            "Vitória",
            "Brasília",
            "Total"
           ],
           "yaxis": "y"
          },
          {
           "alignmentgroup": "True",
           "hovertemplate": "Nível Tecnológico=Médio-Alto<br>Ano=2009<br>Pessoal %=%{x}<br>Espaço Metropolitano=%{y}<extra></extra>",
           "legendgroup": "Médio-Alto",
           "marker": {
            "color": "rgb(178,24,43)"
           },
           "name": "Médio-Alto",
           "offsetgroup": "Médio-Alto",
           "orientation": "h",
           "showlegend": true,
           "textposition": "auto",
           "type": "bar",
           "x": [
            30.703640159579965,
            6.947422591989022,
            43.953934740882914,
            36.98876799262179,
            11.803233637154765,
            7.2353209613629454,
            10.8049764244731,
            35.02165455479703,
            20.505295048487227,
            15.50281660755268,
            17.9057478895099,
            27.514210605998045,
            33.27710889169747,
            8.386116037496832,
            11.220405671257039,
            27.60871794154794
           ],
           "xaxis": "x",
           "y": [
            "Belo Horizonte",
            "Belém",
            "Campinas",
            "Curitiba",
            "Florianópolis",
            "Fortaleza",
            "Goiânia",
            "Manaus",
            "Porto Alegre",
            "Recife",
            "Rio de Janeiro",
            "Salvador",
            "São Paulo",
            "Vitória",
            "Brasília",
            "Total"
           ],
           "yaxis": "y"
          },
          {
           "alignmentgroup": "True",
           "hovertemplate": "Nível Tecnológico=Médio-Baixo<br>Ano=2009<br>Pessoal %=%{x}<br>Espaço Metropolitano=%{y}<extra></extra>",
           "legendgroup": "Médio-Baixo",
           "marker": {
            "color": "rgb(214,96,77)"
           },
           "name": "Médio-Baixo",
           "offsetgroup": "Médio-Baixo",
           "orientation": "h",
           "showlegend": true,
           "textposition": "auto",
           "type": "bar",
           "x": [
            34.69882382123736,
            21.978728878977613,
            22.735843472819976,
            26.343613785834275,
            33.58677231713461,
            15.48372376026772,
            17.309549508606487,
            23.80113463575256,
            24.95728345302983,
            27.973085750052157,
            34.38282182170508,
            37.173293695032825,
            28.824418195813102,
            49.750097887924085,
            22.763041856047757,
            28.24243017397667
           ],
           "xaxis": "x",
           "y": [
            "Belo Horizonte",
            "Belém",
            "Campinas",
            "Curitiba",
            "Florianópolis",
            "Fortaleza",
            "Goiânia",
            "Manaus",
            "Porto Alegre",
            "Recife",
            "Rio de Janeiro",
            "Salvador",
            "São Paulo",
            "Vitória",
            "Brasília",
            "Total"
           ],
           "yaxis": "y"
          },
          {
           "alignmentgroup": "True",
           "hovertemplate": "Nível Tecnológico=Baixo<br>Ano=2009<br>Pessoal %=%{x}<br>Espaço Metropolitano=%{y}<extra></extra>",
           "legendgroup": "Baixo",
           "marker": {
            "color": "rgb(244,165,130)"
           },
           "name": "Baixo",
           "offsetgroup": "Baixo",
           "orientation": "h",
           "showlegend": true,
           "textposition": "auto",
           "type": "bar",
           "x": [
            30.198751472807327,
            70.79080538639677,
            23.24317011507859,
            29.96245018061244,
            43.044931983694404,
            75.12397322786735,
            67.01556552860308,
            13.075575969211734,
            49.700420628372804,
            55.267056123513456,
            42.18423389882207,
            33.61410462859738,
            31.347961190881186,
            41.34555588824654,
            61.24414897225425,
            37.76625079422781
           ],
           "xaxis": "x",
           "y": [
            "Belo Horizonte",
            "Belém",
            "Campinas",
            "Curitiba",
            "Florianópolis",
            "Fortaleza",
            "Goiânia",
            "Manaus",
            "Porto Alegre",
            "Recife",
            "Rio de Janeiro",
            "Salvador",
            "São Paulo",
            "Vitória",
            "Brasília",
            "Total"
           ],
           "yaxis": "y"
          }
         ],
         "name": "2009"
        },
        {
         "data": [
          {
           "alignmentgroup": "True",
           "hovertemplate": "Nível Tecnológico=Alto<br>Ano=2010<br>Pessoal %=%{x}<br>Espaço Metropolitano=%{y}<extra></extra>",
           "legendgroup": "Alto",
           "marker": {
            "color": "rgb(103,0,31)"
           },
           "name": "Alto",
           "offsetgroup": "Alto",
           "orientation": "h",
           "showlegend": true,
           "textposition": "auto",
           "type": "bar",
           "x": [
            4.089862820441425,
            0.0869874658969594,
            10.637049843323094,
            5.41094601262571,
            9.810306928274851,
            2.1448299371786756,
            4.605397669188305,
            30.765259670167733,
            4.935879922840656,
            1.2713288648990648,
            5.123747309624879,
            1.8236086797728046,
            6.22496384099126,
            0.4847573079253641,
            4.461056917980977,
            6.230016810821577
           ],
           "xaxis": "x",
           "y": [
            "Belo Horizonte",
            "Belém",
            "Campinas",
            "Curitiba",
            "Florianópolis",
            "Fortaleza",
            "Goiânia",
            "Manaus",
            "Porto Alegre",
            "Recife",
            "Rio de Janeiro",
            "Salvador",
            "São Paulo",
            "Vitória",
            "Brasília",
            "Total"
           ],
           "yaxis": "y"
          },
          {
           "alignmentgroup": "True",
           "hovertemplate": "Nível Tecnológico=Médio-Alto<br>Ano=2010<br>Pessoal %=%{x}<br>Espaço Metropolitano=%{y}<extra></extra>",
           "legendgroup": "Médio-Alto",
           "marker": {
            "color": "rgb(178,24,43)"
           },
           "name": "Médio-Alto",
           "offsetgroup": "Médio-Alto",
           "orientation": "h",
           "showlegend": true,
           "textposition": "auto",
           "type": "bar",
           "x": [
            31.883573722410947,
            7.876319639397414,
            44.18057206365867,
            38.29781822436325,
            11.723520312627208,
            6.701636972053902,
            12.553670006133716,
            33.31268361820554,
            21.4204107989966,
            15.573284299187378,
            16.98685943212696,
            27.124919713360956,
            33.72096028346168,
            8.884431350425208,
            9.37186616829246,
            27.83987915948038
           ],
           "xaxis": "x",
           "y": [
            "Belo Horizonte",
            "Belém",
            "Campinas",
            "Curitiba",
            "Florianópolis",
            "Fortaleza",
            "Goiânia",
            "Manaus",
            "Porto Alegre",
            "Recife",
            "Rio de Janeiro",
            "Salvador",
            "São Paulo",
            "Vitória",
            "Brasília",
            "Total"
           ],
           "yaxis": "y"
          },
          {
           "alignmentgroup": "True",
           "hovertemplate": "Nível Tecnológico=Médio-Baixo<br>Ano=2010<br>Pessoal %=%{x}<br>Espaço Metropolitano=%{y}<extra></extra>",
           "legendgroup": "Médio-Baixo",
           "marker": {
            "color": "rgb(214,96,77)"
           },
           "name": "Médio-Baixo",
           "offsetgroup": "Médio-Baixo",
           "orientation": "h",
           "showlegend": true,
           "textposition": "auto",
           "type": "bar",
           "x": [
            34.916745558835,
            22.102724289272864,
            22.109195313585353,
            26.421918477182665,
            34.437840918342424,
            16.798269109022478,
            18.1826313637293,
            23.23937712950187,
            24.473255014943412,
            29.792198034679796,
            38.20193428522551,
            37.91922219563493,
            28.849319194707906,
            50.02820786059049,
            24.265353876075,
            28.75312051546034
           ],
           "xaxis": "x",
           "y": [
            "Belo Horizonte",
            "Belém",
            "Campinas",
            "Curitiba",
            "Florianópolis",
            "Fortaleza",
            "Goiânia",
            "Manaus",
            "Porto Alegre",
            "Recife",
            "Rio de Janeiro",
            "Salvador",
            "São Paulo",
            "Vitória",
            "Brasília",
            "Total"
           ],
           "yaxis": "y"
          },
          {
           "alignmentgroup": "True",
           "hovertemplate": "Nível Tecnológico=Baixo<br>Ano=2010<br>Pessoal %=%{x}<br>Espaço Metropolitano=%{y}<extra></extra>",
           "legendgroup": "Baixo",
           "marker": {
            "color": "rgb(244,165,130)"
           },
           "name": "Baixo",
           "offsetgroup": "Baixo",
           "orientation": "h",
           "showlegend": true,
           "textposition": "auto",
           "type": "bar",
           "x": [
            29.109817898312635,
            69.93396860543277,
            23.073182779432877,
            29.86931728582838,
            44.02833184075551,
            74.35526398174494,
            64.65830096094868,
            12.682679582124855,
            49.170454263219334,
            53.36318880123376,
            39.68745897302265,
            33.132249411231314,
            31.204756680839157,
            40.60260348105895,
            61.90172303765157,
            37.176983514237705
           ],
           "xaxis": "x",
           "y": [
            "Belo Horizonte",
            "Belém",
            "Campinas",
            "Curitiba",
            "Florianópolis",
            "Fortaleza",
            "Goiânia",
            "Manaus",
            "Porto Alegre",
            "Recife",
            "Rio de Janeiro",
            "Salvador",
            "São Paulo",
            "Vitória",
            "Brasília",
            "Total"
           ],
           "yaxis": "y"
          }
         ],
         "name": "2010"
        },
        {
         "data": [
          {
           "alignmentgroup": "True",
           "hovertemplate": "Nível Tecnológico=Alto<br>Ano=2011<br>Pessoal %=%{x}<br>Espaço Metropolitano=%{y}<extra></extra>",
           "legendgroup": "Alto",
           "marker": {
            "color": "rgb(103,0,31)"
           },
           "name": "Alto",
           "offsetgroup": "Alto",
           "orientation": "h",
           "showlegend": true,
           "textposition": "auto",
           "type": "bar",
           "x": [
            3.7652912178199744,
            0.09625444653693241,
            11.559184163527487,
            4.559450205680222,
            9.883833121068273,
            2.2770942069996716,
            4.150067212513748,
            33.979509761705515,
            5.1022933509321895,
            1.2322735590118938,
            4.853724430721729,
            2.1252743621816808,
            6.2607901837855255,
            0.5512789672039131,
            4.818922655997175,
            6.461830195316468
           ],
           "xaxis": "x",
           "y": [
            "Belo Horizonte",
            "Belém",
            "Campinas",
            "Curitiba",
            "Florianópolis",
            "Fortaleza",
            "Goiânia",
            "Manaus",
            "Porto Alegre",
            "Recife",
            "Rio de Janeiro",
            "Salvador",
            "São Paulo",
            "Vitória",
            "Brasília",
            "Total"
           ],
           "yaxis": "y"
          },
          {
           "alignmentgroup": "True",
           "hovertemplate": "Nível Tecnológico=Médio-Alto<br>Ano=2011<br>Pessoal %=%{x}<br>Espaço Metropolitano=%{y}<extra></extra>",
           "legendgroup": "Médio-Alto",
           "marker": {
            "color": "rgb(178,24,43)"
           },
           "name": "Médio-Alto",
           "offsetgroup": "Médio-Alto",
           "orientation": "h",
           "showlegend": true,
           "textposition": "auto",
           "type": "bar",
           "x": [
            33.36954537155377,
            8.206737811257584,
            43.19310831294742,
            40.17488977018006,
            12.137702134228705,
            6.827090364097511,
            12.27056091897837,
            32.8363787038015,
            22.1213496122752,
            17.50152485513876,
            16.566962562717098,
            25.656699157442592,
            33.879364738417756,
            9.343677331408868,
            9.805536759730517,
            28.140099037562372
           ],
           "xaxis": "x",
           "y": [
            "Belo Horizonte",
            "Belém",
            "Campinas",
            "Curitiba",
            "Florianópolis",
            "Fortaleza",
            "Goiânia",
            "Manaus",
            "Porto Alegre",
            "Recife",
            "Rio de Janeiro",
            "Salvador",
            "São Paulo",
            "Vitória",
            "Brasília",
            "Total"
           ],
           "yaxis": "y"
          },
          {
           "alignmentgroup": "True",
           "hovertemplate": "Nível Tecnológico=Médio-Baixo<br>Ano=2011<br>Pessoal %=%{x}<br>Espaço Metropolitano=%{y}<extra></extra>",
           "legendgroup": "Médio-Baixo",
           "marker": {
            "color": "rgb(214,96,77)"
           },
           "name": "Médio-Baixo",
           "offsetgroup": "Médio-Baixo",
           "orientation": "h",
           "showlegend": true,
           "textposition": "auto",
           "type": "bar",
           "x": [
            35.352382691254334,
            23.063402385436284,
            22.719154747790068,
            26.36500234007439,
            34.28659642622824,
            17.242053926397944,
            19.841134058413783,
            21.213327591950147,
            25.25243359181653,
            31.088937175968283,
            39.43072172906214,
            39.68870217837672,
            28.81714078588785,
            49.56298612781653,
            25.7126886528787,
            29.088901516629086
           ],
           "xaxis": "x",
           "y": [
            "Belo Horizonte",
            "Belém",
            "Campinas",
            "Curitiba",
            "Florianópolis",
            "Fortaleza",
            "Goiânia",
            "Manaus",
            "Porto Alegre",
            "Recife",
            "Rio de Janeiro",
            "Salvador",
            "São Paulo",
            "Vitória",
            "Brasília",
            "Total"
           ],
           "yaxis": "y"
          },
          {
           "alignmentgroup": "True",
           "hovertemplate": "Nível Tecnológico=Baixo<br>Ano=2011<br>Pessoal %=%{x}<br>Espaço Metropolitano=%{y}<extra></extra>",
           "legendgroup": "Baixo",
           "marker": {
            "color": "rgb(244,165,130)"
           },
           "name": "Baixo",
           "offsetgroup": "Baixo",
           "orientation": "h",
           "showlegend": true,
           "textposition": "auto",
           "type": "bar",
           "x": [
            27.51278071937192,
            68.6336053567692,
            22.52855277573502,
            28.900657684065322,
            43.69186831847478,
            73.65376150250488,
            63.7382378100941,
            11.970783942542838,
            47.52392344497608,
            50.17726440988106,
            39.14859127749904,
            32.529324301999004,
            31.042704291908873,
            40.54205757357068,
            59.662851931393604,
            36.309169250492076
           ],
           "xaxis": "x",
           "y": [
            "Belo Horizonte",
            "Belém",
            "Campinas",
            "Curitiba",
            "Florianópolis",
            "Fortaleza",
            "Goiânia",
            "Manaus",
            "Porto Alegre",
            "Recife",
            "Rio de Janeiro",
            "Salvador",
            "São Paulo",
            "Vitória",
            "Brasília",
            "Total"
           ],
           "yaxis": "y"
          }
         ],
         "name": "2011"
        },
        {
         "data": [
          {
           "alignmentgroup": "True",
           "hovertemplate": "Nível Tecnológico=Alto<br>Ano=2012<br>Pessoal %=%{x}<br>Espaço Metropolitano=%{y}<extra></extra>",
           "legendgroup": "Alto",
           "marker": {
            "color": "rgb(103,0,31)"
           },
           "name": "Alto",
           "offsetgroup": "Alto",
           "orientation": "h",
           "showlegend": true,
           "textposition": "auto",
           "type": "bar",
           "x": [
            3.7551965293148313,
            0.07526971648406791,
            12.641432886057311,
            4.776047598476221,
            10.103219369939758,
            1.9740414901705226,
            3.369906871852397,
            35.52575044019647,
            4.530109527457633,
            1.0437635791247284,
            4.6799962096086425,
            2.120494667157043,
            6.290879909711509,
            0.5134943899727079,
            4.505782822874277,
            6.4129982698834205
           ],
           "xaxis": "x",
           "y": [
            "Belo Horizonte",
            "Belém",
            "Campinas",
            "Curitiba",
            "Florianópolis",
            "Fortaleza",
            "Goiânia",
            "Manaus",
            "Porto Alegre",
            "Recife",
            "Rio de Janeiro",
            "Salvador",
            "São Paulo",
            "Vitória",
            "Brasília",
            "Total"
           ],
           "yaxis": "y"
          },
          {
           "alignmentgroup": "True",
           "hovertemplate": "Nível Tecnológico=Médio-Alto<br>Ano=2012<br>Pessoal %=%{x}<br>Espaço Metropolitano=%{y}<extra></extra>",
           "legendgroup": "Médio-Alto",
           "marker": {
            "color": "rgb(178,24,43)"
           },
           "name": "Médio-Alto",
           "offsetgroup": "Médio-Alto",
           "orientation": "h",
           "showlegend": true,
           "textposition": "auto",
           "type": "bar",
           "x": [
            34.56857209756443,
            8.066404616542611,
            42.097789665068895,
            40.60499548364293,
            12.34795287978205,
            6.697349842511133,
            10.863392575454832,
            30.22064584614607,
            22.59666787334888,
            18.008247239835054,
            16.230076755424996,
            27.44345347554248,
            33.03426492196861,
            9.07106034569898,
            10.058363675305204,
            27.65904784874541
           ],
           "xaxis": "x",
           "y": [
            "Belo Horizonte",
            "Belém",
            "Campinas",
            "Curitiba",
            "Florianópolis",
            "Fortaleza",
            "Goiânia",
            "Manaus",
            "Porto Alegre",
            "Recife",
            "Rio de Janeiro",
            "Salvador",
            "São Paulo",
            "Vitória",
            "Brasília",
            "Total"
           ],
           "yaxis": "y"
          },
          {
           "alignmentgroup": "True",
           "hovertemplate": "Nível Tecnológico=Médio-Baixo<br>Ano=2012<br>Pessoal %=%{x}<br>Espaço Metropolitano=%{y}<extra></extra>",
           "legendgroup": "Médio-Baixo",
           "marker": {
            "color": "rgb(214,96,77)"
           },
           "name": "Médio-Baixo",
           "offsetgroup": "Médio-Baixo",
           "orientation": "h",
           "showlegend": true,
           "textposition": "auto",
           "type": "bar",
           "x": [
            33.64479375135298,
            23.27088734632433,
            21.853165241694338,
            26.621961277147232,
            34.38854994052416,
            19.161371782339522,
            19.88525490471016,
            20.828664582929648,
            24.72954884116414,
            30.619429787611402,
            40.21984269875865,
            37.54137550570063,
            28.977603763974745,
            50.65601940766198,
            26.044120796744487,
            29.079986513458238
           ],
           "xaxis": "x",
           "y": [
            "Belo Horizonte",
            "Belém",
            "Campinas",
            "Curitiba",
            "Florianópolis",
            "Fortaleza",
            "Goiânia",
            "Manaus",
            "Porto Alegre",
            "Recife",
            "Rio de Janeiro",
            "Salvador",
            "São Paulo",
            "Vitória",
            "Brasília",
            "Total"
           ],
           "yaxis": "y"
          },
          {
           "alignmentgroup": "True",
           "hovertemplate": "Nível Tecnológico=Baixo<br>Ano=2012<br>Pessoal %=%{x}<br>Espaço Metropolitano=%{y}<extra></extra>",
           "legendgroup": "Baixo",
           "marker": {
            "color": "rgb(244,165,130)"
           },
           "name": "Baixo",
           "offsetgroup": "Baixo",
           "orientation": "h",
           "showlegend": true,
           "textposition": "auto",
           "type": "bar",
           "x": [
            28.03143762176777,
            68.587438320649,
            23.407612207179458,
            27.996995640733612,
            43.160277809754035,
            72.16723688497882,
            65.88144564798262,
            13.42493913072782,
            48.14367375802935,
            50.328559393428804,
            38.87008433620771,
            32.894676351599855,
            31.697251404345135,
            39.75942585666633,
            59.39173270507603,
            36.84796736791293
           ],
           "xaxis": "x",
           "y": [
            "Belo Horizonte",
            "Belém",
            "Campinas",
            "Curitiba",
            "Florianópolis",
            "Fortaleza",
            "Goiânia",
            "Manaus",
            "Porto Alegre",
            "Recife",
            "Rio de Janeiro",
            "Salvador",
            "São Paulo",
            "Vitória",
            "Brasília",
            "Total"
           ],
           "yaxis": "y"
          }
         ],
         "name": "2012"
        },
        {
         "data": [
          {
           "alignmentgroup": "True",
           "hovertemplate": "Nível Tecnológico=Alto<br>Ano=2013<br>Pessoal %=%{x}<br>Espaço Metropolitano=%{y}<extra></extra>",
           "legendgroup": "Alto",
           "marker": {
            "color": "rgb(103,0,31)"
           },
           "name": "Alto",
           "offsetgroup": "Alto",
           "orientation": "h",
           "showlegend": true,
           "textposition": "auto",
           "type": "bar",
           "x": [
            3.621325937402601,
            0.19449617214980344,
            12.986219589526268,
            4.79778130422531,
            9.934591665109325,
            1.9774777830540669,
            3.762320788530466,
            36.55860426750502,
            4.671148786904414,
            1.0346390306885909,
            4.211704159712464,
            1.688835917559621,
            6.178243001677018,
            0.5786482942364132,
            5.905830633965756,
            6.493568971498963
           ],
           "xaxis": "x",
           "y": [
            "Belo Horizonte",
            "Belém",
            "Campinas",
            "Curitiba",
            "Florianópolis",
            "Fortaleza",
            "Goiânia",
            "Manaus",
            "Porto Alegre",
            "Recife",
            "Rio de Janeiro",
            "Salvador",
            "São Paulo",
            "Vitória",
            "Brasília",
            "Total"
           ],
           "yaxis": "y"
          },
          {
           "alignmentgroup": "True",
           "hovertemplate": "Nível Tecnológico=Médio-Alto<br>Ano=2013<br>Pessoal %=%{x}<br>Espaço Metropolitano=%{y}<extra></extra>",
           "legendgroup": "Médio-Alto",
           "marker": {
            "color": "rgb(178,24,43)"
           },
           "name": "Médio-Alto",
           "offsetgroup": "Médio-Alto",
           "orientation": "h",
           "showlegend": true,
           "textposition": "auto",
           "type": "bar",
           "x": [
            35.48239928088426,
            8.690254500310367,
            41.638956338834156,
            39.820348920561,
            12.932162212670528,
            6.82111118648667,
            10.688844086021506,
            29.62663221950726,
            24.253142356036246,
            18.28745863581561,
            17.253708175882636,
            27.825314548500625,
            33.663730350330795,
            9.11475136856566,
            9.677232762609902,
            28.065922782710317
           ],
           "xaxis": "x",
           "y": [
            "Belo Horizonte",
            "Belém",
            "Campinas",
            "Curitiba",
            "Florianópolis",
            "Fortaleza",
            "Goiânia",
            "Manaus",
            "Porto Alegre",
            "Recife",
            "Rio de Janeiro",
            "Salvador",
            "São Paulo",
            "Vitória",
            "Brasília",
            "Total"
           ],
           "yaxis": "y"
          },
          {
           "alignmentgroup": "True",
           "hovertemplate": "Nível Tecnológico=Médio-Baixo<br>Ano=2013<br>Pessoal %=%{x}<br>Espaço Metropolitano=%{y}<extra></extra>",
           "legendgroup": "Médio-Baixo",
           "marker": {
            "color": "rgb(214,96,77)"
           },
           "name": "Médio-Baixo",
           "offsetgroup": "Médio-Baixo",
           "orientation": "h",
           "showlegend": true,
           "textposition": "auto",
           "type": "bar",
           "x": [
            32.9885311880316,
            23.57955721084213,
            22.568322068762857,
            27.217089098827866,
            34.16931414688843,
            19.453225697035478,
            19.264112903225804,
            20.475308545904472,
            23.785860441808996,
            33.95411675174649,
            41.646102318151506,
            37.26682932862588,
            28.496305032895343,
            50.831546739379306,
            28.062818139750117,
            29.07668353608947
           ],
           "xaxis": "x",
           "y": [
            "Belo Horizonte",
            "Belém",
            "Campinas",
            "Curitiba",
            "Florianópolis",
            "Fortaleza",
            "Goiânia",
            "Manaus",
            "Porto Alegre",
            "Recife",
            "Rio de Janeiro",
            "Salvador",
            "São Paulo",
            "Vitória",
            "Brasília",
            "Total"
           ],
           "yaxis": "y"
          },
          {
           "alignmentgroup": "True",
           "hovertemplate": "Nível Tecnológico=Baixo<br>Ano=2013<br>Pessoal %=%{x}<br>Espaço Metropolitano=%{y}<extra></extra>",
           "legendgroup": "Baixo",
           "marker": {
            "color": "rgb(244,165,130)"
           },
           "name": "Baixo",
           "offsetgroup": "Baixo",
           "orientation": "h",
           "showlegend": true,
           "textposition": "auto",
           "type": "bar",
           "x": [
            27.907743593681538,
            67.5356921166977,
            22.80650200287672,
            28.16478067638582,
            42.96393197533172,
            71.74818533342379,
            66.28472222222223,
            13.33945496708325,
            47.28984841525035,
            46.72378558174931,
            36.8884853462534,
            33.219020205313875,
            31.661721615096845,
            39.47505359781862,
            56.35411846367423,
            36.363824709701255
           ],
           "xaxis": "x",
           "y": [
            "Belo Horizonte",
            "Belém",
            "Campinas",
            "Curitiba",
            "Florianópolis",
            "Fortaleza",
            "Goiânia",
            "Manaus",
            "Porto Alegre",
            "Recife",
            "Rio de Janeiro",
            "Salvador",
            "São Paulo",
            "Vitória",
            "Brasília",
            "Total"
           ],
           "yaxis": "y"
          }
         ],
         "name": "2013"
        },
        {
         "data": [
          {
           "alignmentgroup": "True",
           "hovertemplate": "Nível Tecnológico=Alto<br>Ano=2014<br>Pessoal %=%{x}<br>Espaço Metropolitano=%{y}<extra></extra>",
           "legendgroup": "Alto",
           "marker": {
            "color": "rgb(103,0,31)"
           },
           "name": "Alto",
           "offsetgroup": "Alto",
           "orientation": "h",
           "showlegend": true,
           "textposition": "auto",
           "type": "bar",
           "x": [
            3.903974333116003,
            0.18027904060197525,
            12.090222541721742,
            4.640004176891348,
            10.929370812591234,
            1.8089323646006683,
            3.3800624809681166,
            32.17916666666667,
            4.699055637728979,
            1.0363702282313618,
            4.510962331061263,
            1.3965258315891542,
            6.317664714140485,
            0.5005333552145729,
            5.955364250125299,
            6.280336825622962
           ],
           "xaxis": "x",
           "y": [
            "Belo Horizonte",
            "Belém",
            "Campinas",
            "Curitiba",
            "Florianópolis",
            "Fortaleza",
            "Goiânia",
            "Manaus",
            "Porto Alegre",
            "Recife",
            "Rio de Janeiro",
            "Salvador",
            "São Paulo",
            "Vitória",
            "Brasília",
            "Total"
           ],
           "yaxis": "y"
          },
          {
           "alignmentgroup": "True",
           "hovertemplate": "Nível Tecnológico=Médio-Alto<br>Ano=2014<br>Pessoal %=%{x}<br>Espaço Metropolitano=%{y}<extra></extra>",
           "legendgroup": "Médio-Alto",
           "marker": {
            "color": "rgb(178,24,43)"
           },
           "name": "Médio-Alto",
           "offsetgroup": "Médio-Alto",
           "orientation": "h",
           "showlegend": true,
           "textposition": "auto",
           "type": "bar",
           "x": [
            34.69203960730418,
            8.739614359617494,
            40.04746113829434,
            38.51407090273064,
            13.541939589025715,
            7.116667343155958,
            10.798831583339913,
            32.185833333333335,
            23.568796660160864,
            15.526099374817617,
            16.743432630770222,
            26.847351803895137,
            33.597037323909575,
            9.110117338147205,
            10.357027034995134,
            27.555460319377513
           ],
           "xaxis": "x",
           "y": [
            "Belo Horizonte",
            "Belém",
            "Campinas",
            "Curitiba",
            "Florianópolis",
            "Fortaleza",
            "Goiânia",
            "Manaus",
            "Porto Alegre",
            "Recife",
            "Rio de Janeiro",
            "Salvador",
            "São Paulo",
            "Vitória",
            "Brasília",
            "Total"
           ],
           "yaxis": "y"
          },
          {
           "alignmentgroup": "True",
           "hovertemplate": "Nível Tecnológico=Médio-Baixo<br>Ano=2014<br>Pessoal %=%{x}<br>Espaço Metropolitano=%{y}<extra></extra>",
           "legendgroup": "Médio-Baixo",
           "marker": {
            "color": "rgb(214,96,77)"
           },
           "name": "Médio-Baixo",
           "offsetgroup": "Médio-Baixo",
           "orientation": "h",
           "showlegend": true,
           "textposition": "auto",
           "type": "bar",
           "x": [
            33.670899138339436,
            24.51794952186863,
            23.64940596278861,
            27.63953427661463,
            32.16678519294831,
            19.50859817889083,
            19.859699775564753,
            22.09166666666667,
            23.935513797841708,
            31.01505920220715,
            41.90134848215333,
            36.976598436742464,
            28.016652950573658,
            50.62771806022811,
            27.2649547451281,
            29.038040223784
           ],
           "xaxis": "x",
           "y": [
            "Belo Horizonte",
            "Belém",
            "Campinas",
            "Curitiba",
            "Florianópolis",
            "Fortaleza",
            "Goiânia",
            "Manaus",
            "Porto Alegre",
            "Recife",
            "Rio de Janeiro",
            "Salvador",
            "São Paulo",
            "Vitória",
            "Brasília",
            "Total"
           ],
           "yaxis": "y"
          },
          {
           "alignmentgroup": "True",
           "hovertemplate": "Nível Tecnológico=Baixo<br>Ano=2014<br>Pessoal %=%{x}<br>Espaço Metropolitano=%{y}<extra></extra>",
           "legendgroup": "Baixo",
           "marker": {
            "color": "rgb(244,165,130)"
           },
           "name": "Baixo",
           "offsetgroup": "Baixo",
           "orientation": "h",
           "showlegend": true,
           "textposition": "auto",
           "type": "bar",
           "x": [
            27.73308692124038,
            66.5621570779119,
            24.212910357195312,
            29.20639064376338,
            43.36190440543474,
            71.56580211335255,
            65.96140616012723,
            13.543333333333333,
            47.79663390426845,
            52.42247119474387,
            36.84425655601519,
            34.77952392777324,
            32.06864501137629,
            39.76163124641011,
            56.422653969751465,
            37.12616263121553
           ],
           "xaxis": "x",
           "y": [
            "Belo Horizonte",
            "Belém",
            "Campinas",
            "Curitiba",
            "Florianópolis",
            "Fortaleza",
            "Goiânia",
            "Manaus",
            "Porto Alegre",
            "Recife",
            "Rio de Janeiro",
            "Salvador",
            "São Paulo",
            "Vitória",
            "Brasília",
            "Total"
           ],
           "yaxis": "y"
          }
         ],
         "name": "2014"
        },
        {
         "data": [
          {
           "alignmentgroup": "True",
           "hovertemplate": "Nível Tecnológico=Alto<br>Ano=2015<br>Pessoal %=%{x}<br>Espaço Metropolitano=%{y}<extra></extra>",
           "legendgroup": "Alto",
           "marker": {
            "color": "rgb(103,0,31)"
           },
           "name": "Alto",
           "offsetgroup": "Alto",
           "orientation": "h",
           "showlegend": true,
           "textposition": "auto",
           "type": "bar",
           "x": [
            3.9611808560778097,
            0.1761671070844344,
            12.31184443536303,
            4.289849680877036,
            10.453057844722212,
            1.8267143264402097,
            3.372049456725365,
            27.857882742904494,
            4.740463811015752,
            1.0750922473581515,
            4.719530796829011,
            1.1575779523232728,
            6.762778278660102,
            0.5466377440347072,
            6.467286335103814,
            6.150976789944173
           ],
           "xaxis": "x",
           "y": [
            "Belo Horizonte",
            "Belém",
            "Campinas",
            "Curitiba",
            "Florianópolis",
            "Fortaleza",
            "Goiânia",
            "Manaus",
            "Porto Alegre",
            "Recife",
            "Rio de Janeiro",
            "Salvador",
            "São Paulo",
            "Vitória",
            "Brasília",
            "Total"
           ],
           "yaxis": "y"
          },
          {
           "alignmentgroup": "True",
           "hovertemplate": "Nível Tecnológico=Médio-Alto<br>Ano=2015<br>Pessoal %=%{x}<br>Espaço Metropolitano=%{y}<extra></extra>",
           "legendgroup": "Médio-Alto",
           "marker": {
            "color": "rgb(178,24,43)"
           },
           "name": "Médio-Alto",
           "offsetgroup": "Médio-Alto",
           "orientation": "h",
           "showlegend": true,
           "textposition": "auto",
           "type": "bar",
           "x": [
            31.924032734907236,
            9.483662598045385,
            39.92814330472687,
            37.64139646814002,
            12.858325775797486,
            9.988085056614256,
            10.884830611924244,
            34.041847938678266,
            23.352971139152913,
            16.18916987037073,
            16.59097256536404,
            28.527366041882594,
            33.139542443997506,
            8.483731019522777,
            8.727667793336552,
            27.21867501464759
           ],
           "xaxis": "x",
           "y": [
            "Belo Horizonte",
            "Belém",
            "Campinas",
            "Curitiba",
            "Florianópolis",
            "Fortaleza",
            "Goiânia",
            "Manaus",
            "Porto Alegre",
            "Recife",
            "Rio de Janeiro",
            "Salvador",
            "São Paulo",
            "Vitória",
            "Brasília",
            "Total"
           ],
           "yaxis": "y"
          },
          {
           "alignmentgroup": "True",
           "hovertemplate": "Nível Tecnológico=Médio-Baixo<br>Ano=2015<br>Pessoal %=%{x}<br>Espaço Metropolitano=%{y}<extra></extra>",
           "legendgroup": "Médio-Baixo",
           "marker": {
            "color": "rgb(214,96,77)"
           },
           "name": "Médio-Baixo",
           "offsetgroup": "Médio-Baixo",
           "orientation": "h",
           "showlegend": true,
           "textposition": "auto",
           "type": "bar",
           "x": [
            34.003170658554346,
            21.404303510758776,
            22.5812219043727,
            28.295569480451537,
            31.915145301841406,
            16.879015811056775,
            19.171128488379118,
            21.79718251501968,
            22.590364340563763,
            30.37691014817534,
            39.95101725138033,
            36.10469399732771,
            27.30425133504404,
            51.353579175704986,
            24.951714147754707,
            28.20701285503703
           ],
           "xaxis": "x",
           "y": [
            "Belo Horizonte",
            "Belém",
            "Campinas",
            "Curitiba",
            "Florianópolis",
            "Fortaleza",
            "Goiânia",
            "Manaus",
            "Porto Alegre",
            "Recife",
            "Rio de Janeiro",
            "Salvador",
            "São Paulo",
            "Vitória",
            "Brasília",
            "Total"
           ],
           "yaxis": "y"
          },
          {
           "alignmentgroup": "True",
           "hovertemplate": "Nível Tecnológico=Baixo<br>Ano=2015<br>Pessoal %=%{x}<br>Espaço Metropolitano=%{y}<extra></extra>",
           "legendgroup": "Baixo",
           "marker": {
            "color": "rgb(244,165,130)"
           },
           "name": "Baixo",
           "offsetgroup": "Baixo",
           "orientation": "h",
           "showlegend": true,
           "textposition": "auto",
           "type": "bar",
           "x": [
            30.1116157504606,
            68.9358667841114,
            25.178790355537394,
            29.773184370531407,
            44.773471077638895,
            71.30618480588876,
            66.57199144297127,
            16.303086803397555,
            49.31620070926757,
            52.35882773409578,
            38.73847938642662,
            34.210362008466426,
            32.79342794229836,
            39.61605206073753,
            59.85333172380493,
            38.4233353403712
           ],
           "xaxis": "x",
           "y": [
            "Belo Horizonte",
            "Belém",
            "Campinas",
            "Curitiba",
            "Florianópolis",
            "Fortaleza",
            "Goiânia",
            "Manaus",
            "Porto Alegre",
            "Recife",
            "Rio de Janeiro",
            "Salvador",
            "São Paulo",
            "Vitória",
            "Brasília",
            "Total"
           ],
           "yaxis": "y"
          }
         ],
         "name": "2015"
        },
        {
         "data": [
          {
           "alignmentgroup": "True",
           "hovertemplate": "Nível Tecnológico=Alto<br>Ano=2016<br>Pessoal %=%{x}<br>Espaço Metropolitano=%{y}<extra></extra>",
           "legendgroup": "Alto",
           "marker": {
            "color": "rgb(103,0,31)"
           },
           "name": "Alto",
           "offsetgroup": "Alto",
           "orientation": "h",
           "showlegend": true,
           "textposition": "auto",
           "type": "bar",
           "x": [
            4.3842040751070295,
            0.018129900738793454,
            12.558777771950986,
            3.8240419739151466,
            11.745325755703814,
            1.69432342134292,
            3.4239912843858216,
            31.13511788770754,
            4.388167395428175,
            1.0189878677081603,
            5.051796405724686,
            1.0610395803528851,
            6.8202733602843475,
            0.5968952012456943,
            6.9353297228416695,
            6.320136249068062
           ],
           "xaxis": "x",
           "y": [
            "Belo Horizonte",
            "Belém",
            "Campinas",
            "Curitiba",
            "Florianópolis",
            "Fortaleza",
            "Goiânia",
            "Manaus",
            "Porto Alegre",
            "Recife",
            "Rio de Janeiro",
            "Salvador",
            "São Paulo",
            "Vitória",
            "Brasília",
            "Total"
           ],
           "yaxis": "y"
          },
          {
           "alignmentgroup": "True",
           "hovertemplate": "Nível Tecnológico=Médio-Alto<br>Ano=2016<br>Pessoal %=%{x}<br>Espaço Metropolitano=%{y}<extra></extra>",
           "legendgroup": "Médio-Alto",
           "marker": {
            "color": "rgb(178,24,43)"
           },
           "name": "Médio-Alto",
           "offsetgroup": "Médio-Alto",
           "orientation": "h",
           "showlegend": true,
           "textposition": "auto",
           "type": "bar",
           "x": [
            30.734431160771912,
            10.071159860399764,
            38.86150296292411,
            37.73249071277513,
            13.149658183016227,
            10.751612980025236,
            13.275748025368664,
            32.10602486524677,
            21.204192433291905,
            17.239695861725114,
            16.460668400532846,
            27.349917872092405,
            32.57116898849182,
            9.026565375359787,
            8.913666772857598,
            26.799636248630023
           ],
           "xaxis": "x",
           "y": [
            "Belo Horizonte",
            "Belém",
            "Campinas",
            "Curitiba",
            "Florianópolis",
            "Fortaleza",
            "Goiânia",
            "Manaus",
            "Porto Alegre",
            "Recife",
            "Rio de Janeiro",
            "Salvador",
            "São Paulo",
            "Vitória",
            "Brasília",
            "Total"
           ],
           "yaxis": "y"
          },
          {
           "alignmentgroup": "True",
           "hovertemplate": "Nível Tecnológico=Médio-Baixo<br>Ano=2016<br>Pessoal %=%{x}<br>Espaço Metropolitano=%{y}<extra></extra>",
           "legendgroup": "Médio-Baixo",
           "marker": {
            "color": "rgb(214,96,77)"
           },
           "name": "Médio-Baixo",
           "offsetgroup": "Médio-Baixo",
           "orientation": "h",
           "showlegend": true,
           "textposition": "auto",
           "type": "bar",
           "x": [
            33.36412460992782,
            21.279970992158816,
            23.393990245948924,
            28.213317787438836,
            31.360678692035254,
            16.38454396114563,
            17.78011231728986,
            21.094435517874032,
            23.158011261000606,
            29.83525843443576,
            38.29030384947569,
            36.06342393896042,
            27.484869400269513,
            50.76676261029586,
            23.940745460337688,
            27.92102775531588
           ],
           "xaxis": "x",
           "y": [
            "Belo Horizonte",
            "Belém",
            "Campinas",
            "Curitiba",
            "Florianópolis",
            "Fortaleza",
            "Goiânia",
            "Manaus",
            "Porto Alegre",
            "Recife",
            "Rio de Janeiro",
            "Salvador",
            "São Paulo",
            "Vitória",
            "Brasília",
            "Total"
           ],
           "yaxis": "y"
          },
          {
           "alignmentgroup": "True",
           "hovertemplate": "Nível Tecnológico=Baixo<br>Ano=2016<br>Pessoal %=%{x}<br>Espaço Metropolitano=%{y}<extra></extra>",
           "legendgroup": "Baixo",
           "marker": {
            "color": "rgb(244,165,130)"
           },
           "name": "Baixo",
           "offsetgroup": "Baixo",
           "orientation": "h",
           "showlegend": true,
           "textposition": "auto",
           "type": "bar",
           "x": [
            31.51724015419324,
            68.63073924670262,
            25.185729019175973,
            30.230149525870893,
            43.744337369244704,
            71.16951963748622,
            65.52014837295566,
            15.664421729171652,
            51.24962891027931,
            51.906057836130955,
            40.197231344266775,
            35.525618608594286,
            33.12368825095432,
            39.60977681309866,
            60.21025804396305,
            38.95919974698604
           ],
           "xaxis": "x",
           "y": [
            "Belo Horizonte",
            "Belém",
            "Campinas",
            "Curitiba",
            "Florianópolis",
            "Fortaleza",
            "Goiânia",
            "Manaus",
            "Porto Alegre",
            "Recife",
            "Rio de Janeiro",
            "Salvador",
            "São Paulo",
            "Vitória",
            "Brasília",
            "Total"
           ],
           "yaxis": "y"
          }
         ],
         "name": "2016"
        },
        {
         "data": [
          {
           "alignmentgroup": "True",
           "hovertemplate": "Nível Tecnológico=Alto<br>Ano=2017<br>Pessoal %=%{x}<br>Espaço Metropolitano=%{y}<extra></extra>",
           "legendgroup": "Alto",
           "marker": {
            "color": "rgb(103,0,31)"
           },
           "name": "Alto",
           "offsetgroup": "Alto",
           "orientation": "h",
           "showlegend": true,
           "textposition": "auto",
           "type": "bar",
           "x": [
            4.273062685768817,
            0.07159797735713967,
            12.376876329112797,
            3.848862507388357,
            11.978079331941546,
            1.8163256972518274,
            3.2141417031959314,
            31.966018024223636,
            4.4440663284247,
            1.059541146921632,
            5.865334450539896,
            0.8814820851329693,
            6.882025227063185,
            0.6538579990997607,
            5.651676206050695,
            6.435990226238617
           ],
           "xaxis": "x",
           "y": [
            "Belo Horizonte",
            "Belém",
            "Campinas",
            "Curitiba",
            "Florianópolis",
            "Fortaleza",
            "Goiânia",
            "Manaus",
            "Porto Alegre",
            "Recife",
            "Rio de Janeiro",
            "Salvador",
            "São Paulo",
            "Vitória",
            "Brasília",
            "Total"
           ],
           "yaxis": "y"
          },
          {
           "alignmentgroup": "True",
           "hovertemplate": "Nível Tecnológico=Médio-Alto<br>Ano=2017<br>Pessoal %=%{x}<br>Espaço Metropolitano=%{y}<extra></extra>",
           "legendgroup": "Médio-Alto",
           "marker": {
            "color": "rgb(178,24,43)"
           },
           "name": "Médio-Alto",
           "offsetgroup": "Médio-Alto",
           "orientation": "h",
           "showlegend": true,
           "textposition": "auto",
           "type": "bar",
           "x": [
            29.850655547383585,
            10.005817335660268,
            38.01507291768621,
            38.830690292641826,
            12.436623918878615,
            10.358119972232432,
            14.131297233314688,
            30.975259743987145,
            22.016148991461453,
            17.354735220245256,
            15.614015672510922,
            28.24953141553256,
            32.1665898346313,
            8.647035133022198,
            9.219950940310712,
            26.585806346615914
           ],
           "xaxis": "x",
           "y": [
            "Belo Horizonte",
            "Belém",
            "Campinas",
            "Curitiba",
            "Florianópolis",
            "Fortaleza",
            "Goiânia",
            "Manaus",
            "Porto Alegre",
            "Recife",
            "Rio de Janeiro",
            "Salvador",
            "São Paulo",
            "Vitória",
            "Brasília",
            "Total"
           ],
           "yaxis": "y"
          },
          {
           "alignmentgroup": "True",
           "hovertemplate": "Nível Tecnológico=Médio-Baixo<br>Ano=2017<br>Pessoal %=%{x}<br>Espaço Metropolitano=%{y}<extra></extra>",
           "legendgroup": "Médio-Baixo",
           "marker": {
            "color": "rgb(214,96,77)"
           },
           "name": "Médio-Baixo",
           "offsetgroup": "Médio-Baixo",
           "orientation": "h",
           "showlegend": true,
           "textposition": "auto",
           "type": "bar",
           "x": [
            33.20345978276065,
            20.526245133574978,
            23.996547643410715,
            28.378208433416752,
            30.30495079033701,
            16.051288333537507,
            17.8462258874335,
            21.197405430227885,
            23.446458771604174,
            29.770573460815974,
            37.9360135751137,
            35.769972564039875,
            28.165152912097614,
            50.33048257563194,
            24.533115290269826,
            28.107746451812687
           ],
           "xaxis": "x",
           "y": [
            "Belo Horizonte",
            "Belém",
            "Campinas",
            "Curitiba",
            "Florianópolis",
            "Fortaleza",
            "Goiânia",
            "Manaus",
            "Porto Alegre",
            "Recife",
            "Rio de Janeiro",
            "Salvador",
            "São Paulo",
            "Vitória",
            "Brasília",
            "Total"
           ],
           "yaxis": "y"
          },
          {
           "alignmentgroup": "True",
           "hovertemplate": "Nível Tecnológico=Baixo<br>Ano=2017<br>Pessoal %=%{x}<br>Espaço Metropolitano=%{y}<extra></extra>",
           "legendgroup": "Baixo",
           "marker": {
            "color": "rgb(244,165,130)"
           },
           "name": "Baixo",
           "offsetgroup": "Baixo",
           "orientation": "h",
           "showlegend": true,
           "textposition": "auto",
           "type": "bar",
           "x": [
            32.672821984086944,
            69.39633955340761,
            25.611503109790277,
            28.942238766553064,
            45.28034595884283,
            71.77426599697824,
            64.80833517605588,
            15.861316801561335,
            50.09332590850968,
            51.81515017201714,
            40.58463630183549,
            35.0990139352946,
            32.7862320262079,
            40.368624292246096,
            60.59525756336876,
            38.87045697533278
           ],
           "xaxis": "x",
           "y": [
            "Belo Horizonte",
            "Belém",
            "Campinas",
            "Curitiba",
            "Florianópolis",
            "Fortaleza",
            "Goiânia",
            "Manaus",
            "Porto Alegre",
            "Recife",
            "Rio de Janeiro",
            "Salvador",
            "São Paulo",
            "Vitória",
            "Brasília",
            "Total"
           ],
           "yaxis": "y"
          }
         ],
         "name": "2017"
        }
       ],
       "layout": {
        "autosize": true,
        "barmode": "relative",
        "legend": {
         "title": {
          "text": "Nível Tecnológico"
         },
         "tracegroupgap": 0
        },
        "sliders": [
         {
          "active": 0,
          "currentvalue": {
           "prefix": "Ano="
          },
          "len": 0.9,
          "pad": {
           "b": 10,
           "t": 60
          },
          "steps": [
           {
            "args": [
             [
              "2007"
             ],
             {
              "frame": {
               "duration": 0,
               "redraw": true
              },
              "fromcurrent": true,
              "mode": "immediate",
              "transition": {
               "duration": 0,
               "easing": "linear"
              }
             }
            ],
            "label": "2007",
            "method": "animate"
           },
           {
            "args": [
             [
              "2008"
             ],
             {
              "frame": {
               "duration": 0,
               "redraw": true
              },
              "fromcurrent": true,
              "mode": "immediate",
              "transition": {
               "duration": 0,
               "easing": "linear"
              }
             }
            ],
            "label": "2008",
            "method": "animate"
           },
           {
            "args": [
             [
              "2009"
             ],
             {
              "frame": {
               "duration": 0,
               "redraw": true
              },
              "fromcurrent": true,
              "mode": "immediate",
              "transition": {
               "duration": 0,
               "easing": "linear"
              }
             }
            ],
            "label": "2009",
            "method": "animate"
           },
           {
            "args": [
             [
              "2010"
             ],
             {
              "frame": {
               "duration": 0,
               "redraw": true
              },
              "fromcurrent": true,
              "mode": "immediate",
              "transition": {
               "duration": 0,
               "easing": "linear"
              }
             }
            ],
            "label": "2010",
            "method": "animate"
           },
           {
            "args": [
             [
              "2011"
             ],
             {
              "frame": {
               "duration": 0,
               "redraw": true
              },
              "fromcurrent": true,
              "mode": "immediate",
              "transition": {
               "duration": 0,
               "easing": "linear"
              }
             }
            ],
            "label": "2011",
            "method": "animate"
           },
           {
            "args": [
             [
              "2012"
             ],
             {
              "frame": {
               "duration": 0,
               "redraw": true
              },
              "fromcurrent": true,
              "mode": "immediate",
              "transition": {
               "duration": 0,
               "easing": "linear"
              }
             }
            ],
            "label": "2012",
            "method": "animate"
           },
           {
            "args": [
             [
              "2013"
             ],
             {
              "frame": {
               "duration": 0,
               "redraw": true
              },
              "fromcurrent": true,
              "mode": "immediate",
              "transition": {
               "duration": 0,
               "easing": "linear"
              }
             }
            ],
            "label": "2013",
            "method": "animate"
           },
           {
            "args": [
             [
              "2014"
             ],
             {
              "frame": {
               "duration": 0,
               "redraw": true
              },
              "fromcurrent": true,
              "mode": "immediate",
              "transition": {
               "duration": 0,
               "easing": "linear"
              }
             }
            ],
            "label": "2014",
            "method": "animate"
           },
           {
            "args": [
             [
              "2015"
             ],
             {
              "frame": {
               "duration": 0,
               "redraw": true
              },
              "fromcurrent": true,
              "mode": "immediate",
              "transition": {
               "duration": 0,
               "easing": "linear"
              }
             }
            ],
            "label": "2015",
            "method": "animate"
           },
           {
            "args": [
             [
              "2016"
             ],
             {
              "frame": {
               "duration": 0,
               "redraw": true
              },
              "fromcurrent": true,
              "mode": "immediate",
              "transition": {
               "duration": 0,
               "easing": "linear"
              }
             }
            ],
            "label": "2016",
            "method": "animate"
           },
           {
            "args": [
             [
              "2017"
             ],
             {
              "frame": {
               "duration": 0,
               "redraw": true
              },
              "fromcurrent": true,
              "mode": "immediate",
              "transition": {
               "duration": 0,
               "easing": "linear"
              }
             }
            ],
            "label": "2017",
            "method": "animate"
           }
          ],
          "x": 0.1,
          "xanchor": "left",
          "y": 0,
          "yanchor": "top"
         }
        ],
        "template": {
         "data": {
          "bar": [
           {
            "error_x": {
             "color": "#2a3f5f"
            },
            "error_y": {
             "color": "#2a3f5f"
            },
            "marker": {
             "line": {
              "color": "#E5ECF6",
              "width": 0.5
             }
            },
            "type": "bar"
           }
          ],
          "barpolar": [
           {
            "marker": {
             "line": {
              "color": "#E5ECF6",
              "width": 0.5
             }
            },
            "type": "barpolar"
           }
          ],
          "carpet": [
           {
            "aaxis": {
             "endlinecolor": "#2a3f5f",
             "gridcolor": "white",
             "linecolor": "white",
             "minorgridcolor": "white",
             "startlinecolor": "#2a3f5f"
            },
            "baxis": {
             "endlinecolor": "#2a3f5f",
             "gridcolor": "white",
             "linecolor": "white",
             "minorgridcolor": "white",
             "startlinecolor": "#2a3f5f"
            },
            "type": "carpet"
           }
          ],
          "choropleth": [
           {
            "colorbar": {
             "outlinewidth": 0,
             "ticks": ""
            },
            "type": "choropleth"
           }
          ],
          "contour": [
           {
            "colorbar": {
             "outlinewidth": 0,
             "ticks": ""
            },
            "colorscale": [
             [
              0,
              "#0d0887"
             ],
             [
              0.1111111111111111,
              "#46039f"
             ],
             [
              0.2222222222222222,
              "#7201a8"
             ],
             [
              0.3333333333333333,
              "#9c179e"
             ],
             [
              0.4444444444444444,
              "#bd3786"
             ],
             [
              0.5555555555555556,
              "#d8576b"
             ],
             [
              0.6666666666666666,
              "#ed7953"
             ],
             [
              0.7777777777777778,
              "#fb9f3a"
             ],
             [
              0.8888888888888888,
              "#fdca26"
             ],
             [
              1,
              "#f0f921"
             ]
            ],
            "type": "contour"
           }
          ],
          "contourcarpet": [
           {
            "colorbar": {
             "outlinewidth": 0,
             "ticks": ""
            },
            "type": "contourcarpet"
           }
          ],
          "heatmap": [
           {
            "colorbar": {
             "outlinewidth": 0,
             "ticks": ""
            },
            "colorscale": [
             [
              0,
              "#0d0887"
             ],
             [
              0.1111111111111111,
              "#46039f"
             ],
             [
              0.2222222222222222,
              "#7201a8"
             ],
             [
              0.3333333333333333,
              "#9c179e"
             ],
             [
              0.4444444444444444,
              "#bd3786"
             ],
             [
              0.5555555555555556,
              "#d8576b"
             ],
             [
              0.6666666666666666,
              "#ed7953"
             ],
             [
              0.7777777777777778,
              "#fb9f3a"
             ],
             [
              0.8888888888888888,
              "#fdca26"
             ],
             [
              1,
              "#f0f921"
             ]
            ],
            "type": "heatmap"
           }
          ],
          "heatmapgl": [
           {
            "colorbar": {
             "outlinewidth": 0,
             "ticks": ""
            },
            "colorscale": [
             [
              0,
              "#0d0887"
             ],
             [
              0.1111111111111111,
              "#46039f"
             ],
             [
              0.2222222222222222,
              "#7201a8"
             ],
             [
              0.3333333333333333,
              "#9c179e"
             ],
             [
              0.4444444444444444,
              "#bd3786"
             ],
             [
              0.5555555555555556,
              "#d8576b"
             ],
             [
              0.6666666666666666,
              "#ed7953"
             ],
             [
              0.7777777777777778,
              "#fb9f3a"
             ],
             [
              0.8888888888888888,
              "#fdca26"
             ],
             [
              1,
              "#f0f921"
             ]
            ],
            "type": "heatmapgl"
           }
          ],
          "histogram": [
           {
            "marker": {
             "colorbar": {
              "outlinewidth": 0,
              "ticks": ""
             }
            },
            "type": "histogram"
           }
          ],
          "histogram2d": [
           {
            "colorbar": {
             "outlinewidth": 0,
             "ticks": ""
            },
            "colorscale": [
             [
              0,
              "#0d0887"
             ],
             [
              0.1111111111111111,
              "#46039f"
             ],
             [
              0.2222222222222222,
              "#7201a8"
             ],
             [
              0.3333333333333333,
              "#9c179e"
             ],
             [
              0.4444444444444444,
              "#bd3786"
             ],
             [
              0.5555555555555556,
              "#d8576b"
             ],
             [
              0.6666666666666666,
              "#ed7953"
             ],
             [
              0.7777777777777778,
              "#fb9f3a"
             ],
             [
              0.8888888888888888,
              "#fdca26"
             ],
             [
              1,
              "#f0f921"
             ]
            ],
            "type": "histogram2d"
           }
          ],
          "histogram2dcontour": [
           {
            "colorbar": {
             "outlinewidth": 0,
             "ticks": ""
            },
            "colorscale": [
             [
              0,
              "#0d0887"
             ],
             [
              0.1111111111111111,
              "#46039f"
             ],
             [
              0.2222222222222222,
              "#7201a8"
             ],
             [
              0.3333333333333333,
              "#9c179e"
             ],
             [
              0.4444444444444444,
              "#bd3786"
             ],
             [
              0.5555555555555556,
              "#d8576b"
             ],
             [
              0.6666666666666666,
              "#ed7953"
             ],
             [
              0.7777777777777778,
              "#fb9f3a"
             ],
             [
              0.8888888888888888,
              "#fdca26"
             ],
             [
              1,
              "#f0f921"
             ]
            ],
            "type": "histogram2dcontour"
           }
          ],
          "mesh3d": [
           {
            "colorbar": {
             "outlinewidth": 0,
             "ticks": ""
            },
            "type": "mesh3d"
           }
          ],
          "parcoords": [
           {
            "line": {
             "colorbar": {
              "outlinewidth": 0,
              "ticks": ""
             }
            },
            "type": "parcoords"
           }
          ],
          "pie": [
           {
            "automargin": true,
            "type": "pie"
           }
          ],
          "scatter": [
           {
            "marker": {
             "colorbar": {
              "outlinewidth": 0,
              "ticks": ""
             }
            },
            "type": "scatter"
           }
          ],
          "scatter3d": [
           {
            "line": {
             "colorbar": {
              "outlinewidth": 0,
              "ticks": ""
             }
            },
            "marker": {
             "colorbar": {
              "outlinewidth": 0,
              "ticks": ""
             }
            },
            "type": "scatter3d"
           }
          ],
          "scattercarpet": [
           {
            "marker": {
             "colorbar": {
              "outlinewidth": 0,
              "ticks": ""
             }
            },
            "type": "scattercarpet"
           }
          ],
          "scattergeo": [
           {
            "marker": {
             "colorbar": {
              "outlinewidth": 0,
              "ticks": ""
             }
            },
            "type": "scattergeo"
           }
          ],
          "scattergl": [
           {
            "marker": {
             "colorbar": {
              "outlinewidth": 0,
              "ticks": ""
             }
            },
            "type": "scattergl"
           }
          ],
          "scattermapbox": [
           {
            "marker": {
             "colorbar": {
              "outlinewidth": 0,
              "ticks": ""
             }
            },
            "type": "scattermapbox"
           }
          ],
          "scatterpolar": [
           {
            "marker": {
             "colorbar": {
              "outlinewidth": 0,
              "ticks": ""
             }
            },
            "type": "scatterpolar"
           }
          ],
          "scatterpolargl": [
           {
            "marker": {
             "colorbar": {
              "outlinewidth": 0,
              "ticks": ""
             }
            },
            "type": "scatterpolargl"
           }
          ],
          "scatterternary": [
           {
            "marker": {
             "colorbar": {
              "outlinewidth": 0,
              "ticks": ""
             }
            },
            "type": "scatterternary"
           }
          ],
          "surface": [
           {
            "colorbar": {
             "outlinewidth": 0,
             "ticks": ""
            },
            "colorscale": [
             [
              0,
              "#0d0887"
             ],
             [
              0.1111111111111111,
              "#46039f"
             ],
             [
              0.2222222222222222,
              "#7201a8"
             ],
             [
              0.3333333333333333,
              "#9c179e"
             ],
             [
              0.4444444444444444,
              "#bd3786"
             ],
             [
              0.5555555555555556,
              "#d8576b"
             ],
             [
              0.6666666666666666,
              "#ed7953"
             ],
             [
              0.7777777777777778,
              "#fb9f3a"
             ],
             [
              0.8888888888888888,
              "#fdca26"
             ],
             [
              1,
              "#f0f921"
             ]
            ],
            "type": "surface"
           }
          ],
          "table": [
           {
            "cells": {
             "fill": {
              "color": "#EBF0F8"
             },
             "line": {
              "color": "white"
             }
            },
            "header": {
             "fill": {
              "color": "#C8D4E3"
             },
             "line": {
              "color": "white"
             }
            },
            "type": "table"
           }
          ]
         },
         "layout": {
          "annotationdefaults": {
           "arrowcolor": "#2a3f5f",
           "arrowhead": 0,
           "arrowwidth": 1
          },
          "coloraxis": {
           "colorbar": {
            "outlinewidth": 0,
            "ticks": ""
           }
          },
          "colorscale": {
           "diverging": [
            [
             0,
             "#8e0152"
            ],
            [
             0.1,
             "#c51b7d"
            ],
            [
             0.2,
             "#de77ae"
            ],
            [
             0.3,
             "#f1b6da"
            ],
            [
             0.4,
             "#fde0ef"
            ],
            [
             0.5,
             "#f7f7f7"
            ],
            [
             0.6,
             "#e6f5d0"
            ],
            [
             0.7,
             "#b8e186"
            ],
            [
             0.8,
             "#7fbc41"
            ],
            [
             0.9,
             "#4d9221"
            ],
            [
             1,
             "#276419"
            ]
           ],
           "sequential": [
            [
             0,
             "#0d0887"
            ],
            [
             0.1111111111111111,
             "#46039f"
            ],
            [
             0.2222222222222222,
             "#7201a8"
            ],
            [
             0.3333333333333333,
             "#9c179e"
            ],
            [
             0.4444444444444444,
             "#bd3786"
            ],
            [
             0.5555555555555556,
             "#d8576b"
            ],
            [
             0.6666666666666666,
             "#ed7953"
            ],
            [
             0.7777777777777778,
             "#fb9f3a"
            ],
            [
             0.8888888888888888,
             "#fdca26"
            ],
            [
             1,
             "#f0f921"
            ]
           ],
           "sequentialminus": [
            [
             0,
             "#0d0887"
            ],
            [
             0.1111111111111111,
             "#46039f"
            ],
            [
             0.2222222222222222,
             "#7201a8"
            ],
            [
             0.3333333333333333,
             "#9c179e"
            ],
            [
             0.4444444444444444,
             "#bd3786"
            ],
            [
             0.5555555555555556,
             "#d8576b"
            ],
            [
             0.6666666666666666,
             "#ed7953"
            ],
            [
             0.7777777777777778,
             "#fb9f3a"
            ],
            [
             0.8888888888888888,
             "#fdca26"
            ],
            [
             1,
             "#f0f921"
            ]
           ]
          },
          "colorway": [
           "#636efa",
           "#EF553B",
           "#00cc96",
           "#ab63fa",
           "#FFA15A",
           "#19d3f3",
           "#FF6692",
           "#B6E880",
           "#FF97FF",
           "#FECB52"
          ],
          "font": {
           "color": "#2a3f5f"
          },
          "geo": {
           "bgcolor": "white",
           "lakecolor": "white",
           "landcolor": "#E5ECF6",
           "showlakes": true,
           "showland": true,
           "subunitcolor": "white"
          },
          "hoverlabel": {
           "align": "left"
          },
          "hovermode": "closest",
          "mapbox": {
           "style": "light"
          },
          "paper_bgcolor": "white",
          "plot_bgcolor": "#E5ECF6",
          "polar": {
           "angularaxis": {
            "gridcolor": "white",
            "linecolor": "white",
            "ticks": ""
           },
           "bgcolor": "#E5ECF6",
           "radialaxis": {
            "gridcolor": "white",
            "linecolor": "white",
            "ticks": ""
           }
          },
          "scene": {
           "xaxis": {
            "backgroundcolor": "#E5ECF6",
            "gridcolor": "white",
            "gridwidth": 2,
            "linecolor": "white",
            "showbackground": true,
            "ticks": "",
            "zerolinecolor": "white"
           },
           "yaxis": {
            "backgroundcolor": "#E5ECF6",
            "gridcolor": "white",
            "gridwidth": 2,
            "linecolor": "white",
            "showbackground": true,
            "ticks": "",
            "zerolinecolor": "white"
           },
           "zaxis": {
            "backgroundcolor": "#E5ECF6",
            "gridcolor": "white",
            "gridwidth": 2,
            "linecolor": "white",
            "showbackground": true,
            "ticks": "",
            "zerolinecolor": "white"
           }
          },
          "shapedefaults": {
           "line": {
            "color": "#2a3f5f"
           }
          },
          "ternary": {
           "aaxis": {
            "gridcolor": "white",
            "linecolor": "white",
            "ticks": ""
           },
           "baxis": {
            "gridcolor": "white",
            "linecolor": "white",
            "ticks": ""
           },
           "bgcolor": "#E5ECF6",
           "caxis": {
            "gridcolor": "white",
            "linecolor": "white",
            "ticks": ""
           }
          },
          "title": {
           "x": 0.05
          },
          "xaxis": {
           "automargin": true,
           "gridcolor": "white",
           "linecolor": "white",
           "ticks": "",
           "title": {
            "standoff": 15
           },
           "zerolinecolor": "white",
           "zerolinewidth": 2
          },
          "yaxis": {
           "automargin": true,
           "gridcolor": "white",
           "linecolor": "white",
           "ticks": "",
           "title": {
            "standoff": 15
           },
           "zerolinecolor": "white",
           "zerolinewidth": 2
          }
         }
        },
        "title": {
         "text": "Indústrias no Espaços Metropolitanos Segundo Nível Tecnológico entre 2007 e 2017"
        },
        "updatemenus": [
         {
          "buttons": [
           {
            "args": [
             null,
             {
              "frame": {
               "duration": 2000,
               "redraw": true
              },
              "fromcurrent": true,
              "mode": "immediate",
              "transition": {
               "duration": 500,
               "easing": "linear"
              }
             }
            ],
            "label": "&#9654;",
            "method": "animate"
           },
           {
            "args": [
             [
              null
             ],
             {
              "frame": {
               "duration": 0,
               "redraw": true
              },
              "fromcurrent": true,
              "mode": "immediate",
              "transition": {
               "duration": 0,
               "easing": "linear"
              }
             }
            ],
            "label": "&#9724;",
            "method": "animate"
           }
          ],
          "direction": "left",
          "pad": {
           "r": 10,
           "t": 70
          },
          "showactive": false,
          "type": "buttons",
          "x": 0.1,
          "xanchor": "right",
          "y": 0,
          "yanchor": "top"
         }
        ],
        "xaxis": {
         "anchor": "y",
         "domain": [
          0,
          1
         ],
         "range": [
          0,
          100
         ],
         "title": {
          "text": "Pessoal %"
         },
         "type": "linear"
        },
        "yaxis": {
         "anchor": "x",
         "autorange": true,
         "categoryarray": [
          "Total",
          "Belém",
          "Vitória",
          "Salvador",
          "Recife",
          "Fortaleza",
          "Goiânia",
          "Curitiba",
          "Porto Alegre",
          "Belo Horizonte",
          "Brasília",
          "Rio de Janeiro",
          "São Paulo",
          "Florianópolis",
          "Campinas",
          "Manaus"
         ],
         "categoryorder": "array",
         "domain": [
          0,
          1
         ],
         "range": [
          -0.5,
          15.5
         ],
         "title": {
          "text": "Espaço Metropolitano"
         },
         "type": "category"
        }
       }
      },
      "image/png": "[encoded data removed]",
      "text/html": [
       "<div>                            <div id=\"3c6df18b-d397-42ac-990b-987694a2f5b8\" class=\"plotly-graph-div\" style=\"height:700px; width:100%;\"></div>            <script type=\"text/javascript\">                require([\"plotly\"], function(Plotly) {                    window.PLOTLYENV=window.PLOTLYENV || {};                                    if (document.getElementById(\"3c6df18b-d397-42ac-990b-987694a2f5b8\")) {                    Plotly.newPlot(                        \"3c6df18b-d397-42ac-990b-987694a2f5b8\",                        [{\"alignmentgroup\": \"True\", \"hovertemplate\": \"N\\u00edvel Tecnol\\u00f3gico=Alto<br>Ano=2007<br>Pessoal %=%{x}<br>Espa\\u00e7o Metropolitano=%{y}<extra></extra>\", \"legendgroup\": \"Alto\", \"marker\": {\"color\": \"rgb(103,0,31)\"}, \"name\": \"Alto\", \"offsetgroup\": \"Alto\", \"orientation\": \"h\", \"showlegend\": true, \"textposition\": \"auto\", \"type\": \"bar\", \"x\": [3.831514443198509, 0.5693040548390845, 10.667345630778145, 4.859488840060137, 11.203361514706627, 2.151541117681494, 4.989190341341616, 36.77025560346115, 4.285125115432547, 1.3024228117770027, 5.046397227346414, 2.224195526237896, 6.372705658582976, 0.5570316505849998, 3.948227522372009, 6.517748574262336], \"xaxis\": \"x\", \"y\": [\"Belo Horizonte\", \"Bel\\u00e9m\", \"Campinas\", \"Curitiba\", \"Florian\\u00f3polis\", \"Fortaleza\", \"Goi\\u00e2nia\", \"Manaus\", \"Porto Alegre\", \"Recife\", \"Rio de Janeiro\", \"Salvador\", \"S\\u00e3o Paulo\", \"Vit\\u00f3ria\", \"Bras\\u00edlia\", \"Total\"], \"yaxis\": \"y\"}, {\"alignmentgroup\": \"True\", \"hovertemplate\": \"N\\u00edvel Tecnol\\u00f3gico=M\\u00e9dio-Alto<br>Ano=2007<br>Pessoal %=%{x}<br>Espa\\u00e7o Metropolitano=%{y}<extra></extra>\", \"legendgroup\": \"M\\u00e9dio-Alto\", \"marker\": {\"color\": \"rgb(178,24,43)\"}, \"name\": \"M\\u00e9dio-Alto\", \"offsetgroup\": \"M\\u00e9dio-Alto\", \"orientation\": \"h\", \"showlegend\": true, \"textposition\": \"auto\", \"type\": \"bar\", \"x\": [30.60578780843481, 5.139227760350103, 45.10223970359705, 37.00300682317567, 11.314737001974384, 7.2427864832992555, 10.005785451112938, 28.82932220772884, 20.442992011619463, 14.949089243561286, 18.74336184247303, 29.99704004397649, 32.62948169281978, 8.008203980795226, 11.303145523677843, 27.392095214480534], \"xaxis\": \"x\", \"y\": [\"Belo Horizonte\", \"Bel\\u00e9m\", \"Campinas\", \"Curitiba\", \"Florian\\u00f3polis\", \"Fortaleza\", \"Goi\\u00e2nia\", \"Manaus\", \"Porto Alegre\", \"Recife\", \"Rio de Janeiro\", \"Salvador\", \"S\\u00e3o Paulo\", \"Vit\\u00f3ria\", \"Bras\\u00edlia\", \"Total\"], \"yaxis\": \"y\"}, {\"alignmentgroup\": \"True\", \"hovertemplate\": \"N\\u00edvel Tecnol\\u00f3gico=M\\u00e9dio-Baixo<br>Ano=2007<br>Pessoal %=%{x}<br>Espa\\u00e7o Metropolitano=%{y}<extra></extra>\", \"legendgroup\": \"M\\u00e9dio-Baixo\", \"marker\": {\"color\": \"rgb(214,96,77)\"}, \"name\": \"M\\u00e9dio-Baixo\", \"offsetgroup\": \"M\\u00e9dio-Baixo\", \"orientation\": \"h\", \"showlegend\": true, \"textposition\": \"auto\", \"type\": \"bar\", \"x\": [34.997973161499544, 16.056698036481933, 20.878146427975665, 26.394703365329015, 32.92664405406774, 14.87668513349566, 16.709296306446213, 22.225651953121112, 24.55732178559581, 25.241635251147986, 32.184116868839325, 35.61249947143643, 29.353875416072277, 50.598983825106046, 20.563044897645657, 27.919107364244976], \"xaxis\": \"x\", \"y\": [\"Belo Horizonte\", \"Bel\\u00e9m\", \"Campinas\", \"Curitiba\", \"Florian\\u00f3polis\", \"Fortaleza\", \"Goi\\u00e2nia\", \"Manaus\", \"Porto Alegre\", \"Recife\", \"Rio de Janeiro\", \"Salvador\", \"S\\u00e3o Paulo\", \"Vit\\u00f3ria\", \"Bras\\u00edlia\", \"Total\"], \"yaxis\": \"y\"}, {\"alignmentgroup\": \"True\", \"hovertemplate\": \"N\\u00edvel Tecnol\\u00f3gico=Baixo<br>Ano=2007<br>Pessoal %=%{x}<br>Espa\\u00e7o Metropolitano=%{y}<extra></extra>\", \"legendgroup\": \"Baixo\", \"marker\": {\"color\": \"rgb(244,165,130)\"}, \"name\": \"Baixo\", \"offsetgroup\": \"Baixo\", \"orientation\": \"h\", \"showlegend\": true, \"textposition\": \"auto\", \"type\": \"bar\", \"x\": [30.564724586867136, 78.23477014832888, 23.352268237649145, 31.74280097143518, 44.555257429251256, 75.7289872655236, 68.29572790109924, 12.174770235688895, 50.71456108735218, 58.50685269351372, 44.026124061341235, 32.16626495834919, 31.643937232524966, 40.83578054351373, 64.1855820563045, 38.17104884701215], \"xaxis\": \"x\", \"y\": [\"Belo Horizonte\", \"Bel\\u00e9m\", \"Campinas\", \"Curitiba\", \"Florian\\u00f3polis\", \"Fortaleza\", \"Goi\\u00e2nia\", \"Manaus\", \"Porto Alegre\", \"Recife\", \"Rio de Janeiro\", \"Salvador\", \"S\\u00e3o Paulo\", \"Vit\\u00f3ria\", \"Bras\\u00edlia\", \"Total\"], \"yaxis\": \"y\"}],                        {\"barmode\": \"relative\", \"height\": 700, \"legend\": {\"title\": {\"text\": \"N\\u00edvel Tecnol\\u00f3gico\"}, \"tracegroupgap\": 0}, \"sliders\": [{\"active\": 0, \"currentvalue\": {\"prefix\": \"Ano=\"}, \"len\": 0.9, \"pad\": {\"b\": 10, \"t\": 60}, \"steps\": [{\"args\": [[\"2007\"], {\"frame\": {\"duration\": 0, \"redraw\": true}, \"fromcurrent\": true, \"mode\": \"immediate\", \"transition\": {\"duration\": 0, \"easing\": \"linear\"}}], \"label\": \"2007\", \"method\": \"animate\"}, {\"args\": [[\"2008\"], {\"frame\": {\"duration\": 0, \"redraw\": true}, \"fromcurrent\": true, \"mode\": \"immediate\", \"transition\": {\"duration\": 0, \"easing\": \"linear\"}}], \"label\": \"2008\", \"method\": \"animate\"}, {\"args\": [[\"2009\"], {\"frame\": {\"duration\": 0, \"redraw\": true}, \"fromcurrent\": true, \"mode\": \"immediate\", \"transition\": {\"duration\": 0, \"easing\": \"linear\"}}], \"label\": \"2009\", \"method\": \"animate\"}, {\"args\": [[\"2010\"], {\"frame\": {\"duration\": 0, \"redraw\": true}, \"fromcurrent\": true, \"mode\": \"immediate\", \"transition\": {\"duration\": 0, \"easing\": \"linear\"}}], \"label\": \"2010\", \"method\": \"animate\"}, {\"args\": [[\"2011\"], {\"frame\": {\"duration\": 0, \"redraw\": true}, \"fromcurrent\": true, \"mode\": \"immediate\", \"transition\": {\"duration\": 0, \"easing\": \"linear\"}}], \"label\": \"2011\", \"method\": \"animate\"}, {\"args\": [[\"2012\"], {\"frame\": {\"duration\": 0, \"redraw\": true}, \"fromcurrent\": true, \"mode\": \"immediate\", \"transition\": {\"duration\": 0, \"easing\": \"linear\"}}], \"label\": \"2012\", \"method\": \"animate\"}, {\"args\": [[\"2013\"], {\"frame\": {\"duration\": 0, \"redraw\": true}, \"fromcurrent\": true, \"mode\": \"immediate\", \"transition\": {\"duration\": 0, \"easing\": \"linear\"}}], \"label\": \"2013\", \"method\": \"animate\"}, {\"args\": [[\"2014\"], {\"frame\": {\"duration\": 0, \"redraw\": true}, \"fromcurrent\": true, \"mode\": \"immediate\", \"transition\": {\"duration\": 0, \"easing\": \"linear\"}}], \"label\": \"2014\", \"method\": \"animate\"}, {\"args\": [[\"2015\"], {\"frame\": {\"duration\": 0, \"redraw\": true}, \"fromcurrent\": true, \"mode\": \"immediate\", \"transition\": {\"duration\": 0, \"easing\": \"linear\"}}], \"label\": \"2015\", \"method\": \"animate\"}, {\"args\": [[\"2016\"], {\"frame\": {\"duration\": 0, \"redraw\": true}, \"fromcurrent\": true, \"mode\": \"immediate\", \"transition\": {\"duration\": 0, \"easing\": \"linear\"}}], \"label\": \"2016\", \"method\": \"animate\"}, {\"args\": [[\"2017\"], {\"frame\": {\"duration\": 0, \"redraw\": true}, \"fromcurrent\": true, \"mode\": \"immediate\", \"transition\": {\"duration\": 0, \"easing\": \"linear\"}}], \"label\": \"2017\", \"method\": \"animate\"}], \"x\": 0.1, \"xanchor\": \"left\", \"y\": 0, \"yanchor\": \"top\"}], \"template\": {\"data\": {\"bar\": [{\"error_x\": {\"color\": \"#2a3f5f\"}, \"error_y\": {\"color\": \"#2a3f5f\"}, \"marker\": {\"line\": {\"color\": \"#E5ECF6\", \"width\": 0.5}}, \"type\": \"bar\"}], \"barpolar\": [{\"marker\": {\"line\": {\"color\": \"#E5ECF6\", \"width\": 0.5}}, \"type\": \"barpolar\"}], \"carpet\": [{\"aaxis\": {\"endlinecolor\": \"#2a3f5f\", \"gridcolor\": \"white\", \"linecolor\": \"white\", \"minorgridcolor\": \"white\", \"startlinecolor\": \"#2a3f5f\"}, \"baxis\": {\"endlinecolor\": \"#2a3f5f\", \"gridcolor\": \"white\", \"linecolor\": \"white\", \"minorgridcolor\": \"white\", \"startlinecolor\": \"#2a3f5f\"}, \"type\": \"carpet\"}], \"choropleth\": [{\"colorbar\": {\"outlinewidth\": 0, \"ticks\": \"\"}, \"type\": \"choropleth\"}], \"contour\": [{\"colorbar\": {\"outlinewidth\": 0, \"ticks\": \"\"}, \"colorscale\": [[0.0, \"#0d0887\"], [0.1111111111111111, \"#46039f\"], [0.2222222222222222, \"#7201a8\"], [0.3333333333333333, \"#9c179e\"], [0.4444444444444444, \"#bd3786\"], [0.5555555555555556, \"#d8576b\"], [0.6666666666666666, \"#ed7953\"], [0.7777777777777778, \"#fb9f3a\"], [0.8888888888888888, \"#fdca26\"], [1.0, \"#f0f921\"]], \"type\": \"contour\"}], \"contourcarpet\": [{\"colorbar\": {\"outlinewidth\": 0, \"ticks\": \"\"}, \"type\": \"contourcarpet\"}], \"heatmap\": [{\"colorbar\": {\"outlinewidth\": 0, \"ticks\": \"\"}, \"colorscale\": [[0.0, \"#0d0887\"], [0.1111111111111111, \"#46039f\"], [0.2222222222222222, \"#7201a8\"], [0.3333333333333333, \"#9c179e\"], [0.4444444444444444, \"#bd3786\"], [0.5555555555555556, \"#d8576b\"], [0.6666666666666666, \"#ed7953\"], [0.7777777777777778, \"#fb9f3a\"], [0.8888888888888888, \"#fdca26\"], [1.0, \"#f0f921\"]], \"type\": \"heatmap\"}], \"heatmapgl\": [{\"colorbar\": {\"outlinewidth\": 0, \"ticks\": \"\"}, \"colorscale\": [[0.0, \"#0d0887\"], [0.1111111111111111, \"#46039f\"], [0.2222222222222222, \"#7201a8\"], [0.3333333333333333, \"#9c179e\"], [0.4444444444444444, \"#bd3786\"], [0.5555555555555556, \"#d8576b\"], [0.6666666666666666, \"#ed7953\"], [0.7777777777777778, \"#fb9f3a\"], [0.8888888888888888, \"#fdca26\"], [1.0, \"#f0f921\"]], \"type\": \"heatmapgl\"}], \"histogram\": [{\"marker\": {\"colorbar\": {\"outlinewidth\": 0, \"ticks\": \"\"}}, \"type\": \"histogram\"}], \"histogram2d\": [{\"colorbar\": {\"outlinewidth\": 0, \"ticks\": \"\"}, \"colorscale\": [[0.0, \"#0d0887\"], [0.1111111111111111, \"#46039f\"], [0.2222222222222222, \"#7201a8\"], [0.3333333333333333, \"#9c179e\"], [0.4444444444444444, \"#bd3786\"], [0.5555555555555556, \"#d8576b\"], [0.6666666666666666, \"#ed7953\"], [0.7777777777777778, \"#fb9f3a\"], [0.8888888888888888, \"#fdca26\"], [1.0, \"#f0f921\"]], \"type\": \"histogram2d\"}], \"histogram2dcontour\": [{\"colorbar\": {\"outlinewidth\": 0, \"ticks\": \"\"}, \"colorscale\": [[0.0, \"#0d0887\"], [0.1111111111111111, \"#46039f\"], [0.2222222222222222, \"#7201a8\"], [0.3333333333333333, \"#9c179e\"], [0.4444444444444444, \"#bd3786\"], [0.5555555555555556, \"#d8576b\"], [0.6666666666666666, \"#ed7953\"], [0.7777777777777778, \"#fb9f3a\"], [0.8888888888888888, \"#fdca26\"], [1.0, \"#f0f921\"]], \"type\": \"histogram2dcontour\"}], \"mesh3d\": [{\"colorbar\": {\"outlinewidth\": 0, \"ticks\": \"\"}, \"type\": \"mesh3d\"}], \"parcoords\": [{\"line\": {\"colorbar\": {\"outlinewidth\": 0, \"ticks\": \"\"}}, \"type\": \"parcoords\"}], \"pie\": [{\"automargin\": true, \"type\": \"pie\"}], \"scatter\": [{\"marker\": {\"colorbar\": {\"outlinewidth\": 0, \"ticks\": \"\"}}, \"type\": \"scatter\"}], \"scatter3d\": [{\"line\": {\"colorbar\": {\"outlinewidth\": 0, \"ticks\": \"\"}}, \"marker\": {\"colorbar\": {\"outlinewidth\": 0, \"ticks\": \"\"}}, \"type\": \"scatter3d\"}], \"scattercarpet\": [{\"marker\": {\"colorbar\": {\"outlinewidth\": 0, \"ticks\": \"\"}}, \"type\": \"scattercarpet\"}], \"scattergeo\": [{\"marker\": {\"colorbar\": {\"outlinewidth\": 0, \"ticks\": \"\"}}, \"type\": \"scattergeo\"}], \"scattergl\": [{\"marker\": {\"colorbar\": {\"outlinewidth\": 0, \"ticks\": \"\"}}, \"type\": \"scattergl\"}], \"scattermapbox\": [{\"marker\": {\"colorbar\": {\"outlinewidth\": 0, \"ticks\": \"\"}}, \"type\": \"scattermapbox\"}], \"scatterpolar\": [{\"marker\": {\"colorbar\": {\"outlinewidth\": 0, \"ticks\": \"\"}}, \"type\": \"scatterpolar\"}], \"scatterpolargl\": [{\"marker\": {\"colorbar\": {\"outlinewidth\": 0, \"ticks\": \"\"}}, \"type\": \"scatterpolargl\"}], \"scatterternary\": [{\"marker\": {\"colorbar\": {\"outlinewidth\": 0, \"ticks\": \"\"}}, \"type\": \"scatterternary\"}], \"surface\": [{\"colorbar\": {\"outlinewidth\": 0, \"ticks\": \"\"}, \"colorscale\": [[0.0, \"#0d0887\"], [0.1111111111111111, \"#46039f\"], [0.2222222222222222, \"#7201a8\"], [0.3333333333333333, \"#9c179e\"], [0.4444444444444444, \"#bd3786\"], [0.5555555555555556, \"#d8576b\"], [0.6666666666666666, \"#ed7953\"], [0.7777777777777778, \"#fb9f3a\"], [0.8888888888888888, \"#fdca26\"], [1.0, \"#f0f921\"]], \"type\": \"surface\"}], \"table\": [{\"cells\": {\"fill\": {\"color\": \"#EBF0F8\"}, \"line\": {\"color\": \"white\"}}, \"header\": {\"fill\": {\"color\": \"#C8D4E3\"}, \"line\": {\"color\": \"white\"}}, \"type\": \"table\"}]}, \"layout\": {\"annotationdefaults\": {\"arrowcolor\": \"#2a3f5f\", \"arrowhead\": 0, \"arrowwidth\": 1}, \"coloraxis\": {\"colorbar\": {\"outlinewidth\": 0, \"ticks\": \"\"}}, \"colorscale\": {\"diverging\": [[0, \"#8e0152\"], [0.1, \"#c51b7d\"], [0.2, \"#de77ae\"], [0.3, \"#f1b6da\"], [0.4, \"#fde0ef\"], [0.5, \"#f7f7f7\"], [0.6, \"#e6f5d0\"], [0.7, \"#b8e186\"], [0.8, \"#7fbc41\"], [0.9, \"#4d9221\"], [1, \"#276419\"]], \"sequential\": [[0.0, \"#0d0887\"], [0.1111111111111111, \"#46039f\"], [0.2222222222222222, \"#7201a8\"], [0.3333333333333333, \"#9c179e\"], [0.4444444444444444, \"#bd3786\"], [0.5555555555555556, \"#d8576b\"], [0.6666666666666666, \"#ed7953\"], [0.7777777777777778, \"#fb9f3a\"], [0.8888888888888888, \"#fdca26\"], [1.0, \"#f0f921\"]], \"sequentialminus\": [[0.0, \"#0d0887\"], [0.1111111111111111, \"#46039f\"], [0.2222222222222222, \"#7201a8\"], [0.3333333333333333, \"#9c179e\"], [0.4444444444444444, \"#bd3786\"], [0.5555555555555556, \"#d8576b\"], [0.6666666666666666, \"#ed7953\"], [0.7777777777777778, \"#fb9f3a\"], [0.8888888888888888, \"#fdca26\"], [1.0, \"#f0f921\"]]}, \"colorway\": [\"#636efa\", \"#EF553B\", \"#00cc96\", \"#ab63fa\", \"#FFA15A\", \"#19d3f3\", \"#FF6692\", \"#B6E880\", \"#FF97FF\", \"#FECB52\"], \"font\": {\"color\": \"#2a3f5f\"}, \"geo\": {\"bgcolor\": \"white\", \"lakecolor\": \"white\", \"landcolor\": \"#E5ECF6\", \"showlakes\": true, \"showland\": true, \"subunitcolor\": \"white\"}, \"hoverlabel\": {\"align\": \"left\"}, \"hovermode\": \"closest\", \"mapbox\": {\"style\": \"light\"}, \"paper_bgcolor\": \"white\", \"plot_bgcolor\": \"#E5ECF6\", \"polar\": {\"angularaxis\": {\"gridcolor\": \"white\", \"linecolor\": \"white\", \"ticks\": \"\"}, \"bgcolor\": \"#E5ECF6\", \"radialaxis\": {\"gridcolor\": \"white\", \"linecolor\": \"white\", \"ticks\": \"\"}}, \"scene\": {\"xaxis\": {\"backgroundcolor\": \"#E5ECF6\", \"gridcolor\": \"white\", \"gridwidth\": 2, \"linecolor\": \"white\", \"showbackground\": true, \"ticks\": \"\", \"zerolinecolor\": \"white\"}, \"yaxis\": {\"backgroundcolor\": \"#E5ECF6\", \"gridcolor\": \"white\", \"gridwidth\": 2, \"linecolor\": \"white\", \"showbackground\": true, \"ticks\": \"\", \"zerolinecolor\": \"white\"}, \"zaxis\": {\"backgroundcolor\": \"#E5ECF6\", \"gridcolor\": \"white\", \"gridwidth\": 2, \"linecolor\": \"white\", \"showbackground\": true, \"ticks\": \"\", \"zerolinecolor\": \"white\"}}, \"shapedefaults\": {\"line\": {\"color\": \"#2a3f5f\"}}, \"ternary\": {\"aaxis\": {\"gridcolor\": \"white\", \"linecolor\": \"white\", \"ticks\": \"\"}, \"baxis\": {\"gridcolor\": \"white\", \"linecolor\": \"white\", \"ticks\": \"\"}, \"bgcolor\": \"#E5ECF6\", \"caxis\": {\"gridcolor\": \"white\", \"linecolor\": \"white\", \"ticks\": \"\"}}, \"title\": {\"x\": 0.05}, \"xaxis\": {\"automargin\": true, \"gridcolor\": \"white\", \"linecolor\": \"white\", \"ticks\": \"\", \"title\": {\"standoff\": 15}, \"zerolinecolor\": \"white\", \"zerolinewidth\": 2}, \"yaxis\": {\"automargin\": true, \"gridcolor\": \"white\", \"linecolor\": \"white\", \"ticks\": \"\", \"title\": {\"standoff\": 15}, \"zerolinecolor\": \"white\", \"zerolinewidth\": 2}}}, \"title\": {\"text\": \"Ind\\u00fastrias no Espa\\u00e7os Metropolitanos Segundo N\\u00edvel Tecnol\\u00f3gico entre 2007 e 2017\"}, \"updatemenus\": [{\"buttons\": [{\"args\": [null, {\"frame\": {\"duration\": 2000, \"redraw\": true}, \"fromcurrent\": true, \"mode\": \"immediate\", \"transition\": {\"duration\": 500, \"easing\": \"linear\"}}], \"label\": \"&#9654;\", \"method\": \"animate\"}, {\"args\": [[null], {\"frame\": {\"duration\": 0, \"redraw\": true}, \"fromcurrent\": true, \"mode\": \"immediate\", \"transition\": {\"duration\": 0, \"easing\": \"linear\"}}], \"label\": \"&#9724;\", \"method\": \"animate\"}], \"direction\": \"left\", \"pad\": {\"r\": 10, \"t\": 70}, \"showactive\": false, \"type\": \"buttons\", \"x\": 0.1, \"xanchor\": \"right\", \"y\": 0, \"yanchor\": \"top\"}], \"xaxis\": {\"anchor\": \"y\", \"domain\": [0.0, 1.0], \"range\": [0, 100], \"title\": {\"text\": \"Pessoal %\"}}, \"yaxis\": {\"anchor\": \"x\", \"categoryarray\": [\"Total\", \"Bel\\u00e9m\", \"Vit\\u00f3ria\", \"Salvador\", \"Recife\", \"Fortaleza\", \"Goi\\u00e2nia\", \"Curitiba\", \"Porto Alegre\", \"Belo Horizonte\", \"Bras\\u00edlia\", \"Rio de Janeiro\", \"S\\u00e3o Paulo\", \"Florian\\u00f3polis\", \"Campinas\", \"Manaus\"], \"categoryorder\": \"array\", \"domain\": [0.0, 1.0], \"title\": {\"text\": \"Espa\\u00e7o Metropolitano\"}}},                        {\"responsive\": true}                    ).then(function(){\n",
       "                            Plotly.addFrames('3c6df18b-d397-42ac-990b-987694a2f5b8', [{\"data\": [{\"alignmentgroup\": \"True\", \"hovertemplate\": \"N\\u00edvel Tecnol\\u00f3gico=Alto<br>Ano=2007<br>Pessoal %=%{x}<br>Espa\\u00e7o Metropolitano=%{y}<extra></extra>\", \"legendgroup\": \"Alto\", \"marker\": {\"color\": \"rgb(103,0,31)\"}, \"name\": \"Alto\", \"offsetgroup\": \"Alto\", \"orientation\": \"h\", \"showlegend\": true, \"textposition\": \"auto\", \"x\": [3.831514443198509, 0.5693040548390845, 10.667345630778145, 4.859488840060137, 11.203361514706627, 2.151541117681494, 4.989190341341616, 36.77025560346115, 4.285125115432547, 1.3024228117770027, 5.046397227346414, 2.224195526237896, 6.372705658582976, 0.5570316505849998, 3.948227522372009, 6.517748574262336], \"xaxis\": \"x\", \"y\": [\"Belo Horizonte\", \"Bel\\u00e9m\", \"Campinas\", \"Curitiba\", \"Florian\\u00f3polis\", \"Fortaleza\", \"Goi\\u00e2nia\", \"Manaus\", \"Porto Alegre\", \"Recife\", \"Rio de Janeiro\", \"Salvador\", \"S\\u00e3o Paulo\", \"Vit\\u00f3ria\", \"Bras\\u00edlia\", \"Total\"], \"yaxis\": \"y\", \"type\": \"bar\"}, {\"alignmentgroup\": \"True\", \"hovertemplate\": \"N\\u00edvel Tecnol\\u00f3gico=M\\u00e9dio-Alto<br>Ano=2007<br>Pessoal %=%{x}<br>Espa\\u00e7o Metropolitano=%{y}<extra></extra>\", \"legendgroup\": \"M\\u00e9dio-Alto\", \"marker\": {\"color\": \"rgb(178,24,43)\"}, \"name\": \"M\\u00e9dio-Alto\", \"offsetgroup\": \"M\\u00e9dio-Alto\", \"orientation\": \"h\", \"showlegend\": true, \"textposition\": \"auto\", \"x\": [30.60578780843481, 5.139227760350103, 45.10223970359705, 37.00300682317567, 11.314737001974384, 7.2427864832992555, 10.005785451112938, 28.82932220772884, 20.442992011619463, 14.949089243561286, 18.74336184247303, 29.99704004397649, 32.62948169281978, 8.008203980795226, 11.303145523677843, 27.392095214480534], \"xaxis\": \"x\", \"y\": [\"Belo Horizonte\", \"Bel\\u00e9m\", \"Campinas\", \"Curitiba\", \"Florian\\u00f3polis\", \"Fortaleza\", \"Goi\\u00e2nia\", \"Manaus\", \"Porto Alegre\", \"Recife\", \"Rio de Janeiro\", \"Salvador\", \"S\\u00e3o Paulo\", \"Vit\\u00f3ria\", \"Bras\\u00edlia\", \"Total\"], \"yaxis\": \"y\", \"type\": \"bar\"}, {\"alignmentgroup\": \"True\", \"hovertemplate\": \"N\\u00edvel Tecnol\\u00f3gico=M\\u00e9dio-Baixo<br>Ano=2007<br>Pessoal %=%{x}<br>Espa\\u00e7o Metropolitano=%{y}<extra></extra>\", \"legendgroup\": \"M\\u00e9dio-Baixo\", \"marker\": {\"color\": \"rgb(214,96,77)\"}, \"name\": \"M\\u00e9dio-Baixo\", \"offsetgroup\": \"M\\u00e9dio-Baixo\", \"orientation\": \"h\", \"showlegend\": true, \"textposition\": \"auto\", \"x\": [34.997973161499544, 16.056698036481933, 20.878146427975665, 26.394703365329015, 32.92664405406774, 14.87668513349566, 16.709296306446213, 22.225651953121112, 24.55732178559581, 25.241635251147986, 32.184116868839325, 35.61249947143643, 29.353875416072277, 50.598983825106046, 20.563044897645657, 27.919107364244976], \"xaxis\": \"x\", \"y\": [\"Belo Horizonte\", \"Bel\\u00e9m\", \"Campinas\", \"Curitiba\", \"Florian\\u00f3polis\", \"Fortaleza\", \"Goi\\u00e2nia\", \"Manaus\", \"Porto Alegre\", \"Recife\", \"Rio de Janeiro\", \"Salvador\", \"S\\u00e3o Paulo\", \"Vit\\u00f3ria\", \"Bras\\u00edlia\", \"Total\"], \"yaxis\": \"y\", \"type\": \"bar\"}, {\"alignmentgroup\": \"True\", \"hovertemplate\": \"N\\u00edvel Tecnol\\u00f3gico=Baixo<br>Ano=2007<br>Pessoal %=%{x}<br>Espa\\u00e7o Metropolitano=%{y}<extra></extra>\", \"legendgroup\": \"Baixo\", \"marker\": {\"color\": \"rgb(244,165,130)\"}, \"name\": \"Baixo\", \"offsetgroup\": \"Baixo\", \"orientation\": \"h\", \"showlegend\": true, \"textposition\": \"auto\", \"x\": [30.564724586867136, 78.23477014832888, 23.352268237649145, 31.74280097143518, 44.555257429251256, 75.7289872655236, 68.29572790109924, 12.174770235688895, 50.71456108735218, 58.50685269351372, 44.026124061341235, 32.16626495834919, 31.643937232524966, 40.83578054351373, 64.1855820563045, 38.17104884701215], \"xaxis\": \"x\", \"y\": [\"Belo Horizonte\", \"Bel\\u00e9m\", \"Campinas\", \"Curitiba\", \"Florian\\u00f3polis\", \"Fortaleza\", \"Goi\\u00e2nia\", \"Manaus\", \"Porto Alegre\", \"Recife\", \"Rio de Janeiro\", \"Salvador\", \"S\\u00e3o Paulo\", \"Vit\\u00f3ria\", \"Bras\\u00edlia\", \"Total\"], \"yaxis\": \"y\", \"type\": \"bar\"}], \"name\": \"2007\"}, {\"data\": [{\"alignmentgroup\": \"True\", \"hovertemplate\": \"N\\u00edvel Tecnol\\u00f3gico=Alto<br>Ano=2008<br>Pessoal %=%{x}<br>Espa\\u00e7o Metropolitano=%{y}<extra></extra>\", \"legendgroup\": \"Alto\", \"marker\": {\"color\": \"rgb(103,0,31)\"}, \"name\": \"Alto\", \"offsetgroup\": \"Alto\", \"orientation\": \"h\", \"showlegend\": true, \"textposition\": \"auto\", \"x\": [4.352938801465616, 0.3916608869487169, 10.704258111677825, 5.517191571157938, 11.583194873012106, 2.0837352884429867, 4.448697532397329, 29.81816018560749, 4.532107290703209, 0.8446095339170425, 5.455046211221629, 2.01255017242354, 6.616417343958214, 0.5049625631203204, 5.187360673719967, 6.437673995216682], \"xaxis\": \"x\", \"y\": [\"Belo Horizonte\", \"Bel\\u00e9m\", \"Campinas\", \"Curitiba\", \"Florian\\u00f3polis\", \"Fortaleza\", \"Goi\\u00e2nia\", \"Manaus\", \"Porto Alegre\", \"Recife\", \"Rio de Janeiro\", \"Salvador\", \"S\\u00e3o Paulo\", \"Vit\\u00f3ria\", \"Bras\\u00edlia\", \"Total\"], \"yaxis\": \"y\", \"type\": \"bar\"}, {\"alignmentgroup\": \"True\", \"hovertemplate\": \"N\\u00edvel Tecnol\\u00f3gico=M\\u00e9dio-Alto<br>Ano=2008<br>Pessoal %=%{x}<br>Espa\\u00e7o Metropolitano=%{y}<extra></extra>\", \"legendgroup\": \"M\\u00e9dio-Alto\", \"marker\": {\"color\": \"rgb(178,24,43)\"}, \"name\": \"M\\u00e9dio-Alto\", \"offsetgroup\": \"M\\u00e9dio-Alto\", \"orientation\": \"h\", \"showlegend\": true, \"textposition\": \"auto\", \"x\": [30.579584338504706, 6.972379747868304, 43.83296506122178, 36.87257293015039, 11.250890102065036, 7.54550131841276, 10.89602173944804, 34.48511769021793, 21.58251093291188, 16.19903599540108, 19.11252782380589, 29.84623212165753, 33.42174062003921, 7.887863485982936, 11.577792717879763, 28.089707020801935], \"xaxis\": \"x\", \"y\": [\"Belo Horizonte\", \"Bel\\u00e9m\", \"Campinas\", \"Curitiba\", \"Florian\\u00f3polis\", \"Fortaleza\", \"Goi\\u00e2nia\", \"Manaus\", \"Porto Alegre\", \"Recife\", \"Rio de Janeiro\", \"Salvador\", \"S\\u00e3o Paulo\", \"Vit\\u00f3ria\", \"Bras\\u00edlia\", \"Total\"], \"yaxis\": \"y\", \"type\": \"bar\"}, {\"alignmentgroup\": \"True\", \"hovertemplate\": \"N\\u00edvel Tecnol\\u00f3gico=M\\u00e9dio-Baixo<br>Ano=2008<br>Pessoal %=%{x}<br>Espa\\u00e7o Metropolitano=%{y}<extra></extra>\", \"legendgroup\": \"M\\u00e9dio-Baixo\", \"marker\": {\"color\": \"rgb(214,96,77)\"}, \"name\": \"M\\u00e9dio-Baixo\", \"offsetgroup\": \"M\\u00e9dio-Baixo\", \"orientation\": \"h\", \"showlegend\": true, \"textposition\": \"auto\", \"x\": [35.30851611470561, 20.554036962996207, 23.03251316642023, 26.79485113971589, 33.45834322335628, 15.427037108495723, 17.46314666822505, 23.128556981102143, 25.20631100654628, 25.926417263641994, 34.72185224148129, 35.30583978743852, 29.033020675669313, 53.73715827964478, 21.336824599271083, 28.422208779261677], \"xaxis\": \"x\", \"y\": [\"Belo Horizonte\", \"Bel\\u00e9m\", \"Campinas\", \"Curitiba\", \"Florian\\u00f3polis\", \"Fortaleza\", \"Goi\\u00e2nia\", \"Manaus\", \"Porto Alegre\", \"Recife\", \"Rio de Janeiro\", \"Salvador\", \"S\\u00e3o Paulo\", \"Vit\\u00f3ria\", \"Bras\\u00edlia\", \"Total\"], \"yaxis\": \"y\", \"type\": \"bar\"}, {\"alignmentgroup\": \"True\", \"hovertemplate\": \"N\\u00edvel Tecnol\\u00f3gico=Baixo<br>Ano=2008<br>Pessoal %=%{x}<br>Espa\\u00e7o Metropolitano=%{y}<extra></extra>\", \"legendgroup\": \"Baixo\", \"marker\": {\"color\": \"rgb(244,165,130)\"}, \"name\": \"Baixo\", \"offsetgroup\": \"Baixo\", \"orientation\": \"h\", \"showlegend\": true, \"textposition\": \"auto\", \"x\": [29.75896074532406, 72.08192240218678, 22.43026366068017, 30.815384358975784, 43.70757180156658, 74.94372628464852, 67.19213405992957, 12.568165143072438, 48.67907076983863, 57.02993720703988, 40.710573723491194, 32.83537791848041, 30.928821360333263, 37.87001567125196, 61.898022009129186, 37.05041020471971], \"xaxis\": \"x\", \"y\": [\"Belo Horizonte\", \"Bel\\u00e9m\", \"Campinas\", \"Curitiba\", \"Florian\\u00f3polis\", \"Fortaleza\", \"Goi\\u00e2nia\", \"Manaus\", \"Porto Alegre\", \"Recife\", \"Rio de Janeiro\", \"Salvador\", \"S\\u00e3o Paulo\", \"Vit\\u00f3ria\", \"Bras\\u00edlia\", \"Total\"], \"yaxis\": \"y\", \"type\": \"bar\"}], \"name\": \"2008\"}, {\"data\": [{\"alignmentgroup\": \"True\", \"hovertemplate\": \"N\\u00edvel Tecnol\\u00f3gico=Alto<br>Ano=2009<br>Pessoal %=%{x}<br>Espa\\u00e7o Metropolitano=%{y}<extra></extra>\", \"legendgroup\": \"Alto\", \"marker\": {\"color\": \"rgb(103,0,31)\"}, \"name\": \"Alto\", \"offsetgroup\": \"Alto\", \"orientation\": \"h\", \"showlegend\": true, \"textposition\": \"auto\", \"x\": [4.398784546375343, 0.28304314263658975, 10.067051671218515, 6.705168040931499, 11.565062062016214, 2.1569820505019774, 4.869908538317333, 28.10163484023867, 4.837000870110139, 1.2570415188817023, 5.527196389962949, 1.6983910703717469, 6.55051172160824, 0.5182301863325425, 4.772403500440947, 6.382601090247582], \"xaxis\": \"x\", \"y\": [\"Belo Horizonte\", \"Bel\\u00e9m\", \"Campinas\", \"Curitiba\", \"Florian\\u00f3polis\", \"Fortaleza\", \"Goi\\u00e2nia\", \"Manaus\", \"Porto Alegre\", \"Recife\", \"Rio de Janeiro\", \"Salvador\", \"S\\u00e3o Paulo\", \"Vit\\u00f3ria\", \"Bras\\u00edlia\", \"Total\"], \"yaxis\": \"y\", \"type\": \"bar\"}, {\"alignmentgroup\": \"True\", \"hovertemplate\": \"N\\u00edvel Tecnol\\u00f3gico=M\\u00e9dio-Alto<br>Ano=2009<br>Pessoal %=%{x}<br>Espa\\u00e7o Metropolitano=%{y}<extra></extra>\", \"legendgroup\": \"M\\u00e9dio-Alto\", \"marker\": {\"color\": \"rgb(178,24,43)\"}, \"name\": \"M\\u00e9dio-Alto\", \"offsetgroup\": \"M\\u00e9dio-Alto\", \"orientation\": \"h\", \"showlegend\": true, \"textposition\": \"auto\", \"x\": [30.703640159579965, 6.947422591989022, 43.953934740882914, 36.98876799262179, 11.803233637154765, 7.2353209613629454, 10.8049764244731, 35.02165455479703, 20.505295048487227, 15.50281660755268, 17.9057478895099, 27.514210605998045, 33.27710889169747, 8.386116037496832, 11.220405671257039, 27.60871794154794], \"xaxis\": \"x\", \"y\": [\"Belo Horizonte\", \"Bel\\u00e9m\", \"Campinas\", \"Curitiba\", \"Florian\\u00f3polis\", \"Fortaleza\", \"Goi\\u00e2nia\", \"Manaus\", \"Porto Alegre\", \"Recife\", \"Rio de Janeiro\", \"Salvador\", \"S\\u00e3o Paulo\", \"Vit\\u00f3ria\", \"Bras\\u00edlia\", \"Total\"], \"yaxis\": \"y\", \"type\": \"bar\"}, {\"alignmentgroup\": \"True\", \"hovertemplate\": \"N\\u00edvel Tecnol\\u00f3gico=M\\u00e9dio-Baixo<br>Ano=2009<br>Pessoal %=%{x}<br>Espa\\u00e7o Metropolitano=%{y}<extra></extra>\", \"legendgroup\": \"M\\u00e9dio-Baixo\", \"marker\": {\"color\": \"rgb(214,96,77)\"}, \"name\": \"M\\u00e9dio-Baixo\", \"offsetgroup\": \"M\\u00e9dio-Baixo\", \"orientation\": \"h\", \"showlegend\": true, \"textposition\": \"auto\", \"x\": [34.69882382123736, 21.978728878977613, 22.735843472819976, 26.343613785834275, 33.58677231713461, 15.48372376026772, 17.309549508606487, 23.80113463575256, 24.95728345302983, 27.973085750052157, 34.38282182170508, 37.173293695032825, 28.824418195813102, 49.750097887924085, 22.763041856047757, 28.24243017397667], \"xaxis\": \"x\", \"y\": [\"Belo Horizonte\", \"Bel\\u00e9m\", \"Campinas\", \"Curitiba\", \"Florian\\u00f3polis\", \"Fortaleza\", \"Goi\\u00e2nia\", \"Manaus\", \"Porto Alegre\", \"Recife\", \"Rio de Janeiro\", \"Salvador\", \"S\\u00e3o Paulo\", \"Vit\\u00f3ria\", \"Bras\\u00edlia\", \"Total\"], \"yaxis\": \"y\", \"type\": \"bar\"}, {\"alignmentgroup\": \"True\", \"hovertemplate\": \"N\\u00edvel Tecnol\\u00f3gico=Baixo<br>Ano=2009<br>Pessoal %=%{x}<br>Espa\\u00e7o Metropolitano=%{y}<extra></extra>\", \"legendgroup\": \"Baixo\", \"marker\": {\"color\": \"rgb(244,165,130)\"}, \"name\": \"Baixo\", \"offsetgroup\": \"Baixo\", \"orientation\": \"h\", \"showlegend\": true, \"textposition\": \"auto\", \"x\": [30.198751472807327, 70.79080538639677, 23.24317011507859, 29.96245018061244, 43.044931983694404, 75.12397322786735, 67.01556552860308, 13.075575969211734, 49.700420628372804, 55.267056123513456, 42.18423389882207, 33.61410462859738, 31.347961190881186, 41.34555588824654, 61.24414897225425, 37.76625079422781], \"xaxis\": \"x\", \"y\": [\"Belo Horizonte\", \"Bel\\u00e9m\", \"Campinas\", \"Curitiba\", \"Florian\\u00f3polis\", \"Fortaleza\", \"Goi\\u00e2nia\", \"Manaus\", \"Porto Alegre\", \"Recife\", \"Rio de Janeiro\", \"Salvador\", \"S\\u00e3o Paulo\", \"Vit\\u00f3ria\", \"Bras\\u00edlia\", \"Total\"], \"yaxis\": \"y\", \"type\": \"bar\"}], \"name\": \"2009\"}, {\"data\": [{\"alignmentgroup\": \"True\", \"hovertemplate\": \"N\\u00edvel Tecnol\\u00f3gico=Alto<br>Ano=2010<br>Pessoal %=%{x}<br>Espa\\u00e7o Metropolitano=%{y}<extra></extra>\", \"legendgroup\": \"Alto\", \"marker\": {\"color\": \"rgb(103,0,31)\"}, \"name\": \"Alto\", \"offsetgroup\": \"Alto\", \"orientation\": \"h\", \"showlegend\": true, \"textposition\": \"auto\", \"x\": [4.089862820441425, 0.0869874658969594, 10.637049843323094, 5.41094601262571, 9.810306928274851, 2.1448299371786756, 4.605397669188305, 30.765259670167733, 4.935879922840656, 1.2713288648990648, 5.123747309624879, 1.8236086797728046, 6.22496384099126, 0.4847573079253641, 4.461056917980977, 6.230016810821577], \"xaxis\": \"x\", \"y\": [\"Belo Horizonte\", \"Bel\\u00e9m\", \"Campinas\", \"Curitiba\", \"Florian\\u00f3polis\", \"Fortaleza\", \"Goi\\u00e2nia\", \"Manaus\", \"Porto Alegre\", \"Recife\", \"Rio de Janeiro\", \"Salvador\", \"S\\u00e3o Paulo\", \"Vit\\u00f3ria\", \"Bras\\u00edlia\", \"Total\"], \"yaxis\": \"y\", \"type\": \"bar\"}, {\"alignmentgroup\": \"True\", \"hovertemplate\": \"N\\u00edvel Tecnol\\u00f3gico=M\\u00e9dio-Alto<br>Ano=2010<br>Pessoal %=%{x}<br>Espa\\u00e7o Metropolitano=%{y}<extra></extra>\", \"legendgroup\": \"M\\u00e9dio-Alto\", \"marker\": {\"color\": \"rgb(178,24,43)\"}, \"name\": \"M\\u00e9dio-Alto\", \"offsetgroup\": \"M\\u00e9dio-Alto\", \"orientation\": \"h\", \"showlegend\": true, \"textposition\": \"auto\", \"x\": [31.883573722410947, 7.876319639397414, 44.18057206365867, 38.29781822436325, 11.723520312627208, 6.701636972053902, 12.553670006133716, 33.31268361820554, 21.4204107989966, 15.573284299187378, 16.98685943212696, 27.124919713360956, 33.72096028346168, 8.884431350425208, 9.37186616829246, 27.83987915948038], \"xaxis\": \"x\", \"y\": [\"Belo Horizonte\", \"Bel\\u00e9m\", \"Campinas\", \"Curitiba\", \"Florian\\u00f3polis\", \"Fortaleza\", \"Goi\\u00e2nia\", \"Manaus\", \"Porto Alegre\", \"Recife\", \"Rio de Janeiro\", \"Salvador\", \"S\\u00e3o Paulo\", \"Vit\\u00f3ria\", \"Bras\\u00edlia\", \"Total\"], \"yaxis\": \"y\", \"type\": \"bar\"}, {\"alignmentgroup\": \"True\", \"hovertemplate\": \"N\\u00edvel Tecnol\\u00f3gico=M\\u00e9dio-Baixo<br>Ano=2010<br>Pessoal %=%{x}<br>Espa\\u00e7o Metropolitano=%{y}<extra></extra>\", \"legendgroup\": \"M\\u00e9dio-Baixo\", \"marker\": {\"color\": \"rgb(214,96,77)\"}, \"name\": \"M\\u00e9dio-Baixo\", \"offsetgroup\": \"M\\u00e9dio-Baixo\", \"orientation\": \"h\", \"showlegend\": true, \"textposition\": \"auto\", \"x\": [34.916745558835, 22.102724289272864, 22.109195313585353, 26.421918477182665, 34.437840918342424, 16.798269109022478, 18.1826313637293, 23.23937712950187, 24.473255014943412, 29.792198034679796, 38.20193428522551, 37.91922219563493, 28.849319194707906, 50.02820786059049, 24.265353876075, 28.75312051546034], \"xaxis\": \"x\", \"y\": [\"Belo Horizonte\", \"Bel\\u00e9m\", \"Campinas\", \"Curitiba\", \"Florian\\u00f3polis\", \"Fortaleza\", \"Goi\\u00e2nia\", \"Manaus\", \"Porto Alegre\", \"Recife\", \"Rio de Janeiro\", \"Salvador\", \"S\\u00e3o Paulo\", \"Vit\\u00f3ria\", \"Bras\\u00edlia\", \"Total\"], \"yaxis\": \"y\", \"type\": \"bar\"}, {\"alignmentgroup\": \"True\", \"hovertemplate\": \"N\\u00edvel Tecnol\\u00f3gico=Baixo<br>Ano=2010<br>Pessoal %=%{x}<br>Espa\\u00e7o Metropolitano=%{y}<extra></extra>\", \"legendgroup\": \"Baixo\", \"marker\": {\"color\": \"rgb(244,165,130)\"}, \"name\": \"Baixo\", \"offsetgroup\": \"Baixo\", \"orientation\": \"h\", \"showlegend\": true, \"textposition\": \"auto\", \"x\": [29.109817898312635, 69.93396860543277, 23.073182779432877, 29.86931728582838, 44.02833184075551, 74.35526398174494, 64.65830096094868, 12.682679582124855, 49.170454263219334, 53.36318880123376, 39.68745897302265, 33.132249411231314, 31.204756680839157, 40.60260348105895, 61.90172303765157, 37.176983514237705], \"xaxis\": \"x\", \"y\": [\"Belo Horizonte\", \"Bel\\u00e9m\", \"Campinas\", \"Curitiba\", \"Florian\\u00f3polis\", \"Fortaleza\", \"Goi\\u00e2nia\", \"Manaus\", \"Porto Alegre\", \"Recife\", \"Rio de Janeiro\", \"Salvador\", \"S\\u00e3o Paulo\", \"Vit\\u00f3ria\", \"Bras\\u00edlia\", \"Total\"], \"yaxis\": \"y\", \"type\": \"bar\"}], \"name\": \"2010\"}, {\"data\": [{\"alignmentgroup\": \"True\", \"hovertemplate\": \"N\\u00edvel Tecnol\\u00f3gico=Alto<br>Ano=2011<br>Pessoal %=%{x}<br>Espa\\u00e7o Metropolitano=%{y}<extra></extra>\", \"legendgroup\": \"Alto\", \"marker\": {\"color\": \"rgb(103,0,31)\"}, \"name\": \"Alto\", \"offsetgroup\": \"Alto\", \"orientation\": \"h\", \"showlegend\": true, \"textposition\": \"auto\", \"x\": [3.7652912178199744, 0.09625444653693241, 11.559184163527487, 4.559450205680222, 9.883833121068273, 2.2770942069996716, 4.150067212513748, 33.979509761705515, 5.1022933509321895, 1.2322735590118938, 4.853724430721729, 2.1252743621816808, 6.2607901837855255, 0.5512789672039131, 4.818922655997175, 6.461830195316468], \"xaxis\": \"x\", \"y\": [\"Belo Horizonte\", \"Bel\\u00e9m\", \"Campinas\", \"Curitiba\", \"Florian\\u00f3polis\", \"Fortaleza\", \"Goi\\u00e2nia\", \"Manaus\", \"Porto Alegre\", \"Recife\", \"Rio de Janeiro\", \"Salvador\", \"S\\u00e3o Paulo\", \"Vit\\u00f3ria\", \"Bras\\u00edlia\", \"Total\"], \"yaxis\": \"y\", \"type\": \"bar\"}, {\"alignmentgroup\": \"True\", \"hovertemplate\": \"N\\u00edvel Tecnol\\u00f3gico=M\\u00e9dio-Alto<br>Ano=2011<br>Pessoal %=%{x}<br>Espa\\u00e7o Metropolitano=%{y}<extra></extra>\", \"legendgroup\": \"M\\u00e9dio-Alto\", \"marker\": {\"color\": \"rgb(178,24,43)\"}, \"name\": \"M\\u00e9dio-Alto\", \"offsetgroup\": \"M\\u00e9dio-Alto\", \"orientation\": \"h\", \"showlegend\": true, \"textposition\": \"auto\", \"x\": [33.36954537155377, 8.206737811257584, 43.19310831294742, 40.17488977018006, 12.137702134228705, 6.827090364097511, 12.27056091897837, 32.8363787038015, 22.1213496122752, 17.50152485513876, 16.566962562717098, 25.656699157442592, 33.879364738417756, 9.343677331408868, 9.805536759730517, 28.140099037562372], \"xaxis\": \"x\", \"y\": [\"Belo Horizonte\", \"Bel\\u00e9m\", \"Campinas\", \"Curitiba\", \"Florian\\u00f3polis\", \"Fortaleza\", \"Goi\\u00e2nia\", \"Manaus\", \"Porto Alegre\", \"Recife\", \"Rio de Janeiro\", \"Salvador\", \"S\\u00e3o Paulo\", \"Vit\\u00f3ria\", \"Bras\\u00edlia\", \"Total\"], \"yaxis\": \"y\", \"type\": \"bar\"}, {\"alignmentgroup\": \"True\", \"hovertemplate\": \"N\\u00edvel Tecnol\\u00f3gico=M\\u00e9dio-Baixo<br>Ano=2011<br>Pessoal %=%{x}<br>Espa\\u00e7o Metropolitano=%{y}<extra></extra>\", \"legendgroup\": \"M\\u00e9dio-Baixo\", \"marker\": {\"color\": \"rgb(214,96,77)\"}, \"name\": \"M\\u00e9dio-Baixo\", \"offsetgroup\": \"M\\u00e9dio-Baixo\", \"orientation\": \"h\", \"showlegend\": true, \"textposition\": \"auto\", \"x\": [35.352382691254334, 23.063402385436284, 22.719154747790068, 26.36500234007439, 34.28659642622824, 17.242053926397944, 19.841134058413783, 21.213327591950147, 25.25243359181653, 31.088937175968283, 39.43072172906214, 39.68870217837672, 28.81714078588785, 49.56298612781653, 25.7126886528787, 29.088901516629086], \"xaxis\": \"x\", \"y\": [\"Belo Horizonte\", \"Bel\\u00e9m\", \"Campinas\", \"Curitiba\", \"Florian\\u00f3polis\", \"Fortaleza\", \"Goi\\u00e2nia\", \"Manaus\", \"Porto Alegre\", \"Recife\", \"Rio de Janeiro\", \"Salvador\", \"S\\u00e3o Paulo\", \"Vit\\u00f3ria\", \"Bras\\u00edlia\", \"Total\"], \"yaxis\": \"y\", \"type\": \"bar\"}, {\"alignmentgroup\": \"True\", \"hovertemplate\": \"N\\u00edvel Tecnol\\u00f3gico=Baixo<br>Ano=2011<br>Pessoal %=%{x}<br>Espa\\u00e7o Metropolitano=%{y}<extra></extra>\", \"legendgroup\": \"Baixo\", \"marker\": {\"color\": \"rgb(244,165,130)\"}, \"name\": \"Baixo\", \"offsetgroup\": \"Baixo\", \"orientation\": \"h\", \"showlegend\": true, \"textposition\": \"auto\", \"x\": [27.51278071937192, 68.6336053567692, 22.52855277573502, 28.900657684065322, 43.69186831847478, 73.65376150250488, 63.7382378100941, 11.970783942542838, 47.52392344497608, 50.17726440988106, 39.14859127749904, 32.529324301999004, 31.042704291908873, 40.54205757357068, 59.662851931393604, 36.309169250492076], \"xaxis\": \"x\", \"y\": [\"Belo Horizonte\", \"Bel\\u00e9m\", \"Campinas\", \"Curitiba\", \"Florian\\u00f3polis\", \"Fortaleza\", \"Goi\\u00e2nia\", \"Manaus\", \"Porto Alegre\", \"Recife\", \"Rio de Janeiro\", \"Salvador\", \"S\\u00e3o Paulo\", \"Vit\\u00f3ria\", \"Bras\\u00edlia\", \"Total\"], \"yaxis\": \"y\", \"type\": \"bar\"}], \"name\": \"2011\"}, {\"data\": [{\"alignmentgroup\": \"True\", \"hovertemplate\": \"N\\u00edvel Tecnol\\u00f3gico=Alto<br>Ano=2012<br>Pessoal %=%{x}<br>Espa\\u00e7o Metropolitano=%{y}<extra></extra>\", \"legendgroup\": \"Alto\", \"marker\": {\"color\": \"rgb(103,0,31)\"}, \"name\": \"Alto\", \"offsetgroup\": \"Alto\", \"orientation\": \"h\", \"showlegend\": true, \"textposition\": \"auto\", \"x\": [3.7551965293148313, 0.07526971648406791, 12.641432886057311, 4.776047598476221, 10.103219369939758, 1.9740414901705226, 3.369906871852397, 35.52575044019647, 4.530109527457633, 1.0437635791247284, 4.6799962096086425, 2.120494667157043, 6.290879909711509, 0.5134943899727079, 4.505782822874277, 6.4129982698834205], \"xaxis\": \"x\", \"y\": [\"Belo Horizonte\", \"Bel\\u00e9m\", \"Campinas\", \"Curitiba\", \"Florian\\u00f3polis\", \"Fortaleza\", \"Goi\\u00e2nia\", \"Manaus\", \"Porto Alegre\", \"Recife\", \"Rio de Janeiro\", \"Salvador\", \"S\\u00e3o Paulo\", \"Vit\\u00f3ria\", \"Bras\\u00edlia\", \"Total\"], \"yaxis\": \"y\", \"type\": \"bar\"}, {\"alignmentgroup\": \"True\", \"hovertemplate\": \"N\\u00edvel Tecnol\\u00f3gico=M\\u00e9dio-Alto<br>Ano=2012<br>Pessoal %=%{x}<br>Espa\\u00e7o Metropolitano=%{y}<extra></extra>\", \"legendgroup\": \"M\\u00e9dio-Alto\", \"marker\": {\"color\": \"rgb(178,24,43)\"}, \"name\": \"M\\u00e9dio-Alto\", \"offsetgroup\": \"M\\u00e9dio-Alto\", \"orientation\": \"h\", \"showlegend\": true, \"textposition\": \"auto\", \"x\": [34.56857209756443, 8.066404616542611, 42.097789665068895, 40.60499548364293, 12.34795287978205, 6.697349842511133, 10.863392575454832, 30.22064584614607, 22.59666787334888, 18.008247239835054, 16.230076755424996, 27.44345347554248, 33.03426492196861, 9.07106034569898, 10.058363675305204, 27.65904784874541], \"xaxis\": \"x\", \"y\": [\"Belo Horizonte\", \"Bel\\u00e9m\", \"Campinas\", \"Curitiba\", \"Florian\\u00f3polis\", \"Fortaleza\", \"Goi\\u00e2nia\", \"Manaus\", \"Porto Alegre\", \"Recife\", \"Rio de Janeiro\", \"Salvador\", \"S\\u00e3o Paulo\", \"Vit\\u00f3ria\", \"Bras\\u00edlia\", \"Total\"], \"yaxis\": \"y\", \"type\": \"bar\"}, {\"alignmentgroup\": \"True\", \"hovertemplate\": \"N\\u00edvel Tecnol\\u00f3gico=M\\u00e9dio-Baixo<br>Ano=2012<br>Pessoal %=%{x}<br>Espa\\u00e7o Metropolitano=%{y}<extra></extra>\", \"legendgroup\": \"M\\u00e9dio-Baixo\", \"marker\": {\"color\": \"rgb(214,96,77)\"}, \"name\": \"M\\u00e9dio-Baixo\", \"offsetgroup\": \"M\\u00e9dio-Baixo\", \"orientation\": \"h\", \"showlegend\": true, \"textposition\": \"auto\", \"x\": [33.64479375135298, 23.27088734632433, 21.853165241694338, 26.621961277147232, 34.38854994052416, 19.161371782339522, 19.88525490471016, 20.828664582929648, 24.72954884116414, 30.619429787611402, 40.21984269875865, 37.54137550570063, 28.977603763974745, 50.65601940766198, 26.044120796744487, 29.079986513458238], \"xaxis\": \"x\", \"y\": [\"Belo Horizonte\", \"Bel\\u00e9m\", \"Campinas\", \"Curitiba\", \"Florian\\u00f3polis\", \"Fortaleza\", \"Goi\\u00e2nia\", \"Manaus\", \"Porto Alegre\", \"Recife\", \"Rio de Janeiro\", \"Salvador\", \"S\\u00e3o Paulo\", \"Vit\\u00f3ria\", \"Bras\\u00edlia\", \"Total\"], \"yaxis\": \"y\", \"type\": \"bar\"}, {\"alignmentgroup\": \"True\", \"hovertemplate\": \"N\\u00edvel Tecnol\\u00f3gico=Baixo<br>Ano=2012<br>Pessoal %=%{x}<br>Espa\\u00e7o Metropolitano=%{y}<extra></extra>\", \"legendgroup\": \"Baixo\", \"marker\": {\"color\": \"rgb(244,165,130)\"}, \"name\": \"Baixo\", \"offsetgroup\": \"Baixo\", \"orientation\": \"h\", \"showlegend\": true, \"textposition\": \"auto\", \"x\": [28.03143762176777, 68.587438320649, 23.407612207179458, 27.996995640733612, 43.160277809754035, 72.16723688497882, 65.88144564798262, 13.42493913072782, 48.14367375802935, 50.328559393428804, 38.87008433620771, 32.894676351599855, 31.697251404345135, 39.75942585666633, 59.39173270507603, 36.84796736791293], \"xaxis\": \"x\", \"y\": [\"Belo Horizonte\", \"Bel\\u00e9m\", \"Campinas\", \"Curitiba\", \"Florian\\u00f3polis\", \"Fortaleza\", \"Goi\\u00e2nia\", \"Manaus\", \"Porto Alegre\", \"Recife\", \"Rio de Janeiro\", \"Salvador\", \"S\\u00e3o Paulo\", \"Vit\\u00f3ria\", \"Bras\\u00edlia\", \"Total\"], \"yaxis\": \"y\", \"type\": \"bar\"}], \"name\": \"2012\"}, {\"data\": [{\"alignmentgroup\": \"True\", \"hovertemplate\": \"N\\u00edvel Tecnol\\u00f3gico=Alto<br>Ano=2013<br>Pessoal %=%{x}<br>Espa\\u00e7o Metropolitano=%{y}<extra></extra>\", \"legendgroup\": \"Alto\", \"marker\": {\"color\": \"rgb(103,0,31)\"}, \"name\": \"Alto\", \"offsetgroup\": \"Alto\", \"orientation\": \"h\", \"showlegend\": true, \"textposition\": \"auto\", \"x\": [3.621325937402601, 0.19449617214980344, 12.986219589526268, 4.79778130422531, 9.934591665109325, 1.9774777830540669, 3.762320788530466, 36.55860426750502, 4.671148786904414, 1.0346390306885909, 4.211704159712464, 1.688835917559621, 6.178243001677018, 0.5786482942364132, 5.905830633965756, 6.493568971498963], \"xaxis\": \"x\", \"y\": [\"Belo Horizonte\", \"Bel\\u00e9m\", \"Campinas\", \"Curitiba\", \"Florian\\u00f3polis\", \"Fortaleza\", \"Goi\\u00e2nia\", \"Manaus\", \"Porto Alegre\", \"Recife\", \"Rio de Janeiro\", \"Salvador\", \"S\\u00e3o Paulo\", \"Vit\\u00f3ria\", \"Bras\\u00edlia\", \"Total\"], \"yaxis\": \"y\", \"type\": \"bar\"}, {\"alignmentgroup\": \"True\", \"hovertemplate\": \"N\\u00edvel Tecnol\\u00f3gico=M\\u00e9dio-Alto<br>Ano=2013<br>Pessoal %=%{x}<br>Espa\\u00e7o Metropolitano=%{y}<extra></extra>\", \"legendgroup\": \"M\\u00e9dio-Alto\", \"marker\": {\"color\": \"rgb(178,24,43)\"}, \"name\": \"M\\u00e9dio-Alto\", \"offsetgroup\": \"M\\u00e9dio-Alto\", \"orientation\": \"h\", \"showlegend\": true, \"textposition\": \"auto\", \"x\": [35.48239928088426, 8.690254500310367, 41.638956338834156, 39.820348920561, 12.932162212670528, 6.82111118648667, 10.688844086021506, 29.62663221950726, 24.253142356036246, 18.28745863581561, 17.253708175882636, 27.825314548500625, 33.663730350330795, 9.11475136856566, 9.677232762609902, 28.065922782710317], \"xaxis\": \"x\", \"y\": [\"Belo Horizonte\", \"Bel\\u00e9m\", \"Campinas\", \"Curitiba\", \"Florian\\u00f3polis\", \"Fortaleza\", \"Goi\\u00e2nia\", \"Manaus\", \"Porto Alegre\", \"Recife\", \"Rio de Janeiro\", \"Salvador\", \"S\\u00e3o Paulo\", \"Vit\\u00f3ria\", \"Bras\\u00edlia\", \"Total\"], \"yaxis\": \"y\", \"type\": \"bar\"}, {\"alignmentgroup\": \"True\", \"hovertemplate\": \"N\\u00edvel Tecnol\\u00f3gico=M\\u00e9dio-Baixo<br>Ano=2013<br>Pessoal %=%{x}<br>Espa\\u00e7o Metropolitano=%{y}<extra></extra>\", \"legendgroup\": \"M\\u00e9dio-Baixo\", \"marker\": {\"color\": \"rgb(214,96,77)\"}, \"name\": \"M\\u00e9dio-Baixo\", \"offsetgroup\": \"M\\u00e9dio-Baixo\", \"orientation\": \"h\", \"showlegend\": true, \"textposition\": \"auto\", \"x\": [32.9885311880316, 23.57955721084213, 22.568322068762857, 27.217089098827866, 34.16931414688843, 19.453225697035478, 19.264112903225804, 20.475308545904472, 23.785860441808996, 33.95411675174649, 41.646102318151506, 37.26682932862588, 28.496305032895343, 50.831546739379306, 28.062818139750117, 29.07668353608947], \"xaxis\": \"x\", \"y\": [\"Belo Horizonte\", \"Bel\\u00e9m\", \"Campinas\", \"Curitiba\", \"Florian\\u00f3polis\", \"Fortaleza\", \"Goi\\u00e2nia\", \"Manaus\", \"Porto Alegre\", \"Recife\", \"Rio de Janeiro\", \"Salvador\", \"S\\u00e3o Paulo\", \"Vit\\u00f3ria\", \"Bras\\u00edlia\", \"Total\"], \"yaxis\": \"y\", \"type\": \"bar\"}, {\"alignmentgroup\": \"True\", \"hovertemplate\": \"N\\u00edvel Tecnol\\u00f3gico=Baixo<br>Ano=2013<br>Pessoal %=%{x}<br>Espa\\u00e7o Metropolitano=%{y}<extra></extra>\", \"legendgroup\": \"Baixo\", \"marker\": {\"color\": \"rgb(244,165,130)\"}, \"name\": \"Baixo\", \"offsetgroup\": \"Baixo\", \"orientation\": \"h\", \"showlegend\": true, \"textposition\": \"auto\", \"x\": [27.907743593681538, 67.5356921166977, 22.80650200287672, 28.16478067638582, 42.96393197533172, 71.74818533342379, 66.28472222222223, 13.33945496708325, 47.28984841525035, 46.72378558174931, 36.8884853462534, 33.219020205313875, 31.661721615096845, 39.47505359781862, 56.35411846367423, 36.363824709701255], \"xaxis\": \"x\", \"y\": [\"Belo Horizonte\", \"Bel\\u00e9m\", \"Campinas\", \"Curitiba\", \"Florian\\u00f3polis\", \"Fortaleza\", \"Goi\\u00e2nia\", \"Manaus\", \"Porto Alegre\", \"Recife\", \"Rio de Janeiro\", \"Salvador\", \"S\\u00e3o Paulo\", \"Vit\\u00f3ria\", \"Bras\\u00edlia\", \"Total\"], \"yaxis\": \"y\", \"type\": \"bar\"}], \"name\": \"2013\"}, {\"data\": [{\"alignmentgroup\": \"True\", \"hovertemplate\": \"N\\u00edvel Tecnol\\u00f3gico=Alto<br>Ano=2014<br>Pessoal %=%{x}<br>Espa\\u00e7o Metropolitano=%{y}<extra></extra>\", \"legendgroup\": \"Alto\", \"marker\": {\"color\": \"rgb(103,0,31)\"}, \"name\": \"Alto\", \"offsetgroup\": \"Alto\", \"orientation\": \"h\", \"showlegend\": true, \"textposition\": \"auto\", \"x\": [3.903974333116003, 0.18027904060197525, 12.090222541721742, 4.640004176891348, 10.929370812591234, 1.8089323646006683, 3.3800624809681166, 32.17916666666667, 4.699055637728979, 1.0363702282313618, 4.510962331061263, 1.3965258315891542, 6.317664714140485, 0.5005333552145729, 5.955364250125299, 6.280336825622962], \"xaxis\": \"x\", \"y\": [\"Belo Horizonte\", \"Bel\\u00e9m\", \"Campinas\", \"Curitiba\", \"Florian\\u00f3polis\", \"Fortaleza\", \"Goi\\u00e2nia\", \"Manaus\", \"Porto Alegre\", \"Recife\", \"Rio de Janeiro\", \"Salvador\", \"S\\u00e3o Paulo\", \"Vit\\u00f3ria\", \"Bras\\u00edlia\", \"Total\"], \"yaxis\": \"y\", \"type\": \"bar\"}, {\"alignmentgroup\": \"True\", \"hovertemplate\": \"N\\u00edvel Tecnol\\u00f3gico=M\\u00e9dio-Alto<br>Ano=2014<br>Pessoal %=%{x}<br>Espa\\u00e7o Metropolitano=%{y}<extra></extra>\", \"legendgroup\": \"M\\u00e9dio-Alto\", \"marker\": {\"color\": \"rgb(178,24,43)\"}, \"name\": \"M\\u00e9dio-Alto\", \"offsetgroup\": \"M\\u00e9dio-Alto\", \"orientation\": \"h\", \"showlegend\": true, \"textposition\": \"auto\", \"x\": [34.69203960730418, 8.739614359617494, 40.04746113829434, 38.51407090273064, 13.541939589025715, 7.116667343155958, 10.798831583339913, 32.185833333333335, 23.568796660160864, 15.526099374817617, 16.743432630770222, 26.847351803895137, 33.597037323909575, 9.110117338147205, 10.357027034995134, 27.555460319377513], \"xaxis\": \"x\", \"y\": [\"Belo Horizonte\", \"Bel\\u00e9m\", \"Campinas\", \"Curitiba\", \"Florian\\u00f3polis\", \"Fortaleza\", \"Goi\\u00e2nia\", \"Manaus\", \"Porto Alegre\", \"Recife\", \"Rio de Janeiro\", \"Salvador\", \"S\\u00e3o Paulo\", \"Vit\\u00f3ria\", \"Bras\\u00edlia\", \"Total\"], \"yaxis\": \"y\", \"type\": \"bar\"}, {\"alignmentgroup\": \"True\", \"hovertemplate\": \"N\\u00edvel Tecnol\\u00f3gico=M\\u00e9dio-Baixo<br>Ano=2014<br>Pessoal %=%{x}<br>Espa\\u00e7o Metropolitano=%{y}<extra></extra>\", \"legendgroup\": \"M\\u00e9dio-Baixo\", \"marker\": {\"color\": \"rgb(214,96,77)\"}, \"name\": \"M\\u00e9dio-Baixo\", \"offsetgroup\": \"M\\u00e9dio-Baixo\", \"orientation\": \"h\", \"showlegend\": true, \"textposition\": \"auto\", \"x\": [33.670899138339436, 24.51794952186863, 23.64940596278861, 27.63953427661463, 32.16678519294831, 19.50859817889083, 19.859699775564753, 22.09166666666667, 23.935513797841708, 31.01505920220715, 41.90134848215333, 36.976598436742464, 28.016652950573658, 50.62771806022811, 27.2649547451281, 29.038040223784], \"xaxis\": \"x\", \"y\": [\"Belo Horizonte\", \"Bel\\u00e9m\", \"Campinas\", \"Curitiba\", \"Florian\\u00f3polis\", \"Fortaleza\", \"Goi\\u00e2nia\", \"Manaus\", \"Porto Alegre\", \"Recife\", \"Rio de Janeiro\", \"Salvador\", \"S\\u00e3o Paulo\", \"Vit\\u00f3ria\", \"Bras\\u00edlia\", \"Total\"], \"yaxis\": \"y\", \"type\": \"bar\"}, {\"alignmentgroup\": \"True\", \"hovertemplate\": \"N\\u00edvel Tecnol\\u00f3gico=Baixo<br>Ano=2014<br>Pessoal %=%{x}<br>Espa\\u00e7o Metropolitano=%{y}<extra></extra>\", \"legendgroup\": \"Baixo\", \"marker\": {\"color\": \"rgb(244,165,130)\"}, \"name\": \"Baixo\", \"offsetgroup\": \"Baixo\", \"orientation\": \"h\", \"showlegend\": true, \"textposition\": \"auto\", \"x\": [27.73308692124038, 66.5621570779119, 24.212910357195312, 29.20639064376338, 43.36190440543474, 71.56580211335255, 65.96140616012723, 13.543333333333333, 47.79663390426845, 52.42247119474387, 36.84425655601519, 34.77952392777324, 32.06864501137629, 39.76163124641011, 56.422653969751465, 37.12616263121553], \"xaxis\": \"x\", \"y\": [\"Belo Horizonte\", \"Bel\\u00e9m\", \"Campinas\", \"Curitiba\", \"Florian\\u00f3polis\", \"Fortaleza\", \"Goi\\u00e2nia\", \"Manaus\", \"Porto Alegre\", \"Recife\", \"Rio de Janeiro\", \"Salvador\", \"S\\u00e3o Paulo\", \"Vit\\u00f3ria\", \"Bras\\u00edlia\", \"Total\"], \"yaxis\": \"y\", \"type\": \"bar\"}], \"name\": \"2014\"}, {\"data\": [{\"alignmentgroup\": \"True\", \"hovertemplate\": \"N\\u00edvel Tecnol\\u00f3gico=Alto<br>Ano=2015<br>Pessoal %=%{x}<br>Espa\\u00e7o Metropolitano=%{y}<extra></extra>\", \"legendgroup\": \"Alto\", \"marker\": {\"color\": \"rgb(103,0,31)\"}, \"name\": \"Alto\", \"offsetgroup\": \"Alto\", \"orientation\": \"h\", \"showlegend\": true, \"textposition\": \"auto\", \"x\": [3.9611808560778097, 0.1761671070844344, 12.31184443536303, 4.289849680877036, 10.453057844722212, 1.8267143264402097, 3.372049456725365, 27.857882742904494, 4.740463811015752, 1.0750922473581515, 4.719530796829011, 1.1575779523232728, 6.762778278660102, 0.5466377440347072, 6.467286335103814, 6.150976789944173], \"xaxis\": \"x\", \"y\": [\"Belo Horizonte\", \"Bel\\u00e9m\", \"Campinas\", \"Curitiba\", \"Florian\\u00f3polis\", \"Fortaleza\", \"Goi\\u00e2nia\", \"Manaus\", \"Porto Alegre\", \"Recife\", \"Rio de Janeiro\", \"Salvador\", \"S\\u00e3o Paulo\", \"Vit\\u00f3ria\", \"Bras\\u00edlia\", \"Total\"], \"yaxis\": \"y\", \"type\": \"bar\"}, {\"alignmentgroup\": \"True\", \"hovertemplate\": \"N\\u00edvel Tecnol\\u00f3gico=M\\u00e9dio-Alto<br>Ano=2015<br>Pessoal %=%{x}<br>Espa\\u00e7o Metropolitano=%{y}<extra></extra>\", \"legendgroup\": \"M\\u00e9dio-Alto\", \"marker\": {\"color\": \"rgb(178,24,43)\"}, \"name\": \"M\\u00e9dio-Alto\", \"offsetgroup\": \"M\\u00e9dio-Alto\", \"orientation\": \"h\", \"showlegend\": true, \"textposition\": \"auto\", \"x\": [31.924032734907236, 9.483662598045385, 39.92814330472687, 37.64139646814002, 12.858325775797486, 9.988085056614256, 10.884830611924244, 34.041847938678266, 23.352971139152913, 16.18916987037073, 16.59097256536404, 28.527366041882594, 33.139542443997506, 8.483731019522777, 8.727667793336552, 27.21867501464759], \"xaxis\": \"x\", \"y\": [\"Belo Horizonte\", \"Bel\\u00e9m\", \"Campinas\", \"Curitiba\", \"Florian\\u00f3polis\", \"Fortaleza\", \"Goi\\u00e2nia\", \"Manaus\", \"Porto Alegre\", \"Recife\", \"Rio de Janeiro\", \"Salvador\", \"S\\u00e3o Paulo\", \"Vit\\u00f3ria\", \"Bras\\u00edlia\", \"Total\"], \"yaxis\": \"y\", \"type\": \"bar\"}, {\"alignmentgroup\": \"True\", \"hovertemplate\": \"N\\u00edvel Tecnol\\u00f3gico=M\\u00e9dio-Baixo<br>Ano=2015<br>Pessoal %=%{x}<br>Espa\\u00e7o Metropolitano=%{y}<extra></extra>\", \"legendgroup\": \"M\\u00e9dio-Baixo\", \"marker\": {\"color\": \"rgb(214,96,77)\"}, \"name\": \"M\\u00e9dio-Baixo\", \"offsetgroup\": \"M\\u00e9dio-Baixo\", \"orientation\": \"h\", \"showlegend\": true, \"textposition\": \"auto\", \"x\": [34.003170658554346, 21.404303510758776, 22.5812219043727, 28.295569480451537, 31.915145301841406, 16.879015811056775, 19.171128488379118, 21.79718251501968, 22.590364340563763, 30.37691014817534, 39.95101725138033, 36.10469399732771, 27.30425133504404, 51.353579175704986, 24.951714147754707, 28.20701285503703], \"xaxis\": \"x\", \"y\": [\"Belo Horizonte\", \"Bel\\u00e9m\", \"Campinas\", \"Curitiba\", \"Florian\\u00f3polis\", \"Fortaleza\", \"Goi\\u00e2nia\", \"Manaus\", \"Porto Alegre\", \"Recife\", \"Rio de Janeiro\", \"Salvador\", \"S\\u00e3o Paulo\", \"Vit\\u00f3ria\", \"Bras\\u00edlia\", \"Total\"], \"yaxis\": \"y\", \"type\": \"bar\"}, {\"alignmentgroup\": \"True\", \"hovertemplate\": \"N\\u00edvel Tecnol\\u00f3gico=Baixo<br>Ano=2015<br>Pessoal %=%{x}<br>Espa\\u00e7o Metropolitano=%{y}<extra></extra>\", \"legendgroup\": \"Baixo\", \"marker\": {\"color\": \"rgb(244,165,130)\"}, \"name\": \"Baixo\", \"offsetgroup\": \"Baixo\", \"orientation\": \"h\", \"showlegend\": true, \"textposition\": \"auto\", \"x\": [30.1116157504606, 68.9358667841114, 25.178790355537394, 29.773184370531407, 44.773471077638895, 71.30618480588876, 66.57199144297127, 16.303086803397555, 49.31620070926757, 52.35882773409578, 38.73847938642662, 34.210362008466426, 32.79342794229836, 39.61605206073753, 59.85333172380493, 38.4233353403712], \"xaxis\": \"x\", \"y\": [\"Belo Horizonte\", \"Bel\\u00e9m\", \"Campinas\", \"Curitiba\", \"Florian\\u00f3polis\", \"Fortaleza\", \"Goi\\u00e2nia\", \"Manaus\", \"Porto Alegre\", \"Recife\", \"Rio de Janeiro\", \"Salvador\", \"S\\u00e3o Paulo\", \"Vit\\u00f3ria\", \"Bras\\u00edlia\", \"Total\"], \"yaxis\": \"y\", \"type\": \"bar\"}], \"name\": \"2015\"}, {\"data\": [{\"alignmentgroup\": \"True\", \"hovertemplate\": \"N\\u00edvel Tecnol\\u00f3gico=Alto<br>Ano=2016<br>Pessoal %=%{x}<br>Espa\\u00e7o Metropolitano=%{y}<extra></extra>\", \"legendgroup\": \"Alto\", \"marker\": {\"color\": \"rgb(103,0,31)\"}, \"name\": \"Alto\", \"offsetgroup\": \"Alto\", \"orientation\": \"h\", \"showlegend\": true, \"textposition\": \"auto\", \"x\": [4.3842040751070295, 0.018129900738793454, 12.558777771950986, 3.8240419739151466, 11.745325755703814, 1.69432342134292, 3.4239912843858216, 31.13511788770754, 4.388167395428175, 1.0189878677081603, 5.051796405724686, 1.0610395803528851, 6.8202733602843475, 0.5968952012456943, 6.9353297228416695, 6.320136249068062], \"xaxis\": \"x\", \"y\": [\"Belo Horizonte\", \"Bel\\u00e9m\", \"Campinas\", \"Curitiba\", \"Florian\\u00f3polis\", \"Fortaleza\", \"Goi\\u00e2nia\", \"Manaus\", \"Porto Alegre\", \"Recife\", \"Rio de Janeiro\", \"Salvador\", \"S\\u00e3o Paulo\", \"Vit\\u00f3ria\", \"Bras\\u00edlia\", \"Total\"], \"yaxis\": \"y\", \"type\": \"bar\"}, {\"alignmentgroup\": \"True\", \"hovertemplate\": \"N\\u00edvel Tecnol\\u00f3gico=M\\u00e9dio-Alto<br>Ano=2016<br>Pessoal %=%{x}<br>Espa\\u00e7o Metropolitano=%{y}<extra></extra>\", \"legendgroup\": \"M\\u00e9dio-Alto\", \"marker\": {\"color\": \"rgb(178,24,43)\"}, \"name\": \"M\\u00e9dio-Alto\", \"offsetgroup\": \"M\\u00e9dio-Alto\", \"orientation\": \"h\", \"showlegend\": true, \"textposition\": \"auto\", \"x\": [30.734431160771912, 10.071159860399764, 38.86150296292411, 37.73249071277513, 13.149658183016227, 10.751612980025236, 13.275748025368664, 32.10602486524677, 21.204192433291905, 17.239695861725114, 16.460668400532846, 27.349917872092405, 32.57116898849182, 9.026565375359787, 8.913666772857598, 26.799636248630023], \"xaxis\": \"x\", \"y\": [\"Belo Horizonte\", \"Bel\\u00e9m\", \"Campinas\", \"Curitiba\", \"Florian\\u00f3polis\", \"Fortaleza\", \"Goi\\u00e2nia\", \"Manaus\", \"Porto Alegre\", \"Recife\", \"Rio de Janeiro\", \"Salvador\", \"S\\u00e3o Paulo\", \"Vit\\u00f3ria\", \"Bras\\u00edlia\", \"Total\"], \"yaxis\": \"y\", \"type\": \"bar\"}, {\"alignmentgroup\": \"True\", \"hovertemplate\": \"N\\u00edvel Tecnol\\u00f3gico=M\\u00e9dio-Baixo<br>Ano=2016<br>Pessoal %=%{x}<br>Espa\\u00e7o Metropolitano=%{y}<extra></extra>\", \"legendgroup\": \"M\\u00e9dio-Baixo\", \"marker\": {\"color\": \"rgb(214,96,77)\"}, \"name\": \"M\\u00e9dio-Baixo\", \"offsetgroup\": \"M\\u00e9dio-Baixo\", \"orientation\": \"h\", \"showlegend\": true, \"textposition\": \"auto\", \"x\": [33.36412460992782, 21.279970992158816, 23.393990245948924, 28.213317787438836, 31.360678692035254, 16.38454396114563, 17.78011231728986, 21.094435517874032, 23.158011261000606, 29.83525843443576, 38.29030384947569, 36.06342393896042, 27.484869400269513, 50.76676261029586, 23.940745460337688, 27.92102775531588], \"xaxis\": \"x\", \"y\": [\"Belo Horizonte\", \"Bel\\u00e9m\", \"Campinas\", \"Curitiba\", \"Florian\\u00f3polis\", \"Fortaleza\", \"Goi\\u00e2nia\", \"Manaus\", \"Porto Alegre\", \"Recife\", \"Rio de Janeiro\", \"Salvador\", \"S\\u00e3o Paulo\", \"Vit\\u00f3ria\", \"Bras\\u00edlia\", \"Total\"], \"yaxis\": \"y\", \"type\": \"bar\"}, {\"alignmentgroup\": \"True\", \"hovertemplate\": \"N\\u00edvel Tecnol\\u00f3gico=Baixo<br>Ano=2016<br>Pessoal %=%{x}<br>Espa\\u00e7o Metropolitano=%{y}<extra></extra>\", \"legendgroup\": \"Baixo\", \"marker\": {\"color\": \"rgb(244,165,130)\"}, \"name\": \"Baixo\", \"offsetgroup\": \"Baixo\", \"orientation\": \"h\", \"showlegend\": true, \"textposition\": \"auto\", \"x\": [31.51724015419324, 68.63073924670262, 25.185729019175973, 30.230149525870893, 43.744337369244704, 71.16951963748622, 65.52014837295566, 15.664421729171652, 51.24962891027931, 51.906057836130955, 40.197231344266775, 35.525618608594286, 33.12368825095432, 39.60977681309866, 60.21025804396305, 38.95919974698604], \"xaxis\": \"x\", \"y\": [\"Belo Horizonte\", \"Bel\\u00e9m\", \"Campinas\", \"Curitiba\", \"Florian\\u00f3polis\", \"Fortaleza\", \"Goi\\u00e2nia\", \"Manaus\", \"Porto Alegre\", \"Recife\", \"Rio de Janeiro\", \"Salvador\", \"S\\u00e3o Paulo\", \"Vit\\u00f3ria\", \"Bras\\u00edlia\", \"Total\"], \"yaxis\": \"y\", \"type\": \"bar\"}], \"name\": \"2016\"}, {\"data\": [{\"alignmentgroup\": \"True\", \"hovertemplate\": \"N\\u00edvel Tecnol\\u00f3gico=Alto<br>Ano=2017<br>Pessoal %=%{x}<br>Espa\\u00e7o Metropolitano=%{y}<extra></extra>\", \"legendgroup\": \"Alto\", \"marker\": {\"color\": \"rgb(103,0,31)\"}, \"name\": \"Alto\", \"offsetgroup\": \"Alto\", \"orientation\": \"h\", \"showlegend\": true, \"textposition\": \"auto\", \"x\": [4.273062685768817, 0.07159797735713967, 12.376876329112797, 3.848862507388357, 11.978079331941546, 1.8163256972518274, 3.2141417031959314, 31.966018024223636, 4.4440663284247, 1.059541146921632, 5.865334450539896, 0.8814820851329693, 6.882025227063185, 0.6538579990997607, 5.651676206050695, 6.435990226238617], \"xaxis\": \"x\", \"y\": [\"Belo Horizonte\", \"Bel\\u00e9m\", \"Campinas\", \"Curitiba\", \"Florian\\u00f3polis\", \"Fortaleza\", \"Goi\\u00e2nia\", \"Manaus\", \"Porto Alegre\", \"Recife\", \"Rio de Janeiro\", \"Salvador\", \"S\\u00e3o Paulo\", \"Vit\\u00f3ria\", \"Bras\\u00edlia\", \"Total\"], \"yaxis\": \"y\", \"type\": \"bar\"}, {\"alignmentgroup\": \"True\", \"hovertemplate\": \"N\\u00edvel Tecnol\\u00f3gico=M\\u00e9dio-Alto<br>Ano=2017<br>Pessoal %=%{x}<br>Espa\\u00e7o Metropolitano=%{y}<extra></extra>\", \"legendgroup\": \"M\\u00e9dio-Alto\", \"marker\": {\"color\": \"rgb(178,24,43)\"}, \"name\": \"M\\u00e9dio-Alto\", \"offsetgroup\": \"M\\u00e9dio-Alto\", \"orientation\": \"h\", \"showlegend\": true, \"textposition\": \"auto\", \"x\": [29.850655547383585, 10.005817335660268, 38.01507291768621, 38.830690292641826, 12.436623918878615, 10.358119972232432, 14.131297233314688, 30.975259743987145, 22.016148991461453, 17.354735220245256, 15.614015672510922, 28.24953141553256, 32.1665898346313, 8.647035133022198, 9.219950940310712, 26.585806346615914], \"xaxis\": \"x\", \"y\": [\"Belo Horizonte\", \"Bel\\u00e9m\", \"Campinas\", \"Curitiba\", \"Florian\\u00f3polis\", \"Fortaleza\", \"Goi\\u00e2nia\", \"Manaus\", \"Porto Alegre\", \"Recife\", \"Rio de Janeiro\", \"Salvador\", \"S\\u00e3o Paulo\", \"Vit\\u00f3ria\", \"Bras\\u00edlia\", \"Total\"], \"yaxis\": \"y\", \"type\": \"bar\"}, {\"alignmentgroup\": \"True\", \"hovertemplate\": \"N\\u00edvel Tecnol\\u00f3gico=M\\u00e9dio-Baixo<br>Ano=2017<br>Pessoal %=%{x}<br>Espa\\u00e7o Metropolitano=%{y}<extra></extra>\", \"legendgroup\": \"M\\u00e9dio-Baixo\", \"marker\": {\"color\": \"rgb(214,96,77)\"}, \"name\": \"M\\u00e9dio-Baixo\", \"offsetgroup\": \"M\\u00e9dio-Baixo\", \"orientation\": \"h\", \"showlegend\": true, \"textposition\": \"auto\", \"x\": [33.20345978276065, 20.526245133574978, 23.996547643410715, 28.378208433416752, 30.30495079033701, 16.051288333537507, 17.8462258874335, 21.197405430227885, 23.446458771604174, 29.770573460815974, 37.9360135751137, 35.769972564039875, 28.165152912097614, 50.33048257563194, 24.533115290269826, 28.107746451812687], \"xaxis\": \"x\", \"y\": [\"Belo Horizonte\", \"Bel\\u00e9m\", \"Campinas\", \"Curitiba\", \"Florian\\u00f3polis\", \"Fortaleza\", \"Goi\\u00e2nia\", \"Manaus\", \"Porto Alegre\", \"Recife\", \"Rio de Janeiro\", \"Salvador\", \"S\\u00e3o Paulo\", \"Vit\\u00f3ria\", \"Bras\\u00edlia\", \"Total\"], \"yaxis\": \"y\", \"type\": \"bar\"}, {\"alignmentgroup\": \"True\", \"hovertemplate\": \"N\\u00edvel Tecnol\\u00f3gico=Baixo<br>Ano=2017<br>Pessoal %=%{x}<br>Espa\\u00e7o Metropolitano=%{y}<extra></extra>\", \"legendgroup\": \"Baixo\", \"marker\": {\"color\": \"rgb(244,165,130)\"}, \"name\": \"Baixo\", \"offsetgroup\": \"Baixo\", \"orientation\": \"h\", \"showlegend\": true, \"textposition\": \"auto\", \"x\": [32.672821984086944, 69.39633955340761, 25.611503109790277, 28.942238766553064, 45.28034595884283, 71.77426599697824, 64.80833517605588, 15.861316801561335, 50.09332590850968, 51.81515017201714, 40.58463630183549, 35.0990139352946, 32.7862320262079, 40.368624292246096, 60.59525756336876, 38.87045697533278], \"xaxis\": \"x\", \"y\": [\"Belo Horizonte\", \"Bel\\u00e9m\", \"Campinas\", \"Curitiba\", \"Florian\\u00f3polis\", \"Fortaleza\", \"Goi\\u00e2nia\", \"Manaus\", \"Porto Alegre\", \"Recife\", \"Rio de Janeiro\", \"Salvador\", \"S\\u00e3o Paulo\", \"Vit\\u00f3ria\", \"Bras\\u00edlia\", \"Total\"], \"yaxis\": \"y\", \"type\": \"bar\"}], \"name\": \"2017\"}]);\n",
       "                        }).then(function(){\n",
       "                            \n",
       "var gd = document.getElementById('3c6df18b-d397-42ac-990b-987694a2f5b8');\n",
       "var x = new MutationObserver(function (mutations, observer) {{\n",
       "        var display = window.getComputedStyle(gd).display;\n",
       "        if (!display || display === 'none') {{\n",
       "            console.log([gd, 'removed!']);\n",
       "            Plotly.purge(gd);\n",
       "            observer.disconnect();\n",
       "        }}\n",
       "}});\n",
       "\n",
       "// Listen for the removal of the full notebook cells\n",
       "var notebookContainer = gd.closest('#notebook-container');\n",
       "if (notebookContainer) {{\n",
       "    x.observe(notebookContainer, {childList: true});\n",
       "}}\n",
       "\n",
       "// Listen for the clearing of the current output cell\n",
       "var outputEl = gd.closest('.output');\n",
       "if (outputEl) {{\n",
       "    x.observe(outputEl, {childList: true});\n",
       "}}\n",
       "\n",
       "                        })                };                });            </script>        </div>"
      ]
     },
     "metadata": {},
     "output_type": "display_data"
    }
   ],
   "source": [
    "fig = ind.ind_tech_level_evolution_dynamic(\n",
    "    list_years=list(range(2007,2018))\n",
    "    , list_ufs=['AM', 'BA', 'CE', 'DF', 'ES', 'GO', 'MG','PA','PE','PR','RJ','RS','SC', 'SP']\n",
    "    , list_tec_level=None\n",
    "    , range_x=100\n",
    "    , relative = True\n",
    "    , focus='Alto'\n",
    ")\n",
    "fig"
   ]
  },
  {
   "cell_type": "markdown",
   "metadata": {},
   "source": [
    "**Tabela 2 - Evolução do Nível Tecnológico das Indústrias nos Espaços Metropolitanos Brasileiros entre 2007 e 2017**"
   ]
  },
  {
   "cell_type": "code",
   "execution_count": 7,
   "metadata": {
    "ExecuteTime": {
     "end_time": "2020-10-14T11:06:50.192888Z",
     "start_time": "2020-10-14T11:06:47.064373Z"
    },
    "hide_input": true
   },
   "outputs": [
    {
     "data": {
      "text/html": [
       "<div>\n",
       "<style scoped>\n",
       "    .dataframe tbody tr th:only-of-type {\n",
       "        vertical-align: middle;\n",
       "    }\n",
       "\n",
       "    .dataframe tbody tr th {\n",
       "        vertical-align: top;\n",
       "    }\n",
       "\n",
       "    .dataframe thead th {\n",
       "        text-align: right;\n",
       "    }\n",
       "</style>\n",
       "<table border=\"1\" class=\"dataframe\">\n",
       "  <thead>\n",
       "    <tr style=\"text-align: right;\">\n",
       "      <th></th>\n",
       "      <th></th>\n",
       "      <th>2007</th>\n",
       "      <th>2008</th>\n",
       "      <th>2009</th>\n",
       "      <th>2010</th>\n",
       "      <th>2011</th>\n",
       "      <th>2012</th>\n",
       "      <th>2013</th>\n",
       "      <th>2014</th>\n",
       "      <th>2015</th>\n",
       "      <th>2016</th>\n",
       "      <th>2017</th>\n",
       "    </tr>\n",
       "    <tr>\n",
       "      <th>Espaço Metropolitano</th>\n",
       "      <th>Nível Tecnológico</th>\n",
       "      <th></th>\n",
       "      <th></th>\n",
       "      <th></th>\n",
       "      <th></th>\n",
       "      <th></th>\n",
       "      <th></th>\n",
       "      <th></th>\n",
       "      <th></th>\n",
       "      <th></th>\n",
       "      <th></th>\n",
       "      <th></th>\n",
       "    </tr>\n",
       "  </thead>\n",
       "  <tbody>\n",
       "    <tr>\n",
       "      <th rowspan=\"4\" valign=\"top\">Belo Horizonte</th>\n",
       "      <th>High-technology</th>\n",
       "      <td>7278</td>\n",
       "      <td>8625</td>\n",
       "      <td>8512</td>\n",
       "      <td>8813</td>\n",
       "      <td>8249</td>\n",
       "      <td>8500</td>\n",
       "      <td>8017</td>\n",
       "      <td>8323</td>\n",
       "      <td>7396</td>\n",
       "      <td>7404</td>\n",
       "      <td>7030</td>\n",
       "    </tr>\n",
       "    <tr>\n",
       "      <th>Medium-high-technology</th>\n",
       "      <td>58136</td>\n",
       "      <td>60591</td>\n",
       "      <td>59414</td>\n",
       "      <td>68704</td>\n",
       "      <td>73106</td>\n",
       "      <td>78247</td>\n",
       "      <td>78552</td>\n",
       "      <td>73961</td>\n",
       "      <td>59606</td>\n",
       "      <td>51904</td>\n",
       "      <td>49110</td>\n",
       "    </tr>\n",
       "    <tr>\n",
       "      <th>Medium-low-technology</th>\n",
       "      <td>66479</td>\n",
       "      <td>69961</td>\n",
       "      <td>67145</td>\n",
       "      <td>75240</td>\n",
       "      <td>77450</td>\n",
       "      <td>76156</td>\n",
       "      <td>73031</td>\n",
       "      <td>71784</td>\n",
       "      <td>63488</td>\n",
       "      <td>56345</td>\n",
       "      <td>54626</td>\n",
       "    </tr>\n",
       "    <tr>\n",
       "      <th>Low-technology</th>\n",
       "      <td>58058</td>\n",
       "      <td>58965</td>\n",
       "      <td>58437</td>\n",
       "      <td>62727</td>\n",
       "      <td>60275</td>\n",
       "      <td>63450</td>\n",
       "      <td>61783</td>\n",
       "      <td>59125</td>\n",
       "      <td>56222</td>\n",
       "      <td>53226</td>\n",
       "      <td>53753</td>\n",
       "    </tr>\n",
       "    <tr>\n",
       "      <th rowspan=\"4\" valign=\"top\">Belém</th>\n",
       "      <th>High-technology</th>\n",
       "      <td>147</td>\n",
       "      <td>96</td>\n",
       "      <td>66</td>\n",
       "      <td>22</td>\n",
       "      <td>23</td>\n",
       "      <td>18</td>\n",
       "      <td>47</td>\n",
       "      <td>46</td>\n",
       "      <td>42</td>\n",
       "      <td>4</td>\n",
       "      <td>16</td>\n",
       "    </tr>\n",
       "    <tr>\n",
       "      <th>Medium-high-technology</th>\n",
       "      <td>1327</td>\n",
       "      <td>1709</td>\n",
       "      <td>1620</td>\n",
       "      <td>1992</td>\n",
       "      <td>1961</td>\n",
       "      <td>1929</td>\n",
       "      <td>2100</td>\n",
       "      <td>2230</td>\n",
       "      <td>2261</td>\n",
       "      <td>2222</td>\n",
       "      <td>2236</td>\n",
       "    </tr>\n",
       "    <tr>\n",
       "      <th>Medium-low-technology</th>\n",
       "      <td>4146</td>\n",
       "      <td>5038</td>\n",
       "      <td>5125</td>\n",
       "      <td>5590</td>\n",
       "      <td>5511</td>\n",
       "      <td>5565</td>\n",
       "      <td>5698</td>\n",
       "      <td>6256</td>\n",
       "      <td>5103</td>\n",
       "      <td>4695</td>\n",
       "      <td>4587</td>\n",
       "    </tr>\n",
       "    <tr>\n",
       "      <th>Low-technology</th>\n",
       "      <td>20201</td>\n",
       "      <td>17668</td>\n",
       "      <td>16507</td>\n",
       "      <td>17687</td>\n",
       "      <td>16400</td>\n",
       "      <td>16402</td>\n",
       "      <td>16320</td>\n",
       "      <td>16984</td>\n",
       "      <td>16435</td>\n",
       "      <td>15142</td>\n",
       "      <td>15508</td>\n",
       "    </tr>\n",
       "    <tr>\n",
       "      <th rowspan=\"4\" valign=\"top\">Brasília</th>\n",
       "      <th>High-technology</th>\n",
       "      <td>1028</td>\n",
       "      <td>1466</td>\n",
       "      <td>1407</td>\n",
       "      <td>1468</td>\n",
       "      <td>1638</td>\n",
       "      <td>1683</td>\n",
       "      <td>2042</td>\n",
       "      <td>2020</td>\n",
       "      <td>2143</td>\n",
       "      <td>2177</td>\n",
       "      <td>1728</td>\n",
       "    </tr>\n",
       "    <tr>\n",
       "      <th>Medium-high-technology</th>\n",
       "      <td>2943</td>\n",
       "      <td>3272</td>\n",
       "      <td>3308</td>\n",
       "      <td>3084</td>\n",
       "      <td>3333</td>\n",
       "      <td>3757</td>\n",
       "      <td>3346</td>\n",
       "      <td>3513</td>\n",
       "      <td>2892</td>\n",
       "      <td>2798</td>\n",
       "      <td>2819</td>\n",
       "    </tr>\n",
       "    <tr>\n",
       "      <th>Medium-low-technology</th>\n",
       "      <td>5354</td>\n",
       "      <td>6030</td>\n",
       "      <td>6711</td>\n",
       "      <td>7985</td>\n",
       "      <td>8740</td>\n",
       "      <td>9728</td>\n",
       "      <td>9703</td>\n",
       "      <td>9248</td>\n",
       "      <td>8268</td>\n",
       "      <td>7515</td>\n",
       "      <td>7501</td>\n",
       "    </tr>\n",
       "    <tr>\n",
       "      <th>Low-technology</th>\n",
       "      <td>16712</td>\n",
       "      <td>17493</td>\n",
       "      <td>18056</td>\n",
       "      <td>20370</td>\n",
       "      <td>20280</td>\n",
       "      <td>22184</td>\n",
       "      <td>19485</td>\n",
       "      <td>19138</td>\n",
       "      <td>19833</td>\n",
       "      <td>18900</td>\n",
       "      <td>18527</td>\n",
       "    </tr>\n",
       "    <tr>\n",
       "      <th rowspan=\"4\" valign=\"top\">Campinas</th>\n",
       "      <th>High-technology</th>\n",
       "      <td>12150</td>\n",
       "      <td>12886</td>\n",
       "      <td>11906</td>\n",
       "      <td>13782</td>\n",
       "      <td>15404</td>\n",
       "      <td>16826</td>\n",
       "      <td>16793</td>\n",
       "      <td>15641</td>\n",
       "      <td>14461</td>\n",
       "      <td>14369</td>\n",
       "      <td>13910</td>\n",
       "    </tr>\n",
       "    <tr>\n",
       "      <th>Medium-high-technology</th>\n",
       "      <td>51371</td>\n",
       "      <td>52767</td>\n",
       "      <td>51983</td>\n",
       "      <td>57243</td>\n",
       "      <td>57560</td>\n",
       "      <td>56033</td>\n",
       "      <td>53845</td>\n",
       "      <td>51809</td>\n",
       "      <td>46898</td>\n",
       "      <td>44463</td>\n",
       "      <td>42724</td>\n",
       "    </tr>\n",
       "    <tr>\n",
       "      <th>Medium-low-technology</th>\n",
       "      <td>23780</td>\n",
       "      <td>27727</td>\n",
       "      <td>26889</td>\n",
       "      <td>28646</td>\n",
       "      <td>30276</td>\n",
       "      <td>29087</td>\n",
       "      <td>29184</td>\n",
       "      <td>30595</td>\n",
       "      <td>26523</td>\n",
       "      <td>26766</td>\n",
       "      <td>26969</td>\n",
       "    </tr>\n",
       "    <tr>\n",
       "      <th>Low-technology</th>\n",
       "      <td>26598</td>\n",
       "      <td>27002</td>\n",
       "      <td>27489</td>\n",
       "      <td>29895</td>\n",
       "      <td>30022</td>\n",
       "      <td>31156</td>\n",
       "      <td>29492</td>\n",
       "      <td>31324</td>\n",
       "      <td>29574</td>\n",
       "      <td>28816</td>\n",
       "      <td>28784</td>\n",
       "    </tr>\n",
       "    <tr>\n",
       "      <th rowspan=\"4\" valign=\"top\">Curitiba</th>\n",
       "      <th>High-technology</th>\n",
       "      <td>8404</td>\n",
       "      <td>9931</td>\n",
       "      <td>12214</td>\n",
       "      <td>10637</td>\n",
       "      <td>9255</td>\n",
       "      <td>9729</td>\n",
       "      <td>9705</td>\n",
       "      <td>8887</td>\n",
       "      <td>7380</td>\n",
       "      <td>6166</td>\n",
       "      <td>6121</td>\n",
       "    </tr>\n",
       "    <tr>\n",
       "      <th>Medium-high-technology</th>\n",
       "      <td>63993</td>\n",
       "      <td>66371</td>\n",
       "      <td>67378</td>\n",
       "      <td>75287</td>\n",
       "      <td>81549</td>\n",
       "      <td>82714</td>\n",
       "      <td>80549</td>\n",
       "      <td>73766</td>\n",
       "      <td>64756</td>\n",
       "      <td>60841</td>\n",
       "      <td>61754</td>\n",
       "    </tr>\n",
       "    <tr>\n",
       "      <th>Medium-low-technology</th>\n",
       "      <td>45647</td>\n",
       "      <td>48231</td>\n",
       "      <td>47987</td>\n",
       "      <td>51941</td>\n",
       "      <td>53517</td>\n",
       "      <td>54230</td>\n",
       "      <td>55055</td>\n",
       "      <td>52938</td>\n",
       "      <td>48678</td>\n",
       "      <td>45492</td>\n",
       "      <td>45131</td>\n",
       "    </tr>\n",
       "    <tr>\n",
       "      <th>Low-technology</th>\n",
       "      <td>54896</td>\n",
       "      <td>55468</td>\n",
       "      <td>54579</td>\n",
       "      <td>58718</td>\n",
       "      <td>58664</td>\n",
       "      <td>57031</td>\n",
       "      <td>56972</td>\n",
       "      <td>55939</td>\n",
       "      <td>51220</td>\n",
       "      <td>48744</td>\n",
       "      <td>46028</td>\n",
       "    </tr>\n",
       "    <tr>\n",
       "      <th rowspan=\"4\" valign=\"top\">Florianópolis</th>\n",
       "      <th>High-technology</th>\n",
       "      <td>2213</td>\n",
       "      <td>2440</td>\n",
       "      <td>2525</td>\n",
       "      <td>2410</td>\n",
       "      <td>2561</td>\n",
       "      <td>2633</td>\n",
       "      <td>2658</td>\n",
       "      <td>2920</td>\n",
       "      <td>2651</td>\n",
       "      <td>2852</td>\n",
       "      <td>3213</td>\n",
       "    </tr>\n",
       "    <tr>\n",
       "      <th>Medium-high-technology</th>\n",
       "      <td>2235</td>\n",
       "      <td>2370</td>\n",
       "      <td>2577</td>\n",
       "      <td>2880</td>\n",
       "      <td>3145</td>\n",
       "      <td>3218</td>\n",
       "      <td>3460</td>\n",
       "      <td>3618</td>\n",
       "      <td>3261</td>\n",
       "      <td>3193</td>\n",
       "      <td>3336</td>\n",
       "    </tr>\n",
       "    <tr>\n",
       "      <th>Medium-low-technology</th>\n",
       "      <td>6504</td>\n",
       "      <td>7048</td>\n",
       "      <td>7333</td>\n",
       "      <td>8460</td>\n",
       "      <td>8884</td>\n",
       "      <td>8962</td>\n",
       "      <td>9142</td>\n",
       "      <td>8594</td>\n",
       "      <td>8094</td>\n",
       "      <td>7615</td>\n",
       "      <td>8129</td>\n",
       "    </tr>\n",
       "    <tr>\n",
       "      <th>Low-technology</th>\n",
       "      <td>8801</td>\n",
       "      <td>9207</td>\n",
       "      <td>9398</td>\n",
       "      <td>10816</td>\n",
       "      <td>11321</td>\n",
       "      <td>11248</td>\n",
       "      <td>11495</td>\n",
       "      <td>11585</td>\n",
       "      <td>11355</td>\n",
       "      <td>10622</td>\n",
       "      <td>12146</td>\n",
       "    </tr>\n",
       "    <tr>\n",
       "      <th rowspan=\"4\" valign=\"top\">Fortaleza</th>\n",
       "      <th>High-technology</th>\n",
       "      <td>2536</td>\n",
       "      <td>2592</td>\n",
       "      <td>2836</td>\n",
       "      <td>3083</td>\n",
       "      <td>3259</td>\n",
       "      <td>2908</td>\n",
       "      <td>2915</td>\n",
       "      <td>2674</td>\n",
       "      <td>2499</td>\n",
       "      <td>2135</td>\n",
       "      <td>2224</td>\n",
       "    </tr>\n",
       "    <tr>\n",
       "      <th>Medium-high-technology</th>\n",
       "      <td>8537</td>\n",
       "      <td>9386</td>\n",
       "      <td>9513</td>\n",
       "      <td>9633</td>\n",
       "      <td>9771</td>\n",
       "      <td>9866</td>\n",
       "      <td>10055</td>\n",
       "      <td>10520</td>\n",
       "      <td>13664</td>\n",
       "      <td>13548</td>\n",
       "      <td>12683</td>\n",
       "    </tr>\n",
       "    <tr>\n",
       "      <th>Medium-low-technology</th>\n",
       "      <td>17535</td>\n",
       "      <td>19190</td>\n",
       "      <td>20358</td>\n",
       "      <td>24146</td>\n",
       "      <td>24677</td>\n",
       "      <td>28227</td>\n",
       "      <td>28676</td>\n",
       "      <td>28838</td>\n",
       "      <td>23091</td>\n",
       "      <td>20646</td>\n",
       "      <td>19654</td>\n",
       "    </tr>\n",
       "    <tr>\n",
       "      <th>Low-technology</th>\n",
       "      <td>89261</td>\n",
       "      <td>93224</td>\n",
       "      <td>98773</td>\n",
       "      <td>106879</td>\n",
       "      <td>105414</td>\n",
       "      <td>106311</td>\n",
       "      <td>105764</td>\n",
       "      <td>105790</td>\n",
       "      <td>97549</td>\n",
       "      <td>89680</td>\n",
       "      <td>87884</td>\n",
       "    </tr>\n",
       "    <tr>\n",
       "      <th rowspan=\"4\" valign=\"top\">Goiânia</th>\n",
       "      <th>High-technology</th>\n",
       "      <td>3277</td>\n",
       "      <td>3045</td>\n",
       "      <td>3429</td>\n",
       "      <td>3604</td>\n",
       "      <td>3396</td>\n",
       "      <td>2884</td>\n",
       "      <td>3359</td>\n",
       "      <td>2997</td>\n",
       "      <td>2790</td>\n",
       "      <td>2640</td>\n",
       "      <td>2471</td>\n",
       "    </tr>\n",
       "    <tr>\n",
       "      <th>Medium-high-technology</th>\n",
       "      <td>6572</td>\n",
       "      <td>7458</td>\n",
       "      <td>7608</td>\n",
       "      <td>9824</td>\n",
       "      <td>10041</td>\n",
       "      <td>9297</td>\n",
       "      <td>9543</td>\n",
       "      <td>9575</td>\n",
       "      <td>9006</td>\n",
       "      <td>10236</td>\n",
       "      <td>10864</td>\n",
       "    </tr>\n",
       "    <tr>\n",
       "      <th>Medium-low-technology</th>\n",
       "      <td>10975</td>\n",
       "      <td>11953</td>\n",
       "      <td>12188</td>\n",
       "      <td>14229</td>\n",
       "      <td>16236</td>\n",
       "      <td>17018</td>\n",
       "      <td>17199</td>\n",
       "      <td>17609</td>\n",
       "      <td>15862</td>\n",
       "      <td>13709</td>\n",
       "      <td>13720</td>\n",
       "    </tr>\n",
       "    <tr>\n",
       "      <th>Low-technology</th>\n",
       "      <td>44858</td>\n",
       "      <td>45991</td>\n",
       "      <td>47187</td>\n",
       "      <td>50599</td>\n",
       "      <td>52157</td>\n",
       "      <td>56382</td>\n",
       "      <td>59179</td>\n",
       "      <td>58486</td>\n",
       "      <td>55081</td>\n",
       "      <td>50518</td>\n",
       "      <td>49824</td>\n",
       "    </tr>\n",
       "    <tr>\n",
       "      <th rowspan=\"4\" valign=\"top\">Manaus</th>\n",
       "      <th>High-technology</th>\n",
       "      <td>36928</td>\n",
       "      <td>30074</td>\n",
       "      <td>26798</td>\n",
       "      <td>32777</td>\n",
       "      <td>41823</td>\n",
       "      <td>42168</td>\n",
       "      <td>46980</td>\n",
       "      <td>38615</td>\n",
       "      <td>26894</td>\n",
       "      <td>27322</td>\n",
       "      <td>27844</td>\n",
       "    </tr>\n",
       "    <tr>\n",
       "      <th>Medium-high-technology</th>\n",
       "      <td>28953</td>\n",
       "      <td>34781</td>\n",
       "      <td>33397</td>\n",
       "      <td>35491</td>\n",
       "      <td>40416</td>\n",
       "      <td>35871</td>\n",
       "      <td>38072</td>\n",
       "      <td>38623</td>\n",
       "      <td>32864</td>\n",
       "      <td>28174</td>\n",
       "      <td>26981</td>\n",
       "    </tr>\n",
       "    <tr>\n",
       "      <th>Medium-low-technology</th>\n",
       "      <td>22321</td>\n",
       "      <td>23327</td>\n",
       "      <td>22697</td>\n",
       "      <td>24759</td>\n",
       "      <td>26110</td>\n",
       "      <td>24723</td>\n",
       "      <td>26312</td>\n",
       "      <td>26510</td>\n",
       "      <td>21043</td>\n",
       "      <td>18511</td>\n",
       "      <td>18464</td>\n",
       "    </tr>\n",
       "    <tr>\n",
       "      <th>Low-technology</th>\n",
       "      <td>12227</td>\n",
       "      <td>12676</td>\n",
       "      <td>12469</td>\n",
       "      <td>13512</td>\n",
       "      <td>14734</td>\n",
       "      <td>15935</td>\n",
       "      <td>17142</td>\n",
       "      <td>16252</td>\n",
       "      <td>15739</td>\n",
       "      <td>13746</td>\n",
       "      <td>13816</td>\n",
       "    </tr>\n",
       "    <tr>\n",
       "      <th rowspan=\"4\" valign=\"top\">Porto Alegre</th>\n",
       "      <th>High-technology</th>\n",
       "      <td>9559</td>\n",
       "      <td>10094</td>\n",
       "      <td>10729</td>\n",
       "      <td>11924</td>\n",
       "      <td>12370</td>\n",
       "      <td>10762</td>\n",
       "      <td>11186</td>\n",
       "      <td>10738</td>\n",
       "      <td>9865</td>\n",
       "      <td>8721</td>\n",
       "      <td>8619</td>\n",
       "    </tr>\n",
       "    <tr>\n",
       "      <th>Medium-high-technology</th>\n",
       "      <td>45603</td>\n",
       "      <td>48069</td>\n",
       "      <td>45483</td>\n",
       "      <td>51747</td>\n",
       "      <td>53631</td>\n",
       "      <td>53682</td>\n",
       "      <td>58079</td>\n",
       "      <td>53858</td>\n",
       "      <td>48598</td>\n",
       "      <td>42141</td>\n",
       "      <td>42699</td>\n",
       "    </tr>\n",
       "    <tr>\n",
       "      <th>Medium-low-technology</th>\n",
       "      <td>54781</td>\n",
       "      <td>56140</td>\n",
       "      <td>55358</td>\n",
       "      <td>59122</td>\n",
       "      <td>61222</td>\n",
       "      <td>58749</td>\n",
       "      <td>56960</td>\n",
       "      <td>54696</td>\n",
       "      <td>47011</td>\n",
       "      <td>46024</td>\n",
       "      <td>45473</td>\n",
       "    </tr>\n",
       "    <tr>\n",
       "      <th>Low-technology</th>\n",
       "      <td>113131</td>\n",
       "      <td>108419</td>\n",
       "      <td>110241</td>\n",
       "      <td>118785</td>\n",
       "      <td>115217</td>\n",
       "      <td>114373</td>\n",
       "      <td>113245</td>\n",
       "      <td>109222</td>\n",
       "      <td>102628</td>\n",
       "      <td>101853</td>\n",
       "      <td>97153</td>\n",
       "    </tr>\n",
       "    <tr>\n",
       "      <th rowspan=\"4\" valign=\"top\">Recife</th>\n",
       "      <th>High-technology</th>\n",
       "      <td>1109</td>\n",
       "      <td>764</td>\n",
       "      <td>1205</td>\n",
       "      <td>1286</td>\n",
       "      <td>1293</td>\n",
       "      <td>1177</td>\n",
       "      <td>1210</td>\n",
       "      <td>1172</td>\n",
       "      <td>1113</td>\n",
       "      <td>981</td>\n",
       "      <td>1004</td>\n",
       "    </tr>\n",
       "    <tr>\n",
       "      <th>Medium-high-technology</th>\n",
       "      <td>12729</td>\n",
       "      <td>14653</td>\n",
       "      <td>14861</td>\n",
       "      <td>15753</td>\n",
       "      <td>18364</td>\n",
       "      <td>20307</td>\n",
       "      <td>21387</td>\n",
       "      <td>17558</td>\n",
       "      <td>16760</td>\n",
       "      <td>16597</td>\n",
       "      <td>16445</td>\n",
       "    </tr>\n",
       "    <tr>\n",
       "      <th>Medium-low-technology</th>\n",
       "      <td>21493</td>\n",
       "      <td>23452</td>\n",
       "      <td>26815</td>\n",
       "      <td>30136</td>\n",
       "      <td>32621</td>\n",
       "      <td>34528</td>\n",
       "      <td>39709</td>\n",
       "      <td>35074</td>\n",
       "      <td>31448</td>\n",
       "      <td>28723</td>\n",
       "      <td>28210</td>\n",
       "    </tr>\n",
       "    <tr>\n",
       "      <th>Low-technology</th>\n",
       "      <td>49818</td>\n",
       "      <td>51587</td>\n",
       "      <td>52979</td>\n",
       "      <td>53979</td>\n",
       "      <td>52650</td>\n",
       "      <td>56753</td>\n",
       "      <td>54643</td>\n",
       "      <td>59283</td>\n",
       "      <td>54205</td>\n",
       "      <td>49971</td>\n",
       "      <td>49099</td>\n",
       "    </tr>\n",
       "    <tr>\n",
       "      <th rowspan=\"4\" valign=\"top\">Rio de Janeiro</th>\n",
       "      <th>High-technology</th>\n",
       "      <td>10833</td>\n",
       "      <td>12082</td>\n",
       "      <td>12322</td>\n",
       "      <td>12879</td>\n",
       "      <td>12576</td>\n",
       "      <td>12347</td>\n",
       "      <td>11179</td>\n",
       "      <td>11919</td>\n",
       "      <td>10984</td>\n",
       "      <td>10353</td>\n",
       "      <td>11130</td>\n",
       "    </tr>\n",
       "    <tr>\n",
       "      <th>Medium-high-technology</th>\n",
       "      <td>40236</td>\n",
       "      <td>42331</td>\n",
       "      <td>39918</td>\n",
       "      <td>42698</td>\n",
       "      <td>42925</td>\n",
       "      <td>42819</td>\n",
       "      <td>45796</td>\n",
       "      <td>44240</td>\n",
       "      <td>38613</td>\n",
       "      <td>33734</td>\n",
       "      <td>29629</td>\n",
       "    </tr>\n",
       "    <tr>\n",
       "      <th>Medium-low-technology</th>\n",
       "      <td>69089</td>\n",
       "      <td>76903</td>\n",
       "      <td>76651</td>\n",
       "      <td>96024</td>\n",
       "      <td>102165</td>\n",
       "      <td>106110</td>\n",
       "      <td>110540</td>\n",
       "      <td>110713</td>\n",
       "      <td>92980</td>\n",
       "      <td>78471</td>\n",
       "      <td>71987</td>\n",
       "    </tr>\n",
       "    <tr>\n",
       "      <th>Low-technology</th>\n",
       "      <td>94510</td>\n",
       "      <td>90167</td>\n",
       "      <td>94043</td>\n",
       "      <td>99758</td>\n",
       "      <td>101434</td>\n",
       "      <td>102549</td>\n",
       "      <td>97912</td>\n",
       "      <td>97351</td>\n",
       "      <td>90158</td>\n",
       "      <td>82379</td>\n",
       "      <td>77013</td>\n",
       "    </tr>\n",
       "    <tr>\n",
       "      <th rowspan=\"4\" valign=\"top\">Salvador</th>\n",
       "      <th>High-technology</th>\n",
       "      <td>1578</td>\n",
       "      <td>1424</td>\n",
       "      <td>1234</td>\n",
       "      <td>1448</td>\n",
       "      <td>1801</td>\n",
       "      <td>1845</td>\n",
       "      <td>1502</td>\n",
       "      <td>1181</td>\n",
       "      <td>927</td>\n",
       "      <td>801</td>\n",
       "      <td>649</td>\n",
       "    </tr>\n",
       "    <tr>\n",
       "      <th>Medium-high-technology</th>\n",
       "      <td>21282</td>\n",
       "      <td>21118</td>\n",
       "      <td>19991</td>\n",
       "      <td>21538</td>\n",
       "      <td>21742</td>\n",
       "      <td>23878</td>\n",
       "      <td>24747</td>\n",
       "      <td>22704</td>\n",
       "      <td>22845</td>\n",
       "      <td>20647</td>\n",
       "      <td>20799</td>\n",
       "    </tr>\n",
       "    <tr>\n",
       "      <th>Medium-low-technology</th>\n",
       "      <td>25266</td>\n",
       "      <td>24981</td>\n",
       "      <td>27009</td>\n",
       "      <td>30109</td>\n",
       "      <td>33633</td>\n",
       "      <td>32664</td>\n",
       "      <td>33144</td>\n",
       "      <td>31270</td>\n",
       "      <td>28913</td>\n",
       "      <td>27225</td>\n",
       "      <td>26336</td>\n",
       "    </tr>\n",
       "    <tr>\n",
       "      <th>Low-technology</th>\n",
       "      <td>22821</td>\n",
       "      <td>23233</td>\n",
       "      <td>24423</td>\n",
       "      <td>26308</td>\n",
       "      <td>27566</td>\n",
       "      <td>28621</td>\n",
       "      <td>29544</td>\n",
       "      <td>29412</td>\n",
       "      <td>27396</td>\n",
       "      <td>26819</td>\n",
       "      <td>25842</td>\n",
       "    </tr>\n",
       "    <tr>\n",
       "      <th rowspan=\"4\" valign=\"top\">São Paulo</th>\n",
       "      <th>High-technology</th>\n",
       "      <td>67009</td>\n",
       "      <td>71647</td>\n",
       "      <td>68933</td>\n",
       "      <td>69852</td>\n",
       "      <td>69954</td>\n",
       "      <td>68672</td>\n",
       "      <td>67050</td>\n",
       "      <td>65252</td>\n",
       "      <td>62408</td>\n",
       "      <td>58103</td>\n",
       "      <td>56132</td>\n",
       "    </tr>\n",
       "    <tr>\n",
       "      <th>Medium-high-technology</th>\n",
       "      <td>343099</td>\n",
       "      <td>361913</td>\n",
       "      <td>350185</td>\n",
       "      <td>378392</td>\n",
       "      <td>378546</td>\n",
       "      <td>360606</td>\n",
       "      <td>365339</td>\n",
       "      <td>347007</td>\n",
       "      <td>305817</td>\n",
       "      <td>277479</td>\n",
       "      <td>262361</td>\n",
       "    </tr>\n",
       "    <tr>\n",
       "      <th>Medium-low-technology</th>\n",
       "      <td>308656</td>\n",
       "      <td>314389</td>\n",
       "      <td>303328</td>\n",
       "      <td>323726</td>\n",
       "      <td>321984</td>\n",
       "      <td>316323</td>\n",
       "      <td>309259</td>\n",
       "      <td>289370</td>\n",
       "      <td>251968</td>\n",
       "      <td>234148</td>\n",
       "      <td>229724</td>\n",
       "    </tr>\n",
       "    <tr>\n",
       "      <th>Low-technology</th>\n",
       "      <td>332736</td>\n",
       "      <td>334918</td>\n",
       "      <td>329884</td>\n",
       "      <td>350157</td>\n",
       "      <td>346851</td>\n",
       "      <td>346011</td>\n",
       "      <td>343612</td>\n",
       "      <td>331221</td>\n",
       "      <td>302623</td>\n",
       "      <td>282186</td>\n",
       "      <td>267415</td>\n",
       "    </tr>\n",
       "    <tr>\n",
       "      <th rowspan=\"4\" valign=\"top\">Vitória</th>\n",
       "      <th>High-technology</th>\n",
       "      <td>239</td>\n",
       "      <td>232</td>\n",
       "      <td>225</td>\n",
       "      <td>232</td>\n",
       "      <td>275</td>\n",
       "      <td>254</td>\n",
       "      <td>278</td>\n",
       "      <td>244</td>\n",
       "      <td>252</td>\n",
       "      <td>253</td>\n",
       "      <td>276</td>\n",
       "    </tr>\n",
       "    <tr>\n",
       "      <th>Medium-high-technology</th>\n",
       "      <td>3436</td>\n",
       "      <td>3624</td>\n",
       "      <td>3641</td>\n",
       "      <td>4252</td>\n",
       "      <td>4661</td>\n",
       "      <td>4487</td>\n",
       "      <td>4379</td>\n",
       "      <td>4441</td>\n",
       "      <td>3911</td>\n",
       "      <td>3826</td>\n",
       "      <td>3650</td>\n",
       "    </tr>\n",
       "    <tr>\n",
       "      <th>Medium-low-technology</th>\n",
       "      <td>21710</td>\n",
       "      <td>24689</td>\n",
       "      <td>21600</td>\n",
       "      <td>23943</td>\n",
       "      <td>24724</td>\n",
       "      <td>25057</td>\n",
       "      <td>24421</td>\n",
       "      <td>24680</td>\n",
       "      <td>23674</td>\n",
       "      <td>21518</td>\n",
       "      <td>21245</td>\n",
       "    </tr>\n",
       "    <tr>\n",
       "      <th>Low-technology</th>\n",
       "      <td>17521</td>\n",
       "      <td>17399</td>\n",
       "      <td>17951</td>\n",
       "      <td>19432</td>\n",
       "      <td>20224</td>\n",
       "      <td>19667</td>\n",
       "      <td>18965</td>\n",
       "      <td>19383</td>\n",
       "      <td>18263</td>\n",
       "      <td>16789</td>\n",
       "      <td>17040</td>\n",
       "    </tr>\n",
       "    <tr>\n",
       "      <th rowspan=\"4\" valign=\"top\">Total</th>\n",
       "      <th>High-technology</th>\n",
       "      <td>164288</td>\n",
       "      <td>167398</td>\n",
       "      <td>164341</td>\n",
       "      <td>174217</td>\n",
       "      <td>183877</td>\n",
       "      <td>182406</td>\n",
       "      <td>184921</td>\n",
       "      <td>172629</td>\n",
       "      <td>151805</td>\n",
       "      <td>144281</td>\n",
       "      <td>142367</td>\n",
       "    </tr>\n",
       "    <tr>\n",
       "      <th>Medium-high-technology</th>\n",
       "      <td>690452</td>\n",
       "      <td>730413</td>\n",
       "      <td>710877</td>\n",
       "      <td>778518</td>\n",
       "      <td>800751</td>\n",
       "      <td>786711</td>\n",
       "      <td>799249</td>\n",
       "      <td>757423</td>\n",
       "      <td>671752</td>\n",
       "      <td>611803</td>\n",
       "      <td>588090</td>\n",
       "    </tr>\n",
       "    <tr>\n",
       "      <th>Medium-low-technology</th>\n",
       "      <td>703736</td>\n",
       "      <td>739059</td>\n",
       "      <td>727194</td>\n",
       "      <td>804056</td>\n",
       "      <td>827750</td>\n",
       "      <td>827127</td>\n",
       "      <td>828033</td>\n",
       "      <td>798175</td>\n",
       "      <td>696144</td>\n",
       "      <td>637403</td>\n",
       "      <td>621756</td>\n",
       "    </tr>\n",
       "    <tr>\n",
       "      <th>Low-technology</th>\n",
       "      <td>962149</td>\n",
       "      <td>963417</td>\n",
       "      <td>972416</td>\n",
       "      <td>1039622</td>\n",
       "      <td>1033209</td>\n",
       "      <td>1048073</td>\n",
       "      <td>1035553</td>\n",
       "      <td>1020495</td>\n",
       "      <td>948281</td>\n",
       "      <td>889391</td>\n",
       "      <td>859832</td>\n",
       "    </tr>\n",
       "  </tbody>\n",
       "</table>\n",
       "</div>"
      ],
      "text/plain": [
       "                                               2007    2008    2009     2010  \\\n",
       "Espaço Metropolitano Nível Tecnológico                                         \n",
       "Belo Horizonte       High-technology           7278    8625    8512     8813   \n",
       "                     Medium-high-technology   58136   60591   59414    68704   \n",
       "                     Medium-low-technology    66479   69961   67145    75240   \n",
       "                     Low-technology           58058   58965   58437    62727   \n",
       "Belém                High-technology            147      96      66       22   \n",
       "                     Medium-high-technology    1327    1709    1620     1992   \n",
       "                     Medium-low-technology     4146    5038    5125     5590   \n",
       "                     Low-technology           20201   17668   16507    17687   \n",
       "Brasília             High-technology           1028    1466    1407     1468   \n",
       "                     Medium-high-technology    2943    3272    3308     3084   \n",
       "                     Medium-low-technology     5354    6030    6711     7985   \n",
       "                     Low-technology           16712   17493   18056    20370   \n",
       "Campinas             High-technology          12150   12886   11906    13782   \n",
       "                     Medium-high-technology   51371   52767   51983    57243   \n",
       "                     Medium-low-technology    23780   27727   26889    28646   \n",
       "                     Low-technology           26598   27002   27489    29895   \n",
       "Curitiba             High-technology           8404    9931   12214    10637   \n",
       "                     Medium-high-technology   63993   66371   67378    75287   \n",
       "                     Medium-low-technology    45647   48231   47987    51941   \n",
       "                     Low-technology           54896   55468   54579    58718   \n",
       "Florianópolis        High-technology           2213    2440    2525     2410   \n",
       "                     Medium-high-technology    2235    2370    2577     2880   \n",
       "                     Medium-low-technology     6504    7048    7333     8460   \n",
       "                     Low-technology            8801    9207    9398    10816   \n",
       "Fortaleza            High-technology           2536    2592    2836     3083   \n",
       "                     Medium-high-technology    8537    9386    9513     9633   \n",
       "                     Medium-low-technology    17535   19190   20358    24146   \n",
       "                     Low-technology           89261   93224   98773   106879   \n",
       "Goiânia              High-technology           3277    3045    3429     3604   \n",
       "                     Medium-high-technology    6572    7458    7608     9824   \n",
       "                     Medium-low-technology    10975   11953   12188    14229   \n",
       "                     Low-technology           44858   45991   47187    50599   \n",
       "Manaus               High-technology          36928   30074   26798    32777   \n",
       "                     Medium-high-technology   28953   34781   33397    35491   \n",
       "                     Medium-low-technology    22321   23327   22697    24759   \n",
       "                     Low-technology           12227   12676   12469    13512   \n",
       "Porto Alegre         High-technology           9559   10094   10729    11924   \n",
       "                     Medium-high-technology   45603   48069   45483    51747   \n",
       "                     Medium-low-technology    54781   56140   55358    59122   \n",
       "                     Low-technology          113131  108419  110241   118785   \n",
       "Recife               High-technology           1109     764    1205     1286   \n",
       "                     Medium-high-technology   12729   14653   14861    15753   \n",
       "                     Medium-low-technology    21493   23452   26815    30136   \n",
       "                     Low-technology           49818   51587   52979    53979   \n",
       "Rio de Janeiro       High-technology          10833   12082   12322    12879   \n",
       "                     Medium-high-technology   40236   42331   39918    42698   \n",
       "                     Medium-low-technology    69089   76903   76651    96024   \n",
       "                     Low-technology           94510   90167   94043    99758   \n",
       "Salvador             High-technology           1578    1424    1234     1448   \n",
       "                     Medium-high-technology   21282   21118   19991    21538   \n",
       "                     Medium-low-technology    25266   24981   27009    30109   \n",
       "                     Low-technology           22821   23233   24423    26308   \n",
       "São Paulo            High-technology          67009   71647   68933    69852   \n",
       "                     Medium-high-technology  343099  361913  350185   378392   \n",
       "                     Medium-low-technology   308656  314389  303328   323726   \n",
       "                     Low-technology          332736  334918  329884   350157   \n",
       "Vitória              High-technology            239     232     225      232   \n",
       "                     Medium-high-technology    3436    3624    3641     4252   \n",
       "                     Medium-low-technology    21710   24689   21600    23943   \n",
       "                     Low-technology           17521   17399   17951    19432   \n",
       "Total                High-technology         164288  167398  164341   174217   \n",
       "                     Medium-high-technology  690452  730413  710877   778518   \n",
       "                     Medium-low-technology   703736  739059  727194   804056   \n",
       "                     Low-technology          962149  963417  972416  1039622   \n",
       "\n",
       "                                                2011     2012     2013  \\\n",
       "Espaço Metropolitano Nível Tecnológico                                   \n",
       "Belo Horizonte       High-technology            8249     8500     8017   \n",
       "                     Medium-high-technology    73106    78247    78552   \n",
       "                     Medium-low-technology     77450    76156    73031   \n",
       "                     Low-technology            60275    63450    61783   \n",
       "Belém                High-technology              23       18       47   \n",
       "                     Medium-high-technology     1961     1929     2100   \n",
       "                     Medium-low-technology      5511     5565     5698   \n",
       "                     Low-technology            16400    16402    16320   \n",
       "Brasília             High-technology            1638     1683     2042   \n",
       "                     Medium-high-technology     3333     3757     3346   \n",
       "                     Medium-low-technology      8740     9728     9703   \n",
       "                     Low-technology            20280    22184    19485   \n",
       "Campinas             High-technology           15404    16826    16793   \n",
       "                     Medium-high-technology    57560    56033    53845   \n",
       "                     Medium-low-technology     30276    29087    29184   \n",
       "                     Low-technology            30022    31156    29492   \n",
       "Curitiba             High-technology            9255     9729     9705   \n",
       "                     Medium-high-technology    81549    82714    80549   \n",
       "                     Medium-low-technology     53517    54230    55055   \n",
       "                     Low-technology            58664    57031    56972   \n",
       "Florianópolis        High-technology            2561     2633     2658   \n",
       "                     Medium-high-technology     3145     3218     3460   \n",
       "                     Medium-low-technology      8884     8962     9142   \n",
       "                     Low-technology            11321    11248    11495   \n",
       "Fortaleza            High-technology            3259     2908     2915   \n",
       "                     Medium-high-technology     9771     9866    10055   \n",
       "                     Medium-low-technology     24677    28227    28676   \n",
       "                     Low-technology           105414   106311   105764   \n",
       "Goiânia              High-technology            3396     2884     3359   \n",
       "                     Medium-high-technology    10041     9297     9543   \n",
       "                     Medium-low-technology     16236    17018    17199   \n",
       "                     Low-technology            52157    56382    59179   \n",
       "Manaus               High-technology           41823    42168    46980   \n",
       "                     Medium-high-technology    40416    35871    38072   \n",
       "                     Medium-low-technology     26110    24723    26312   \n",
       "                     Low-technology            14734    15935    17142   \n",
       "Porto Alegre         High-technology           12370    10762    11186   \n",
       "                     Medium-high-technology    53631    53682    58079   \n",
       "                     Medium-low-technology     61222    58749    56960   \n",
       "                     Low-technology           115217   114373   113245   \n",
       "Recife               High-technology            1293     1177     1210   \n",
       "                     Medium-high-technology    18364    20307    21387   \n",
       "                     Medium-low-technology     32621    34528    39709   \n",
       "                     Low-technology            52650    56753    54643   \n",
       "Rio de Janeiro       High-technology           12576    12347    11179   \n",
       "                     Medium-high-technology    42925    42819    45796   \n",
       "                     Medium-low-technology    102165   106110   110540   \n",
       "                     Low-technology           101434   102549    97912   \n",
       "Salvador             High-technology            1801     1845     1502   \n",
       "                     Medium-high-technology    21742    23878    24747   \n",
       "                     Medium-low-technology     33633    32664    33144   \n",
       "                     Low-technology            27566    28621    29544   \n",
       "São Paulo            High-technology           69954    68672    67050   \n",
       "                     Medium-high-technology   378546   360606   365339   \n",
       "                     Medium-low-technology    321984   316323   309259   \n",
       "                     Low-technology           346851   346011   343612   \n",
       "Vitória              High-technology             275      254      278   \n",
       "                     Medium-high-technology     4661     4487     4379   \n",
       "                     Medium-low-technology     24724    25057    24421   \n",
       "                     Low-technology            20224    19667    18965   \n",
       "Total                High-technology          183877   182406   184921   \n",
       "                     Medium-high-technology   800751   786711   799249   \n",
       "                     Medium-low-technology    827750   827127   828033   \n",
       "                     Low-technology          1033209  1048073  1035553   \n",
       "\n",
       "                                                2014    2015    2016    2017  \n",
       "Espaço Metropolitano Nível Tecnológico                                        \n",
       "Belo Horizonte       High-technology            8323    7396    7404    7030  \n",
       "                     Medium-high-technology    73961   59606   51904   49110  \n",
       "                     Medium-low-technology     71784   63488   56345   54626  \n",
       "                     Low-technology            59125   56222   53226   53753  \n",
       "Belém                High-technology              46      42       4      16  \n",
       "                     Medium-high-technology     2230    2261    2222    2236  \n",
       "                     Medium-low-technology      6256    5103    4695    4587  \n",
       "                     Low-technology            16984   16435   15142   15508  \n",
       "Brasília             High-technology            2020    2143    2177    1728  \n",
       "                     Medium-high-technology     3513    2892    2798    2819  \n",
       "                     Medium-low-technology      9248    8268    7515    7501  \n",
       "                     Low-technology            19138   19833   18900   18527  \n",
       "Campinas             High-technology           15641   14461   14369   13910  \n",
       "                     Medium-high-technology    51809   46898   44463   42724  \n",
       "                     Medium-low-technology     30595   26523   26766   26969  \n",
       "                     Low-technology            31324   29574   28816   28784  \n",
       "Curitiba             High-technology            8887    7380    6166    6121  \n",
       "                     Medium-high-technology    73766   64756   60841   61754  \n",
       "                     Medium-low-technology     52938   48678   45492   45131  \n",
       "                     Low-technology            55939   51220   48744   46028  \n",
       "Florianópolis        High-technology            2920    2651    2852    3213  \n",
       "                     Medium-high-technology     3618    3261    3193    3336  \n",
       "                     Medium-low-technology      8594    8094    7615    8129  \n",
       "                     Low-technology            11585   11355   10622   12146  \n",
       "Fortaleza            High-technology            2674    2499    2135    2224  \n",
       "                     Medium-high-technology    10520   13664   13548   12683  \n",
       "                     Medium-low-technology     28838   23091   20646   19654  \n",
       "                     Low-technology           105790   97549   89680   87884  \n",
       "Goiânia              High-technology            2997    2790    2640    2471  \n",
       "                     Medium-high-technology     9575    9006   10236   10864  \n",
       "                     Medium-low-technology     17609   15862   13709   13720  \n",
       "                     Low-technology            58486   55081   50518   49824  \n",
       "Manaus               High-technology           38615   26894   27322   27844  \n",
       "                     Medium-high-technology    38623   32864   28174   26981  \n",
       "                     Medium-low-technology     26510   21043   18511   18464  \n",
       "                     Low-technology            16252   15739   13746   13816  \n",
       "Porto Alegre         High-technology           10738    9865    8721    8619  \n",
       "                     Medium-high-technology    53858   48598   42141   42699  \n",
       "                     Medium-low-technology     54696   47011   46024   45473  \n",
       "                     Low-technology           109222  102628  101853   97153  \n",
       "Recife               High-technology            1172    1113     981    1004  \n",
       "                     Medium-high-technology    17558   16760   16597   16445  \n",
       "                     Medium-low-technology     35074   31448   28723   28210  \n",
       "                     Low-technology            59283   54205   49971   49099  \n",
       "Rio de Janeiro       High-technology           11919   10984   10353   11130  \n",
       "                     Medium-high-technology    44240   38613   33734   29629  \n",
       "                     Medium-low-technology    110713   92980   78471   71987  \n",
       "                     Low-technology            97351   90158   82379   77013  \n",
       "Salvador             High-technology            1181     927     801     649  \n",
       "                     Medium-high-technology    22704   22845   20647   20799  \n",
       "                     Medium-low-technology     31270   28913   27225   26336  \n",
       "                     Low-technology            29412   27396   26819   25842  \n",
       "São Paulo            High-technology           65252   62408   58103   56132  \n",
       "                     Medium-high-technology   347007  305817  277479  262361  \n",
       "                     Medium-low-technology    289370  251968  234148  229724  \n",
       "                     Low-technology           331221  302623  282186  267415  \n",
       "Vitória              High-technology             244     252     253     276  \n",
       "                     Medium-high-technology     4441    3911    3826    3650  \n",
       "                     Medium-low-technology     24680   23674   21518   21245  \n",
       "                     Low-technology            19383   18263   16789   17040  \n",
       "Total                High-technology          172629  151805  144281  142367  \n",
       "                     Medium-high-technology   757423  671752  611803  588090  \n",
       "                     Medium-low-technology    798175  696144  637403  621756  \n",
       "                     Low-technology          1020495  948281  889391  859832  "
      ]
     },
     "metadata": {},
     "output_type": "display_data"
    }
   ],
   "source": [
    "df_evolution = ind.ind_tech_level_evolution_table(total=True, save_feather=False)\n",
    "df_evolution"
   ]
  },
  {
   "cell_type": "code",
   "execution_count": 8,
   "metadata": {
    "ExecuteTime": {
     "end_time": "2020-10-14T11:06:50.300765Z",
     "start_time": "2020-10-14T11:06:50.192888Z"
    },
    "hide_input": true
   },
   "outputs": [
    {
     "data": {
      "application/vnd.plotly.v1+json": {
       "config": {
        "plotlyServerURL": "https://plot.ly"
       },
       "data": [
        {
         "hovertemplate": "Nível Tecnológico=Alto<br>Ano=%{x}<br>Pessoal=%{y}<extra></extra>",
         "legendgroup": "Alto",
         "line": {
          "color": "rgb(103,0,31)",
          "dash": "solid"
         },
         "mode": "lines",
         "name": "Alto",
         "orientation": "v",
         "showlegend": true,
         "type": "scatter",
         "x": [
          "2007",
          "2008",
          "2009",
          "2010",
          "2011",
          "2012",
          "2013",
          "2014",
          "2015",
          "2016",
          "2017"
         ],
         "xaxis": "x",
         "y": [
          164288,
          167398,
          164341,
          174217,
          183877,
          182406,
          184921,
          172629,
          151805,
          144281,
          142367
         ],
         "yaxis": "y"
        },
        {
         "hovertemplate": "Nível Tecnológico=Médio-Alto<br>Ano=%{x}<br>Pessoal=%{y}<extra></extra>",
         "legendgroup": "Médio-Alto",
         "line": {
          "color": "rgb(178,24,43)",
          "dash": "solid"
         },
         "mode": "lines",
         "name": "Médio-Alto",
         "orientation": "v",
         "showlegend": true,
         "type": "scatter",
         "x": [
          "2007",
          "2008",
          "2009",
          "2010",
          "2011",
          "2012",
          "2013",
          "2014",
          "2015",
          "2016",
          "2017"
         ],
         "xaxis": "x",
         "y": [
          690452,
          730413,
          710877,
          778518,
          800751,
          786711,
          799249,
          757423,
          671752,
          611803,
          588090
         ],
         "yaxis": "y"
        },
        {
         "hovertemplate": "Nível Tecnológico=Médio-Baixo<br>Ano=%{x}<br>Pessoal=%{y}<extra></extra>",
         "legendgroup": "Médio-Baixo",
         "line": {
          "color": "rgb(214,96,77)",
          "dash": "solid"
         },
         "mode": "lines",
         "name": "Médio-Baixo",
         "orientation": "v",
         "showlegend": true,
         "type": "scatter",
         "x": [
          "2007",
          "2008",
          "2009",
          "2010",
          "2011",
          "2012",
          "2013",
          "2014",
          "2015",
          "2016",
          "2017"
         ],
         "xaxis": "x",
         "y": [
          703736,
          739059,
          727194,
          804056,
          827750,
          827127,
          828033,
          798175,
          696144,
          637403,
          621756
         ],
         "yaxis": "y"
        },
        {
         "hovertemplate": "Nível Tecnológico=Baixo<br>Ano=%{x}<br>Pessoal=%{y}<extra></extra>",
         "legendgroup": "Baixo",
         "line": {
          "color": "rgb(244,165,130)",
          "dash": "solid"
         },
         "mode": "lines",
         "name": "Baixo",
         "orientation": "v",
         "showlegend": true,
         "type": "scatter",
         "x": [
          "2007",
          "2008",
          "2009",
          "2010",
          "2011",
          "2012",
          "2013",
          "2014",
          "2015",
          "2016",
          "2017"
         ],
         "xaxis": "x",
         "y": [
          962149,
          963417,
          972416,
          1039622,
          1033209,
          1048073,
          1035553,
          1020495,
          948281,
          889391,
          859832
         ],
         "yaxis": "y"
        }
       ],
       "layout": {
        "autosize": true,
        "legend": {
         "title": {
          "text": "Nível Tecnológico"
         },
         "tracegroupgap": 0
        },
        "template": {
         "data": {
          "bar": [
           {
            "error_x": {
             "color": "#2a3f5f"
            },
            "error_y": {
             "color": "#2a3f5f"
            },
            "marker": {
             "line": {
              "color": "#E5ECF6",
              "width": 0.5
             }
            },
            "type": "bar"
           }
          ],
          "barpolar": [
           {
            "marker": {
             "line": {
              "color": "#E5ECF6",
              "width": 0.5
             }
            },
            "type": "barpolar"
           }
          ],
          "carpet": [
           {
            "aaxis": {
             "endlinecolor": "#2a3f5f",
             "gridcolor": "white",
             "linecolor": "white",
             "minorgridcolor": "white",
             "startlinecolor": "#2a3f5f"
            },
            "baxis": {
             "endlinecolor": "#2a3f5f",
             "gridcolor": "white",
             "linecolor": "white",
             "minorgridcolor": "white",
             "startlinecolor": "#2a3f5f"
            },
            "type": "carpet"
           }
          ],
          "choropleth": [
           {
            "colorbar": {
             "outlinewidth": 0,
             "ticks": ""
            },
            "type": "choropleth"
           }
          ],
          "contour": [
           {
            "colorbar": {
             "outlinewidth": 0,
             "ticks": ""
            },
            "colorscale": [
             [
              0,
              "#0d0887"
             ],
             [
              0.1111111111111111,
              "#46039f"
             ],
             [
              0.2222222222222222,
              "#7201a8"
             ],
             [
              0.3333333333333333,
              "#9c179e"
             ],
             [
              0.4444444444444444,
              "#bd3786"
             ],
             [
              0.5555555555555556,
              "#d8576b"
             ],
             [
              0.6666666666666666,
              "#ed7953"
             ],
             [
              0.7777777777777778,
              "#fb9f3a"
             ],
             [
              0.8888888888888888,
              "#fdca26"
             ],
             [
              1,
              "#f0f921"
             ]
            ],
            "type": "contour"
           }
          ],
          "contourcarpet": [
           {
            "colorbar": {
             "outlinewidth": 0,
             "ticks": ""
            },
            "type": "contourcarpet"
           }
          ],
          "heatmap": [
           {
            "colorbar": {
             "outlinewidth": 0,
             "ticks": ""
            },
            "colorscale": [
             [
              0,
              "#0d0887"
             ],
             [
              0.1111111111111111,
              "#46039f"
             ],
             [
              0.2222222222222222,
              "#7201a8"
             ],
             [
              0.3333333333333333,
              "#9c179e"
             ],
             [
              0.4444444444444444,
              "#bd3786"
             ],
             [
              0.5555555555555556,
              "#d8576b"
             ],
             [
              0.6666666666666666,
              "#ed7953"
             ],
             [
              0.7777777777777778,
              "#fb9f3a"
             ],
             [
              0.8888888888888888,
              "#fdca26"
             ],
             [
              1,
              "#f0f921"
             ]
            ],
            "type": "heatmap"
           }
          ],
          "heatmapgl": [
           {
            "colorbar": {
             "outlinewidth": 0,
             "ticks": ""
            },
            "colorscale": [
             [
              0,
              "#0d0887"
             ],
             [
              0.1111111111111111,
              "#46039f"
             ],
             [
              0.2222222222222222,
              "#7201a8"
             ],
             [
              0.3333333333333333,
              "#9c179e"
             ],
             [
              0.4444444444444444,
              "#bd3786"
             ],
             [
              0.5555555555555556,
              "#d8576b"
             ],
             [
              0.6666666666666666,
              "#ed7953"
             ],
             [
              0.7777777777777778,
              "#fb9f3a"
             ],
             [
              0.8888888888888888,
              "#fdca26"
             ],
             [
              1,
              "#f0f921"
             ]
            ],
            "type": "heatmapgl"
           }
          ],
          "histogram": [
           {
            "marker": {
             "colorbar": {
              "outlinewidth": 0,
              "ticks": ""
             }
            },
            "type": "histogram"
           }
          ],
          "histogram2d": [
           {
            "colorbar": {
             "outlinewidth": 0,
             "ticks": ""
            },
            "colorscale": [
             [
              0,
              "#0d0887"
             ],
             [
              0.1111111111111111,
              "#46039f"
             ],
             [
              0.2222222222222222,
              "#7201a8"
             ],
             [
              0.3333333333333333,
              "#9c179e"
             ],
             [
              0.4444444444444444,
              "#bd3786"
             ],
             [
              0.5555555555555556,
              "#d8576b"
             ],
             [
              0.6666666666666666,
              "#ed7953"
             ],
             [
              0.7777777777777778,
              "#fb9f3a"
             ],
             [
              0.8888888888888888,
              "#fdca26"
             ],
             [
              1,
              "#f0f921"
             ]
            ],
            "type": "histogram2d"
           }
          ],
          "histogram2dcontour": [
           {
            "colorbar": {
             "outlinewidth": 0,
             "ticks": ""
            },
            "colorscale": [
             [
              0,
              "#0d0887"
             ],
             [
              0.1111111111111111,
              "#46039f"
             ],
             [
              0.2222222222222222,
              "#7201a8"
             ],
             [
              0.3333333333333333,
              "#9c179e"
             ],
             [
              0.4444444444444444,
              "#bd3786"
             ],
             [
              0.5555555555555556,
              "#d8576b"
             ],
             [
              0.6666666666666666,
              "#ed7953"
             ],
             [
              0.7777777777777778,
              "#fb9f3a"
             ],
             [
              0.8888888888888888,
              "#fdca26"
             ],
             [
              1,
              "#f0f921"
             ]
            ],
            "type": "histogram2dcontour"
           }
          ],
          "mesh3d": [
           {
            "colorbar": {
             "outlinewidth": 0,
             "ticks": ""
            },
            "type": "mesh3d"
           }
          ],
          "parcoords": [
           {
            "line": {
             "colorbar": {
              "outlinewidth": 0,
              "ticks": ""
             }
            },
            "type": "parcoords"
           }
          ],
          "pie": [
           {
            "automargin": true,
            "type": "pie"
           }
          ],
          "scatter": [
           {
            "marker": {
             "colorbar": {
              "outlinewidth": 0,
              "ticks": ""
             }
            },
            "type": "scatter"
           }
          ],
          "scatter3d": [
           {
            "line": {
             "colorbar": {
              "outlinewidth": 0,
              "ticks": ""
             }
            },
            "marker": {
             "colorbar": {
              "outlinewidth": 0,
              "ticks": ""
             }
            },
            "type": "scatter3d"
           }
          ],
          "scattercarpet": [
           {
            "marker": {
             "colorbar": {
              "outlinewidth": 0,
              "ticks": ""
             }
            },
            "type": "scattercarpet"
           }
          ],
          "scattergeo": [
           {
            "marker": {
             "colorbar": {
              "outlinewidth": 0,
              "ticks": ""
             }
            },
            "type": "scattergeo"
           }
          ],
          "scattergl": [
           {
            "marker": {
             "colorbar": {
              "outlinewidth": 0,
              "ticks": ""
             }
            },
            "type": "scattergl"
           }
          ],
          "scattermapbox": [
           {
            "marker": {
             "colorbar": {
              "outlinewidth": 0,
              "ticks": ""
             }
            },
            "type": "scattermapbox"
           }
          ],
          "scatterpolar": [
           {
            "marker": {
             "colorbar": {
              "outlinewidth": 0,
              "ticks": ""
             }
            },
            "type": "scatterpolar"
           }
          ],
          "scatterpolargl": [
           {
            "marker": {
             "colorbar": {
              "outlinewidth": 0,
              "ticks": ""
             }
            },
            "type": "scatterpolargl"
           }
          ],
          "scatterternary": [
           {
            "marker": {
             "colorbar": {
              "outlinewidth": 0,
              "ticks": ""
             }
            },
            "type": "scatterternary"
           }
          ],
          "surface": [
           {
            "colorbar": {
             "outlinewidth": 0,
             "ticks": ""
            },
            "colorscale": [
             [
              0,
              "#0d0887"
             ],
             [
              0.1111111111111111,
              "#46039f"
             ],
             [
              0.2222222222222222,
              "#7201a8"
             ],
             [
              0.3333333333333333,
              "#9c179e"
             ],
             [
              0.4444444444444444,
              "#bd3786"
             ],
             [
              0.5555555555555556,
              "#d8576b"
             ],
             [
              0.6666666666666666,
              "#ed7953"
             ],
             [
              0.7777777777777778,
              "#fb9f3a"
             ],
             [
              0.8888888888888888,
              "#fdca26"
             ],
             [
              1,
              "#f0f921"
             ]
            ],
            "type": "surface"
           }
          ],
          "table": [
           {
            "cells": {
             "fill": {
              "color": "#EBF0F8"
             },
             "line": {
              "color": "white"
             }
            },
            "header": {
             "fill": {
              "color": "#C8D4E3"
             },
             "line": {
              "color": "white"
             }
            },
            "type": "table"
           }
          ]
         },
         "layout": {
          "annotationdefaults": {
           "arrowcolor": "#2a3f5f",
           "arrowhead": 0,
           "arrowwidth": 1
          },
          "coloraxis": {
           "colorbar": {
            "outlinewidth": 0,
            "ticks": ""
           }
          },
          "colorscale": {
           "diverging": [
            [
             0,
             "#8e0152"
            ],
            [
             0.1,
             "#c51b7d"
            ],
            [
             0.2,
             "#de77ae"
            ],
            [
             0.3,
             "#f1b6da"
            ],
            [
             0.4,
             "#fde0ef"
            ],
            [
             0.5,
             "#f7f7f7"
            ],
            [
             0.6,
             "#e6f5d0"
            ],
            [
             0.7,
             "#b8e186"
            ],
            [
             0.8,
             "#7fbc41"
            ],
            [
             0.9,
             "#4d9221"
            ],
            [
             1,
             "#276419"
            ]
           ],
           "sequential": [
            [
             0,
             "#0d0887"
            ],
            [
             0.1111111111111111,
             "#46039f"
            ],
            [
             0.2222222222222222,
             "#7201a8"
            ],
            [
             0.3333333333333333,
             "#9c179e"
            ],
            [
             0.4444444444444444,
             "#bd3786"
            ],
            [
             0.5555555555555556,
             "#d8576b"
            ],
            [
             0.6666666666666666,
             "#ed7953"
            ],
            [
             0.7777777777777778,
             "#fb9f3a"
            ],
            [
             0.8888888888888888,
             "#fdca26"
            ],
            [
             1,
             "#f0f921"
            ]
           ],
           "sequentialminus": [
            [
             0,
             "#0d0887"
            ],
            [
             0.1111111111111111,
             "#46039f"
            ],
            [
             0.2222222222222222,
             "#7201a8"
            ],
            [
             0.3333333333333333,
             "#9c179e"
            ],
            [
             0.4444444444444444,
             "#bd3786"
            ],
            [
             0.5555555555555556,
             "#d8576b"
            ],
            [
             0.6666666666666666,
             "#ed7953"
            ],
            [
             0.7777777777777778,
             "#fb9f3a"
            ],
            [
             0.8888888888888888,
             "#fdca26"
            ],
            [
             1,
             "#f0f921"
            ]
           ]
          },
          "colorway": [
           "#636efa",
           "#EF553B",
           "#00cc96",
           "#ab63fa",
           "#FFA15A",
           "#19d3f3",
           "#FF6692",
           "#B6E880",
           "#FF97FF",
           "#FECB52"
          ],
          "font": {
           "color": "#2a3f5f"
          },
          "geo": {
           "bgcolor": "white",
           "lakecolor": "white",
           "landcolor": "#E5ECF6",
           "showlakes": true,
           "showland": true,
           "subunitcolor": "white"
          },
          "hoverlabel": {
           "align": "left"
          },
          "hovermode": "closest",
          "mapbox": {
           "style": "light"
          },
          "paper_bgcolor": "white",
          "plot_bgcolor": "#E5ECF6",
          "polar": {
           "angularaxis": {
            "gridcolor": "white",
            "linecolor": "white",
            "ticks": ""
           },
           "bgcolor": "#E5ECF6",
           "radialaxis": {
            "gridcolor": "white",
            "linecolor": "white",
            "ticks": ""
           }
          },
          "scene": {
           "xaxis": {
            "backgroundcolor": "#E5ECF6",
            "gridcolor": "white",
            "gridwidth": 2,
            "linecolor": "white",
            "showbackground": true,
            "ticks": "",
            "zerolinecolor": "white"
           },
           "yaxis": {
            "backgroundcolor": "#E5ECF6",
            "gridcolor": "white",
            "gridwidth": 2,
            "linecolor": "white",
            "showbackground": true,
            "ticks": "",
            "zerolinecolor": "white"
           },
           "zaxis": {
            "backgroundcolor": "#E5ECF6",
            "gridcolor": "white",
            "gridwidth": 2,
            "linecolor": "white",
            "showbackground": true,
            "ticks": "",
            "zerolinecolor": "white"
           }
          },
          "shapedefaults": {
           "line": {
            "color": "#2a3f5f"
           }
          },
          "ternary": {
           "aaxis": {
            "gridcolor": "white",
            "linecolor": "white",
            "ticks": ""
           },
           "baxis": {
            "gridcolor": "white",
            "linecolor": "white",
            "ticks": ""
           },
           "bgcolor": "#E5ECF6",
           "caxis": {
            "gridcolor": "white",
            "linecolor": "white",
            "ticks": ""
           }
          },
          "title": {
           "x": 0.05
          },
          "xaxis": {
           "automargin": true,
           "gridcolor": "white",
           "linecolor": "white",
           "ticks": "",
           "title": {
            "standoff": 15
           },
           "zerolinecolor": "white",
           "zerolinewidth": 2
          },
          "yaxis": {
           "automargin": true,
           "gridcolor": "white",
           "linecolor": "white",
           "ticks": "",
           "title": {
            "standoff": 15
           },
           "zerolinecolor": "white",
           "zerolinewidth": 2
          }
         }
        },
        "title": {
         "text": "Nível Tecnológico das Indústrias no Conjunto dos Espaços Metropolitanos Brasileiros entre 2007 e 2017"
        },
        "xaxis": {
         "anchor": "y",
         "autorange": true,
         "domain": [
          0,
          1
         ],
         "range": [
          2007,
          2017
         ],
         "title": {
          "text": "Ano"
         },
         "type": "linear"
        },
        "yaxis": {
         "anchor": "x",
         "autorange": true,
         "domain": [
          0,
          1
         ],
         "range": [
          92050,
          1098390
         ],
         "title": {
          "text": "Pessoal"
         },
         "type": "linear"
        }
       }
      },
      "image/png": "[encoded data removed]",
      "text/html": [
       "<div>                            <div id=\"21969bea-9aa3-4b2c-abce-21cd8598b741\" class=\"plotly-graph-div\" style=\"height:700px; width:100%;\"></div>            <script type=\"text/javascript\">                require([\"plotly\"], function(Plotly) {                    window.PLOTLYENV=window.PLOTLYENV || {};                                    if (document.getElementById(\"21969bea-9aa3-4b2c-abce-21cd8598b741\")) {                    Plotly.newPlot(                        \"21969bea-9aa3-4b2c-abce-21cd8598b741\",                        [{\"hovertemplate\": \"N\\u00edvel Tecnol\\u00f3gico=Alto<br>Ano=%{x}<br>Pessoal=%{y}<extra></extra>\", \"legendgroup\": \"Alto\", \"line\": {\"color\": \"rgb(103,0,31)\", \"dash\": \"solid\"}, \"mode\": \"lines\", \"name\": \"Alto\", \"orientation\": \"v\", \"showlegend\": true, \"type\": \"scatter\", \"x\": [\"2007\", \"2008\", \"2009\", \"2010\", \"2011\", \"2012\", \"2013\", \"2014\", \"2015\", \"2016\", \"2017\"], \"xaxis\": \"x\", \"y\": [164288, 167398, 164341, 174217, 183877, 182406, 184921, 172629, 151805, 144281, 142367], \"yaxis\": \"y\"}, {\"hovertemplate\": \"N\\u00edvel Tecnol\\u00f3gico=M\\u00e9dio-Alto<br>Ano=%{x}<br>Pessoal=%{y}<extra></extra>\", \"legendgroup\": \"M\\u00e9dio-Alto\", \"line\": {\"color\": \"rgb(178,24,43)\", \"dash\": \"solid\"}, \"mode\": \"lines\", \"name\": \"M\\u00e9dio-Alto\", \"orientation\": \"v\", \"showlegend\": true, \"type\": \"scatter\", \"x\": [\"2007\", \"2008\", \"2009\", \"2010\", \"2011\", \"2012\", \"2013\", \"2014\", \"2015\", \"2016\", \"2017\"], \"xaxis\": \"x\", \"y\": [690452, 730413, 710877, 778518, 800751, 786711, 799249, 757423, 671752, 611803, 588090], \"yaxis\": \"y\"}, {\"hovertemplate\": \"N\\u00edvel Tecnol\\u00f3gico=M\\u00e9dio-Baixo<br>Ano=%{x}<br>Pessoal=%{y}<extra></extra>\", \"legendgroup\": \"M\\u00e9dio-Baixo\", \"line\": {\"color\": \"rgb(214,96,77)\", \"dash\": \"solid\"}, \"mode\": \"lines\", \"name\": \"M\\u00e9dio-Baixo\", \"orientation\": \"v\", \"showlegend\": true, \"type\": \"scatter\", \"x\": [\"2007\", \"2008\", \"2009\", \"2010\", \"2011\", \"2012\", \"2013\", \"2014\", \"2015\", \"2016\", \"2017\"], \"xaxis\": \"x\", \"y\": [703736, 739059, 727194, 804056, 827750, 827127, 828033, 798175, 696144, 637403, 621756], \"yaxis\": \"y\"}, {\"hovertemplate\": \"N\\u00edvel Tecnol\\u00f3gico=Baixo<br>Ano=%{x}<br>Pessoal=%{y}<extra></extra>\", \"legendgroup\": \"Baixo\", \"line\": {\"color\": \"rgb(244,165,130)\", \"dash\": \"solid\"}, \"mode\": \"lines\", \"name\": \"Baixo\", \"orientation\": \"v\", \"showlegend\": true, \"type\": \"scatter\", \"x\": [\"2007\", \"2008\", \"2009\", \"2010\", \"2011\", \"2012\", \"2013\", \"2014\", \"2015\", \"2016\", \"2017\"], \"xaxis\": \"x\", \"y\": [962149, 963417, 972416, 1039622, 1033209, 1048073, 1035553, 1020495, 948281, 889391, 859832], \"yaxis\": \"y\"}],                        {\"height\": 700, \"legend\": {\"title\": {\"text\": \"N\\u00edvel Tecnol\\u00f3gico\"}, \"tracegroupgap\": 0}, \"template\": {\"data\": {\"bar\": [{\"error_x\": {\"color\": \"#2a3f5f\"}, \"error_y\": {\"color\": \"#2a3f5f\"}, \"marker\": {\"line\": {\"color\": \"#E5ECF6\", \"width\": 0.5}}, \"type\": \"bar\"}], \"barpolar\": [{\"marker\": {\"line\": {\"color\": \"#E5ECF6\", \"width\": 0.5}}, \"type\": \"barpolar\"}], \"carpet\": [{\"aaxis\": {\"endlinecolor\": \"#2a3f5f\", \"gridcolor\": \"white\", \"linecolor\": \"white\", \"minorgridcolor\": \"white\", \"startlinecolor\": \"#2a3f5f\"}, \"baxis\": {\"endlinecolor\": \"#2a3f5f\", \"gridcolor\": \"white\", \"linecolor\": \"white\", \"minorgridcolor\": \"white\", \"startlinecolor\": \"#2a3f5f\"}, \"type\": \"carpet\"}], \"choropleth\": [{\"colorbar\": {\"outlinewidth\": 0, \"ticks\": \"\"}, \"type\": \"choropleth\"}], \"contour\": [{\"colorbar\": {\"outlinewidth\": 0, \"ticks\": \"\"}, \"colorscale\": [[0.0, \"#0d0887\"], [0.1111111111111111, \"#46039f\"], [0.2222222222222222, \"#7201a8\"], [0.3333333333333333, \"#9c179e\"], [0.4444444444444444, \"#bd3786\"], [0.5555555555555556, \"#d8576b\"], [0.6666666666666666, \"#ed7953\"], [0.7777777777777778, \"#fb9f3a\"], [0.8888888888888888, \"#fdca26\"], [1.0, \"#f0f921\"]], \"type\": \"contour\"}], \"contourcarpet\": [{\"colorbar\": {\"outlinewidth\": 0, \"ticks\": \"\"}, \"type\": \"contourcarpet\"}], \"heatmap\": [{\"colorbar\": {\"outlinewidth\": 0, \"ticks\": \"\"}, \"colorscale\": [[0.0, \"#0d0887\"], [0.1111111111111111, \"#46039f\"], [0.2222222222222222, \"#7201a8\"], [0.3333333333333333, \"#9c179e\"], [0.4444444444444444, \"#bd3786\"], [0.5555555555555556, \"#d8576b\"], [0.6666666666666666, \"#ed7953\"], [0.7777777777777778, \"#fb9f3a\"], [0.8888888888888888, \"#fdca26\"], [1.0, \"#f0f921\"]], \"type\": \"heatmap\"}], \"heatmapgl\": [{\"colorbar\": {\"outlinewidth\": 0, \"ticks\": \"\"}, \"colorscale\": [[0.0, \"#0d0887\"], [0.1111111111111111, \"#46039f\"], [0.2222222222222222, \"#7201a8\"], [0.3333333333333333, \"#9c179e\"], [0.4444444444444444, \"#bd3786\"], [0.5555555555555556, \"#d8576b\"], [0.6666666666666666, \"#ed7953\"], [0.7777777777777778, \"#fb9f3a\"], [0.8888888888888888, \"#fdca26\"], [1.0, \"#f0f921\"]], \"type\": \"heatmapgl\"}], \"histogram\": [{\"marker\": {\"colorbar\": {\"outlinewidth\": 0, \"ticks\": \"\"}}, \"type\": \"histogram\"}], \"histogram2d\": [{\"colorbar\": {\"outlinewidth\": 0, \"ticks\": \"\"}, \"colorscale\": [[0.0, \"#0d0887\"], [0.1111111111111111, \"#46039f\"], [0.2222222222222222, \"#7201a8\"], [0.3333333333333333, \"#9c179e\"], [0.4444444444444444, \"#bd3786\"], [0.5555555555555556, \"#d8576b\"], [0.6666666666666666, \"#ed7953\"], [0.7777777777777778, \"#fb9f3a\"], [0.8888888888888888, \"#fdca26\"], [1.0, \"#f0f921\"]], \"type\": \"histogram2d\"}], \"histogram2dcontour\": [{\"colorbar\": {\"outlinewidth\": 0, \"ticks\": \"\"}, \"colorscale\": [[0.0, \"#0d0887\"], [0.1111111111111111, \"#46039f\"], [0.2222222222222222, \"#7201a8\"], [0.3333333333333333, \"#9c179e\"], [0.4444444444444444, \"#bd3786\"], [0.5555555555555556, \"#d8576b\"], [0.6666666666666666, \"#ed7953\"], [0.7777777777777778, \"#fb9f3a\"], [0.8888888888888888, \"#fdca26\"], [1.0, \"#f0f921\"]], \"type\": \"histogram2dcontour\"}], \"mesh3d\": [{\"colorbar\": {\"outlinewidth\": 0, \"ticks\": \"\"}, \"type\": \"mesh3d\"}], \"parcoords\": [{\"line\": {\"colorbar\": {\"outlinewidth\": 0, \"ticks\": \"\"}}, \"type\": \"parcoords\"}], \"pie\": [{\"automargin\": true, \"type\": \"pie\"}], \"scatter\": [{\"marker\": {\"colorbar\": {\"outlinewidth\": 0, \"ticks\": \"\"}}, \"type\": \"scatter\"}], \"scatter3d\": [{\"line\": {\"colorbar\": {\"outlinewidth\": 0, \"ticks\": \"\"}}, \"marker\": {\"colorbar\": {\"outlinewidth\": 0, \"ticks\": \"\"}}, \"type\": \"scatter3d\"}], \"scattercarpet\": [{\"marker\": {\"colorbar\": {\"outlinewidth\": 0, \"ticks\": \"\"}}, \"type\": \"scattercarpet\"}], \"scattergeo\": [{\"marker\": {\"colorbar\": {\"outlinewidth\": 0, \"ticks\": \"\"}}, \"type\": \"scattergeo\"}], \"scattergl\": [{\"marker\": {\"colorbar\": {\"outlinewidth\": 0, \"ticks\": \"\"}}, \"type\": \"scattergl\"}], \"scattermapbox\": [{\"marker\": {\"colorbar\": {\"outlinewidth\": 0, \"ticks\": \"\"}}, \"type\": \"scattermapbox\"}], \"scatterpolar\": [{\"marker\": {\"colorbar\": {\"outlinewidth\": 0, \"ticks\": \"\"}}, \"type\": \"scatterpolar\"}], \"scatterpolargl\": [{\"marker\": {\"colorbar\": {\"outlinewidth\": 0, \"ticks\": \"\"}}, \"type\": \"scatterpolargl\"}], \"scatterternary\": [{\"marker\": {\"colorbar\": {\"outlinewidth\": 0, \"ticks\": \"\"}}, \"type\": \"scatterternary\"}], \"surface\": [{\"colorbar\": {\"outlinewidth\": 0, \"ticks\": \"\"}, \"colorscale\": [[0.0, \"#0d0887\"], [0.1111111111111111, \"#46039f\"], [0.2222222222222222, \"#7201a8\"], [0.3333333333333333, \"#9c179e\"], [0.4444444444444444, \"#bd3786\"], [0.5555555555555556, \"#d8576b\"], [0.6666666666666666, \"#ed7953\"], [0.7777777777777778, \"#fb9f3a\"], [0.8888888888888888, \"#fdca26\"], [1.0, \"#f0f921\"]], \"type\": \"surface\"}], \"table\": [{\"cells\": {\"fill\": {\"color\": \"#EBF0F8\"}, \"line\": {\"color\": \"white\"}}, \"header\": {\"fill\": {\"color\": \"#C8D4E3\"}, \"line\": {\"color\": \"white\"}}, \"type\": \"table\"}]}, \"layout\": {\"annotationdefaults\": {\"arrowcolor\": \"#2a3f5f\", \"arrowhead\": 0, \"arrowwidth\": 1}, \"coloraxis\": {\"colorbar\": {\"outlinewidth\": 0, \"ticks\": \"\"}}, \"colorscale\": {\"diverging\": [[0, \"#8e0152\"], [0.1, \"#c51b7d\"], [0.2, \"#de77ae\"], [0.3, \"#f1b6da\"], [0.4, \"#fde0ef\"], [0.5, \"#f7f7f7\"], [0.6, \"#e6f5d0\"], [0.7, \"#b8e186\"], [0.8, \"#7fbc41\"], [0.9, \"#4d9221\"], [1, \"#276419\"]], \"sequential\": [[0.0, \"#0d0887\"], [0.1111111111111111, \"#46039f\"], [0.2222222222222222, \"#7201a8\"], [0.3333333333333333, \"#9c179e\"], [0.4444444444444444, \"#bd3786\"], [0.5555555555555556, \"#d8576b\"], [0.6666666666666666, \"#ed7953\"], [0.7777777777777778, \"#fb9f3a\"], [0.8888888888888888, \"#fdca26\"], [1.0, \"#f0f921\"]], \"sequentialminus\": [[0.0, \"#0d0887\"], [0.1111111111111111, \"#46039f\"], [0.2222222222222222, \"#7201a8\"], [0.3333333333333333, \"#9c179e\"], [0.4444444444444444, \"#bd3786\"], [0.5555555555555556, \"#d8576b\"], [0.6666666666666666, \"#ed7953\"], [0.7777777777777778, \"#fb9f3a\"], [0.8888888888888888, \"#fdca26\"], [1.0, \"#f0f921\"]]}, \"colorway\": [\"#636efa\", \"#EF553B\", \"#00cc96\", \"#ab63fa\", \"#FFA15A\", \"#19d3f3\", \"#FF6692\", \"#B6E880\", \"#FF97FF\", \"#FECB52\"], \"font\": {\"color\": \"#2a3f5f\"}, \"geo\": {\"bgcolor\": \"white\", \"lakecolor\": \"white\", \"landcolor\": \"#E5ECF6\", \"showlakes\": true, \"showland\": true, \"subunitcolor\": \"white\"}, \"hoverlabel\": {\"align\": \"left\"}, \"hovermode\": \"closest\", \"mapbox\": {\"style\": \"light\"}, \"paper_bgcolor\": \"white\", \"plot_bgcolor\": \"#E5ECF6\", \"polar\": {\"angularaxis\": {\"gridcolor\": \"white\", \"linecolor\": \"white\", \"ticks\": \"\"}, \"bgcolor\": \"#E5ECF6\", \"radialaxis\": {\"gridcolor\": \"white\", \"linecolor\": \"white\", \"ticks\": \"\"}}, \"scene\": {\"xaxis\": {\"backgroundcolor\": \"#E5ECF6\", \"gridcolor\": \"white\", \"gridwidth\": 2, \"linecolor\": \"white\", \"showbackground\": true, \"ticks\": \"\", \"zerolinecolor\": \"white\"}, \"yaxis\": {\"backgroundcolor\": \"#E5ECF6\", \"gridcolor\": \"white\", \"gridwidth\": 2, \"linecolor\": \"white\", \"showbackground\": true, \"ticks\": \"\", \"zerolinecolor\": \"white\"}, \"zaxis\": {\"backgroundcolor\": \"#E5ECF6\", \"gridcolor\": \"white\", \"gridwidth\": 2, \"linecolor\": \"white\", \"showbackground\": true, \"ticks\": \"\", \"zerolinecolor\": \"white\"}}, \"shapedefaults\": {\"line\": {\"color\": \"#2a3f5f\"}}, \"ternary\": {\"aaxis\": {\"gridcolor\": \"white\", \"linecolor\": \"white\", \"ticks\": \"\"}, \"baxis\": {\"gridcolor\": \"white\", \"linecolor\": \"white\", \"ticks\": \"\"}, \"bgcolor\": \"#E5ECF6\", \"caxis\": {\"gridcolor\": \"white\", \"linecolor\": \"white\", \"ticks\": \"\"}}, \"title\": {\"x\": 0.05}, \"xaxis\": {\"automargin\": true, \"gridcolor\": \"white\", \"linecolor\": \"white\", \"ticks\": \"\", \"title\": {\"standoff\": 15}, \"zerolinecolor\": \"white\", \"zerolinewidth\": 2}, \"yaxis\": {\"automargin\": true, \"gridcolor\": \"white\", \"linecolor\": \"white\", \"ticks\": \"\", \"title\": {\"standoff\": 15}, \"zerolinecolor\": \"white\", \"zerolinewidth\": 2}}}, \"title\": {\"text\": \"N\\u00edvel Tecnol\\u00f3gico das Ind\\u00fastrias no Conjunto dos Espa\\u00e7os Metropolitanos Brasileiros entre 2007 e 2017\"}, \"xaxis\": {\"anchor\": \"y\", \"domain\": [0.0, 1.0], \"title\": {\"text\": \"Ano\"}}, \"yaxis\": {\"anchor\": \"x\", \"domain\": [0.0, 1.0], \"title\": {\"text\": \"Pessoal\"}}},                        {\"responsive\": true}                    ).then(function(){\n",
       "                            \n",
       "var gd = document.getElementById('21969bea-9aa3-4b2c-abce-21cd8598b741');\n",
       "var x = new MutationObserver(function (mutations, observer) {{\n",
       "        var display = window.getComputedStyle(gd).display;\n",
       "        if (!display || display === 'none') {{\n",
       "            console.log([gd, 'removed!']);\n",
       "            Plotly.purge(gd);\n",
       "            observer.disconnect();\n",
       "        }}\n",
       "}});\n",
       "\n",
       "// Listen for the removal of the full notebook cells\n",
       "var notebookContainer = gd.closest('#notebook-container');\n",
       "if (notebookContainer) {{\n",
       "    x.observe(notebookContainer, {childList: true});\n",
       "}}\n",
       "\n",
       "// Listen for the clearing of the current output cell\n",
       "var outputEl = gd.closest('.output');\n",
       "if (outputEl) {{\n",
       "    x.observe(outputEl, {childList: true});\n",
       "}}\n",
       "\n",
       "                        })                };                });            </script>        </div>"
      ]
     },
     "metadata": {},
     "output_type": "display_data"
    }
   ],
   "source": [
    "fig = ind.ind_tech_level_evolution_line_plot(\n",
    "    list_met=['Total']\n",
    "    , title='Nível Tecnológico das Indústrias no Conjunto dos Espaços Metropolitanos Brasileiros entre 2007 e 2017'\n",
    ")\n",
    "fig.show()"
   ]
  },
  {
   "cell_type": "code",
   "execution_count": 86,
   "metadata": {},
   "outputs": [
    {
     "data": {
      "application/vnd.plotly.v1+json": {
       "config": {
        "plotlyServerURL": "https://plot.ly"
       },
       "data": [
        {
         "alignmentgroup": "True",
         "hovertemplate": "Nível Tecnológico=Alto<br>Espaço Metropolitano=Manaus<br>Ano=%{x}<br>Pessoal=%{text}<extra></extra>",
         "legendgroup": "Alto",
         "marker": {
          "color": "rgb(103,0,31)"
         },
         "name": "Alto",
         "offsetgroup": "Alto",
         "orientation": "v",
         "showlegend": true,
         "text": [
          36928,
          30074,
          26798,
          32777,
          41823,
          42168,
          46980,
          38615,
          26894,
          27322,
          27844
         ],
         "textposition": "auto",
         "type": "bar",
         "x": [
          "2007",
          "2008",
          "2009",
          "2010",
          "2011",
          "2012",
          "2013",
          "2014",
          "2015",
          "2016",
          "2017"
         ],
         "xaxis": "x13",
         "y": [
          36928,
          30074,
          26798,
          32777,
          41823,
          42168,
          46980,
          38615,
          26894,
          27322,
          27844
         ],
         "yaxis": "y13"
        },
        {
         "alignmentgroup": "True",
         "hovertemplate": "Nível Tecnológico=Alto<br>Espaço Metropolitano=Salvador<br>Ano=%{x}<br>Pessoal=%{text}<extra></extra>",
         "legendgroup": "Alto",
         "marker": {
          "color": "rgb(103,0,31)"
         },
         "name": "Alto",
         "offsetgroup": "Alto",
         "orientation": "v",
         "showlegend": false,
         "text": [
          1578,
          1424,
          1234,
          1448,
          1801,
          1845,
          1502,
          1181,
          927,
          801,
          649
         ],
         "textposition": "auto",
         "type": "bar",
         "x": [
          "2007",
          "2008",
          "2009",
          "2010",
          "2011",
          "2012",
          "2013",
          "2014",
          "2015",
          "2016",
          "2017"
         ],
         "xaxis": "x12",
         "y": [
          1578,
          1424,
          1234,
          1448,
          1801,
          1845,
          1502,
          1181,
          927,
          801,
          649
         ],
         "yaxis": "y12"
        },
        {
         "alignmentgroup": "True",
         "hovertemplate": "Nível Tecnológico=Alto<br>Espaço Metropolitano=Fortaleza<br>Ano=%{x}<br>Pessoal=%{text}<extra></extra>",
         "legendgroup": "Alto",
         "marker": {
          "color": "rgb(103,0,31)"
         },
         "name": "Alto",
         "offsetgroup": "Alto",
         "orientation": "v",
         "showlegend": false,
         "text": [
          2536,
          2592,
          2836,
          3083,
          3259,
          2908,
          2915,
          2674,
          2499,
          2135,
          2224
         ],
         "textposition": "auto",
         "type": "bar",
         "x": [
          "2007",
          "2008",
          "2009",
          "2010",
          "2011",
          "2012",
          "2013",
          "2014",
          "2015",
          "2016",
          "2017"
         ],
         "xaxis": "x11",
         "y": [
          2536,
          2592,
          2836,
          3083,
          3259,
          2908,
          2915,
          2674,
          2499,
          2135,
          2224
         ],
         "yaxis": "y11"
        },
        {
         "alignmentgroup": "True",
         "hovertemplate": "Nível Tecnológico=Alto<br>Espaço Metropolitano=Brasília<br>Ano=%{x}<br>Pessoal=%{text}<extra></extra>",
         "legendgroup": "Alto",
         "marker": {
          "color": "rgb(103,0,31)"
         },
         "name": "Alto",
         "offsetgroup": "Alto",
         "orientation": "v",
         "showlegend": false,
         "text": [
          1018,
          10,
          1455,
          11,
          1396,
          11,
          1456,
          12,
          1625,
          13,
          1667,
          16,
          2027,
          15,
          2002,
          18,
          2111,
          32,
          2153,
          24,
          1694,
          34
         ],
         "textposition": "auto",
         "type": "bar",
         "x": [
          "2007",
          "2007",
          "2008",
          "2008",
          "2009",
          "2009",
          "2010",
          "2010",
          "2011",
          "2011",
          "2012",
          "2012",
          "2013",
          "2013",
          "2014",
          "2014",
          "2015",
          "2015",
          "2016",
          "2016",
          "2017",
          "2017"
         ],
         "xaxis": "x10",
         "y": [
          1018,
          10,
          1455,
          11,
          1396,
          11,
          1456,
          12,
          1625,
          13,
          1667,
          16,
          2027,
          15,
          2002,
          18,
          2111,
          32,
          2153,
          24,
          1694,
          34
         ],
         "yaxis": "y10"
        },
        {
         "alignmentgroup": "True",
         "hovertemplate": "Nível Tecnológico=Alto<br>Espaço Metropolitano=Vitória<br>Ano=%{x}<br>Pessoal=%{text}<extra></extra>",
         "legendgroup": "Alto",
         "marker": {
          "color": "rgb(103,0,31)"
         },
         "name": "Alto",
         "offsetgroup": "Alto",
         "orientation": "v",
         "showlegend": false,
         "text": [
          239,
          232,
          225,
          232,
          275,
          254,
          278,
          244,
          252,
          253,
          276
         ],
         "textposition": "auto",
         "type": "bar",
         "x": [
          "2007",
          "2008",
          "2009",
          "2010",
          "2011",
          "2012",
          "2013",
          "2014",
          "2015",
          "2016",
          "2017"
         ],
         "xaxis": "x9",
         "y": [
          239,
          232,
          225,
          232,
          275,
          254,
          278,
          244,
          252,
          253,
          276
         ],
         "yaxis": "y9"
        },
        {
         "alignmentgroup": "True",
         "hovertemplate": "Nível Tecnológico=Alto<br>Espaço Metropolitano=Goiânia<br>Ano=%{x}<br>Pessoal=%{text}<extra></extra>",
         "legendgroup": "Alto",
         "marker": {
          "color": "rgb(103,0,31)"
         },
         "name": "Alto",
         "offsetgroup": "Alto",
         "orientation": "v",
         "showlegend": false,
         "text": [
          3277,
          3045,
          3429,
          3604,
          3396,
          2884,
          3359,
          2997,
          2790,
          2640,
          2471
         ],
         "textposition": "auto",
         "type": "bar",
         "x": [
          "2007",
          "2008",
          "2009",
          "2010",
          "2011",
          "2012",
          "2013",
          "2014",
          "2015",
          "2016",
          "2017"
         ],
         "xaxis": "x8",
         "y": [
          3277,
          3045,
          3429,
          3604,
          3396,
          2884,
          3359,
          2997,
          2790,
          2640,
          2471
         ],
         "yaxis": "y8"
        },
        {
         "alignmentgroup": "True",
         "hovertemplate": "Nível Tecnológico=Alto<br>Espaço Metropolitano=Belo Horizonte<br>Ano=%{x}<br>Pessoal=%{text}<extra></extra>",
         "legendgroup": "Alto",
         "marker": {
          "color": "rgb(103,0,31)"
         },
         "name": "Alto",
         "offsetgroup": "Alto",
         "orientation": "v",
         "showlegend": false,
         "text": [
          7278,
          8625,
          8512,
          8813,
          8249,
          8500,
          8017,
          8323,
          7396,
          7404,
          7030
         ],
         "textposition": "auto",
         "type": "bar",
         "x": [
          "2007",
          "2008",
          "2009",
          "2010",
          "2011",
          "2012",
          "2013",
          "2014",
          "2015",
          "2016",
          "2017"
         ],
         "xaxis": "x7",
         "y": [
          7278,
          8625,
          8512,
          8813,
          8249,
          8500,
          8017,
          8323,
          7396,
          7404,
          7030
         ],
         "yaxis": "y7"
        },
        {
         "alignmentgroup": "True",
         "hovertemplate": "Nível Tecnológico=Alto<br>Espaço Metropolitano=Belém<br>Ano=%{x}<br>Pessoal=%{text}<extra></extra>",
         "legendgroup": "Alto",
         "marker": {
          "color": "rgb(103,0,31)"
         },
         "name": "Alto",
         "offsetgroup": "Alto",
         "orientation": "v",
         "showlegend": false,
         "text": [
          147,
          96,
          66,
          22,
          23,
          18,
          47,
          46,
          42,
          4,
          16
         ],
         "textposition": "auto",
         "type": "bar",
         "x": [
          "2007",
          "2008",
          "2009",
          "2010",
          "2011",
          "2012",
          "2013",
          "2014",
          "2015",
          "2016",
          "2017"
         ],
         "xaxis": "x6",
         "y": [
          147,
          96,
          66,
          22,
          23,
          18,
          47,
          46,
          42,
          4,
          16
         ],
         "yaxis": "y6"
        },
        {
         "alignmentgroup": "True",
         "hovertemplate": "Nível Tecnológico=Alto<br>Espaço Metropolitano=Recife<br>Ano=%{x}<br>Pessoal=%{text}<extra></extra>",
         "legendgroup": "Alto",
         "marker": {
          "color": "rgb(103,0,31)"
         },
         "name": "Alto",
         "offsetgroup": "Alto",
         "orientation": "v",
         "showlegend": false,
         "text": [
          1109,
          764,
          1205,
          1286,
          1293,
          1177,
          1210,
          1172,
          1113,
          981,
          1004
         ],
         "textposition": "auto",
         "type": "bar",
         "x": [
          "2007",
          "2008",
          "2009",
          "2010",
          "2011",
          "2012",
          "2013",
          "2014",
          "2015",
          "2016",
          "2017"
         ],
         "xaxis": "x5",
         "y": [
          1109,
          764,
          1205,
          1286,
          1293,
          1177,
          1210,
          1172,
          1113,
          981,
          1004
         ],
         "yaxis": "y5"
        },
        {
         "alignmentgroup": "True",
         "hovertemplate": "Nível Tecnológico=Alto<br>Espaço Metropolitano=Curitiba<br>Ano=%{x}<br>Pessoal=%{text}<extra></extra>",
         "legendgroup": "Alto",
         "marker": {
          "color": "rgb(103,0,31)"
         },
         "name": "Alto",
         "offsetgroup": "Alto",
         "orientation": "v",
         "showlegend": false,
         "text": [
          8404,
          9931,
          12214,
          10637,
          9255,
          9729,
          9705,
          8887,
          7380,
          6166,
          6121
         ],
         "textposition": "auto",
         "type": "bar",
         "x": [
          "2007",
          "2008",
          "2009",
          "2010",
          "2011",
          "2012",
          "2013",
          "2014",
          "2015",
          "2016",
          "2017"
         ],
         "xaxis": "x4",
         "y": [
          8404,
          9931,
          12214,
          10637,
          9255,
          9729,
          9705,
          8887,
          7380,
          6166,
          6121
         ],
         "yaxis": "y4"
        },
        {
         "alignmentgroup": "True",
         "hovertemplate": "Nível Tecnológico=Alto<br>Espaço Metropolitano=Rio de Janeiro<br>Ano=%{x}<br>Pessoal=%{text}<extra></extra>",
         "legendgroup": "Alto",
         "marker": {
          "color": "rgb(103,0,31)"
         },
         "name": "Alto",
         "offsetgroup": "Alto",
         "orientation": "v",
         "showlegend": false,
         "text": [
          10833,
          12082,
          12322,
          12879,
          12576,
          12347,
          11179,
          11919,
          10984,
          10353,
          11130
         ],
         "textposition": "auto",
         "type": "bar",
         "x": [
          "2007",
          "2008",
          "2009",
          "2010",
          "2011",
          "2012",
          "2013",
          "2014",
          "2015",
          "2016",
          "2017"
         ],
         "xaxis": "x3",
         "y": [
          10833,
          12082,
          12322,
          12879,
          12576,
          12347,
          11179,
          11919,
          10984,
          10353,
          11130
         ],
         "yaxis": "y3"
        },
        {
         "alignmentgroup": "True",
         "hovertemplate": "Nível Tecnológico=Alto<br>Espaço Metropolitano=Porto Alegre<br>Ano=%{x}<br>Pessoal=%{text}<extra></extra>",
         "legendgroup": "Alto",
         "marker": {
          "color": "rgb(103,0,31)"
         },
         "name": "Alto",
         "offsetgroup": "Alto",
         "orientation": "v",
         "showlegend": false,
         "text": [
          9559,
          10094,
          10729,
          11924,
          12370,
          10762,
          11186,
          10738,
          9865,
          8721,
          8619
         ],
         "textposition": "auto",
         "type": "bar",
         "x": [
          "2007",
          "2008",
          "2009",
          "2010",
          "2011",
          "2012",
          "2013",
          "2014",
          "2015",
          "2016",
          "2017"
         ],
         "xaxis": "x2",
         "y": [
          9559,
          10094,
          10729,
          11924,
          12370,
          10762,
          11186,
          10738,
          9865,
          8721,
          8619
         ],
         "yaxis": "y2"
        },
        {
         "alignmentgroup": "True",
         "hovertemplate": "Nível Tecnológico=Alto<br>Espaço Metropolitano=Florianópolis<br>Ano=%{x}<br>Pessoal=%{text}<extra></extra>",
         "legendgroup": "Alto",
         "marker": {
          "color": "rgb(103,0,31)"
         },
         "name": "Alto",
         "offsetgroup": "Alto",
         "orientation": "v",
         "showlegend": false,
         "text": [
          2213,
          2440,
          2525,
          2410,
          2561,
          2633,
          2658,
          2920,
          2651,
          2852,
          3213
         ],
         "textposition": "auto",
         "type": "bar",
         "x": [
          "2007",
          "2008",
          "2009",
          "2010",
          "2011",
          "2012",
          "2013",
          "2014",
          "2015",
          "2016",
          "2017"
         ],
         "xaxis": "x",
         "y": [
          2213,
          2440,
          2525,
          2410,
          2561,
          2633,
          2658,
          2920,
          2651,
          2852,
          3213
         ],
         "yaxis": "y"
        },
        {
         "alignmentgroup": "True",
         "hovertemplate": "Nível Tecnológico=Médio-Alto<br>Espaço Metropolitano=Manaus<br>Ano=%{x}<br>Pessoal=%{text}<extra></extra>",
         "legendgroup": "Médio-Alto",
         "marker": {
          "color": "rgb(178,24,43)"
         },
         "name": "Médio-Alto",
         "offsetgroup": "Médio-Alto",
         "orientation": "v",
         "showlegend": true,
         "text": [
          28953,
          34781,
          33397,
          35491,
          40416,
          35871,
          38072,
          38623,
          32864,
          28174,
          26981
         ],
         "textposition": "auto",
         "type": "bar",
         "x": [
          "2007",
          "2008",
          "2009",
          "2010",
          "2011",
          "2012",
          "2013",
          "2014",
          "2015",
          "2016",
          "2017"
         ],
         "xaxis": "x13",
         "y": [
          28953,
          34781,
          33397,
          35491,
          40416,
          35871,
          38072,
          38623,
          32864,
          28174,
          26981
         ],
         "yaxis": "y13"
        },
        {
         "alignmentgroup": "True",
         "hovertemplate": "Nível Tecnológico=Médio-Alto<br>Espaço Metropolitano=Salvador<br>Ano=%{x}<br>Pessoal=%{text}<extra></extra>",
         "legendgroup": "Médio-Alto",
         "marker": {
          "color": "rgb(178,24,43)"
         },
         "name": "Médio-Alto",
         "offsetgroup": "Médio-Alto",
         "orientation": "v",
         "showlegend": false,
         "text": [
          21282,
          21118,
          19991,
          21538,
          21742,
          23878,
          24747,
          22704,
          22845,
          20647,
          20799
         ],
         "textposition": "auto",
         "type": "bar",
         "x": [
          "2007",
          "2008",
          "2009",
          "2010",
          "2011",
          "2012",
          "2013",
          "2014",
          "2015",
          "2016",
          "2017"
         ],
         "xaxis": "x12",
         "y": [
          21282,
          21118,
          19991,
          21538,
          21742,
          23878,
          24747,
          22704,
          22845,
          20647,
          20799
         ],
         "yaxis": "y12"
        },
        {
         "alignmentgroup": "True",
         "hovertemplate": "Nível Tecnológico=Médio-Alto<br>Espaço Metropolitano=Fortaleza<br>Ano=%{x}<br>Pessoal=%{text}<extra></extra>",
         "legendgroup": "Médio-Alto",
         "marker": {
          "color": "rgb(178,24,43)"
         },
         "name": "Médio-Alto",
         "offsetgroup": "Médio-Alto",
         "orientation": "v",
         "showlegend": false,
         "text": [
          8537,
          9386,
          9513,
          9633,
          9771,
          9866,
          10055,
          10520,
          13664,
          13548,
          12683
         ],
         "textposition": "auto",
         "type": "bar",
         "x": [
          "2007",
          "2008",
          "2009",
          "2010",
          "2011",
          "2012",
          "2013",
          "2014",
          "2015",
          "2016",
          "2017"
         ],
         "xaxis": "x11",
         "y": [
          8537,
          9386,
          9513,
          9633,
          9771,
          9866,
          10055,
          10520,
          13664,
          13548,
          12683
         ],
         "yaxis": "y11"
        },
        {
         "alignmentgroup": "True",
         "hovertemplate": "Nível Tecnológico=Médio-Alto<br>Espaço Metropolitano=Brasília<br>Ano=%{x}<br>Pessoal=%{text}<extra></extra>",
         "legendgroup": "Médio-Alto",
         "marker": {
          "color": "rgb(178,24,43)"
         },
         "name": "Médio-Alto",
         "offsetgroup": "Médio-Alto",
         "orientation": "v",
         "showlegend": false,
         "text": [
          1604,
          1339,
          1889,
          1383,
          1674,
          1634,
          2109,
          975,
          2371,
          962,
          2653,
          1104,
          2289,
          1057,
          2369,
          1144,
          1788,
          1104,
          1666,
          1132,
          1647,
          1172
         ],
         "textposition": "auto",
         "type": "bar",
         "x": [
          "2007",
          "2007",
          "2008",
          "2008",
          "2009",
          "2009",
          "2010",
          "2010",
          "2011",
          "2011",
          "2012",
          "2012",
          "2013",
          "2013",
          "2014",
          "2014",
          "2015",
          "2015",
          "2016",
          "2016",
          "2017",
          "2017"
         ],
         "xaxis": "x10",
         "y": [
          1604,
          1339,
          1889,
          1383,
          1674,
          1634,
          2109,
          975,
          2371,
          962,
          2653,
          1104,
          2289,
          1057,
          2369,
          1144,
          1788,
          1104,
          1666,
          1132,
          1647,
          1172
         ],
         "yaxis": "y10"
        },
        {
         "alignmentgroup": "True",
         "hovertemplate": "Nível Tecnológico=Médio-Alto<br>Espaço Metropolitano=Vitória<br>Ano=%{x}<br>Pessoal=%{text}<extra></extra>",
         "legendgroup": "Médio-Alto",
         "marker": {
          "color": "rgb(178,24,43)"
         },
         "name": "Médio-Alto",
         "offsetgroup": "Médio-Alto",
         "orientation": "v",
         "showlegend": false,
         "text": [
          3436,
          3624,
          3641,
          4252,
          4661,
          4487,
          4379,
          4441,
          3911,
          3826,
          3650
         ],
         "textposition": "auto",
         "type": "bar",
         "x": [
          "2007",
          "2008",
          "2009",
          "2010",
          "2011",
          "2012",
          "2013",
          "2014",
          "2015",
          "2016",
          "2017"
         ],
         "xaxis": "x9",
         "y": [
          3436,
          3624,
          3641,
          4252,
          4661,
          4487,
          4379,
          4441,
          3911,
          3826,
          3650
         ],
         "yaxis": "y9"
        },
        {
         "alignmentgroup": "True",
         "hovertemplate": "Nível Tecnológico=Médio-Alto<br>Espaço Metropolitano=Goiânia<br>Ano=%{x}<br>Pessoal=%{text}<extra></extra>",
         "legendgroup": "Médio-Alto",
         "marker": {
          "color": "rgb(178,24,43)"
         },
         "name": "Médio-Alto",
         "offsetgroup": "Médio-Alto",
         "orientation": "v",
         "showlegend": false,
         "text": [
          6572,
          7458,
          7608,
          9824,
          10041,
          9297,
          9543,
          9575,
          9006,
          10236,
          10864
         ],
         "textposition": "auto",
         "type": "bar",
         "x": [
          "2007",
          "2008",
          "2009",
          "2010",
          "2011",
          "2012",
          "2013",
          "2014",
          "2015",
          "2016",
          "2017"
         ],
         "xaxis": "x8",
         "y": [
          6572,
          7458,
          7608,
          9824,
          10041,
          9297,
          9543,
          9575,
          9006,
          10236,
          10864
         ],
         "yaxis": "y8"
        },
        {
         "alignmentgroup": "True",
         "hovertemplate": "Nível Tecnológico=Médio-Alto<br>Espaço Metropolitano=Belo Horizonte<br>Ano=%{x}<br>Pessoal=%{text}<extra></extra>",
         "legendgroup": "Médio-Alto",
         "marker": {
          "color": "rgb(178,24,43)"
         },
         "name": "Médio-Alto",
         "offsetgroup": "Médio-Alto",
         "orientation": "v",
         "showlegend": false,
         "text": [
          58136,
          60591,
          59414,
          68704,
          73106,
          78247,
          78552,
          73961,
          59606,
          51904,
          49110
         ],
         "textposition": "auto",
         "type": "bar",
         "x": [
          "2007",
          "2008",
          "2009",
          "2010",
          "2011",
          "2012",
          "2013",
          "2014",
          "2015",
          "2016",
          "2017"
         ],
         "xaxis": "x7",
         "y": [
          58136,
          60591,
          59414,
          68704,
          73106,
          78247,
          78552,
          73961,
          59606,
          51904,
          49110
         ],
         "yaxis": "y7"
        },
        {
         "alignmentgroup": "True",
         "hovertemplate": "Nível Tecnológico=Médio-Alto<br>Espaço Metropolitano=Belém<br>Ano=%{x}<br>Pessoal=%{text}<extra></extra>",
         "legendgroup": "Médio-Alto",
         "marker": {
          "color": "rgb(178,24,43)"
         },
         "name": "Médio-Alto",
         "offsetgroup": "Médio-Alto",
         "orientation": "v",
         "showlegend": false,
         "text": [
          1327,
          1709,
          1620,
          1992,
          1961,
          1929,
          2100,
          2230,
          2261,
          2222,
          2236
         ],
         "textposition": "auto",
         "type": "bar",
         "x": [
          "2007",
          "2008",
          "2009",
          "2010",
          "2011",
          "2012",
          "2013",
          "2014",
          "2015",
          "2016",
          "2017"
         ],
         "xaxis": "x6",
         "y": [
          1327,
          1709,
          1620,
          1992,
          1961,
          1929,
          2100,
          2230,
          2261,
          2222,
          2236
         ],
         "yaxis": "y6"
        },
        {
         "alignmentgroup": "True",
         "hovertemplate": "Nível Tecnológico=Médio-Alto<br>Espaço Metropolitano=Recife<br>Ano=%{x}<br>Pessoal=%{text}<extra></extra>",
         "legendgroup": "Médio-Alto",
         "marker": {
          "color": "rgb(178,24,43)"
         },
         "name": "Médio-Alto",
         "offsetgroup": "Médio-Alto",
         "orientation": "v",
         "showlegend": false,
         "text": [
          12729,
          14653,
          14861,
          15753,
          18364,
          20307,
          21387,
          17558,
          16760,
          16597,
          16445
         ],
         "textposition": "auto",
         "type": "bar",
         "x": [
          "2007",
          "2008",
          "2009",
          "2010",
          "2011",
          "2012",
          "2013",
          "2014",
          "2015",
          "2016",
          "2017"
         ],
         "xaxis": "x5",
         "y": [
          12729,
          14653,
          14861,
          15753,
          18364,
          20307,
          21387,
          17558,
          16760,
          16597,
          16445
         ],
         "yaxis": "y5"
        },
        {
         "alignmentgroup": "True",
         "hovertemplate": "Nível Tecnológico=Médio-Alto<br>Espaço Metropolitano=Curitiba<br>Ano=%{x}<br>Pessoal=%{text}<extra></extra>",
         "legendgroup": "Médio-Alto",
         "marker": {
          "color": "rgb(178,24,43)"
         },
         "name": "Médio-Alto",
         "offsetgroup": "Médio-Alto",
         "orientation": "v",
         "showlegend": false,
         "text": [
          63993,
          66371,
          67378,
          75287,
          81549,
          82714,
          80549,
          73766,
          64756,
          60841,
          61754
         ],
         "textposition": "auto",
         "type": "bar",
         "x": [
          "2007",
          "2008",
          "2009",
          "2010",
          "2011",
          "2012",
          "2013",
          "2014",
          "2015",
          "2016",
          "2017"
         ],
         "xaxis": "x4",
         "y": [
          63993,
          66371,
          67378,
          75287,
          81549,
          82714,
          80549,
          73766,
          64756,
          60841,
          61754
         ],
         "yaxis": "y4"
        },
        {
         "alignmentgroup": "True",
         "hovertemplate": "Nível Tecnológico=Médio-Alto<br>Espaço Metropolitano=Rio de Janeiro<br>Ano=%{x}<br>Pessoal=%{text}<extra></extra>",
         "legendgroup": "Médio-Alto",
         "marker": {
          "color": "rgb(178,24,43)"
         },
         "name": "Médio-Alto",
         "offsetgroup": "Médio-Alto",
         "orientation": "v",
         "showlegend": false,
         "text": [
          40236,
          42331,
          39918,
          42698,
          42925,
          42819,
          45796,
          44240,
          38613,
          33734,
          29629
         ],
         "textposition": "auto",
         "type": "bar",
         "x": [
          "2007",
          "2008",
          "2009",
          "2010",
          "2011",
          "2012",
          "2013",
          "2014",
          "2015",
          "2016",
          "2017"
         ],
         "xaxis": "x3",
         "y": [
          40236,
          42331,
          39918,
          42698,
          42925,
          42819,
          45796,
          44240,
          38613,
          33734,
          29629
         ],
         "yaxis": "y3"
        },
        {
         "alignmentgroup": "True",
         "hovertemplate": "Nível Tecnológico=Médio-Alto<br>Espaço Metropolitano=Porto Alegre<br>Ano=%{x}<br>Pessoal=%{text}<extra></extra>",
         "legendgroup": "Médio-Alto",
         "marker": {
          "color": "rgb(178,24,43)"
         },
         "name": "Médio-Alto",
         "offsetgroup": "Médio-Alto",
         "orientation": "v",
         "showlegend": false,
         "text": [
          45603,
          48069,
          45483,
          51747,
          53631,
          53682,
          58079,
          53858,
          48598,
          42141,
          42699
         ],
         "textposition": "auto",
         "type": "bar",
         "x": [
          "2007",
          "2008",
          "2009",
          "2010",
          "2011",
          "2012",
          "2013",
          "2014",
          "2015",
          "2016",
          "2017"
         ],
         "xaxis": "x2",
         "y": [
          45603,
          48069,
          45483,
          51747,
          53631,
          53682,
          58079,
          53858,
          48598,
          42141,
          42699
         ],
         "yaxis": "y2"
        },
        {
         "alignmentgroup": "True",
         "hovertemplate": "Nível Tecnológico=Médio-Alto<br>Espaço Metropolitano=Florianópolis<br>Ano=%{x}<br>Pessoal=%{text}<extra></extra>",
         "legendgroup": "Médio-Alto",
         "marker": {
          "color": "rgb(178,24,43)"
         },
         "name": "Médio-Alto",
         "offsetgroup": "Médio-Alto",
         "orientation": "v",
         "showlegend": false,
         "text": [
          2235,
          2370,
          2577,
          2880,
          3145,
          3218,
          3460,
          3618,
          3261,
          3193,
          3336
         ],
         "textposition": "auto",
         "type": "bar",
         "x": [
          "2007",
          "2008",
          "2009",
          "2010",
          "2011",
          "2012",
          "2013",
          "2014",
          "2015",
          "2016",
          "2017"
         ],
         "xaxis": "x",
         "y": [
          2235,
          2370,
          2577,
          2880,
          3145,
          3218,
          3460,
          3618,
          3261,
          3193,
          3336
         ],
         "yaxis": "y"
        },
        {
         "alignmentgroup": "True",
         "hovertemplate": "Nível Tecnológico=Médio-Baixo<br>Espaço Metropolitano=Manaus<br>Ano=%{x}<br>Pessoal=%{text}<extra></extra>",
         "legendgroup": "Médio-Baixo",
         "marker": {
          "color": "rgb(214,96,77)"
         },
         "name": "Médio-Baixo",
         "offsetgroup": "Médio-Baixo",
         "orientation": "v",
         "showlegend": true,
         "text": [
          22321,
          23327,
          22697,
          24759,
          26110,
          24723,
          26312,
          26510,
          21043,
          18511,
          18464
         ],
         "textposition": "auto",
         "type": "bar",
         "x": [
          "2007",
          "2008",
          "2009",
          "2010",
          "2011",
          "2012",
          "2013",
          "2014",
          "2015",
          "2016",
          "2017"
         ],
         "xaxis": "x13",
         "y": [
          22321,
          23327,
          22697,
          24759,
          26110,
          24723,
          26312,
          26510,
          21043,
          18511,
          18464
         ],
         "yaxis": "y13"
        },
        {
         "alignmentgroup": "True",
         "hovertemplate": "Nível Tecnológico=Médio-Baixo<br>Espaço Metropolitano=Salvador<br>Ano=%{x}<br>Pessoal=%{text}<extra></extra>",
         "legendgroup": "Médio-Baixo",
         "marker": {
          "color": "rgb(214,96,77)"
         },
         "name": "Médio-Baixo",
         "offsetgroup": "Médio-Baixo",
         "orientation": "v",
         "showlegend": false,
         "text": [
          25266,
          24981,
          27009,
          30109,
          33633,
          32664,
          33144,
          31270,
          28913,
          27225,
          26336
         ],
         "textposition": "auto",
         "type": "bar",
         "x": [
          "2007",
          "2008",
          "2009",
          "2010",
          "2011",
          "2012",
          "2013",
          "2014",
          "2015",
          "2016",
          "2017"
         ],
         "xaxis": "x12",
         "y": [
          25266,
          24981,
          27009,
          30109,
          33633,
          32664,
          33144,
          31270,
          28913,
          27225,
          26336
         ],
         "yaxis": "y12"
        },
        {
         "alignmentgroup": "True",
         "hovertemplate": "Nível Tecnológico=Médio-Baixo<br>Espaço Metropolitano=Fortaleza<br>Ano=%{x}<br>Pessoal=%{text}<extra></extra>",
         "legendgroup": "Médio-Baixo",
         "marker": {
          "color": "rgb(214,96,77)"
         },
         "name": "Médio-Baixo",
         "offsetgroup": "Médio-Baixo",
         "orientation": "v",
         "showlegend": false,
         "text": [
          17535,
          19190,
          20358,
          24146,
          24677,
          28227,
          28676,
          28838,
          23091,
          20646,
          19654
         ],
         "textposition": "auto",
         "type": "bar",
         "x": [
          "2007",
          "2008",
          "2009",
          "2010",
          "2011",
          "2012",
          "2013",
          "2014",
          "2015",
          "2016",
          "2017"
         ],
         "xaxis": "x11",
         "y": [
          17535,
          19190,
          20358,
          24146,
          24677,
          28227,
          28676,
          28838,
          23091,
          20646,
          19654
         ],
         "yaxis": "y11"
        },
        {
         "alignmentgroup": "True",
         "hovertemplate": "Nível Tecnológico=Médio-Baixo<br>Espaço Metropolitano=Brasília<br>Ano=%{x}<br>Pessoal=%{text}<extra></extra>",
         "legendgroup": "Médio-Baixo",
         "marker": {
          "color": "rgb(214,96,77)"
         },
         "name": "Médio-Baixo",
         "offsetgroup": "Médio-Baixo",
         "orientation": "v",
         "showlegend": false,
         "text": [
          4449,
          905,
          5081,
          949,
          5673,
          1038,
          6668,
          1317,
          7305,
          1435,
          8225,
          1503,
          8294,
          1409,
          7787,
          1461,
          6867,
          1401,
          6246,
          1269,
          6364,
          1137
         ],
         "textposition": "auto",
         "type": "bar",
         "x": [
          "2007",
          "2007",
          "2008",
          "2008",
          "2009",
          "2009",
          "2010",
          "2010",
          "2011",
          "2011",
          "2012",
          "2012",
          "2013",
          "2013",
          "2014",
          "2014",
          "2015",
          "2015",
          "2016",
          "2016",
          "2017",
          "2017"
         ],
         "xaxis": "x10",
         "y": [
          4449,
          905,
          5081,
          949,
          5673,
          1038,
          6668,
          1317,
          7305,
          1435,
          8225,
          1503,
          8294,
          1409,
          7787,
          1461,
          6867,
          1401,
          6246,
          1269,
          6364,
          1137
         ],
         "yaxis": "y10"
        },
        {
         "alignmentgroup": "True",
         "hovertemplate": "Nível Tecnológico=Médio-Baixo<br>Espaço Metropolitano=Vitória<br>Ano=%{x}<br>Pessoal=%{text}<extra></extra>",
         "legendgroup": "Médio-Baixo",
         "marker": {
          "color": "rgb(214,96,77)"
         },
         "name": "Médio-Baixo",
         "offsetgroup": "Médio-Baixo",
         "orientation": "v",
         "showlegend": false,
         "text": [
          21710,
          24689,
          21600,
          23943,
          24724,
          25057,
          24421,
          24680,
          23674,
          21518,
          21245
         ],
         "textposition": "auto",
         "type": "bar",
         "x": [
          "2007",
          "2008",
          "2009",
          "2010",
          "2011",
          "2012",
          "2013",
          "2014",
          "2015",
          "2016",
          "2017"
         ],
         "xaxis": "x9",
         "y": [
          21710,
          24689,
          21600,
          23943,
          24724,
          25057,
          24421,
          24680,
          23674,
          21518,
          21245
         ],
         "yaxis": "y9"
        },
        {
         "alignmentgroup": "True",
         "hovertemplate": "Nível Tecnológico=Médio-Baixo<br>Espaço Metropolitano=Goiânia<br>Ano=%{x}<br>Pessoal=%{text}<extra></extra>",
         "legendgroup": "Médio-Baixo",
         "marker": {
          "color": "rgb(214,96,77)"
         },
         "name": "Médio-Baixo",
         "offsetgroup": "Médio-Baixo",
         "orientation": "v",
         "showlegend": false,
         "text": [
          10975,
          11953,
          12188,
          14229,
          16236,
          17018,
          17199,
          17609,
          15862,
          13709,
          13720
         ],
         "textposition": "auto",
         "type": "bar",
         "x": [
          "2007",
          "2008",
          "2009",
          "2010",
          "2011",
          "2012",
          "2013",
          "2014",
          "2015",
          "2016",
          "2017"
         ],
         "xaxis": "x8",
         "y": [
          10975,
          11953,
          12188,
          14229,
          16236,
          17018,
          17199,
          17609,
          15862,
          13709,
          13720
         ],
         "yaxis": "y8"
        },
        {
         "alignmentgroup": "True",
         "hovertemplate": "Nível Tecnológico=Médio-Baixo<br>Espaço Metropolitano=Belo Horizonte<br>Ano=%{x}<br>Pessoal=%{text}<extra></extra>",
         "legendgroup": "Médio-Baixo",
         "marker": {
          "color": "rgb(214,96,77)"
         },
         "name": "Médio-Baixo",
         "offsetgroup": "Médio-Baixo",
         "orientation": "v",
         "showlegend": false,
         "text": [
          66479,
          69961,
          67145,
          75240,
          77450,
          76156,
          73031,
          71784,
          63488,
          56345,
          54626
         ],
         "textposition": "auto",
         "type": "bar",
         "x": [
          "2007",
          "2008",
          "2009",
          "2010",
          "2011",
          "2012",
          "2013",
          "2014",
          "2015",
          "2016",
          "2017"
         ],
         "xaxis": "x7",
         "y": [
          66479,
          69961,
          67145,
          75240,
          77450,
          76156,
          73031,
          71784,
          63488,
          56345,
          54626
         ],
         "yaxis": "y7"
        },
        {
         "alignmentgroup": "True",
         "hovertemplate": "Nível Tecnológico=Médio-Baixo<br>Espaço Metropolitano=Belém<br>Ano=%{x}<br>Pessoal=%{text}<extra></extra>",
         "legendgroup": "Médio-Baixo",
         "marker": {
          "color": "rgb(214,96,77)"
         },
         "name": "Médio-Baixo",
         "offsetgroup": "Médio-Baixo",
         "orientation": "v",
         "showlegend": false,
         "text": [
          4146,
          5038,
          5125,
          5590,
          5511,
          5565,
          5698,
          6256,
          5103,
          4695,
          4587
         ],
         "textposition": "auto",
         "type": "bar",
         "x": [
          "2007",
          "2008",
          "2009",
          "2010",
          "2011",
          "2012",
          "2013",
          "2014",
          "2015",
          "2016",
          "2017"
         ],
         "xaxis": "x6",
         "y": [
          4146,
          5038,
          5125,
          5590,
          5511,
          5565,
          5698,
          6256,
          5103,
          4695,
          4587
         ],
         "yaxis": "y6"
        },
        {
         "alignmentgroup": "True",
         "hovertemplate": "Nível Tecnológico=Médio-Baixo<br>Espaço Metropolitano=Recife<br>Ano=%{x}<br>Pessoal=%{text}<extra></extra>",
         "legendgroup": "Médio-Baixo",
         "marker": {
          "color": "rgb(214,96,77)"
         },
         "name": "Médio-Baixo",
         "offsetgroup": "Médio-Baixo",
         "orientation": "v",
         "showlegend": false,
         "text": [
          21493,
          23452,
          26815,
          30136,
          32621,
          34528,
          39709,
          35074,
          31448,
          28723,
          28210
         ],
         "textposition": "auto",
         "type": "bar",
         "x": [
          "2007",
          "2008",
          "2009",
          "2010",
          "2011",
          "2012",
          "2013",
          "2014",
          "2015",
          "2016",
          "2017"
         ],
         "xaxis": "x5",
         "y": [
          21493,
          23452,
          26815,
          30136,
          32621,
          34528,
          39709,
          35074,
          31448,
          28723,
          28210
         ],
         "yaxis": "y5"
        },
        {
         "alignmentgroup": "True",
         "hovertemplate": "Nível Tecnológico=Médio-Baixo<br>Espaço Metropolitano=Curitiba<br>Ano=%{x}<br>Pessoal=%{text}<extra></extra>",
         "legendgroup": "Médio-Baixo",
         "marker": {
          "color": "rgb(214,96,77)"
         },
         "name": "Médio-Baixo",
         "offsetgroup": "Médio-Baixo",
         "orientation": "v",
         "showlegend": false,
         "text": [
          45647,
          48231,
          47987,
          51941,
          53517,
          54230,
          55055,
          52938,
          48678,
          45492,
          45131
         ],
         "textposition": "auto",
         "type": "bar",
         "x": [
          "2007",
          "2008",
          "2009",
          "2010",
          "2011",
          "2012",
          "2013",
          "2014",
          "2015",
          "2016",
          "2017"
         ],
         "xaxis": "x4",
         "y": [
          45647,
          48231,
          47987,
          51941,
          53517,
          54230,
          55055,
          52938,
          48678,
          45492,
          45131
         ],
         "yaxis": "y4"
        },
        {
         "alignmentgroup": "True",
         "hovertemplate": "Nível Tecnológico=Médio-Baixo<br>Espaço Metropolitano=Rio de Janeiro<br>Ano=%{x}<br>Pessoal=%{text}<extra></extra>",
         "legendgroup": "Médio-Baixo",
         "marker": {
          "color": "rgb(214,96,77)"
         },
         "name": "Médio-Baixo",
         "offsetgroup": "Médio-Baixo",
         "orientation": "v",
         "showlegend": false,
         "text": [
          69089,
          76903,
          76651,
          96024,
          102165,
          106110,
          110540,
          110713,
          92980,
          78471,
          71987
         ],
         "textposition": "auto",
         "type": "bar",
         "x": [
          "2007",
          "2008",
          "2009",
          "2010",
          "2011",
          "2012",
          "2013",
          "2014",
          "2015",
          "2016",
          "2017"
         ],
         "xaxis": "x3",
         "y": [
          69089,
          76903,
          76651,
          96024,
          102165,
          106110,
          110540,
          110713,
          92980,
          78471,
          71987
         ],
         "yaxis": "y3"
        },
        {
         "alignmentgroup": "True",
         "hovertemplate": "Nível Tecnológico=Médio-Baixo<br>Espaço Metropolitano=Porto Alegre<br>Ano=%{x}<br>Pessoal=%{text}<extra></extra>",
         "legendgroup": "Médio-Baixo",
         "marker": {
          "color": "rgb(214,96,77)"
         },
         "name": "Médio-Baixo",
         "offsetgroup": "Médio-Baixo",
         "orientation": "v",
         "showlegend": false,
         "text": [
          54781,
          56140,
          55358,
          59122,
          61222,
          58749,
          56960,
          54696,
          47011,
          46024,
          45473
         ],
         "textposition": "auto",
         "type": "bar",
         "x": [
          "2007",
          "2008",
          "2009",
          "2010",
          "2011",
          "2012",
          "2013",
          "2014",
          "2015",
          "2016",
          "2017"
         ],
         "xaxis": "x2",
         "y": [
          54781,
          56140,
          55358,
          59122,
          61222,
          58749,
          56960,
          54696,
          47011,
          46024,
          45473
         ],
         "yaxis": "y2"
        },
        {
         "alignmentgroup": "True",
         "hovertemplate": "Nível Tecnológico=Médio-Baixo<br>Espaço Metropolitano=Florianópolis<br>Ano=%{x}<br>Pessoal=%{text}<extra></extra>",
         "legendgroup": "Médio-Baixo",
         "marker": {
          "color": "rgb(214,96,77)"
         },
         "name": "Médio-Baixo",
         "offsetgroup": "Médio-Baixo",
         "orientation": "v",
         "showlegend": false,
         "text": [
          6504,
          7048,
          7333,
          8460,
          8884,
          8962,
          9142,
          8594,
          8094,
          7615,
          8129
         ],
         "textposition": "auto",
         "type": "bar",
         "x": [
          "2007",
          "2008",
          "2009",
          "2010",
          "2011",
          "2012",
          "2013",
          "2014",
          "2015",
          "2016",
          "2017"
         ],
         "xaxis": "x",
         "y": [
          6504,
          7048,
          7333,
          8460,
          8884,
          8962,
          9142,
          8594,
          8094,
          7615,
          8129
         ],
         "yaxis": "y"
        },
        {
         "alignmentgroup": "True",
         "hovertemplate": "Nível Tecnológico=Baixo<br>Espaço Metropolitano=Manaus<br>Ano=%{x}<br>Pessoal=%{text}<extra></extra>",
         "legendgroup": "Baixo",
         "marker": {
          "color": "rgb(244,165,130)"
         },
         "name": "Baixo",
         "offsetgroup": "Baixo",
         "orientation": "v",
         "showlegend": true,
         "text": [
          12227,
          12676,
          12469,
          13512,
          14734,
          15935,
          17142,
          16252,
          15739,
          13746,
          13816
         ],
         "textposition": "auto",
         "type": "bar",
         "x": [
          "2007",
          "2008",
          "2009",
          "2010",
          "2011",
          "2012",
          "2013",
          "2014",
          "2015",
          "2016",
          "2017"
         ],
         "xaxis": "x13",
         "y": [
          12227,
          12676,
          12469,
          13512,
          14734,
          15935,
          17142,
          16252,
          15739,
          13746,
          13816
         ],
         "yaxis": "y13"
        },
        {
         "alignmentgroup": "True",
         "hovertemplate": "Nível Tecnológico=Baixo<br>Espaço Metropolitano=Salvador<br>Ano=%{x}<br>Pessoal=%{text}<extra></extra>",
         "legendgroup": "Baixo",
         "marker": {
          "color": "rgb(244,165,130)"
         },
         "name": "Baixo",
         "offsetgroup": "Baixo",
         "orientation": "v",
         "showlegend": false,
         "text": [
          22821,
          23233,
          24423,
          26308,
          27566,
          28621,
          29544,
          29412,
          27396,
          26819,
          25842
         ],
         "textposition": "auto",
         "type": "bar",
         "x": [
          "2007",
          "2008",
          "2009",
          "2010",
          "2011",
          "2012",
          "2013",
          "2014",
          "2015",
          "2016",
          "2017"
         ],
         "xaxis": "x12",
         "y": [
          22821,
          23233,
          24423,
          26308,
          27566,
          28621,
          29544,
          29412,
          27396,
          26819,
          25842
         ],
         "yaxis": "y12"
        },
        {
         "alignmentgroup": "True",
         "hovertemplate": "Nível Tecnológico=Baixo<br>Espaço Metropolitano=Fortaleza<br>Ano=%{x}<br>Pessoal=%{text}<extra></extra>",
         "legendgroup": "Baixo",
         "marker": {
          "color": "rgb(244,165,130)"
         },
         "name": "Baixo",
         "offsetgroup": "Baixo",
         "orientation": "v",
         "showlegend": false,
         "text": [
          89261,
          93224,
          98773,
          106879,
          105414,
          106311,
          105764,
          105790,
          97549,
          89680,
          87884
         ],
         "textposition": "auto",
         "type": "bar",
         "x": [
          "2007",
          "2008",
          "2009",
          "2010",
          "2011",
          "2012",
          "2013",
          "2014",
          "2015",
          "2016",
          "2017"
         ],
         "xaxis": "x11",
         "y": [
          89261,
          93224,
          98773,
          106879,
          105414,
          106311,
          105764,
          105790,
          97549,
          89680,
          87884
         ],
         "yaxis": "y11"
        },
        {
         "alignmentgroup": "True",
         "hovertemplate": "Nível Tecnológico=Baixo<br>Espaço Metropolitano=Brasília<br>Ano=%{x}<br>Pessoal=%{text}<extra></extra>",
         "legendgroup": "Baixo",
         "marker": {
          "color": "rgb(244,165,130)"
         },
         "name": "Baixo",
         "offsetgroup": "Baixo",
         "orientation": "v",
         "showlegend": false,
         "text": [
          13364,
          3348,
          14333,
          3160,
          15123,
          2933,
          17042,
          3328,
          17362,
          2918,
          19044,
          3140,
          16682,
          2803,
          16497,
          2641,
          16933,
          2900,
          16053,
          2847,
          15622,
          2905
         ],
         "textposition": "auto",
         "type": "bar",
         "x": [
          "2007",
          "2007",
          "2008",
          "2008",
          "2009",
          "2009",
          "2010",
          "2010",
          "2011",
          "2011",
          "2012",
          "2012",
          "2013",
          "2013",
          "2014",
          "2014",
          "2015",
          "2015",
          "2016",
          "2016",
          "2017",
          "2017"
         ],
         "xaxis": "x10",
         "y": [
          13364,
          3348,
          14333,
          3160,
          15123,
          2933,
          17042,
          3328,
          17362,
          2918,
          19044,
          3140,
          16682,
          2803,
          16497,
          2641,
          16933,
          2900,
          16053,
          2847,
          15622,
          2905
         ],
         "yaxis": "y10"
        },
        {
         "alignmentgroup": "True",
         "hovertemplate": "Nível Tecnológico=Baixo<br>Espaço Metropolitano=Vitória<br>Ano=%{x}<br>Pessoal=%{text}<extra></extra>",
         "legendgroup": "Baixo",
         "marker": {
          "color": "rgb(244,165,130)"
         },
         "name": "Baixo",
         "offsetgroup": "Baixo",
         "orientation": "v",
         "showlegend": false,
         "text": [
          17521,
          17399,
          17951,
          19432,
          20224,
          19667,
          18965,
          19383,
          18263,
          16789,
          17040
         ],
         "textposition": "auto",
         "type": "bar",
         "x": [
          "2007",
          "2008",
          "2009",
          "2010",
          "2011",
          "2012",
          "2013",
          "2014",
          "2015",
          "2016",
          "2017"
         ],
         "xaxis": "x9",
         "y": [
          17521,
          17399,
          17951,
          19432,
          20224,
          19667,
          18965,
          19383,
          18263,
          16789,
          17040
         ],
         "yaxis": "y9"
        },
        {
         "alignmentgroup": "True",
         "hovertemplate": "Nível Tecnológico=Baixo<br>Espaço Metropolitano=Goiânia<br>Ano=%{x}<br>Pessoal=%{text}<extra></extra>",
         "legendgroup": "Baixo",
         "marker": {
          "color": "rgb(244,165,130)"
         },
         "name": "Baixo",
         "offsetgroup": "Baixo",
         "orientation": "v",
         "showlegend": false,
         "text": [
          44858,
          45991,
          47187,
          50599,
          52157,
          56382,
          59179,
          58486,
          55081,
          50518,
          49824
         ],
         "textposition": "auto",
         "type": "bar",
         "x": [
          "2007",
          "2008",
          "2009",
          "2010",
          "2011",
          "2012",
          "2013",
          "2014",
          "2015",
          "2016",
          "2017"
         ],
         "xaxis": "x8",
         "y": [
          44858,
          45991,
          47187,
          50599,
          52157,
          56382,
          59179,
          58486,
          55081,
          50518,
          49824
         ],
         "yaxis": "y8"
        },
        {
         "alignmentgroup": "True",
         "hovertemplate": "Nível Tecnológico=Baixo<br>Espaço Metropolitano=Belo Horizonte<br>Ano=%{x}<br>Pessoal=%{text}<extra></extra>",
         "legendgroup": "Baixo",
         "marker": {
          "color": "rgb(244,165,130)"
         },
         "name": "Baixo",
         "offsetgroup": "Baixo",
         "orientation": "v",
         "showlegend": false,
         "text": [
          58058,
          58965,
          58437,
          62727,
          60275,
          63450,
          61783,
          59125,
          56222,
          53226,
          53753
         ],
         "textposition": "auto",
         "type": "bar",
         "x": [
          "2007",
          "2008",
          "2009",
          "2010",
          "2011",
          "2012",
          "2013",
          "2014",
          "2015",
          "2016",
          "2017"
         ],
         "xaxis": "x7",
         "y": [
          58058,
          58965,
          58437,
          62727,
          60275,
          63450,
          61783,
          59125,
          56222,
          53226,
          53753
         ],
         "yaxis": "y7"
        },
        {
         "alignmentgroup": "True",
         "hovertemplate": "Nível Tecnológico=Baixo<br>Espaço Metropolitano=Belém<br>Ano=%{x}<br>Pessoal=%{text}<extra></extra>",
         "legendgroup": "Baixo",
         "marker": {
          "color": "rgb(244,165,130)"
         },
         "name": "Baixo",
         "offsetgroup": "Baixo",
         "orientation": "v",
         "showlegend": false,
         "text": [
          20201,
          17668,
          16507,
          17687,
          16400,
          16402,
          16320,
          16984,
          16435,
          15142,
          15508
         ],
         "textposition": "auto",
         "type": "bar",
         "x": [
          "2007",
          "2008",
          "2009",
          "2010",
          "2011",
          "2012",
          "2013",
          "2014",
          "2015",
          "2016",
          "2017"
         ],
         "xaxis": "x6",
         "y": [
          20201,
          17668,
          16507,
          17687,
          16400,
          16402,
          16320,
          16984,
          16435,
          15142,
          15508
         ],
         "yaxis": "y6"
        },
        {
         "alignmentgroup": "True",
         "hovertemplate": "Nível Tecnológico=Baixo<br>Espaço Metropolitano=Recife<br>Ano=%{x}<br>Pessoal=%{text}<extra></extra>",
         "legendgroup": "Baixo",
         "marker": {
          "color": "rgb(244,165,130)"
         },
         "name": "Baixo",
         "offsetgroup": "Baixo",
         "orientation": "v",
         "showlegend": false,
         "text": [
          49818,
          51587,
          52979,
          53979,
          52650,
          56753,
          54643,
          59283,
          54205,
          49971,
          49099
         ],
         "textposition": "auto",
         "type": "bar",
         "x": [
          "2007",
          "2008",
          "2009",
          "2010",
          "2011",
          "2012",
          "2013",
          "2014",
          "2015",
          "2016",
          "2017"
         ],
         "xaxis": "x5",
         "y": [
          49818,
          51587,
          52979,
          53979,
          52650,
          56753,
          54643,
          59283,
          54205,
          49971,
          49099
         ],
         "yaxis": "y5"
        },
        {
         "alignmentgroup": "True",
         "hovertemplate": "Nível Tecnológico=Baixo<br>Espaço Metropolitano=Curitiba<br>Ano=%{x}<br>Pessoal=%{text}<extra></extra>",
         "legendgroup": "Baixo",
         "marker": {
          "color": "rgb(244,165,130)"
         },
         "name": "Baixo",
         "offsetgroup": "Baixo",
         "orientation": "v",
         "showlegend": false,
         "text": [
          54896,
          55468,
          54579,
          58718,
          58664,
          57031,
          56972,
          55939,
          51220,
          48744,
          46028
         ],
         "textposition": "auto",
         "type": "bar",
         "x": [
          "2007",
          "2008",
          "2009",
          "2010",
          "2011",
          "2012",
          "2013",
          "2014",
          "2015",
          "2016",
          "2017"
         ],
         "xaxis": "x4",
         "y": [
          54896,
          55468,
          54579,
          58718,
          58664,
          57031,
          56972,
          55939,
          51220,
          48744,
          46028
         ],
         "yaxis": "y4"
        },
        {
         "alignmentgroup": "True",
         "hovertemplate": "Nível Tecnológico=Baixo<br>Espaço Metropolitano=Rio de Janeiro<br>Ano=%{x}<br>Pessoal=%{text}<extra></extra>",
         "legendgroup": "Baixo",
         "marker": {
          "color": "rgb(244,165,130)"
         },
         "name": "Baixo",
         "offsetgroup": "Baixo",
         "orientation": "v",
         "showlegend": false,
         "text": [
          94510,
          90167,
          94043,
          99758,
          101434,
          102549,
          97912,
          97351,
          90158,
          82379,
          77013
         ],
         "textposition": "auto",
         "type": "bar",
         "x": [
          "2007",
          "2008",
          "2009",
          "2010",
          "2011",
          "2012",
          "2013",
          "2014",
          "2015",
          "2016",
          "2017"
         ],
         "xaxis": "x3",
         "y": [
          94510,
          90167,
          94043,
          99758,
          101434,
          102549,
          97912,
          97351,
          90158,
          82379,
          77013
         ],
         "yaxis": "y3"
        },
        {
         "alignmentgroup": "True",
         "hovertemplate": "Nível Tecnológico=Baixo<br>Espaço Metropolitano=Porto Alegre<br>Ano=%{x}<br>Pessoal=%{text}<extra></extra>",
         "legendgroup": "Baixo",
         "marker": {
          "color": "rgb(244,165,130)"
         },
         "name": "Baixo",
         "offsetgroup": "Baixo",
         "orientation": "v",
         "showlegend": false,
         "text": [
          113131,
          108419,
          110241,
          118785,
          115217,
          114373,
          113245,
          109222,
          102628,
          101853,
          97153
         ],
         "textposition": "auto",
         "type": "bar",
         "x": [
          "2007",
          "2008",
          "2009",
          "2010",
          "2011",
          "2012",
          "2013",
          "2014",
          "2015",
          "2016",
          "2017"
         ],
         "xaxis": "x2",
         "y": [
          113131,
          108419,
          110241,
          118785,
          115217,
          114373,
          113245,
          109222,
          102628,
          101853,
          97153
         ],
         "yaxis": "y2"
        },
        {
         "alignmentgroup": "True",
         "hovertemplate": "Nível Tecnológico=Baixo<br>Espaço Metropolitano=Florianópolis<br>Ano=%{x}<br>Pessoal=%{text}<extra></extra>",
         "legendgroup": "Baixo",
         "marker": {
          "color": "rgb(244,165,130)"
         },
         "name": "Baixo",
         "offsetgroup": "Baixo",
         "orientation": "v",
         "showlegend": false,
         "text": [
          8801,
          9207,
          9398,
          10816,
          11321,
          11248,
          11495,
          11585,
          11355,
          10622,
          12146
         ],
         "textposition": "auto",
         "type": "bar",
         "x": [
          "2007",
          "2008",
          "2009",
          "2010",
          "2011",
          "2012",
          "2013",
          "2014",
          "2015",
          "2016",
          "2017"
         ],
         "xaxis": "x",
         "y": [
          8801,
          9207,
          9398,
          10816,
          11321,
          11248,
          11495,
          11585,
          11355,
          10622,
          12146
         ],
         "yaxis": "y"
        }
       ],
       "layout": {
        "annotations": [
         {
          "font": {},
          "showarrow": false,
          "text": "Espaço Metropolitano=Florianópolis",
          "textangle": 90,
          "x": 0.98,
          "xanchor": "left",
          "xref": "paper",
          "y": 0.02461538461538462,
          "yanchor": "middle",
          "yref": "paper"
         },
         {
          "font": {},
          "showarrow": false,
          "text": "Espaço Metropolitano=Porto Alegre",
          "textangle": 90,
          "x": 0.98,
          "xanchor": "left",
          "xref": "paper",
          "y": 0.10384615384615387,
          "yanchor": "middle",
          "yref": "paper"
         },
         {
          "font": {},
          "showarrow": false,
          "text": "Espaço Metropolitano=Rio de Janeiro",
          "textangle": 90,
          "x": 0.98,
          "xanchor": "left",
          "xref": "paper",
          "y": 0.1830769230769231,
          "yanchor": "middle",
          "yref": "paper"
         },
         {
          "font": {},
          "showarrow": false,
          "text": "Espaço Metropolitano=Curitiba",
          "textangle": 90,
          "x": 0.98,
          "xanchor": "left",
          "xref": "paper",
          "y": 0.26230769230769235,
          "yanchor": "middle",
          "yref": "paper"
         },
         {
          "font": {},
          "showarrow": false,
          "text": "Espaço Metropolitano=Recife",
          "textangle": 90,
          "x": 0.98,
          "xanchor": "left",
          "xref": "paper",
          "y": 0.34153846153846157,
          "yanchor": "middle",
          "yref": "paper"
         },
         {
          "font": {},
          "showarrow": false,
          "text": "Espaço Metropolitano=Belém",
          "textangle": 90,
          "x": 0.98,
          "xanchor": "left",
          "xref": "paper",
          "y": 0.4207692307692308,
          "yanchor": "middle",
          "yref": "paper"
         },
         {
          "font": {},
          "showarrow": false,
          "text": "Espaço Metropolitano=Belo Horizonte",
          "textangle": 90,
          "x": 0.98,
          "xanchor": "left",
          "xref": "paper",
          "y": 0.5,
          "yanchor": "middle",
          "yref": "paper"
         },
         {
          "font": {},
          "showarrow": false,
          "text": "Espaço Metropolitano=Goiânia",
          "textangle": 90,
          "x": 0.98,
          "xanchor": "left",
          "xref": "paper",
          "y": 0.5792307692307692,
          "yanchor": "middle",
          "yref": "paper"
         },
         {
          "font": {},
          "showarrow": false,
          "text": "Espaço Metropolitano=Vitória",
          "textangle": 90,
          "x": 0.98,
          "xanchor": "left",
          "xref": "paper",
          "y": 0.6584615384615385,
          "yanchor": "middle",
          "yref": "paper"
         },
         {
          "font": {},
          "showarrow": false,
          "text": "Espaço Metropolitano=Brasília",
          "textangle": 90,
          "x": 0.98,
          "xanchor": "left",
          "xref": "paper",
          "y": 0.7376923076923078,
          "yanchor": "middle",
          "yref": "paper"
         },
         {
          "font": {},
          "showarrow": false,
          "text": "Espaço Metropolitano=Fortaleza",
          "textangle": 90,
          "x": 0.98,
          "xanchor": "left",
          "xref": "paper",
          "y": 0.816923076923077,
          "yanchor": "middle",
          "yref": "paper"
         },
         {
          "font": {},
          "showarrow": false,
          "text": "Espaço Metropolitano=Salvador",
          "textangle": 90,
          "x": 0.98,
          "xanchor": "left",
          "xref": "paper",
          "y": 0.8961538461538462,
          "yanchor": "middle",
          "yref": "paper"
         },
         {
          "font": {},
          "showarrow": false,
          "text": "Espaço Metropolitano=Manaus",
          "textangle": 90,
          "x": 0.98,
          "xanchor": "left",
          "xref": "paper",
          "y": 0.9753846153846154,
          "yanchor": "middle",
          "yref": "paper"
         }
        ],
        "autosize": true,
        "barmode": "relative",
        "legend": {
         "title": {
          "text": "Nível Tecnológico"
         },
         "tracegroupgap": 0
        },
        "template": {
         "data": {
          "bar": [
           {
            "error_x": {
             "color": "#2a3f5f"
            },
            "error_y": {
             "color": "#2a3f5f"
            },
            "marker": {
             "line": {
              "color": "#E5ECF6",
              "width": 0.5
             }
            },
            "type": "bar"
           }
          ],
          "barpolar": [
           {
            "marker": {
             "line": {
              "color": "#E5ECF6",
              "width": 0.5
             }
            },
            "type": "barpolar"
           }
          ],
          "carpet": [
           {
            "aaxis": {
             "endlinecolor": "#2a3f5f",
             "gridcolor": "white",
             "linecolor": "white",
             "minorgridcolor": "white",
             "startlinecolor": "#2a3f5f"
            },
            "baxis": {
             "endlinecolor": "#2a3f5f",
             "gridcolor": "white",
             "linecolor": "white",
             "minorgridcolor": "white",
             "startlinecolor": "#2a3f5f"
            },
            "type": "carpet"
           }
          ],
          "choropleth": [
           {
            "colorbar": {
             "outlinewidth": 0,
             "ticks": ""
            },
            "type": "choropleth"
           }
          ],
          "contour": [
           {
            "colorbar": {
             "outlinewidth": 0,
             "ticks": ""
            },
            "colorscale": [
             [
              0,
              "#0d0887"
             ],
             [
              0.1111111111111111,
              "#46039f"
             ],
             [
              0.2222222222222222,
              "#7201a8"
             ],
             [
              0.3333333333333333,
              "#9c179e"
             ],
             [
              0.4444444444444444,
              "#bd3786"
             ],
             [
              0.5555555555555556,
              "#d8576b"
             ],
             [
              0.6666666666666666,
              "#ed7953"
             ],
             [
              0.7777777777777778,
              "#fb9f3a"
             ],
             [
              0.8888888888888888,
              "#fdca26"
             ],
             [
              1,
              "#f0f921"
             ]
            ],
            "type": "contour"
           }
          ],
          "contourcarpet": [
           {
            "colorbar": {
             "outlinewidth": 0,
             "ticks": ""
            },
            "type": "contourcarpet"
           }
          ],
          "heatmap": [
           {
            "colorbar": {
             "outlinewidth": 0,
             "ticks": ""
            },
            "colorscale": [
             [
              0,
              "#0d0887"
             ],
             [
              0.1111111111111111,
              "#46039f"
             ],
             [
              0.2222222222222222,
              "#7201a8"
             ],
             [
              0.3333333333333333,
              "#9c179e"
             ],
             [
              0.4444444444444444,
              "#bd3786"
             ],
             [
              0.5555555555555556,
              "#d8576b"
             ],
             [
              0.6666666666666666,
              "#ed7953"
             ],
             [
              0.7777777777777778,
              "#fb9f3a"
             ],
             [
              0.8888888888888888,
              "#fdca26"
             ],
             [
              1,
              "#f0f921"
             ]
            ],
            "type": "heatmap"
           }
          ],
          "heatmapgl": [
           {
            "colorbar": {
             "outlinewidth": 0,
             "ticks": ""
            },
            "colorscale": [
             [
              0,
              "#0d0887"
             ],
             [
              0.1111111111111111,
              "#46039f"
             ],
             [
              0.2222222222222222,
              "#7201a8"
             ],
             [
              0.3333333333333333,
              "#9c179e"
             ],
             [
              0.4444444444444444,
              "#bd3786"
             ],
             [
              0.5555555555555556,
              "#d8576b"
             ],
             [
              0.6666666666666666,
              "#ed7953"
             ],
             [
              0.7777777777777778,
              "#fb9f3a"
             ],
             [
              0.8888888888888888,
              "#fdca26"
             ],
             [
              1,
              "#f0f921"
             ]
            ],
            "type": "heatmapgl"
           }
          ],
          "histogram": [
           {
            "marker": {
             "colorbar": {
              "outlinewidth": 0,
              "ticks": ""
             }
            },
            "type": "histogram"
           }
          ],
          "histogram2d": [
           {
            "colorbar": {
             "outlinewidth": 0,
             "ticks": ""
            },
            "colorscale": [
             [
              0,
              "#0d0887"
             ],
             [
              0.1111111111111111,
              "#46039f"
             ],
             [
              0.2222222222222222,
              "#7201a8"
             ],
             [
              0.3333333333333333,
              "#9c179e"
             ],
             [
              0.4444444444444444,
              "#bd3786"
             ],
             [
              0.5555555555555556,
              "#d8576b"
             ],
             [
              0.6666666666666666,
              "#ed7953"
             ],
             [
              0.7777777777777778,
              "#fb9f3a"
             ],
             [
              0.8888888888888888,
              "#fdca26"
             ],
             [
              1,
              "#f0f921"
             ]
            ],
            "type": "histogram2d"
           }
          ],
          "histogram2dcontour": [
           {
            "colorbar": {
             "outlinewidth": 0,
             "ticks": ""
            },
            "colorscale": [
             [
              0,
              "#0d0887"
             ],
             [
              0.1111111111111111,
              "#46039f"
             ],
             [
              0.2222222222222222,
              "#7201a8"
             ],
             [
              0.3333333333333333,
              "#9c179e"
             ],
             [
              0.4444444444444444,
              "#bd3786"
             ],
             [
              0.5555555555555556,
              "#d8576b"
             ],
             [
              0.6666666666666666,
              "#ed7953"
             ],
             [
              0.7777777777777778,
              "#fb9f3a"
             ],
             [
              0.8888888888888888,
              "#fdca26"
             ],
             [
              1,
              "#f0f921"
             ]
            ],
            "type": "histogram2dcontour"
           }
          ],
          "mesh3d": [
           {
            "colorbar": {
             "outlinewidth": 0,
             "ticks": ""
            },
            "type": "mesh3d"
           }
          ],
          "parcoords": [
           {
            "line": {
             "colorbar": {
              "outlinewidth": 0,
              "ticks": ""
             }
            },
            "type": "parcoords"
           }
          ],
          "pie": [
           {
            "automargin": true,
            "type": "pie"
           }
          ],
          "scatter": [
           {
            "marker": {
             "colorbar": {
              "outlinewidth": 0,
              "ticks": ""
             }
            },
            "type": "scatter"
           }
          ],
          "scatter3d": [
           {
            "line": {
             "colorbar": {
              "outlinewidth": 0,
              "ticks": ""
             }
            },
            "marker": {
             "colorbar": {
              "outlinewidth": 0,
              "ticks": ""
             }
            },
            "type": "scatter3d"
           }
          ],
          "scattercarpet": [
           {
            "marker": {
             "colorbar": {
              "outlinewidth": 0,
              "ticks": ""
             }
            },
            "type": "scattercarpet"
           }
          ],
          "scattergeo": [
           {
            "marker": {
             "colorbar": {
              "outlinewidth": 0,
              "ticks": ""
             }
            },
            "type": "scattergeo"
           }
          ],
          "scattergl": [
           {
            "marker": {
             "colorbar": {
              "outlinewidth": 0,
              "ticks": ""
             }
            },
            "type": "scattergl"
           }
          ],
          "scattermapbox": [
           {
            "marker": {
             "colorbar": {
              "outlinewidth": 0,
              "ticks": ""
             }
            },
            "type": "scattermapbox"
           }
          ],
          "scatterpolar": [
           {
            "marker": {
             "colorbar": {
              "outlinewidth": 0,
              "ticks": ""
             }
            },
            "type": "scatterpolar"
           }
          ],
          "scatterpolargl": [
           {
            "marker": {
             "colorbar": {
              "outlinewidth": 0,
              "ticks": ""
             }
            },
            "type": "scatterpolargl"
           }
          ],
          "scatterternary": [
           {
            "marker": {
             "colorbar": {
              "outlinewidth": 0,
              "ticks": ""
             }
            },
            "type": "scatterternary"
           }
          ],
          "surface": [
           {
            "colorbar": {
             "outlinewidth": 0,
             "ticks": ""
            },
            "colorscale": [
             [
              0,
              "#0d0887"
             ],
             [
              0.1111111111111111,
              "#46039f"
             ],
             [
              0.2222222222222222,
              "#7201a8"
             ],
             [
              0.3333333333333333,
              "#9c179e"
             ],
             [
              0.4444444444444444,
              "#bd3786"
             ],
             [
              0.5555555555555556,
              "#d8576b"
             ],
             [
              0.6666666666666666,
              "#ed7953"
             ],
             [
              0.7777777777777778,
              "#fb9f3a"
             ],
             [
              0.8888888888888888,
              "#fdca26"
             ],
             [
              1,
              "#f0f921"
             ]
            ],
            "type": "surface"
           }
          ],
          "table": [
           {
            "cells": {
             "fill": {
              "color": "#EBF0F8"
             },
             "line": {
              "color": "white"
             }
            },
            "header": {
             "fill": {
              "color": "#C8D4E3"
             },
             "line": {
              "color": "white"
             }
            },
            "type": "table"
           }
          ]
         },
         "layout": {
          "annotationdefaults": {
           "arrowcolor": "#2a3f5f",
           "arrowhead": 0,
           "arrowwidth": 1
          },
          "coloraxis": {
           "colorbar": {
            "outlinewidth": 0,
            "ticks": ""
           }
          },
          "colorscale": {
           "diverging": [
            [
             0,
             "#8e0152"
            ],
            [
             0.1,
             "#c51b7d"
            ],
            [
             0.2,
             "#de77ae"
            ],
            [
             0.3,
             "#f1b6da"
            ],
            [
             0.4,
             "#fde0ef"
            ],
            [
             0.5,
             "#f7f7f7"
            ],
            [
             0.6,
             "#e6f5d0"
            ],
            [
             0.7,
             "#b8e186"
            ],
            [
             0.8,
             "#7fbc41"
            ],
            [
             0.9,
             "#4d9221"
            ],
            [
             1,
             "#276419"
            ]
           ],
           "sequential": [
            [
             0,
             "#0d0887"
            ],
            [
             0.1111111111111111,
             "#46039f"
            ],
            [
             0.2222222222222222,
             "#7201a8"
            ],
            [
             0.3333333333333333,
             "#9c179e"
            ],
            [
             0.4444444444444444,
             "#bd3786"
            ],
            [
             0.5555555555555556,
             "#d8576b"
            ],
            [
             0.6666666666666666,
             "#ed7953"
            ],
            [
             0.7777777777777778,
             "#fb9f3a"
            ],
            [
             0.8888888888888888,
             "#fdca26"
            ],
            [
             1,
             "#f0f921"
            ]
           ],
           "sequentialminus": [
            [
             0,
             "#0d0887"
            ],
            [
             0.1111111111111111,
             "#46039f"
            ],
            [
             0.2222222222222222,
             "#7201a8"
            ],
            [
             0.3333333333333333,
             "#9c179e"
            ],
            [
             0.4444444444444444,
             "#bd3786"
            ],
            [
             0.5555555555555556,
             "#d8576b"
            ],
            [
             0.6666666666666666,
             "#ed7953"
            ],
            [
             0.7777777777777778,
             "#fb9f3a"
            ],
            [
             0.8888888888888888,
             "#fdca26"
            ],
            [
             1,
             "#f0f921"
            ]
           ]
          },
          "colorway": [
           "#636efa",
           "#EF553B",
           "#00cc96",
           "#ab63fa",
           "#FFA15A",
           "#19d3f3",
           "#FF6692",
           "#B6E880",
           "#FF97FF",
           "#FECB52"
          ],
          "font": {
           "color": "#2a3f5f"
          },
          "geo": {
           "bgcolor": "white",
           "lakecolor": "white",
           "landcolor": "#E5ECF6",
           "showlakes": true,
           "showland": true,
           "subunitcolor": "white"
          },
          "hoverlabel": {
           "align": "left"
          },
          "hovermode": "closest",
          "mapbox": {
           "style": "light"
          },
          "paper_bgcolor": "white",
          "plot_bgcolor": "#E5ECF6",
          "polar": {
           "angularaxis": {
            "gridcolor": "white",
            "linecolor": "white",
            "ticks": ""
           },
           "bgcolor": "#E5ECF6",
           "radialaxis": {
            "gridcolor": "white",
            "linecolor": "white",
            "ticks": ""
           }
          },
          "scene": {
           "xaxis": {
            "backgroundcolor": "#E5ECF6",
            "gridcolor": "white",
            "gridwidth": 2,
            "linecolor": "white",
            "showbackground": true,
            "ticks": "",
            "zerolinecolor": "white"
           },
           "yaxis": {
            "backgroundcolor": "#E5ECF6",
            "gridcolor": "white",
            "gridwidth": 2,
            "linecolor": "white",
            "showbackground": true,
            "ticks": "",
            "zerolinecolor": "white"
           },
           "zaxis": {
            "backgroundcolor": "#E5ECF6",
            "gridcolor": "white",
            "gridwidth": 2,
            "linecolor": "white",
            "showbackground": true,
            "ticks": "",
            "zerolinecolor": "white"
           }
          },
          "shapedefaults": {
           "line": {
            "color": "#2a3f5f"
           }
          },
          "ternary": {
           "aaxis": {
            "gridcolor": "white",
            "linecolor": "white",
            "ticks": ""
           },
           "baxis": {
            "gridcolor": "white",
            "linecolor": "white",
            "ticks": ""
           },
           "bgcolor": "#E5ECF6",
           "caxis": {
            "gridcolor": "white",
            "linecolor": "white",
            "ticks": ""
           }
          },
          "title": {
           "x": 0.05
          },
          "xaxis": {
           "automargin": true,
           "gridcolor": "white",
           "linecolor": "white",
           "ticks": "",
           "title": {
            "standoff": 15
           },
           "zerolinecolor": "white",
           "zerolinewidth": 2
          },
          "yaxis": {
           "automargin": true,
           "gridcolor": "white",
           "linecolor": "white",
           "ticks": "",
           "title": {
            "standoff": 15
           },
           "zerolinecolor": "white",
           "zerolinewidth": 2
          }
         }
        },
        "title": {
         "text": "Pessoal Ocupado nos Espaços Metropolitanos segundo nível tecnológico da indústria entre 2007 e 2017"
        },
        "xaxis": {
         "anchor": "y",
         "autorange": true,
         "domain": [
          0,
          0.98
         ],
         "range": [
          2006.5,
          2017.5
         ],
         "title": {
          "text": "Ano"
         },
         "type": "linear"
        },
        "xaxis10": {
         "anchor": "y10",
         "autorange": true,
         "domain": [
          0,
          0.98
         ],
         "matches": "x",
         "range": [
          2006.5,
          2017.5
         ],
         "showticklabels": false,
         "type": "linear"
        },
        "xaxis11": {
         "anchor": "y11",
         "autorange": true,
         "domain": [
          0,
          0.98
         ],
         "matches": "x",
         "range": [
          2006.5,
          2017.5
         ],
         "showticklabels": false,
         "type": "linear"
        },
        "xaxis12": {
         "anchor": "y12",
         "autorange": true,
         "domain": [
          0,
          0.98
         ],
         "matches": "x",
         "range": [
          2006.5,
          2017.5
         ],
         "showticklabels": false,
         "type": "linear"
        },
        "xaxis13": {
         "anchor": "y13",
         "autorange": true,
         "domain": [
          0,
          0.98
         ],
         "matches": "x",
         "range": [
          2006.5,
          2017.5
         ],
         "showticklabels": false,
         "type": "linear"
        },
        "xaxis2": {
         "anchor": "y2",
         "autorange": true,
         "domain": [
          0,
          0.98
         ],
         "matches": "x",
         "range": [
          2006.5,
          2017.5
         ],
         "showticklabels": false,
         "type": "linear"
        },
        "xaxis3": {
         "anchor": "y3",
         "autorange": true,
         "domain": [
          0,
          0.98
         ],
         "matches": "x",
         "range": [
          2006.5,
          2017.5
         ],
         "showticklabels": false,
         "type": "linear"
        },
        "xaxis4": {
         "anchor": "y4",
         "autorange": true,
         "domain": [
          0,
          0.98
         ],
         "matches": "x",
         "range": [
          2006.5,
          2017.5
         ],
         "showticklabels": false,
         "type": "linear"
        },
        "xaxis5": {
         "anchor": "y5",
         "autorange": true,
         "domain": [
          0,
          0.98
         ],
         "matches": "x",
         "range": [
          2006.5,
          2017.5
         ],
         "showticklabels": false,
         "type": "linear"
        },
        "xaxis6": {
         "anchor": "y6",
         "autorange": true,
         "domain": [
          0,
          0.98
         ],
         "matches": "x",
         "range": [
          2006.5,
          2017.5
         ],
         "showticklabels": false,
         "type": "linear"
        },
        "xaxis7": {
         "anchor": "y7",
         "autorange": true,
         "domain": [
          0,
          0.98
         ],
         "matches": "x",
         "range": [
          2006.5,
          2017.5
         ],
         "showticklabels": false,
         "type": "linear"
        },
        "xaxis8": {
         "anchor": "y8",
         "autorange": true,
         "domain": [
          0,
          0.98
         ],
         "matches": "x",
         "range": [
          2006.5,
          2017.5
         ],
         "showticklabels": false,
         "type": "linear"
        },
        "xaxis9": {
         "anchor": "y9",
         "autorange": true,
         "domain": [
          0,
          0.98
         ],
         "matches": "x",
         "range": [
          2006.5,
          2017.5
         ],
         "showticklabels": false,
         "type": "linear"
        },
        "yaxis": {
         "anchor": "x",
         "autorange": true,
         "domain": [
          0,
          0.04923076923076924
         ],
         "range": [
          0,
          279396.84210526315
         ],
         "title": {
          "text": "Pessoal"
         },
         "type": "linear"
        },
        "yaxis10": {
         "anchor": "x10",
         "autorange": true,
         "domain": [
          0.7130769230769232,
          0.7623076923076924
         ],
         "matches": "y",
         "range": [
          0,
          279396.84210526315
         ],
         "title": {
          "text": "Pessoal"
         },
         "type": "linear"
        },
        "yaxis11": {
         "anchor": "x11",
         "autorange": true,
         "domain": [
          0.7923076923076924,
          0.8415384615384616
         ],
         "matches": "y",
         "range": [
          0,
          279396.84210526315
         ],
         "title": {
          "text": "Pessoal"
         },
         "type": "linear"
        },
        "yaxis12": {
         "anchor": "x12",
         "autorange": true,
         "domain": [
          0.8715384615384616,
          0.9207692307692308
         ],
         "matches": "y",
         "range": [
          0,
          279396.84210526315
         ],
         "title": {
          "text": "Pessoal"
         },
         "type": "linear"
        },
        "yaxis13": {
         "anchor": "x13",
         "autorange": true,
         "domain": [
          0.9507692307692308,
          1
         ],
         "matches": "y",
         "range": [
          0,
          279396.84210526315
         ],
         "title": {
          "text": "Pessoal"
         },
         "type": "linear"
        },
        "yaxis2": {
         "anchor": "x2",
         "autorange": true,
         "domain": [
          0.07923076923076924,
          0.1284615384615385
         ],
         "matches": "y",
         "range": [
          0,
          279396.84210526315
         ],
         "title": {
          "text": "Pessoal"
         },
         "type": "linear"
        },
        "yaxis3": {
         "anchor": "x3",
         "autorange": true,
         "domain": [
          0.1584615384615385,
          0.20769230769230773
         ],
         "matches": "y",
         "range": [
          0,
          279396.84210526315
         ],
         "title": {
          "text": "Pessoal"
         },
         "type": "linear"
        },
        "yaxis4": {
         "anchor": "x4",
         "autorange": true,
         "domain": [
          0.2376923076923077,
          0.28692307692307695
         ],
         "matches": "y",
         "range": [
          0,
          279396.84210526315
         ],
         "title": {
          "text": "Pessoal"
         },
         "type": "linear"
        },
        "yaxis5": {
         "anchor": "x5",
         "autorange": true,
         "domain": [
          0.316923076923077,
          0.3661538461538462
         ],
         "matches": "y",
         "range": [
          0,
          279396.84210526315
         ],
         "title": {
          "text": "Pessoal"
         },
         "type": "linear"
        },
        "yaxis6": {
         "anchor": "x6",
         "autorange": true,
         "domain": [
          0.3961538461538462,
          0.44538461538461543
         ],
         "matches": "y",
         "range": [
          0,
          279396.84210526315
         ],
         "title": {
          "text": "Pessoal"
         },
         "type": "linear"
        },
        "yaxis7": {
         "anchor": "x7",
         "autorange": true,
         "domain": [
          0.4753846153846154,
          0.5246153846153846
         ],
         "matches": "y",
         "range": [
          0,
          279396.84210526315
         ],
         "title": {
          "text": "Pessoal"
         },
         "type": "linear"
        },
        "yaxis8": {
         "anchor": "x8",
         "autorange": true,
         "domain": [
          0.5546153846153846,
          0.6038461538461538
         ],
         "matches": "y",
         "range": [
          0,
          279396.84210526315
         ],
         "title": {
          "text": "Pessoal"
         },
         "type": "linear"
        },
        "yaxis9": {
         "anchor": "x9",
         "autorange": true,
         "domain": [
          0.633846153846154,
          0.6830769230769231
         ],
         "matches": "y",
         "range": [
          0,
          279396.84210526315
         ],
         "title": {
          "text": "Pessoal"
         },
         "type": "linear"
        }
       }
      },
      "image/png": "[encoded data removed]",
      "text/html": [
       "<div>                            <div id=\"9d1abe59-f712-46ba-8625-919ebbd06dae\" class=\"plotly-graph-div\" style=\"height:4000px; width:100%;\"></div>            <script type=\"text/javascript\">                require([\"plotly\"], function(Plotly) {                    window.PLOTLYENV=window.PLOTLYENV || {};                                    if (document.getElementById(\"9d1abe59-f712-46ba-8625-919ebbd06dae\")) {                    Plotly.newPlot(                        \"9d1abe59-f712-46ba-8625-919ebbd06dae\",                        [{\"alignmentgroup\": \"True\", \"hovertemplate\": \"N\\u00edvel Tecnol\\u00f3gico=Alto<br>Espa\\u00e7o Metropolitano=Manaus<br>Ano=%{x}<br>Pessoal=%{text}<extra></extra>\", \"legendgroup\": \"Alto\", \"marker\": {\"color\": \"rgb(103,0,31)\"}, \"name\": \"Alto\", \"offsetgroup\": \"Alto\", \"orientation\": \"v\", \"showlegend\": true, \"text\": [36928.0, 30074.0, 26798.0, 32777.0, 41823.0, 42168.0, 46980.0, 38615.0, 26894.0, 27322.0, 27844.0], \"textposition\": \"auto\", \"type\": \"bar\", \"x\": [\"2007\", \"2008\", \"2009\", \"2010\", \"2011\", \"2012\", \"2013\", \"2014\", \"2015\", \"2016\", \"2017\"], \"xaxis\": \"x13\", \"y\": [36928, 30074, 26798, 32777, 41823, 42168, 46980, 38615, 26894, 27322, 27844], \"yaxis\": \"y13\"}, {\"alignmentgroup\": \"True\", \"hovertemplate\": \"N\\u00edvel Tecnol\\u00f3gico=Alto<br>Espa\\u00e7o Metropolitano=Salvador<br>Ano=%{x}<br>Pessoal=%{text}<extra></extra>\", \"legendgroup\": \"Alto\", \"marker\": {\"color\": \"rgb(103,0,31)\"}, \"name\": \"Alto\", \"offsetgroup\": \"Alto\", \"orientation\": \"v\", \"showlegend\": false, \"text\": [1578.0, 1424.0, 1234.0, 1448.0, 1801.0, 1845.0, 1502.0, 1181.0, 927.0, 801.0, 649.0], \"textposition\": \"auto\", \"type\": \"bar\", \"x\": [\"2007\", \"2008\", \"2009\", \"2010\", \"2011\", \"2012\", \"2013\", \"2014\", \"2015\", \"2016\", \"2017\"], \"xaxis\": \"x12\", \"y\": [1578, 1424, 1234, 1448, 1801, 1845, 1502, 1181, 927, 801, 649], \"yaxis\": \"y12\"}, {\"alignmentgroup\": \"True\", \"hovertemplate\": \"N\\u00edvel Tecnol\\u00f3gico=Alto<br>Espa\\u00e7o Metropolitano=Fortaleza<br>Ano=%{x}<br>Pessoal=%{text}<extra></extra>\", \"legendgroup\": \"Alto\", \"marker\": {\"color\": \"rgb(103,0,31)\"}, \"name\": \"Alto\", \"offsetgroup\": \"Alto\", \"orientation\": \"v\", \"showlegend\": false, \"text\": [2536.0, 2592.0, 2836.0, 3083.0, 3259.0, 2908.0, 2915.0, 2674.0, 2499.0, 2135.0, 2224.0], \"textposition\": \"auto\", \"type\": \"bar\", \"x\": [\"2007\", \"2008\", \"2009\", \"2010\", \"2011\", \"2012\", \"2013\", \"2014\", \"2015\", \"2016\", \"2017\"], \"xaxis\": \"x11\", \"y\": [2536, 2592, 2836, 3083, 3259, 2908, 2915, 2674, 2499, 2135, 2224], \"yaxis\": \"y11\"}, {\"alignmentgroup\": \"True\", \"hovertemplate\": \"N\\u00edvel Tecnol\\u00f3gico=Alto<br>Espa\\u00e7o Metropolitano=Bras\\u00edlia<br>Ano=%{x}<br>Pessoal=%{text}<extra></extra>\", \"legendgroup\": \"Alto\", \"marker\": {\"color\": \"rgb(103,0,31)\"}, \"name\": \"Alto\", \"offsetgroup\": \"Alto\", \"orientation\": \"v\", \"showlegend\": false, \"text\": [1018.0, 10.0, 1455.0, 11.0, 1396.0, 11.0, 1456.0, 12.0, 1625.0, 13.0, 1667.0, 16.0, 2027.0, 15.0, 2002.0, 18.0, 2111.0, 32.0, 2153.0, 24.0, 1694.0, 34.0], \"textposition\": \"auto\", \"type\": \"bar\", \"x\": [\"2007\", \"2007\", \"2008\", \"2008\", \"2009\", \"2009\", \"2010\", \"2010\", \"2011\", \"2011\", \"2012\", \"2012\", \"2013\", \"2013\", \"2014\", \"2014\", \"2015\", \"2015\", \"2016\", \"2016\", \"2017\", \"2017\"], \"xaxis\": \"x10\", \"y\": [1018, 10, 1455, 11, 1396, 11, 1456, 12, 1625, 13, 1667, 16, 2027, 15, 2002, 18, 2111, 32, 2153, 24, 1694, 34], \"yaxis\": \"y10\"}, {\"alignmentgroup\": \"True\", \"hovertemplate\": \"N\\u00edvel Tecnol\\u00f3gico=Alto<br>Espa\\u00e7o Metropolitano=Vit\\u00f3ria<br>Ano=%{x}<br>Pessoal=%{text}<extra></extra>\", \"legendgroup\": \"Alto\", \"marker\": {\"color\": \"rgb(103,0,31)\"}, \"name\": \"Alto\", \"offsetgroup\": \"Alto\", \"orientation\": \"v\", \"showlegend\": false, \"text\": [239.0, 232.0, 225.0, 232.0, 275.0, 254.0, 278.0, 244.0, 252.0, 253.0, 276.0], \"textposition\": \"auto\", \"type\": \"bar\", \"x\": [\"2007\", \"2008\", \"2009\", \"2010\", \"2011\", \"2012\", \"2013\", \"2014\", \"2015\", \"2016\", \"2017\"], \"xaxis\": \"x9\", \"y\": [239, 232, 225, 232, 275, 254, 278, 244, 252, 253, 276], \"yaxis\": \"y9\"}, {\"alignmentgroup\": \"True\", \"hovertemplate\": \"N\\u00edvel Tecnol\\u00f3gico=Alto<br>Espa\\u00e7o Metropolitano=Goi\\u00e2nia<br>Ano=%{x}<br>Pessoal=%{text}<extra></extra>\", \"legendgroup\": \"Alto\", \"marker\": {\"color\": \"rgb(103,0,31)\"}, \"name\": \"Alto\", \"offsetgroup\": \"Alto\", \"orientation\": \"v\", \"showlegend\": false, \"text\": [3277.0, 3045.0, 3429.0, 3604.0, 3396.0, 2884.0, 3359.0, 2997.0, 2790.0, 2640.0, 2471.0], \"textposition\": \"auto\", \"type\": \"bar\", \"x\": [\"2007\", \"2008\", \"2009\", \"2010\", \"2011\", \"2012\", \"2013\", \"2014\", \"2015\", \"2016\", \"2017\"], \"xaxis\": \"x8\", \"y\": [3277, 3045, 3429, 3604, 3396, 2884, 3359, 2997, 2790, 2640, 2471], \"yaxis\": \"y8\"}, {\"alignmentgroup\": \"True\", \"hovertemplate\": \"N\\u00edvel Tecnol\\u00f3gico=Alto<br>Espa\\u00e7o Metropolitano=Belo Horizonte<br>Ano=%{x}<br>Pessoal=%{text}<extra></extra>\", \"legendgroup\": \"Alto\", \"marker\": {\"color\": \"rgb(103,0,31)\"}, \"name\": \"Alto\", \"offsetgroup\": \"Alto\", \"orientation\": \"v\", \"showlegend\": false, \"text\": [7278.0, 8625.0, 8512.0, 8813.0, 8249.0, 8500.0, 8017.0, 8323.0, 7396.0, 7404.0, 7030.0], \"textposition\": \"auto\", \"type\": \"bar\", \"x\": [\"2007\", \"2008\", \"2009\", \"2010\", \"2011\", \"2012\", \"2013\", \"2014\", \"2015\", \"2016\", \"2017\"], \"xaxis\": \"x7\", \"y\": [7278, 8625, 8512, 8813, 8249, 8500, 8017, 8323, 7396, 7404, 7030], \"yaxis\": \"y7\"}, {\"alignmentgroup\": \"True\", \"hovertemplate\": \"N\\u00edvel Tecnol\\u00f3gico=Alto<br>Espa\\u00e7o Metropolitano=Bel\\u00e9m<br>Ano=%{x}<br>Pessoal=%{text}<extra></extra>\", \"legendgroup\": \"Alto\", \"marker\": {\"color\": \"rgb(103,0,31)\"}, \"name\": \"Alto\", \"offsetgroup\": \"Alto\", \"orientation\": \"v\", \"showlegend\": false, \"text\": [147.0, 96.0, 66.0, 22.0, 23.0, 18.0, 47.0, 46.0, 42.0, 4.0, 16.0], \"textposition\": \"auto\", \"type\": \"bar\", \"x\": [\"2007\", \"2008\", \"2009\", \"2010\", \"2011\", \"2012\", \"2013\", \"2014\", \"2015\", \"2016\", \"2017\"], \"xaxis\": \"x6\", \"y\": [147, 96, 66, 22, 23, 18, 47, 46, 42, 4, 16], \"yaxis\": \"y6\"}, {\"alignmentgroup\": \"True\", \"hovertemplate\": \"N\\u00edvel Tecnol\\u00f3gico=Alto<br>Espa\\u00e7o Metropolitano=Recife<br>Ano=%{x}<br>Pessoal=%{text}<extra></extra>\", \"legendgroup\": \"Alto\", \"marker\": {\"color\": \"rgb(103,0,31)\"}, \"name\": \"Alto\", \"offsetgroup\": \"Alto\", \"orientation\": \"v\", \"showlegend\": false, \"text\": [1109.0, 764.0, 1205.0, 1286.0, 1293.0, 1177.0, 1210.0, 1172.0, 1113.0, 981.0, 1004.0], \"textposition\": \"auto\", \"type\": \"bar\", \"x\": [\"2007\", \"2008\", \"2009\", \"2010\", \"2011\", \"2012\", \"2013\", \"2014\", \"2015\", \"2016\", \"2017\"], \"xaxis\": \"x5\", \"y\": [1109, 764, 1205, 1286, 1293, 1177, 1210, 1172, 1113, 981, 1004], \"yaxis\": \"y5\"}, {\"alignmentgroup\": \"True\", \"hovertemplate\": \"N\\u00edvel Tecnol\\u00f3gico=Alto<br>Espa\\u00e7o Metropolitano=Curitiba<br>Ano=%{x}<br>Pessoal=%{text}<extra></extra>\", \"legendgroup\": \"Alto\", \"marker\": {\"color\": \"rgb(103,0,31)\"}, \"name\": \"Alto\", \"offsetgroup\": \"Alto\", \"orientation\": \"v\", \"showlegend\": false, \"text\": [8404.0, 9931.0, 12214.0, 10637.0, 9255.0, 9729.0, 9705.0, 8887.0, 7380.0, 6166.0, 6121.0], \"textposition\": \"auto\", \"type\": \"bar\", \"x\": [\"2007\", \"2008\", \"2009\", \"2010\", \"2011\", \"2012\", \"2013\", \"2014\", \"2015\", \"2016\", \"2017\"], \"xaxis\": \"x4\", \"y\": [8404, 9931, 12214, 10637, 9255, 9729, 9705, 8887, 7380, 6166, 6121], \"yaxis\": \"y4\"}, {\"alignmentgroup\": \"True\", \"hovertemplate\": \"N\\u00edvel Tecnol\\u00f3gico=Alto<br>Espa\\u00e7o Metropolitano=Rio de Janeiro<br>Ano=%{x}<br>Pessoal=%{text}<extra></extra>\", \"legendgroup\": \"Alto\", \"marker\": {\"color\": \"rgb(103,0,31)\"}, \"name\": \"Alto\", \"offsetgroup\": \"Alto\", \"orientation\": \"v\", \"showlegend\": false, \"text\": [10833.0, 12082.0, 12322.0, 12879.0, 12576.0, 12347.0, 11179.0, 11919.0, 10984.0, 10353.0, 11130.0], \"textposition\": \"auto\", \"type\": \"bar\", \"x\": [\"2007\", \"2008\", \"2009\", \"2010\", \"2011\", \"2012\", \"2013\", \"2014\", \"2015\", \"2016\", \"2017\"], \"xaxis\": \"x3\", \"y\": [10833, 12082, 12322, 12879, 12576, 12347, 11179, 11919, 10984, 10353, 11130], \"yaxis\": \"y3\"}, {\"alignmentgroup\": \"True\", \"hovertemplate\": \"N\\u00edvel Tecnol\\u00f3gico=Alto<br>Espa\\u00e7o Metropolitano=Porto Alegre<br>Ano=%{x}<br>Pessoal=%{text}<extra></extra>\", \"legendgroup\": \"Alto\", \"marker\": {\"color\": \"rgb(103,0,31)\"}, \"name\": \"Alto\", \"offsetgroup\": \"Alto\", \"orientation\": \"v\", \"showlegend\": false, \"text\": [9559.0, 10094.0, 10729.0, 11924.0, 12370.0, 10762.0, 11186.0, 10738.0, 9865.0, 8721.0, 8619.0], \"textposition\": \"auto\", \"type\": \"bar\", \"x\": [\"2007\", \"2008\", \"2009\", \"2010\", \"2011\", \"2012\", \"2013\", \"2014\", \"2015\", \"2016\", \"2017\"], \"xaxis\": \"x2\", \"y\": [9559, 10094, 10729, 11924, 12370, 10762, 11186, 10738, 9865, 8721, 8619], \"yaxis\": \"y2\"}, {\"alignmentgroup\": \"True\", \"hovertemplate\": \"N\\u00edvel Tecnol\\u00f3gico=Alto<br>Espa\\u00e7o Metropolitano=Florian\\u00f3polis<br>Ano=%{x}<br>Pessoal=%{text}<extra></extra>\", \"legendgroup\": \"Alto\", \"marker\": {\"color\": \"rgb(103,0,31)\"}, \"name\": \"Alto\", \"offsetgroup\": \"Alto\", \"orientation\": \"v\", \"showlegend\": false, \"text\": [2213.0, 2440.0, 2525.0, 2410.0, 2561.0, 2633.0, 2658.0, 2920.0, 2651.0, 2852.0, 3213.0], \"textposition\": \"auto\", \"type\": \"bar\", \"x\": [\"2007\", \"2008\", \"2009\", \"2010\", \"2011\", \"2012\", \"2013\", \"2014\", \"2015\", \"2016\", \"2017\"], \"xaxis\": \"x\", \"y\": [2213, 2440, 2525, 2410, 2561, 2633, 2658, 2920, 2651, 2852, 3213], \"yaxis\": \"y\"}, {\"alignmentgroup\": \"True\", \"hovertemplate\": \"N\\u00edvel Tecnol\\u00f3gico=M\\u00e9dio-Alto<br>Espa\\u00e7o Metropolitano=Manaus<br>Ano=%{x}<br>Pessoal=%{text}<extra></extra>\", \"legendgroup\": \"M\\u00e9dio-Alto\", \"marker\": {\"color\": \"rgb(178,24,43)\"}, \"name\": \"M\\u00e9dio-Alto\", \"offsetgroup\": \"M\\u00e9dio-Alto\", \"orientation\": \"v\", \"showlegend\": true, \"text\": [28953.0, 34781.0, 33397.0, 35491.0, 40416.0, 35871.0, 38072.0, 38623.0, 32864.0, 28174.0, 26981.0], \"textposition\": \"auto\", \"type\": \"bar\", \"x\": [\"2007\", \"2008\", \"2009\", \"2010\", \"2011\", \"2012\", \"2013\", \"2014\", \"2015\", \"2016\", \"2017\"], \"xaxis\": \"x13\", \"y\": [28953, 34781, 33397, 35491, 40416, 35871, 38072, 38623, 32864, 28174, 26981], \"yaxis\": \"y13\"}, {\"alignmentgroup\": \"True\", \"hovertemplate\": \"N\\u00edvel Tecnol\\u00f3gico=M\\u00e9dio-Alto<br>Espa\\u00e7o Metropolitano=Salvador<br>Ano=%{x}<br>Pessoal=%{text}<extra></extra>\", \"legendgroup\": \"M\\u00e9dio-Alto\", \"marker\": {\"color\": \"rgb(178,24,43)\"}, \"name\": \"M\\u00e9dio-Alto\", \"offsetgroup\": \"M\\u00e9dio-Alto\", \"orientation\": \"v\", \"showlegend\": false, \"text\": [21282.0, 21118.0, 19991.0, 21538.0, 21742.0, 23878.0, 24747.0, 22704.0, 22845.0, 20647.0, 20799.0], \"textposition\": \"auto\", \"type\": \"bar\", \"x\": [\"2007\", \"2008\", \"2009\", \"2010\", \"2011\", \"2012\", \"2013\", \"2014\", \"2015\", \"2016\", \"2017\"], \"xaxis\": \"x12\", \"y\": [21282, 21118, 19991, 21538, 21742, 23878, 24747, 22704, 22845, 20647, 20799], \"yaxis\": \"y12\"}, {\"alignmentgroup\": \"True\", \"hovertemplate\": \"N\\u00edvel Tecnol\\u00f3gico=M\\u00e9dio-Alto<br>Espa\\u00e7o Metropolitano=Fortaleza<br>Ano=%{x}<br>Pessoal=%{text}<extra></extra>\", \"legendgroup\": \"M\\u00e9dio-Alto\", \"marker\": {\"color\": \"rgb(178,24,43)\"}, \"name\": \"M\\u00e9dio-Alto\", \"offsetgroup\": \"M\\u00e9dio-Alto\", \"orientation\": \"v\", \"showlegend\": false, \"text\": [8537.0, 9386.0, 9513.0, 9633.0, 9771.0, 9866.0, 10055.0, 10520.0, 13664.0, 13548.0, 12683.0], \"textposition\": \"auto\", \"type\": \"bar\", \"x\": [\"2007\", \"2008\", \"2009\", \"2010\", \"2011\", \"2012\", \"2013\", \"2014\", \"2015\", \"2016\", \"2017\"], \"xaxis\": \"x11\", \"y\": [8537, 9386, 9513, 9633, 9771, 9866, 10055, 10520, 13664, 13548, 12683], \"yaxis\": \"y11\"}, {\"alignmentgroup\": \"True\", \"hovertemplate\": \"N\\u00edvel Tecnol\\u00f3gico=M\\u00e9dio-Alto<br>Espa\\u00e7o Metropolitano=Bras\\u00edlia<br>Ano=%{x}<br>Pessoal=%{text}<extra></extra>\", \"legendgroup\": \"M\\u00e9dio-Alto\", \"marker\": {\"color\": \"rgb(178,24,43)\"}, \"name\": \"M\\u00e9dio-Alto\", \"offsetgroup\": \"M\\u00e9dio-Alto\", \"orientation\": \"v\", \"showlegend\": false, \"text\": [1604.0, 1339.0, 1889.0, 1383.0, 1674.0, 1634.0, 2109.0, 975.0, 2371.0, 962.0, 2653.0, 1104.0, 2289.0, 1057.0, 2369.0, 1144.0, 1788.0, 1104.0, 1666.0, 1132.0, 1647.0, 1172.0], \"textposition\": \"auto\", \"type\": \"bar\", \"x\": [\"2007\", \"2007\", \"2008\", \"2008\", \"2009\", \"2009\", \"2010\", \"2010\", \"2011\", \"2011\", \"2012\", \"2012\", \"2013\", \"2013\", \"2014\", \"2014\", \"2015\", \"2015\", \"2016\", \"2016\", \"2017\", \"2017\"], \"xaxis\": \"x10\", \"y\": [1604, 1339, 1889, 1383, 1674, 1634, 2109, 975, 2371, 962, 2653, 1104, 2289, 1057, 2369, 1144, 1788, 1104, 1666, 1132, 1647, 1172], \"yaxis\": \"y10\"}, {\"alignmentgroup\": \"True\", \"hovertemplate\": \"N\\u00edvel Tecnol\\u00f3gico=M\\u00e9dio-Alto<br>Espa\\u00e7o Metropolitano=Vit\\u00f3ria<br>Ano=%{x}<br>Pessoal=%{text}<extra></extra>\", \"legendgroup\": \"M\\u00e9dio-Alto\", \"marker\": {\"color\": \"rgb(178,24,43)\"}, \"name\": \"M\\u00e9dio-Alto\", \"offsetgroup\": \"M\\u00e9dio-Alto\", \"orientation\": \"v\", \"showlegend\": false, \"text\": [3436.0, 3624.0, 3641.0, 4252.0, 4661.0, 4487.0, 4379.0, 4441.0, 3911.0, 3826.0, 3650.0], \"textposition\": \"auto\", \"type\": \"bar\", \"x\": [\"2007\", \"2008\", \"2009\", \"2010\", \"2011\", \"2012\", \"2013\", \"2014\", \"2015\", \"2016\", \"2017\"], \"xaxis\": \"x9\", \"y\": [3436, 3624, 3641, 4252, 4661, 4487, 4379, 4441, 3911, 3826, 3650], \"yaxis\": \"y9\"}, {\"alignmentgroup\": \"True\", \"hovertemplate\": \"N\\u00edvel Tecnol\\u00f3gico=M\\u00e9dio-Alto<br>Espa\\u00e7o Metropolitano=Goi\\u00e2nia<br>Ano=%{x}<br>Pessoal=%{text}<extra></extra>\", \"legendgroup\": \"M\\u00e9dio-Alto\", \"marker\": {\"color\": \"rgb(178,24,43)\"}, \"name\": \"M\\u00e9dio-Alto\", \"offsetgroup\": \"M\\u00e9dio-Alto\", \"orientation\": \"v\", \"showlegend\": false, \"text\": [6572.0, 7458.0, 7608.0, 9824.0, 10041.0, 9297.0, 9543.0, 9575.0, 9006.0, 10236.0, 10864.0], \"textposition\": \"auto\", \"type\": \"bar\", \"x\": [\"2007\", \"2008\", \"2009\", \"2010\", \"2011\", \"2012\", \"2013\", \"2014\", \"2015\", \"2016\", \"2017\"], \"xaxis\": \"x8\", \"y\": [6572, 7458, 7608, 9824, 10041, 9297, 9543, 9575, 9006, 10236, 10864], \"yaxis\": \"y8\"}, {\"alignmentgroup\": \"True\", \"hovertemplate\": \"N\\u00edvel Tecnol\\u00f3gico=M\\u00e9dio-Alto<br>Espa\\u00e7o Metropolitano=Belo Horizonte<br>Ano=%{x}<br>Pessoal=%{text}<extra></extra>\", \"legendgroup\": \"M\\u00e9dio-Alto\", \"marker\": {\"color\": \"rgb(178,24,43)\"}, \"name\": \"M\\u00e9dio-Alto\", \"offsetgroup\": \"M\\u00e9dio-Alto\", \"orientation\": \"v\", \"showlegend\": false, \"text\": [58136.0, 60591.0, 59414.0, 68704.0, 73106.0, 78247.0, 78552.0, 73961.0, 59606.0, 51904.0, 49110.0], \"textposition\": \"auto\", \"type\": \"bar\", \"x\": [\"2007\", \"2008\", \"2009\", \"2010\", \"2011\", \"2012\", \"2013\", \"2014\", \"2015\", \"2016\", \"2017\"], \"xaxis\": \"x7\", \"y\": [58136, 60591, 59414, 68704, 73106, 78247, 78552, 73961, 59606, 51904, 49110], \"yaxis\": \"y7\"}, {\"alignmentgroup\": \"True\", \"hovertemplate\": \"N\\u00edvel Tecnol\\u00f3gico=M\\u00e9dio-Alto<br>Espa\\u00e7o Metropolitano=Bel\\u00e9m<br>Ano=%{x}<br>Pessoal=%{text}<extra></extra>\", \"legendgroup\": \"M\\u00e9dio-Alto\", \"marker\": {\"color\": \"rgb(178,24,43)\"}, \"name\": \"M\\u00e9dio-Alto\", \"offsetgroup\": \"M\\u00e9dio-Alto\", \"orientation\": \"v\", \"showlegend\": false, \"text\": [1327.0, 1709.0, 1620.0, 1992.0, 1961.0, 1929.0, 2100.0, 2230.0, 2261.0, 2222.0, 2236.0], \"textposition\": \"auto\", \"type\": \"bar\", \"x\": [\"2007\", \"2008\", \"2009\", \"2010\", \"2011\", \"2012\", \"2013\", \"2014\", \"2015\", \"2016\", \"2017\"], \"xaxis\": \"x6\", \"y\": [1327, 1709, 1620, 1992, 1961, 1929, 2100, 2230, 2261, 2222, 2236], \"yaxis\": \"y6\"}, {\"alignmentgroup\": \"True\", \"hovertemplate\": \"N\\u00edvel Tecnol\\u00f3gico=M\\u00e9dio-Alto<br>Espa\\u00e7o Metropolitano=Recife<br>Ano=%{x}<br>Pessoal=%{text}<extra></extra>\", \"legendgroup\": \"M\\u00e9dio-Alto\", \"marker\": {\"color\": \"rgb(178,24,43)\"}, \"name\": \"M\\u00e9dio-Alto\", \"offsetgroup\": \"M\\u00e9dio-Alto\", \"orientation\": \"v\", \"showlegend\": false, \"text\": [12729.0, 14653.0, 14861.0, 15753.0, 18364.0, 20307.0, 21387.0, 17558.0, 16760.0, 16597.0, 16445.0], \"textposition\": \"auto\", \"type\": \"bar\", \"x\": [\"2007\", \"2008\", \"2009\", \"2010\", \"2011\", \"2012\", \"2013\", \"2014\", \"2015\", \"2016\", \"2017\"], \"xaxis\": \"x5\", \"y\": [12729, 14653, 14861, 15753, 18364, 20307, 21387, 17558, 16760, 16597, 16445], \"yaxis\": \"y5\"}, {\"alignmentgroup\": \"True\", \"hovertemplate\": \"N\\u00edvel Tecnol\\u00f3gico=M\\u00e9dio-Alto<br>Espa\\u00e7o Metropolitano=Curitiba<br>Ano=%{x}<br>Pessoal=%{text}<extra></extra>\", \"legendgroup\": \"M\\u00e9dio-Alto\", \"marker\": {\"color\": \"rgb(178,24,43)\"}, \"name\": \"M\\u00e9dio-Alto\", \"offsetgroup\": \"M\\u00e9dio-Alto\", \"orientation\": \"v\", \"showlegend\": false, \"text\": [63993.0, 66371.0, 67378.0, 75287.0, 81549.0, 82714.0, 80549.0, 73766.0, 64756.0, 60841.0, 61754.0], \"textposition\": \"auto\", \"type\": \"bar\", \"x\": [\"2007\", \"2008\", \"2009\", \"2010\", \"2011\", \"2012\", \"2013\", \"2014\", \"2015\", \"2016\", \"2017\"], \"xaxis\": \"x4\", \"y\": [63993, 66371, 67378, 75287, 81549, 82714, 80549, 73766, 64756, 60841, 61754], \"yaxis\": \"y4\"}, {\"alignmentgroup\": \"True\", \"hovertemplate\": \"N\\u00edvel Tecnol\\u00f3gico=M\\u00e9dio-Alto<br>Espa\\u00e7o Metropolitano=Rio de Janeiro<br>Ano=%{x}<br>Pessoal=%{text}<extra></extra>\", \"legendgroup\": \"M\\u00e9dio-Alto\", \"marker\": {\"color\": \"rgb(178,24,43)\"}, \"name\": \"M\\u00e9dio-Alto\", \"offsetgroup\": \"M\\u00e9dio-Alto\", \"orientation\": \"v\", \"showlegend\": false, \"text\": [40236.0, 42331.0, 39918.0, 42698.0, 42925.0, 42819.0, 45796.0, 44240.0, 38613.0, 33734.0, 29629.0], \"textposition\": \"auto\", \"type\": \"bar\", \"x\": [\"2007\", \"2008\", \"2009\", \"2010\", \"2011\", \"2012\", \"2013\", \"2014\", \"2015\", \"2016\", \"2017\"], \"xaxis\": \"x3\", \"y\": [40236, 42331, 39918, 42698, 42925, 42819, 45796, 44240, 38613, 33734, 29629], \"yaxis\": \"y3\"}, {\"alignmentgroup\": \"True\", \"hovertemplate\": \"N\\u00edvel Tecnol\\u00f3gico=M\\u00e9dio-Alto<br>Espa\\u00e7o Metropolitano=Porto Alegre<br>Ano=%{x}<br>Pessoal=%{text}<extra></extra>\", \"legendgroup\": \"M\\u00e9dio-Alto\", \"marker\": {\"color\": \"rgb(178,24,43)\"}, \"name\": \"M\\u00e9dio-Alto\", \"offsetgroup\": \"M\\u00e9dio-Alto\", \"orientation\": \"v\", \"showlegend\": false, \"text\": [45603.0, 48069.0, 45483.0, 51747.0, 53631.0, 53682.0, 58079.0, 53858.0, 48598.0, 42141.0, 42699.0], \"textposition\": \"auto\", \"type\": \"bar\", \"x\": [\"2007\", \"2008\", \"2009\", \"2010\", \"2011\", \"2012\", \"2013\", \"2014\", \"2015\", \"2016\", \"2017\"], \"xaxis\": \"x2\", \"y\": [45603, 48069, 45483, 51747, 53631, 53682, 58079, 53858, 48598, 42141, 42699], \"yaxis\": \"y2\"}, {\"alignmentgroup\": \"True\", \"hovertemplate\": \"N\\u00edvel Tecnol\\u00f3gico=M\\u00e9dio-Alto<br>Espa\\u00e7o Metropolitano=Florian\\u00f3polis<br>Ano=%{x}<br>Pessoal=%{text}<extra></extra>\", \"legendgroup\": \"M\\u00e9dio-Alto\", \"marker\": {\"color\": \"rgb(178,24,43)\"}, \"name\": \"M\\u00e9dio-Alto\", \"offsetgroup\": \"M\\u00e9dio-Alto\", \"orientation\": \"v\", \"showlegend\": false, \"text\": [2235.0, 2370.0, 2577.0, 2880.0, 3145.0, 3218.0, 3460.0, 3618.0, 3261.0, 3193.0, 3336.0], \"textposition\": \"auto\", \"type\": \"bar\", \"x\": [\"2007\", \"2008\", \"2009\", \"2010\", \"2011\", \"2012\", \"2013\", \"2014\", \"2015\", \"2016\", \"2017\"], \"xaxis\": \"x\", \"y\": [2235, 2370, 2577, 2880, 3145, 3218, 3460, 3618, 3261, 3193, 3336], \"yaxis\": \"y\"}, {\"alignmentgroup\": \"True\", \"hovertemplate\": \"N\\u00edvel Tecnol\\u00f3gico=M\\u00e9dio-Baixo<br>Espa\\u00e7o Metropolitano=Manaus<br>Ano=%{x}<br>Pessoal=%{text}<extra></extra>\", \"legendgroup\": \"M\\u00e9dio-Baixo\", \"marker\": {\"color\": \"rgb(214,96,77)\"}, \"name\": \"M\\u00e9dio-Baixo\", \"offsetgroup\": \"M\\u00e9dio-Baixo\", \"orientation\": \"v\", \"showlegend\": true, \"text\": [22321.0, 23327.0, 22697.0, 24759.0, 26110.0, 24723.0, 26312.0, 26510.0, 21043.0, 18511.0, 18464.0], \"textposition\": \"auto\", \"type\": \"bar\", \"x\": [\"2007\", \"2008\", \"2009\", \"2010\", \"2011\", \"2012\", \"2013\", \"2014\", \"2015\", \"2016\", \"2017\"], \"xaxis\": \"x13\", \"y\": [22321, 23327, 22697, 24759, 26110, 24723, 26312, 26510, 21043, 18511, 18464], \"yaxis\": \"y13\"}, {\"alignmentgroup\": \"True\", \"hovertemplate\": \"N\\u00edvel Tecnol\\u00f3gico=M\\u00e9dio-Baixo<br>Espa\\u00e7o Metropolitano=Salvador<br>Ano=%{x}<br>Pessoal=%{text}<extra></extra>\", \"legendgroup\": \"M\\u00e9dio-Baixo\", \"marker\": {\"color\": \"rgb(214,96,77)\"}, \"name\": \"M\\u00e9dio-Baixo\", \"offsetgroup\": \"M\\u00e9dio-Baixo\", \"orientation\": \"v\", \"showlegend\": false, \"text\": [25266.0, 24981.0, 27009.0, 30109.0, 33633.0, 32664.0, 33144.0, 31270.0, 28913.0, 27225.0, 26336.0], \"textposition\": \"auto\", \"type\": \"bar\", \"x\": [\"2007\", \"2008\", \"2009\", \"2010\", \"2011\", \"2012\", \"2013\", \"2014\", \"2015\", \"2016\", \"2017\"], \"xaxis\": \"x12\", \"y\": [25266, 24981, 27009, 30109, 33633, 32664, 33144, 31270, 28913, 27225, 26336], \"yaxis\": \"y12\"}, {\"alignmentgroup\": \"True\", \"hovertemplate\": \"N\\u00edvel Tecnol\\u00f3gico=M\\u00e9dio-Baixo<br>Espa\\u00e7o Metropolitano=Fortaleza<br>Ano=%{x}<br>Pessoal=%{text}<extra></extra>\", \"legendgroup\": \"M\\u00e9dio-Baixo\", \"marker\": {\"color\": \"rgb(214,96,77)\"}, \"name\": \"M\\u00e9dio-Baixo\", \"offsetgroup\": \"M\\u00e9dio-Baixo\", \"orientation\": \"v\", \"showlegend\": false, \"text\": [17535.0, 19190.0, 20358.0, 24146.0, 24677.0, 28227.0, 28676.0, 28838.0, 23091.0, 20646.0, 19654.0], \"textposition\": \"auto\", \"type\": \"bar\", \"x\": [\"2007\", \"2008\", \"2009\", \"2010\", \"2011\", \"2012\", \"2013\", \"2014\", \"2015\", \"2016\", \"2017\"], \"xaxis\": \"x11\", \"y\": [17535, 19190, 20358, 24146, 24677, 28227, 28676, 28838, 23091, 20646, 19654], \"yaxis\": \"y11\"}, {\"alignmentgroup\": \"True\", \"hovertemplate\": \"N\\u00edvel Tecnol\\u00f3gico=M\\u00e9dio-Baixo<br>Espa\\u00e7o Metropolitano=Bras\\u00edlia<br>Ano=%{x}<br>Pessoal=%{text}<extra></extra>\", \"legendgroup\": \"M\\u00e9dio-Baixo\", \"marker\": {\"color\": \"rgb(214,96,77)\"}, \"name\": \"M\\u00e9dio-Baixo\", \"offsetgroup\": \"M\\u00e9dio-Baixo\", \"orientation\": \"v\", \"showlegend\": false, \"text\": [4449.0, 905.0, 5081.0, 949.0, 5673.0, 1038.0, 6668.0, 1317.0, 7305.0, 1435.0, 8225.0, 1503.0, 8294.0, 1409.0, 7787.0, 1461.0, 6867.0, 1401.0, 6246.0, 1269.0, 6364.0, 1137.0], \"textposition\": \"auto\", \"type\": \"bar\", \"x\": [\"2007\", \"2007\", \"2008\", \"2008\", \"2009\", \"2009\", \"2010\", \"2010\", \"2011\", \"2011\", \"2012\", \"2012\", \"2013\", \"2013\", \"2014\", \"2014\", \"2015\", \"2015\", \"2016\", \"2016\", \"2017\", \"2017\"], \"xaxis\": \"x10\", \"y\": [4449, 905, 5081, 949, 5673, 1038, 6668, 1317, 7305, 1435, 8225, 1503, 8294, 1409, 7787, 1461, 6867, 1401, 6246, 1269, 6364, 1137], \"yaxis\": \"y10\"}, {\"alignmentgroup\": \"True\", \"hovertemplate\": \"N\\u00edvel Tecnol\\u00f3gico=M\\u00e9dio-Baixo<br>Espa\\u00e7o Metropolitano=Vit\\u00f3ria<br>Ano=%{x}<br>Pessoal=%{text}<extra></extra>\", \"legendgroup\": \"M\\u00e9dio-Baixo\", \"marker\": {\"color\": \"rgb(214,96,77)\"}, \"name\": \"M\\u00e9dio-Baixo\", \"offsetgroup\": \"M\\u00e9dio-Baixo\", \"orientation\": \"v\", \"showlegend\": false, \"text\": [21710.0, 24689.0, 21600.0, 23943.0, 24724.0, 25057.0, 24421.0, 24680.0, 23674.0, 21518.0, 21245.0], \"textposition\": \"auto\", \"type\": \"bar\", \"x\": [\"2007\", \"2008\", \"2009\", \"2010\", \"2011\", \"2012\", \"2013\", \"2014\", \"2015\", \"2016\", \"2017\"], \"xaxis\": \"x9\", \"y\": [21710, 24689, 21600, 23943, 24724, 25057, 24421, 24680, 23674, 21518, 21245], \"yaxis\": \"y9\"}, {\"alignmentgroup\": \"True\", \"hovertemplate\": \"N\\u00edvel Tecnol\\u00f3gico=M\\u00e9dio-Baixo<br>Espa\\u00e7o Metropolitano=Goi\\u00e2nia<br>Ano=%{x}<br>Pessoal=%{text}<extra></extra>\", \"legendgroup\": \"M\\u00e9dio-Baixo\", \"marker\": {\"color\": \"rgb(214,96,77)\"}, \"name\": \"M\\u00e9dio-Baixo\", \"offsetgroup\": \"M\\u00e9dio-Baixo\", \"orientation\": \"v\", \"showlegend\": false, \"text\": [10975.0, 11953.0, 12188.0, 14229.0, 16236.0, 17018.0, 17199.0, 17609.0, 15862.0, 13709.0, 13720.0], \"textposition\": \"auto\", \"type\": \"bar\", \"x\": [\"2007\", \"2008\", \"2009\", \"2010\", \"2011\", \"2012\", \"2013\", \"2014\", \"2015\", \"2016\", \"2017\"], \"xaxis\": \"x8\", \"y\": [10975, 11953, 12188, 14229, 16236, 17018, 17199, 17609, 15862, 13709, 13720], \"yaxis\": \"y8\"}, {\"alignmentgroup\": \"True\", \"hovertemplate\": \"N\\u00edvel Tecnol\\u00f3gico=M\\u00e9dio-Baixo<br>Espa\\u00e7o Metropolitano=Belo Horizonte<br>Ano=%{x}<br>Pessoal=%{text}<extra></extra>\", \"legendgroup\": \"M\\u00e9dio-Baixo\", \"marker\": {\"color\": \"rgb(214,96,77)\"}, \"name\": \"M\\u00e9dio-Baixo\", \"offsetgroup\": \"M\\u00e9dio-Baixo\", \"orientation\": \"v\", \"showlegend\": false, \"text\": [66479.0, 69961.0, 67145.0, 75240.0, 77450.0, 76156.0, 73031.0, 71784.0, 63488.0, 56345.0, 54626.0], \"textposition\": \"auto\", \"type\": \"bar\", \"x\": [\"2007\", \"2008\", \"2009\", \"2010\", \"2011\", \"2012\", \"2013\", \"2014\", \"2015\", \"2016\", \"2017\"], \"xaxis\": \"x7\", \"y\": [66479, 69961, 67145, 75240, 77450, 76156, 73031, 71784, 63488, 56345, 54626], \"yaxis\": \"y7\"}, {\"alignmentgroup\": \"True\", \"hovertemplate\": \"N\\u00edvel Tecnol\\u00f3gico=M\\u00e9dio-Baixo<br>Espa\\u00e7o Metropolitano=Bel\\u00e9m<br>Ano=%{x}<br>Pessoal=%{text}<extra></extra>\", \"legendgroup\": \"M\\u00e9dio-Baixo\", \"marker\": {\"color\": \"rgb(214,96,77)\"}, \"name\": \"M\\u00e9dio-Baixo\", \"offsetgroup\": \"M\\u00e9dio-Baixo\", \"orientation\": \"v\", \"showlegend\": false, \"text\": [4146.0, 5038.0, 5125.0, 5590.0, 5511.0, 5565.0, 5698.0, 6256.0, 5103.0, 4695.0, 4587.0], \"textposition\": \"auto\", \"type\": \"bar\", \"x\": [\"2007\", \"2008\", \"2009\", \"2010\", \"2011\", \"2012\", \"2013\", \"2014\", \"2015\", \"2016\", \"2017\"], \"xaxis\": \"x6\", \"y\": [4146, 5038, 5125, 5590, 5511, 5565, 5698, 6256, 5103, 4695, 4587], \"yaxis\": \"y6\"}, {\"alignmentgroup\": \"True\", \"hovertemplate\": \"N\\u00edvel Tecnol\\u00f3gico=M\\u00e9dio-Baixo<br>Espa\\u00e7o Metropolitano=Recife<br>Ano=%{x}<br>Pessoal=%{text}<extra></extra>\", \"legendgroup\": \"M\\u00e9dio-Baixo\", \"marker\": {\"color\": \"rgb(214,96,77)\"}, \"name\": \"M\\u00e9dio-Baixo\", \"offsetgroup\": \"M\\u00e9dio-Baixo\", \"orientation\": \"v\", \"showlegend\": false, \"text\": [21493.0, 23452.0, 26815.0, 30136.0, 32621.0, 34528.0, 39709.0, 35074.0, 31448.0, 28723.0, 28210.0], \"textposition\": \"auto\", \"type\": \"bar\", \"x\": [\"2007\", \"2008\", \"2009\", \"2010\", \"2011\", \"2012\", \"2013\", \"2014\", \"2015\", \"2016\", \"2017\"], \"xaxis\": \"x5\", \"y\": [21493, 23452, 26815, 30136, 32621, 34528, 39709, 35074, 31448, 28723, 28210], \"yaxis\": \"y5\"}, {\"alignmentgroup\": \"True\", \"hovertemplate\": \"N\\u00edvel Tecnol\\u00f3gico=M\\u00e9dio-Baixo<br>Espa\\u00e7o Metropolitano=Curitiba<br>Ano=%{x}<br>Pessoal=%{text}<extra></extra>\", \"legendgroup\": \"M\\u00e9dio-Baixo\", \"marker\": {\"color\": \"rgb(214,96,77)\"}, \"name\": \"M\\u00e9dio-Baixo\", \"offsetgroup\": \"M\\u00e9dio-Baixo\", \"orientation\": \"v\", \"showlegend\": false, \"text\": [45647.0, 48231.0, 47987.0, 51941.0, 53517.0, 54230.0, 55055.0, 52938.0, 48678.0, 45492.0, 45131.0], \"textposition\": \"auto\", \"type\": \"bar\", \"x\": [\"2007\", \"2008\", \"2009\", \"2010\", \"2011\", \"2012\", \"2013\", \"2014\", \"2015\", \"2016\", \"2017\"], \"xaxis\": \"x4\", \"y\": [45647, 48231, 47987, 51941, 53517, 54230, 55055, 52938, 48678, 45492, 45131], \"yaxis\": \"y4\"}, {\"alignmentgroup\": \"True\", \"hovertemplate\": \"N\\u00edvel Tecnol\\u00f3gico=M\\u00e9dio-Baixo<br>Espa\\u00e7o Metropolitano=Rio de Janeiro<br>Ano=%{x}<br>Pessoal=%{text}<extra></extra>\", \"legendgroup\": \"M\\u00e9dio-Baixo\", \"marker\": {\"color\": \"rgb(214,96,77)\"}, \"name\": \"M\\u00e9dio-Baixo\", \"offsetgroup\": \"M\\u00e9dio-Baixo\", \"orientation\": \"v\", \"showlegend\": false, \"text\": [69089.0, 76903.0, 76651.0, 96024.0, 102165.0, 106110.0, 110540.0, 110713.0, 92980.0, 78471.0, 71987.0], \"textposition\": \"auto\", \"type\": \"bar\", \"x\": [\"2007\", \"2008\", \"2009\", \"2010\", \"2011\", \"2012\", \"2013\", \"2014\", \"2015\", \"2016\", \"2017\"], \"xaxis\": \"x3\", \"y\": [69089, 76903, 76651, 96024, 102165, 106110, 110540, 110713, 92980, 78471, 71987], \"yaxis\": \"y3\"}, {\"alignmentgroup\": \"True\", \"hovertemplate\": \"N\\u00edvel Tecnol\\u00f3gico=M\\u00e9dio-Baixo<br>Espa\\u00e7o Metropolitano=Porto Alegre<br>Ano=%{x}<br>Pessoal=%{text}<extra></extra>\", \"legendgroup\": \"M\\u00e9dio-Baixo\", \"marker\": {\"color\": \"rgb(214,96,77)\"}, \"name\": \"M\\u00e9dio-Baixo\", \"offsetgroup\": \"M\\u00e9dio-Baixo\", \"orientation\": \"v\", \"showlegend\": false, \"text\": [54781.0, 56140.0, 55358.0, 59122.0, 61222.0, 58749.0, 56960.0, 54696.0, 47011.0, 46024.0, 45473.0], \"textposition\": \"auto\", \"type\": \"bar\", \"x\": [\"2007\", \"2008\", \"2009\", \"2010\", \"2011\", \"2012\", \"2013\", \"2014\", \"2015\", \"2016\", \"2017\"], \"xaxis\": \"x2\", \"y\": [54781, 56140, 55358, 59122, 61222, 58749, 56960, 54696, 47011, 46024, 45473], \"yaxis\": \"y2\"}, {\"alignmentgroup\": \"True\", \"hovertemplate\": \"N\\u00edvel Tecnol\\u00f3gico=M\\u00e9dio-Baixo<br>Espa\\u00e7o Metropolitano=Florian\\u00f3polis<br>Ano=%{x}<br>Pessoal=%{text}<extra></extra>\", \"legendgroup\": \"M\\u00e9dio-Baixo\", \"marker\": {\"color\": \"rgb(214,96,77)\"}, \"name\": \"M\\u00e9dio-Baixo\", \"offsetgroup\": \"M\\u00e9dio-Baixo\", \"orientation\": \"v\", \"showlegend\": false, \"text\": [6504.0, 7048.0, 7333.0, 8460.0, 8884.0, 8962.0, 9142.0, 8594.0, 8094.0, 7615.0, 8129.0], \"textposition\": \"auto\", \"type\": \"bar\", \"x\": [\"2007\", \"2008\", \"2009\", \"2010\", \"2011\", \"2012\", \"2013\", \"2014\", \"2015\", \"2016\", \"2017\"], \"xaxis\": \"x\", \"y\": [6504, 7048, 7333, 8460, 8884, 8962, 9142, 8594, 8094, 7615, 8129], \"yaxis\": \"y\"}, {\"alignmentgroup\": \"True\", \"hovertemplate\": \"N\\u00edvel Tecnol\\u00f3gico=Baixo<br>Espa\\u00e7o Metropolitano=Manaus<br>Ano=%{x}<br>Pessoal=%{text}<extra></extra>\", \"legendgroup\": \"Baixo\", \"marker\": {\"color\": \"rgb(244,165,130)\"}, \"name\": \"Baixo\", \"offsetgroup\": \"Baixo\", \"orientation\": \"v\", \"showlegend\": true, \"text\": [12227.0, 12676.0, 12469.0, 13512.0, 14734.0, 15935.0, 17142.0, 16252.0, 15739.0, 13746.0, 13816.0], \"textposition\": \"auto\", \"type\": \"bar\", \"x\": [\"2007\", \"2008\", \"2009\", \"2010\", \"2011\", \"2012\", \"2013\", \"2014\", \"2015\", \"2016\", \"2017\"], \"xaxis\": \"x13\", \"y\": [12227, 12676, 12469, 13512, 14734, 15935, 17142, 16252, 15739, 13746, 13816], \"yaxis\": \"y13\"}, {\"alignmentgroup\": \"True\", \"hovertemplate\": \"N\\u00edvel Tecnol\\u00f3gico=Baixo<br>Espa\\u00e7o Metropolitano=Salvador<br>Ano=%{x}<br>Pessoal=%{text}<extra></extra>\", \"legendgroup\": \"Baixo\", \"marker\": {\"color\": \"rgb(244,165,130)\"}, \"name\": \"Baixo\", \"offsetgroup\": \"Baixo\", \"orientation\": \"v\", \"showlegend\": false, \"text\": [22821.0, 23233.0, 24423.0, 26308.0, 27566.0, 28621.0, 29544.0, 29412.0, 27396.0, 26819.0, 25842.0], \"textposition\": \"auto\", \"type\": \"bar\", \"x\": [\"2007\", \"2008\", \"2009\", \"2010\", \"2011\", \"2012\", \"2013\", \"2014\", \"2015\", \"2016\", \"2017\"], \"xaxis\": \"x12\", \"y\": [22821, 23233, 24423, 26308, 27566, 28621, 29544, 29412, 27396, 26819, 25842], \"yaxis\": \"y12\"}, {\"alignmentgroup\": \"True\", \"hovertemplate\": \"N\\u00edvel Tecnol\\u00f3gico=Baixo<br>Espa\\u00e7o Metropolitano=Fortaleza<br>Ano=%{x}<br>Pessoal=%{text}<extra></extra>\", \"legendgroup\": \"Baixo\", \"marker\": {\"color\": \"rgb(244,165,130)\"}, \"name\": \"Baixo\", \"offsetgroup\": \"Baixo\", \"orientation\": \"v\", \"showlegend\": false, \"text\": [89261.0, 93224.0, 98773.0, 106879.0, 105414.0, 106311.0, 105764.0, 105790.0, 97549.0, 89680.0, 87884.0], \"textposition\": \"auto\", \"type\": \"bar\", \"x\": [\"2007\", \"2008\", \"2009\", \"2010\", \"2011\", \"2012\", \"2013\", \"2014\", \"2015\", \"2016\", \"2017\"], \"xaxis\": \"x11\", \"y\": [89261, 93224, 98773, 106879, 105414, 106311, 105764, 105790, 97549, 89680, 87884], \"yaxis\": \"y11\"}, {\"alignmentgroup\": \"True\", \"hovertemplate\": \"N\\u00edvel Tecnol\\u00f3gico=Baixo<br>Espa\\u00e7o Metropolitano=Bras\\u00edlia<br>Ano=%{x}<br>Pessoal=%{text}<extra></extra>\", \"legendgroup\": \"Baixo\", \"marker\": {\"color\": \"rgb(244,165,130)\"}, \"name\": \"Baixo\", \"offsetgroup\": \"Baixo\", \"orientation\": \"v\", \"showlegend\": false, \"text\": [13364.0, 3348.0, 14333.0, 3160.0, 15123.0, 2933.0, 17042.0, 3328.0, 17362.0, 2918.0, 19044.0, 3140.0, 16682.0, 2803.0, 16497.0, 2641.0, 16933.0, 2900.0, 16053.0, 2847.0, 15622.0, 2905.0], \"textposition\": \"auto\", \"type\": \"bar\", \"x\": [\"2007\", \"2007\", \"2008\", \"2008\", \"2009\", \"2009\", \"2010\", \"2010\", \"2011\", \"2011\", \"2012\", \"2012\", \"2013\", \"2013\", \"2014\", \"2014\", \"2015\", \"2015\", \"2016\", \"2016\", \"2017\", \"2017\"], \"xaxis\": \"x10\", \"y\": [13364, 3348, 14333, 3160, 15123, 2933, 17042, 3328, 17362, 2918, 19044, 3140, 16682, 2803, 16497, 2641, 16933, 2900, 16053, 2847, 15622, 2905], \"yaxis\": \"y10\"}, {\"alignmentgroup\": \"True\", \"hovertemplate\": \"N\\u00edvel Tecnol\\u00f3gico=Baixo<br>Espa\\u00e7o Metropolitano=Vit\\u00f3ria<br>Ano=%{x}<br>Pessoal=%{text}<extra></extra>\", \"legendgroup\": \"Baixo\", \"marker\": {\"color\": \"rgb(244,165,130)\"}, \"name\": \"Baixo\", \"offsetgroup\": \"Baixo\", \"orientation\": \"v\", \"showlegend\": false, \"text\": [17521.0, 17399.0, 17951.0, 19432.0, 20224.0, 19667.0, 18965.0, 19383.0, 18263.0, 16789.0, 17040.0], \"textposition\": \"auto\", \"type\": \"bar\", \"x\": [\"2007\", \"2008\", \"2009\", \"2010\", \"2011\", \"2012\", \"2013\", \"2014\", \"2015\", \"2016\", \"2017\"], \"xaxis\": \"x9\", \"y\": [17521, 17399, 17951, 19432, 20224, 19667, 18965, 19383, 18263, 16789, 17040], \"yaxis\": \"y9\"}, {\"alignmentgroup\": \"True\", \"hovertemplate\": \"N\\u00edvel Tecnol\\u00f3gico=Baixo<br>Espa\\u00e7o Metropolitano=Goi\\u00e2nia<br>Ano=%{x}<br>Pessoal=%{text}<extra></extra>\", \"legendgroup\": \"Baixo\", \"marker\": {\"color\": \"rgb(244,165,130)\"}, \"name\": \"Baixo\", \"offsetgroup\": \"Baixo\", \"orientation\": \"v\", \"showlegend\": false, \"text\": [44858.0, 45991.0, 47187.0, 50599.0, 52157.0, 56382.0, 59179.0, 58486.0, 55081.0, 50518.0, 49824.0], \"textposition\": \"auto\", \"type\": \"bar\", \"x\": [\"2007\", \"2008\", \"2009\", \"2010\", \"2011\", \"2012\", \"2013\", \"2014\", \"2015\", \"2016\", \"2017\"], \"xaxis\": \"x8\", \"y\": [44858, 45991, 47187, 50599, 52157, 56382, 59179, 58486, 55081, 50518, 49824], \"yaxis\": \"y8\"}, {\"alignmentgroup\": \"True\", \"hovertemplate\": \"N\\u00edvel Tecnol\\u00f3gico=Baixo<br>Espa\\u00e7o Metropolitano=Belo Horizonte<br>Ano=%{x}<br>Pessoal=%{text}<extra></extra>\", \"legendgroup\": \"Baixo\", \"marker\": {\"color\": \"rgb(244,165,130)\"}, \"name\": \"Baixo\", \"offsetgroup\": \"Baixo\", \"orientation\": \"v\", \"showlegend\": false, \"text\": [58058.0, 58965.0, 58437.0, 62727.0, 60275.0, 63450.0, 61783.0, 59125.0, 56222.0, 53226.0, 53753.0], \"textposition\": \"auto\", \"type\": \"bar\", \"x\": [\"2007\", \"2008\", \"2009\", \"2010\", \"2011\", \"2012\", \"2013\", \"2014\", \"2015\", \"2016\", \"2017\"], \"xaxis\": \"x7\", \"y\": [58058, 58965, 58437, 62727, 60275, 63450, 61783, 59125, 56222, 53226, 53753], \"yaxis\": \"y7\"}, {\"alignmentgroup\": \"True\", \"hovertemplate\": \"N\\u00edvel Tecnol\\u00f3gico=Baixo<br>Espa\\u00e7o Metropolitano=Bel\\u00e9m<br>Ano=%{x}<br>Pessoal=%{text}<extra></extra>\", \"legendgroup\": \"Baixo\", \"marker\": {\"color\": \"rgb(244,165,130)\"}, \"name\": \"Baixo\", \"offsetgroup\": \"Baixo\", \"orientation\": \"v\", \"showlegend\": false, \"text\": [20201.0, 17668.0, 16507.0, 17687.0, 16400.0, 16402.0, 16320.0, 16984.0, 16435.0, 15142.0, 15508.0], \"textposition\": \"auto\", \"type\": \"bar\", \"x\": [\"2007\", \"2008\", \"2009\", \"2010\", \"2011\", \"2012\", \"2013\", \"2014\", \"2015\", \"2016\", \"2017\"], \"xaxis\": \"x6\", \"y\": [20201, 17668, 16507, 17687, 16400, 16402, 16320, 16984, 16435, 15142, 15508], \"yaxis\": \"y6\"}, {\"alignmentgroup\": \"True\", \"hovertemplate\": \"N\\u00edvel Tecnol\\u00f3gico=Baixo<br>Espa\\u00e7o Metropolitano=Recife<br>Ano=%{x}<br>Pessoal=%{text}<extra></extra>\", \"legendgroup\": \"Baixo\", \"marker\": {\"color\": \"rgb(244,165,130)\"}, \"name\": \"Baixo\", \"offsetgroup\": \"Baixo\", \"orientation\": \"v\", \"showlegend\": false, \"text\": [49818.0, 51587.0, 52979.0, 53979.0, 52650.0, 56753.0, 54643.0, 59283.0, 54205.0, 49971.0, 49099.0], \"textposition\": \"auto\", \"type\": \"bar\", \"x\": [\"2007\", \"2008\", \"2009\", \"2010\", \"2011\", \"2012\", \"2013\", \"2014\", \"2015\", \"2016\", \"2017\"], \"xaxis\": \"x5\", \"y\": [49818, 51587, 52979, 53979, 52650, 56753, 54643, 59283, 54205, 49971, 49099], \"yaxis\": \"y5\"}, {\"alignmentgroup\": \"True\", \"hovertemplate\": \"N\\u00edvel Tecnol\\u00f3gico=Baixo<br>Espa\\u00e7o Metropolitano=Curitiba<br>Ano=%{x}<br>Pessoal=%{text}<extra></extra>\", \"legendgroup\": \"Baixo\", \"marker\": {\"color\": \"rgb(244,165,130)\"}, \"name\": \"Baixo\", \"offsetgroup\": \"Baixo\", \"orientation\": \"v\", \"showlegend\": false, \"text\": [54896.0, 55468.0, 54579.0, 58718.0, 58664.0, 57031.0, 56972.0, 55939.0, 51220.0, 48744.0, 46028.0], \"textposition\": \"auto\", \"type\": \"bar\", \"x\": [\"2007\", \"2008\", \"2009\", \"2010\", \"2011\", \"2012\", \"2013\", \"2014\", \"2015\", \"2016\", \"2017\"], \"xaxis\": \"x4\", \"y\": [54896, 55468, 54579, 58718, 58664, 57031, 56972, 55939, 51220, 48744, 46028], \"yaxis\": \"y4\"}, {\"alignmentgroup\": \"True\", \"hovertemplate\": \"N\\u00edvel Tecnol\\u00f3gico=Baixo<br>Espa\\u00e7o Metropolitano=Rio de Janeiro<br>Ano=%{x}<br>Pessoal=%{text}<extra></extra>\", \"legendgroup\": \"Baixo\", \"marker\": {\"color\": \"rgb(244,165,130)\"}, \"name\": \"Baixo\", \"offsetgroup\": \"Baixo\", \"orientation\": \"v\", \"showlegend\": false, \"text\": [94510.0, 90167.0, 94043.0, 99758.0, 101434.0, 102549.0, 97912.0, 97351.0, 90158.0, 82379.0, 77013.0], \"textposition\": \"auto\", \"type\": \"bar\", \"x\": [\"2007\", \"2008\", \"2009\", \"2010\", \"2011\", \"2012\", \"2013\", \"2014\", \"2015\", \"2016\", \"2017\"], \"xaxis\": \"x3\", \"y\": [94510, 90167, 94043, 99758, 101434, 102549, 97912, 97351, 90158, 82379, 77013], \"yaxis\": \"y3\"}, {\"alignmentgroup\": \"True\", \"hovertemplate\": \"N\\u00edvel Tecnol\\u00f3gico=Baixo<br>Espa\\u00e7o Metropolitano=Porto Alegre<br>Ano=%{x}<br>Pessoal=%{text}<extra></extra>\", \"legendgroup\": \"Baixo\", \"marker\": {\"color\": \"rgb(244,165,130)\"}, \"name\": \"Baixo\", \"offsetgroup\": \"Baixo\", \"orientation\": \"v\", \"showlegend\": false, \"text\": [113131.0, 108419.0, 110241.0, 118785.0, 115217.0, 114373.0, 113245.0, 109222.0, 102628.0, 101853.0, 97153.0], \"textposition\": \"auto\", \"type\": \"bar\", \"x\": [\"2007\", \"2008\", \"2009\", \"2010\", \"2011\", \"2012\", \"2013\", \"2014\", \"2015\", \"2016\", \"2017\"], \"xaxis\": \"x2\", \"y\": [113131, 108419, 110241, 118785, 115217, 114373, 113245, 109222, 102628, 101853, 97153], \"yaxis\": \"y2\"}, {\"alignmentgroup\": \"True\", \"hovertemplate\": \"N\\u00edvel Tecnol\\u00f3gico=Baixo<br>Espa\\u00e7o Metropolitano=Florian\\u00f3polis<br>Ano=%{x}<br>Pessoal=%{text}<extra></extra>\", \"legendgroup\": \"Baixo\", \"marker\": {\"color\": \"rgb(244,165,130)\"}, \"name\": \"Baixo\", \"offsetgroup\": \"Baixo\", \"orientation\": \"v\", \"showlegend\": false, \"text\": [8801.0, 9207.0, 9398.0, 10816.0, 11321.0, 11248.0, 11495.0, 11585.0, 11355.0, 10622.0, 12146.0], \"textposition\": \"auto\", \"type\": \"bar\", \"x\": [\"2007\", \"2008\", \"2009\", \"2010\", \"2011\", \"2012\", \"2013\", \"2014\", \"2015\", \"2016\", \"2017\"], \"xaxis\": \"x\", \"y\": [8801, 9207, 9398, 10816, 11321, 11248, 11495, 11585, 11355, 10622, 12146], \"yaxis\": \"y\"}],                        {\"annotations\": [{\"font\": {}, \"showarrow\": false, \"text\": \"Espa\\u00e7o Metropolitano=Florian\\u00f3polis\", \"textangle\": 90, \"x\": 0.98, \"xanchor\": \"left\", \"xref\": \"paper\", \"y\": 0.02461538461538462, \"yanchor\": \"middle\", \"yref\": \"paper\"}, {\"font\": {}, \"showarrow\": false, \"text\": \"Espa\\u00e7o Metropolitano=Porto Alegre\", \"textangle\": 90, \"x\": 0.98, \"xanchor\": \"left\", \"xref\": \"paper\", \"y\": 0.10384615384615387, \"yanchor\": \"middle\", \"yref\": \"paper\"}, {\"font\": {}, \"showarrow\": false, \"text\": \"Espa\\u00e7o Metropolitano=Rio de Janeiro\", \"textangle\": 90, \"x\": 0.98, \"xanchor\": \"left\", \"xref\": \"paper\", \"y\": 0.1830769230769231, \"yanchor\": \"middle\", \"yref\": \"paper\"}, {\"font\": {}, \"showarrow\": false, \"text\": \"Espa\\u00e7o Metropolitano=Curitiba\", \"textangle\": 90, \"x\": 0.98, \"xanchor\": \"left\", \"xref\": \"paper\", \"y\": 0.26230769230769235, \"yanchor\": \"middle\", \"yref\": \"paper\"}, {\"font\": {}, \"showarrow\": false, \"text\": \"Espa\\u00e7o Metropolitano=Recife\", \"textangle\": 90, \"x\": 0.98, \"xanchor\": \"left\", \"xref\": \"paper\", \"y\": 0.34153846153846157, \"yanchor\": \"middle\", \"yref\": \"paper\"}, {\"font\": {}, \"showarrow\": false, \"text\": \"Espa\\u00e7o Metropolitano=Bel\\u00e9m\", \"textangle\": 90, \"x\": 0.98, \"xanchor\": \"left\", \"xref\": \"paper\", \"y\": 0.4207692307692308, \"yanchor\": \"middle\", \"yref\": \"paper\"}, {\"font\": {}, \"showarrow\": false, \"text\": \"Espa\\u00e7o Metropolitano=Belo Horizonte\", \"textangle\": 90, \"x\": 0.98, \"xanchor\": \"left\", \"xref\": \"paper\", \"y\": 0.5, \"yanchor\": \"middle\", \"yref\": \"paper\"}, {\"font\": {}, \"showarrow\": false, \"text\": \"Espa\\u00e7o Metropolitano=Goi\\u00e2nia\", \"textangle\": 90, \"x\": 0.98, \"xanchor\": \"left\", \"xref\": \"paper\", \"y\": 0.5792307692307692, \"yanchor\": \"middle\", \"yref\": \"paper\"}, {\"font\": {}, \"showarrow\": false, \"text\": \"Espa\\u00e7o Metropolitano=Vit\\u00f3ria\", \"textangle\": 90, \"x\": 0.98, \"xanchor\": \"left\", \"xref\": \"paper\", \"y\": 0.6584615384615385, \"yanchor\": \"middle\", \"yref\": \"paper\"}, {\"font\": {}, \"showarrow\": false, \"text\": \"Espa\\u00e7o Metropolitano=Bras\\u00edlia\", \"textangle\": 90, \"x\": 0.98, \"xanchor\": \"left\", \"xref\": \"paper\", \"y\": 0.7376923076923078, \"yanchor\": \"middle\", \"yref\": \"paper\"}, {\"font\": {}, \"showarrow\": false, \"text\": \"Espa\\u00e7o Metropolitano=Fortaleza\", \"textangle\": 90, \"x\": 0.98, \"xanchor\": \"left\", \"xref\": \"paper\", \"y\": 0.816923076923077, \"yanchor\": \"middle\", \"yref\": \"paper\"}, {\"font\": {}, \"showarrow\": false, \"text\": \"Espa\\u00e7o Metropolitano=Salvador\", \"textangle\": 90, \"x\": 0.98, \"xanchor\": \"left\", \"xref\": \"paper\", \"y\": 0.8961538461538462, \"yanchor\": \"middle\", \"yref\": \"paper\"}, {\"font\": {}, \"showarrow\": false, \"text\": \"Espa\\u00e7o Metropolitano=Manaus\", \"textangle\": 90, \"x\": 0.98, \"xanchor\": \"left\", \"xref\": \"paper\", \"y\": 0.9753846153846154, \"yanchor\": \"middle\", \"yref\": \"paper\"}], \"barmode\": \"relative\", \"height\": 4000, \"legend\": {\"title\": {\"text\": \"N\\u00edvel Tecnol\\u00f3gico\"}, \"tracegroupgap\": 0}, \"template\": {\"data\": {\"bar\": [{\"error_x\": {\"color\": \"#2a3f5f\"}, \"error_y\": {\"color\": \"#2a3f5f\"}, \"marker\": {\"line\": {\"color\": \"#E5ECF6\", \"width\": 0.5}}, \"type\": \"bar\"}], \"barpolar\": [{\"marker\": {\"line\": {\"color\": \"#E5ECF6\", \"width\": 0.5}}, \"type\": \"barpolar\"}], \"carpet\": [{\"aaxis\": {\"endlinecolor\": \"#2a3f5f\", \"gridcolor\": \"white\", \"linecolor\": \"white\", \"minorgridcolor\": \"white\", \"startlinecolor\": \"#2a3f5f\"}, \"baxis\": {\"endlinecolor\": \"#2a3f5f\", \"gridcolor\": \"white\", \"linecolor\": \"white\", \"minorgridcolor\": \"white\", \"startlinecolor\": \"#2a3f5f\"}, \"type\": \"carpet\"}], \"choropleth\": [{\"colorbar\": {\"outlinewidth\": 0, \"ticks\": \"\"}, \"type\": \"choropleth\"}], \"contour\": [{\"colorbar\": {\"outlinewidth\": 0, \"ticks\": \"\"}, \"colorscale\": [[0.0, \"#0d0887\"], [0.1111111111111111, \"#46039f\"], [0.2222222222222222, \"#7201a8\"], [0.3333333333333333, \"#9c179e\"], [0.4444444444444444, \"#bd3786\"], [0.5555555555555556, \"#d8576b\"], [0.6666666666666666, \"#ed7953\"], [0.7777777777777778, \"#fb9f3a\"], [0.8888888888888888, \"#fdca26\"], [1.0, \"#f0f921\"]], \"type\": \"contour\"}], \"contourcarpet\": [{\"colorbar\": {\"outlinewidth\": 0, \"ticks\": \"\"}, \"type\": \"contourcarpet\"}], \"heatmap\": [{\"colorbar\": {\"outlinewidth\": 0, \"ticks\": \"\"}, \"colorscale\": [[0.0, \"#0d0887\"], [0.1111111111111111, \"#46039f\"], [0.2222222222222222, \"#7201a8\"], [0.3333333333333333, \"#9c179e\"], [0.4444444444444444, \"#bd3786\"], [0.5555555555555556, \"#d8576b\"], [0.6666666666666666, \"#ed7953\"], [0.7777777777777778, \"#fb9f3a\"], [0.8888888888888888, \"#fdca26\"], [1.0, \"#f0f921\"]], \"type\": \"heatmap\"}], \"heatmapgl\": [{\"colorbar\": {\"outlinewidth\": 0, \"ticks\": \"\"}, \"colorscale\": [[0.0, \"#0d0887\"], [0.1111111111111111, \"#46039f\"], [0.2222222222222222, \"#7201a8\"], [0.3333333333333333, \"#9c179e\"], [0.4444444444444444, \"#bd3786\"], [0.5555555555555556, \"#d8576b\"], [0.6666666666666666, \"#ed7953\"], [0.7777777777777778, \"#fb9f3a\"], [0.8888888888888888, \"#fdca26\"], [1.0, \"#f0f921\"]], \"type\": \"heatmapgl\"}], \"histogram\": [{\"marker\": {\"colorbar\": {\"outlinewidth\": 0, \"ticks\": \"\"}}, \"type\": \"histogram\"}], \"histogram2d\": [{\"colorbar\": {\"outlinewidth\": 0, \"ticks\": \"\"}, \"colorscale\": [[0.0, \"#0d0887\"], [0.1111111111111111, \"#46039f\"], [0.2222222222222222, \"#7201a8\"], [0.3333333333333333, \"#9c179e\"], [0.4444444444444444, \"#bd3786\"], [0.5555555555555556, \"#d8576b\"], [0.6666666666666666, \"#ed7953\"], [0.7777777777777778, \"#fb9f3a\"], [0.8888888888888888, \"#fdca26\"], [1.0, \"#f0f921\"]], \"type\": \"histogram2d\"}], \"histogram2dcontour\": [{\"colorbar\": {\"outlinewidth\": 0, \"ticks\": \"\"}, \"colorscale\": [[0.0, \"#0d0887\"], [0.1111111111111111, \"#46039f\"], [0.2222222222222222, \"#7201a8\"], [0.3333333333333333, \"#9c179e\"], [0.4444444444444444, \"#bd3786\"], [0.5555555555555556, \"#d8576b\"], [0.6666666666666666, \"#ed7953\"], [0.7777777777777778, \"#fb9f3a\"], [0.8888888888888888, \"#fdca26\"], [1.0, \"#f0f921\"]], \"type\": \"histogram2dcontour\"}], \"mesh3d\": [{\"colorbar\": {\"outlinewidth\": 0, \"ticks\": \"\"}, \"type\": \"mesh3d\"}], \"parcoords\": [{\"line\": {\"colorbar\": {\"outlinewidth\": 0, \"ticks\": \"\"}}, \"type\": \"parcoords\"}], \"pie\": [{\"automargin\": true, \"type\": \"pie\"}], \"scatter\": [{\"marker\": {\"colorbar\": {\"outlinewidth\": 0, \"ticks\": \"\"}}, \"type\": \"scatter\"}], \"scatter3d\": [{\"line\": {\"colorbar\": {\"outlinewidth\": 0, \"ticks\": \"\"}}, \"marker\": {\"colorbar\": {\"outlinewidth\": 0, \"ticks\": \"\"}}, \"type\": \"scatter3d\"}], \"scattercarpet\": [{\"marker\": {\"colorbar\": {\"outlinewidth\": 0, \"ticks\": \"\"}}, \"type\": \"scattercarpet\"}], \"scattergeo\": [{\"marker\": {\"colorbar\": {\"outlinewidth\": 0, \"ticks\": \"\"}}, \"type\": \"scattergeo\"}], \"scattergl\": [{\"marker\": {\"colorbar\": {\"outlinewidth\": 0, \"ticks\": \"\"}}, \"type\": \"scattergl\"}], \"scattermapbox\": [{\"marker\": {\"colorbar\": {\"outlinewidth\": 0, \"ticks\": \"\"}}, \"type\": \"scattermapbox\"}], \"scatterpolar\": [{\"marker\": {\"colorbar\": {\"outlinewidth\": 0, \"ticks\": \"\"}}, \"type\": \"scatterpolar\"}], \"scatterpolargl\": [{\"marker\": {\"colorbar\": {\"outlinewidth\": 0, \"ticks\": \"\"}}, \"type\": \"scatterpolargl\"}], \"scatterternary\": [{\"marker\": {\"colorbar\": {\"outlinewidth\": 0, \"ticks\": \"\"}}, \"type\": \"scatterternary\"}], \"surface\": [{\"colorbar\": {\"outlinewidth\": 0, \"ticks\": \"\"}, \"colorscale\": [[0.0, \"#0d0887\"], [0.1111111111111111, \"#46039f\"], [0.2222222222222222, \"#7201a8\"], [0.3333333333333333, \"#9c179e\"], [0.4444444444444444, \"#bd3786\"], [0.5555555555555556, \"#d8576b\"], [0.6666666666666666, \"#ed7953\"], [0.7777777777777778, \"#fb9f3a\"], [0.8888888888888888, \"#fdca26\"], [1.0, \"#f0f921\"]], \"type\": \"surface\"}], \"table\": [{\"cells\": {\"fill\": {\"color\": \"#EBF0F8\"}, \"line\": {\"color\": \"white\"}}, \"header\": {\"fill\": {\"color\": \"#C8D4E3\"}, \"line\": {\"color\": \"white\"}}, \"type\": \"table\"}]}, \"layout\": {\"annotationdefaults\": {\"arrowcolor\": \"#2a3f5f\", \"arrowhead\": 0, \"arrowwidth\": 1}, \"coloraxis\": {\"colorbar\": {\"outlinewidth\": 0, \"ticks\": \"\"}}, \"colorscale\": {\"diverging\": [[0, \"#8e0152\"], [0.1, \"#c51b7d\"], [0.2, \"#de77ae\"], [0.3, \"#f1b6da\"], [0.4, \"#fde0ef\"], [0.5, \"#f7f7f7\"], [0.6, \"#e6f5d0\"], [0.7, \"#b8e186\"], [0.8, \"#7fbc41\"], [0.9, \"#4d9221\"], [1, \"#276419\"]], \"sequential\": [[0.0, \"#0d0887\"], [0.1111111111111111, \"#46039f\"], [0.2222222222222222, \"#7201a8\"], [0.3333333333333333, \"#9c179e\"], [0.4444444444444444, \"#bd3786\"], [0.5555555555555556, \"#d8576b\"], [0.6666666666666666, \"#ed7953\"], [0.7777777777777778, \"#fb9f3a\"], [0.8888888888888888, \"#fdca26\"], [1.0, \"#f0f921\"]], \"sequentialminus\": [[0.0, \"#0d0887\"], [0.1111111111111111, \"#46039f\"], [0.2222222222222222, \"#7201a8\"], [0.3333333333333333, \"#9c179e\"], [0.4444444444444444, \"#bd3786\"], [0.5555555555555556, \"#d8576b\"], [0.6666666666666666, \"#ed7953\"], [0.7777777777777778, \"#fb9f3a\"], [0.8888888888888888, \"#fdca26\"], [1.0, \"#f0f921\"]]}, \"colorway\": [\"#636efa\", \"#EF553B\", \"#00cc96\", \"#ab63fa\", \"#FFA15A\", \"#19d3f3\", \"#FF6692\", \"#B6E880\", \"#FF97FF\", \"#FECB52\"], \"font\": {\"color\": \"#2a3f5f\"}, \"geo\": {\"bgcolor\": \"white\", \"lakecolor\": \"white\", \"landcolor\": \"#E5ECF6\", \"showlakes\": true, \"showland\": true, \"subunitcolor\": \"white\"}, \"hoverlabel\": {\"align\": \"left\"}, \"hovermode\": \"closest\", \"mapbox\": {\"style\": \"light\"}, \"paper_bgcolor\": \"white\", \"plot_bgcolor\": \"#E5ECF6\", \"polar\": {\"angularaxis\": {\"gridcolor\": \"white\", \"linecolor\": \"white\", \"ticks\": \"\"}, \"bgcolor\": \"#E5ECF6\", \"radialaxis\": {\"gridcolor\": \"white\", \"linecolor\": \"white\", \"ticks\": \"\"}}, \"scene\": {\"xaxis\": {\"backgroundcolor\": \"#E5ECF6\", \"gridcolor\": \"white\", \"gridwidth\": 2, \"linecolor\": \"white\", \"showbackground\": true, \"ticks\": \"\", \"zerolinecolor\": \"white\"}, \"yaxis\": {\"backgroundcolor\": \"#E5ECF6\", \"gridcolor\": \"white\", \"gridwidth\": 2, \"linecolor\": \"white\", \"showbackground\": true, \"ticks\": \"\", \"zerolinecolor\": \"white\"}, \"zaxis\": {\"backgroundcolor\": \"#E5ECF6\", \"gridcolor\": \"white\", \"gridwidth\": 2, \"linecolor\": \"white\", \"showbackground\": true, \"ticks\": \"\", \"zerolinecolor\": \"white\"}}, \"shapedefaults\": {\"line\": {\"color\": \"#2a3f5f\"}}, \"ternary\": {\"aaxis\": {\"gridcolor\": \"white\", \"linecolor\": \"white\", \"ticks\": \"\"}, \"baxis\": {\"gridcolor\": \"white\", \"linecolor\": \"white\", \"ticks\": \"\"}, \"bgcolor\": \"#E5ECF6\", \"caxis\": {\"gridcolor\": \"white\", \"linecolor\": \"white\", \"ticks\": \"\"}}, \"title\": {\"x\": 0.05}, \"xaxis\": {\"automargin\": true, \"gridcolor\": \"white\", \"linecolor\": \"white\", \"ticks\": \"\", \"title\": {\"standoff\": 15}, \"zerolinecolor\": \"white\", \"zerolinewidth\": 2}, \"yaxis\": {\"automargin\": true, \"gridcolor\": \"white\", \"linecolor\": \"white\", \"ticks\": \"\", \"title\": {\"standoff\": 15}, \"zerolinecolor\": \"white\", \"zerolinewidth\": 2}}}, \"title\": {\"text\": \"Pessoal Ocupado nos Espa\\u00e7os Metropolitanos segundo n\\u00edvel tecnol\\u00f3gico da ind\\u00fastria entre 2007 e 2017\"}, \"xaxis\": {\"anchor\": \"y\", \"domain\": [0.0, 0.98], \"title\": {\"text\": \"Ano\"}}, \"xaxis10\": {\"anchor\": \"y10\", \"domain\": [0.0, 0.98], \"matches\": \"x\", \"showticklabels\": false}, \"xaxis11\": {\"anchor\": \"y11\", \"domain\": [0.0, 0.98], \"matches\": \"x\", \"showticklabels\": false}, \"xaxis12\": {\"anchor\": \"y12\", \"domain\": [0.0, 0.98], \"matches\": \"x\", \"showticklabels\": false}, \"xaxis13\": {\"anchor\": \"y13\", \"domain\": [0.0, 0.98], \"matches\": \"x\", \"showticklabels\": false}, \"xaxis2\": {\"anchor\": \"y2\", \"domain\": [0.0, 0.98], \"matches\": \"x\", \"showticklabels\": false}, \"xaxis3\": {\"anchor\": \"y3\", \"domain\": [0.0, 0.98], \"matches\": \"x\", \"showticklabels\": false}, \"xaxis4\": {\"anchor\": \"y4\", \"domain\": [0.0, 0.98], \"matches\": \"x\", \"showticklabels\": false}, \"xaxis5\": {\"anchor\": \"y5\", \"domain\": [0.0, 0.98], \"matches\": \"x\", \"showticklabels\": false}, \"xaxis6\": {\"anchor\": \"y6\", \"domain\": [0.0, 0.98], \"matches\": \"x\", \"showticklabels\": false}, \"xaxis7\": {\"anchor\": \"y7\", \"domain\": [0.0, 0.98], \"matches\": \"x\", \"showticklabels\": false}, \"xaxis8\": {\"anchor\": \"y8\", \"domain\": [0.0, 0.98], \"matches\": \"x\", \"showticklabels\": false}, \"xaxis9\": {\"anchor\": \"y9\", \"domain\": [0.0, 0.98], \"matches\": \"x\", \"showticklabels\": false}, \"yaxis\": {\"anchor\": \"x\", \"domain\": [0.0, 0.04923076923076924], \"title\": {\"text\": \"Pessoal\"}}, \"yaxis10\": {\"anchor\": \"x10\", \"domain\": [0.7130769230769232, 0.7623076923076924], \"matches\": \"y\", \"title\": {\"text\": \"Pessoal\"}}, \"yaxis11\": {\"anchor\": \"x11\", \"domain\": [0.7923076923076924, 0.8415384615384616], \"matches\": \"y\", \"title\": {\"text\": \"Pessoal\"}}, \"yaxis12\": {\"anchor\": \"x12\", \"domain\": [0.8715384615384616, 0.9207692307692308], \"matches\": \"y\", \"title\": {\"text\": \"Pessoal\"}}, \"yaxis13\": {\"anchor\": \"x13\", \"domain\": [0.9507692307692308, 1.0], \"matches\": \"y\", \"title\": {\"text\": \"Pessoal\"}}, \"yaxis2\": {\"anchor\": \"x2\", \"domain\": [0.07923076923076924, 0.1284615384615385], \"matches\": \"y\", \"title\": {\"text\": \"Pessoal\"}}, \"yaxis3\": {\"anchor\": \"x3\", \"domain\": [0.1584615384615385, 0.20769230769230773], \"matches\": \"y\", \"title\": {\"text\": \"Pessoal\"}}, \"yaxis4\": {\"anchor\": \"x4\", \"domain\": [0.2376923076923077, 0.28692307692307695], \"matches\": \"y\", \"title\": {\"text\": \"Pessoal\"}}, \"yaxis5\": {\"anchor\": \"x5\", \"domain\": [0.316923076923077, 0.3661538461538462], \"matches\": \"y\", \"title\": {\"text\": \"Pessoal\"}}, \"yaxis6\": {\"anchor\": \"x6\", \"domain\": [0.3961538461538462, 0.44538461538461543], \"matches\": \"y\", \"title\": {\"text\": \"Pessoal\"}}, \"yaxis7\": {\"anchor\": \"x7\", \"domain\": [0.4753846153846154, 0.5246153846153846], \"matches\": \"y\", \"title\": {\"text\": \"Pessoal\"}}, \"yaxis8\": {\"anchor\": \"x8\", \"domain\": [0.5546153846153846, 0.6038461538461538], \"matches\": \"y\", \"title\": {\"text\": \"Pessoal\"}}, \"yaxis9\": {\"anchor\": \"x9\", \"domain\": [0.633846153846154, 0.6830769230769231], \"matches\": \"y\", \"title\": {\"text\": \"Pessoal\"}}},                        {\"responsive\": true}                    ).then(function(){\n",
       "                            \n",
       "var gd = document.getElementById('9d1abe59-f712-46ba-8625-919ebbd06dae');\n",
       "var x = new MutationObserver(function (mutations, observer) {{\n",
       "        var display = window.getComputedStyle(gd).display;\n",
       "        if (!display || display === 'none') {{\n",
       "            console.log([gd, 'removed!']);\n",
       "            Plotly.purge(gd);\n",
       "            observer.disconnect();\n",
       "        }}\n",
       "}});\n",
       "\n",
       "// Listen for the removal of the full notebook cells\n",
       "var notebookContainer = gd.closest('#notebook-container');\n",
       "if (notebookContainer) {{\n",
       "    x.observe(notebookContainer, {childList: true});\n",
       "}}\n",
       "\n",
       "// Listen for the clearing of the current output cell\n",
       "var outputEl = gd.closest('.output');\n",
       "if (outputEl) {{\n",
       "    x.observe(outputEl, {childList: true});\n",
       "}}\n",
       "\n",
       "                        })                };                });            </script>        </div>"
      ]
     },
     "metadata": {},
     "output_type": "display_data"
    }
   ],
   "source": [
    "fig = px.bar(\n",
    "    data_frame=df\n",
    "    , x='Ano'\n",
    "    , y='Pessoal'\n",
    "    , facet_row='Espaço Metropolitano'\n",
    "    , color='Nível Tecnológico'\n",
    "    , title=f'Pessoal Ocupado nos Espaços Metropolitanos segundo nível tecnológico da indústria entre 2007 e 2017'\n",
    "    , height=4000\n",
    "    , color_discrete_map={\n",
    "        'Alto':'rgb(103,0,31)'\n",
    "        , 'Médio-Alto':'rgb(178,24,43)'\n",
    "        , 'Médio-Baixo':'rgb(214,96,77)'\n",
    "        , 'Baixo':'rgb(244,165,130)'\n",
    "    }\n",
    "    , color_discrete_sequence=['rgb(141, 201, 199)', 'rgb(136, 136, 238)', '#1F77B4', 'rgb(250, 255, 195)', 'rgb(228,70,70)']\n",
    "#    , range_y=(0,50000)\n",
    "    , text='Pessoal'\n",
    ")\n",
    "\n",
    "\n",
    "fig.show()"
   ]
  }
 ],
 "metadata": {
  "kernelspec": {
   "display_name": "innovation_panel",
   "language": "python",
   "name": "innovation_panel"
  },
  "language_info": {
   "codemirror_mode": {
    "name": "ipython",
    "version": 3
   },
   "file_extension": ".py",
   "mimetype": "text/x-python",
   "name": "python",
   "nbconvert_exporter": "python",
   "pygments_lexer": "ipython3",
   "version": "3.6.10"
  },
  "toc": {
   "base_numbering": 1,
   "nav_menu": {},
   "number_sections": true,
   "sideBar": true,
   "skip_h1_title": true,
   "title_cell": "Table of Contents",
   "title_sidebar": "Contents",
   "toc_cell": false,
   "toc_position": {},
   "toc_section_display": true,
   "toc_window_display": false
  }
 },
 "nbformat": 4,
 "nbformat_minor": 4
}
