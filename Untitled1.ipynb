{
 "cells": [
  {
   "cell_type": "code",
   "execution_count": 1,
   "metadata": {
    "ExecuteTime": {
     "end_time": "2020-11-03T14:40:49.038897Z",
     "start_time": "2020-11-03T14:40:48.796019Z"
    }
   },
   "outputs": [],
   "source": [
    "import app_rais.collect as collect"
   ]
  },
  {
   "cell_type": "code",
   "execution_count": 2,
   "metadata": {
    "ExecuteTime": {
     "end_time": "2020-11-03T14:40:58.344247Z",
     "start_time": "2020-11-03T14:40:58.276811Z"
    }
   },
   "outputs": [],
   "source": [
    "collect.download_rais"
   ]
  },
  {
   "cell_type": "code",
   "execution_count": null,
   "metadata": {},
   "outputs": [],
   "source": [
    "for maps in aponpoa:\n",
    "    onansdpnpans"
   ]
  }
 ],
 "metadata": {
  "kernelspec": {
   "display_name": "innovation_panel",
   "language": "python",
   "name": "innovation_panel"
  },
  "language_info": {
   "codemirror_mode": {
    "name": "ipython",
    "version": 3
   },
   "file_extension": ".py",
   "mimetype": "text/x-python",
   "name": "python",
   "nbconvert_exporter": "python",
   "pygments_lexer": "ipython3",
   "version": "3.6.10"
  },
  "toc": {
   "base_numbering": 1,
   "nav_menu": {},
   "number_sections": true,
   "sideBar": true,
   "skip_h1_title": false,
   "title_cell": "Table of Contents",
   "title_sidebar": "Contents",
   "toc_cell": false,
   "toc_position": {},
   "toc_section_display": true,
   "toc_window_display": false
  }
 },
 "nbformat": 4,
 "nbformat_minor": 4
}
