{
 "cells": [
  {
   "cell_type": "markdown",
   "metadata": {},
   "source": [
    "Talvez eu possa fazer com que as funções que exportam as tabelas façam isso mais detalhe. Com isso, posso colocar na função de impressão os filtros necessários para que haja seleção do tipo de nível granular que deve aparecer no gráfico."
   ]
  },
  {
   "cell_type": "code",
   "execution_count": 8,
   "metadata": {
    "ExecuteTime": {
     "end_time": "2020-10-12T01:29:01.302401Z",
     "start_time": "2020-10-12T01:29:01.286409Z"
    }
   },
   "outputs": [
    {
     "name": "stdout",
     "output_type": "stream",
     "text": [
      "Success: the bamboolib extension was enabled successfully. You can disable it via 'bam.disable()'. You will now see a magic bamboolib button when you display your dataframes, for example via 'df'\n"
     ]
    }
   ],
   "source": [
    "import numpy as np\n",
    "import pandas as pd\n",
    "from pandas.api.types import CategoricalDtype\n",
    "pd.options.display.float_format = '{:,.2f}'.format\n",
    "import plotly.express as px\n",
    "import bamboolib as bam\n",
    "import glob\n",
    "import os\n",
    "bam.enable()\n",
    "#bam.disable()\n",
    "import app_rais.potec as potec\n",
    "import app_rais.dicts_constants as dc\n",
    "import app_rais.treat as treat"
   ]
  },
  {
   "cell_type": "code",
   "execution_count": 2,
   "metadata": {
    "ExecuteTime": {
     "end_time": "2020-10-12T01:07:29.459506Z",
     "start_time": "2020-10-12T01:07:25.454488Z"
    }
   },
   "outputs": [
    {
     "name": "stdout",
     "output_type": "stream",
     "text": [
      "Wall time: 3.99 s\n"
     ]
    }
   ],
   "source": [
    "%%time\n",
    "df_2007 = treat.generate_rais_dataframe(list_ufs=['PR'], year=2007)"
   ]
  },
  {
   "cell_type": "code",
   "execution_count": 3,
   "metadata": {
    "ExecuteTime": {
     "end_time": "2020-10-12T01:07:29.804984Z",
     "start_time": "2020-10-12T01:07:29.460426Z"
    }
   },
   "outputs": [
    {
     "data": {
      "application/vnd.jupyter.widget-view+json": {
       "model_id": "690416473dfc4f4091691bfa338f0713"
      },
      "text/html": [
       "<div>\n",
       "<style scoped>\n",
       "    .dataframe tbody tr th:only-of-type {\n",
       "        vertical-align: middle;\n",
       "    }\n",
       "\n",
       "    .dataframe tbody tr th {\n",
       "        vertical-align: top;\n",
       "    }\n",
       "\n",
       "    .dataframe thead th {\n",
       "        text-align: right;\n",
       "    }\n",
       "</style>\n",
       "<table border=\"1\" class=\"dataframe\">\n",
       "  <thead>\n",
       "    <tr style=\"text-align: right;\">\n",
       "      <th></th>\n",
       "      <th>UF</th>\n",
       "      <th>Território</th>\n",
       "      <th>Sectors</th>\n",
       "      <th>Tamanho Estabelecimento</th>\n",
       "      <th>Natureza Jurídica Grupo</th>\n",
       "      <th>Natureza Jurídica</th>\n",
       "      <th>knowledge_services</th>\n",
       "      <th>technology_industries</th>\n",
       "      <th>Potec Grupo</th>\n",
       "      <th>potec</th>\n",
       "      <th>Escolaridade1</th>\n",
       "      <th>Escolaridade2</th>\n",
       "      <th>Pessoal</th>\n",
       "    </tr>\n",
       "  </thead>\n",
       "  <tbody>\n",
       "    <tr>\n",
       "      <th>0</th>\n",
       "      <td>PR</td>\n",
       "      <td>Demais Municípios do Paraná</td>\n",
       "      <td>Services</td>\n",
       "      <td>Até 49</td>\n",
       "      <td>Entidades Empresariais</td>\n",
       "      <td>SOC QT LTDA</td>\n",
       "      <td>High-tech knowledge-intensive services</td>\n",
       "      <td>Without Classification</td>\n",
       "      <td>Demais Ocupações</td>\n",
       "      <td>Demais Ocupações</td>\n",
       "      <td>Não-Superior</td>\n",
       "      <td>Inferior ao Ensino Médio Completo</td>\n",
       "      <td>1</td>\n",
       "    </tr>\n",
       "    <tr>\n",
       "      <th>1</th>\n",
       "      <td>PR</td>\n",
       "      <td>Demais Municípios do Paraná</td>\n",
       "      <td>Services</td>\n",
       "      <td>Até 49</td>\n",
       "      <td>Entidades Empresariais</td>\n",
       "      <td>SOC QT LTDA</td>\n",
       "      <td>High-tech knowledge-intensive services</td>\n",
       "      <td>Without Classification</td>\n",
       "      <td>Demais Ocupações</td>\n",
       "      <td>Demais Ocupações</td>\n",
       "      <td>Não-Superior</td>\n",
       "      <td>Inferior ao Ensino Médio Completo</td>\n",
       "      <td>7</td>\n",
       "    </tr>\n",
       "    <tr>\n",
       "      <th>2</th>\n",
       "      <td>PR</td>\n",
       "      <td>Demais Municípios do Paraná</td>\n",
       "      <td>Services</td>\n",
       "      <td>Até 49</td>\n",
       "      <td>Entidades Empresariais</td>\n",
       "      <td>SOC QT LTDA</td>\n",
       "      <td>High-tech knowledge-intensive services</td>\n",
       "      <td>Without Classification</td>\n",
       "      <td>Profissionais científicos</td>\n",
       "      <td>Profissionais da Informática</td>\n",
       "      <td>Não-Superior</td>\n",
       "      <td>Inferior ao Ensino Médio Completo</td>\n",
       "      <td>1</td>\n",
       "    </tr>\n",
       "    <tr>\n",
       "      <th>3</th>\n",
       "      <td>PR</td>\n",
       "      <td>Demais Municípios do Paraná</td>\n",
       "      <td>Services</td>\n",
       "      <td>Até 49</td>\n",
       "      <td>Entidades Empresariais</td>\n",
       "      <td>SOC QT LTDA</td>\n",
       "      <td>High-tech knowledge-intensive services</td>\n",
       "      <td>Without Classification</td>\n",
       "      <td>Demais Ocupações</td>\n",
       "      <td>Demais Ocupações</td>\n",
       "      <td>Não-Superior</td>\n",
       "      <td>Inferior ao Ensino Médio Completo</td>\n",
       "      <td>10</td>\n",
       "    </tr>\n",
       "    <tr>\n",
       "      <th>4</th>\n",
       "      <td>PR</td>\n",
       "      <td>Demais Municípios do Paraná</td>\n",
       "      <td>Services</td>\n",
       "      <td>Até 49</td>\n",
       "      <td>Entidades Empresariais</td>\n",
       "      <td>SOC QT LTDA</td>\n",
       "      <td>High-tech knowledge-intensive services</td>\n",
       "      <td>Without Classification</td>\n",
       "      <td>Demais Ocupações</td>\n",
       "      <td>Demais Ocupações</td>\n",
       "      <td>Não-Superior</td>\n",
       "      <td>Inferior ao Ensino Médio Completo</td>\n",
       "      <td>33</td>\n",
       "    </tr>\n",
       "    <tr>\n",
       "      <th>...</th>\n",
       "      <td>...</td>\n",
       "      <td>...</td>\n",
       "      <td>...</td>\n",
       "      <td>...</td>\n",
       "      <td>...</td>\n",
       "      <td>...</td>\n",
       "      <td>...</td>\n",
       "      <td>...</td>\n",
       "      <td>...</td>\n",
       "      <td>...</td>\n",
       "      <td>...</td>\n",
       "      <td>...</td>\n",
       "      <td>...</td>\n",
       "    </tr>\n",
       "    <tr>\n",
       "      <th>13700</th>\n",
       "      <td>PR</td>\n",
       "      <td>Arranjo Populacional de Curitiba/PR</td>\n",
       "      <td>Services</td>\n",
       "      <td>a partir de 1000</td>\n",
       "      <td>Administração Pública</td>\n",
       "      <td>POD JUD FED</td>\n",
       "      <td>Other knowledge-intensive services</td>\n",
       "      <td>Without Classification</td>\n",
       "      <td>Profissionais científicos</td>\n",
       "      <td>Profissionais da Informática</td>\n",
       "      <td>Superior</td>\n",
       "      <td>Superior</td>\n",
       "      <td>11</td>\n",
       "    </tr>\n",
       "    <tr>\n",
       "      <th>13701</th>\n",
       "      <td>PR</td>\n",
       "      <td>Arranjo Populacional de Curitiba/PR</td>\n",
       "      <td>Services</td>\n",
       "      <td>a partir de 1000</td>\n",
       "      <td>Administração Pública</td>\n",
       "      <td>POD JUD FED</td>\n",
       "      <td>Other knowledge-intensive services</td>\n",
       "      <td>Without Classification</td>\n",
       "      <td>Demais Ocupações</td>\n",
       "      <td>Demais Ocupações</td>\n",
       "      <td>Superior</td>\n",
       "      <td>Superior</td>\n",
       "      <td>2785</td>\n",
       "    </tr>\n",
       "    <tr>\n",
       "      <th>13702</th>\n",
       "      <td>PR</td>\n",
       "      <td>Arranjo Populacional de Curitiba/PR</td>\n",
       "      <td>Services</td>\n",
       "      <td>a partir de 1000</td>\n",
       "      <td>Administração Pública</td>\n",
       "      <td>POD JUD FED</td>\n",
       "      <td>Other knowledge-intensive services</td>\n",
       "      <td>Without Classification</td>\n",
       "      <td>Profissionais científicos</td>\n",
       "      <td>Profissionais da Informática</td>\n",
       "      <td>Mestrado</td>\n",
       "      <td>Mestrado</td>\n",
       "      <td>4</td>\n",
       "    </tr>\n",
       "    <tr>\n",
       "      <th>13703</th>\n",
       "      <td>PR</td>\n",
       "      <td>Arranjo Populacional de Curitiba/PR</td>\n",
       "      <td>Services</td>\n",
       "      <td>a partir de 1000</td>\n",
       "      <td>Administração Pública</td>\n",
       "      <td>POD JUD FED</td>\n",
       "      <td>Other knowledge-intensive services</td>\n",
       "      <td>Without Classification</td>\n",
       "      <td>Demais Ocupações</td>\n",
       "      <td>Demais Ocupações</td>\n",
       "      <td>Mestrado</td>\n",
       "      <td>Mestrado</td>\n",
       "      <td>46</td>\n",
       "    </tr>\n",
       "    <tr>\n",
       "      <th>13704</th>\n",
       "      <td>PR</td>\n",
       "      <td>Arranjo Populacional de Curitiba/PR</td>\n",
       "      <td>Services</td>\n",
       "      <td>a partir de 1000</td>\n",
       "      <td>Administração Pública</td>\n",
       "      <td>POD JUD FED</td>\n",
       "      <td>Other knowledge-intensive services</td>\n",
       "      <td>Without Classification</td>\n",
       "      <td>Demais Ocupações</td>\n",
       "      <td>Demais Ocupações</td>\n",
       "      <td>Doutorado</td>\n",
       "      <td>Doutorado</td>\n",
       "      <td>1</td>\n",
       "    </tr>\n",
       "  </tbody>\n",
       "</table>\n",
       "<p>13705 rows × 13 columns</p>\n",
       "</div>"
      ],
      "text/plain": [
       "       UF                           Território   Sectors  \\\n",
       "0      PR          Demais Municípios do Paraná  Services   \n",
       "1      PR          Demais Municípios do Paraná  Services   \n",
       "2      PR          Demais Municípios do Paraná  Services   \n",
       "3      PR          Demais Municípios do Paraná  Services   \n",
       "4      PR          Demais Municípios do Paraná  Services   \n",
       "...    ..                                  ...       ...   \n",
       "13700  PR  Arranjo Populacional de Curitiba/PR  Services   \n",
       "13701  PR  Arranjo Populacional de Curitiba/PR  Services   \n",
       "13702  PR  Arranjo Populacional de Curitiba/PR  Services   \n",
       "13703  PR  Arranjo Populacional de Curitiba/PR  Services   \n",
       "13704  PR  Arranjo Populacional de Curitiba/PR  Services   \n",
       "\n",
       "      Tamanho Estabelecimento Natureza Jurídica Grupo Natureza Jurídica  \\\n",
       "0                      Até 49  Entidades Empresariais       SOC QT LTDA   \n",
       "1                      Até 49  Entidades Empresariais       SOC QT LTDA   \n",
       "2                      Até 49  Entidades Empresariais       SOC QT LTDA   \n",
       "3                      Até 49  Entidades Empresariais       SOC QT LTDA   \n",
       "4                      Até 49  Entidades Empresariais       SOC QT LTDA   \n",
       "...                       ...                     ...               ...   \n",
       "13700        a partir de 1000   Administração Pública       POD JUD FED   \n",
       "13701        a partir de 1000   Administração Pública       POD JUD FED   \n",
       "13702        a partir de 1000   Administração Pública       POD JUD FED   \n",
       "13703        a partir de 1000   Administração Pública       POD JUD FED   \n",
       "13704        a partir de 1000   Administração Pública       POD JUD FED   \n",
       "\n",
       "                           knowledge_services   technology_industries  \\\n",
       "0      High-tech knowledge-intensive services  Without Classification   \n",
       "1      High-tech knowledge-intensive services  Without Classification   \n",
       "2      High-tech knowledge-intensive services  Without Classification   \n",
       "3      High-tech knowledge-intensive services  Without Classification   \n",
       "4      High-tech knowledge-intensive services  Without Classification   \n",
       "...                                       ...                     ...   \n",
       "13700      Other knowledge-intensive services  Without Classification   \n",
       "13701      Other knowledge-intensive services  Without Classification   \n",
       "13702      Other knowledge-intensive services  Without Classification   \n",
       "13703      Other knowledge-intensive services  Without Classification   \n",
       "13704      Other knowledge-intensive services  Without Classification   \n",
       "\n",
       "                     Potec Grupo                         potec Escolaridade1  \\\n",
       "0               Demais Ocupações              Demais Ocupações  Não-Superior   \n",
       "1               Demais Ocupações              Demais Ocupações  Não-Superior   \n",
       "2      Profissionais científicos  Profissionais da Informática  Não-Superior   \n",
       "3               Demais Ocupações              Demais Ocupações  Não-Superior   \n",
       "4               Demais Ocupações              Demais Ocupações  Não-Superior   \n",
       "...                          ...                           ...           ...   \n",
       "13700  Profissionais científicos  Profissionais da Informática      Superior   \n",
       "13701           Demais Ocupações              Demais Ocupações      Superior   \n",
       "13702  Profissionais científicos  Profissionais da Informática      Mestrado   \n",
       "13703           Demais Ocupações              Demais Ocupações      Mestrado   \n",
       "13704           Demais Ocupações              Demais Ocupações     Doutorado   \n",
       "\n",
       "                           Escolaridade2  Pessoal  \n",
       "0      Inferior ao Ensino Médio Completo        1  \n",
       "1      Inferior ao Ensino Médio Completo        7  \n",
       "2      Inferior ao Ensino Médio Completo        1  \n",
       "3      Inferior ao Ensino Médio Completo       10  \n",
       "4      Inferior ao Ensino Médio Completo       33  \n",
       "...                                  ...      ...  \n",
       "13700                           Superior       11  \n",
       "13701                           Superior     2785  \n",
       "13702                           Mestrado        4  \n",
       "13703                           Mestrado       46  \n",
       "13704                          Doutorado        1  \n",
       "\n",
       "[13705 rows x 13 columns]"
      ]
     },
     "metadata": {},
     "output_type": "display_data"
    }
   ],
   "source": [
    "df_2007"
   ]
  },
  {
   "cell_type": "code",
   "execution_count": 4,
   "metadata": {
    "ExecuteTime": {
     "end_time": "2020-10-12T01:28:27.238293Z",
     "start_time": "2020-10-12T01:07:29.804984Z"
    }
   },
   "outputs": [
    {
     "name": "stdout",
     "output_type": "stream",
     "text": [
      "ufs_with_motropolises_2007 saved.\n",
      "ufs_with_motropolises_2008 saved.\n",
      "ufs_with_motropolises_2009 saved.\n",
      "ufs_with_motropolises_2010 saved.\n",
      "ufs_with_motropolises_2011 saved.\n",
      "ufs_with_motropolises_2012 saved.\n",
      "ufs_with_motropolises_2013 saved.\n",
      "ufs_with_motropolises_2014 saved.\n",
      "ufs_with_motropolises_2015 saved.\n",
      "ufs_with_motropolises_2016 saved.\n",
      "ufs_with_motropolises_2017 saved.\n",
      "Wall time: 20min 57s\n"
     ]
    }
   ],
   "source": [
    "%%time\n",
    "treat.load_save_rais_dataframe_loop(\n",
    "    list_ufs=['AM', 'BA', 'CE', 'DF', 'ES', 'GO', 'MG','PA','PE','PR','RJ','RS','SC','SP']\n",
    "    , list_years=list(range(2007,2018)\n",
    "          )\n",
    ")"
   ]
  },
  {
   "cell_type": "code",
   "execution_count": 9,
   "metadata": {
    "ExecuteTime": {
     "end_time": "2020-10-12T01:29:06.429664Z",
     "start_time": "2020-10-12T01:29:06.421668Z"
    }
   },
   "outputs": [
    {
     "name": "stdout",
     "output_type": "stream",
     "text": [
      "Resulting treated files occupy 0.14GB in disk.\n"
     ]
    }
   ],
   "source": [
    "list_files = glob.glob(f'app_rais/data/rais_dataframe/**.ftd')\n",
    "size = round(sum(os.path.getsize(file) for file in list_files) * 1e-9, 2)\n",
    "print(f'Resulting treated files occupy {size}GB in disk.')"
   ]
  }
 ],
 "metadata": {
  "kernelspec": {
   "display_name": "inovation_panel",
   "language": "python",
   "name": "inovation_panel"
  },
  "language_info": {
   "codemirror_mode": {
    "name": "ipython",
    "version": 3
   },
   "file_extension": ".py",
   "mimetype": "text/x-python",
   "name": "python",
   "nbconvert_exporter": "python",
   "pygments_lexer": "ipython3",
   "version": "3.6.10"
  },
  "toc": {
   "base_numbering": 1,
   "nav_menu": {},
   "number_sections": true,
   "sideBar": true,
   "skip_h1_title": false,
   "title_cell": "Table of Contents",
   "title_sidebar": "Contents",
   "toc_cell": false,
   "toc_position": {},
   "toc_section_display": true,
   "toc_window_display": false
  }
 },
 "nbformat": 4,
 "nbformat_minor": 4
}
